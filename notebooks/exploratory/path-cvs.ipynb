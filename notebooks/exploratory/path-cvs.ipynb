{
 "cells": [
  {
   "cell_type": "code",
   "execution_count": 2,
   "metadata": {},
   "outputs": [],
   "source": [
    "import numpy as np\n",
    "import matplotlib.pyplot as plt\n",
    "import mdtraj as md\n",
    "import seaborn as sns\n",
    "import sys\n",
    "\n",
    "sys.path.insert(1, \"../../python/\")\n",
    "import util\n",
    "import plotting"
   ]
  },
  {
   "cell_type": "code",
   "execution_count": 3,
   "metadata": {},
   "outputs": [],
   "source": [
    "plt.style.use(\"seaborn-ticks\")\n",
    "# sns.set_palette()"
   ]
  },
  {
   "cell_type": "code",
   "execution_count": 4,
   "metadata": {},
   "outputs": [],
   "source": [
    "import pyemma\n",
    "from pyemma import coordinates"
   ]
  },
  {
   "cell_type": "markdown",
   "metadata": {},
   "source": [
    "CV definitions taken from Delemotte, PNAS 2015\n",
    "\n",
    "For each arginine $R_i$ we have\n",
    "$$CV_{R_i} = B(S_f) - B(S_i) + \\kappa x$$\n",
    "where $S_f$ and $S_i$ are the starting and initial \"groups\" for the transition of interest. In our case, these are generally going to be the negatively charged residues (either E183/D186 or D129), and e.g. for the down -> up transition we will consider $CV_{R229}$ with $S_f$ as D129 and $S_i$ as E183/D186.\n",
    "\n",
    "The binding values are computed as a generalized logistic function\n",
    "$$B(S) = (1 + a\\exp[-b(S - c)])^{-1}$$\n",
    "with the binding function at the given group defined by\n",
    "$$S = \\sum_i\\sum_j\\exp[-(r_{ij} - d_0)^2 / 2r_0^2]$$\n",
    "where $i,j$ are atoms from the positively charged (arginine) and negatively charged groups, respectively, $d_0$ and $r_0$ are equilibrium averages and deviations.\n",
    "The parameters $a,b,c$ are fit to equilibrium distributions of groups, such as the distance for binding at half-maximum."
   ]
  },
  {
   "cell_type": "code",
   "execution_count": 5,
   "metadata": {},
   "outputs": [
    {
     "name": "stdout",
     "output_type": "stream",
     "text": [
      "(3000000, 60) (3000000, 2)\n"
     ]
    }
   ],
   "source": [
    "# load data\n",
    "sb_trajs = np.load(\"../../data/raw_feat/feat2_raw_anton.npy\", allow_pickle=True)\n",
    "sb_arr = np.concatenate(sb_trajs)\n",
    "cv_trajs = np.load(\"../../data/raw_feat/cv_dist_spin_anton.npy\", allow_pickle=True)\n",
    "cv_arr = np.concatenate(cv_trajs)\n",
    "print(sb_arr.shape, cv_arr.shape)"
   ]
  },
  {
   "cell_type": "code",
   "execution_count": 6,
   "metadata": {},
   "outputs": [],
   "source": [
    "# define down state and up state to determine equilibrium trajectories\n",
    "dist = cv_arr[:, 0]\n",
    "rot = cv_arr[:, 1]\n",
    "# tic1 = livac_arr[:, 1]\n",
    "# tic2 = livac_arr[:, 2]\n",
    "sb1 = sb_arr[:, 42]  # R226-D129\n",
    "sb2 = sb_arr[:, 47]  # R226-D186\n",
    "sb3 = sb_arr[:, 48]  # R229-D129\n",
    "sb4 = sb_arr[:, 53]  # R229-D186\n",
    "sb5 = sb_arr[:, 59]  # R232-D186\n",
    "\n",
    "\n",
    "# ellipse centered at down centroid with radii 1.1 nm and 8 deg (1 sigma in each direction)\n",
    "# take points where TIC 1 < 1.2 and R2-D186 < 0.5 (lower salt bridges), R2-D129 > 0.6 (upper salt bridge)\n",
    "dist_ax_down = (dist + 4.240) / 1.1\n",
    "rot_ax_down = (rot + 56.95) / 8\n",
    "down = ((dist_ax_down ** 2 + rot_ax_down ** 2) < 1) & (sb1 > 0.6) & (sb2 < 0.5)\n",
    "\n",
    "# ellipse centered at up centroid with radii 0.84 nm and 7.6 deg (2 sigma in each direction)\n",
    "# take points where TIC 2 > -1.0, R2-D129 (up) < 0.5, R3-D129 < 1.1, R3/R4-D186 salt bridges < 0.75/0.6 nm\n",
    "up = (\n",
    "    ((((dist + 0.506) / 0.84) ** 2 + ((rot - 3.94) / 7.6) ** 2) < 1)\n",
    "    & (sb1 < 0.5)\n",
    "    & (sb3 < 1.1)\n",
    "    & (sb4 < 0.75)\n",
    "    & (sb5 < 0.6)\n",
    ")"
   ]
  },
  {
   "cell_type": "code",
   "execution_count": 9,
   "metadata": {},
   "outputs": [],
   "source": [
    "# split into trajectories\n",
    "traj_lens = [len(traj) for traj in cv_trajs]\n",
    "traj_inds = []\n",
    "subtot = 0\n",
    "for length in traj_lens[:-1]:\n",
    "    subtot += length\n",
    "    traj_inds.append(subtot)\n",
    "\n",
    "down_trajs = np.split(down, traj_inds)\n",
    "up_trajs = np.split(up, traj_inds)"
   ]
  },
  {
   "cell_type": "code",
   "execution_count": 17,
   "metadata": {},
   "outputs": [],
   "source": [
    "def in_trajs(traj_list, cutoff=0.95):\n",
    "    ids = []\n",
    "    for i, traj in enumerate(traj_list):\n",
    "        min_in = cutoff * len(traj)\n",
    "        n_in = np.count_nonzero(traj)\n",
    "        if n_in > min_in:\n",
    "            ids.append(i)\n",
    "    return ids"
   ]
  },
  {
   "cell_type": "code",
   "execution_count": 21,
   "metadata": {},
   "outputs": [
    {
     "name": "stdout",
     "output_type": "stream",
     "text": [
      "[113]\n",
      "[]\n"
     ]
    }
   ],
   "source": [
    "print(in_trajs(down_trajs, cutoff=0.25))\n",
    "print(in_trajs(up_trajs, cutoff=0.25))"
   ]
  },
  {
   "cell_type": "code",
   "execution_count": 23,
   "metadata": {},
   "outputs": [],
   "source": [
    "sb_labels = {}\n",
    "i = 30  # corresponds to the dimension in the salt bridges features\n",
    "for r in (\"R217\", \"R223\", \"R226\", \"R229\", \"R232\"):\n",
    "    for n in (\"D129\", \"D136\", \"D151\", \"D164\", \"E183\", \"D186\"):\n",
    "        sb_labels[i] = f\"{r} - {n}\"\n",
    "        i += 1"
   ]
  },
  {
   "cell_type": "code",
   "execution_count": 27,
   "metadata": {},
   "outputs": [
    {
     "data": {
      "text/plain": [
       "'R229 - E183'"
      ]
     },
     "execution_count": 27,
     "metadata": {},
     "output_type": "execute_result"
    }
   ],
   "source": [
    "sb_labels[52]"
   ]
  },
  {
   "cell_type": "code",
   "execution_count": 56,
   "metadata": {},
   "outputs": [],
   "source": [
    "# compute equilibrium average and standard deviation for R226-D183/186 and R226-D129 salt bridges\n",
    "down_ids = down.nonzero()[0]\n",
    "up_ids = up.nonzero()[0]\n",
    "down_sbs = sb_arr[down_ids]\n",
    "up_sbs = sb_arr[up_ids]\n",
    "\n",
    "down_stats, up_stats = [], []\n",
    "for i in (42, 46, 47):\n",
    "    down_stats.append((np.mean(down_sbs[:, i]), np.std(down_sbs[:, i])))\n",
    "    up_stats.append((np.mean(up_sbs[:, i]), np.std(up_sbs[:, i])))\n",
    "down_stats = np.array(down_stats)\n",
    "up_stats = np.array(up_stats)"
   ]
  },
  {
   "cell_type": "code",
   "execution_count": 57,
   "metadata": {},
   "outputs": [
    {
     "data": {
      "text/plain": [
       "array([[0.9191095 , 0.184133  ],\n",
       "       [0.9566373 , 0.1030899 ],\n",
       "       [0.41627595, 0.03069055]], dtype=float32)"
      ]
     },
     "execution_count": 57,
     "metadata": {},
     "output_type": "execute_result"
    }
   ],
   "source": [
    "down_stats"
   ]
  },
  {
   "cell_type": "code",
   "execution_count": 58,
   "metadata": {},
   "outputs": [
    {
     "data": {
      "text/plain": [
       "array([[0.4080802 , 0.02148465],\n",
       "       [1.9973828 , 0.11121254],\n",
       "       [1.4401814 , 0.11392487]], dtype=float32)"
      ]
     },
     "execution_count": 58,
     "metadata": {},
     "output_type": "execute_result"
    }
   ],
   "source": [
    "up_stats"
   ]
  },
  {
   "cell_type": "code",
   "execution_count": 35,
   "metadata": {},
   "outputs": [],
   "source": [
    "def logistic(x, a, b, c):\n",
    "    return 1 / (1 + a * np.exp(-b * (x - c)))"
   ]
  },
  {
   "cell_type": "code",
   "execution_count": 54,
   "metadata": {},
   "outputs": [],
   "source": [
    "def S(rij, d0, r0):\n",
    "    # rij is a (multidimensional) array of distances\n",
    "    # the first dimension is the number of points\n",
    "    # the second dimension is the number of pairs to sum\n",
    "    # d0 is the mean, r0 is the standard deviation, should have\n",
    "    # same dimension as second dimension of rij\n",
    "    if rij\n",
    "    return np.sum(np.exp(-(rij - d0)**2 / (2 * r0 * r0)), axis=1)"
   ]
  },
  {
   "cell_type": "code",
   "execution_count": 87,
   "metadata": {},
   "outputs": [],
   "source": [
    "# consider down to up transition, where R226 moves from D186/E183 (B_i) to D129 (B_f)\n",
    "# then S would be a function of R229-D186/R229-E183 distance at the lower state, and\n",
    "\n",
    "# compute and plot logistic function for initial state\n",
    "a, b, c = 0.46, 7.78, 0.82\n",
    "si = S(down_sbs[:, [46, 47]], down_stats[1:, 0], down_stats[1:, 1])\n",
    "yi = logistic(si, a, b, c)\n",
    "\n",
    "sf = S(up_sbs[:, [42]], up_stats[0, 0], up_stats[0, 1])\n",
    "yf = logistic(sf, a, b, c)"
   ]
  },
  {
   "cell_type": "code",
   "execution_count": 88,
   "metadata": {},
   "outputs": [
    {
     "data": {
      "text/plain": [
       "<matplotlib.collections.PathCollection at 0x7f4cac210690>"
      ]
     },
     "execution_count": 88,
     "metadata": {},
     "output_type": "execute_result"
    },
    {
     "data": {
      "image/png": "[encoded data removed]",
      "text/plain": [
       "<Figure size 432x288 with 1 Axes>"
      ]
     },
     "metadata": {},
     "output_type": "display_data"
    }
   ],
   "source": [
    "plt.scatter(si, yi)\n",
    "plt.scatter(sf, yf)"
   ]
  },
  {
   "cell_type": "code",
   "execution_count": 89,
   "metadata": {},
   "outputs": [
    {
     "data": {
      "text/plain": [
       "<matplotlib.collections.PathCollection at 0x7f4cac1c1f10>"
      ]
     },
     "execution_count": 89,
     "metadata": {},
     "output_type": "execute_result"
    },
    {
     "data": {
      "image/png": "[encoded data removed]",
      "text/plain": [
       "<Figure size 432x288 with 1 Axes>"
      ]
     },
     "metadata": {},
     "output_type": "display_data"
    }
   ],
   "source": [
    "plt.scatter(si, logistic(si, 0.1, b, c))\n",
    "plt.scatter(si, logistic(si, a, 6, c))\n",
    "plt.scatter(si, logistic(si, a, b, 0.2))"
   ]
  },
  {
   "cell_type": "code",
   "execution_count": 161,
   "metadata": {},
   "outputs": [
    {
     "data": {
      "text/plain": [
       "<matplotlib.collections.PathCollection at 0x7f4c70914c10>"
      ]
     },
     "execution_count": 161,
     "metadata": {},
     "output_type": "execute_result"
    },
    {
     "data": {
      "image/png": "[encoded data removed]",
      "text/plain": [
       "<Figure size 432x288 with 1 Axes>"
      ]
     },
     "metadata": {},
     "output_type": "display_data"
    }
   ],
   "source": [
    "plt.scatter(down_sbs[:, 46], si)\n",
    "plt.scatter(down_sbs[:, 47], si)\n",
    "plt.scatter((down_sbs[:, 46] + down_sbs[:, 47]) * 0.5, si)"
   ]
  },
  {
   "cell_type": "code",
   "execution_count": 91,
   "metadata": {},
   "outputs": [
    {
     "data": {
      "text/plain": [
       "<matplotlib.collections.PathCollection at 0x7f4cac154a50>"
      ]
     },
     "execution_count": 91,
     "metadata": {},
     "output_type": "execute_result"
    },
    {
     "data": {
      "image/png": "[encoded data removed]",
      "text/plain": [
       "<Figure size 432x288 with 1 Axes>"
      ]
     },
     "metadata": {},
     "output_type": "display_data"
    }
   ],
   "source": [
    "plt.scatter(up_sbs[:, 42], yf)\n",
    "plt.scatter(\n",
    "    up_sbs[\n",
    "        :,\n",
    "    ]\n",
    ")"
   ]
  },
  {
   "cell_type": "code",
   "execution_count": 156,
   "metadata": {
    "scrolled": true
   },
   "outputs": [
    {
     "data": {
      "text/plain": [
       "[<matplotlib.lines.Line2D at 0x7f4c78f34290>]"
      ]
     },
     "execution_count": 156,
     "metadata": {},
     "output_type": "execute_result"
    },
    {
     "data": {
      "image/png": "[encoded data removed]",
      "text/plain": [
       "<Figure size 432x288 with 2 Axes>"
      ]
     },
     "metadata": {},
     "output_type": "display_data"
    }
   ],
   "source": [
    "plt.hist(up_sbs[:, 42], density=True, bins=50)\n",
    "plt.twinx()\n",
    "x = np.linspace(np.min(up_sbs[:, 42]), np.max(up_sbs[:, 42]), 100)\n",
    "s = S(np.expand_dims(x, axis=1), up_stats[0, 0], up_stats[0, 1])\n",
    "y = logistic(s, 0.1, b, c)\n",
    "plt.plot(x, y, \"r--\")\n",
    "# plt.twinx()\n",
    "# plt.plot(s, y, 'g-.')"
   ]
  },
  {
   "cell_type": "code",
   "execution_count": 159,
   "metadata": {},
   "outputs": [
    {
     "data": {
      "text/plain": [
       "(array([4.54310779, 1.70820853, 1.0297711 , 1.12669097, 0.81170176,\n",
       "        0.70266749, 0.59363288, 0.64209243, 0.82381671, 0.48459806,\n",
       "        0.59363312, 0.46036816, 0.50882797, 0.50882797, 0.53305831,\n",
       "        0.54517237, 0.58151816, 0.60574808, 0.39979307, 0.49671343,\n",
       "        0.58151816, 0.33921836, 0.55728824, 0.53305831, 0.6420919 ,\n",
       "        0.52094335, 0.47248272, 0.46036854, 0.67843672, 0.55728917,\n",
       "        0.69055167, 0.48459766, 0.54517418, 0.77535626, 0.61786202,\n",
       "        0.84804873, 0.55728731, 0.7874712 , 0.84804873, 0.96919532,\n",
       "        1.00554014, 0.9934252 , 1.10246335, 1.35687345, 1.29629874,\n",
       "        1.6718675 , 2.19280441, 2.33818371, 4.19178373, 9.58291873]),\n",
       " array([0.00367849, 0.02156809, 0.03945769, 0.05734729, 0.07523689,\n",
       "        0.09312649, 0.11101609, 0.12890568, 0.14679529, 0.16468489,\n",
       "        0.1825745 , 0.20046408, 0.21835369, 0.2362433 , 0.2541329 ,\n",
       "        0.2720225 , 0.2899121 , 0.3078017 , 0.32569128, 0.3435809 ,\n",
       "        0.3614705 , 0.37936008, 0.3972497 , 0.4151393 , 0.43302888,\n",
       "        0.4509185 , 0.46880808, 0.4866977 , 0.5045873 , 0.5224769 ,\n",
       "        0.5403665 , 0.5582561 , 0.5761457 , 0.59403527, 0.6119249 ,\n",
       "        0.6298145 , 0.64770406, 0.6655937 , 0.6834833 , 0.70137286,\n",
       "        0.7192625 , 0.7371521 , 0.7550417 , 0.7729313 , 0.7908209 ,\n",
       "        0.8087105 , 0.8266001 , 0.8444897 , 0.8623793 , 0.8802689 ,\n",
       "        0.8981585 ], dtype=float32),\n",
       " <BarContainer object of 50 artists>)"
      ]
     },
     "execution_count": 159,
     "metadata": {},
     "output_type": "execute_result"
    },
    {
     "data": {
      "image/png": "[encoded data removed]",
      "text/plain": [
       "<Figure size 432x288 with 2 Axes>"
      ]
     },
     "metadata": {},
     "output_type": "display_data"
    }
   ],
   "source": [
    "plt.hist(up_sbs[:, 42], density=True, bins=50)\n",
    "plt.twinx()\n",
    "plt.hist(logistic(sf, a, b, c), density=True, bins=50, color=\"red\")"
   ]
  },
  {
   "cell_type": "code",
   "execution_count": 112,
   "metadata": {},
   "outputs": [
    {
     "data": {
      "text/plain": [
       "<matplotlib.collections.PathCollection at 0x7f4ca3955410>"
      ]
     },
     "execution_count": 112,
     "metadata": {},
     "output_type": "execute_result"
    },
    {
     "data": {
      "image/png": "[encoded data removed]",
      "text/plain": [
       "<Figure size 432x288 with 1 Axes>"
      ]
     },
     "metadata": {},
     "output_type": "display_data"
    }
   ],
   "source": [
    "plt.scatter(up_sbs[:, 42], logistic(sf, a, 5, c))"
   ]
  },
  {
   "cell_type": "code",
   "execution_count": 160,
   "metadata": {},
   "outputs": [
    {
     "data": {
      "text/plain": [
       "<matplotlib.collections.PathCollection at 0x7f4c70978f90>"
      ]
     },
     "execution_count": 160,
     "metadata": {},
     "output_type": "execute_result"
    },
    {
     "data": {
      "image/png": "[encoded data removed]",
      "text/plain": [
       "<Figure size 432x288 with 1 Axes>"
      ]
     },
     "metadata": {},
     "output_type": "display_data"
    }
   ],
   "source": [
    "plt.scatter(up_sbs[:, 42], sf)"
   ]
  },
  {
   "cell_type": "code",
   "execution_count": 74,
   "metadata": {},
   "outputs": [
    {
     "data": {
      "text/plain": [
       "0.08216628240529524"
      ]
     },
     "execution_count": 74,
     "metadata": {},
     "output_type": "execute_result"
    }
   ],
   "source": [
    "logistic(0.41, a, b, c)"
   ]
  },
  {
   "cell_type": "code",
   "execution_count": 73,
   "metadata": {},
   "outputs": [
    {
     "data": {
      "text/plain": [
       "(array([ 183.,  144.,  174.,  201.,  240.,  326.,  439.,  528.,  684.,\n",
       "        1695.]),\n",
       " array([1.93257874e-04, 1.00173935e-01, 2.00154603e-01, 3.00135285e-01,\n",
       "        4.00115967e-01, 5.00096619e-01, 6.00077331e-01, 7.00057983e-01,\n",
       "        8.00038636e-01, 9.00019348e-01, 1.00000000e+00], dtype=float32),\n",
       " <BarContainer object of 10 artists>)"
      ]
     },
     "execution_count": 73,
     "metadata": {},
     "output_type": "execute_result"
    },
    {
     "data": {
      "image/png": "[encoded data removed]",
      "text/plain": [
       "<Figure size 432x288 with 1 Axes>"
      ]
     },
     "metadata": {},
     "output_type": "display_data"
    }
   ],
   "source": [
    "plt.hist(si)\n",
    "plt.hist(sf)"
   ]
  },
  {
   "cell_type": "code",
   "execution_count": 75,
   "metadata": {},
   "outputs": [],
   "source": [
    "si = S(sb_arr[:, [46, 47]], down_stats[1:, 0], down_stats[1:, 1])\n",
    "\n",
    "sf = S(sb_arr[:, [42]], up_stats[0, 0], up_stats[0, 1])"
   ]
  },
  {
   "cell_type": "code",
   "execution_count": 76,
   "metadata": {},
   "outputs": [
    {
     "data": {
      "text/plain": [
       "(array([1974436.,  137477.,   99574.,   85680.,   81294.,   82605.,\n",
       "          87648.,   96675.,  114945.,  239666.]),\n",
       " array([0. , 0.1, 0.2, 0.3, 0.4, 0.5, 0.6, 0.7, 0.8, 0.9, 1. ],\n",
       "       dtype=float32),\n",
       " <BarContainer object of 10 artists>)"
      ]
     },
     "execution_count": 76,
     "metadata": {},
     "output_type": "execute_result"
    },
    {
     "data": {
      "image/png": "[encoded data removed]",
      "text/plain": [
       "<Figure size 432x288 with 1 Axes>"
      ]
     },
     "metadata": {},
     "output_type": "display_data"
    }
   ],
   "source": [
    "plt.hist(si)\n",
    "plt.hist(sf)"
   ]
  },
  {
   "cell_type": "code",
   "execution_count": null,
   "metadata": {},
   "outputs": [],
   "source": []
  }
 ],
 "metadata": {
  "kernelspec": {
   "display_name": "Python 3 (ipykernel)",
   "language": "python",
   "name": "python3"
  },
  "language_info": {
   "codemirror_mode": {
    "name": "ipython",
    "version": 3
   },
   "file_extension": ".py",
   "mimetype": "text/x-python",
   "name": "python",
   "nbconvert_exporter": "python",
   "pygments_lexer": "ipython3",
   "version": "3.9.9"
  },
  "latex_envs": {
   "LaTeX_envs_menu_present": true,
   "autoclose": true,
   "autocomplete": true,
   "bibliofile": "biblio.bib",
   "cite_by": "apalike",
   "current_citInitial": 1,
   "eqLabelWithNumbers": true,
   "eqNumInitial": 1,
   "hotkeys": {
    "equation": "Ctrl-E",
    "itemize": "Ctrl-I"
   },
   "labels_anchors": false,
   "latex_user_defs": false,
   "report_style_numbering": false,
   "user_envs_cfg": false
  },
  "toc": {
   "base_numbering": 1,
   "nav_menu": {},
   "number_sections": false,
   "sideBar": true,
   "skip_h1_title": false,
   "title_cell": "Table of Contents",
   "title_sidebar": "Contents",
   "toc_cell": false,
   "toc_position": {},
   "toc_section_display": true,
   "toc_window_display": false
  }
 },
 "nbformat": 4,
 "nbformat_minor": 4
}
