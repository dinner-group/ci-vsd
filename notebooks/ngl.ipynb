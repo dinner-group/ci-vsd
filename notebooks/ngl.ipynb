{
 "cells": [
  {
   "cell_type": "code",
   "execution_count": 1,
   "metadata": {},
   "outputs": [
    {
     "data": {
      "application/vnd.jupyter.widget-view+json": {
       "model_id": "5b7f97fe293c4abc9781276e115ca265",
       "version_major": 2,
       "version_minor": 0
      },
      "text/plain": []
     },
     "metadata": {},
     "output_type": "display_data"
    }
   ],
   "source": [
    "import nglview as nv\n",
    "import mdtraj as md"
   ]
  },
  {
   "cell_type": "code",
   "execution_count": 2,
   "metadata": {},
   "outputs": [
    {
     "data": {
      "application/vnd.jupyter.widget-view+json": {
       "model_id": "4d29cf1ae43342b5842febb0d33286e3",
       "version_major": 2,
       "version_minor": 0
      },
      "text/plain": [
       "NGLWidget()"
      ]
     },
     "metadata": {},
     "output_type": "display_data"
    }
   ],
   "source": [
    "view = nv.show_structure_file(nv.datafiles.PDB)\n",
    "view"
   ]
  },
  {
   "cell_type": "code",
   "execution_count": 3,
   "metadata": {},
   "outputs": [],
   "source": [
    "# Clear all representations to try new ones\n",
    "view.clear_representations()\n",
    "\n",
    "# add licorice without hydrogen\n",
    "view.add_licorice(\"not hydrogen\")"
   ]
  },
  {
   "cell_type": "code",
   "execution_count": 4,
   "metadata": {
    "collapsed": true,
    "jupyter": {
     "outputs_hidden": true
    }
   },
   "outputs": [
    {
     "data": {
      "application/vnd.jupyter.widget-view+json": {
       "model_id": "70d21d34466d4b7cadefb0aa46fe2a33",
       "version_major": 2,
       "version_minor": 0
      },
      "text/plain": [
       "NGLWidget(n_components=1)"
      ]
     },
     "metadata": {},
     "output_type": "display_data"
    }
   ],
   "source": [
    "view"
   ]
  },
  {
   "cell_type": "code",
   "execution_count": 5,
   "metadata": {},
   "outputs": [
    {
     "data": {
      "application/vnd.jupyter.widget-view+json": {
       "model_id": "70d21d34466d4b7cadefb0aa46fe2a33",
       "version_major": 2,
       "version_minor": 0
      },
      "text/plain": [
       "NGLWidget(n_components=1)"
      ]
     },
     "metadata": {},
     "output_type": "display_data"
    }
   ],
   "source": [
    "# add licorice without hydrogen and use 'blue' for color\n",
    "\n",
    "view.clear_representations()\n",
    "view.add_licorice(\"not hydrogen\", color=\"blue\")\n",
    "# add surface for CA atoms\n",
    "\n",
    "view.clear_representations()\n",
    "view.add_surface(\".CA\", opacity=0.3)\n",
    "\n",
    "\n",
    "# combine different representations\n",
    "\n",
    "view.clear_representations()\n",
    "view.add_surface(\".CA\", opacity=0.3)\n",
    "view.add_licorice(\"not hydrogen\")"
   ]
  },
  {
   "cell_type": "code",
   "execution_count": 6,
   "metadata": {
    "collapsed": true,
    "jupyter": {
     "outputs_hidden": true
    }
   },
   "outputs": [
    {
     "data": {
      "application/vnd.jupyter.widget-view+json": {
       "model_id": "70d21d34466d4b7cadefb0aa46fe2a33",
       "version_major": 2,
       "version_minor": 0
      },
      "text/plain": [
       "NGLWidget(n_components=1)"
      ]
     },
     "metadata": {},
     "output_type": "display_data"
    }
   ],
   "source": [
    "view"
   ]
  },
  {
   "cell_type": "code",
   "execution_count": 3,
   "metadata": {},
   "outputs": [],
   "source": [
    "import warnings\n",
    "\n",
    "warnings.filterwarnings(\"ignore\", category=DeprecationWarning)\n",
    "warnings.filterwarnings(\"ignore\", category=UserWarning)"
   ]
  },
  {
   "cell_type": "code",
   "execution_count": 18,
   "metadata": {},
   "outputs": [
    {
     "data": {
      "application/vnd.jupyter.widget-view+json": {
       "model_id": "43a91a9f93274d6e90037f6f1f6b2421",
       "version_major": 2,
       "version_minor": 0
      },
      "text/plain": [
       "NGLWidget(max_frame=2999)"
      ]
     },
     "metadata": {},
     "output_type": "display_data"
    }
   ],
   "source": [
    "traj = md.load(\"../amber/xtc300ns/civsd_0_300ns.xtc\", top=\"../civsd-pro.pdb\")\n",
    "\n",
    "view = nv.show_structure_file(\"../civsd-pro.pdb\")\n",
    "view.add_trajectory(traj)\n",
    "\n",
    "view.clear_representations()\n",
    "\n",
    "view[1].add_cartoon(color=\"residueindex\")\n",
    "view[1].add_licorice(\"217, 223, 226, 229, 232\")\n",
    "view[1].add_spacefill(\"161, 126, 190\", color=\"yellow\")\n",
    "view"
   ]
  },
  {
   "cell_type": "code",
   "execution_count": 19,
   "metadata": {},
   "outputs": [
    {
     "data": {
      "application/vnd.jupyter.widget-view+json": {
       "model_id": "06472c338e8c48b3ad63e0af9c128b83",
       "version_major": 2,
       "version_minor": 0
      },
      "text/plain": [
       "NGLWidget(max_frame=9999)"
      ]
     },
     "metadata": {},
     "output_type": "display_data"
    }
   ],
   "source": [
    "traj = md.load(\"../anton/xtc1000ns/civsd-43.xtc\", top=\"../civsd-pro.pdb\")\n",
    "\n",
    "view = nv.show_structure_file(\"../civsd-pro.pdb\")\n",
    "view.add_trajectory(traj)\n",
    "\n",
    "view.clear_representations()\n",
    "\n",
    "view[1].add_cartoon(color=\"residueindex\")\n",
    "view[1].add_licorice(\"217, 223, 226, 229, 232\")\n",
    "view[1].add_spacefill(\"161, 126, 190\", color=\"yellow\")\n",
    "view"
   ]
  },
  {
   "cell_type": "markdown",
   "metadata": {},
   "source": [
    "# Views for checking ABMD "
   ]
  },
  {
   "cell_type": "markdown",
   "metadata": {},
   "source": [
    "4.9.21"
   ]
  },
  {
   "cell_type": "code",
   "execution_count": 12,
   "metadata": {},
   "outputs": [
    {
     "data": {
      "application/vnd.jupyter.widget-view+json": {
       "model_id": "7256b57f0ca9426580f978d28e3e72a2",
       "version_major": 2,
       "version_minor": 0
      },
      "text/plain": [
       "NGLWidget()"
      ]
     },
     "metadata": {},
     "output_type": "display_data"
    }
   ],
   "source": [
    "# starting structure 0 (down minus state)\n",
    "view = nv.show_structure_file(\"../amber/cluster0/civsd.initial.0.pdb\")\n",
    "\n",
    "view.clear_representations()\n",
    "\n",
    "view.add_cartoon(color=\"residueindex\")\n",
    "view.add_licorice(\"217, 223, 226, 229, 232\")\n",
    "view.add_spacefill(\"161, 126, 190\", color=\"yellow\")\n",
    "view"
   ]
  },
  {
   "cell_type": "code",
   "execution_count": 14,
   "metadata": {},
   "outputs": [
    {
     "data": {
      "application/vnd.jupyter.widget-view+json": {
       "model_id": "fd19323d475146d283fa1c55021a682f",
       "version_major": 2,
       "version_minor": 0
      },
      "text/plain": [
       "NGLWidget()"
      ]
     },
     "metadata": {},
     "output_type": "display_data"
    }
   ],
   "source": [
    "# starting structure 714 (up plus)\n",
    "view = nv.show_structure_file(\"../amber/cluster714/civsd.initial.714.pdb\")\n",
    "\n",
    "view.clear_representations()\n",
    "\n",
    "view.add_cartoon(color=\"residueindex\")\n",
    "view.add_licorice(\"217, 223, 226, 229, 232\")\n",
    "view.add_spacefill(\"161, 126, 190\", color=\"yellow\")\n",
    "view"
   ]
  },
  {
   "cell_type": "code",
   "execution_count": 30,
   "metadata": {},
   "outputs": [
    {
     "name": "stderr",
     "output_type": "stream",
     "text": [
      "/project2/roux/scguo/anaconda/envs/py37/lib/python3.7/site-packages/mdtraj/formats/pdb/pdbfile.py:194: RuntimeWarning: divide by zero encountered in true_divide\n",
      "  particle_density = traj.top.n_atoms / traj.unitcell_volumes[0]\n",
      "/project2/roux/scguo/anaconda/envs/py37/lib/python3.7/site-packages/mdtraj/formats/pdb/pdbfile.py:198: UserWarning: Unlikely unit cell vectors detected in PDB file likely resulting from a dummy CRYST1 record. Discarding unit cell vectors.\n",
      "  'cell vectors.', category=UserWarning)\n"
     ]
    }
   ],
   "source": [
    "topology = md.load(\"../amber/cluster0/civsd.initial.0.pdb\").topology\n",
    "with md.formats.AmberRestartFile(\n",
    "    \"../amber/cluster0/civsd_0_0.rst7\", mode=\"r\"\n",
    ") as reader:\n",
    "    traj = reader.read_as_traj(topology=topology)"
   ]
  },
  {
   "cell_type": "code",
   "execution_count": 34,
   "metadata": {},
   "outputs": [
    {
     "data": {
      "application/vnd.jupyter.widget-view+json": {
       "model_id": "631c97bd6d5d426997d6938f80780007",
       "version_major": 2,
       "version_minor": 0
      },
      "text/plain": [
       "NGLWidget()"
      ]
     },
     "metadata": {},
     "output_type": "display_data"
    }
   ],
   "source": [
    "# starting structure 0 (down minus)\n",
    "view = nv.show_mdtraj(traj)\n",
    "view.add_component(\"../amber/cluster0/civsd.initial.0.pdb\")\n",
    "\n",
    "view.clear_representations()\n",
    "\n",
    "view.add_cartoon(color=\"residueindex\")\n",
    "view.add_licorice(\"217, 223, 226, 229, 232\")\n",
    "view.add_spacefill(\"161, 126, 190\", color=\"yellow\")\n",
    "view"
   ]
  },
  {
   "cell_type": "code",
   "execution_count": 32,
   "metadata": {},
   "outputs": [],
   "source": [
    "%qtconsole"
   ]
  },
  {
   "cell_type": "markdown",
   "metadata": {},
   "source": [
    "# ABMD trajectories"
   ]
  },
  {
   "cell_type": "markdown",
   "metadata": {},
   "source": [
    "4.12.21"
   ]
  },
  {
   "cell_type": "code",
   "execution_count": 2,
   "metadata": {},
   "outputs": [],
   "source": [
    "topfile = \"../amber/cluster0/civsd.initial.0.pdb\""
   ]
  },
  {
   "cell_type": "code",
   "execution_count": 28,
   "metadata": {},
   "outputs": [
    {
     "name": "stderr",
     "output_type": "stream",
     "text": [
      "/project2/roux/scguo/anaconda/envs/py37/lib/python3.7/site-packages/mdtraj/formats/pdb/pdbfile.py:194: RuntimeWarning: divide by zero encountered in true_divide\n",
      "  particle_density = traj.top.n_atoms / traj.unitcell_volumes[0]\n",
      "/project2/roux/scguo/anaconda/envs/py37/lib/python3.7/site-packages/mdtraj/formats/pdb/pdbfile.py:198: UserWarning: Unlikely unit cell vectors detected in PDB file likely resulting from a dummy CRYST1 record. Discarding unit cell vectors.\n",
      "  'cell vectors.', category=UserWarning)\n"
     ]
    },
    {
     "data": {
      "application/vnd.jupyter.widget-view+json": {
       "model_id": "c823776dd07046b3b004af3917889e33",
       "version_major": 2,
       "version_minor": 0
      },
      "text/plain": [
       "NGLWidget(frame=19, max_frame=99, n_components=10)"
      ]
     },
     "metadata": {},
     "output_type": "display_data"
    }
   ],
   "source": [
    "traj = md.load(\"../abmd/test_1/abmd_test_1.nc\", top=topfile)\n",
    "top = md.load(topfile).topology\n",
    "\n",
    "view.add_trajectory(traj)\n",
    "\n",
    "view.clear()\n",
    "\n",
    "view.clear_representations()\n",
    "\n",
    "view.add_cartoon(\"protein\", color=\"residueindex\")\n",
    "view.add_licorice(\"POPC\", opacity=0.1)\n",
    "# view.add_licorice('protein and 112, 118, 121, 124, 127')\n",
    "# view.add_spacefill('protein and 21, 56, 85', color='yellow')\n",
    "view"
   ]
  },
  {
   "cell_type": "code",
   "execution_count": 15,
   "metadata": {},
   "outputs": [
    {
     "name": "stdout",
     "output_type": "stream",
     "text": [
      "<mdtraj.Topology with 10 chains, 10692 residues, 56582 atoms, 22898 bonds>\n"
     ]
    }
   ],
   "source": [
    "print(top)"
   ]
  },
  {
   "cell_type": "code",
   "execution_count": 19,
   "metadata": {},
   "outputs": [],
   "source": [
    "table, bonds = top.to_dataframe()"
   ]
  },
  {
   "cell_type": "code",
   "execution_count": 20,
   "metadata": {},
   "outputs": [
    {
     "data": {
      "text/html": [
       "<div>\n",
       "<style scoped>\n",
       "    .dataframe tbody tr th:only-of-type {\n",
       "        vertical-align: middle;\n",
       "    }\n",
       "\n",
       "    .dataframe tbody tr th {\n",
       "        vertical-align: top;\n",
       "    }\n",
       "\n",
       "    .dataframe thead th {\n",
       "        text-align: right;\n",
       "    }\n",
       "</style>\n",
       "<table border=\"1\" class=\"dataframe\">\n",
       "  <thead>\n",
       "    <tr style=\"text-align: right;\">\n",
       "      <th></th>\n",
       "      <th>serial</th>\n",
       "      <th>name</th>\n",
       "      <th>element</th>\n",
       "      <th>resSeq</th>\n",
       "      <th>resName</th>\n",
       "      <th>chainID</th>\n",
       "      <th>segmentID</th>\n",
       "    </tr>\n",
       "  </thead>\n",
       "  <tbody>\n",
       "    <tr>\n",
       "      <th>0</th>\n",
       "      <td>1</td>\n",
       "      <td>CAY</td>\n",
       "      <td>C</td>\n",
       "      <td>106</td>\n",
       "      <td>GLN</td>\n",
       "      <td>0</td>\n",
       "      <td>A</td>\n",
       "    </tr>\n",
       "    <tr>\n",
       "      <th>1</th>\n",
       "      <td>2</td>\n",
       "      <td>HY1</td>\n",
       "      <td>H</td>\n",
       "      <td>106</td>\n",
       "      <td>GLN</td>\n",
       "      <td>0</td>\n",
       "      <td>A</td>\n",
       "    </tr>\n",
       "    <tr>\n",
       "      <th>2</th>\n",
       "      <td>3</td>\n",
       "      <td>HY2</td>\n",
       "      <td>H</td>\n",
       "      <td>106</td>\n",
       "      <td>GLN</td>\n",
       "      <td>0</td>\n",
       "      <td>A</td>\n",
       "    </tr>\n",
       "    <tr>\n",
       "      <th>3</th>\n",
       "      <td>4</td>\n",
       "      <td>HY3</td>\n",
       "      <td>H</td>\n",
       "      <td>106</td>\n",
       "      <td>GLN</td>\n",
       "      <td>0</td>\n",
       "      <td>A</td>\n",
       "    </tr>\n",
       "    <tr>\n",
       "      <th>4</th>\n",
       "      <td>5</td>\n",
       "      <td>CY</td>\n",
       "      <td>C</td>\n",
       "      <td>106</td>\n",
       "      <td>GLN</td>\n",
       "      <td>0</td>\n",
       "      <td>A</td>\n",
       "    </tr>\n",
       "  </tbody>\n",
       "</table>\n",
       "</div>"
      ],
      "text/plain": [
       "   serial name element  resSeq resName  chainID segmentID\n",
       "0       1  CAY       C     106     GLN        0         A\n",
       "1       2  HY1       H     106     GLN        0         A\n",
       "2       3  HY2       H     106     GLN        0         A\n",
       "3       4  HY3       H     106     GLN        0         A\n",
       "4       5   CY       C     106     GLN        0         A"
      ]
     },
     "execution_count": 20,
     "metadata": {},
     "output_type": "execute_result"
    }
   ],
   "source": [
    "table.head()"
   ]
  },
  {
   "cell_type": "code",
   "execution_count": 26,
   "metadata": {},
   "outputs": [
    {
     "data": {
      "text/plain": [
       "array(['GLN', 'PHE', 'ARG', 'VAL', 'ALA', 'ILE', 'ASP', 'HIS', 'LEU',\n",
       "       'GLY', 'MET', 'SER', 'PRO', 'LYS', 'GLU', 'TYR', 'CYS', 'ASN',\n",
       "       'THR', 'TRP', 'POPC', 'HOH', 'SOD', 'CLA'], dtype=object)"
      ]
     },
     "execution_count": 26,
     "metadata": {},
     "output_type": "execute_result"
    }
   ],
   "source": [
    "table[\"resName\"].unique()"
   ]
  },
  {
   "cell_type": "code",
   "execution_count": null,
   "metadata": {},
   "outputs": [],
   "source": [
    "traj = md.load(\"../abmd/test_1/abmd_test_2.nc\", top=topfile)\n",
    "\n",
    "view = nv.show_structure_file(\"../civsd-pro.pdb\")\n",
    "view.add_trajectory(traj)\n",
    "\n",
    "view.clear_representations()\n",
    "\n",
    "view[1].add_cartoon(color=\"residueindex\")\n",
    "view[1].add_licorice(\"217, 223, 226, 229, 232\")\n",
    "view[1].add_spacefill(\"161, 126, 190\", color=\"yellow\")\n",
    "view"
   ]
  }
 ],
 "metadata": {
  "kernelspec": {
   "display_name": "Python 3",
   "language": "python",
   "name": "python3"
  },
  "language_info": {
   "codemirror_mode": {
    "name": "ipython",
    "version": 3
   },
   "file_extension": ".py",
   "mimetype": "text/x-python",
   "name": "python",
   "nbconvert_exporter": "python",
   "pygments_lexer": "ipython3",
   "version": "3.7.8"
  },
  "latex_envs": {
   "LaTeX_envs_menu_present": true,
   "autoclose": true,
   "autocomplete": true,
   "bibliofile": "biblio.bib",
   "cite_by": "apalike",
   "current_citInitial": 1,
   "eqLabelWithNumbers": true,
   "eqNumInitial": 1,
   "hotkeys": {
    "equation": "Ctrl-E",
    "itemize": "Ctrl-I"
   },
   "labels_anchors": false,
   "latex_user_defs": false,
   "report_style_numbering": false,
   "user_envs_cfg": false
  }
 },
 "nbformat": 4,
 "nbformat_minor": 4
}
