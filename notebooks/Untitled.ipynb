{
 "cells": [
  {
   "cell_type": "code",
   "execution_count": 1,
   "id": "6ab750ff-494d-4048-a5e9-40870ae4d744",
   "metadata": {},
   "outputs": [],
   "source": [
    "import importlib\n",
    "import os\n",
    "import sys\n",
    "\n",
    "import matplotlib as mpl\n",
    "import matplotlib.pyplot as plt\n",
    "import mdtraj as md\n",
    "import numpy as np\n",
    "import prettypyplot as pplt\n",
    "import scipy\n",
    "import seaborn as sns\n",
    "from matplotlib import ticker\n",
    "\n",
    "import extq"
   ]
  },
  {
   "cell_type": "code",
   "execution_count": 2,
   "id": "05a461b3-de56-4607-8d8b-aa2361193f86",
   "metadata": {},
   "outputs": [],
   "source": [
    "pplt.load_cmaps()\n",
    "plt.style.use(\"custom\")  # custom style sheet\n",
    "plt.style.use(\"muted\")  # muted color theme from SciencePlots\n",
    "colors = mpl.colors.to_rgba_array(\n",
    "    [\n",
    "        \"#364B9A\",\n",
    "        \"#4A7BB7\",\n",
    "        \"#6EA6CD\",\n",
    "        \"#98CAE1\",\n",
    "        \"#C2E4EF\",\n",
    "        \"#EAECCC\",\n",
    "        \"#FEDA8B\",\n",
    "        \"#FDB366\",\n",
    "        \"#F67E4B\",\n",
    "        \"#DD3D2D\",\n",
    "        \"#A50026\",\n",
    "    ]\n",
    ")\n",
    "cm_div = mpl.colors.LinearSegmentedColormap.from_list(\"diverging\", colors)\n",
    "mpl.colormaps.register(cm_div, force=True)"
   ]
  },
  {
   "cell_type": "code",
   "execution_count": 4,
   "id": "5548ba1d-af13-416d-85b5-90446d841e8c",
   "metadata": {},
   "outputs": [],
   "source": [
    "sys.path.insert(1, \"../python\")\n",
    "sys.path.insert(1, \"../\")\n",
    "import plotting\n",
    "import util"
   ]
  },
  {
   "cell_type": "code",
   "execution_count": 14,
   "id": "1c92c9d1-8028-468b-bc33-1c18a77ea97e",
   "metadata": {},
   "outputs": [
    {
     "data": {
      "text/plain": [
       "<mdtraj.Trajectory with 200 frames, 2192 atoms, 134 residues, and unitcells at 0x7fe424a15460>"
      ]
     },
     "execution_count": 14,
     "metadata": {},
     "output_type": "execute_result"
    }
   ],
   "source": [
    "traj = md.load(\"../data/q_05_10_piqpqm.dcd\", top=\"../civsd-pro.psf\")\n",
    "traj.superpose(traj)"
   ]
  },
  {
   "cell_type": "code",
   "execution_count": 15,
   "id": "6a607fb5-d209-4d98-8d73-43dff2ef877c",
   "metadata": {},
   "outputs": [],
   "source": [
    "def interpolate(xyz, N):\n",
    "    interpolated_xyz = []\n",
    "    for (frame, next_frame) in zip(xyz[:-1], xyz[1:]):\n",
    "        for i in range(N):\n",
    "            interpolated_frame = (i / N * next_frame) + ((1 - i / N) * frame)\n",
    "            interpolated_xyz.append(interpolated_frame)\n",
    "    interpolated_xyz.append(xyz[-1])\n",
    "    return interpolated_xyz"
   ]
  },
  {
   "cell_type": "code",
   "execution_count": 19,
   "id": "b82f50ac-999c-4171-908c-815be3bac062",
   "metadata": {},
   "outputs": [],
   "source": [
    "N = 2\n",
    "interpolated_all = []\n",
    "for i in range(10):\n",
    "    interpolated_i = interpolate(traj[i::10].xyz, N)\n",
    "    interpolated_all.append(interpolated_i)\n",
    "# combine\n",
    "new_traj_xyz = []\n",
    "for t in range(len(interpolated_all[0])):\n",
    "    for i in range(10):\n",
    "        new_traj_xyz.append(interpolated_all[i][t])"
   ]
  },
  {
   "cell_type": "code",
   "execution_count": 20,
   "id": "cac4d533-8e2d-47cf-aa3e-35a6442e6062",
   "metadata": {},
   "outputs": [],
   "source": [
    "top = md.load_topology(\"../civsd-pro.psf\")\n",
    "# new_traj_0 = md.Trajectory(interpolated_0, top)\n",
    "# new_traj_0.save(\"../data/q_05_10_piqpqm_i0N2.dcd\")\n",
    "new_traj = md.Trajectory(new_traj_xyz, top)\n",
    "new_traj.save(\"../data/q_05_10_piqpqm_N2.dcd\")"
   ]
  },
  {
   "cell_type": "code",
   "execution_count": null,
   "id": "09c8051a-1a43-40e3-9e68-d5a61bbf630d",
   "metadata": {},
   "outputs": [],
   "source": []
  }
 ],
 "metadata": {
  "kernelspec": {
   "display_name": "Python 3 (ipykernel)",
   "language": "python",
   "name": "python3"
  },
  "language_info": {
   "codemirror_mode": {
    "name": "ipython",
    "version": 3
   },
   "file_extension": ".py",
   "mimetype": "text/x-python",
   "name": "python",
   "nbconvert_exporter": "python",
   "pygments_lexer": "ipython3",
   "version": "3.9.15"
  }
 },
 "nbformat": 4,
 "nbformat_minor": 5
}
