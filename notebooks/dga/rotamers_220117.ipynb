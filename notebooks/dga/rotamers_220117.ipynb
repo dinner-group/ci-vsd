{
 "cells": [
  {
   "cell_type": "code",
   "execution_count": 1,
   "id": "a4d16710-3cc2-417b-9e2b-13612daef5e6",
   "metadata": {},
   "outputs": [],
   "source": [
    "import sys\n",
    "import os\n",
    "import importlib\n",
    "import gc\n",
    "import glob\n",
    "import random\n",
    "from itertools import combinations\n",
    "\n",
    "import numpy as np\n",
    "import sklearn\n",
    "from sklearn import metrics\n",
    "\n",
    "import matplotlib as mpl\n",
    "import matplotlib.pyplot as plt\n",
    "from matplotlib import ticker\n",
    "import seaborn as sns\n",
    "\n",
    "import mdtraj as md\n",
    "import pyemma\n",
    "\n",
    "import extq\n",
    "import ivac"
   ]
  },
  {
   "cell_type": "code",
   "execution_count": 2,
   "id": "56037091-d80a-409e-a322-22d52fc2efae",
   "metadata": {},
   "outputs": [],
   "source": [
    "sys.path.insert(1, \"../../python\")\n",
    "sys.path.insert(1, \"../../..\")\n",
    "import util\n",
    "import plotting"
   ]
  },
  {
   "cell_type": "code",
   "execution_count": 3,
   "id": "f5ae37ee-3876-4d86-9f3f-751b69b4f34c",
   "metadata": {},
   "outputs": [],
   "source": [
    "plt.style.use(\"custom\")  # custom style sheet\n",
    "plt.style.use(\"muted\")  # muted color theme from SciencePlots\n",
    "cm_seq = sns.cubehelix_palette(\n",
    "    start=0, rot=-0.70, gamma=0.40, light=0.9, dark=0.1, as_cmap=True, reverse=True\n",
    ")\n",
    "cm_seq2 = sns.cubehelix_palette(\n",
    "    start=0, rot=-0.70, gamma=0.40, light=0.8, dark=0.1, as_cmap=True, reverse=False\n",
    ")\n",
    "colors = mpl.colors.to_rgba_array(\n",
    "    [\n",
    "        \"#364B9A\",\n",
    "        \"#4A7BB7\",\n",
    "        \"#6EA6CD\",\n",
    "        \"#98CAE1\",\n",
    "        \"#C2E4EF\",\n",
    "        \"#EAECCC\",\n",
    "        \"#FEDA8B\",\n",
    "        \"#FDB366\",\n",
    "        \"#F67E4B\",\n",
    "        \"#DD3D2D\",\n",
    "        \"#A50026\",\n",
    "    ]\n",
    ")\n",
    "cm_div = mpl.colors.LinearSegmentedColormap.from_list(\"\", colors)"
   ]
  },
  {
   "cell_type": "markdown",
   "id": "3dbc1584-e292-45ee-ba43-45fdd173ba07",
   "metadata": {},
   "source": [
    "# Load data"
   ]
  },
  {
   "cell_type": "code",
   "execution_count": 4,
   "id": "774aa7fe-7630-49cd-85ce-8dabcb5da93e",
   "metadata": {},
   "outputs": [],
   "source": [
    "cv_trajs = list(\n",
    "    np.load(\"../../data/raw_feat/cv_dist_spin_anton.npy\", allow_pickle=True)\n",
    ")\n",
    "# cv_trajs.extend(\n",
    "#     np.load(\"../../data/raw_feat/cv_dist_spin_suppl_00.npy\", allow_pickle=True)\n",
    "# )\n",
    "# cv_trajs.extend(\n",
    "#     np.load(\"../../data/raw_feat/cv_dist_spin_suppl_01.npy\", allow_pickle=True)\n",
    "# )\n",
    "# cv_trajs.extend(\n",
    "#     np.load(\"../../data/raw_feat/cv_dist_spin_suppl_02.npy\", allow_pickle=True)\n",
    "# )\n",
    "cv_trajs.extend(np.load(\"../../data/raw_feat/cv_dist_spin_anton2.npy\"))"
   ]
  },
  {
   "cell_type": "code",
   "execution_count": 5,
   "id": "2cf01ef3-283f-4f98-a541-981dcfb54cff",
   "metadata": {},
   "outputs": [],
   "source": [
    "sb_labels = []\n",
    "for r in (\"R217\", \"R223\", \"R226\", \"R229\", \"R232\"):\n",
    "    for n in (\"D129\", \"D136\", \"D151\", \"D164\", \"E183\", \"D186\"):\n",
    "        sb_labels.append(f\"{r} - {n}\")"
   ]
  },
  {
   "cell_type": "code",
   "execution_count": 6,
   "id": "aeb237fa-c53a-4541-a833-88d67416ad39",
   "metadata": {},
   "outputs": [],
   "source": [
    "sb_trajs = list(np.load(\"../../data/raw_feat/feat2_raw_anton.npy\", allow_pickle=True))\n",
    "# for i in range(6):\n",
    "#     sb_trajs.extend(\n",
    "#         np.load(f\"../../data/raw_feat/feat2_suppl_{i:02d}.npy\", allow_pickle=True)\n",
    "#     )\n",
    "sb_trajs.extend(np.load(\"../../data/raw_feat/feat2_raw_anton2.npy\"))"
   ]
  },
  {
   "cell_type": "code",
   "execution_count": 7,
   "id": "b728691a-9fe3-4459-bf1f-6859a2405115",
   "metadata": {},
   "outputs": [
    {
     "name": "stdout",
     "output_type": "stream",
     "text": [
      "(3170017, 2) (3170017, 60)\n"
     ]
    }
   ],
   "source": [
    "cv_arr = np.concatenate(cv_trajs)\n",
    "sb_arr = np.concatenate(sb_trajs)\n",
    "print(cv_arr.shape, sb_arr.shape)"
   ]
  },
  {
   "cell_type": "markdown",
   "id": "8be52978-e889-428e-b08e-1a93cb723a7a",
   "metadata": {},
   "source": [
    "# "
   ]
  },
  {
   "cell_type": "code",
   "execution_count": 8,
   "id": "f0775d12-4e4e-47dd-a6fa-e5b4d2a9e7f6",
   "metadata": {
    "scrolled": true,
    "tags": []
   },
   "outputs": [
    {
     "name": "stderr",
     "output_type": "stream",
     "text": [
      "/project2/roux/scguo/anaconda/envs/py39/lib/python3.9/site-packages/pyemma/coordinates/data/featurization/angles.py:211: FutureWarning: arrays to stack must be passed as a \"sequence\" type such as list or tuple. Support for non-sequence iterables such as generators is deprecated as of NumPy 1.16 and will raise an error in the future.\n",
      "  indices = np.vstack(valid.values())\n"
     ]
    },
    {
     "data": {
      "text/plain": [
       "['CHI1 0 ARG 217',\n",
       " 'CHI2 0 ARG 217',\n",
       " 'CHI3 0 ARG 217',\n",
       " 'CHI4 0 ARG 217',\n",
       " 'CHI5 0 ARG 217',\n",
       " 'CHI1 0 ARG 223',\n",
       " 'CHI2 0 ARG 223',\n",
       " 'CHI3 0 ARG 223',\n",
       " 'CHI4 0 ARG 223',\n",
       " 'CHI5 0 ARG 223',\n",
       " 'CHI1 0 ARG 226',\n",
       " 'CHI2 0 ARG 226',\n",
       " 'CHI3 0 ARG 226',\n",
       " 'CHI4 0 ARG 226',\n",
       " 'CHI5 0 ARG 226',\n",
       " 'CHI1 0 ARG 229',\n",
       " 'CHI2 0 ARG 229',\n",
       " 'CHI3 0 ARG 229',\n",
       " 'CHI4 0 ARG 229',\n",
       " 'CHI5 0 ARG 229',\n",
       " 'CHI1 0 ARG 232',\n",
       " 'CHI2 0 ARG 232',\n",
       " 'CHI3 0 ARG 232',\n",
       " 'CHI4 0 ARG 232',\n",
       " 'CHI5 0 ARG 232']"
      ]
     },
     "execution_count": 8,
     "metadata": {},
     "output_type": "execute_result"
    }
   ],
   "source": [
    "# all sidechain torsions for arginines\n",
    "arg_tors = pyemma.coordinates.featurizer(\"../../civsd-pro.pdb\")\n",
    "for r in (217, 223, 226, 229, 232):\n",
    "    arg_tors.add_sidechain_torsions(f\"residue {r}\", deg=False, which=\"all\")\n",
    "arg_tors.describe()"
   ]
  },
  {
   "cell_type": "code",
   "execution_count": 9,
   "id": "a903f983-effa-48fa-97de-c1c738de17f8",
   "metadata": {},
   "outputs": [],
   "source": [
    "xtc_files = []\n",
    "for i in range(3, 20):\n",
    "    xtc_files.append(f\"/project2/roux/scguo/ci-vsd/anton2/prot/civsd.prot.{i}.xtc\")"
   ]
  },
  {
   "cell_type": "code",
   "execution_count": 10,
   "id": "938f1090-c16a-4e68-9a8c-b85a64f828d8",
   "metadata": {},
   "outputs": [
    {
     "data": {
      "application/vnd.jupyter.widget-view+json": {
       "model_id": "4c7791dd106b45c2bd8d6847a220e6be",
       "version_major": 2,
       "version_minor": 0
      },
      "text/plain": [
       "Obtaining file info:   0%|          | 0/17 [00:00<?, ?it/s]"
      ]
     },
     "metadata": {},
     "output_type": "display_data"
    },
    {
     "data": {
      "application/vnd.jupyter.widget-view+json": {
       "model_id": "14ee478c2bab4ce3abb7e4370faf9ba5",
       "version_major": 2,
       "version_minor": 0
      },
      "text/plain": [
       "getting output of FeatureReader:   0%|          | 0/2669 [00:00<?, ?it/s]"
      ]
     },
     "metadata": {},
     "output_type": "display_data"
    }
   ],
   "source": [
    "arg_tors_anton2 = pyemma.coordinates.load(xtc_files, features=arg_tors, chunksize=64)"
   ]
  },
  {
   "cell_type": "code",
   "execution_count": 11,
   "id": "a9c31ff7-a15b-4b48-8ace-1af93ebd0b74",
   "metadata": {},
   "outputs": [],
   "source": [
    "np.save(\"../../data/raw_feat/arg_torsions_anton2.npy\", arg_tors_anton2)"
   ]
  },
  {
   "cell_type": "code",
   "execution_count": 12,
   "id": "0941dc16-e6f1-4c1d-8982-e1c748168278",
   "metadata": {},
   "outputs": [],
   "source": [
    "arg_tors_trajs = np.load(\"../../data/raw_feat/arg_torsions.npy\", allow_pickle=True)"
   ]
  },
  {
   "cell_type": "markdown",
   "id": "6d3061e3-60a2-4d8f-914f-26d2e20e0957",
   "metadata": {},
   "source": [
    "## Compute S4 sidechain rotamers"
   ]
  },
  {
   "cell_type": "code",
   "execution_count": 10,
   "id": "fa3aead6-ae4c-492e-ab6a-84e82ebb8cb4",
   "metadata": {
    "tags": []
   },
   "outputs": [],
   "source": [
    "# all sidechain torsions for arginines\n",
    "s4_tors = pyemma.coordinates.featurizer(\"../../civsd-pro.pdb\")"
   ]
  },
  {
   "cell_type": "code",
   "execution_count": 17,
   "id": "42dbe025-2e12-4e85-aeb8-cb00c506d240",
   "metadata": {
    "tags": []
   },
   "outputs": [
    {
     "name": "stdout",
     "output_type": "stream",
     "text": [
      "18-01-22 15:41:26 pyemma.coordinates.data.featurization.featurizer.MDFeaturizer[0] WARNING  tried to re-add the same feature SideChainTorsions\n",
      "496\n"
     ]
    },
    {
     "name": "stderr",
     "output_type": "stream",
     "text": [
      "/project2/roux/scguo/anaconda/envs/py39/lib/python3.9/site-packages/pyemma/coordinates/data/featurization/angles.py:211: FutureWarning: arrays to stack must be passed as a \"sequence\" type such as list or tuple. Support for non-sequence iterables such as generators is deprecated as of NumPy 1.16 and will raise an error in the future.\n",
      "  indices = np.vstack(valid.values())\n"
     ]
    }
   ],
   "source": [
    "s4_tors.add_sidechain_torsions(cossin=True, which=\"all\")\n",
    "print(len(s4_tors.describe()))"
   ]
  },
  {
   "cell_type": "code",
   "execution_count": 25,
   "id": "aa8ff96b-7789-4cd7-bd84-13e8edf77f9d",
   "metadata": {
    "tags": []
   },
   "outputs": [],
   "source": [
    "# all sidechain torsions for arginines\n",
    "sidechain_tors = pyemma.coordinates.featurizer(\"../../civsd-pro.pdb\")"
   ]
  },
  {
   "cell_type": "code",
   "execution_count": 26,
   "id": "8c4fe3e9-a19a-42fd-93a0-de2950ea967a",
   "metadata": {},
   "outputs": [
    {
     "name": "stderr",
     "output_type": "stream",
     "text": [
      "/project2/roux/scguo/anaconda/envs/py39/lib/python3.9/site-packages/pyemma/coordinates/data/featurization/angles.py:211: FutureWarning: arrays to stack must be passed as a \"sequence\" type such as list or tuple. Support for non-sequence iterables such as generators is deprecated as of NumPy 1.16 and will raise an error in the future.\n",
      "  indices = np.vstack(valid.values())\n"
     ]
    }
   ],
   "source": [
    "sidechain_tors.add_sidechain_torsions(cossin=True, which=\"all\")"
   ]
  },
  {
   "cell_type": "code",
   "execution_count": 27,
   "id": "3391a69d-8d32-4394-b3b9-87a971eaba56",
   "metadata": {},
   "outputs": [
    {
     "name": "stdout",
     "output_type": "stream",
     "text": [
      "496\n"
     ]
    }
   ],
   "source": [
    "print(len(sidechain_tors.describe()))"
   ]
  },
  {
   "cell_type": "code",
   "execution_count": 28,
   "id": "8f9c74da-98de-4997-94d0-426cc4555060",
   "metadata": {},
   "outputs": [],
   "source": [
    "remove = {\n",
    "    1282,\n",
    "    1283,\n",
    "    1284,\n",
    "    1285,\n",
    "    1286,\n",
    "    1288,\n",
    "    1289,\n",
    "    1290,\n",
    "    1187,\n",
    "    1188,\n",
    "    1189,\n",
    "    1190,\n",
    "    1191,\n",
    "    1197,\n",
    "    1198,\n",
    "    1199,\n",
    "    1203,\n",
    "    1205,\n",
    "    1206,\n",
    "    1207,\n",
    "    1211,\n",
    "    1212,\n",
    "    1213,\n",
    "    1214,\n",
    "    1215,\n",
    "    1225,\n",
    "    1226,\n",
    "    1227,\n",
    "    1228,\n",
    "    1231,\n",
    "    1232,\n",
    "    1233,\n",
    "    1236,\n",
    "    1237,\n",
    "    1238,\n",
    "    1242,\n",
    "    1245,\n",
    "    1246,\n",
    "    1252,\n",
    "    1253,\n",
    "    1260,\n",
    "    1261,\n",
    "    1262,\n",
    "    1263,\n",
    "    1266,\n",
    "    1267,\n",
    "    1268,\n",
    "    1269,\n",
    "    1270,\n",
    "    1271,\n",
    "    1272,\n",
    "    1273,\n",
    "    1274,\n",
    "    1275,\n",
    "    1276,\n",
    "    1277,\n",
    "    1278,\n",
    "    1279,\n",
    "}\n",
    "xtcs = []\n",
    "for i in range(1000, 1295):\n",
    "    if i not in remove:\n",
    "        xtcs.append(f\"../../anton/xtccombined/civsd_{i}.xtc\")\n",
    "xtc_files = np.loadtxt(\"../../data/suppl_xtc_files.txt\", dtype=str)"
   ]
  },
  {
   "cell_type": "code",
   "execution_count": 29,
   "id": "58f50624-4e41-41ce-b176-e520608ac192",
   "metadata": {},
   "outputs": [
    {
     "data": {
      "text/plain": [
       "(237, 244)"
      ]
     },
     "execution_count": 29,
     "metadata": {},
     "output_type": "execute_result"
    }
   ],
   "source": [
    "len(xtcs), len(xtc_files)"
   ]
  },
  {
   "cell_type": "code",
   "execution_count": 20,
   "id": "597ad143-4e69-4f10-92bf-c8294cfcde7b",
   "metadata": {},
   "outputs": [
    {
     "name": "stderr",
     "output_type": "stream",
     "text": [
      "100%|██████████| 237/237 [01:36<00:00,  2.46it/s]                     \n",
      "100%|██████████| 47051/47051 [14:39<00:00, 53.47it/s]                                 \n",
      "/project2/roux/scguo/anaconda/envs/py39/lib/python3.9/site-packages/numpy/core/_asarray.py:171: VisibleDeprecationWarning: Creating an ndarray from ragged nested sequences (which is a list-or-tuple of lists-or-tuples-or ndarrays with different lengths or shapes) is deprecated. If you meant to do this, you must specify 'dtype=object' when creating the ndarray.\n",
      "  return array(a, dtype, copy=False, order=order, subok=True)\n"
     ]
    }
   ],
   "source": [
    "# s4_tors_trajs = pyemma.coordinates.load(xtcs, features=s4_tors, chunksize=64)\n",
    "# np.save(\"../../data/raw_feat/sidechain_tors_anton\", s4_tors_trajs)"
   ]
  },
  {
   "cell_type": "code",
   "execution_count": 34,
   "id": "0cc29ab4-c346-4ae5-8f2f-7f4a6e77e2fb",
   "metadata": {},
   "outputs": [
    {
     "name": "stderr",
     "output_type": "stream",
     "text": [
      "100%|██████████| 237/237 [00:09<00:00, 26.15it/s]                     \n",
      "100%|██████████| 47051/47051 [12:48<00:00, 61.19it/s]                                 \n",
      "/project2/roux/scguo/anaconda/envs/py39/lib/python3.9/site-packages/numpy/core/_asarray.py:171: VisibleDeprecationWarning: Creating an ndarray from ragged nested sequences (which is a list-or-tuple of lists-or-tuples-or ndarrays with different lengths or shapes) is deprecated. If you meant to do this, you must specify 'dtype=object' when creating the ndarray.\n",
      "  return array(a, dtype, copy=False, order=order, subok=True)\n"
     ]
    }
   ],
   "source": [
    "sidechain_dihed_trajs = pyemma.coordinates.load(\n",
    "    xtcs, features=sidechain_tors, chunksize=64\n",
    ")\n",
    "np.save(\"../../data/raw_feat/sidechain_tors_anton\", sidechain_dihed_trajs)"
   ]
  },
  {
   "cell_type": "code",
   "execution_count": 11,
   "id": "82c33d4b-5060-4152-a29c-08b3aacfcce2",
   "metadata": {},
   "outputs": [
    {
     "name": "stdout",
     "output_type": "stream",
     "text": [
      "(237,) (10000, 496)\n"
     ]
    }
   ],
   "source": [
    "sidechain_dihed_trajs = np.load(\n",
    "    \"../../data/raw_feat/sidechain_tors_anton.npy\", allow_pickle=True\n",
    ")\n",
    "print(sidechain_dihed_trajs.shape, sidechain_dihed_trajs[0].shape)"
   ]
  },
  {
   "cell_type": "code",
   "execution_count": 15,
   "id": "218ce2c3-b483-42d4-8be2-a1bbf6640d8c",
   "metadata": {},
   "outputs": [],
   "source": [
    "# s4_tors_trajs_suppl = pyemma.coordinates.load(xtc_files, features=s4_tors, chunksize=64)\n",
    "# np.save(\"../../data/raw_feat/sidechain_tors_suppl\", s4_tors_trajs_supppl)"
   ]
  },
  {
   "cell_type": "markdown",
   "id": "b9dcffb0-6ea1-4212-8f3c-eeb3ea793642",
   "metadata": {},
   "source": [
    "# IVAC"
   ]
  },
  {
   "cell_type": "code",
   "execution_count": 12,
   "id": "e3c78ee7-842a-4a7a-84a3-a7b161989abe",
   "metadata": {},
   "outputs": [],
   "source": [
    "livac = ivac.LinearIVAC(minlag=1, maxlag=10000, nevecs=10, addones=False, adjust=True)\n",
    "livac.fit(sidechain_dihed_trajs)\n",
    "ivac_tors_trajs = livac.transform(sidechain_dihed_trajs)"
   ]
  },
  {
   "cell_type": "code",
   "execution_count": 13,
   "id": "0b04fa35-e365-486a-a60f-9cc6e5098914",
   "metadata": {},
   "outputs": [
    {
     "data": {
      "text/plain": [
       "<matplotlib.legend.Legend at 0x7f10bc6cd400>"
      ]
     },
     "execution_count": 13,
     "metadata": {},
     "output_type": "execute_result"
    },
    {
     "data": {
      "image/png": "[encoded data removed]",
      "text/plain": [
       "<Figure size 600x600 with 2 Axes>"
      ]
     },
     "metadata": {
      "needs_background": "light"
     },
     "output_type": "display_data"
    }
   ],
   "source": [
    "# plot eigenvalues and implied time scales\n",
    "f = plt.figure(dpi=200)\n",
    "ax = plt.gca()\n",
    "ax.plot(livac.evals[2:20], \".-\", color=\"C0\")\n",
    "ax.set_xlabel(\"Index\")\n",
    "ax.set_ylabel(\"Eigenvalue\")\n",
    "\n",
    "ax2 = ax.twinx()\n",
    "ax2.plot(livac.its[2:20] * 0.0001, \".-\", color=\"C1\")\n",
    "ax2.set_ylabel(\"Implied time scale / $\\mu$s\")\n",
    "\n",
    "lines, labels = ax.get_legend_handles_labels()\n",
    "lines2, labels2 = ax2.get_legend_handles_labels()\n",
    "ax2.legend(lines + lines2, labels + labels2, loc=0)"
   ]
  },
  {
   "cell_type": "code",
   "execution_count": 14,
   "id": "707e50f2-40f5-4c24-b4e0-ebe5641170e2",
   "metadata": {},
   "outputs": [
    {
     "name": "stderr",
     "output_type": "stream",
     "text": [
      "/project2/roux/scguo/anaconda/envs/py39/lib/python3.9/site-packages/numpy/core/_asarray.py:171: VisibleDeprecationWarning: Creating an ndarray from ragged nested sequences (which is a list-or-tuple of lists-or-tuples-or ndarrays with different lengths or shapes) is deprecated. If you meant to do this, you must specify 'dtype=object' when creating the ndarray.\n",
      "  return array(a, dtype, copy=False, order=order, subok=True)\n"
     ]
    }
   ],
   "source": [
    "np.save(\"../../data/raw_feat/ivac_sidechain_tors\", ivac_tors_trajs)"
   ]
  },
  {
   "cell_type": "markdown",
   "id": "ef70b72a-d838-4015-883e-785a17ce1a5f",
   "metadata": {},
   "source": [
    "# Clustering"
   ]
  },
  {
   "cell_type": "code",
   "execution_count": null,
   "id": "3df77a5a-ff69-42a6-a49c-c33e91d7bc76",
   "metadata": {},
   "outputs": [],
   "source": []
  }
 ],
 "metadata": {
  "kernelspec": {
   "display_name": "Python 3 (ipykernel)",
   "language": "python",
   "name": "python3"
  },
  "language_info": {
   "codemirror_mode": {
    "name": "ipython",
    "version": 3
   },
   "file_extension": ".py",
   "mimetype": "text/x-python",
   "name": "python",
   "nbconvert_exporter": "python",
   "pygments_lexer": "ipython3",
   "version": "3.9.9"
  }
 },
 "nbformat": 4,
 "nbformat_minor": 5
}
