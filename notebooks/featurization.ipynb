{
 "cells": [
  {
   "cell_type": "code",
   "execution_count": 2,
   "metadata": {},
   "outputs": [],
   "source": [
    "import numpy as np\n",
    "import matplotlib.pyplot as plt"
   ]
  },
  {
   "cell_type": "code",
   "execution_count": 3,
   "metadata": {},
   "outputs": [],
   "source": [
    "import pyemma\n",
    "import sys\n",
    "import glob"
   ]
  },
  {
   "cell_type": "markdown",
   "metadata": {
    "heading_collapsed": true
   },
   "source": [
    "# Load Feature 1 (S4 C$\\alpha$ to S123 C$\\alpha$'s)\n",
    "3.12.21"
   ]
  },
  {
   "cell_type": "code",
   "execution_count": 3,
   "metadata": {
    "hidden": true
   },
   "outputs": [
    {
     "name": "stdout",
     "output_type": "stream",
     "text": [
      "12-03-21 18:56:21 pyemma.coordinates.data.featurization.featurizer.MDFeaturizer[0] WARNING  The 1D arrays input for add_distances() have been sorted, and index duplicates have been eliminated.\n",
      "Check the output of describe() to see the actual order of the features\n",
      "2590\n"
     ]
    }
   ],
   "source": [
    "feat = pyemma.coordinates.featurizer(\"../civsd-pro.pdb\")\n",
    "indices_S4_CA = feat.select(\"protein and residue 204 to 238 and name CA\")\n",
    "indices_S123_CA = feat.select(\n",
    "    \"protein and (residue 116 to 138 or residue 144 to 172 or residue 181 to 202) and name CA\"\n",
    ")\n",
    "feat.add_distances(indices_S4_CA, indices2=indices_S123_CA)\n",
    "print(len(feat.describe()))"
   ]
  },
  {
   "cell_type": "code",
   "execution_count": 5,
   "metadata": {
    "hidden": true
   },
   "outputs": [
    {
     "name": "stdout",
     "output_type": "stream",
     "text": [
      "1295\n"
     ]
    }
   ],
   "source": [
    "xtcs = []\n",
    "for i in range(0, 1000):\n",
    "    xtcs.append(f\"../amber/xtc300ns/civsd_{i}_300ns.xtc\")\n",
    "for i in range(0, 295):\n",
    "    xtcs.append(f\"../anton/xtc1000ns/civsd-{i}.xtc\")\n",
    "print(len(xtcs))"
   ]
  },
  {
   "cell_type": "code",
   "execution_count": 5,
   "metadata": {
    "hidden": true,
    "scrolled": true
   },
   "outputs": [
    {
     "data": {
      "application/vnd.jupyter.widget-view+json": {
       "model_id": "a514be79f966495db848a5b222fd9858",
       "version_major": 2,
       "version_minor": 0
      },
      "text/plain": [
       "HBox(children=(FloatProgress(value=0.0, description='Obtaining file info', layout=Layout(flex='2'), max=1000.0…"
      ]
     },
     "metadata": {},
     "output_type": "display_data"
    },
    {
     "ename": "OSError",
     "evalue": "Could not obtain info for file ../amber/xtc300ns/civsd_5_300ns.xtc. Original error was ",
     "output_type": "error",
     "traceback": [
      "\u001b[0;31m---------------------------------------------------------------------------\u001b[0m",
      "\u001b[0;31mKeyError\u001b[0m                                  Traceback (most recent call last)",
      "\u001b[0;32m/project2/roux/scguo/anaconda/envs/py37/lib/python3.7/site-packages/pyemma/coordinates/data/util/traj_info_cache.py\u001b[0m in \u001b[0;36m__getitem__\u001b[0;34m(self, filename_reader_tuple)\u001b[0m\n\u001b[1;32m    185\u001b[0m         \u001b[0;32mtry\u001b[0m\u001b[0;34m:\u001b[0m\u001b[0;34m\u001b[0m\u001b[0;34m\u001b[0m\u001b[0m\n\u001b[0;32m--> 186\u001b[0;31m             \u001b[0minfo\u001b[0m \u001b[0;34m=\u001b[0m \u001b[0mself\u001b[0m\u001b[0;34m.\u001b[0m\u001b[0m_database\u001b[0m\u001b[0;34m.\u001b[0m\u001b[0mget\u001b[0m\u001b[0;34m(\u001b[0m\u001b[0mkey\u001b[0m\u001b[0;34m)\u001b[0m\u001b[0;34m\u001b[0m\u001b[0;34m\u001b[0m\u001b[0m\n\u001b[0m\u001b[1;32m    187\u001b[0m             \u001b[0;32mif\u001b[0m \u001b[0;32mnot\u001b[0m \u001b[0misinstance\u001b[0m\u001b[0;34m(\u001b[0m\u001b[0minfo\u001b[0m\u001b[0;34m,\u001b[0m \u001b[0mTrajInfo\u001b[0m\u001b[0;34m)\u001b[0m\u001b[0;34m:\u001b[0m\u001b[0;34m\u001b[0m\u001b[0;34m\u001b[0m\u001b[0m\n",
      "\u001b[0;32m/project2/roux/scguo/anaconda/envs/py37/lib/python3.7/site-packages/pyemma/coordinates/data/util/traj_info_backends.py\u001b[0m in \u001b[0;36mget\u001b[0;34m(self, key)\u001b[0m\n\u001b[1;32m    228\u001b[0m         \u001b[0;32mif\u001b[0m \u001b[0;32mnot\u001b[0m \u001b[0mrow\u001b[0m\u001b[0;34m:\u001b[0m\u001b[0;34m\u001b[0m\u001b[0;34m\u001b[0m\u001b[0m\n\u001b[0;32m--> 229\u001b[0;31m             \u001b[0;32mraise\u001b[0m \u001b[0mKeyError\u001b[0m\u001b[0;34m(\u001b[0m\u001b[0;34m)\u001b[0m\u001b[0;34m\u001b[0m\u001b[0;34m\u001b[0m\u001b[0m\n\u001b[0m\u001b[1;32m    230\u001b[0m         \u001b[0minfo\u001b[0m \u001b[0;34m=\u001b[0m \u001b[0mself\u001b[0m\u001b[0;34m.\u001b[0m\u001b[0m_create_traj_info\u001b[0m\u001b[0;34m(\u001b[0m\u001b[0mrow\u001b[0m\u001b[0;34m)\u001b[0m\u001b[0;34m\u001b[0m\u001b[0;34m\u001b[0m\u001b[0m\n",
      "\u001b[0;31mKeyError\u001b[0m: ",
      "\nDuring handling of the above exception, another exception occurred:\n",
      "\u001b[0;31mKeyboardInterrupt\u001b[0m                         Traceback (most recent call last)",
      "\u001b[0;32m/project2/roux/scguo/anaconda/envs/py37/lib/python3.7/site-packages/pyemma/coordinates/data/util/traj_info_cache.py\u001b[0m in \u001b[0;36m__getitem__\u001b[0;34m(self, filename_reader_tuple)\u001b[0m\n\u001b[1;32m    197\u001b[0m             \u001b[0;32mtry\u001b[0m\u001b[0;34m:\u001b[0m\u001b[0;34m\u001b[0m\u001b[0;34m\u001b[0m\u001b[0m\n\u001b[0;32m--> 198\u001b[0;31m                 \u001b[0minfo\u001b[0m \u001b[0;34m=\u001b[0m \u001b[0mreader\u001b[0m\u001b[0;34m.\u001b[0m\u001b[0m_get_traj_info\u001b[0m\u001b[0;34m(\u001b[0m\u001b[0mfilename\u001b[0m\u001b[0;34m)\u001b[0m\u001b[0;34m\u001b[0m\u001b[0;34m\u001b[0m\u001b[0m\n\u001b[0m\u001b[1;32m    199\u001b[0m             \u001b[0;32mexcept\u001b[0m \u001b[0mBaseException\u001b[0m \u001b[0;32mas\u001b[0m \u001b[0me\u001b[0m\u001b[0;34m:\u001b[0m\u001b[0;34m\u001b[0m\u001b[0;34m\u001b[0m\u001b[0m\n",
      "\u001b[0;32m/project2/roux/scguo/anaconda/envs/py37/lib/python3.7/site-packages/pyemma/coordinates/data/feature_reader.py\u001b[0m in \u001b[0;36m_get_traj_info\u001b[0;34m(self, filename)\u001b[0m\n\u001b[1;32m    132\u001b[0m             \u001b[0;32mtry\u001b[0m\u001b[0;34m:\u001b[0m\u001b[0;34m\u001b[0m\u001b[0;34m\u001b[0m\u001b[0m\n\u001b[0;32m--> 133\u001b[0;31m                 \u001b[0mlength\u001b[0m \u001b[0;34m=\u001b[0m \u001b[0mlen\u001b[0m\u001b[0;34m(\u001b[0m\u001b[0mfh\u001b[0m\u001b[0;34m)\u001b[0m\u001b[0;34m\u001b[0m\u001b[0;34m\u001b[0m\u001b[0m\n\u001b[0m\u001b[1;32m    134\u001b[0m             \u001b[0;31m# certain formats like txt based ones (.gro, .lammpstrj) do not implement len()\u001b[0m\u001b[0;34m\u001b[0m\u001b[0;34m\u001b[0m\u001b[0;34m\u001b[0m\u001b[0m\n",
      "\u001b[0;32mmdtraj/formats/xtc/xtc.pyx\u001b[0m in \u001b[0;36mmdtraj.formats.xtc.XTCTrajectoryFile.__len__\u001b[0;34m()\u001b[0m\n",
      "\u001b[0;32mmdtraj/formats/xtc/xtc.pyx\u001b[0m in \u001b[0;36mmdtraj.formats.xtc.XTCTrajectoryFile.offsets.__get__\u001b[0;34m()\u001b[0m\n",
      "\u001b[0;32mmdtraj/formats/xtc/xtc.pyx\u001b[0m in \u001b[0;36mmdtraj.formats.xtc.XTCTrajectoryFile._calc_len_and_offsets\u001b[0;34m()\u001b[0m\n",
      "\u001b[0;32m<__array_function__ internals>\u001b[0m in \u001b[0;36mresize\u001b[0;34m(*args, **kwargs)\u001b[0m\n",
      "\u001b[0;31mKeyboardInterrupt\u001b[0m: ",
      "\nDuring handling of the above exception, another exception occurred:\n",
      "\u001b[0;31mOSError\u001b[0m                                   Traceback (most recent call last)",
      "\u001b[0;32m<ipython-input-5-9155e35ed1e0>\u001b[0m in \u001b[0;36m<module>\u001b[0;34m\u001b[0m\n\u001b[0;32m----> 1\u001b[0;31m \u001b[0mfeat1_raw\u001b[0m \u001b[0;34m=\u001b[0m \u001b[0mpyemma\u001b[0m\u001b[0;34m.\u001b[0m\u001b[0mcoordinates\u001b[0m\u001b[0;34m.\u001b[0m\u001b[0mload\u001b[0m\u001b[0;34m(\u001b[0m\u001b[0mxtcs\u001b[0m\u001b[0;34m[\u001b[0m\u001b[0;34m:\u001b[0m\u001b[0;36m1000\u001b[0m\u001b[0;34m]\u001b[0m\u001b[0;34m,\u001b[0m \u001b[0mfeatures\u001b[0m\u001b[0;34m=\u001b[0m\u001b[0mfeat\u001b[0m\u001b[0;34m,\u001b[0m \u001b[0mchunksize\u001b[0m\u001b[0;34m=\u001b[0m\u001b[0;36m128\u001b[0m\u001b[0;34m)\u001b[0m\u001b[0;34m\u001b[0m\u001b[0;34m\u001b[0m\u001b[0m\n\u001b[0m",
      "\u001b[0;32m/project2/roux/scguo/anaconda/envs/py37/lib/python3.7/site-packages/pyemma/coordinates/api.py\u001b[0m in \u001b[0;36mload\u001b[0;34m(trajfiles, features, top, stride, chunksize, **kw)\u001b[0m\n\u001b[1;32m    241\u001b[0m             and (any(isinstance(item, (list, tuple, str)) for item in trajfiles)\n\u001b[1;32m    242\u001b[0m                  or len(trajfiles) is 0)):\n\u001b[0;32m--> 243\u001b[0;31m         \u001b[0mreader\u001b[0m \u001b[0;34m=\u001b[0m \u001b[0mcreate_file_reader\u001b[0m\u001b[0;34m(\u001b[0m\u001b[0mtrajfiles\u001b[0m\u001b[0;34m,\u001b[0m \u001b[0mtop\u001b[0m\u001b[0;34m,\u001b[0m \u001b[0mfeatures\u001b[0m\u001b[0;34m,\u001b[0m \u001b[0mchunksize\u001b[0m\u001b[0;34m=\u001b[0m\u001b[0mcs\u001b[0m\u001b[0;34m,\u001b[0m \u001b[0;34m**\u001b[0m\u001b[0mkw\u001b[0m\u001b[0;34m)\u001b[0m\u001b[0;34m\u001b[0m\u001b[0;34m\u001b[0m\u001b[0m\n\u001b[0m\u001b[1;32m    244\u001b[0m         \u001b[0mtrajs\u001b[0m \u001b[0;34m=\u001b[0m \u001b[0mreader\u001b[0m\u001b[0;34m.\u001b[0m\u001b[0mget_output\u001b[0m\u001b[0;34m(\u001b[0m\u001b[0mstride\u001b[0m\u001b[0;34m=\u001b[0m\u001b[0mstride\u001b[0m\u001b[0;34m)\u001b[0m\u001b[0;34m\u001b[0m\u001b[0;34m\u001b[0m\u001b[0m\n\u001b[1;32m    245\u001b[0m         \u001b[0;32mif\u001b[0m \u001b[0mlen\u001b[0m\u001b[0;34m(\u001b[0m\u001b[0mtrajs\u001b[0m\u001b[0;34m)\u001b[0m \u001b[0;34m==\u001b[0m \u001b[0;36m1\u001b[0m\u001b[0;34m:\u001b[0m\u001b[0;34m\u001b[0m\u001b[0;34m\u001b[0m\u001b[0m\n",
      "\u001b[0;32m/project2/roux/scguo/anaconda/envs/py37/lib/python3.7/site-packages/pyemma/coordinates/data/util/reader_utils.py\u001b[0m in \u001b[0;36mcreate_file_reader\u001b[0;34m(input_files, topology, featurizer, chunksize, **kw)\u001b[0m\n\u001b[1;32m    109\u001b[0m \u001b[0;34m\u001b[0m\u001b[0m\n\u001b[1;32m    110\u001b[0m                 reader = FeatureReader(input_list, featurizer=featurizer, topologyfile=topology,\n\u001b[0;32m--> 111\u001b[0;31m                                        chunksize=chunksize)\n\u001b[0m\u001b[1;32m    112\u001b[0m             \u001b[0;32melif\u001b[0m \u001b[0msuffix\u001b[0m \u001b[0;32min\u001b[0m \u001b[0;34m(\u001b[0m\u001b[0;34m'.npy'\u001b[0m\u001b[0;34m,\u001b[0m \u001b[0;34m'.npz'\u001b[0m\u001b[0;34m)\u001b[0m\u001b[0;34m:\u001b[0m\u001b[0;34m\u001b[0m\u001b[0;34m\u001b[0m\u001b[0m\n\u001b[1;32m    113\u001b[0m                 \u001b[0mreader\u001b[0m \u001b[0;34m=\u001b[0m \u001b[0mNumPyFileReader\u001b[0m\u001b[0;34m(\u001b[0m\u001b[0minput_list\u001b[0m\u001b[0;34m,\u001b[0m \u001b[0mchunksize\u001b[0m\u001b[0;34m=\u001b[0m\u001b[0mchunksize\u001b[0m\u001b[0;34m)\u001b[0m\u001b[0;34m\u001b[0m\u001b[0;34m\u001b[0m\u001b[0m\n",
      "\u001b[0;32m/project2/roux/scguo/anaconda/envs/py37/lib/python3.7/site-packages/pyemma/coordinates/data/feature_reader.py\u001b[0m in \u001b[0;36m__init__\u001b[0;34m(self, trajectories, topologyfile, chunksize, featurizer)\u001b[0m\n\u001b[1;32m     92\u001b[0m         \u001b[0mself\u001b[0m\u001b[0;34m.\u001b[0m\u001b[0m_is_reader\u001b[0m \u001b[0;34m=\u001b[0m \u001b[0;32mTrue\u001b[0m\u001b[0;34m\u001b[0m\u001b[0;34m\u001b[0m\u001b[0m\n\u001b[1;32m     93\u001b[0m         \u001b[0mself\u001b[0m\u001b[0;34m.\u001b[0m\u001b[0mtopfile\u001b[0m \u001b[0;34m=\u001b[0m \u001b[0mtopologyfile\u001b[0m\u001b[0;34m\u001b[0m\u001b[0;34m\u001b[0m\u001b[0m\n\u001b[0;32m---> 94\u001b[0;31m         \u001b[0mself\u001b[0m\u001b[0;34m.\u001b[0m\u001b[0mfilenames\u001b[0m \u001b[0;34m=\u001b[0m \u001b[0mtrajectories\u001b[0m\u001b[0;34m\u001b[0m\u001b[0;34m\u001b[0m\u001b[0m\n\u001b[0m\u001b[1;32m     95\u001b[0m         \u001b[0mself\u001b[0m\u001b[0;34m.\u001b[0m\u001b[0m_return_traj_obj\u001b[0m \u001b[0;34m=\u001b[0m \u001b[0;32mFalse\u001b[0m\u001b[0;34m\u001b[0m\u001b[0;34m\u001b[0m\u001b[0m\n\u001b[1;32m     96\u001b[0m \u001b[0;34m\u001b[0m\u001b[0m\n",
      "\u001b[0;32m/project2/roux/scguo/anaconda/envs/py37/lib/python3.7/site-packages/pyemma/coordinates/data/_base/datasource.py\u001b[0m in \u001b[0;36mfilenames\u001b[0;34m(self, filename_list)\u001b[0m\n\u001b[1;32m    120\u001b[0m                 \u001b[0;32mfor\u001b[0m \u001b[0mfilename\u001b[0m \u001b[0;32min\u001b[0m \u001b[0mfilename_list\u001b[0m\u001b[0;34m:\u001b[0m\u001b[0;34m\u001b[0m\u001b[0;34m\u001b[0m\u001b[0m\n\u001b[1;32m    121\u001b[0m                     \u001b[0;32mif\u001b[0m \u001b[0mconfig\u001b[0m\u001b[0;34m.\u001b[0m\u001b[0muse_trajectory_lengths_cache\u001b[0m\u001b[0;34m:\u001b[0m\u001b[0;34m\u001b[0m\u001b[0;34m\u001b[0m\u001b[0m\n\u001b[0;32m--> 122\u001b[0;31m                         \u001b[0minfo\u001b[0m \u001b[0;34m=\u001b[0m \u001b[0mTrajectoryInfoCache\u001b[0m\u001b[0;34m.\u001b[0m\u001b[0minstance\u001b[0m\u001b[0;34m(\u001b[0m\u001b[0;34m)\u001b[0m\u001b[0;34m[\u001b[0m\u001b[0mfilename\u001b[0m\u001b[0;34m,\u001b[0m \u001b[0mself\u001b[0m\u001b[0;34m]\u001b[0m\u001b[0;34m\u001b[0m\u001b[0;34m\u001b[0m\u001b[0m\n\u001b[0m\u001b[1;32m    123\u001b[0m                     \u001b[0;32melse\u001b[0m\u001b[0;34m:\u001b[0m\u001b[0;34m\u001b[0m\u001b[0;34m\u001b[0m\u001b[0m\n\u001b[1;32m    124\u001b[0m                         \u001b[0minfo\u001b[0m \u001b[0;34m=\u001b[0m \u001b[0mself\u001b[0m\u001b[0;34m.\u001b[0m\u001b[0m_get_traj_info\u001b[0m\u001b[0;34m(\u001b[0m\u001b[0mfilename\u001b[0m\u001b[0;34m)\u001b[0m\u001b[0;34m\u001b[0m\u001b[0;34m\u001b[0m\u001b[0m\n",
      "\u001b[0;32m/project2/roux/scguo/anaconda/envs/py37/lib/python3.7/site-packages/pyemma/coordinates/data/util/traj_info_cache.py\u001b[0m in \u001b[0;36m__getitem__\u001b[0;34m(self, filename_reader_tuple)\u001b[0m\n\u001b[1;32m    199\u001b[0m             \u001b[0;32mexcept\u001b[0m \u001b[0mBaseException\u001b[0m \u001b[0;32mas\u001b[0m \u001b[0me\u001b[0m\u001b[0;34m:\u001b[0m\u001b[0;34m\u001b[0m\u001b[0;34m\u001b[0m\u001b[0m\n\u001b[1;32m    200\u001b[0m                 raise IOError('Could not obtain info for file {f}. '\n\u001b[0;32m--> 201\u001b[0;31m                               'Original error was {e}'.format(f=filename, e=e))\n\u001b[0m\u001b[1;32m    202\u001b[0m             \u001b[0minfo\u001b[0m\u001b[0;34m.\u001b[0m\u001b[0mhash_value\u001b[0m \u001b[0;34m=\u001b[0m \u001b[0mkey\u001b[0m\u001b[0;34m\u001b[0m\u001b[0;34m\u001b[0m\u001b[0m\n\u001b[1;32m    203\u001b[0m             \u001b[0minfo\u001b[0m\u001b[0;34m.\u001b[0m\u001b[0mabs_path\u001b[0m \u001b[0;34m=\u001b[0m \u001b[0mabs_path\u001b[0m\u001b[0;34m\u001b[0m\u001b[0;34m\u001b[0m\u001b[0m\n",
      "\u001b[0;31mOSError\u001b[0m: Could not obtain info for file ../amber/xtc300ns/civsd_5_300ns.xtc. Original error was "
     ]
    }
   ],
   "source": [
    "feat1_raw = pyemma.coordinates.load(xtcs[:1000], features=feat, chunksize=128)"
   ]
  },
  {
   "cell_type": "code",
   "execution_count": 8,
   "metadata": {
    "hidden": true
   },
   "outputs": [
    {
     "name": "stdout",
     "output_type": "stream",
     "text": [
      "1000\n"
     ]
    }
   ],
   "source": [
    "print(len(feat1_raw))"
   ]
  },
  {
   "cell_type": "code",
   "execution_count": 12,
   "metadata": {
    "hidden": true
   },
   "outputs": [
    {
     "data": {
      "text/plain": [
       "161"
      ]
     },
     "execution_count": 12,
     "metadata": {},
     "output_type": "execute_result"
    }
   ],
   "source": [
    "import gc\n",
    "\n",
    "gc.collect()"
   ]
  },
  {
   "cell_type": "code",
   "execution_count": 5,
   "metadata": {
    "hidden": true
   },
   "outputs": [
    {
     "data": {
      "application/vnd.jupyter.widget-view+json": {
       "model_id": "2f39c740fb264722a8ca0e3b6b9534da",
       "version_major": 2,
       "version_minor": 0
      },
      "text/plain": [
       "HBox(children=(FloatProgress(value=0.0, description='Obtaining file info', layout=Layout(flex='2'), max=295.0,…"
      ]
     },
     "metadata": {},
     "output_type": "display_data"
    },
    {
     "data": {
      "application/vnd.jupyter.widget-view+json": {
       "model_id": "56b92cc7a19b4a33862820f47a6fc7e0",
       "version_major": 2,
       "version_minor": 0
      },
      "text/plain": [
       "HBox(children=(FloatProgress(value=0.0, description='getting output of FeatureReader', layout=Layout(flex='2')…"
      ]
     },
     "metadata": {},
     "output_type": "display_data"
    }
   ],
   "source": [
    "feat1_raw_anton = pyemma.coordinates.load(xtcs[1000:], features=feat, chunksize=128)"
   ]
  },
  {
   "cell_type": "code",
   "execution_count": 14,
   "metadata": {
    "hidden": true
   },
   "outputs": [],
   "source": [
    "np.savez_compressed(\"../data/feat1_raw1.npz\", feat1_raw[:500])"
   ]
  },
  {
   "cell_type": "code",
   "execution_count": 15,
   "metadata": {
    "hidden": true
   },
   "outputs": [],
   "source": [
    "np.savez_compressed(\"../data/feat1_raw2.npz\", feat1_raw[500:])"
   ]
  },
  {
   "cell_type": "code",
   "execution_count": 6,
   "metadata": {
    "hidden": true
   },
   "outputs": [
    {
     "name": "stderr",
     "output_type": "stream",
     "text": [
      "/project2/roux/scguo/anaconda/envs/py37/lib/python3.7/site-packages/numpy/core/_asarray.py:136: VisibleDeprecationWarning: Creating an ndarray from ragged nested sequences (which is a list-or-tuple of lists-or-tuples-or ndarrays with different lengths or shapes) is deprecated. If you meant to do this, you must specify 'dtype=object' when creating the ndarray\n",
      "  return array(a, dtype, copy=False, order=order, subok=True)\n"
     ]
    }
   ],
   "source": [
    "np.savez_compressed(\"../data/feat1_raw_anton.npz\", feat1_raw_anton)"
   ]
  },
  {
   "cell_type": "markdown",
   "metadata": {
    "heading_collapsed": true
   },
   "source": [
    "# Load feature 3 (salt bridges + S4 backbone torsions) "
   ]
  },
  {
   "cell_type": "code",
   "execution_count": 3,
   "metadata": {
    "hidden": true
   },
   "outputs": [],
   "source": [
    "feat3 = pyemma.coordinates.featurizer(\"../civsd-pro.pdb\")\n",
    "pair_indices = np.loadtxt(\"../data/feat3_atom_indices.txt\", dtype=np.int32)\n",
    "feat3.add_distances(pair_indices)\n",
    "feat3.add_backbone_torsions(selstr=\"protein and residue 204 to 238\")"
   ]
  },
  {
   "cell_type": "code",
   "execution_count": 4,
   "metadata": {
    "hidden": true
   },
   "outputs": [
    {
     "data": {
      "text/plain": [
       "['DIST: ARG 217 CA 1768 - ASP 129 CA 406',\n",
       " 'DIST: ARG 217 CA 1768 - ASP 136 CA 530',\n",
       " 'DIST: ARG 217 CA 1768 - ASP 151 CA 751',\n",
       " 'DIST: ARG 217 CA 1768 - ASP 164 CA 944',\n",
       " 'DIST: ARG 217 CA 1768 - GLU 183 CA 1258',\n",
       " 'DIST: ARG 217 CA 1768 - ASP 186 CA 1299',\n",
       " 'DIST: ARG 223 CA 1872 - ASP 129 CA 406',\n",
       " 'DIST: ARG 223 CA 1872 - ASP 136 CA 530',\n",
       " 'DIST: ARG 223 CA 1872 - ASP 151 CA 751',\n",
       " 'DIST: ARG 223 CA 1872 - ASP 164 CA 944',\n",
       " 'DIST: ARG 223 CA 1872 - GLU 183 CA 1258',\n",
       " 'DIST: ARG 223 CA 1872 - ASP 186 CA 1299',\n",
       " 'DIST: ARG 226 CA 1934 - ASP 129 CA 406',\n",
       " 'DIST: ARG 226 CA 1934 - ASP 136 CA 530',\n",
       " 'DIST: ARG 226 CA 1934 - ASP 151 CA 751',\n",
       " 'DIST: ARG 226 CA 1934 - ASP 164 CA 944',\n",
       " 'DIST: ARG 226 CA 1934 - GLU 183 CA 1258',\n",
       " 'DIST: ARG 226 CA 1934 - ASP 186 CA 1299',\n",
       " 'DIST: ARG 229 CA 1990 - ASP 129 CA 406',\n",
       " 'DIST: ARG 229 CA 1990 - ASP 136 CA 530',\n",
       " 'DIST: ARG 229 CA 1990 - ASP 151 CA 751',\n",
       " 'DIST: ARG 229 CA 1990 - ASP 164 CA 944',\n",
       " 'DIST: ARG 229 CA 1990 - GLU 183 CA 1258',\n",
       " 'DIST: ARG 229 CA 1990 - ASP 186 CA 1299',\n",
       " 'DIST: ARG 232 CA 2043 - ASP 129 CA 406',\n",
       " 'DIST: ARG 232 CA 2043 - ASP 136 CA 530',\n",
       " 'DIST: ARG 232 CA 2043 - ASP 151 CA 751',\n",
       " 'DIST: ARG 232 CA 2043 - ASP 164 CA 944',\n",
       " 'DIST: ARG 232 CA 2043 - GLU 183 CA 1258',\n",
       " 'DIST: ARG 232 CA 2043 - ASP 186 CA 1299',\n",
       " 'DIST: ARG 217 CZ 1781 - ASP 129 CG 411',\n",
       " 'DIST: ARG 217 CZ 1781 - ASP 136 CG 535',\n",
       " 'DIST: ARG 217 CZ 1781 - ASP 151 CG 756',\n",
       " 'DIST: ARG 217 CZ 1781 - ASP 164 CG 949',\n",
       " 'DIST: ARG 217 CZ 1781 - GLU 183 CD 1266',\n",
       " 'DIST: ARG 217 CZ 1781 - ASP 186 CG 1304',\n",
       " 'DIST: ARG 223 CZ 1885 - ASP 129 CG 411',\n",
       " 'DIST: ARG 223 CZ 1885 - ASP 136 CG 535',\n",
       " 'DIST: ARG 223 CZ 1885 - ASP 151 CG 756',\n",
       " 'DIST: ARG 223 CZ 1885 - ASP 164 CG 949',\n",
       " 'DIST: ARG 223 CZ 1885 - GLU 183 CD 1266',\n",
       " 'DIST: ARG 223 CZ 1885 - ASP 186 CG 1304',\n",
       " 'DIST: ARG 226 CZ 1947 - ASP 129 CG 411',\n",
       " 'DIST: ARG 226 CZ 1947 - ASP 136 CG 535',\n",
       " 'DIST: ARG 226 CZ 1947 - ASP 151 CG 756',\n",
       " 'DIST: ARG 226 CZ 1947 - ASP 164 CG 949',\n",
       " 'DIST: ARG 226 CZ 1947 - GLU 183 CD 1266',\n",
       " 'DIST: ARG 226 CZ 1947 - ASP 186 CG 1304',\n",
       " 'DIST: ARG 229 CZ 2003 - ASP 129 CG 411',\n",
       " 'DIST: ARG 229 CZ 2003 - ASP 136 CG 535',\n",
       " 'DIST: ARG 229 CZ 2003 - ASP 151 CG 756',\n",
       " 'DIST: ARG 229 CZ 2003 - ASP 164 CG 949',\n",
       " 'DIST: ARG 229 CZ 2003 - GLU 183 CD 1266',\n",
       " 'DIST: ARG 229 CZ 2003 - ASP 186 CG 1304',\n",
       " 'DIST: ARG 232 CZ 2056 - ASP 129 CG 411',\n",
       " 'DIST: ARG 232 CZ 2056 - ASP 136 CG 535',\n",
       " 'DIST: ARG 232 CZ 2056 - ASP 151 CG 756',\n",
       " 'DIST: ARG 232 CZ 2056 - ASP 164 CG 949',\n",
       " 'DIST: ARG 232 CZ 2056 - GLU 183 CD 1266',\n",
       " 'DIST: ARG 232 CZ 2056 - ASP 186 CG 1304',\n",
       " 'PHI 0 ASP 204',\n",
       " 'PSI 0 ASP 204',\n",
       " 'PHI 0 GLU 205',\n",
       " 'PSI 0 GLU 205',\n",
       " 'PHI 0 TYR 206',\n",
       " 'PSI 0 TYR 206',\n",
       " 'PHI 0 VAL 207',\n",
       " 'PSI 0 VAL 207',\n",
       " 'PHI 0 GLN 208',\n",
       " 'PSI 0 GLN 208',\n",
       " 'PHI 0 GLU 209',\n",
       " 'PSI 0 GLU 209',\n",
       " 'PHI 0 THR 210',\n",
       " 'PSI 0 THR 210',\n",
       " 'PHI 0 GLY 211',\n",
       " 'PSI 0 GLY 211',\n",
       " 'PHI 0 ALA 212',\n",
       " 'PSI 0 ALA 212',\n",
       " 'PHI 0 ASP 213',\n",
       " 'PSI 0 ASP 213',\n",
       " 'PHI 0 GLY 214',\n",
       " 'PSI 0 GLY 214',\n",
       " 'PHI 0 LEU 215',\n",
       " 'PSI 0 LEU 215',\n",
       " 'PHI 0 GLY 216',\n",
       " 'PSI 0 GLY 216',\n",
       " 'PHI 0 ARG 217',\n",
       " 'PSI 0 ARG 217',\n",
       " 'PHI 0 LEU 218',\n",
       " 'PSI 0 LEU 218',\n",
       " 'PHI 0 VAL 219',\n",
       " 'PSI 0 VAL 219',\n",
       " 'PHI 0 VAL 220',\n",
       " 'PSI 0 VAL 220',\n",
       " 'PHI 0 LEU 221',\n",
       " 'PSI 0 LEU 221',\n",
       " 'PHI 0 ALA 222',\n",
       " 'PSI 0 ALA 222',\n",
       " 'PHI 0 ARG 223',\n",
       " 'PSI 0 ARG 223',\n",
       " 'PHI 0 LEU 224',\n",
       " 'PSI 0 LEU 224',\n",
       " 'PHI 0 LEU 225',\n",
       " 'PSI 0 LEU 225',\n",
       " 'PHI 0 ARG 226',\n",
       " 'PSI 0 ARG 226',\n",
       " 'PHI 0 VAL 227',\n",
       " 'PSI 0 VAL 227',\n",
       " 'PHI 0 VAL 228',\n",
       " 'PSI 0 VAL 228',\n",
       " 'PHI 0 ARG 229',\n",
       " 'PSI 0 ARG 229',\n",
       " 'PHI 0 LEU 230',\n",
       " 'PSI 0 LEU 230',\n",
       " 'PHI 0 ALA 231',\n",
       " 'PSI 0 ALA 231',\n",
       " 'PHI 0 ARG 232',\n",
       " 'PSI 0 ARG 232',\n",
       " 'PHI 0 ILE 233',\n",
       " 'PSI 0 ILE 233',\n",
       " 'PHI 0 PHE 234',\n",
       " 'PSI 0 PHE 234',\n",
       " 'PHI 0 TYR 235',\n",
       " 'PSI 0 TYR 235',\n",
       " 'PHI 0 SER 236',\n",
       " 'PSI 0 SER 236',\n",
       " 'PHI 0 HIS 237',\n",
       " 'PSI 0 HIS 237',\n",
       " 'PHI 0 GLN 238',\n",
       " 'PSI 0 GLN 238']"
      ]
     },
     "execution_count": 4,
     "metadata": {},
     "output_type": "execute_result"
    }
   ],
   "source": [
    "feat3.describe()"
   ]
  },
  {
   "cell_type": "code",
   "execution_count": 4,
   "metadata": {
    "hidden": true
   },
   "outputs": [
    {
     "data": {
      "text/plain": [
       "130"
      ]
     },
     "execution_count": 4,
     "metadata": {},
     "output_type": "execute_result"
    }
   ],
   "source": [
    "len(feat3.describe())"
   ]
  },
  {
   "cell_type": "code",
   "execution_count": 5,
   "metadata": {
    "hidden": true
   },
   "outputs": [
    {
     "name": "stdout",
     "output_type": "stream",
     "text": [
      "60\n"
     ]
    }
   ],
   "source": [
    "print(len(pair_indices))"
   ]
  },
  {
   "cell_type": "code",
   "execution_count": 10,
   "metadata": {
    "hidden": true
   },
   "outputs": [
    {
     "data": {
      "application/vnd.jupyter.widget-view+json": {
       "model_id": "e38b4c1710a94e39af6bb24471695b45",
       "version_major": 2,
       "version_minor": 0
      },
      "text/plain": [
       "HBox(children=(FloatProgress(value=0.0, description='Obtaining file info', layout=Layout(flex='2'), max=1295.0…"
      ]
     },
     "metadata": {},
     "output_type": "display_data"
    },
    {
     "data": {
      "application/vnd.jupyter.widget-view+json": {
       "model_id": "16eb98054d08471281a4fecc9196905e",
       "version_major": 2,
       "version_minor": 0
      },
      "text/plain": [
       "HBox(children=(FloatProgress(value=0.0, description='getting output of FeatureReader', layout=Layout(flex='2')…"
      ]
     },
     "metadata": {},
     "output_type": "display_data"
    },
    {
     "name": "stderr",
     "output_type": "stream",
     "text": [
      "IOPub message rate exceeded.\n",
      "The notebook server will temporarily stop sending output\n",
      "to the client in order to avoid crashing it.\n",
      "To change this limit, set the config variable\n",
      "`--NotebookApp.iopub_msg_rate_limit`.\n",
      "\n",
      "Current values:\n",
      "NotebookApp.iopub_msg_rate_limit=1000.0 (msgs/sec)\n",
      "NotebookApp.rate_limit_window=3.0 (secs)\n",
      "\n",
      "IOPub message rate exceeded.\n",
      "The notebook server will temporarily stop sending output\n",
      "to the client in order to avoid crashing it.\n",
      "To change this limit, set the config variable\n",
      "`--NotebookApp.iopub_msg_rate_limit`.\n",
      "\n",
      "Current values:\n",
      "NotebookApp.iopub_msg_rate_limit=1000.0 (msgs/sec)\n",
      "NotebookApp.rate_limit_window=3.0 (secs)\n",
      "\n"
     ]
    }
   ],
   "source": [
    "feat3_raw = pyemma.coordinates.load(xtcs, features=feat3, chunksize=128)"
   ]
  },
  {
   "cell_type": "code",
   "execution_count": 11,
   "metadata": {
    "hidden": true
   },
   "outputs": [
    {
     "name": "stderr",
     "output_type": "stream",
     "text": [
      "/project2/roux/scguo/anaconda/envs/py37/lib/python3.7/site-packages/numpy/core/_asarray.py:136: VisibleDeprecationWarning: Creating an ndarray from ragged nested sequences (which is a list-or-tuple of lists-or-tuples-or ndarrays with different lengths or shapes) is deprecated. If you meant to do this, you must specify 'dtype=object' when creating the ndarray\n",
      "  return array(a, dtype, copy=False, order=order, subok=True)\n"
     ]
    }
   ],
   "source": [
    "np.savez_compressed(\"../data/feat3_raw.npz\", feat3_raw)"
   ]
  },
  {
   "cell_type": "code",
   "execution_count": 12,
   "metadata": {
    "hidden": true
   },
   "outputs": [
    {
     "data": {
      "text/plain": [
       "1295"
      ]
     },
     "execution_count": 12,
     "metadata": {},
     "output_type": "execute_result"
    }
   ],
   "source": [
    "len(feat3_raw)"
   ]
  },
  {
   "cell_type": "markdown",
   "metadata": {},
   "source": [
    "# Load feature 2 (just salt bridges) "
   ]
  },
  {
   "cell_type": "code",
   "execution_count": 3,
   "metadata": {},
   "outputs": [],
   "source": [
    "feat2 = pyemma.coordinates.featurizer(\"../civsd-pro.pdb\")\n",
    "pair_indices = np.loadtxt(\"../data/feat3_atom_indices.txt\", dtype=np.int32)\n",
    "feat2.add_distances(pair_indices)"
   ]
  },
  {
   "cell_type": "code",
   "execution_count": 4,
   "metadata": {},
   "outputs": [
    {
     "data": {
      "text/plain": [
       "60"
      ]
     },
     "execution_count": 4,
     "metadata": {},
     "output_type": "execute_result"
    }
   ],
   "source": [
    "len(feat2.describe())"
   ]
  },
  {
   "cell_type": "code",
   "execution_count": 17,
   "metadata": {},
   "outputs": [
    {
     "data": {
      "application/vnd.jupyter.widget-view+json": {
       "model_id": "2674a353981b4bb9b36e85852b45fc6f",
       "version_major": 2,
       "version_minor": 0
      },
      "text/plain": [
       "HBox(children=(FloatProgress(value=0.0, description='Obtaining file info', layout=Layout(flex='2'), max=1295.0…"
      ]
     },
     "metadata": {},
     "output_type": "display_data"
    },
    {
     "data": {
      "application/vnd.jupyter.widget-view+json": {
       "model_id": "fa6c4261e8864795bea7ee052c81a381",
       "version_major": 2,
       "version_minor": 0
      },
      "text/plain": [
       "HBox(children=(FloatProgress(value=0.0, description='getting output of FeatureReader', layout=Layout(flex='2')…"
      ]
     },
     "metadata": {},
     "output_type": "display_data"
    }
   ],
   "source": [
    "feat2_raw = pyemma.coordinates.load(xtcs, features=feat2, chunksize=128)"
   ]
  },
  {
   "cell_type": "code",
   "execution_count": null,
   "metadata": {},
   "outputs": [
    {
     "name": "stderr",
     "output_type": "stream",
     "text": [
      "/project2/roux/scguo/anaconda/envs/py37/lib/python3.7/site-packages/numpy/core/_asarray.py:136: VisibleDeprecationWarning: Creating an ndarray from ragged nested sequences (which is a list-or-tuple of lists-or-tuples-or ndarrays with different lengths or shapes) is deprecated. If you meant to do this, you must specify 'dtype=object' when creating the ndarray\n",
      "  return array(a, dtype, copy=False, order=order, subok=True)\n"
     ]
    }
   ],
   "source": [
    "np.savez_compressed(\"../data/feat2_raw.npz\", feat2_raw)"
   ]
  },
  {
   "cell_type": "markdown",
   "metadata": {},
   "source": [
    "# Load feature 4 (indicators for contacts between S4 and S123) "
   ]
  },
  {
   "cell_type": "markdown",
   "metadata": {},
   "source": [
    "Take contact as any heavy atoms within 4.5 Å"
   ]
  },
  {
   "cell_type": "markdown",
   "metadata": {},
   "source": [
    "Run on 3.31.2021"
   ]
  },
  {
   "cell_type": "code",
   "execution_count": 4,
   "metadata": {},
   "outputs": [
    {
     "name": "stdout",
     "output_type": "stream",
     "text": [
      "1924\n"
     ]
    }
   ],
   "source": [
    "feat4 = pyemma.coordinates.featurizer(\"../civsd-pro.pdb\")\n",
    "pair_indices4 = np.loadtxt(\n",
    "    \"../amber-gpu/pyemma-civsd-feat5-msmb-combined/AtomIndices.txt\", dtype=np.int32\n",
    ")\n",
    "feat4.add_residue_mindist(\n",
    "    residue_pairs=pair_indices4, scheme=\"closest-heavy\", threshold=0.45, periodic=False\n",
    ")\n",
    "print(len(feat4.describe()))"
   ]
  },
  {
   "cell_type": "code",
   "execution_count": 6,
   "metadata": {
    "jupyter": {
     "outputs_hidden": true
    }
   },
   "outputs": [
    {
     "data": {
      "application/vnd.jupyter.widget-view+json": {
       "model_id": "",
       "version_major": 2,
       "version_minor": 0
      },
      "text/plain": [
       "HBox(children=(FloatProgress(value=0.0, description='Obtaining file info', layout=Layout(flex='2'), max=1295.0…"
      ]
     },
     "metadata": {},
     "output_type": "display_data"
    },
    {
     "data": {
      "application/vnd.jupyter.widget-view+json": {
       "model_id": "",
       "version_major": 2,
       "version_minor": 0
      },
      "text/plain": [
       "HBox(children=(FloatProgress(value=0.0, description='getting output of FeatureReader', layout=Layout(flex='2')…"
      ]
     },
     "metadata": {},
     "output_type": "display_data"
    },
    {
     "name": "stderr",
     "output_type": "stream",
     "text": [
      "IOPub message rate exceeded.\n",
      "The notebook server will temporarily stop sending output\n",
      "to the client in order to avoid crashing it.\n",
      "To change this limit, set the config variable\n",
      "`--NotebookApp.iopub_msg_rate_limit`.\n",
      "\n",
      "Current values:\n",
      "NotebookApp.iopub_msg_rate_limit=1000.0 (msgs/sec)\n",
      "NotebookApp.rate_limit_window=3.0 (secs)\n",
      "\n",
      "IOPub message rate exceeded.\n",
      "The notebook server will temporarily stop sending output\n",
      "to the client in order to avoid crashing it.\n",
      "To change this limit, set the config variable\n",
      "`--NotebookApp.iopub_msg_rate_limit`.\n",
      "\n",
      "Current values:\n",
      "NotebookApp.iopub_msg_rate_limit=1000.0 (msgs/sec)\n",
      "NotebookApp.rate_limit_window=3.0 (secs)\n",
      "\n",
      "IOPub message rate exceeded.\n",
      "The notebook server will temporarily stop sending output\n",
      "to the client in order to avoid crashing it.\n",
      "To change this limit, set the config variable\n",
      "`--NotebookApp.iopub_msg_rate_limit`.\n",
      "\n",
      "Current values:\n",
      "NotebookApp.iopub_msg_rate_limit=1000.0 (msgs/sec)\n",
      "NotebookApp.rate_limit_window=3.0 (secs)\n",
      "\n",
      "IOPub message rate exceeded.\n",
      "The notebook server will temporarily stop sending output\n",
      "to the client in order to avoid crashing it.\n",
      "To change this limit, set the config variable\n",
      "`--NotebookApp.iopub_msg_rate_limit`.\n",
      "\n",
      "Current values:\n",
      "NotebookApp.iopub_msg_rate_limit=1000.0 (msgs/sec)\n",
      "NotebookApp.rate_limit_window=3.0 (secs)\n",
      "\n",
      "IOPub message rate exceeded.\n",
      "The notebook server will temporarily stop sending output\n",
      "to the client in order to avoid crashing it.\n",
      "To change this limit, set the config variable\n",
      "`--NotebookApp.iopub_msg_rate_limit`.\n",
      "\n",
      "Current values:\n",
      "NotebookApp.iopub_msg_rate_limit=1000.0 (msgs/sec)\n",
      "NotebookApp.rate_limit_window=3.0 (secs)\n",
      "\n",
      "IOPub message rate exceeded.\n",
      "The notebook server will temporarily stop sending output\n",
      "to the client in order to avoid crashing it.\n",
      "To change this limit, set the config variable\n",
      "`--NotebookApp.iopub_msg_rate_limit`.\n",
      "\n",
      "Current values:\n",
      "NotebookApp.iopub_msg_rate_limit=1000.0 (msgs/sec)\n",
      "NotebookApp.rate_limit_window=3.0 (secs)\n",
      "\n",
      "IOPub message rate exceeded.\n",
      "The notebook server will temporarily stop sending output\n",
      "to the client in order to avoid crashing it.\n",
      "To change this limit, set the config variable\n",
      "`--NotebookApp.iopub_msg_rate_limit`.\n",
      "\n",
      "Current values:\n",
      "NotebookApp.iopub_msg_rate_limit=1000.0 (msgs/sec)\n",
      "NotebookApp.rate_limit_window=3.0 (secs)\n",
      "\n",
      "IOPub message rate exceeded.\n",
      "The notebook server will temporarily stop sending output\n",
      "to the client in order to avoid crashing it.\n",
      "To change this limit, set the config variable\n",
      "`--NotebookApp.iopub_msg_rate_limit`.\n",
      "\n",
      "Current values:\n",
      "NotebookApp.iopub_msg_rate_limit=1000.0 (msgs/sec)\n",
      "NotebookApp.rate_limit_window=3.0 (secs)\n",
      "\n",
      "IOPub message rate exceeded.\n",
      "The notebook server will temporarily stop sending output\n",
      "to the client in order to avoid crashing it.\n",
      "To change this limit, set the config variable\n",
      "`--NotebookApp.iopub_msg_rate_limit`.\n",
      "\n",
      "Current values:\n",
      "NotebookApp.iopub_msg_rate_limit=1000.0 (msgs/sec)\n",
      "NotebookApp.rate_limit_window=3.0 (secs)\n",
      "\n",
      "IOPub message rate exceeded.\n",
      "The notebook server will temporarily stop sending output\n",
      "to the client in order to avoid crashing it.\n",
      "To change this limit, set the config variable\n",
      "`--NotebookApp.iopub_msg_rate_limit`.\n",
      "\n",
      "Current values:\n",
      "NotebookApp.iopub_msg_rate_limit=1000.0 (msgs/sec)\n",
      "NotebookApp.rate_limit_window=3.0 (secs)\n",
      "\n",
      "IOPub message rate exceeded.\n",
      "The notebook server will temporarily stop sending output\n",
      "to the client in order to avoid crashing it.\n",
      "To change this limit, set the config variable\n",
      "`--NotebookApp.iopub_msg_rate_limit`.\n",
      "\n",
      "Current values:\n",
      "NotebookApp.iopub_msg_rate_limit=1000.0 (msgs/sec)\n",
      "NotebookApp.rate_limit_window=3.0 (secs)\n",
      "\n",
      "IOPub message rate exceeded.\n",
      "The notebook server will temporarily stop sending output\n",
      "to the client in order to avoid crashing it.\n",
      "To change this limit, set the config variable\n",
      "`--NotebookApp.iopub_msg_rate_limit`.\n",
      "\n",
      "Current values:\n",
      "NotebookApp.iopub_msg_rate_limit=1000.0 (msgs/sec)\n",
      "NotebookApp.rate_limit_window=3.0 (secs)\n",
      "\n"
     ]
    }
   ],
   "source": [
    "feat4_raw = pyemma.coordinates.load(xtcs, features=feat4, chunksize=32)"
   ]
  },
  {
   "cell_type": "code",
   "execution_count": null,
   "metadata": {},
   "outputs": [],
   "source": [
    "np.savez_compressed(\"../data/raw_feat/feat4_raw.npz\", feat4_raw)"
   ]
  },
  {
   "cell_type": "code",
   "execution_count": 1,
   "metadata": {},
   "outputs": [
    {
     "ename": "NameError",
     "evalue": "name 'np' is not defined",
     "output_type": "error",
     "traceback": [
      "\u001b[0;31m---------------------------------------------------------------------------\u001b[0m",
      "\u001b[0;31mNameError\u001b[0m                                 Traceback (most recent call last)",
      "\u001b[0;32m<ipython-input-1-e13def3373d0>\u001b[0m in \u001b[0;36m<module>\u001b[0;34m\u001b[0m\n\u001b[0;32m----> 1\u001b[0;31m \u001b[0mnp\u001b[0m\u001b[0;34m.\u001b[0m\u001b[0msavez_compressed\u001b[0m\u001b[0;34m(\u001b[0m\u001b[0;34m'../data/raw_feat/feat4_raw.npz'\u001b[0m\u001b[0;34m,\u001b[0m \u001b[0mfeat4_raw\u001b[0m\u001b[0;34m)\u001b[0m\u001b[0;34m\u001b[0m\u001b[0;34m\u001b[0m\u001b[0m\n\u001b[0m",
      "\u001b[0;31mNameError\u001b[0m: name 'np' is not defined"
     ]
    }
   ],
   "source": [
    "np.savez_compressed(\"../data/raw_feat/feat4_raw.npz\", feat4_raw)"
   ]
  },
  {
   "cell_type": "markdown",
   "metadata": {},
   "source": [
    "# Feature 5 (transformed minimum distance $e^{-d}$ between S4 and S123)"
   ]
  },
  {
   "cell_type": "code",
   "execution_count": null,
   "metadata": {},
   "outputs": [],
   "source": [
    "feat5_raw = [np.exp(-traj) for traj in feat4_raw]"
   ]
  },
  {
   "cell_type": "markdown",
   "metadata": {},
   "source": [
    "# Featurize crystal states and models "
   ]
  },
  {
   "cell_type": "markdown",
   "metadata": {},
   "source": [
    "## Feat 2 "
   ]
  },
  {
   "cell_type": "code",
   "execution_count": 50,
   "metadata": {},
   "outputs": [],
   "source": [
    "import mdtraj as md"
   ]
  },
  {
   "cell_type": "code",
   "execution_count": 52,
   "metadata": {},
   "outputs": [],
   "source": [
    "top = md.load(\"../models/Initial-models/civsd-up.pdb\").topology"
   ]
  },
  {
   "cell_type": "code",
   "execution_count": 71,
   "metadata": {},
   "outputs": [
    {
     "data": {
      "text/plain": [
       "array([1768, 1896, 1958, 2014, 2067])"
      ]
     },
     "execution_count": 71,
     "metadata": {},
     "output_type": "execute_result"
    }
   ],
   "source": [
    "top.select(\"resid 111 118 121 124 127 and name CA\")"
   ]
  },
  {
   "cell_type": "code",
   "execution_count": 70,
   "metadata": {},
   "outputs": [
    {
     "data": {
      "text/plain": [
       "array([  45,   85,  226, 1001, 1768, 1872, 1934, 1990, 2043])"
      ]
     },
     "execution_count": 70,
     "metadata": {},
     "output_type": "execute_result"
    }
   ],
   "source": [
    "top.select(\"resname ARG and name CA\")"
   ]
  },
  {
   "cell_type": "code",
   "execution_count": 65,
   "metadata": {},
   "outputs": [
    {
     "data": {
      "text/plain": [
       "array([547, 961])"
      ]
     },
     "execution_count": 65,
     "metadata": {},
     "output_type": "execute_result"
    }
   ],
   "source": [
    "top.select(\"(resid 24 31 46 59 81 and name CG) or (protein and resid 78 and name CD)\")"
   ]
  },
  {
   "cell_type": "code",
   "execution_count": 68,
   "metadata": {},
   "outputs": [
    {
     "data": {
      "text/plain": [
       "array([ 154,  406,  530,  751,  944, 1299, 1596, 1723])"
      ]
     },
     "execution_count": 68,
     "metadata": {},
     "output_type": "execute_result"
    }
   ],
   "source": [
    "top.select(\"resname ASP and name CA\")"
   ]
  },
  {
   "cell_type": "code",
   "execution_count": 69,
   "metadata": {},
   "outputs": [
    {
     "data": {
      "text/plain": [
       "array([ 418,  542,  763,  956, 1273, 1311])"
      ]
     },
     "execution_count": 69,
     "metadata": {},
     "output_type": "execute_result"
    }
   ],
   "source": [
    "top.select(\"resid 24 31 46 59 78 81 and name CA\")"
   ]
  },
  {
   "cell_type": "code",
   "execution_count": 74,
   "metadata": {},
   "outputs": [
    {
     "name": "stdout",
     "output_type": "stream",
     "text": [
      "21-04-21 15:58:26 pyemma.coordinates.data.featurization.featurizer.MDFeaturizer[23] WARNING  The 1D arrays input for add_distances() have been sorted, and index duplicates have been eliminated.\n",
      "Check the output of describe() to see the actual order of the features\n",
      "21-04-21 15:58:26 pyemma.coordinates.data.featurization.featurizer.MDFeaturizer[23] WARNING  The 1D arrays input for add_distances() have been sorted, and index duplicates have been eliminated.\n",
      "Check the output of describe() to see the actual order of the features\n"
     ]
    }
   ],
   "source": [
    "feat2 = pyemma.coordinates.featurizer(\"../models/Initial-models/civsd-down-minus.pdb\")\n",
    "r_ca = feat2.select(\"resid 111 117 120 123 126 and name CA\")\n",
    "r_cz = feat2.select(\"resid 111 117 120 123 126 and name CZ\")\n",
    "d_ca = feat2.select(\"resid 23 30 45 58 77 80 and name CA\")\n",
    "d_cg = feat2.select(\n",
    "    \"(resid 23 30 45 58 80 and name CG) or (protein and resid 77 and name CD)\"\n",
    ")\n",
    "feat2.add_distances(r_ca, indices2=d_ca)\n",
    "feat2.add_distances(r_cz, indices2=d_cg)"
   ]
  },
  {
   "cell_type": "code",
   "execution_count": 75,
   "metadata": {
    "jupyter": {
     "outputs_hidden": true
    }
   },
   "outputs": [
    {
     "data": {
      "text/plain": [
       "['DIST: ARG 217 CA 1768 0 - ASP 129 CA 406 0',\n",
       " 'DIST: ARG 217 CA 1768 0 - ASP 136 CA 530 0',\n",
       " 'DIST: ARG 217 CA 1768 0 - ASP 151 CA 751 0',\n",
       " 'DIST: ARG 217 CA 1768 0 - ASP 164 CA 944 0',\n",
       " 'DIST: ARG 217 CA 1768 0 - GLU 183 CA 1258 0',\n",
       " 'DIST: ARG 217 CA 1768 0 - ASP 186 CA 1299 0',\n",
       " 'DIST: ARG 223 CA 1872 0 - ASP 129 CA 406 0',\n",
       " 'DIST: ARG 223 CA 1872 0 - ASP 136 CA 530 0',\n",
       " 'DIST: ARG 223 CA 1872 0 - ASP 151 CA 751 0',\n",
       " 'DIST: ARG 223 CA 1872 0 - ASP 164 CA 944 0',\n",
       " 'DIST: ARG 223 CA 1872 0 - GLU 183 CA 1258 0',\n",
       " 'DIST: ARG 223 CA 1872 0 - ASP 186 CA 1299 0',\n",
       " 'DIST: ARG 226 CA 1934 0 - ASP 129 CA 406 0',\n",
       " 'DIST: ARG 226 CA 1934 0 - ASP 136 CA 530 0',\n",
       " 'DIST: ARG 226 CA 1934 0 - ASP 151 CA 751 0',\n",
       " 'DIST: ARG 226 CA 1934 0 - ASP 164 CA 944 0',\n",
       " 'DIST: ARG 226 CA 1934 0 - GLU 183 CA 1258 0',\n",
       " 'DIST: ARG 226 CA 1934 0 - ASP 186 CA 1299 0',\n",
       " 'DIST: ARG 229 CA 1990 0 - ASP 129 CA 406 0',\n",
       " 'DIST: ARG 229 CA 1990 0 - ASP 136 CA 530 0',\n",
       " 'DIST: ARG 229 CA 1990 0 - ASP 151 CA 751 0',\n",
       " 'DIST: ARG 229 CA 1990 0 - ASP 164 CA 944 0',\n",
       " 'DIST: ARG 229 CA 1990 0 - GLU 183 CA 1258 0',\n",
       " 'DIST: ARG 229 CA 1990 0 - ASP 186 CA 1299 0',\n",
       " 'DIST: ARG 232 CA 2043 0 - ASP 129 CA 406 0',\n",
       " 'DIST: ARG 232 CA 2043 0 - ASP 136 CA 530 0',\n",
       " 'DIST: ARG 232 CA 2043 0 - ASP 151 CA 751 0',\n",
       " 'DIST: ARG 232 CA 2043 0 - ASP 164 CA 944 0',\n",
       " 'DIST: ARG 232 CA 2043 0 - GLU 183 CA 1258 0',\n",
       " 'DIST: ARG 232 CA 2043 0 - ASP 186 CA 1299 0',\n",
       " 'DIST: ARG 217 CZ 1781 0 - ASP 129 CG 411 0',\n",
       " 'DIST: ARG 217 CZ 1781 0 - ASP 136 CG 535 0',\n",
       " 'DIST: ARG 217 CZ 1781 0 - ASP 151 CG 756 0',\n",
       " 'DIST: ARG 217 CZ 1781 0 - ASP 164 CG 949 0',\n",
       " 'DIST: ARG 217 CZ 1781 0 - GLU 183 CD 1266 0',\n",
       " 'DIST: ARG 217 CZ 1781 0 - ASP 186 CG 1304 0',\n",
       " 'DIST: ARG 223 CZ 1885 0 - ASP 129 CG 411 0',\n",
       " 'DIST: ARG 223 CZ 1885 0 - ASP 136 CG 535 0',\n",
       " 'DIST: ARG 223 CZ 1885 0 - ASP 151 CG 756 0',\n",
       " 'DIST: ARG 223 CZ 1885 0 - ASP 164 CG 949 0',\n",
       " 'DIST: ARG 223 CZ 1885 0 - GLU 183 CD 1266 0',\n",
       " 'DIST: ARG 223 CZ 1885 0 - ASP 186 CG 1304 0',\n",
       " 'DIST: ARG 226 CZ 1947 0 - ASP 129 CG 411 0',\n",
       " 'DIST: ARG 226 CZ 1947 0 - ASP 136 CG 535 0',\n",
       " 'DIST: ARG 226 CZ 1947 0 - ASP 151 CG 756 0',\n",
       " 'DIST: ARG 226 CZ 1947 0 - ASP 164 CG 949 0',\n",
       " 'DIST: ARG 226 CZ 1947 0 - GLU 183 CD 1266 0',\n",
       " 'DIST: ARG 226 CZ 1947 0 - ASP 186 CG 1304 0',\n",
       " 'DIST: ARG 229 CZ 2003 0 - ASP 129 CG 411 0',\n",
       " 'DIST: ARG 229 CZ 2003 0 - ASP 136 CG 535 0',\n",
       " 'DIST: ARG 229 CZ 2003 0 - ASP 151 CG 756 0',\n",
       " 'DIST: ARG 229 CZ 2003 0 - ASP 164 CG 949 0',\n",
       " 'DIST: ARG 229 CZ 2003 0 - GLU 183 CD 1266 0',\n",
       " 'DIST: ARG 229 CZ 2003 0 - ASP 186 CG 1304 0',\n",
       " 'DIST: ARG 232 CZ 2056 0 - ASP 129 CG 411 0',\n",
       " 'DIST: ARG 232 CZ 2056 0 - ASP 136 CG 535 0',\n",
       " 'DIST: ARG 232 CZ 2056 0 - ASP 151 CG 756 0',\n",
       " 'DIST: ARG 232 CZ 2056 0 - ASP 164 CG 949 0',\n",
       " 'DIST: ARG 232 CZ 2056 0 - GLU 183 CD 1266 0',\n",
       " 'DIST: ARG 232 CZ 2056 0 - ASP 186 CG 1304 0']"
      ]
     },
     "execution_count": 75,
     "metadata": {},
     "output_type": "execute_result"
    }
   ],
   "source": [
    "feat2.describe()"
   ]
  },
  {
   "cell_type": "code",
   "execution_count": 76,
   "metadata": {},
   "outputs": [
    {
     "data": {
      "text/plain": [
       "60"
      ]
     },
     "execution_count": 76,
     "metadata": {},
     "output_type": "execute_result"
    }
   ],
   "source": [
    "len(feat2.describe())"
   ]
  },
  {
   "cell_type": "code",
   "execution_count": 6,
   "metadata": {},
   "outputs": [],
   "source": [
    "pdbs = [\n",
    "    \"../models/Initial-models/civsd-down-minus.pdb\",\n",
    "    \"../models/Initial-models/civsd-down.pdb\",\n",
    "    \"../models/Initial-models/civsd-up.pdb\",\n",
    "    \"../models/Initial-models/civsd-up-plus.pdb\",\n",
    "]"
   ]
  },
  {
   "cell_type": "code",
   "execution_count": 77,
   "metadata": {},
   "outputs": [],
   "source": [
    "feat2_models = pyemma.coordinates.load(\n",
    "    \"../models/Initial-models/all.dcd\", features=feat2\n",
    ")"
   ]
  },
  {
   "cell_type": "code",
   "execution_count": 78,
   "metadata": {},
   "outputs": [
    {
     "data": {
      "text/plain": [
       "(4, 60)"
      ]
     },
     "execution_count": 78,
     "metadata": {},
     "output_type": "execute_result"
    }
   ],
   "source": [
    "feat2_models.shape"
   ]
  },
  {
   "cell_type": "code",
   "execution_count": 79,
   "metadata": {},
   "outputs": [],
   "source": [
    "np.save(\"../data/models_feat2.npy\", feat2_models)"
   ]
  },
  {
   "cell_type": "markdown",
   "metadata": {},
   "source": [
    "## feat4"
   ]
  },
  {
   "cell_type": "code",
   "execution_count": 5,
   "metadata": {},
   "outputs": [
    {
     "ename": "ValueError",
     "evalue": "xyz must be shape (Any, 2192, 3). You supplied  (1, 56582, 3)",
     "output_type": "error",
     "traceback": [
      "\u001b[0;31m---------------------------------------------------------------------------\u001b[0m",
      "\u001b[0;31mValueError\u001b[0m                                Traceback (most recent call last)",
      "\u001b[0;32m<ipython-input-5-5465476749e5>\u001b[0m in \u001b[0;36m<module>\u001b[0;34m\u001b[0m\n\u001b[0;32m----> 1\u001b[0;31m \u001b[0mfeat4_models\u001b[0m \u001b[0;34m=\u001b[0m \u001b[0mpyemma\u001b[0m\u001b[0;34m.\u001b[0m\u001b[0mcoordinates\u001b[0m\u001b[0;34m.\u001b[0m\u001b[0mload\u001b[0m\u001b[0;34m(\u001b[0m\u001b[0;34m'../models/Initial-models/all.dcd'\u001b[0m\u001b[0;34m,\u001b[0m \u001b[0mfeatures\u001b[0m\u001b[0;34m=\u001b[0m\u001b[0mfeat4\u001b[0m\u001b[0;34m)\u001b[0m\u001b[0;34m\u001b[0m\u001b[0;34m\u001b[0m\u001b[0m\n\u001b[0m\u001b[1;32m      2\u001b[0m \u001b[0mprint\u001b[0m\u001b[0;34m(\u001b[0m\u001b[0mfeat4_models\u001b[0m\u001b[0;34m.\u001b[0m\u001b[0mshape\u001b[0m\u001b[0;34m)\u001b[0m\u001b[0;34m\u001b[0m\u001b[0;34m\u001b[0m\u001b[0m\n\u001b[1;32m      3\u001b[0m \u001b[0mnp\u001b[0m\u001b[0;34m.\u001b[0m\u001b[0msave\u001b[0m\u001b[0;34m(\u001b[0m\u001b[0;34m'../data/models_feat4.npy'\u001b[0m\u001b[0;34m)\u001b[0m\u001b[0;34m\u001b[0m\u001b[0;34m\u001b[0m\u001b[0m\n",
      "\u001b[0;32m/project2/roux/scguo/anaconda/envs/py37/lib/python3.7/site-packages/pyemma/coordinates/api.py\u001b[0m in \u001b[0;36mload\u001b[0;34m(trajfiles, features, top, stride, chunksize, **kw)\u001b[0m\n\u001b[1;32m    241\u001b[0m             and (any(isinstance(item, (list, tuple, str)) for item in trajfiles)\n\u001b[1;32m    242\u001b[0m                  or len(trajfiles) is 0)):\n\u001b[0;32m--> 243\u001b[0;31m         \u001b[0mreader\u001b[0m \u001b[0;34m=\u001b[0m \u001b[0mcreate_file_reader\u001b[0m\u001b[0;34m(\u001b[0m\u001b[0mtrajfiles\u001b[0m\u001b[0;34m,\u001b[0m \u001b[0mtop\u001b[0m\u001b[0;34m,\u001b[0m \u001b[0mfeatures\u001b[0m\u001b[0;34m,\u001b[0m \u001b[0mchunksize\u001b[0m\u001b[0;34m=\u001b[0m\u001b[0mcs\u001b[0m\u001b[0;34m,\u001b[0m \u001b[0;34m**\u001b[0m\u001b[0mkw\u001b[0m\u001b[0;34m)\u001b[0m\u001b[0;34m\u001b[0m\u001b[0;34m\u001b[0m\u001b[0m\n\u001b[0m\u001b[1;32m    244\u001b[0m         \u001b[0mtrajs\u001b[0m \u001b[0;34m=\u001b[0m \u001b[0mreader\u001b[0m\u001b[0;34m.\u001b[0m\u001b[0mget_output\u001b[0m\u001b[0;34m(\u001b[0m\u001b[0mstride\u001b[0m\u001b[0;34m=\u001b[0m\u001b[0mstride\u001b[0m\u001b[0;34m)\u001b[0m\u001b[0;34m\u001b[0m\u001b[0;34m\u001b[0m\u001b[0m\n\u001b[1;32m    245\u001b[0m         \u001b[0;32mif\u001b[0m \u001b[0mlen\u001b[0m\u001b[0;34m(\u001b[0m\u001b[0mtrajs\u001b[0m\u001b[0;34m)\u001b[0m \u001b[0;34m==\u001b[0m \u001b[0;36m1\u001b[0m\u001b[0;34m:\u001b[0m\u001b[0;34m\u001b[0m\u001b[0;34m\u001b[0m\u001b[0m\n",
      "\u001b[0;32m/project2/roux/scguo/anaconda/envs/py37/lib/python3.7/site-packages/pyemma/coordinates/data/util/reader_utils.py\u001b[0m in \u001b[0;36mcreate_file_reader\u001b[0;34m(input_files, topology, featurizer, chunksize, **kw)\u001b[0m\n\u001b[1;32m    109\u001b[0m \u001b[0;34m\u001b[0m\u001b[0m\n\u001b[1;32m    110\u001b[0m                 reader = FeatureReader(input_list, featurizer=featurizer, topologyfile=topology,\n\u001b[0;32m--> 111\u001b[0;31m                                        chunksize=chunksize)\n\u001b[0m\u001b[1;32m    112\u001b[0m             \u001b[0;32melif\u001b[0m \u001b[0msuffix\u001b[0m \u001b[0;32min\u001b[0m \u001b[0;34m(\u001b[0m\u001b[0;34m'.npy'\u001b[0m\u001b[0;34m,\u001b[0m \u001b[0;34m'.npz'\u001b[0m\u001b[0;34m)\u001b[0m\u001b[0;34m:\u001b[0m\u001b[0;34m\u001b[0m\u001b[0;34m\u001b[0m\u001b[0m\n\u001b[1;32m    113\u001b[0m                 \u001b[0mreader\u001b[0m \u001b[0;34m=\u001b[0m \u001b[0mNumPyFileReader\u001b[0m\u001b[0;34m(\u001b[0m\u001b[0minput_list\u001b[0m\u001b[0;34m,\u001b[0m \u001b[0mchunksize\u001b[0m\u001b[0;34m=\u001b[0m\u001b[0mchunksize\u001b[0m\u001b[0;34m)\u001b[0m\u001b[0;34m\u001b[0m\u001b[0;34m\u001b[0m\u001b[0m\n",
      "\u001b[0;32m/project2/roux/scguo/anaconda/envs/py37/lib/python3.7/site-packages/pyemma/coordinates/data/feature_reader.py\u001b[0m in \u001b[0;36m__init__\u001b[0;34m(self, trajectories, topologyfile, chunksize, featurizer)\u001b[0m\n\u001b[1;32m    121\u001b[0m \u001b[0;34m\u001b[0m\u001b[0m\n\u001b[1;32m    122\u001b[0m         \u001b[0;31m# Check that the topology and the files in the filelist can actually work together\u001b[0m\u001b[0;34m\u001b[0m\u001b[0;34m\u001b[0m\u001b[0;34m\u001b[0m\u001b[0m\n\u001b[0;32m--> 123\u001b[0;31m         \u001b[0mself\u001b[0m\u001b[0;34m.\u001b[0m\u001b[0m_assert_toptraj_consistency\u001b[0m\u001b[0;34m(\u001b[0m\u001b[0;34m)\u001b[0m\u001b[0;34m\u001b[0m\u001b[0;34m\u001b[0m\u001b[0m\n\u001b[0m\u001b[1;32m    124\u001b[0m \u001b[0;34m\u001b[0m\u001b[0m\n\u001b[1;32m    125\u001b[0m     \u001b[0;34m@\u001b[0m\u001b[0mproperty\u001b[0m\u001b[0;34m\u001b[0m\u001b[0;34m\u001b[0m\u001b[0m\n",
      "\u001b[0;32m/project2/roux/scguo/anaconda/envs/py37/lib/python3.7/site-packages/pyemma/coordinates/data/feature_reader.py\u001b[0m in \u001b[0;36m_assert_toptraj_consistency\u001b[0;34m(self)\u001b[0m\n\u001b[1;32m    205\u001b[0m         \u001b[0;34mr\"\"\" Check if the topology and the filenames of the reader have the same n_atoms\"\"\"\u001b[0m\u001b[0;34m\u001b[0m\u001b[0;34m\u001b[0m\u001b[0m\n\u001b[1;32m    206\u001b[0m         \u001b[0mtop\u001b[0m \u001b[0;34m=\u001b[0m \u001b[0mself\u001b[0m\u001b[0;34m.\u001b[0m\u001b[0mfeaturizer\u001b[0m\u001b[0;34m.\u001b[0m\u001b[0mtopology\u001b[0m\u001b[0;34m\u001b[0m\u001b[0;34m\u001b[0m\u001b[0m\n\u001b[0;32m--> 207\u001b[0;31m         \u001b[0mtraj\u001b[0m \u001b[0;34m=\u001b[0m \u001b[0mmdtraj\u001b[0m\u001b[0;34m.\u001b[0m\u001b[0mload_frame\u001b[0m\u001b[0;34m(\u001b[0m\u001b[0mself\u001b[0m\u001b[0;34m.\u001b[0m\u001b[0mfilenames\u001b[0m\u001b[0;34m[\u001b[0m\u001b[0;36m0\u001b[0m\u001b[0;34m]\u001b[0m\u001b[0;34m,\u001b[0m \u001b[0mindex\u001b[0m\u001b[0;34m=\u001b[0m\u001b[0;36m0\u001b[0m\u001b[0;34m,\u001b[0m \u001b[0mtop\u001b[0m\u001b[0;34m=\u001b[0m\u001b[0mtop\u001b[0m\u001b[0;34m)\u001b[0m\u001b[0;34m\u001b[0m\u001b[0;34m\u001b[0m\u001b[0m\n\u001b[0m\u001b[1;32m    208\u001b[0m         \u001b[0mdesired_n_atoms\u001b[0m \u001b[0;34m=\u001b[0m \u001b[0mtop\u001b[0m\u001b[0;34m.\u001b[0m\u001b[0mn_atoms\u001b[0m\u001b[0;34m\u001b[0m\u001b[0;34m\u001b[0m\u001b[0m\n\u001b[1;32m    209\u001b[0m         \u001b[0;32massert\u001b[0m \u001b[0mtraj\u001b[0m\u001b[0;34m.\u001b[0m\u001b[0mxyz\u001b[0m\u001b[0;34m.\u001b[0m\u001b[0mshape\u001b[0m\u001b[0;34m[\u001b[0m\u001b[0;36m1\u001b[0m\u001b[0;34m]\u001b[0m \u001b[0;34m==\u001b[0m \u001b[0mdesired_n_atoms\u001b[0m\u001b[0;34m,\u001b[0m \u001b[0;34m\"Mismatch in the number of atoms between the topology\"\u001b[0m\u001b[0;31m \u001b[0m\u001b[0;31m\\\u001b[0m\u001b[0;34m\u001b[0m\u001b[0;34m\u001b[0m\u001b[0m\n",
      "\u001b[0;32m/project2/roux/scguo/anaconda/envs/py37/lib/python3.7/site-packages/mdtraj/core/trajectory.py\u001b[0m in \u001b[0;36mload_frame\u001b[0;34m(filename, index, top, atom_indices, **kwargs)\u001b[0m\n\u001b[1;32m    312\u001b[0m         \u001b[0m_assert_files_or_dirs_exist\u001b[0m\u001b[0;34m(\u001b[0m\u001b[0mfilename\u001b[0m\u001b[0;34m)\u001b[0m\u001b[0;34m\u001b[0m\u001b[0;34m\u001b[0m\u001b[0m\n\u001b[1;32m    313\u001b[0m \u001b[0;34m\u001b[0m\u001b[0m\n\u001b[0;32m--> 314\u001b[0;31m     \u001b[0;32mreturn\u001b[0m \u001b[0mloader\u001b[0m\u001b[0;34m(\u001b[0m\u001b[0mfilename\u001b[0m\u001b[0;34m,\u001b[0m \u001b[0mframe\u001b[0m\u001b[0;34m=\u001b[0m\u001b[0mindex\u001b[0m\u001b[0;34m,\u001b[0m \u001b[0;34m**\u001b[0m\u001b[0mkwargs\u001b[0m\u001b[0;34m)\u001b[0m\u001b[0;34m\u001b[0m\u001b[0;34m\u001b[0m\u001b[0m\n\u001b[0m\u001b[1;32m    315\u001b[0m \u001b[0;34m\u001b[0m\u001b[0m\n\u001b[1;32m    316\u001b[0m \u001b[0;34m\u001b[0m\u001b[0m\n",
      "\u001b[0;32mmdtraj/formats/dcd/dcd.pyx\u001b[0m in \u001b[0;36mmdtraj.formats.dcd.load_dcd\u001b[0;34m()\u001b[0m\n",
      "\u001b[0;32mmdtraj/formats/dcd/dcd.pyx\u001b[0m in \u001b[0;36mmdtraj.formats.dcd.load_dcd\u001b[0;34m()\u001b[0m\n",
      "\u001b[0;32mmdtraj/formats/dcd/dcd.pyx\u001b[0m in \u001b[0;36mmdtraj.formats.dcd.DCDTrajectoryFile.read_as_traj\u001b[0;34m()\u001b[0m\n",
      "\u001b[0;32m/project2/roux/scguo/anaconda/envs/py37/lib/python3.7/site-packages/mdtraj/core/trajectory.py\u001b[0m in \u001b[0;36m__init__\u001b[0;34m(self, xyz, topology, time, unitcell_lengths, unitcell_angles)\u001b[0m\n\u001b[1;32m   1165\u001b[0m         \u001b[0;31m# the xyz, we can check that it lines up (e.g. n_atoms), with the topology\u001b[0m\u001b[0;34m\u001b[0m\u001b[0;34m\u001b[0m\u001b[0;34m\u001b[0m\u001b[0m\n\u001b[1;32m   1166\u001b[0m         \u001b[0mself\u001b[0m\u001b[0;34m.\u001b[0m\u001b[0mtopology\u001b[0m \u001b[0;34m=\u001b[0m \u001b[0mtopology\u001b[0m\u001b[0;34m\u001b[0m\u001b[0;34m\u001b[0m\u001b[0m\n\u001b[0;32m-> 1167\u001b[0;31m         \u001b[0mself\u001b[0m\u001b[0;34m.\u001b[0m\u001b[0mxyz\u001b[0m \u001b[0;34m=\u001b[0m \u001b[0mxyz\u001b[0m\u001b[0;34m\u001b[0m\u001b[0;34m\u001b[0m\u001b[0m\n\u001b[0m\u001b[1;32m   1168\u001b[0m \u001b[0;34m\u001b[0m\u001b[0m\n\u001b[1;32m   1169\u001b[0m         \u001b[0;31m# _rmsd_traces are the inner product of each centered conformation,\u001b[0m\u001b[0;34m\u001b[0m\u001b[0;34m\u001b[0m\u001b[0;34m\u001b[0m\u001b[0m\n",
      "\u001b[0;32m/project2/roux/scguo/anaconda/envs/py37/lib/python3.7/site-packages/mdtraj/core/trajectory.py\u001b[0m in \u001b[0;36mxyz\u001b[0;34m(self, value)\u001b[0m\n\u001b[1;32m    881\u001b[0m \u001b[0;34m\u001b[0m\u001b[0m\n\u001b[1;32m    882\u001b[0m         value = ensure_type(value, np.float32, 3, 'xyz', shape=shape,\n\u001b[0;32m--> 883\u001b[0;31m                             warn_on_cast=False, add_newaxis_on_deficient_ndim=True)\n\u001b[0m\u001b[1;32m    884\u001b[0m         \u001b[0mself\u001b[0m\u001b[0;34m.\u001b[0m\u001b[0m_xyz\u001b[0m \u001b[0;34m=\u001b[0m \u001b[0mvalue\u001b[0m\u001b[0;34m\u001b[0m\u001b[0;34m\u001b[0m\u001b[0m\n\u001b[1;32m    885\u001b[0m         \u001b[0mself\u001b[0m\u001b[0;34m.\u001b[0m\u001b[0m_rmsd_traces\u001b[0m \u001b[0;34m=\u001b[0m \u001b[0;32mNone\u001b[0m\u001b[0;34m\u001b[0m\u001b[0;34m\u001b[0m\u001b[0m\n",
      "\u001b[0;32m/project2/roux/scguo/anaconda/envs/py37/lib/python3.7/site-packages/mdtraj/utils/validation.py\u001b[0m in \u001b[0;36mensure_type\u001b[0;34m(val, dtype, ndim, name, length, can_be_none, shape, warn_on_cast, add_newaxis_on_deficient_ndim)\u001b[0m\n\u001b[1;32m    146\u001b[0m             \u001b[0;32mif\u001b[0m \u001b[0ma\u001b[0m \u001b[0;34m!=\u001b[0m \u001b[0mb\u001b[0m\u001b[0;34m:\u001b[0m\u001b[0;34m\u001b[0m\u001b[0;34m\u001b[0m\u001b[0m\n\u001b[1;32m    147\u001b[0m                 \u001b[0;31m# check for equality\u001b[0m\u001b[0;34m\u001b[0m\u001b[0;34m\u001b[0m\u001b[0;34m\u001b[0m\u001b[0m\n\u001b[0;32m--> 148\u001b[0;31m                 \u001b[0;32mraise\u001b[0m \u001b[0merror\u001b[0m\u001b[0;34m\u001b[0m\u001b[0;34m\u001b[0m\u001b[0m\n\u001b[0m\u001b[1;32m    149\u001b[0m \u001b[0;34m\u001b[0m\u001b[0m\n\u001b[1;32m    150\u001b[0m     \u001b[0;32mreturn\u001b[0m \u001b[0mval\u001b[0m\u001b[0;34m\u001b[0m\u001b[0;34m\u001b[0m\u001b[0m\n",
      "\u001b[0;31mValueError\u001b[0m: xyz must be shape (Any, 2192, 3). You supplied  (1, 56582, 3)"
     ]
    }
   ],
   "source": [
    "feat4_models = pyemma.coordinates.load(\n",
    "    \"../models/Initial-models/all.dcd\", features=feat4\n",
    ")\n",
    "print(feat4_models.shape)\n",
    "np.save(\"../data/models_feat4.npy\")"
   ]
  },
  {
   "cell_type": "markdown",
   "metadata": {
    "heading_collapsed": true
   },
   "source": [
    "# Compute distances from arginines to Ile126 "
   ]
  },
  {
   "cell_type": "code",
   "execution_count": 3,
   "metadata": {
    "hidden": true
   },
   "outputs": [
    {
     "name": "stdout",
     "output_type": "stream",
     "text": [
      "06-05-21 19:37:03 pyemma.coordinates.data.featurization.featurizer.MDFeaturizer[0] WARNING  The 1D arrays input for add_distances() have been sorted, and index duplicates have been eliminated.\n",
      "Check the output of describe() to see the actual order of the features\n"
     ]
    }
   ],
   "source": [
    "featurizer = pyemma.coordinates.featurizer(\"../civsd-pro.pdb\")\n",
    "R_cz = featurizer.select(\"residue 217 223 226 229 232 and name CZ\")\n",
    "I_cb = featurizer.select(\"residue 126 and name CB\")\n",
    "featurizer.add_distances(R_cz, indices2=I_cb)"
   ]
  },
  {
   "cell_type": "code",
   "execution_count": 4,
   "metadata": {
    "hidden": true
   },
   "outputs": [
    {
     "data": {
      "text/plain": [
       "['DIST: ARG 217 CZ 1781 - ILE 126 CB 350',\n",
       " 'DIST: ARG 223 CZ 1885 - ILE 126 CB 350',\n",
       " 'DIST: ARG 226 CZ 1947 - ILE 126 CB 350',\n",
       " 'DIST: ARG 229 CZ 2003 - ILE 126 CB 350',\n",
       " 'DIST: ARG 232 CZ 2056 - ILE 126 CB 350']"
      ]
     },
     "execution_count": 4,
     "metadata": {},
     "output_type": "execute_result"
    }
   ],
   "source": [
    "featurizer.describe()"
   ]
  },
  {
   "cell_type": "code",
   "execution_count": 5,
   "metadata": {
    "hidden": true
   },
   "outputs": [
    {
     "name": "stdout",
     "output_type": "stream",
     "text": [
      "1295\n"
     ]
    },
    {
     "data": {
      "application/vnd.jupyter.widget-view+json": {
       "model_id": "",
       "version_major": 2,
       "version_minor": 0
      },
      "text/plain": [
       "HBox(children=(FloatProgress(value=0.0, description='Obtaining file info', layout=Layout(flex='2'), max=1295.0…"
      ]
     },
     "metadata": {},
     "output_type": "display_data"
    },
    {
     "data": {
      "application/vnd.jupyter.widget-view+json": {
       "model_id": "",
       "version_major": 2,
       "version_minor": 0
      },
      "text/plain": [
       "HBox(children=(FloatProgress(value=0.0, description='getting output of FeatureReader', layout=Layout(flex='2')…"
      ]
     },
     "metadata": {},
     "output_type": "display_data"
    }
   ],
   "source": [
    "xtcs = []\n",
    "for i in range(0, 1000):\n",
    "    xtcs.append(f\"../amber/xtc300ns/civsd_{i}_300ns.xtc\")\n",
    "for i in range(0, 295):\n",
    "    xtcs.append(f\"../anton/xtc1000ns/civsd-{i}.xtc\")\n",
    "print(len(xtcs))\n",
    "ri_raw = pyemma.coordinates.load(xtcs, features=featurizer, chunksize=32)"
   ]
  },
  {
   "cell_type": "code",
   "execution_count": 6,
   "metadata": {
    "hidden": true
   },
   "outputs": [
    {
     "name": "stderr",
     "output_type": "stream",
     "text": [
      "/project2/roux/scguo/anaconda/envs/py37/lib/python3.7/site-packages/numpy/core/_asarray.py:136: VisibleDeprecationWarning: Creating an ndarray from ragged nested sequences (which is a list-or-tuple of lists-or-tuples-or ndarrays with different lengths or shapes) is deprecated. If you meant to do this, you must specify 'dtype=object' when creating the ndarray\n",
      "  return array(a, dtype, copy=False, order=order, subok=True)\n"
     ]
    }
   ],
   "source": [
    "np.savez_compressed(\"../data/raw_feat/ri126_dist.npz\", ri_raw)"
   ]
  },
  {
   "cell_type": "code",
   "execution_count": 7,
   "metadata": {
    "hidden": true
   },
   "outputs": [
    {
     "data": {
      "text/plain": [
       "(3000, 5)"
      ]
     },
     "execution_count": 7,
     "metadata": {},
     "output_type": "execute_result"
    }
   ],
   "source": [
    "ri_raw[0].shape"
   ]
  },
  {
   "cell_type": "markdown",
   "metadata": {
    "hidden": true
   },
   "source": [
    "## for models "
   ]
  },
  {
   "cell_type": "code",
   "execution_count": 13,
   "metadata": {
    "hidden": true
   },
   "outputs": [
    {
     "name": "stdout",
     "output_type": "stream",
     "text": [
      "07-05-21 14:15:17 pyemma.coordinates.data.featurization.featurizer.MDFeaturizer[6] WARNING  The 1D arrays input for add_distances() have been sorted, and index duplicates have been eliminated.\n",
      "Check the output of describe() to see the actual order of the features\n"
     ]
    },
    {
     "data": {
      "text/plain": [
       "['DIST: ARG 217 CZ 1781 0 - ILE 126 CB 350 0',\n",
       " 'DIST: ARG 223 CZ 1885 0 - ILE 126 CB 350 0',\n",
       " 'DIST: ARG 226 CZ 1947 0 - ILE 126 CB 350 0',\n",
       " 'DIST: ARG 229 CZ 2003 0 - ILE 126 CB 350 0',\n",
       " 'DIST: ARG 232 CZ 2056 0 - ILE 126 CB 350 0']"
      ]
     },
     "execution_count": 13,
     "metadata": {},
     "output_type": "execute_result"
    }
   ],
   "source": [
    "feat_ri = pyemma.coordinates.featurizer(\"../models/Initial-models/civsd-up.pdb\")\n",
    "r_cz = featurizer.select(\"resid 111 117 120 123 126 and name CZ\")\n",
    "i_cb = featurizer.select(\"residue 126 and name CB\")\n",
    "feat_ri.add_distances(r_cz, indices2=i_cb)\n",
    "feat_ri.describe()"
   ]
  },
  {
   "cell_type": "code",
   "execution_count": 14,
   "metadata": {
    "hidden": true
   },
   "outputs": [],
   "source": [
    "ri_models = pyemma.coordinates.load(\n",
    "    \"../models/Initial-models/all.dcd\", features=feat_ri\n",
    ")"
   ]
  },
  {
   "cell_type": "code",
   "execution_count": 15,
   "metadata": {
    "hidden": true
   },
   "outputs": [
    {
     "data": {
      "text/plain": [
       "(4, 5)"
      ]
     },
     "execution_count": 15,
     "metadata": {},
     "output_type": "execute_result"
    }
   ],
   "source": [
    "ri_models.shape"
   ]
  },
  {
   "cell_type": "code",
   "execution_count": 16,
   "metadata": {
    "hidden": true
   },
   "outputs": [],
   "source": [
    "np.save(\"../data/models_ri126.npy\", ri_models)"
   ]
  },
  {
   "cell_type": "markdown",
   "metadata": {
    "heading_collapsed": true
   },
   "source": [
    "# Feat 1 clustering models "
   ]
  },
  {
   "cell_type": "markdown",
   "metadata": {
    "hidden": true
   },
   "source": [
    "6.10.21"
   ]
  },
  {
   "cell_type": "code",
   "execution_count": 17,
   "metadata": {
    "hidden": true
   },
   "outputs": [
    {
     "name": "stdout",
     "output_type": "stream",
     "text": [
      "10-06-21 16:53:55 pyemma.coordinates.data.featurization.featurizer.MDFeaturizer[2] WARNING  The 1D arrays input for add_distances() have been sorted, and index duplicates have been eliminated.\n",
      "Check the output of describe() to see the actual order of the features\n",
      "10-06-21 16:53:55 pyemma.coordinates.data.featurization.featurizer.MDFeaturizer[2] WARNING  The 1D arrays input for add_distances() have been sorted, and index duplicates have been eliminated.\n",
      "Check the output of describe() to see the actual order of the features\n"
     ]
    }
   ],
   "source": [
    "feat2 = pyemma.coordinates.featurizer(\n",
    "    \"../models/MD-clustering-center/civsd-down-gc.pdb\"\n",
    ")\n",
    "r_ca = feat2.select(\"residue 217 223 226 229 232 and name CA\")\n",
    "r_cz = feat2.select(\"residue 217 223 226 229 232 and name CZ\")\n",
    "d_ca = feat2.select(\"residue 129 136 151 164 183 186 and name CA\")\n",
    "d_cg = feat2.select(\n",
    "    \"(residue 129 136 151 164 186 and name CG) or (protein and residue 183 and name CD)\"\n",
    ")\n",
    "feat2.add_distances(r_ca, indices2=d_ca)\n",
    "feat2.add_distances(r_cz, indices2=d_cg)"
   ]
  },
  {
   "cell_type": "code",
   "execution_count": 18,
   "metadata": {
    "hidden": true
   },
   "outputs": [
    {
     "data": {
      "text/plain": [
       "['DIST: ARG 217 CA 1768 0 - ASP 129 CA 406 0',\n",
       " 'DIST: ARG 217 CA 1768 0 - ASP 136 CA 530 0',\n",
       " 'DIST: ARG 217 CA 1768 0 - ASP 151 CA 751 0',\n",
       " 'DIST: ARG 217 CA 1768 0 - ASP 164 CA 944 0',\n",
       " 'DIST: ARG 217 CA 1768 0 - GLU 183 CA 1258 0',\n",
       " 'DIST: ARG 217 CA 1768 0 - ASP 186 CA 1299 0',\n",
       " 'DIST: ARG 223 CA 1872 0 - ASP 129 CA 406 0',\n",
       " 'DIST: ARG 223 CA 1872 0 - ASP 136 CA 530 0',\n",
       " 'DIST: ARG 223 CA 1872 0 - ASP 151 CA 751 0',\n",
       " 'DIST: ARG 223 CA 1872 0 - ASP 164 CA 944 0',\n",
       " 'DIST: ARG 223 CA 1872 0 - GLU 183 CA 1258 0',\n",
       " 'DIST: ARG 223 CA 1872 0 - ASP 186 CA 1299 0',\n",
       " 'DIST: ARG 226 CA 1934 0 - ASP 129 CA 406 0',\n",
       " 'DIST: ARG 226 CA 1934 0 - ASP 136 CA 530 0',\n",
       " 'DIST: ARG 226 CA 1934 0 - ASP 151 CA 751 0',\n",
       " 'DIST: ARG 226 CA 1934 0 - ASP 164 CA 944 0',\n",
       " 'DIST: ARG 226 CA 1934 0 - GLU 183 CA 1258 0',\n",
       " 'DIST: ARG 226 CA 1934 0 - ASP 186 CA 1299 0',\n",
       " 'DIST: ARG 229 CA 1990 0 - ASP 129 CA 406 0',\n",
       " 'DIST: ARG 229 CA 1990 0 - ASP 136 CA 530 0',\n",
       " 'DIST: ARG 229 CA 1990 0 - ASP 151 CA 751 0',\n",
       " 'DIST: ARG 229 CA 1990 0 - ASP 164 CA 944 0',\n",
       " 'DIST: ARG 229 CA 1990 0 - GLU 183 CA 1258 0',\n",
       " 'DIST: ARG 229 CA 1990 0 - ASP 186 CA 1299 0',\n",
       " 'DIST: ARG 232 CA 2043 0 - ASP 129 CA 406 0',\n",
       " 'DIST: ARG 232 CA 2043 0 - ASP 136 CA 530 0',\n",
       " 'DIST: ARG 232 CA 2043 0 - ASP 151 CA 751 0',\n",
       " 'DIST: ARG 232 CA 2043 0 - ASP 164 CA 944 0',\n",
       " 'DIST: ARG 232 CA 2043 0 - GLU 183 CA 1258 0',\n",
       " 'DIST: ARG 232 CA 2043 0 - ASP 186 CA 1299 0',\n",
       " 'DIST: ARG 217 CZ 1781 0 - ASP 129 CG 411 0',\n",
       " 'DIST: ARG 217 CZ 1781 0 - ASP 136 CG 535 0',\n",
       " 'DIST: ARG 217 CZ 1781 0 - ASP 151 CG 756 0',\n",
       " 'DIST: ARG 217 CZ 1781 0 - ASP 164 CG 949 0',\n",
       " 'DIST: ARG 217 CZ 1781 0 - GLU 183 CD 1266 0',\n",
       " 'DIST: ARG 217 CZ 1781 0 - ASP 186 CG 1304 0',\n",
       " 'DIST: ARG 223 CZ 1885 0 - ASP 129 CG 411 0',\n",
       " 'DIST: ARG 223 CZ 1885 0 - ASP 136 CG 535 0',\n",
       " 'DIST: ARG 223 CZ 1885 0 - ASP 151 CG 756 0',\n",
       " 'DIST: ARG 223 CZ 1885 0 - ASP 164 CG 949 0',\n",
       " 'DIST: ARG 223 CZ 1885 0 - GLU 183 CD 1266 0',\n",
       " 'DIST: ARG 223 CZ 1885 0 - ASP 186 CG 1304 0',\n",
       " 'DIST: ARG 226 CZ 1947 0 - ASP 129 CG 411 0',\n",
       " 'DIST: ARG 226 CZ 1947 0 - ASP 136 CG 535 0',\n",
       " 'DIST: ARG 226 CZ 1947 0 - ASP 151 CG 756 0',\n",
       " 'DIST: ARG 226 CZ 1947 0 - ASP 164 CG 949 0',\n",
       " 'DIST: ARG 226 CZ 1947 0 - GLU 183 CD 1266 0',\n",
       " 'DIST: ARG 226 CZ 1947 0 - ASP 186 CG 1304 0',\n",
       " 'DIST: ARG 229 CZ 2003 0 - ASP 129 CG 411 0',\n",
       " 'DIST: ARG 229 CZ 2003 0 - ASP 136 CG 535 0',\n",
       " 'DIST: ARG 229 CZ 2003 0 - ASP 151 CG 756 0',\n",
       " 'DIST: ARG 229 CZ 2003 0 - ASP 164 CG 949 0',\n",
       " 'DIST: ARG 229 CZ 2003 0 - GLU 183 CD 1266 0',\n",
       " 'DIST: ARG 229 CZ 2003 0 - ASP 186 CG 1304 0',\n",
       " 'DIST: ARG 232 CZ 2056 0 - ASP 129 CG 411 0',\n",
       " 'DIST: ARG 232 CZ 2056 0 - ASP 136 CG 535 0',\n",
       " 'DIST: ARG 232 CZ 2056 0 - ASP 151 CG 756 0',\n",
       " 'DIST: ARG 232 CZ 2056 0 - ASP 164 CG 949 0',\n",
       " 'DIST: ARG 232 CZ 2056 0 - GLU 183 CD 1266 0',\n",
       " 'DIST: ARG 232 CZ 2056 0 - ASP 186 CG 1304 0']"
      ]
     },
     "execution_count": 18,
     "metadata": {},
     "output_type": "execute_result"
    }
   ],
   "source": [
    "feat2.describe()"
   ]
  },
  {
   "cell_type": "code",
   "execution_count": 19,
   "metadata": {
    "hidden": true
   },
   "outputs": [
    {
     "data": {
      "text/plain": [
       "60"
      ]
     },
     "execution_count": 19,
     "metadata": {},
     "output_type": "execute_result"
    }
   ],
   "source": [
    "len(feat2.describe())"
   ]
  },
  {
   "cell_type": "code",
   "execution_count": 20,
   "metadata": {
    "hidden": true
   },
   "outputs": [],
   "source": [
    "models = pyemma.coordinates.load(\n",
    "    \"../models/MD-clustering-center/all.dcd\", features=feat2\n",
    ")"
   ]
  },
  {
   "cell_type": "code",
   "execution_count": 21,
   "metadata": {
    "hidden": true
   },
   "outputs": [
    {
     "data": {
      "text/plain": [
       "(4, 60)"
      ]
     },
     "execution_count": 21,
     "metadata": {},
     "output_type": "execute_result"
    }
   ],
   "source": [
    "models.shape"
   ]
  },
  {
   "cell_type": "code",
   "execution_count": 22,
   "metadata": {
    "hidden": true
   },
   "outputs": [],
   "source": [
    "np.save(\"../data/models_centroids_feat2.npy\", models)"
   ]
  },
  {
   "cell_type": "markdown",
   "metadata": {},
   "source": [
    "# New sampling"
   ]
  },
  {
   "cell_type": "markdown",
   "metadata": {},
   "source": [
    "8.16.21"
   ]
  },
  {
   "cell_type": "code",
   "execution_count": 5,
   "metadata": {},
   "outputs": [],
   "source": [
    "xtcs = []\n",
    "for i in range(83, 164):\n",
    "    d = str(i).zfill(3)\n",
    "    xtcs.append(f\"../suppl-runs/{d}/civsd_pro.xtc\")"
   ]
  },
  {
   "cell_type": "code",
   "execution_count": 6,
   "metadata": {},
   "outputs": [
    {
     "data": {
      "application/vnd.jupyter.widget-view+json": {
       "model_id": "",
       "version_major": 2,
       "version_minor": 0
      },
      "text/plain": [
       "HBox(children=(FloatProgress(value=0.0, description='Obtaining file info', layout=Layout(flex='2'), max=81.0, …"
      ]
     },
     "metadata": {},
     "output_type": "display_data"
    },
    {
     "data": {
      "application/vnd.jupyter.widget-view+json": {
       "model_id": "",
       "version_major": 2,
       "version_minor": 0
      },
      "text/plain": [
       "HBox(children=(FloatProgress(value=0.0, description='getting output of FeatureReader', layout=Layout(flex='2')…"
      ]
     },
     "metadata": {},
     "output_type": "display_data"
    }
   ],
   "source": [
    "feat2_suppl = pyemma.coordinates.load(xtcs, features=feat2, chunksize=128)"
   ]
  },
  {
   "cell_type": "code",
   "execution_count": 7,
   "metadata": {
    "scrolled": true
   },
   "outputs": [
    {
     "name": "stdout",
     "output_type": "stream",
     "text": [
      "(3000, 60) 83\n",
      "(3000, 60) 84\n",
      "(3000, 60) 85\n",
      "(3000, 60) 86\n",
      "(3000, 60) 87\n",
      "(3000, 60) 88\n",
      "(3000, 60) 89\n",
      "(3000, 60) 90\n",
      "(3000, 60) 91\n",
      "(3000, 60) 92\n",
      "(3000, 60) 93\n",
      "(3000, 60) 94\n",
      "(3000, 60) 95\n",
      "(3000, 60) 96\n",
      "(3000, 60) 97\n",
      "(3000, 60) 98\n",
      "(3000, 60) 99\n",
      "(3000, 60) 100\n",
      "(3000, 60) 101\n",
      "(3000, 60) 102\n",
      "(3000, 60) 103\n",
      "(3000, 60) 104\n",
      "(3000, 60) 105\n",
      "(3000, 60) 106\n",
      "(3000, 60) 107\n",
      "(3000, 60) 108\n",
      "(3000, 60) 109\n",
      "(3000, 60) 110\n",
      "(3000, 60) 111\n",
      "(3000, 60) 112\n",
      "(3000, 60) 113\n",
      "(3000, 60) 114\n",
      "(3000, 60) 115\n",
      "(3000, 60) 116\n",
      "(3000, 60) 117\n",
      "(3000, 60) 118\n",
      "(3000, 60) 119\n",
      "(3000, 60) 120\n",
      "(3000, 60) 121\n",
      "(3000, 60) 122\n",
      "(3000, 60) 123\n",
      "(3000, 60) 124\n",
      "(3000, 60) 125\n",
      "(3000, 60) 126\n",
      "(3000, 60) 127\n",
      "(3000, 60) 128\n",
      "(3000, 60) 129\n",
      "(3000, 60) 130\n",
      "(3000, 60) 131\n",
      "(3000, 60) 132\n",
      "(3000, 60) 133\n",
      "(3000, 60) 134\n",
      "(3000, 60) 135\n",
      "(3000, 60) 136\n",
      "(3000, 60) 137\n",
      "(3000, 60) 138\n",
      "(3000, 60) 139\n",
      "(3000, 60) 140\n",
      "(3000, 60) 141\n",
      "(3000, 60) 142\n",
      "(3000, 60) 143\n",
      "(3000, 60) 144\n",
      "(3000, 60) 145\n",
      "(3000, 60) 146\n",
      "(3000, 60) 147\n",
      "(3000, 60) 148\n",
      "(3000, 60) 149\n",
      "(3000, 60) 150\n",
      "(3000, 60) 151\n",
      "(3000, 60) 152\n",
      "(3000, 60) 153\n",
      "(3000, 60) 154\n",
      "(3000, 60) 155\n",
      "(3000, 60) 156\n",
      "(3000, 60) 157\n",
      "(3000, 60) 158\n",
      "(3000, 60) 159\n",
      "(3000, 60) 160\n",
      "(3000, 60) 161\n",
      "(3000, 60) 162\n",
      "(3000, 60) 163\n"
     ]
    }
   ],
   "source": [
    "for i, traj in enumerate(feat2_suppl):\n",
    "    print(traj.shape, i + 83)"
   ]
  },
  {
   "cell_type": "code",
   "execution_count": 8,
   "metadata": {},
   "outputs": [],
   "source": [
    "np.save(\"../data/raw_feat/feat2_suppl_00.npy\", feat2_suppl)"
   ]
  },
  {
   "cell_type": "markdown",
   "metadata": {},
   "source": [
    "8.17.21"
   ]
  },
  {
   "cell_type": "code",
   "execution_count": 19,
   "metadata": {},
   "outputs": [],
   "source": [
    "xtcs_2 = []\n",
    "for i in range(83, 104):\n",
    "    d = str(i).zfill(3)\n",
    "    xtcs_2.append(f\"../suppl-runs/{d}/civsd_pro_2.xtc\")"
   ]
  },
  {
   "cell_type": "code",
   "execution_count": 20,
   "metadata": {},
   "outputs": [
    {
     "data": {
      "application/vnd.jupyter.widget-view+json": {
       "model_id": "",
       "version_major": 2,
       "version_minor": 0
      },
      "text/plain": [
       "HBox(children=(FloatProgress(value=0.0, description='Obtaining file info', layout=Layout(flex='2'), max=21.0, …"
      ]
     },
     "metadata": {},
     "output_type": "display_data"
    },
    {
     "data": {
      "application/vnd.jupyter.widget-view+json": {
       "model_id": "",
       "version_major": 2,
       "version_minor": 0
      },
      "text/plain": [
       "HBox(children=(FloatProgress(value=0.0, description='getting output of FeatureReader', layout=Layout(flex='2')…"
      ]
     },
     "metadata": {},
     "output_type": "display_data"
    }
   ],
   "source": [
    "feat2_new = pyemma.coordinates.load(xtcs_2, features=feat2, chunksize=128)"
   ]
  },
  {
   "cell_type": "code",
   "execution_count": 22,
   "metadata": {},
   "outputs": [
    {
     "name": "stdout",
     "output_type": "stream",
     "text": [
      "(3000, 60) 83\n",
      "(3000, 60) 84\n",
      "(3000, 60) 85\n",
      "(3000, 60) 86\n",
      "(3000, 60) 87\n",
      "(3000, 60) 88\n",
      "(3000, 60) 89\n",
      "(3000, 60) 90\n",
      "(3000, 60) 91\n",
      "(3000, 60) 92\n",
      "(3000, 60) 93\n",
      "(3000, 60) 94\n",
      "(3000, 60) 95\n",
      "(3000, 60) 96\n",
      "(3000, 60) 97\n",
      "(3000, 60) 98\n",
      "(3000, 60) 99\n",
      "(3000, 60) 100\n",
      "(3000, 60) 101\n",
      "(3000, 60) 102\n",
      "(3000, 60) 103\n"
     ]
    }
   ],
   "source": [
    "for i, traj in enumerate(feat2_new):\n",
    "    print(traj.shape, i + 83)"
   ]
  },
  {
   "cell_type": "code",
   "execution_count": 23,
   "metadata": {},
   "outputs": [],
   "source": [
    "np.save(\"../data/raw_feat/feat2_suppl_01.npy\", feat2_new)"
   ]
  },
  {
   "cell_type": "markdown",
   "metadata": {},
   "source": [
    "8.23.21"
   ]
  },
  {
   "cell_type": "code",
   "execution_count": 24,
   "metadata": {},
   "outputs": [
    {
     "data": {
      "application/vnd.jupyter.widget-view+json": {
       "model_id": "",
       "version_major": 2,
       "version_minor": 0
      },
      "text/plain": [
       "HBox(children=(FloatProgress(value=0.0, description='Obtaining file info', layout=Layout(flex='2'), max=21.0, …"
      ]
     },
     "metadata": {},
     "output_type": "display_data"
    },
    {
     "data": {
      "application/vnd.jupyter.widget-view+json": {
       "model_id": "",
       "version_major": 2,
       "version_minor": 0
      },
      "text/plain": [
       "HBox(children=(FloatProgress(value=0.0, description='getting output of FeatureReader', layout=Layout(flex='2')…"
      ]
     },
     "metadata": {},
     "output_type": "display_data"
    }
   ],
   "source": [
    "xtcs_3 = []\n",
    "for i in range(83, 104):\n",
    "    d = str(i).zfill(3)\n",
    "    xtcs_3.append(f\"../suppl-runs/{d}/civsd_pro_3.xtc\")\n",
    "feat3_new = pyemma.coordinates.load(xtcs_3, features=feat2, chunksize=128)"
   ]
  },
  {
   "cell_type": "code",
   "execution_count": 25,
   "metadata": {
    "scrolled": true
   },
   "outputs": [
    {
     "name": "stdout",
     "output_type": "stream",
     "text": [
      "(3000, 60) 83\n",
      "(3000, 60) 84\n",
      "(3000, 60) 85\n",
      "(3000, 60) 86\n",
      "(3000, 60) 87\n",
      "(3000, 60) 88\n",
      "(3000, 60) 89\n",
      "(3000, 60) 90\n",
      "(3000, 60) 91\n",
      "(3000, 60) 92\n",
      "(3000, 60) 93\n",
      "(3000, 60) 94\n",
      "(3000, 60) 95\n",
      "(3000, 60) 96\n",
      "(3000, 60) 97\n",
      "(3000, 60) 98\n",
      "(3000, 60) 99\n",
      "(3000, 60) 100\n",
      "(3000, 60) 101\n",
      "(3000, 60) 102\n",
      "(3000, 60) 103\n"
     ]
    }
   ],
   "source": [
    "for i, traj in enumerate(feat3_new):\n",
    "    print(traj.shape, i + 83)"
   ]
  },
  {
   "cell_type": "code",
   "execution_count": 26,
   "metadata": {},
   "outputs": [],
   "source": [
    "np.save(\"../data/raw_feat/feat2_suppl_02.npy\", feat3_new)"
   ]
  },
  {
   "cell_type": "code",
   "execution_count": 27,
   "metadata": {},
   "outputs": [
    {
     "data": {
      "application/vnd.jupyter.widget-view+json": {
       "model_id": "",
       "version_major": 2,
       "version_minor": 0
      },
      "text/plain": [
       "HBox(children=(FloatProgress(value=0.0, description='Obtaining file info', layout=Layout(flex='2'), max=21.0, …"
      ]
     },
     "metadata": {},
     "output_type": "display_data"
    },
    {
     "data": {
      "application/vnd.jupyter.widget-view+json": {
       "model_id": "",
       "version_major": 2,
       "version_minor": 0
      },
      "text/plain": [
       "HBox(children=(FloatProgress(value=0.0, description='getting output of FeatureReader', layout=Layout(flex='2')…"
      ]
     },
     "metadata": {},
     "output_type": "display_data"
    }
   ],
   "source": [
    "xtcs_4 = []\n",
    "for i in range(83, 104):\n",
    "    d = str(i).zfill(3)\n",
    "    xtcs_4.append(f\"../suppl-runs/{d}/civsd_pro_4.xtc\")\n",
    "feat2_4 = pyemma.coordinates.load(xtcs_4, features=feat2, chunksize=128)\n",
    "np.save(\"../data/raw_feat/feat2_suppl_03.npy\", feat2_4)"
   ]
  },
  {
   "cell_type": "code",
   "execution_count": 29,
   "metadata": {},
   "outputs": [
    {
     "name": "stdout",
     "output_type": "stream",
     "text": [
      "(3000, 60) 83\n",
      "(3000, 60) 84\n",
      "(3000, 60) 85\n",
      "(3000, 60) 86\n",
      "(3000, 60) 87\n",
      "(3000, 60) 88\n",
      "(3000, 60) 89\n",
      "(3000, 60) 90\n",
      "(3000, 60) 91\n",
      "(3000, 60) 92\n",
      "(3000, 60) 93\n",
      "(3000, 60) 94\n",
      "(3000, 60) 95\n",
      "(3000, 60) 96\n",
      "(3000, 60) 97\n",
      "(3000, 60) 98\n",
      "(3000, 60) 99\n",
      "(3000, 60) 100\n",
      "(3000, 60) 101\n",
      "(3000, 60) 102\n",
      "(3000, 60) 103\n"
     ]
    }
   ],
   "source": [
    "for i, traj in enumerate(feat2_4):\n",
    "    print(traj.shape, i + 83)"
   ]
  },
  {
   "cell_type": "code",
   "execution_count": 30,
   "metadata": {},
   "outputs": [],
   "source": [
    "assert np.all([len(traj) == 3000 for traj in feat3_new])\n",
    "assert np.all([len(traj) == 3000 for traj in feat2_4])"
   ]
  },
  {
   "cell_type": "code",
   "execution_count": null,
   "metadata": {},
   "outputs": [],
   "source": []
  }
 ],
 "metadata": {
  "kernelspec": {
   "display_name": "Python 3",
   "language": "python",
   "name": "python3"
  },
  "language_info": {
   "codemirror_mode": {
    "name": "ipython",
    "version": 3
   },
   "file_extension": ".py",
   "mimetype": "text/x-python",
   "name": "python",
   "nbconvert_exporter": "python",
   "pygments_lexer": "ipython3",
   "version": "3.7.8"
  },
  "latex_envs": {
   "LaTeX_envs_menu_present": true,
   "autoclose": true,
   "autocomplete": true,
   "bibliofile": "biblio.bib",
   "cite_by": "apalike",
   "current_citInitial": 1,
   "eqLabelWithNumbers": true,
   "eqNumInitial": 1,
   "hotkeys": {
    "equation": "Ctrl-E",
    "itemize": "Ctrl-I"
   },
   "labels_anchors": false,
   "latex_user_defs": false,
   "report_style_numbering": false,
   "user_envs_cfg": false
  },
  "toc": {
   "base_numbering": 1,
   "nav_menu": {},
   "number_sections": false,
   "sideBar": true,
   "skip_h1_title": false,
   "title_cell": "Table of Contents",
   "title_sidebar": "Contents",
   "toc_cell": false,
   "toc_position": {},
   "toc_section_display": true,
   "toc_window_display": false
  }
 },
 "nbformat": 4,
 "nbformat_minor": 4
}
