{
 "cells": [
  {
   "cell_type": "code",
   "execution_count": 2,
   "metadata": {},
   "outputs": [],
   "source": [
    "import sys\n",
    "import importlib\n",
    "import gc\n",
    "import glob\n",
    "from itertools import combinations\n",
    "\n",
    "import numpy as np\n",
    "import jax\n",
    "import jax.numpy as jnp\n",
    "import sklearn\n",
    "from sklearn.metrics import pairwise_distances\n",
    "from sklearn.neighbors import KDTree\n",
    "import kmedoids\n",
    "\n",
    "import matplotlib as mpl\n",
    "import matplotlib.pyplot as plt\n",
    "from matplotlib import ticker\n",
    "import seaborn as sns"
   ]
  },
  {
   "cell_type": "code",
   "execution_count": 3,
   "metadata": {},
   "outputs": [],
   "source": [
    "sns.set_theme(\n",
    "    style=\"ticks\",\n",
    "    context=\"notebook\",\n",
    "    palette=\"colorblind\",\n",
    "    rc={\"figure.figsize\": (7, 6)},\n",
    ")"
   ]
  },
  {
   "cell_type": "markdown",
   "metadata": {},
   "source": [
    "Copied from https://github.com/emanuele/minibatch_kmeans/blob/master/kmeans.py "
   ]
  },
  {
   "cell_type": "code",
   "execution_count": 4,
   "metadata": {},
   "outputs": [],
   "source": [
    "def compute_labels(X, C):\n",
    "    \"\"\"Compute the cluster labels for dataset X given centers C.\"\"\"\n",
    "    # labels = np.argmin(pairwise_distances(C, X), axis=0) # THIS REQUIRES TOO MUCH MEMORY FOR LARGE X\n",
    "    tree = KDTree(C)\n",
    "    labels = tree.query(X, k=1, return_distance=False).squeeze()\n",
    "    return labels"
   ]
  },
  {
   "cell_type": "code",
   "execution_count": 5,
   "metadata": {},
   "outputs": [],
   "source": [
    "def compute_centroids(X, C):\n",
    "    \"\"\"Compute the centroids for dataset X given centers C. Note: centers\n",
    "    C may not belong to X.\n",
    "    \"\"\"\n",
    "    tree = KDTree(X)\n",
    "    centroids = tree.query(C, k=1, return_distance=False).squeeze()\n",
    "    return centroids"
   ]
  },
  {
   "cell_type": "code",
   "execution_count": 6,
   "metadata": {},
   "outputs": [],
   "source": [
    "def mini_batch_kmeans(X, C, b, t, replacement=True):\n",
    "    \"\"\"The mini-batch k-means algorithms (Sculley et al. 2007) for the\n",
    "    k-centers problem.\n",
    "    X : data matrix\n",
    "    C : initial centers\n",
    "    b : size of the mini-batches\n",
    "    t : number of iterations\n",
    "    replacement: whether to sample batches with replacement or not.\n",
    "    \"\"\"\n",
    "    C = C.copy()\n",
    "    for i in range(t):\n",
    "        # Sample a mini batch:\n",
    "        if replacement:\n",
    "            X_batch = X[np.random.choice(X.shape[0], b, replace=True)]\n",
    "        else:\n",
    "            X_batch = X[b * i : b * (i + 1)]\n",
    "\n",
    "        V = np.zeros(C.shape[0])\n",
    "        idxs = np.empty(X_batch.shape[0], dtype=np.int)\n",
    "        # Assign the closest centers without update for the whole batch:\n",
    "        for j, x in enumerate(X_batch):\n",
    "            idxs[j] = np.argmin(((C - x) ** 2).sum(1))\n",
    "\n",
    "        # Update centers:\n",
    "        for j, x in enumerate(X_batch):\n",
    "            V[idxs[j]] += 1\n",
    "            eta = 1.0 / V[idxs[j]]\n",
    "            C[idxs[j]] = (1.0 - eta) * C[idxs[j]] + eta * x\n",
    "\n",
    "    return C"
   ]
  },
  {
   "cell_type": "code",
   "execution_count": 7,
   "metadata": {},
   "outputs": [],
   "source": [
    "def kmpp(X, k):\n",
    "    n_row, n_col = X.shape\n",
    "\n",
    "    # randomly choose the first centroid\n",
    "    centroids = np.zeros((k, n_col))\n",
    "    rand_index = np.random.choice(n_row)\n",
    "    centroids[0] = X[rand_index]\n",
    "\n",
    "    # compute distances from the first centroid chosen to all the other data points\n",
    "    distances = pairwise_distances(\n",
    "        X, [centroids[0]], metric=\"euclidean\", n_jobs=-1\n",
    "    ).flatten()\n",
    "\n",
    "    for i in range(1, k):\n",
    "        # choose the next centroid, the probability for each data point to be chosen\n",
    "        # is directly proportional to its squared distance from the nearest centroid\n",
    "        prob = distances ** 2\n",
    "        rand_index = np.random.choice(n_row, size=1, p=prob / np.sum(prob))\n",
    "        centroids[i] = X[rand_index]\n",
    "\n",
    "        if i == k - 1:\n",
    "            break\n",
    "\n",
    "        # if we still need another cluster,\n",
    "        # compute distances from the centroids to all data points\n",
    "        # and update the squared distance as the minimum distance to all centroid\n",
    "        distances_new = pairwise_distances(\n",
    "            X, [centroids[i]], metric=\"euclidean\", n_jobs=-1\n",
    "        ).flatten()\n",
    "        distances = np.min(np.vstack((distances, distances_new)), axis=0)\n",
    "    return centroids"
   ]
  },
  {
   "cell_type": "code",
   "execution_count": 8,
   "metadata": {},
   "outputs": [],
   "source": [
    "def mini_batch_kmeans_tmat(X, Xt, C, batch_size, tau, lmbda=0.5, max_iter=10):\n",
    "    \"\"\"The mini-batch k-means algorithms (Sculley et al. 2007) for the\n",
    "    k-centers problem.\n",
    "    X : list of trajectory data\n",
    "    Xt : list of time-lagged trajectories\n",
    "    C : initial centers\n",
    "    tau: time lag (in number of frames)\n",
    "    batch_size : size of the mini-batches (number of trajectories)\n",
    "    lmbda : hyperparameter for weight of transition matrix loss\n",
    "    max_iter : number of iterations\n",
    "    \"\"\"\n",
    "    C = C.copy()\n",
    "    k = len(C) # number of clusters\n",
    "    n_trajs = len(X)\n",
    "    assert n_trajs >= batch_size\n",
    "    assert len(Xt) == n_trajs\n",
    "    \n",
    "    for i in range(max_iter):\n",
    "        # Sample a mini batch:\n",
    "        if replacement:\n",
    "        indices = np.random.choice(n_trajs, batch_size, replace=False)\n",
    "        X_batch = X[inds]\n",
    "        Xt_batch = Xt[inds]\n",
    "        X_batch_arr = jnp.concatenate(X_batch)\n",
    "        Xt_batch_arr = jnp.concatenate(Xt_batch)\n",
    "        \n",
    "        V = jnp.zeros(k)\n",
    "#         idxs = np.empty(X_batch_arr.shape[0], dtype=np.int)\n",
    "        # Assign the closest centers without update for the whole batch:\n",
    "        idxs = compute_labels(X_batch_arr, C)\n",
    "\n",
    "        # Update centers:\n",
    "        update = jnp.zeros_like(C)\n",
    "        for j, x in enumerate(X_batch):\n",
    "            V[idxs[j]] += 1\n",
    "            update[idxs[j]] += (x - C[idxs[j]])\n",
    "            \n",
    "        # learning rate           \n",
    "        eta = 1.0 / V[idxs[j]]\n",
    "        grad_tmat_loss\n",
    "#         for i, c in enumerate(C):\n",
    "        # compute gradient wrt centroids\n",
    "        grad_tmat_loss[i] = grad_tmat_loss(C, X_batch, Xt_batch, tau=tau)\n",
    "        C -= eta * ((1 - lmbda) * update + lmbda * grad_tmat_loss) \n",
    "\n",
    "    return C"
   ]
  },
  {
   "cell_type": "code",
   "execution_count": 123,
   "metadata": {},
   "outputs": [],
   "source": [
    "def _tmat_loss(C, X, Xt, tau):\n",
    "    \"\"\"\n",
    "    X : list of trajectory data\n",
    "    Xt : list of time-lagged trajectory data\n",
    "    C : centroids against which to compute loss\n",
    "    \"\"\"\n",
    "    #     loss = 0\n",
    "\n",
    "    for traj, traj_lagged in zip(fake_X, fake_Xt):\n",
    "        # find closest centroid\n",
    "        idx = np.zeros(len(traj), dtype=np.int)\n",
    "        idx_t = np.zeros(len(traj_lagged), dtype=np.int)\n",
    "        for i, (x, xt) in enumerate(zip(traj, traj_lagged)):\n",
    "            idx[i] = jnp.argmin(jnp.linalg.norm(x - C, axis=1))\n",
    "            idx_t[i] = jnp.argmin(jnp.linalg.norm(xt - C, axis=1))\n",
    "\n",
    "        # convert to indicator function\n",
    "        basis = np.zeros((len(traj), k))\n",
    "        basis[np.arange(len(traj)), idx] += 1.0\n",
    "        basist = np.zeros((len(traj), k))\n",
    "        basist[np.arange(len(traj)), idx_t] += 1.0\n",
    "\n",
    "        # compute loss\n",
    "        tmat = jnp.matmul(\n",
    "            jnp.linalg.inv(jnp.matmul(basis.T, basis)), jnp.matmul(basis.T, basist)\n",
    "        )\n",
    "    loss = 1 / (1 - jnp.diagonal(tmat))\n",
    "\n",
    "    return np.sum(loss)"
   ]
  },
  {
   "cell_type": "code",
   "execution_count": 124,
   "metadata": {},
   "outputs": [],
   "source": [
    "grad_tmat_loss = jax.grad(_tmat_loss, argnums=0, allow_int=True)"
   ]
  },
  {
   "cell_type": "markdown",
   "metadata": {},
   "source": [
    "# testing"
   ]
  },
  {
   "cell_type": "code",
   "execution_count": 9,
   "metadata": {},
   "outputs": [
    {
     "name": "stdout",
     "output_type": "stream",
     "text": [
      "(200000000, 3)\n"
     ]
    }
   ],
   "source": [
    "double_well_data = np.load(\"/project2/roux/scguo/toy_models/double_well.npy\")\n",
    "print(double_well_data.shape)"
   ]
  },
  {
   "cell_type": "code",
   "execution_count": 10,
   "metadata": {},
   "outputs": [],
   "source": [
    "# split into a bunch of short trajectories\n",
    "trajs = [t[:, 1:] for t in np.split(double_well_data, 1000)]"
   ]
  },
  {
   "cell_type": "code",
   "execution_count": 11,
   "metadata": {},
   "outputs": [
    {
     "data": {
      "text/plain": [
       "(200000, 2)"
      ]
     },
     "execution_count": 11,
     "metadata": {},
     "output_type": "execute_result"
    }
   ],
   "source": [
    "trajs[0].shape"
   ]
  },
  {
   "cell_type": "code",
   "execution_count": 25,
   "metadata": {},
   "outputs": [
    {
     "data": {
      "text/plain": [
       "<matplotlib.collections.PathCollection at 0x7f1905016250>"
      ]
     },
     "execution_count": 25,
     "metadata": {},
     "output_type": "execute_result"
    },
    {
     "data": {
      "image/png": "[encoded data removed]",
      "text/plain": [
       "<Figure size 504x432 with 1 Axes>"
      ]
     },
     "metadata": {},
     "output_type": "display_data"
    }
   ],
   "source": [
    "plt.scatter(*trajs[0].T, alpha=0.1)"
   ]
  },
  {
   "cell_type": "code",
   "execution_count": 30,
   "metadata": {},
   "outputs": [],
   "source": [
    "X, Y = np.mgrid[-5:5, -5:5]\n",
    "fake_data = np.vstack((X.flat, Y.flat)).T"
   ]
  },
  {
   "cell_type": "code",
   "execution_count": 31,
   "metadata": {},
   "outputs": [
    {
     "data": {
      "text/plain": [
       "<matplotlib.collections.PathCollection at 0x7f19079c7b90>"
      ]
     },
     "execution_count": 31,
     "metadata": {},
     "output_type": "execute_result"
    },
    {
     "data": {
      "image/png": "[encoded data removed]",
      "text/plain": [
       "<Figure size 504x432 with 1 Axes>"
      ]
     },
     "metadata": {},
     "output_type": "display_data"
    }
   ],
   "source": [
    "plt.scatter(*fake_data.T)"
   ]
  },
  {
   "cell_type": "code",
   "execution_count": 32,
   "metadata": {},
   "outputs": [
    {
     "data": {
      "text/plain": [
       "(100, 2)"
      ]
     },
     "execution_count": 32,
     "metadata": {},
     "output_type": "execute_result"
    }
   ],
   "source": [
    "fake_data.shape"
   ]
  },
  {
   "cell_type": "code",
   "execution_count": 51,
   "metadata": {},
   "outputs": [],
   "source": [
    "C = np.array([[-4, 0], [4, 0]])"
   ]
  },
  {
   "cell_type": "code",
   "execution_count": 47,
   "metadata": {},
   "outputs": [],
   "source": [
    "tau = 10\n",
    "fake_X = [fake_data[:-tau]]\n",
    "fake_Xt = [fake_data[tau:]]"
   ]
  },
  {
   "cell_type": "code",
   "execution_count": 44,
   "metadata": {},
   "outputs": [],
   "source": [
    "import itertools"
   ]
  },
  {
   "cell_type": "code",
   "execution_count": 87,
   "metadata": {},
   "outputs": [],
   "source": [
    "k = 2"
   ]
  },
  {
   "cell_type": "code",
   "execution_count": 109,
   "metadata": {},
   "outputs": [
    {
     "name": "stderr",
     "output_type": "stream",
     "text": [
      "/project2/roux/scguo/anaconda/envs/py37/lib/python3.7/site-packages/ipykernel_launcher.py:3: DeprecationWarning: `np.int` is a deprecated alias for the builtin `int`. To silence this warning, use `int` by itself. Doing this will not modify any behavior and is safe. When replacing `np.int`, you may wish to use e.g. `np.int64` or `np.int32` to specify the precision. If you wish to review your current use, check the release note link for additional information.\n",
      "Deprecated in NumPy 1.20; for more details and guidance: https://numpy.org/devdocs/release/1.20.0-notes.html#deprecations\n",
      "  This is separate from the ipykernel package so we can avoid doing imports until\n",
      "/project2/roux/scguo/anaconda/envs/py37/lib/python3.7/site-packages/ipykernel_launcher.py:4: DeprecationWarning: `np.int` is a deprecated alias for the builtin `int`. To silence this warning, use `int` by itself. Doing this will not modify any behavior and is safe. When replacing `np.int`, you may wish to use e.g. `np.int64` or `np.int32` to specify the precision. If you wish to review your current use, check the release note link for additional information.\n",
      "Deprecated in NumPy 1.20; for more details and guidance: https://numpy.org/devdocs/release/1.20.0-notes.html#deprecations\n",
      "  after removing the cwd from sys.path.\n"
     ]
    }
   ],
   "source": [
    "for traj, traj_lagged in zip(fake_X, fake_Xt):\n",
    "    # find closest centroid\n",
    "    idx = np.zeros(len(traj), dtype=np.int)\n",
    "    idx_t = np.zeros(len(traj_lagged), dtype=np.int)\n",
    "    for i, (x, xt) in enumerate(zip(traj, traj_lagged)):\n",
    "        idx[i] = jnp.argmin(jnp.linalg.norm(x - C, axis=1))\n",
    "        idx_t[i] = jnp.argmin(jnp.linalg.norm(xt - C, axis=1))\n",
    "\n",
    "    # convert to indicator function\n",
    "    basis = np.zeros((len(traj), k))\n",
    "    basis[np.arange(len(traj)), idx] += 1.0\n",
    "    basist = np.zeros((len(traj), k))\n",
    "    basist[np.arange(len(traj)), idx_t] += 1.0\n",
    "\n",
    "    # compute loss\n",
    "    tmat = jnp.matmul(\n",
    "        jnp.linalg.inv(jnp.matmul(basis.T, basis)), jnp.matmul(basis.T, basist)\n",
    "    )\n",
    "loss = 1 / (1 - jnp.diagonal(tmat))"
   ]
  },
  {
   "cell_type": "code",
   "execution_count": 103,
   "metadata": {},
   "outputs": [
    {
     "data": {
      "text/plain": [
       "DeviceArray([7.071068, 5.656854], dtype=float32)"
      ]
     },
     "execution_count": 103,
     "metadata": {},
     "output_type": "execute_result"
    }
   ],
   "source": [
    "jnp.linalg.norm(x - C, axis=0)"
   ]
  },
  {
   "cell_type": "code",
   "execution_count": 104,
   "metadata": {},
   "outputs": [
    {
     "data": {
      "text/plain": [
       "jaxlib.xla_extension.DeviceArray"
      ]
     },
     "execution_count": 104,
     "metadata": {},
     "output_type": "execute_result"
    }
   ],
   "source": [
    "type(tmat)"
   ]
  },
  {
   "cell_type": "code",
   "execution_count": 105,
   "metadata": {},
   "outputs": [
    {
     "data": {
      "text/plain": [
       "DeviceArray([[50., 10.],\n",
       "             [ 0., 30.]], dtype=float32)"
      ]
     },
     "execution_count": 105,
     "metadata": {},
     "output_type": "execute_result"
    }
   ],
   "source": [
    "jnp.matmul(basis.T, basist)"
   ]
  },
  {
   "cell_type": "code",
   "execution_count": 110,
   "metadata": {},
   "outputs": [
    {
     "data": {
      "text/plain": [
       "DeviceArray([[0.01666667, 0.        ],\n",
       "             [0.        , 0.03333334]], dtype=float32)"
      ]
     },
     "execution_count": 110,
     "metadata": {},
     "output_type": "execute_result"
    }
   ],
   "source": [
    "jnp.linalg.inv(jnp.dot(basis.T, basis))"
   ]
  },
  {
   "cell_type": "code",
   "execution_count": 111,
   "metadata": {},
   "outputs": [
    {
     "data": {
      "text/plain": [
       "DeviceArray([[0.8333334 , 0.16666667],\n",
       "             [0.        , 1.        ]], dtype=float32)"
      ]
     },
     "execution_count": 111,
     "metadata": {},
     "output_type": "execute_result"
    }
   ],
   "source": [
    "tmat"
   ]
  },
  {
   "cell_type": "code",
   "execution_count": 94,
   "metadata": {},
   "outputs": [
    {
     "data": {
      "text/plain": [
       "DeviceArray([5.9999995,       inf], dtype=float32)"
      ]
     },
     "execution_count": 94,
     "metadata": {},
     "output_type": "execute_result"
    }
   ],
   "source": [
    "loss"
   ]
  },
  {
   "cell_type": "code",
   "execution_count": 71,
   "metadata": {},
   "outputs": [
    {
     "data": {
      "text/plain": [
       "array([3, 4])"
      ]
     },
     "execution_count": 71,
     "metadata": {},
     "output_type": "execute_result"
    }
   ],
   "source": [
    "x"
   ]
  },
  {
   "cell_type": "code",
   "execution_count": 72,
   "metadata": {},
   "outputs": [
    {
     "data": {
      "text/plain": [
       "array([[-4,  0],\n",
       "       [ 4,  0]])"
      ]
     },
     "execution_count": 72,
     "metadata": {},
     "output_type": "execute_result"
    }
   ],
   "source": [
    "C"
   ]
  },
  {
   "cell_type": "code",
   "execution_count": 73,
   "metadata": {},
   "outputs": [
    {
     "data": {
      "text/plain": [
       "array([[ 7,  4],\n",
       "       [-1,  4]])"
      ]
     },
     "execution_count": 73,
     "metadata": {},
     "output_type": "execute_result"
    }
   ],
   "source": [
    "x - C"
   ]
  },
  {
   "cell_type": "code",
   "execution_count": 77,
   "metadata": {},
   "outputs": [
    {
     "data": {
      "text/plain": [
       "DeviceArray(1, dtype=int32)"
      ]
     },
     "execution_count": 77,
     "metadata": {},
     "output_type": "execute_result"
    }
   ],
   "source": [
    "jnp.argmin(jnp.linalg.norm(x - C, axis=1))"
   ]
  },
  {
   "cell_type": "code",
   "execution_count": 85,
   "metadata": {},
   "outputs": [
    {
     "name": "stdout",
     "output_type": "stream",
     "text": [
      "[0. 0. 0. 0. 0. 0. 0. 0. 0. 0. 0. 0. 0. 0. 0. 0. 0. 0. 0. 0. 0. 0. 0. 0.\n",
      " 0. 0. 0. 0. 0. 0. 0. 0. 0. 0. 0. 0. 0. 0. 0. 0. 0. 0. 0. 0. 0. 0. 0. 0.\n",
      " 0. 0. 0. 0. 0. 0. 0. 0. 0. 0. 0. 0. 1. 1. 1. 1. 1. 1. 1. 1. 1. 1. 1. 1.\n",
      " 1. 1. 1. 1. 1. 1. 1. 1. 1. 1. 1. 1. 1. 1. 1. 1. 1. 1.]\n"
     ]
    }
   ],
   "source": [
    "print(idx)"
   ]
  },
  {
   "cell_type": "code",
   "execution_count": 70,
   "metadata": {},
   "outputs": [
    {
     "data": {
      "text/plain": [
       "DeviceArray([0., 0., 0., 0., 0., 0., 0., 0., 0., 0., 0., 0., 0., 0., 0.,\n",
       "             0., 0., 0., 0., 0., 0., 0., 0., 0., 0., 0., 0., 0., 0., 0.,\n",
       "             0., 0., 0., 0., 0., 0., 0., 0., 0., 0., 0., 0., 0., 0., 0.,\n",
       "             0., 0., 0., 0., 0., 0., 0., 0., 0., 0., 0., 0., 0., 0., 0.,\n",
       "             0., 0., 0., 0., 0., 0., 0., 0., 0., 0., 0., 0., 0., 0., 0.,\n",
       "             0., 0., 0., 0., 0., 0., 0., 0., 0., 0., 0., 0., 0., 0., 0.],            dtype=float32)"
      ]
     },
     "execution_count": 70,
     "metadata": {},
     "output_type": "execute_result"
    }
   ],
   "source": [
    "idx_t"
   ]
  },
  {
   "cell_type": "code",
   "execution_count": 116,
   "metadata": {},
   "outputs": [
    {
     "name": "stderr",
     "output_type": "stream",
     "text": [
      "/project2/roux/scguo/anaconda/envs/py37/lib/python3.7/site-packages/ipykernel_launcher.py:11: DeprecationWarning: `np.int` is a deprecated alias for the builtin `int`. To silence this warning, use `int` by itself. Doing this will not modify any behavior and is safe. When replacing `np.int`, you may wish to use e.g. `np.int64` or `np.int32` to specify the precision. If you wish to review your current use, check the release note link for additional information.\n",
      "Deprecated in NumPy 1.20; for more details and guidance: https://numpy.org/devdocs/release/1.20.0-notes.html#deprecations\n",
      "  # This is added back by InteractiveShellApp.init_path()\n",
      "/project2/roux/scguo/anaconda/envs/py37/lib/python3.7/site-packages/ipykernel_launcher.py:12: DeprecationWarning: `np.int` is a deprecated alias for the builtin `int`. To silence this warning, use `int` by itself. Doing this will not modify any behavior and is safe. When replacing `np.int`, you may wish to use e.g. `np.int64` or `np.int32` to specify the precision. If you wish to review your current use, check the release note link for additional information.\n",
      "Deprecated in NumPy 1.20; for more details and guidance: https://numpy.org/devdocs/release/1.20.0-notes.html#deprecations\n",
      "  if sys.path[0] == '':\n"
     ]
    }
   ],
   "source": [
    "loss = _tmat_loss(C, fake_X, fake_Xt, tau)"
   ]
  },
  {
   "cell_type": "code",
   "execution_count": 117,
   "metadata": {},
   "outputs": [
    {
     "data": {
      "text/plain": [
       "DeviceArray([6.0000014,       inf], dtype=float32)"
      ]
     },
     "execution_count": 117,
     "metadata": {},
     "output_type": "execute_result"
    }
   ],
   "source": [
    "loss"
   ]
  },
  {
   "cell_type": "code",
   "execution_count": 119,
   "metadata": {},
   "outputs": [
    {
     "data": {
      "text/plain": [
       "array([[-4,  0],\n",
       "       [ 4,  0]])"
      ]
     },
     "execution_count": 119,
     "metadata": {},
     "output_type": "execute_result"
    }
   ],
   "source": [
    "C"
   ]
  },
  {
   "cell_type": "code",
   "execution_count": 125,
   "metadata": {},
   "outputs": [
    {
     "name": "stderr",
     "output_type": "stream",
     "text": [
      "/project2/roux/scguo/anaconda/envs/py37/lib/python3.7/site-packages/ipykernel_launcher.py:11: DeprecationWarning: `np.int` is a deprecated alias for the builtin `int`. To silence this warning, use `int` by itself. Doing this will not modify any behavior and is safe. When replacing `np.int`, you may wish to use e.g. `np.int64` or `np.int32` to specify the precision. If you wish to review your current use, check the release note link for additional information.\n",
      "Deprecated in NumPy 1.20; for more details and guidance: https://numpy.org/devdocs/release/1.20.0-notes.html#deprecations\n",
      "  # This is added back by InteractiveShellApp.init_path()\n",
      "/project2/roux/scguo/anaconda/envs/py37/lib/python3.7/site-packages/ipykernel_launcher.py:12: DeprecationWarning: `np.int` is a deprecated alias for the builtin `int`. To silence this warning, use `int` by itself. Doing this will not modify any behavior and is safe. When replacing `np.int`, you may wish to use e.g. `np.int64` or `np.int32` to specify the precision. If you wish to review your current use, check the release note link for additional information.\n",
      "Deprecated in NumPy 1.20; for more details and guidance: https://numpy.org/devdocs/release/1.20.0-notes.html#deprecations\n",
      "  if sys.path[0] == '':\n"
     ]
    },
    {
     "data": {
      "text/plain": [
       "array([[(b'',), (b'',)],\n",
       "       [(b'',), (b'',)]], dtype=[('float0', 'V')])"
      ]
     },
     "execution_count": 125,
     "metadata": {},
     "output_type": "execute_result"
    }
   ],
   "source": [
    "grad_tmat_loss(C, fake_X, fake_Xt, tau)"
   ]
  },
  {
   "cell_type": "code",
   "execution_count": null,
   "metadata": {},
   "outputs": [],
   "source": []
  }
 ],
 "metadata": {
  "kernelspec": {
   "display_name": "Python 3",
   "language": "python",
   "name": "python3"
  },
  "language_info": {
   "codemirror_mode": {
    "name": "ipython",
    "version": 3
   },
   "file_extension": ".py",
   "mimetype": "text/x-python",
   "name": "python",
   "nbconvert_exporter": "python",
   "pygments_lexer": "ipython3",
   "version": "3.7.8"
  }
 },
 "nbformat": 4,
 "nbformat_minor": 4
}
