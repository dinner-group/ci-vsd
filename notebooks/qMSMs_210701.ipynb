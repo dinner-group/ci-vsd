{
 "cells": [
  {
   "cell_type": "code",
   "execution_count": 1,
   "metadata": {},
   "outputs": [],
   "source": [
    "import numpy as np\n",
    "import matplotlib.pyplot as plt\n",
    "from matplotlib import ticker\n",
    "import seaborn as sns\n",
    "import ivac\n",
    "import pyemma\n",
    "import sys"
   ]
  },
  {
   "cell_type": "code",
   "execution_count": 2,
   "metadata": {},
   "outputs": [],
   "source": [
    "sys.path.insert(1, \"../python\")\n",
    "sys.path.insert(1, \"../..\")\n",
    "import util\n",
    "import kde"
   ]
  },
  {
   "cell_type": "code",
   "execution_count": 3,
   "metadata": {},
   "outputs": [],
   "source": [
    "plt.style.use(\"seaborn-ticks\")\n",
    "sns.set_palette(\"colorblind\")"
   ]
  },
  {
   "cell_type": "code",
   "execution_count": 4,
   "metadata": {},
   "outputs": [
    {
     "name": "stdout",
     "output_type": "stream",
     "text": [
      "237 (10000, 60)\n"
     ]
    }
   ],
   "source": [
    "# use feature 2, based on what looked best for Rong's MSM\n",
    "data_trajs = np.load(\"../data/raw_feat/feat2_raw_anton.npy\", allow_pickle=True)\n",
    "print(len(data_trajs), data_trajs[0].shape)"
   ]
  },
  {
   "cell_type": "code",
   "execution_count": 5,
   "metadata": {},
   "outputs": [],
   "source": [
    "import pickle"
   ]
  },
  {
   "cell_type": "code",
   "execution_count": 6,
   "metadata": {},
   "outputs": [],
   "source": [
    "# TICA/IVAC to reduce dimensionality\n",
    "with open(\"../data/livac-feat2-anton.pkl\", mode=\"rb\") as f:\n",
    "    livac = pickle.load(f)"
   ]
  },
  {
   "cell_type": "markdown",
   "metadata": {},
   "source": [
    "plot eigenvalues squared to decide on spectral gap: kinetic variance\n",
    "$$\\mathrm{KV_m} = \\frac{\\sum_{i=1}^m\\lambda_i^2}{TKV}$$"
   ]
  },
  {
   "cell_type": "code",
   "execution_count": 8,
   "metadata": {},
   "outputs": [
    {
     "data": {
      "text/plain": [
       "[<matplotlib.lines.Line2D at 0x7f5aacd2d110>]"
      ]
     },
     "execution_count": 8,
     "metadata": {},
     "output_type": "execute_result"
    },
    {
     "data": {
      "image/png": "[encoded data removed]",
      "text/plain": [
       "<Figure size 432x288 with 1 Axes>"
      ]
     },
     "metadata": {},
     "output_type": "display_data"
    }
   ],
   "source": [
    "evals = livac.evals\n",
    "plt.plot(evals, \".\")"
   ]
  },
  {
   "cell_type": "code",
   "execution_count": 7,
   "metadata": {},
   "outputs": [
    {
     "name": "stdout",
     "output_type": "stream",
     "text": [
      "237 (10000, 10)\n"
     ]
    }
   ],
   "source": [
    "# definitely appears to be a gap near 7 or 10 eigenvalues\n",
    "# take the top 10 eigenvectors\n",
    "ivac_trajs = np.load(\"../data/feat2_anton_ivac.npy\", allow_pickle=True)\n",
    "print(len(ivac_trajs), ivac_trajs[0].shape)"
   ]
  },
  {
   "cell_type": "code",
   "execution_count": 12,
   "metadata": {},
   "outputs": [
    {
     "data": {
      "text/plain": [
       "[<matplotlib.lines.Line2D at 0x7f5aa2ad2dd0>]"
      ]
     },
     "execution_count": 12,
     "metadata": {},
     "output_type": "execute_result"
    },
    {
     "data": {
      "image/png": "[encoded data removed]",
      "text/plain": [
       "<Figure size 432x288 with 1 Axes>"
      ]
     },
     "metadata": {},
     "output_type": "display_data"
    }
   ],
   "source": [
    "kv = np.cumsum(evals ** 2) / np.sum(evals ** 2)\n",
    "plt.plot(kv, \".-\")"
   ]
  },
  {
   "cell_type": "code",
   "execution_count": 13,
   "metadata": {},
   "outputs": [
    {
     "data": {
      "application/vnd.jupyter.widget-view+json": {
       "model_id": "",
       "version_major": 2,
       "version_minor": 0
      },
      "text/plain": [
       "HBox(children=(FloatProgress(value=0.0, description='initialize kmeans++ centers', layout=Layout(flex='2'), ma…"
      ]
     },
     "metadata": {},
     "output_type": "display_data"
    },
    {
     "data": {
      "application/vnd.jupyter.widget-view+json": {
       "model_id": "",
       "version_major": 2,
       "version_minor": 0
      },
      "text/plain": [
       "HBox(children=(FloatProgress(value=0.0, description='kmeans iterations', layout=Layout(flex='2'), style=Progre…"
      ]
     },
     "metadata": {},
     "output_type": "display_data"
    },
    {
     "name": "stdout",
     "output_type": "stream",
     "text": [
      "01-07-21 09:59:53 pyemma.coordinates.clustering.kmeans.MiniBatchKmeansClustering[0] INFO     Cluster centers converged after 17 steps.\n"
     ]
    }
   ],
   "source": [
    "# cluster, use 500 clusters\n",
    "ivac_arr = np.concatenate(ivac_trajs)\n",
    "km = pyemma.coordinates.cluster_mini_batch_kmeans(\n",
    "    data=ivac_arr, k=500, max_iter=100, n_jobs=32\n",
    ")"
   ]
  },
  {
   "cell_type": "code",
   "execution_count": 14,
   "metadata": {},
   "outputs": [],
   "source": [
    "dtrajs = km.dtrajs[0]"
   ]
  },
  {
   "cell_type": "code",
   "execution_count": 15,
   "metadata": {},
   "outputs": [
    {
     "data": {
      "text/plain": [
       "(3000000,)"
      ]
     },
     "execution_count": 15,
     "metadata": {},
     "output_type": "execute_result"
    }
   ],
   "source": [
    "dtrajs.shape"
   ]
  },
  {
   "cell_type": "code",
   "execution_count": 17,
   "metadata": {},
   "outputs": [],
   "source": [
    "np.save(\"../data/raw_feat/feat2_ind500_anton.npy\", dtrajs)"
   ]
  },
  {
   "cell_type": "code",
   "execution_count": 8,
   "metadata": {},
   "outputs": [],
   "source": [
    "dtrajs = np.load(\"../data/raw_feat/feat2_ind500_anton.npy\")"
   ]
  },
  {
   "cell_type": "code",
   "execution_count": 9,
   "metadata": {},
   "outputs": [
    {
     "name": "stdout",
     "output_type": "stream",
     "text": [
      "237\n"
     ]
    }
   ],
   "source": [
    "# split into individual trajectories\n",
    "orig_traj_lens = [len(traj) for traj in data_trajs]\n",
    "orig_traj_inds = []\n",
    "subtot = 0\n",
    "for length in orig_traj_lens[:-1]:\n",
    "    subtot += length\n",
    "    orig_traj_inds.append(subtot)\n",
    "dtrajs = np.split(dtrajs, orig_traj_inds)\n",
    "print(len(dtrajs))"
   ]
  },
  {
   "cell_type": "code",
   "execution_count": 10,
   "metadata": {},
   "outputs": [
    {
     "data": {
      "text/plain": [
       "10000"
      ]
     },
     "execution_count": 10,
     "metadata": {},
     "output_type": "execute_result"
    }
   ],
   "source": [
    "len(dtrajs[0])"
   ]
  },
  {
   "cell_type": "code",
   "execution_count": 23,
   "metadata": {},
   "outputs": [
    {
     "data": {
      "text/plain": [
       "[<matplotlib.lines.Line2D at 0x7f590866e990>]"
      ]
     },
     "execution_count": 23,
     "metadata": {},
     "output_type": "execute_result"
    },
    {
     "data": {
      "image/png": "[encoded data removed]",
      "text/plain": [
       "<Figure size 432x288 with 1 Axes>"
      ]
     },
     "metadata": {},
     "output_type": "display_data"
    }
   ],
   "source": [
    "plt.plot(dtrajs[0])"
   ]
  },
  {
   "cell_type": "markdown",
   "metadata": {},
   "source": [
    "# qMSM construction "
   ]
  },
  {
   "cell_type": "markdown",
   "metadata": {},
   "source": [
    "Described in Cao *JCP* 2020 \"On the advantages of exploiting memory in Markov state models for biomolecular dynamics \"\n",
    "\n",
    "Discretization of the GLE and transition matrix:\n",
    "$$\\dot{T}(n\\Delta t) = \\dot{T}(0)T(n\\Delta t) + \\Delta t \\sum_{m=1}^n\\mathscr{K}(m\\Delta t) T((n-m)\\Delta t)$$\n",
    "\n",
    "where the memory kernel $\\mathscr{K}$ satisfies\n",
    "$$\\mathscr{K}(n\\Delta t) = \\frac{\\dot{T}(n\\Delta t) - \\dot{T}(0)T(n\\Delta t)}{\\Delta t} - \\sum_{m=1}^{n-1}\\mathscr{K}(m\\Delta t)T((n-m)\\Delta t)$$\n",
    "<br>\n",
    "We can approximate the derivatives using a first-order forward difference:\n",
    "$$\\dot{T}(n\\Delta t) \\approx \\frac{T((n+1)\\Delta t) - T(n\\Delta t)}{\\Delta t}$$"
   ]
  },
  {
   "cell_type": "markdown",
   "metadata": {},
   "source": [
    "**Recompute using reversible MSMs so we can perform PCCA** (7.13.21)"
   ]
  },
  {
   "cell_type": "code",
   "execution_count": 14,
   "metadata": {
    "scrolled": true
   },
   "outputs": [
    {
     "name": "stdout",
     "output_type": "stream",
     "text": [
      "Calculating transition matrices for lag 1\n",
      "Calculating transition matrices for lag 101\n",
      "Calculating transition matrices for lag 201\n",
      "Calculating transition matrices for lag 301\n",
      "Calculating transition matrices for lag 401\n",
      "Calculating transition matrices for lag 501\n",
      "Calculating transition matrices for lag 601\n",
      "Calculating transition matrices for lag 701\n",
      "Calculating transition matrices for lag 801\n",
      "Calculating transition matrices for lag 901\n"
     ]
    }
   ],
   "source": [
    "# compute the transition matrix at a bunch of time points\n",
    "models = []\n",
    "max_lag = 1000  # in number of MD steps (*0.1 ns)\n",
    "step = 10\n",
    "nstates = 500\n",
    "T_list = np.empty((max_lag // 10, nstates, nstates))\n",
    "for lag in range(1, max_lag + 1, step):\n",
    "    if lag % 100 == 1:\n",
    "        print(f\"Calculating transition matrices for lag {lag}\")\n",
    "    T = pyemma.msm.estimate_markov_model(dtrajs, lag, reversible=True)\n",
    "    models.append(T)\n",
    "    T_list[lag // 10] = T.transition_matrix"
   ]
  },
  {
   "cell_type": "code",
   "execution_count": 15,
   "metadata": {},
   "outputs": [
    {
     "data": {
      "text/plain": [
       "100"
      ]
     },
     "execution_count": 15,
     "metadata": {},
     "output_type": "execute_result"
    }
   ],
   "source": [
    "len(models)"
   ]
  },
  {
   "cell_type": "code",
   "execution_count": 16,
   "metadata": {},
   "outputs": [],
   "source": [
    "def compute_kernel(T_list):\n",
    "    # compute the kernel at all time points\n",
    "    K_list = np.zeros_like(T_list)\n",
    "    # forward finite difference for derivative\n",
    "    T_dots = T_list[1:] - T_list[:-1]\n",
    "\n",
    "    # first element of memory kernel\n",
    "    # T(0) = 1\n",
    "    nstates = T_list.shape[1]\n",
    "    T_dot_0 = T_list[0] - np.eye(nstates)\n",
    "    K1 = T_dots[0] - T_dot_0 @ T_list[0]\n",
    "    K_list[0] = K1\n",
    "\n",
    "    for n in range(1, len(T_list) - 1):\n",
    "        if n % 100 == 0:\n",
    "            print(f\"Finished computing kernel {n}\")\n",
    "        conv = np.zeros_like(K1)\n",
    "        for m in range(0, n):\n",
    "            # K is not defined at time 0\n",
    "            conv += K_list[m] @ T_list[n - m - 1]\n",
    "        K = (T_dots[n] - T_dot_0 @ T_list[n]) - conv\n",
    "        K_list[n] = K\n",
    "\n",
    "    return K_list"
   ]
  },
  {
   "cell_type": "code",
   "execution_count": 42,
   "metadata": {},
   "outputs": [
    {
     "data": {
      "application/vnd.jupyter.widget-view+json": {
       "model_id": "",
       "version_major": 2,
       "version_minor": 0
      },
      "text/plain": [
       "HBox(children=(FloatProgress(value=0.0, description='estimating MaximumLikelihoodMSM', layout=Layout(flex='2')…"
      ]
     },
     "metadata": {},
     "output_type": "display_data"
    },
    {
     "name": "stderr",
     "output_type": "stream",
     "text": [
      "/project2/roux/scguo/anaconda/envs/py37/lib/python3.7/site-packages/msmtools/analysis/dense/decomposition.py:549: ImaginaryEigenValueWarning: Using eigenvalues with non-zero imaginary part\n",
      "  warnings.warn('Using eigenvalues with non-zero imaginary part', ImaginaryEigenValueWarning)\n"
     ]
    }
   ],
   "source": [
    "# implied timescales from \"vanilla\" MSMs\n",
    "lags = [1, 2, 5, 10, 20, 50, 100, 200, 500, 1000, 2000, 5000]\n",
    "its = pyemma.msm.its(dtrajs, lags, reversible=False, n_jobs=16)"
   ]
  },
  {
   "cell_type": "code",
   "execution_count": 44,
   "metadata": {},
   "outputs": [
    {
     "data": {
      "text/plain": [
       "<AxesSubplot:xlabel='lag time / $\\\\mu$s', ylabel='timescale / $\\\\mu$s'>"
      ]
     },
     "execution_count": 44,
     "metadata": {},
     "output_type": "execute_result"
    },
    {
     "data": {
      "image/png": "[encoded data removed]",
      "text/plain": [
       "<Figure size 432x288 with 1 Axes>"
      ]
     },
     "metadata": {},
     "output_type": "display_data"
    }
   ],
   "source": [
    "pyemma.plots.plot_implied_timescales(its, nits=10, units=\"$\\mu$s\", dt=0.0001)"
   ]
  },
  {
   "cell_type": "code",
   "execution_count": 17,
   "metadata": {},
   "outputs": [
    {
     "data": {
      "application/vnd.jupyter.widget-view+json": {
       "model_id": "",
       "version_major": 2,
       "version_minor": 0
      },
      "text/plain": [
       "HBox(children=(FloatProgress(value=0.0, description='estimating MaximumLikelihoodMSM', layout=Layout(flex='2')…"
      ]
     },
     "metadata": {},
     "output_type": "display_data"
    }
   ],
   "source": [
    "# implied timescales from \"vanilla\" MSMs\n",
    "lags = [1, 2, 5, 10, 20, 50, 100, 200, 500, 1000, 2000, 5000]\n",
    "its = pyemma.msm.its(dtrajs, lags, reversible=True)"
   ]
  },
  {
   "cell_type": "code",
   "execution_count": 18,
   "metadata": {},
   "outputs": [
    {
     "data": {
      "text/plain": [
       "<AxesSubplot:xlabel='lag time / $\\\\mu$s', ylabel='timescale / $\\\\mu$s'>"
      ]
     },
     "execution_count": 18,
     "metadata": {},
     "output_type": "execute_result"
    },
    {
     "data": {
      "image/png": "[encoded data removed]",
      "text/plain": [
       "<Figure size 432x288 with 1 Axes>"
      ]
     },
     "metadata": {},
     "output_type": "display_data"
    }
   ],
   "source": [
    "pyemma.plots.plot_implied_timescales(its, nits=10, units=\"$\\mu$s\", dt=0.0001)"
   ]
  },
  {
   "cell_type": "markdown",
   "metadata": {},
   "source": [
    "Note that MSMs don't converge even at lag times of 500 ns"
   ]
  },
  {
   "cell_type": "code",
   "execution_count": 14,
   "metadata": {},
   "outputs": [
    {
     "data": {
      "text/plain": [
       "100"
      ]
     },
     "execution_count": 14,
     "metadata": {},
     "output_type": "execute_result"
    }
   ],
   "source": [
    "len(T_list)"
   ]
  },
  {
   "cell_type": "code",
   "execution_count": 19,
   "metadata": {},
   "outputs": [],
   "source": [
    "evals = [T.eigenvalues() for T in models]"
   ]
  },
  {
   "cell_type": "code",
   "execution_count": 20,
   "metadata": {},
   "outputs": [
    {
     "data": {
      "text/plain": [
       "[<matplotlib.lines.Line2D at 0x7f46e690c810>,\n",
       " <matplotlib.lines.Line2D at 0x7f46e6907690>,\n",
       " <matplotlib.lines.Line2D at 0x7f46e690f990>,\n",
       " <matplotlib.lines.Line2D at 0x7f46e690fa50>,\n",
       " <matplotlib.lines.Line2D at 0x7f46e690fb10>,\n",
       " <matplotlib.lines.Line2D at 0x7f46e690fc50>,\n",
       " <matplotlib.lines.Line2D at 0x7f46e690fd10>,\n",
       " <matplotlib.lines.Line2D at 0x7f46e690fdd0>,\n",
       " <matplotlib.lines.Line2D at 0x7f46e690fe90>,\n",
       " <matplotlib.lines.Line2D at 0x7f46e690fc10>]"
      ]
     },
     "execution_count": 20,
     "metadata": {},
     "output_type": "execute_result"
    },
    {
     "data": {
      "image/png": "[encoded data removed]",
      "text/plain": [
       "<Figure size 432x288 with 1 Axes>"
      ]
     },
     "metadata": {},
     "output_type": "display_data"
    }
   ],
   "source": [
    "plt.plot(np.asarray(evals)[:, :10])\n",
    "# maybe a gap after 7 or 2 eigenvalues?"
   ]
  },
  {
   "cell_type": "code",
   "execution_count": 25,
   "metadata": {},
   "outputs": [
    {
     "ename": "TypeError",
     "evalue": "__init__() missing 2 required positional arguments: 'test_estimator' and 'memberships'",
     "output_type": "error",
     "traceback": [
      "\u001b[0;31m---------------------------------------------------------------------------\u001b[0m",
      "\u001b[0;31mTypeError\u001b[0m                                 Traceback (most recent call last)",
      "\u001b[0;32m<ipython-input-25-966396359f22>\u001b[0m in \u001b[0;36m<module>\u001b[0;34m\u001b[0m\n\u001b[0;32m----> 1\u001b[0;31m \u001b[0mck\u001b[0m \u001b[0;34m=\u001b[0m \u001b[0mpyemma\u001b[0m\u001b[0;34m.\u001b[0m\u001b[0mmsm\u001b[0m\u001b[0;34m.\u001b[0m\u001b[0mChapmanKolmogorovValidator\u001b[0m\u001b[0;34m(\u001b[0m\u001b[0mT_list\u001b[0m\u001b[0;34m[\u001b[0m\u001b[0;36m50\u001b[0m\u001b[0;34m]\u001b[0m\u001b[0;34m)\u001b[0m\u001b[0;34m\u001b[0m\u001b[0;34m\u001b[0m\u001b[0m\n\u001b[0m",
      "\u001b[0;31mTypeError\u001b[0m: __init__() missing 2 required positional arguments: 'test_estimator' and 'memberships'"
     ]
    }
   ],
   "source": [
    "ck = pyemma.msm.ChapmanKolmogorovValidator(T_list[50])"
   ]
  },
  {
   "cell_type": "code",
   "execution_count": 22,
   "metadata": {},
   "outputs": [
    {
     "data": {
      "application/vnd.jupyter.widget-view+json": {
       "model_id": "",
       "version_major": 2,
       "version_minor": 0
      },
      "text/plain": [
       "HBox(children=(FloatProgress(value=0.0, description='estimating MaximumLikelihoodMSM', layout=Layout(flex='2')…"
      ]
     },
     "metadata": {},
     "output_type": "display_data"
    },
    {
     "data": {
      "text/plain": [
       "ChapmanKolmogorovValidator(conf=0.95, err_est=False,\n",
       "              memberships=array([[3.28490e-01, 6.53728e-03, ..., 6.52131e-01, 2.24258e-03],\n",
       "       [1.80579e-04, 3.22222e-03, ..., 1.12061e-02, 9.76637e-01],\n",
       "       ...,\n",
       "       [2.22686e-04, 2.26493e-03, ..., 1.19713e-02, 9.76322e-01],\n",
       "       [6.56102e-02, 3.66198e-03, ..., 8.02308e-01, 2.93116e-02]]),\n",
       "              mlags=array([0, 1, 2, 3, 4, 5, 6, 7, 8, 9]), n_jobs=40,\n",
       "              show_progress=True,\n",
       "              test_estimator=MaximumLikelihoodMSM(connectivity='largest', core_set=None,\n",
       "           count_mode='sliding', dt_traj='1 step', lag=101, maxerr=1e-08,\n",
       "           maxiter=1000000, milestoning_method='last_core',\n",
       "           mincount_connectivity='1/n', reversible=True, score_k=10,\n",
       "           score_method='VAMP2', sparse=False, statdist_constraint=None),\n",
       "              test_model=MaximumLikelihoodMSM(connectivity='largest', core_set=None,\n",
       "           count_mode='sliding', dt_traj='1 step', lag=101, maxerr=1e-08,\n",
       "           maxiter=1000000, milestoning_method='last_core',\n",
       "           mincount_connectivity='1/n', reversible=True, score_k=10,\n",
       "           score_method='VAMP2', sparse=False, statdist_constraint=None))"
      ]
     },
     "execution_count": 22,
     "metadata": {},
     "output_type": "execute_result"
    }
   ],
   "source": [
    "models[10].cktest(7)"
   ]
  },
  {
   "cell_type": "code",
   "execution_count": 34,
   "metadata": {},
   "outputs": [],
   "source": [
    "T_all = np.asarray([T.transition_matrix for T in T_list])"
   ]
  },
  {
   "cell_type": "code",
   "execution_count": 35,
   "metadata": {},
   "outputs": [
    {
     "data": {
      "text/plain": [
       "(100, 500, 500)"
      ]
     },
     "execution_count": 35,
     "metadata": {},
     "output_type": "execute_result"
    }
   ],
   "source": [
    "T_all.shape"
   ]
  },
  {
   "cell_type": "code",
   "execution_count": 46,
   "metadata": {},
   "outputs": [
    {
     "name": "stdout",
     "output_type": "stream",
     "text": [
      "(1000, 500, 500)\n"
     ]
    }
   ],
   "source": [
    "T_list = np.asarray(T_list)\n",
    "print(T_list.shape)"
   ]
  },
  {
   "cell_type": "code",
   "execution_count": 36,
   "metadata": {},
   "outputs": [
    {
     "data": {
      "text/plain": [
       "(99, 500, 500)"
      ]
     },
     "execution_count": 36,
     "metadata": {},
     "output_type": "execute_result"
    }
   ],
   "source": [
    "T_dots = T_all[1:] - T_all[:-1]\n",
    "T_dots.shape"
   ]
  },
  {
   "cell_type": "code",
   "execution_count": 37,
   "metadata": {},
   "outputs": [],
   "source": [
    "nstates = T_all.shape[1]\n",
    "T_dot_0 = T_all[0] - np.eye(nstates)\n",
    "K1 = T_dots[0] - T_dot_0 @ T_all[0]"
   ]
  },
  {
   "cell_type": "code",
   "execution_count": 38,
   "metadata": {
    "scrolled": true
   },
   "outputs": [
    {
     "data": {
      "text/plain": [
       "array([[ 8.67274887e-02,  0.00000000e+00,  0.00000000e+00, ...,\n",
       "         0.00000000e+00,  0.00000000e+00,  0.00000000e+00],\n",
       "       [ 0.00000000e+00,  5.83144951e-02,  0.00000000e+00, ...,\n",
       "         0.00000000e+00, -4.09925976e-03,  0.00000000e+00],\n",
       "       [ 0.00000000e+00,  0.00000000e+00,  1.50444613e-01, ...,\n",
       "         0.00000000e+00,  0.00000000e+00, -7.03121016e-06],\n",
       "       ...,\n",
       "       [ 0.00000000e+00,  0.00000000e+00,  0.00000000e+00, ...,\n",
       "         1.55151601e-01,  0.00000000e+00, -2.26221534e-03],\n",
       "       [ 0.00000000e+00, -4.45315479e-03,  0.00000000e+00, ...,\n",
       "         0.00000000e+00,  6.86874634e-02,  0.00000000e+00],\n",
       "       [ 0.00000000e+00,  0.00000000e+00, -1.43213092e-05, ...,\n",
       "        -3.31045265e-03,  0.00000000e+00,  1.18016900e-01]])"
      ]
     },
     "execution_count": 38,
     "metadata": {},
     "output_type": "execute_result"
    }
   ],
   "source": [
    "K1"
   ]
  },
  {
   "cell_type": "code",
   "execution_count": 31,
   "metadata": {
    "scrolled": true
   },
   "outputs": [],
   "source": [
    "K_all = compute_kernel(np.asarray([T.transition_matrix for T in T_list]))"
   ]
  },
  {
   "cell_type": "code",
   "execution_count": 39,
   "metadata": {},
   "outputs": [
    {
     "data": {
      "text/plain": [
       "array([[ 8.67274887e-02,  0.00000000e+00,  0.00000000e+00, ...,\n",
       "         0.00000000e+00,  0.00000000e+00,  0.00000000e+00],\n",
       "       [ 0.00000000e+00,  5.83144951e-02,  0.00000000e+00, ...,\n",
       "         0.00000000e+00, -4.09925976e-03,  0.00000000e+00],\n",
       "       [ 0.00000000e+00,  0.00000000e+00,  1.50444613e-01, ...,\n",
       "         0.00000000e+00,  0.00000000e+00, -7.03121016e-06],\n",
       "       ...,\n",
       "       [ 0.00000000e+00,  0.00000000e+00,  0.00000000e+00, ...,\n",
       "         1.55151601e-01,  0.00000000e+00, -2.26221534e-03],\n",
       "       [ 0.00000000e+00, -4.45315479e-03,  0.00000000e+00, ...,\n",
       "         0.00000000e+00,  6.86874634e-02,  0.00000000e+00],\n",
       "       [ 0.00000000e+00,  0.00000000e+00, -1.43213092e-05, ...,\n",
       "        -3.31045265e-03,  0.00000000e+00,  1.18016900e-01]])"
      ]
     },
     "execution_count": 39,
     "metadata": {},
     "output_type": "execute_result"
    }
   ],
   "source": [
    "K_all[0]"
   ]
  },
  {
   "cell_type": "code",
   "execution_count": 32,
   "metadata": {},
   "outputs": [
    {
     "data": {
      "text/plain": [
       "array([[ 6.55089778e-02,  0.00000000e+00,  3.71269297e-09, ...,\n",
       "         2.88647747e-08,  0.00000000e+00,  5.57547586e-07],\n",
       "       [ 0.00000000e+00,  3.72948333e-02,  1.66114068e-10, ...,\n",
       "         9.10341721e-09, -5.55961460e-03,  5.23929710e-09],\n",
       "       [ 1.65112139e-09,  2.26435387e-10,  8.43207791e-02, ...,\n",
       "         1.16876306e-07,  2.51399270e-09,  5.08737535e-05],\n",
       "       ...,\n",
       "       [ 3.63958784e-09,  1.15760535e-08,  1.28646816e-07, ...,\n",
       "         9.09596100e-02,  4.18801343e-09, -4.54866788e-04],\n",
       "       [ 0.00000000e+00, -6.15495494e-03,  4.13663146e-09, ...,\n",
       "         4.58967084e-09,  4.81346655e-02, -2.31240763e-09],\n",
       "       [ 1.24797583e-06,  4.79462520e-08,  8.99433010e-05, ...,\n",
       "        -1.16795170e-03,  1.93858047e-07,  7.24111536e-02]])"
      ]
     },
     "execution_count": 32,
     "metadata": {},
     "output_type": "execute_result"
    }
   ],
   "source": [
    "K_all[1]"
   ]
  },
  {
   "cell_type": "code",
   "execution_count": 41,
   "metadata": {},
   "outputs": [],
   "source": [
    "conv = np.zeros_like(K1)\n",
    "conv += K_all[0] @ T_all[0]\n",
    "K2 = (T_dots[1] - T_dot_0 @ T_all[1]) - K_all[0] @ T_all[0]"
   ]
  },
  {
   "cell_type": "code",
   "execution_count": 42,
   "metadata": {},
   "outputs": [
    {
     "data": {
      "text/plain": [
       "array([[ 6.55089778e-02,  0.00000000e+00,  3.71269297e-09, ...,\n",
       "         2.88647747e-08,  0.00000000e+00,  5.57547586e-07],\n",
       "       [ 0.00000000e+00,  3.72948333e-02,  1.66114068e-10, ...,\n",
       "         9.10341721e-09, -5.55961460e-03,  5.23929710e-09],\n",
       "       [ 1.65112139e-09,  2.26435387e-10,  8.43207791e-02, ...,\n",
       "         1.16876306e-07,  2.51399270e-09,  5.08737535e-05],\n",
       "       ...,\n",
       "       [ 3.63958784e-09,  1.15760535e-08,  1.28646816e-07, ...,\n",
       "         9.09596100e-02,  4.18801343e-09, -4.54866788e-04],\n",
       "       [ 0.00000000e+00, -6.15495494e-03,  4.13663146e-09, ...,\n",
       "         4.58967084e-09,  4.81346655e-02, -2.31240763e-09],\n",
       "       [ 1.24797583e-06,  4.79462520e-08,  8.99433010e-05, ...,\n",
       "        -1.16795170e-03,  1.93858047e-07,  7.24111536e-02]])"
      ]
     },
     "execution_count": 42,
     "metadata": {},
     "output_type": "execute_result"
    }
   ],
   "source": [
    "K2"
   ]
  },
  {
   "cell_type": "code",
   "execution_count": 43,
   "metadata": {},
   "outputs": [],
   "source": [
    "K3 = (T_dots[2] - T_dot_0 @ T_all[2]) - (K_all[0] @ T_all[1] + K_all[1] @ T_all[0])"
   ]
  },
  {
   "cell_type": "code",
   "execution_count": 44,
   "metadata": {},
   "outputs": [
    {
     "data": {
      "text/plain": [
       "array([[ 4.43766429e-02, -1.77723094e-12, -6.96886427e-09, ...,\n",
       "        -1.59396574e-07, -4.15461793e-12, -2.01100433e-07],\n",
       "       [-4.49005354e-12,  2.89883534e-02, -2.97567019e-09, ...,\n",
       "        -1.17098471e-08, -1.24789350e-03, -1.57055038e-08],\n",
       "       [-2.23527175e-08, -9.82574902e-09,  6.56837734e-02, ...,\n",
       "        -6.47635741e-07, -1.86465211e-08,  3.56380035e-05],\n",
       "       ...,\n",
       "       [-1.91636853e-07, -2.18410119e-08, -7.70888290e-07, ...,\n",
       "         5.79469294e-02, -2.81310017e-08, -4.67101458e-07],\n",
       "       [-2.00415856e-11, -1.90752428e-03, -3.63886329e-09, ...,\n",
       "        -1.79527757e-08,  3.71443010e-02,  1.58537511e-07],\n",
       "       [-8.08259832e-08, -1.51477234e-07,  4.20220289e-05, ...,\n",
       "        -1.13786446e-03, -8.82151335e-08,  4.02860049e-02]])"
      ]
     },
     "execution_count": 44,
     "metadata": {},
     "output_type": "execute_result"
    }
   ],
   "source": [
    "K3"
   ]
  },
  {
   "cell_type": "code",
   "execution_count": 45,
   "metadata": {},
   "outputs": [
    {
     "data": {
      "text/plain": [
       "array([[ 4.43766429e-02, -1.77723094e-12, -6.96886427e-09, ...,\n",
       "        -1.59396574e-07, -4.15461793e-12, -2.01100433e-07],\n",
       "       [-4.49005354e-12,  2.89883534e-02, -2.97567019e-09, ...,\n",
       "        -1.17098471e-08, -1.24789350e-03, -1.57055038e-08],\n",
       "       [-2.23527175e-08, -9.82574902e-09,  6.56837734e-02, ...,\n",
       "        -6.47635741e-07, -1.86465211e-08,  3.56380035e-05],\n",
       "       ...,\n",
       "       [-1.91636853e-07, -2.18410119e-08, -7.70888290e-07, ...,\n",
       "         5.79469294e-02, -2.81310017e-08, -4.67101458e-07],\n",
       "       [-2.00415856e-11, -1.90752428e-03, -3.63886329e-09, ...,\n",
       "        -1.79527757e-08,  3.71443010e-02,  1.58537511e-07],\n",
       "       [-8.08259832e-08, -1.51477234e-07,  4.20220289e-05, ...,\n",
       "        -1.13786446e-03, -8.82151335e-08,  4.02860049e-02]])"
      ]
     },
     "execution_count": 45,
     "metadata": {},
     "output_type": "execute_result"
    }
   ],
   "source": [
    "K_all[2]"
   ]
  },
  {
   "cell_type": "markdown",
   "metadata": {},
   "source": [
    "# Evaluate kernel decay"
   ]
  },
  {
   "cell_type": "markdown",
   "metadata": {},
   "source": [
    "Mean integrated kernel defined as:\n",
    "$$MIK(t) = \\frac{1}{N} \\sqrt{\\sum_{i,j=1}^N\\left(\\int_0^t\\mathrm dt' \\mathscr{K}_{ij}(t')\\right)^2}$$"
   ]
  },
  {
   "cell_type": "code",
   "execution_count": 46,
   "metadata": {},
   "outputs": [],
   "source": [
    "def MIK(kernels):\n",
    "    N = kernels.shape[1]\n",
    "    running_sum = np.einsum(\"ijk->i\", np.cumsum(kernels, axis=0) ** 2)\n",
    "    return np.sqrt(running_sum) / N"
   ]
  },
  {
   "cell_type": "code",
   "execution_count": 47,
   "metadata": {},
   "outputs": [],
   "source": [
    "mik = MIK(K_all)"
   ]
  },
  {
   "cell_type": "code",
   "execution_count": 48,
   "metadata": {},
   "outputs": [
    {
     "data": {
      "text/plain": [
       "[<matplotlib.lines.Line2D at 0x7f01c1f60d90>]"
      ]
     },
     "execution_count": 48,
     "metadata": {},
     "output_type": "execute_result"
    },
    {
     "data": {
      "image/png": "[encoded data removed]",
      "text/plain": [
       "<Figure size 432x288 with 1 Axes>"
      ]
     },
     "metadata": {},
     "output_type": "display_data"
    }
   ],
   "source": [
    "plt.plot(mik)"
   ]
  },
  {
   "cell_type": "code",
   "execution_count": 123,
   "metadata": {},
   "outputs": [
    {
     "name": "stdout",
     "output_type": "stream",
     "text": [
      "Finished computing kernel 100\n",
      "Finished computing kernel 200\n",
      "Finished computing kernel 300\n",
      "Finished computing kernel 400\n",
      "Finished computing kernel 500\n",
      "Finished computing kernel 600\n",
      "Finished computing kernel 700\n",
      "Finished computing kernel 800\n",
      "Finished computing kernel 900\n"
     ]
    }
   ],
   "source": [
    "K_all = compute_kernel(T_list)"
   ]
  },
  {
   "cell_type": "code",
   "execution_count": 49,
   "metadata": {},
   "outputs": [
    {
     "data": {
      "text/plain": [
       "(100, 500, 500)"
      ]
     },
     "execution_count": 49,
     "metadata": {},
     "output_type": "execute_result"
    }
   ],
   "source": [
    "K_all.shape"
   ]
  },
  {
   "cell_type": "code",
   "execution_count": 129,
   "metadata": {},
   "outputs": [
    {
     "data": {
      "image/png": "[encoded data removed]",
      "text/plain": [
       "<Figure size 432x288 with 1 Axes>"
      ]
     },
     "metadata": {},
     "output_type": "display_data"
    }
   ],
   "source": [
    "plt.plot(MIK(K_all))\n",
    "plt.yscale(\"log\")"
   ]
  },
  {
   "cell_type": "code",
   "execution_count": 141,
   "metadata": {},
   "outputs": [],
   "source": [
    "mik = MIK(K_all)"
   ]
  },
  {
   "cell_type": "code",
   "execution_count": 54,
   "metadata": {},
   "outputs": [
    {
     "data": {
      "image/png": "[encoded data removed]",
      "text/plain": [
       "<Figure size 432x288 with 1 Axes>"
      ]
     },
     "metadata": {},
     "output_type": "display_data"
    }
   ],
   "source": [
    "plt.plot(mik, \".-\")\n",
    "plt.yscale(\"log\")"
   ]
  },
  {
   "cell_type": "code",
   "execution_count": 50,
   "metadata": {},
   "outputs": [
    {
     "data": {
      "text/plain": [
       "[<matplotlib.lines.Line2D at 0x7f01c1fd9210>]"
      ]
     },
     "execution_count": 50,
     "metadata": {},
     "output_type": "execute_result"
    },
    {
     "data": {
      "image/png": "[encoded data removed]",
      "text/plain": [
       "<Figure size 432x288 with 1 Axes>"
      ]
     },
     "metadata": {},
     "output_type": "display_data"
    }
   ],
   "source": [
    "plt.plot(K_all[:, 0, 0])"
   ]
  },
  {
   "cell_type": "code",
   "execution_count": 104,
   "metadata": {},
   "outputs": [
    {
     "data": {
      "text/plain": [
       "[<matplotlib.lines.Line2D at 0x7f01b53f2f90>]"
      ]
     },
     "execution_count": 104,
     "metadata": {},
     "output_type": "execute_result"
    },
    {
     "data": {
      "image/png": "[encoded data removed]",
      "text/plain": [
       "<Figure size 432x288 with 1 Axes>"
      ]
     },
     "metadata": {},
     "output_type": "display_data"
    }
   ],
   "source": [
    "plt.plot(K_all[:, 1, 1])"
   ]
  },
  {
   "cell_type": "code",
   "execution_count": 51,
   "metadata": {},
   "outputs": [
    {
     "data": {
      "text/plain": [
       "[<matplotlib.lines.Line2D at 0x7f01b5fd22d0>]"
      ]
     },
     "execution_count": 51,
     "metadata": {},
     "output_type": "execute_result"
    },
    {
     "data": {
      "image/png": "[encoded data removed]",
      "text/plain": [
       "<Figure size 432x288 with 1 Axes>"
      ]
     },
     "metadata": {},
     "output_type": "display_data"
    }
   ],
   "source": [
    "plt.plot(K_all[:, 0, 499])"
   ]
  },
  {
   "cell_type": "code",
   "execution_count": 135,
   "metadata": {},
   "outputs": [
    {
     "data": {
      "text/plain": [
       "[<matplotlib.lines.Line2D at 0x7f58a07510d0>]"
      ]
     },
     "execution_count": 135,
     "metadata": {},
     "output_type": "execute_result"
    },
    {
     "data": {
      "image/png": "[encoded data removed]",
      "text/plain": [
       "<Figure size 432x288 with 1 Axes>"
      ]
     },
     "metadata": {},
     "output_type": "display_data"
    }
   ],
   "source": [
    "plt.plot(K_all[:, 50, 200])"
   ]
  },
  {
   "cell_type": "markdown",
   "metadata": {},
   "source": [
    "Where is all the noise coming from? The MIK seems to plateau around 10 steps (1 ns), but then keeps growing at larger time scales\n",
    "Used incorrect formula for MIK lol"
   ]
  },
  {
   "cell_type": "code",
   "execution_count": 139,
   "metadata": {},
   "outputs": [
    {
     "data": {
      "text/plain": [
       "[<matplotlib.lines.Line2D at 0x7f58a05e4c50>]"
      ]
     },
     "execution_count": 139,
     "metadata": {},
     "output_type": "execute_result"
    },
    {
     "data": {
      "image/png": "[encoded data removed]",
      "text/plain": [
       "<Figure size 432x288 with 1 Axes>"
      ]
     },
     "metadata": {},
     "output_type": "display_data"
    }
   ],
   "source": [
    "plt.plot(K_all[:, 300, 100])"
   ]
  },
  {
   "cell_type": "code",
   "execution_count": 145,
   "metadata": {},
   "outputs": [],
   "source": [
    "# MIK plateaus around 300 steps (30 ns)\n",
    "# save kernels up to 300 steps\n",
    "np.save(\"../data/qMSM_kernels_300_feat2\", K_all[:300])"
   ]
  },
  {
   "cell_type": "markdown",
   "metadata": {},
   "source": [
    "# Integrate transition matrix "
   ]
  },
  {
   "cell_type": "markdown",
   "metadata": {},
   "source": [
    "GME for transition matrix:\n",
    "$$\\dot{T}(t) = \\dot{T}(0)T(t) + \\int_0^{\\min\\{t, \\tau_K\\}}T(t - \\tau)K(\\tau)\\mathrm d\\tau$$\n",
    "where $\\tau_K$ = 30 ns here"
   ]
  },
  {
   "cell_type": "code",
   "execution_count": 166,
   "metadata": {},
   "outputs": [],
   "source": [
    "def integrate_heun(f, y0, t0, h, nsteps, *args):\n",
    "    # f is the function to integrate forward which takes the time\n",
    "    # and the current value of y as arguments\n",
    "    # y0 is the starting value\n",
    "    # h is the step size\n",
    "    # nsteps is number of steps to propagate forward\n",
    "    #\n",
    "    # solve the ODE y' = f(t, y) with initial condition (t0, y0)\n",
    "    y_all = [y0]\n",
    "    t = t0\n",
    "    print(args)\n",
    "    for n in range(nsteps):\n",
    "        f_curr = f(t, y_all[n], *args)\n",
    "        print(f_curr)\n",
    "        y_int = y_all[n] + h * f_curr\n",
    "        f_int = f(t + h, y_int, *args)\n",
    "        y_new = y_all[n] + 0.5 * h * (f_curr + f_int)\n",
    "        t += h\n",
    "        y_all.append(y_new)\n",
    "    return y_all"
   ]
  },
  {
   "cell_type": "markdown",
   "metadata": {},
   "source": [
    "$$\\dot{T}(n\\Delta t) = \\dot{T}(0)T(n\\Delta t) + \\Delta t \\sum_{m=1}^n\\mathscr{K}(m\\Delta t) T((n-m)\\Delta t)$$"
   ]
  },
  {
   "cell_type": "code",
   "execution_count": 74,
   "metadata": {},
   "outputs": [],
   "source": [
    "def integrate_gme(Ti, t0, h, nsteps, K_all, T_dot_0):\n",
    "    \"\"\"\n",
    "    Integrate the transition matrix forward in time using the memory kernels\n",
    "\n",
    "    Parameters\n",
    "    Ti: initial transition matrix at time \\Delta t, np.ndarray((nstates, nstates))\n",
    "    t0:\n",
    "    h: timestep, int\n",
    "    nsteps: number of steps of size h to integrate forward in time, int\n",
    "    K_all: memory kernel of length \\tau_K / \\Delta t, np.ndarray((n_K, nstates, nstates))\n",
    "    T_dot_0: initial time derivative of transition matrix, np.ndarray((nstates, nstates))\n",
    "\n",
    "    :return: y_all\n",
    "    :rtype: np.ndarray((nsteps, nstates, nstates))\n",
    "        An array of the integrated transition matrices. The first array is Ti\n",
    "    \"\"\"\n",
    "    # initialize\n",
    "    nstates = Ti.shape[0]\n",
    "    y_all = np.zeros((nsteps, nstates, nstates))\n",
    "    y_all[0] = Ti\n",
    "\n",
    "    # perform (nsteps - 1) iterations\n",
    "    for n in range(1, nsteps):\n",
    "        # compute the derivative using the current value of T\n",
    "        print(\"n\", n)\n",
    "        f_curr = gme(n - 1, y_all, K_all, T_dot_0)\n",
    "        # compute intermediate result and store temporarily\n",
    "        y_int = y_all[n - 1] + h * f_curr\n",
    "        y_all[n] = y_int\n",
    "        # compute derivative with intermediate result\n",
    "        f_int = gme(n, y_all, K_all, T_dot_0)\n",
    "        # take average\n",
    "        y_new = y_all[n - 1] + 0.5 * h * (f_curr + f_int)\n",
    "        # update\n",
    "        y_all[n] = y_new\n",
    "\n",
    "    return y_all\n",
    "\n",
    "\n",
    "def gme(n, T_all, K_all, T_dot_0):\n",
    "    \"\"\"\n",
    "    Compute the derivative of the transition matrix at a given timestep n, which corresponds to n\\Delta t\n",
    "\n",
    "    T_all: the list of current and past transition matrices, starting from time 0\n",
    "    K_all: 1 indexed (first element corresponds to K(\\Delta t))\n",
    "    \"\"\"\n",
    "    # use equation 5\n",
    "    conv = np.zeros_like(T_all[0])\n",
    "    # tauK is given by the length of the kernel\n",
    "    tauK = min(len(K_all), n)\n",
    "    print(\"tauK\", tauK)\n",
    "    for i in range(0, tauK):\n",
    "        # i = 0 corresponds to m = 1 in sum, T((n - 1))\n",
    "        conv += K_all[i] @ T_all[tauK - i - 1]\n",
    "    return T_dot_0 @ T_all[n] + conv"
   ]
  },
  {
   "cell_type": "code",
   "execution_count": 66,
   "metadata": {},
   "outputs": [
    {
     "data": {
      "text/plain": [
       "999"
      ]
     },
     "execution_count": 66,
     "metadata": {},
     "output_type": "execute_result"
    }
   ],
   "source": [
    "len(lags)"
   ]
  },
  {
   "cell_type": "code",
   "execution_count": 97,
   "metadata": {
    "scrolled": true
   },
   "outputs": [
    {
     "name": "stdout",
     "output_type": "stream",
     "text": [
      "n 1\n",
      "tauK 0\n",
      "tauK 1\n",
      "n 2\n",
      "tauK 1\n",
      "tauK 2\n",
      "n 3\n",
      "tauK 2\n",
      "tauK 3\n",
      "n 4\n",
      "tauK 3\n",
      "tauK 4\n",
      "n 5\n",
      "tauK 4\n",
      "tauK 5\n",
      "n 6\n",
      "tauK 5\n",
      "tauK 6\n",
      "n 7\n",
      "tauK 6\n",
      "tauK 7\n",
      "n 8\n",
      "tauK 7\n",
      "tauK 8\n",
      "n 9\n",
      "tauK 8\n",
      "tauK 9\n"
     ]
    }
   ],
   "source": [
    "# compute transition matrices at longer times by integrating T (eq. 5)\n",
    "deltat = 10\n",
    "lags = np.arange(10, 10000, deltat)\n",
    "T_long = integrate_gme(np.eye(500), deltat, deltat, 10, K_all[:60], T_dot_0)"
   ]
  },
  {
   "cell_type": "code",
   "execution_count": 76,
   "metadata": {},
   "outputs": [
    {
     "data": {
      "text/plain": [
       "(999, 500, 500)"
      ]
     },
     "execution_count": 76,
     "metadata": {},
     "output_type": "execute_result"
    }
   ],
   "source": [
    "T_long.shape"
   ]
  },
  {
   "cell_type": "code",
   "execution_count": 82,
   "metadata": {},
   "outputs": [
    {
     "name": "stdout",
     "output_type": "stream",
     "text": [
      "[[1. 0. 0. ... 0. 0. 0.]\n",
      " [0. 1. 0. ... 0. 0. 0.]\n",
      " [0. 0. 1. ... 0. 0. 0.]\n",
      " ...\n",
      " [0. 0. 0. ... 1. 0. 0.]\n",
      " [0. 0. 0. ... 0. 1. 0.]\n",
      " [0. 0. 0. ... 0. 0. 1.]]\n"
     ]
    }
   ],
   "source": [
    "print(T_long[0])"
   ]
  },
  {
   "cell_type": "code",
   "execution_count": 83,
   "metadata": {},
   "outputs": [
    {
     "name": "stdout",
     "output_type": "stream",
     "text": [
      "[[ 2.22413473e+01  0.00000000e+00  0.00000000e+00 ...  0.00000000e+00\n",
      "   0.00000000e+00  0.00000000e+00]\n",
      " [ 0.00000000e+00  2.88294357e+01  0.00000000e+00 ...  0.00000000e+00\n",
      "   4.59263499e-02  0.00000000e+00]\n",
      " [ 0.00000000e+00  0.00000000e+00  1.38511173e+01 ...  0.00000000e+00\n",
      "   0.00000000e+00  3.16404457e-04]\n",
      " ...\n",
      " [ 0.00000000e+00  0.00000000e+00  0.00000000e+00 ...  1.41555636e+01\n",
      "   0.00000000e+00  1.08578432e-01]\n",
      " [ 0.00000000e+00 -4.69425681e-02  0.00000000e+00 ...  0.00000000e+00\n",
      "   2.74739823e+01  0.00000000e+00]\n",
      " [ 0.00000000e+00  0.00000000e+00  6.44458915e-04 ...  1.50985272e-01\n",
      "   0.00000000e+00  6.63196378e+00]]\n"
     ]
    }
   ],
   "source": [
    "print(T_long[1])"
   ]
  },
  {
   "cell_type": "code",
   "execution_count": 84,
   "metadata": {},
   "outputs": [
    {
     "name": "stdout",
     "output_type": "stream",
     "text": [
      "tauK 0\n"
     ]
    },
    {
     "data": {
      "text/plain": [
       "array([[-7.10617876e-01,  0.00000000e+00,  0.00000000e+00, ...,\n",
       "         0.00000000e+00,  0.00000000e+00,  0.00000000e+00],\n",
       "       [ 0.00000000e+00, -8.28660181e-01,  0.00000000e+00, ...,\n",
       "         0.00000000e+00,  7.35714870e-03,  0.00000000e+00],\n",
       "       [ 0.00000000e+00,  0.00000000e+00, -5.66147596e-01, ...,\n",
       "         0.00000000e+00,  0.00000000e+00,  0.00000000e+00],\n",
       "       ...,\n",
       "       [ 0.00000000e+00,  0.00000000e+00,  0.00000000e+00, ...,\n",
       "        -5.80159913e-01,  0.00000000e+00,  0.00000000e+00],\n",
       "       [ 0.00000000e+00,  9.78311029e-03,  0.00000000e+00, ...,\n",
       "         0.00000000e+00, -8.10521458e-01,  0.00000000e+00],\n",
       "       [ 0.00000000e+00,  0.00000000e+00,  0.00000000e+00, ...,\n",
       "         2.01085864e-04,  0.00000000e+00, -3.64166499e-01]])"
      ]
     },
     "execution_count": 84,
     "metadata": {},
     "output_type": "execute_result"
    }
   ],
   "source": [
    "gme(0, T_long, K_all, T_dot_0)"
   ]
  },
  {
   "cell_type": "code",
   "execution_count": 86,
   "metadata": {},
   "outputs": [
    {
     "name": "stdout",
     "output_type": "stream",
     "text": [
      "tauK 0\n"
     ]
    },
    {
     "data": {
      "text/plain": [
       "array([[-6.10617876e+00,  0.00000000e+00,  0.00000000e+00, ...,\n",
       "         0.00000000e+00,  0.00000000e+00,  0.00000000e+00],\n",
       "       [ 0.00000000e+00, -7.28660181e+00,  0.00000000e+00, ...,\n",
       "         0.00000000e+00,  7.35714870e-02,  0.00000000e+00],\n",
       "       [ 0.00000000e+00,  0.00000000e+00, -4.66147596e+00, ...,\n",
       "         0.00000000e+00,  0.00000000e+00,  0.00000000e+00],\n",
       "       ...,\n",
       "       [ 0.00000000e+00,  0.00000000e+00,  0.00000000e+00, ...,\n",
       "        -4.80159913e+00,  0.00000000e+00,  0.00000000e+00],\n",
       "       [ 0.00000000e+00,  9.78311029e-02,  0.00000000e+00, ...,\n",
       "         0.00000000e+00, -7.10521458e+00,  0.00000000e+00],\n",
       "       [ 0.00000000e+00,  0.00000000e+00,  0.00000000e+00, ...,\n",
       "         2.01085864e-03,  0.00000000e+00, -2.64166499e+00]])"
      ]
     },
     "execution_count": 86,
     "metadata": {},
     "output_type": "execute_result"
    }
   ],
   "source": [
    "y_int = T_long[0] + 10 * gme(0, T_long, K_all, T_dot_0)\n",
    "y_int"
   ]
  },
  {
   "cell_type": "code",
   "execution_count": 88,
   "metadata": {},
   "outputs": [
    {
     "name": "stdout",
     "output_type": "stream",
     "text": [
      "[1. 1. 1. 1. 1. 1. 1. 1. 1. 1. 1. 1. 1. 1. 1. 1. 1. 1. 1. 1. 1. 1. 1. 1.\n",
      " 1. 1. 1. 1. 1. 1. 1. 1. 1. 1. 1. 1. 1. 1. 1. 1. 1. 1. 1. 1. 1. 1. 1. 1.\n",
      " 1. 1. 1. 1. 1. 1. 1. 1. 1. 1. 1. 1. 1. 1. 1. 1. 1. 1. 1. 1. 1. 1. 1. 1.\n",
      " 1. 1. 1. 1. 1. 1. 1. 1. 1. 1. 1. 1. 1. 1. 1. 1. 1. 1. 1. 1. 1. 1. 1. 1.\n",
      " 1. 1. 1. 1. 1. 1. 1. 1. 1. 1. 1. 1. 1. 1. 1. 1. 1. 1. 1. 1. 1. 1. 1. 1.\n",
      " 1. 1. 1. 1. 1. 1. 1. 1. 1. 1. 1. 1. 1. 1. 1. 1. 1. 1. 1. 1. 1. 1. 1. 1.\n",
      " 1. 1. 1. 1. 1. 1. 1. 1. 1. 1. 1. 1. 1. 1. 1. 1. 1. 1. 1. 1. 1. 1. 1. 1.\n",
      " 1. 1. 1. 1. 1. 1. 1. 1. 1. 1. 1. 1. 1. 1. 1. 1. 1. 1. 1. 1. 1. 1. 1. 1.\n",
      " 1. 1. 1. 1. 1. 1. 1. 1. 1. 1. 1. 1. 1. 1. 1. 1. 1. 1. 1. 1. 1. 1. 1. 1.\n",
      " 1. 1. 1. 1. 1. 1. 1. 1. 1. 1. 1. 1. 1. 1. 1. 1. 1. 1. 1. 1. 1. 1. 1. 1.\n",
      " 1. 1. 1. 1. 1. 1. 1. 1. 1. 1. 1. 1. 1. 1. 1. 1. 1. 1. 1. 1. 1. 1. 1. 1.\n",
      " 1. 1. 1. 1. 1. 1. 1. 1. 1. 1. 1. 1. 1. 1. 1. 1. 1. 1. 1. 1. 1. 1. 1. 1.\n",
      " 1. 1. 1. 1. 1. 1. 1. 1. 1. 1. 1. 1. 1. 1. 1. 1. 1. 1. 1. 1. 1. 1. 1. 1.\n",
      " 1. 1. 1. 1. 1. 1. 1. 1. 1. 1. 1. 1. 1. 1. 1. 1. 1. 1. 1. 1. 1. 1. 1. 1.\n",
      " 1. 1. 1. 1. 1. 1. 1. 1. 1. 1. 1. 1. 1. 1. 1. 1. 1. 1. 1. 1. 1. 1. 1. 1.\n",
      " 1. 1. 1. 1. 1. 1. 1. 1. 1. 1. 1. 1. 1. 1. 1. 1. 1. 1. 1. 1. 1. 1. 1. 1.\n",
      " 1. 1. 1. 1. 1. 1. 1. 1. 1. 1. 1. 1. 1. 1. 1. 1. 1. 1. 1. 1. 1. 1. 1. 1.\n",
      " 1. 1. 1. 1. 1. 1. 1. 1. 1. 1. 1. 1. 1. 1. 1. 1. 1. 1. 1. 1. 1. 1. 1. 1.\n",
      " 1. 1. 1. 1. 1. 1. 1. 1. 1. 1. 1. 1. 1. 1. 1. 1. 1. 1. 1. 1. 1. 1. 1. 1.\n",
      " 1. 1. 1. 1. 1. 1. 1. 1. 1. 1. 1. 1. 1. 1. 1. 1. 1. 1. 1. 1. 1. 1. 1. 1.\n",
      " 1. 1. 1. 1. 1. 1. 1. 1. 1. 1. 1. 1. 1. 1. 1. 1. 1. 1. 1. 1.]\n"
     ]
    }
   ],
   "source": [
    "print(y_int.sum(axis=1))"
   ]
  },
  {
   "cell_type": "code",
   "execution_count": 90,
   "metadata": {},
   "outputs": [],
   "source": [
    "T_long[1] = y_int"
   ]
  },
  {
   "cell_type": "code",
   "execution_count": 91,
   "metadata": {},
   "outputs": [
    {
     "data": {
      "text/plain": [
       "array([[-6.10617876e+00,  0.00000000e+00,  0.00000000e+00, ...,\n",
       "         0.00000000e+00,  0.00000000e+00,  0.00000000e+00],\n",
       "       [ 0.00000000e+00, -7.28660181e+00,  0.00000000e+00, ...,\n",
       "         0.00000000e+00,  7.35714870e-02,  0.00000000e+00],\n",
       "       [ 0.00000000e+00,  0.00000000e+00, -4.66147596e+00, ...,\n",
       "         0.00000000e+00,  0.00000000e+00,  0.00000000e+00],\n",
       "       ...,\n",
       "       [ 0.00000000e+00,  0.00000000e+00,  0.00000000e+00, ...,\n",
       "        -4.80159913e+00,  0.00000000e+00,  0.00000000e+00],\n",
       "       [ 0.00000000e+00,  9.78311029e-02,  0.00000000e+00, ...,\n",
       "         0.00000000e+00, -7.10521458e+00,  0.00000000e+00],\n",
       "       [ 0.00000000e+00,  0.00000000e+00,  0.00000000e+00, ...,\n",
       "         2.01085864e-03,  0.00000000e+00, -2.64166499e+00]])"
      ]
     },
     "execution_count": 91,
     "metadata": {},
     "output_type": "execute_result"
    }
   ],
   "source": [
    "T_long[1]"
   ]
  },
  {
   "cell_type": "code",
   "execution_count": 92,
   "metadata": {},
   "outputs": [
    {
     "name": "stdout",
     "output_type": "stream",
     "text": [
      "tauK 1\n"
     ]
    },
    {
     "data": {
      "text/plain": [
       "array([[ 4.95888733e+00,  0.00000000e+00,  0.00000000e+00, ...,\n",
       "         0.00000000e+00,  0.00000000e+00,  0.00000000e+00],\n",
       "       [ 0.00000000e+00,  6.39454732e+00,  0.00000000e+00, ...,\n",
       "         0.00000000e+00,  1.82812128e-03,  0.00000000e+00],\n",
       "       [ 0.00000000e+00,  0.00000000e+00,  3.13637105e+00, ...,\n",
       "         0.00000000e+00,  0.00000000e+00,  6.32808915e-05],\n",
       "       ...,\n",
       "       [ 0.00000000e+00,  0.00000000e+00,  0.00000000e+00, ...,\n",
       "         3.21127264e+00,  0.00000000e+00,  2.17156864e-02],\n",
       "       [ 0.00000000e+00, -1.91716239e-02,  0.00000000e+00, ...,\n",
       "         0.00000000e+00,  6.10531791e+00,  0.00000000e+00],\n",
       "       [ 0.00000000e+00,  0.00000000e+00,  1.28891783e-04, ...,\n",
       "         2.99959686e-02,  0.00000000e+00,  1.49055925e+00]])"
      ]
     },
     "execution_count": 92,
     "metadata": {},
     "output_type": "execute_result"
    }
   ],
   "source": [
    "gme(1, T_long, K_all, T_dot_0)"
   ]
  },
  {
   "cell_type": "code",
   "execution_count": 93,
   "metadata": {},
   "outputs": [
    {
     "data": {
      "text/plain": [
       "array([[ 4.95888733e+00,  0.00000000e+00,  0.00000000e+00, ...,\n",
       "         0.00000000e+00,  0.00000000e+00,  0.00000000e+00],\n",
       "       [ 0.00000000e+00,  6.39454732e+00,  0.00000000e+00, ...,\n",
       "         0.00000000e+00,  1.82812128e-03,  0.00000000e+00],\n",
       "       [ 0.00000000e+00,  0.00000000e+00,  3.13637105e+00, ...,\n",
       "         0.00000000e+00,  0.00000000e+00,  6.32808915e-05],\n",
       "       ...,\n",
       "       [ 0.00000000e+00,  0.00000000e+00,  0.00000000e+00, ...,\n",
       "         3.21127264e+00,  0.00000000e+00,  2.17156864e-02],\n",
       "       [ 0.00000000e+00, -1.91716239e-02,  0.00000000e+00, ...,\n",
       "         0.00000000e+00,  6.10531791e+00,  0.00000000e+00],\n",
       "       [ 0.00000000e+00,  0.00000000e+00,  1.28891783e-04, ...,\n",
       "         2.99959686e-02,  0.00000000e+00,  1.49055925e+00]])"
      ]
     },
     "execution_count": 93,
     "metadata": {},
     "output_type": "execute_result"
    }
   ],
   "source": [
    "T_dot_0 @ T_long[1] + K_all[0] @ T_long[0]"
   ]
  },
  {
   "cell_type": "code",
   "execution_count": 94,
   "metadata": {},
   "outputs": [
    {
     "name": "stdout",
     "output_type": "stream",
     "text": [
      "tauK 0\n",
      "tauK 1\n"
     ]
    }
   ],
   "source": [
    "y_new = T_long[0] + 5 * (\n",
    "    gme(0, T_long, K_all, T_dot_0) + gme(1, T_long, K_all, T_dot_0)\n",
    ")"
   ]
  },
  {
   "cell_type": "code",
   "execution_count": 95,
   "metadata": {},
   "outputs": [
    {
     "data": {
      "text/plain": [
       "array([[ 2.22413473e+01,  0.00000000e+00,  0.00000000e+00, ...,\n",
       "         0.00000000e+00,  0.00000000e+00,  0.00000000e+00],\n",
       "       [ 0.00000000e+00,  2.88294357e+01,  0.00000000e+00, ...,\n",
       "         0.00000000e+00,  4.59263499e-02,  0.00000000e+00],\n",
       "       [ 0.00000000e+00,  0.00000000e+00,  1.38511173e+01, ...,\n",
       "         0.00000000e+00,  0.00000000e+00,  3.16404457e-04],\n",
       "       ...,\n",
       "       [ 0.00000000e+00,  0.00000000e+00,  0.00000000e+00, ...,\n",
       "         1.41555636e+01,  0.00000000e+00,  1.08578432e-01],\n",
       "       [ 0.00000000e+00, -4.69425681e-02,  0.00000000e+00, ...,\n",
       "         0.00000000e+00,  2.74739823e+01,  0.00000000e+00],\n",
       "       [ 0.00000000e+00,  0.00000000e+00,  6.44458915e-04, ...,\n",
       "         1.50985272e-01,  0.00000000e+00,  6.63196378e+00]])"
      ]
     },
     "execution_count": 95,
     "metadata": {},
     "output_type": "execute_result"
    }
   ],
   "source": [
    "y_new"
   ]
  },
  {
   "cell_type": "code",
   "execution_count": 96,
   "metadata": {},
   "outputs": [
    {
     "data": {
      "text/plain": [
       "array([1., 1., 1., 1., 1., 1., 1., 1., 1., 1., 1., 1., 1., 1., 1., 1., 1.,\n",
       "       1., 1., 1., 1., 1., 1., 1., 1., 1., 1., 1., 1., 1., 1., 1., 1., 1.,\n",
       "       1., 1., 1., 1., 1., 1., 1., 1., 1., 1., 1., 1., 1., 1., 1., 1., 1.,\n",
       "       1., 1., 1., 1., 1., 1., 1., 1., 1., 1., 1., 1., 1., 1., 1., 1., 1.,\n",
       "       1., 1., 1., 1., 1., 1., 1., 1., 1., 1., 1., 1., 1., 1., 1., 1., 1.,\n",
       "       1., 1., 1., 1., 1., 1., 1., 1., 1., 1., 1., 1., 1., 1., 1., 1., 1.,\n",
       "       1., 1., 1., 1., 1., 1., 1., 1., 1., 1., 1., 1., 1., 1., 1., 1., 1.,\n",
       "       1., 1., 1., 1., 1., 1., 1., 1., 1., 1., 1., 1., 1., 1., 1., 1., 1.,\n",
       "       1., 1., 1., 1., 1., 1., 1., 1., 1., 1., 1., 1., 1., 1., 1., 1., 1.,\n",
       "       1., 1., 1., 1., 1., 1., 1., 1., 1., 1., 1., 1., 1., 1., 1., 1., 1.,\n",
       "       1., 1., 1., 1., 1., 1., 1., 1., 1., 1., 1., 1., 1., 1., 1., 1., 1.,\n",
       "       1., 1., 1., 1., 1., 1., 1., 1., 1., 1., 1., 1., 1., 1., 1., 1., 1.,\n",
       "       1., 1., 1., 1., 1., 1., 1., 1., 1., 1., 1., 1., 1., 1., 1., 1., 1.,\n",
       "       1., 1., 1., 1., 1., 1., 1., 1., 1., 1., 1., 1., 1., 1., 1., 1., 1.,\n",
       "       1., 1., 1., 1., 1., 1., 1., 1., 1., 1., 1., 1., 1., 1., 1., 1., 1.,\n",
       "       1., 1., 1., 1., 1., 1., 1., 1., 1., 1., 1., 1., 1., 1., 1., 1., 1.,\n",
       "       1., 1., 1., 1., 1., 1., 1., 1., 1., 1., 1., 1., 1., 1., 1., 1., 1.,\n",
       "       1., 1., 1., 1., 1., 1., 1., 1., 1., 1., 1., 1., 1., 1., 1., 1., 1.,\n",
       "       1., 1., 1., 1., 1., 1., 1., 1., 1., 1., 1., 1., 1., 1., 1., 1., 1.,\n",
       "       1., 1., 1., 1., 1., 1., 1., 1., 1., 1., 1., 1., 1., 1., 1., 1., 1.,\n",
       "       1., 1., 1., 1., 1., 1., 1., 1., 1., 1., 1., 1., 1., 1., 1., 1., 1.,\n",
       "       1., 1., 1., 1., 1., 1., 1., 1., 1., 1., 1., 1., 1., 1., 1., 1., 1.,\n",
       "       1., 1., 1., 1., 1., 1., 1., 1., 1., 1., 1., 1., 1., 1., 1., 1., 1.,\n",
       "       1., 1., 1., 1., 1., 1., 1., 1., 1., 1., 1., 1., 1., 1., 1., 1., 1.,\n",
       "       1., 1., 1., 1., 1., 1., 1., 1., 1., 1., 1., 1., 1., 1., 1., 1., 1.,\n",
       "       1., 1., 1., 1., 1., 1., 1., 1., 1., 1., 1., 1., 1., 1., 1., 1., 1.,\n",
       "       1., 1., 1., 1., 1., 1., 1., 1., 1., 1., 1., 1., 1., 1., 1., 1., 1.,\n",
       "       1., 1., 1., 1., 1., 1., 1., 1., 1., 1., 1., 1., 1., 1., 1., 1., 1.,\n",
       "       1., 1., 1., 1., 1., 1., 1., 1., 1., 1., 1., 1., 1., 1., 1., 1., 1.,\n",
       "       1., 1., 1., 1., 1., 1., 1.])"
      ]
     },
     "execution_count": 96,
     "metadata": {},
     "output_type": "execute_result"
    }
   ],
   "source": [
    "y_new.sum(axis=1)"
   ]
  },
  {
   "cell_type": "code",
   "execution_count": 98,
   "metadata": {},
   "outputs": [
    {
     "data": {
      "text/plain": [
       "array([[ 2.22413473e+01,  0.00000000e+00,  0.00000000e+00, ...,\n",
       "         0.00000000e+00,  0.00000000e+00,  0.00000000e+00],\n",
       "       [ 0.00000000e+00,  2.88294357e+01,  0.00000000e+00, ...,\n",
       "         0.00000000e+00,  4.59263499e-02,  0.00000000e+00],\n",
       "       [ 0.00000000e+00,  0.00000000e+00,  1.38511173e+01, ...,\n",
       "         0.00000000e+00,  0.00000000e+00,  3.16404457e-04],\n",
       "       ...,\n",
       "       [ 0.00000000e+00,  0.00000000e+00,  0.00000000e+00, ...,\n",
       "         1.41555636e+01,  0.00000000e+00,  1.08578432e-01],\n",
       "       [ 0.00000000e+00, -4.69425681e-02,  0.00000000e+00, ...,\n",
       "         0.00000000e+00,  2.74739823e+01,  0.00000000e+00],\n",
       "       [ 0.00000000e+00,  0.00000000e+00,  6.44458915e-04, ...,\n",
       "         1.50985272e-01,  0.00000000e+00,  6.63196378e+00]])"
      ]
     },
     "execution_count": 98,
     "metadata": {},
     "output_type": "execute_result"
    }
   ],
   "source": [
    "T_long[1]"
   ]
  },
  {
   "cell_type": "code",
   "execution_count": 99,
   "metadata": {},
   "outputs": [
    {
     "data": {
      "text/plain": [
       "array([[ 5.89857662e+02,  3.59889265e-09,  8.80627095e-05, ...,\n",
       "         2.55882770e-04,  8.41310131e-09,  4.19203970e-04],\n",
       "       [ 9.09235841e-09,  9.03087734e+02,  1.20535962e-05, ...,\n",
       "         6.97772646e-06,  1.44749869e+01,  9.37465071e-05],\n",
       "       [ 5.85319926e-05,  2.34762771e-05,  2.37600789e+02, ...,\n",
       "         1.58086107e-03,  5.70704625e-05, -1.14816777e-01],\n",
       "       ...,\n",
       "       [ 4.07329200e-04,  1.48104470e-05,  1.70557154e-03, ...,\n",
       "         2.32767024e+02,  9.09655985e-05,  3.91027501e+00],\n",
       "       [ 4.05842108e-08,  1.10160827e+01,  3.34425037e-05, ...,\n",
       "         4.58878870e-05,  8.27088119e+02,  2.42706614e-04],\n",
       "       [-6.11409840e-04,  3.60165078e-04, -2.07857866e-01, ...,\n",
       "         5.24974390e+00, -1.08229939e-04,  6.92247411e+01]])"
      ]
     },
     "execution_count": 99,
     "metadata": {},
     "output_type": "execute_result"
    }
   ],
   "source": [
    "T_long[2]"
   ]
  },
  {
   "cell_type": "code",
   "execution_count": 101,
   "metadata": {},
   "outputs": [
    {
     "data": {
      "text/plain": [
       "array([1., 1., 1., 1., 1., 1., 1., 1., 1., 1., 1., 1., 1., 1., 1., 1., 1.,\n",
       "       1., 1., 1., 1., 1., 1., 1., 1., 1., 1., 1., 1., 1., 1., 1., 1., 1.,\n",
       "       1., 1., 1., 1., 1., 1., 1., 1., 1., 1., 1., 1., 1., 1., 1., 1., 1.,\n",
       "       1., 1., 1., 1., 1., 1., 1., 1., 1., 1., 1., 1., 1., 1., 1., 1., 1.,\n",
       "       1., 1., 1., 1., 1., 1., 1., 1., 1., 1., 1., 1., 1., 1., 1., 1., 1.,\n",
       "       1., 1., 1., 1., 1., 1., 1., 1., 1., 1., 1., 1., 1., 1., 1., 1., 1.,\n",
       "       1., 1., 1., 1., 1., 1., 1., 1., 1., 1., 1., 1., 1., 1., 1., 1., 1.,\n",
       "       1., 1., 1., 1., 1., 1., 1., 1., 1., 1., 1., 1., 1., 1., 1., 1., 1.,\n",
       "       1., 1., 1., 1., 1., 1., 1., 1., 1., 1., 1., 1., 1., 1., 1., 1., 1.,\n",
       "       1., 1., 1., 1., 1., 1., 1., 1., 1., 1., 1., 1., 1., 1., 1., 1., 1.,\n",
       "       1., 1., 1., 1., 1., 1., 1., 1., 1., 1., 1., 1., 1., 1., 1., 1., 1.,\n",
       "       1., 1., 1., 1., 1., 1., 1., 1., 1., 1., 1., 1., 1., 1., 1., 1., 1.,\n",
       "       1., 1., 1., 1., 1., 1., 1., 1., 1., 1., 1., 1., 1., 1., 1., 1., 1.,\n",
       "       1., 1., 1., 1., 1., 1., 1., 1., 1., 1., 1., 1., 1., 1., 1., 1., 1.,\n",
       "       1., 1., 1., 1., 1., 1., 1., 1., 1., 1., 1., 1., 1., 1., 1., 1., 1.,\n",
       "       1., 1., 1., 1., 1., 1., 1., 1., 1., 1., 1., 1., 1., 1., 1., 1., 1.,\n",
       "       1., 1., 1., 1., 1., 1., 1., 1., 1., 1., 1., 1., 1., 1., 1., 1., 1.,\n",
       "       1., 1., 1., 1., 1., 1., 1., 1., 1., 1., 1., 1., 1., 1., 1., 1., 1.,\n",
       "       1., 1., 1., 1., 1., 1., 1., 1., 1., 1., 1., 1., 1., 1., 1., 1., 1.,\n",
       "       1., 1., 1., 1., 1., 1., 1., 1., 1., 1., 1., 1., 1., 1., 1., 1., 1.,\n",
       "       1., 1., 1., 1., 1., 1., 1., 1., 1., 1., 1., 1., 1., 1., 1., 1., 1.,\n",
       "       1., 1., 1., 1., 1., 1., 1., 1., 1., 1., 1., 1., 1., 1., 1., 1., 1.,\n",
       "       1., 1., 1., 1., 1., 1., 1., 1., 1., 1., 1., 1., 1., 1., 1., 1., 1.,\n",
       "       1., 1., 1., 1., 1., 1., 1., 1., 1., 1., 1., 1., 1., 1., 1., 1., 1.,\n",
       "       1., 1., 1., 1., 1., 1., 1., 1., 1., 1., 1., 1., 1., 1., 1., 1., 1.,\n",
       "       1., 1., 1., 1., 1., 1., 1., 1., 1., 1., 1., 1., 1., 1., 1., 1., 1.,\n",
       "       1., 1., 1., 1., 1., 1., 1., 1., 1., 1., 1., 1., 1., 1., 1., 1., 1.,\n",
       "       1., 1., 1., 1., 1., 1., 1., 1., 1., 1., 1., 1., 1., 1., 1., 1., 1.,\n",
       "       1., 1., 1., 1., 1., 1., 1., 1., 1., 1., 1., 1., 1., 1., 1., 1., 1.,\n",
       "       1., 1., 1., 1., 1., 1., 1.])"
      ]
     },
     "execution_count": 101,
     "metadata": {},
     "output_type": "execute_result"
    }
   ],
   "source": [
    "T_long[2].sum(axis=1)"
   ]
  },
  {
   "cell_type": "code",
   "execution_count": 103,
   "metadata": {},
   "outputs": [
    {
     "data": {
      "text/plain": [
       "array([1., 1., 1., 1., 1., 1., 1., 1., 1., 1., 1., 1., 1., 1., 1., 1., 1.,\n",
       "       1., 1., 1., 1., 1., 1., 1., 1., 1., 1., 1., 1., 1., 1., 1., 1., 1.,\n",
       "       1., 1., 1., 1., 1., 1., 1., 1., 1., 1., 1., 1., 1., 1., 1., 1., 1.,\n",
       "       1., 1., 1., 1., 1., 1., 1., 1., 1., 1., 1., 1., 1., 1., 1., 1., 1.,\n",
       "       1., 1., 1., 1., 1., 1., 1., 1., 1., 1., 1., 1., 1., 1., 1., 1., 1.,\n",
       "       1., 1., 1., 1., 1., 1., 1., 1., 1., 1., 1., 1., 1., 1., 1., 1., 1.,\n",
       "       1., 1., 1., 1., 1., 1., 1., 1., 1., 1., 1., 1., 1., 1., 1., 1., 1.,\n",
       "       1., 1., 1., 1., 1., 1., 1., 1., 1., 1., 1., 1., 1., 1., 1., 1., 1.,\n",
       "       1., 1., 1., 1., 1., 1., 1., 1., 1., 1., 1., 1., 1., 1., 1., 1., 1.,\n",
       "       1., 1., 1., 1., 1., 1., 1., 1., 1., 1., 1., 1., 1., 1., 1., 1., 1.,\n",
       "       1., 1., 1., 1., 1., 1., 1., 1., 1., 1., 1., 1., 1., 1., 1., 1., 1.,\n",
       "       1., 1., 1., 1., 1., 1., 1., 1., 1., 1., 1., 1., 1., 1., 1., 1., 1.,\n",
       "       1., 1., 1., 1., 1., 1., 1., 1., 1., 1., 1., 1., 1., 1., 1., 1., 1.,\n",
       "       1., 1., 1., 1., 1., 1., 1., 1., 1., 1., 1., 1., 1., 1., 1., 1., 1.,\n",
       "       1., 1., 1., 1., 1., 1., 1., 1., 1., 1., 1., 1., 1., 1., 1., 1., 1.,\n",
       "       1., 1., 1., 1., 1., 1., 1., 1., 1., 1., 1., 1., 1., 1., 1., 1., 1.,\n",
       "       1., 1., 1., 1., 1., 1., 1., 1., 1., 1., 1., 1., 1., 1., 1., 1., 1.,\n",
       "       1., 1., 1., 1., 1., 1., 1., 1., 1., 1., 1., 1., 1., 1., 1., 1., 1.,\n",
       "       1., 1., 1., 1., 1., 1., 1., 1., 1., 1., 1., 1., 1., 1., 1., 1., 1.,\n",
       "       1., 1., 1., 1., 1., 1., 1., 1., 1., 1., 1., 1., 1., 1., 1., 1., 1.,\n",
       "       1., 1., 1., 1., 1., 1., 1., 1., 1., 1., 1., 1., 1., 1., 1., 1., 1.,\n",
       "       1., 1., 1., 1., 1., 1., 1., 1., 1., 1., 1., 1., 1., 1., 1., 1., 1.,\n",
       "       1., 1., 1., 1., 1., 1., 1., 1., 1., 1., 1., 1., 1., 1., 1., 1., 1.,\n",
       "       1., 1., 1., 1., 1., 1., 1., 1., 1., 1., 1., 1., 1., 1., 1., 1., 1.,\n",
       "       1., 1., 1., 1., 1., 1., 1., 1., 1., 1., 1., 1., 1., 1., 1., 1., 1.,\n",
       "       1., 1., 1., 1., 1., 1., 1., 1., 1., 1., 1., 1., 1., 1., 1., 1., 1.,\n",
       "       1., 1., 1., 1., 1., 1., 1., 1., 1., 1., 1., 1., 1., 1., 1., 1., 1.,\n",
       "       1., 1., 1., 1., 1., 1., 1., 1., 1., 1., 1., 1., 1., 1., 1., 1., 1.,\n",
       "       1., 1., 1., 1., 1., 1., 1., 1., 1., 1., 1., 1., 1., 1., 1., 1., 1.,\n",
       "       1., 1., 1., 1., 1., 1., 1.])"
      ]
     },
     "execution_count": 103,
     "metadata": {},
     "output_type": "execute_result"
    }
   ],
   "source": [
    "T_long[3].sum(axis=1)"
   ]
  },
  {
   "cell_type": "code",
   "execution_count": 81,
   "metadata": {},
   "outputs": [
    {
     "data": {
      "text/plain": [
       "(0.0, 10000.0)"
      ]
     },
     "execution_count": 81,
     "metadata": {},
     "output_type": "execute_result"
    },
    {
     "data": {
      "image/png": "[encoded data removed]",
      "text/plain": [
       "<Figure size 432x288 with 1 Axes>"
      ]
     },
     "metadata": {},
     "output_type": "display_data"
    }
   ],
   "source": [
    "plt.plot(T_long[:, 0, 0])\n",
    "plt.ylim([0, 10000])"
   ]
  },
  {
   "cell_type": "code",
   "execution_count": 210,
   "metadata": {},
   "outputs": [],
   "source": [
    "# save every 10th frame, or every 100 steps = 10 ns\n",
    "np.save(\"../data/qMSM_T_10-10000_feat2.npy\", T_long[::10])"
   ]
  },
  {
   "cell_type": "markdown",
   "metadata": {
    "heading_collapsed": true
   },
   "source": [
    "###  test integrator"
   ]
  },
  {
   "cell_type": "code",
   "execution_count": 160,
   "metadata": {
    "hidden": true
   },
   "outputs": [],
   "source": [
    "def test(t, y, c):\n",
    "    return y - c"
   ]
  },
  {
   "cell_type": "code",
   "execution_count": 168,
   "metadata": {
    "hidden": true
   },
   "outputs": [
    {
     "name": "stdout",
     "output_type": "stream",
     "text": [
      "(1,)\n",
      "1\n",
      "1.105\n",
      "1.221025\n",
      "1.349232625\n",
      "1.490902050625\n",
      "1.6474467659406251\n",
      "1.8204286763643909\n",
      "2.011573687382652\n",
      "2.2227889245578303\n",
      "2.4561817616364023\n"
     ]
    }
   ],
   "source": [
    "c = 1\n",
    "pts = integrate_heun(test, 2, 0, 0.1, 10, c)"
   ]
  },
  {
   "cell_type": "code",
   "execution_count": 169,
   "metadata": {
    "hidden": true
   },
   "outputs": [
    {
     "data": {
      "text/plain": [
       "<function matplotlib.pyplot.yscale(value, **kwargs)>"
      ]
     },
     "execution_count": 169,
     "metadata": {},
     "output_type": "execute_result"
    },
    {
     "data": {
      "image/png": "[encoded data removed]",
      "text/plain": [
       "<Figure size 432x288 with 1 Axes>"
      ]
     },
     "metadata": {},
     "output_type": "display_data"
    }
   ],
   "source": [
    "plt.plot(pts)\n",
    "plt.yscale"
   ]
  },
  {
   "cell_type": "markdown",
   "metadata": {},
   "source": [
    "#  Plots"
   ]
  },
  {
   "cell_type": "code",
   "execution_count": 71,
   "metadata": {},
   "outputs": [],
   "source": [
    "# normalize transition matrices\n",
    "T_mats = T_long[::10]"
   ]
  },
  {
   "cell_type": "code",
   "execution_count": 72,
   "metadata": {},
   "outputs": [
    {
     "name": "stderr",
     "output_type": "stream",
     "text": [
      "/project2/roux/scguo/anaconda/envs/py37/lib/python3.7/site-packages/ipykernel_launcher.py:2: RuntimeWarning: divide by zero encountered in true_divide\n",
      "  \n"
     ]
    }
   ],
   "source": [
    "row_sums = T_mats.sum(axis=2, keepdims=True)\n",
    "T_mats = T_mats / row_sums"
   ]
  },
  {
   "cell_type": "code",
   "execution_count": 73,
   "metadata": {},
   "outputs": [
    {
     "data": {
      "text/plain": [
       "array([[ 5.45696821e-12],\n",
       "       [-8.29459168e-10],\n",
       "       [-2.44472176e-08],\n",
       "       [ 5.09317033e-11],\n",
       "       [-1.22236088e-09],\n",
       "       [-4.56348062e-08],\n",
       "       [ 2.99769454e-09],\n",
       "       [-9.09494702e-12],\n",
       "       [-6.40284270e-10],\n",
       "       [ 5.52972779e-10],\n",
       "       [ 9.31322575e-10],\n",
       "       [ 2.38069333e-08],\n",
       "       [-4.91127139e-11],\n",
       "       [ 1.07684173e-09],\n",
       "       [-5.67524694e-10],\n",
       "       [-5.58793545e-09],\n",
       "       [-5.45696821e-11],\n",
       "       [ 2.32830644e-10],\n",
       "       [-7.33416528e-09],\n",
       "       [-6.98491931e-10],\n",
       "       [ 2.32830644e-10],\n",
       "       [ 8.94069672e-07],\n",
       "       [-5.00585884e-09],\n",
       "       [-5.31144906e-10],\n",
       "       [-3.16504156e-10],\n",
       "       [-7.27595761e-12],\n",
       "       [ 6.98491931e-10],\n",
       "       [ 5.47152013e-09],\n",
       "       [-1.60071068e-09],\n",
       "       [-4.36557457e-11],\n",
       "       [-9.45874490e-11],\n",
       "       [-1.74622983e-10],\n",
       "       [-5.82076609e-11],\n",
       "       [-1.09139364e-11],\n",
       "       [ 1.81607902e-08],\n",
       "       [ 4.94765118e-09],\n",
       "       [-3.49245965e-10],\n",
       "       [ 4.98403097e-10],\n",
       "       [-2.00234354e-08],\n",
       "       [ 2.23517418e-07],\n",
       "       [-4.42378223e-09],\n",
       "       [-7.45785655e-11],\n",
       "       [-8.73114914e-11],\n",
       "       [ 1.38243195e-10],\n",
       "       [-1.17506715e-09],\n",
       "       [-2.13622116e-08],\n",
       "       [-1.24487087e-11],\n",
       "       [ 9.02218744e-10],\n",
       "       [ 1.90921128e-08],\n",
       "       [-6.33299351e-08],\n",
       "       [-7.13043846e-10],\n",
       "       [-5.40167093e-08],\n",
       "       [-6.91215973e-11],\n",
       "       [ 3.14321369e-09],\n",
       "       [ 2.54658516e-11],\n",
       "       [ 8.75443220e-08],\n",
       "       [-1.89174898e-10],\n",
       "       [ 4.88944352e-09],\n",
       "       [ 3.27418093e-11],\n",
       "       [-6.98491931e-10],\n",
       "       [ 2.76486389e-10],\n",
       "       [-6.36646291e-11],\n",
       "       [-3.23780114e-10],\n",
       "       [-3.37604433e-09],\n",
       "       [ 5.31144906e-10],\n",
       "       [ 1.43700163e-10],\n",
       "       [-1.81898940e-12],\n",
       "       [-8.36735126e-11],\n",
       "       [-3.63797881e-12],\n",
       "       [ 1.72294676e-08],\n",
       "       [-1.16415322e-09],\n",
       "       [ 5.31144906e-10],\n",
       "       [-3.31550837e-07],\n",
       "       [-1.74622983e-10],\n",
       "       [-1.23691279e-10],\n",
       "       [ 1.16415322e-09],\n",
       "       [ 2.21189111e-09],\n",
       "       [ 3.12866177e-10],\n",
       "       [-4.72937245e-11],\n",
       "       [-3.49245965e-09],\n",
       "       [ 1.30967237e-09],\n",
       "       [ 1.76441972e-10],\n",
       "       [-2.91038305e-10],\n",
       "       [ 1.81898940e-12],\n",
       "       [-1.23400241e-08],\n",
       "       [ 1.62981451e-09],\n",
       "       [ 1.89174898e-10],\n",
       "       [ 4.00177669e-11],\n",
       "       [-2.67755240e-09],\n",
       "       [ 5.23868948e-10],\n",
       "       [ 2.54658516e-10],\n",
       "       [ 4.07453626e-10],\n",
       "       [ 1.10594556e-09],\n",
       "       [ 4.84287739e-08],\n",
       "       [ 3.34694050e-10],\n",
       "       [ 2.61934474e-09],\n",
       "       [-3.49245965e-09],\n",
       "       [ 6.91215973e-11],\n",
       "       [ 2.32830644e-10],\n",
       "       [-3.63797881e-10],\n",
       "       [-3.72529030e-09],\n",
       "       [ 3.78349796e-10],\n",
       "       [ 2.73576006e-09],\n",
       "       [-5.82076609e-10],\n",
       "       [ 6.73026079e-11],\n",
       "       [-1.71712600e-09],\n",
       "       [ 1.63709046e-11],\n",
       "       [-1.39698386e-09],\n",
       "       [ 1.09139364e-11],\n",
       "       [-1.72803993e-10],\n",
       "       [ 8.54925020e-11],\n",
       "       [ 7.35744834e-08],\n",
       "       [ 1.01863407e-10],\n",
       "       [-7.27595761e-11],\n",
       "       [ 8.45830073e-11],\n",
       "       [-1.72803993e-11],\n",
       "       [-5.82076609e-11],\n",
       "       [-5.45696821e-12],\n",
       "       [ 3.95812094e-09],\n",
       "       [ 6.98491931e-10],\n",
       "       [-6.98491931e-10],\n",
       "       [-7.21774995e-09],\n",
       "       [ 1.33877620e-09],\n",
       "       [-3.63797881e-11],\n",
       "       [-8.26548785e-09],\n",
       "       [ 2.91038305e-11],\n",
       "       [-1.45519152e-10],\n",
       "       [ 4.74392436e-09],\n",
       "       [ 2.15732143e-09],\n",
       "       [-6.51925802e-09],\n",
       "       [ 1.74622983e-09],\n",
       "       [-8.00355338e-11],\n",
       "       [ 1.00117177e-08],\n",
       "       [-1.25510269e-10],\n",
       "       [-4.07453626e-10],\n",
       "       [-6.98491931e-10],\n",
       "       [ 1.45519152e-11],\n",
       "       [ 5.45696821e-11],\n",
       "       [-5.09317033e-10],\n",
       "       [-2.18278728e-10],\n",
       "       [ 9.09494702e-12],\n",
       "       [ 2.40106601e-10],\n",
       "       [-1.89989805e-07],\n",
       "       [ 2.69210432e-10],\n",
       "       [-5.45696821e-11],\n",
       "       [-1.07684173e-09],\n",
       "       [-5.82076609e-11],\n",
       "       [ 1.09139364e-09],\n",
       "       [ 2.47382559e-09],\n",
       "       [-2.37196218e-09],\n",
       "       [ 7.27595761e-12],\n",
       "       [ 8.00355338e-11],\n",
       "       [-4.82032192e-11],\n",
       "       [ 2.15368345e-09],\n",
       "       [ 1.16415322e-10],\n",
       "       [ 3.81842256e-08],\n",
       "       [ 6.42612576e-08],\n",
       "       [ 4.94765118e-10],\n",
       "       [-2.18278728e-11],\n",
       "       [-4.65661287e-10],\n",
       "       [ 1.01863407e-10],\n",
       "       [-7.27595761e-10],\n",
       "       [-5.16592991e-10],\n",
       "       [-3.56521923e-10],\n",
       "       [ 2.65426934e-08],\n",
       "       [-4.58385330e-10],\n",
       "       [ 5.16592991e-10],\n",
       "       [ 1.78260962e-10],\n",
       "       [-2.47382559e-10],\n",
       "       [ 4.54019755e-09],\n",
       "       [-2.84053385e-08],\n",
       "       [ 1.33877620e-09],\n",
       "       [-2.74740160e-08],\n",
       "       [ 4.65661287e-09],\n",
       "       [ 1.45519152e-11],\n",
       "       [-3.27418093e-11],\n",
       "       [ 2.07364792e-10],\n",
       "       [ 2.91038305e-09],\n",
       "       [ 9.31322575e-09],\n",
       "       [-1.81898940e-10],\n",
       "       [ 6.05359674e-08],\n",
       "       [ 8.94942787e-10],\n",
       "       [ 1.45519152e-11],\n",
       "       [-6.36646291e-11],\n",
       "       [-1.92085281e-09],\n",
       "       [-6.91215973e-11],\n",
       "       [ 3.81987775e-11],\n",
       "       [ 3.95812094e-09],\n",
       "       [ 1.37370080e-08],\n",
       "       [ 0.00000000e+00],\n",
       "       [ 3.78349796e-10],\n",
       "       [-3.20142135e-10],\n",
       "       [ 2.03726813e-10],\n",
       "       [-2.79396772e-09],\n",
       "       [-3.38332029e-10],\n",
       "       [ 1.91903382e-10],\n",
       "       [ 1.07684173e-09],\n",
       "       [-3.56521923e-10],\n",
       "       [-3.45607987e-10],\n",
       "       [-2.91038305e-09],\n",
       "       [-1.83936208e-08],\n",
       "       [ 8.00355338e-11],\n",
       "       [-3.20142135e-10],\n",
       "       [-1.62981451e-09],\n",
       "       [-2.36468622e-10],\n",
       "       [ 1.45519152e-10],\n",
       "       [ 7.59959221e-07],\n",
       "       [-1.25055521e-12],\n",
       "       [-2.91038305e-10],\n",
       "       [ 6.98491931e-10],\n",
       "       [ 2.91038305e-11],\n",
       "       [ 4.94765118e-10],\n",
       "       [ 3.20142135e-10],\n",
       "       [ 2.54658516e-11],\n",
       "       [ 1.60653144e-08],\n",
       "       [-9.60426405e-10],\n",
       "       [-7.27595761e-12],\n",
       "       [-1.86264515e-08],\n",
       "       [-3.25962901e-09],\n",
       "       [ 1.86264515e-09],\n",
       "       [ 5.82076609e-11],\n",
       "       [-5.82076609e-11],\n",
       "       [-2.56113708e-09],\n",
       "       [-1.46974344e-09],\n",
       "       [-2.25845724e-08],\n",
       "       [-1.52795110e-10],\n",
       "       [-2.72848411e-11],\n",
       "       [-2.61934474e-10],\n",
       "       [ 1.45519152e-11],\n",
       "       [-1.96450856e-10],\n",
       "       [ 5.43892384e-07],\n",
       "       [-5.09317033e-11],\n",
       "       [-5.56610757e-10],\n",
       "       [-2.07364792e-10],\n",
       "       [-9.31322575e-09],\n",
       "       [-2.91038305e-11],\n",
       "       [ 3.66708264e-09],\n",
       "       [-5.64614311e-09],\n",
       "       [ 9.02218744e-10],\n",
       "       [ 3.71073838e-10],\n",
       "       [ 3.14685167e-10],\n",
       "       [ 1.03318598e-09],\n",
       "       [-1.36424205e-11],\n",
       "       [-5.90807758e-09],\n",
       "       [-2.47382559e-09],\n",
       "       [ 2.91038305e-11],\n",
       "       [-2.42143869e-08],\n",
       "       [-6.36646291e-11],\n",
       "       [ 6.98491931e-09],\n",
       "       [ 1.04773790e-09],\n",
       "       [ 4.07453626e-09],\n",
       "       [ 6.11180440e-10],\n",
       "       [-3.55066732e-09],\n",
       "       [ 3.12866177e-10],\n",
       "       [ 9.09494702e-13],\n",
       "       [-2.09183781e-11],\n",
       "       [ 8.38190317e-09],\n",
       "       [ 2.91038305e-11],\n",
       "       [ 0.00000000e+00],\n",
       "       [-2.51457095e-08],\n",
       "       [-1.09139364e-11],\n",
       "       [-7.21774995e-09],\n",
       "       [ 8.73114914e-11],\n",
       "       [ 1.19325705e-09],\n",
       "       [ 6.54836185e-11],\n",
       "       [ 5.82076609e-11],\n",
       "       [-1.28056854e-09],\n",
       "       [-4.65661287e-10],\n",
       "       [-8.61746230e-11],\n",
       "       [ 1.97906047e-09],\n",
       "       [ 0.00000000e+00],\n",
       "       [ 3.92901711e-10],\n",
       "       [-5.60248736e-09],\n",
       "       [-5.52972779e-10],\n",
       "       [ 6.17001206e-09],\n",
       "       [ 3.49245965e-10],\n",
       "       [ 1.09139364e-10],\n",
       "       [-1.09896064e-07],\n",
       "       [-1.18234311e-10],\n",
       "       [-1.53668225e-08],\n",
       "       [-3.34694050e-10],\n",
       "       [ 1.45519152e-10],\n",
       "       [-2.65572453e-10],\n",
       "       [ 6.18456397e-10],\n",
       "       [ 1.01863407e-10],\n",
       "       [ 4.32919478e-10],\n",
       "       [-6.98491931e-10],\n",
       "       [-2.83762347e-10],\n",
       "       [ 1.56433089e-10],\n",
       "       [ 1.97906047e-09],\n",
       "       [-2.18278728e-09],\n",
       "       [-5.82076609e-10],\n",
       "       [ 3.72529030e-09],\n",
       "       [-3.05590220e-10],\n",
       "       [-4.51691449e-08],\n",
       "       [ 2.76486389e-10],\n",
       "       [ 3.49245965e-10],\n",
       "       [-4.36557457e-09],\n",
       "       [ 1.11758709e-08],\n",
       "       [-1.74622983e-09],\n",
       "       [-1.81898940e-12],\n",
       "       [ 7.56699592e-10],\n",
       "       [-2.11596489e-06],\n",
       "       [ 6.91215973e-11],\n",
       "       [ 4.72937245e-11],\n",
       "       [ 3.63797881e-12],\n",
       "       [ 1.30967237e-10],\n",
       "       [-1.67347025e-10],\n",
       "       [-7.13043846e-10],\n",
       "       [-8.00937414e-08],\n",
       "       [-6.91215973e-11],\n",
       "       [-7.33416528e-09],\n",
       "       [-8.44011083e-10],\n",
       "       [ 4.51109372e-10],\n",
       "       [-2.96859071e-09],\n",
       "       [-2.25554686e-10],\n",
       "       [ 2.74740160e-08],\n",
       "       [ 1.28056854e-09],\n",
       "       [ 1.20053301e-10],\n",
       "       [ 1.92085281e-09],\n",
       "       [ 1.45519152e-10],\n",
       "       [-2.21189111e-09],\n",
       "       [ 3.91082722e-11],\n",
       "       [ 2.32830644e-09],\n",
       "       [-8.73114914e-11],\n",
       "       [ 1.97906047e-09],\n",
       "       [-2.44472176e-09],\n",
       "       [-1.25728548e-08],\n",
       "       [ 1.77533366e-09],\n",
       "       [ 1.60071068e-10],\n",
       "       [ 8.03265721e-09],\n",
       "       [-3.27418093e-11],\n",
       "       [ 7.27595761e-11],\n",
       "       [ 2.00088834e-11],\n",
       "       [ 1.97906047e-09],\n",
       "       [ 1.16415322e-10],\n",
       "       [-5.00585884e-09],\n",
       "       [-1.11758709e-07],\n",
       "       [-8.18545232e-12],\n",
       "       [-2.18278728e-09],\n",
       "       [-5.23868948e-10],\n",
       "       [ 3.23780114e-10],\n",
       "       [ 4.65661287e-10],\n",
       "       [-9.09494702e-11],\n",
       "       [ 2.03726813e-09],\n",
       "       [-2.44472176e-09],\n",
       "       [ 8.26548785e-09],\n",
       "       [ 5.58793545e-09],\n",
       "       [ 7.27595761e-10],\n",
       "       [-1.89174898e-10],\n",
       "       [ 6.50288712e-11],\n",
       "       [-1.74622983e-08],\n",
       "       [ 3.37604433e-09],\n",
       "       [ 5.12227416e-09],\n",
       "       [ 6.54836185e-11],\n",
       "       [-7.42147677e-10],\n",
       "       [ 3.89263732e-10],\n",
       "       [-1.45519152e-11],\n",
       "       [-1.07684173e-09],\n",
       "       [-1.04773790e-08],\n",
       "       [-9.31322575e-08],\n",
       "       [ 2.91038305e-11],\n",
       "       [-1.07684173e-09],\n",
       "       [-4.43833414e-10],\n",
       "       [-3.49245965e-09],\n",
       "       [ 6.18456397e-11],\n",
       "       [-4.98403097e-10],\n",
       "       [ 4.65661287e-10],\n",
       "       [-4.98403097e-10],\n",
       "       [ 2.72848411e-11],\n",
       "       [-7.27595761e-12],\n",
       "       [-1.07102096e-08],\n",
       "       [-9.31322575e-09],\n",
       "       [ 7.33416528e-09],\n",
       "       [ 2.32830644e-10],\n",
       "       [ 1.21071935e-07],\n",
       "       [ 5.47152013e-09],\n",
       "       [ 8.19563866e-08],\n",
       "       [ 1.80989446e-10],\n",
       "       [-1.63709046e-11],\n",
       "       [-1.96450856e-10],\n",
       "       [-5.76255843e-09],\n",
       "       [-2.32830644e-10],\n",
       "       [ 3.27418093e-11],\n",
       "       [ 1.97906047e-08],\n",
       "       [-4.65661287e-09],\n",
       "       [-5.82076609e-11],\n",
       "       [ 9.89530236e-10],\n",
       "       [ 4.42378223e-09],\n",
       "       [-1.70985004e-10],\n",
       "       [-1.19907781e-08],\n",
       "       [-4.14729584e-10],\n",
       "       [-5.52972779e-10],\n",
       "       [ 7.21774995e-09],\n",
       "       [ 2.50292942e-09],\n",
       "       [-2.44472176e-09],\n",
       "       [-7.27595761e-10],\n",
       "       [ 4.72937245e-11],\n",
       "       [-5.00222086e-12],\n",
       "       [ 5.82076609e-11],\n",
       "       [-2.54658516e-10],\n",
       "       [-4.19095159e-09],\n",
       "       [-6.40284270e-10],\n",
       "       [ 1.97440386e-07],\n",
       "       [ 2.63753464e-10],\n",
       "       [-8.58562998e-10],\n",
       "       [-2.09547579e-09],\n",
       "       [-1.25728548e-08],\n",
       "       [-1.36424205e-10],\n",
       "       [ 4.65661287e-10],\n",
       "       [-3.63797881e-12],\n",
       "       [ 3.49245965e-10],\n",
       "       [-6.27551344e-11],\n",
       "       [-1.01863407e-10],\n",
       "       [-1.89174898e-10],\n",
       "       [-5.82076609e-11],\n",
       "       [-6.79865479e-08],\n",
       "       [ 2.00088834e-11],\n",
       "       [ 9.31322575e-10],\n",
       "       [-1.92085281e-09],\n",
       "       [ 9.60426405e-10],\n",
       "       [-6.54836185e-11],\n",
       "       [ 2.54658516e-10],\n",
       "       [-8.14907253e-09],\n",
       "       [-1.49011612e-08],\n",
       "       [-1.54832378e-08],\n",
       "       [ 2.23517418e-08],\n",
       "       [-2.91038305e-11],\n",
       "       [ 8.73114914e-09],\n",
       "       [ 1.38243195e-10],\n",
       "       [-1.12777343e-10],\n",
       "       [ 4.13274392e-09],\n",
       "       [-4.36557457e-10],\n",
       "       [ 9.08039510e-09],\n",
       "       [-4.36557457e-11],\n",
       "       [ 1.45519152e-09],\n",
       "       [-3.84170562e-09],\n",
       "       [ 2.72848411e-11],\n",
       "       [ 9.09494702e-13],\n",
       "       [ 6.54836185e-11],\n",
       "       [-1.67347025e-10],\n",
       "       [ 2.91038305e-11],\n",
       "       [-1.28056854e-09],\n",
       "       [-8.14907253e-10],\n",
       "       [ 1.90921128e-08],\n",
       "       [ 1.15483999e-07],\n",
       "       [ 6.04813977e-11],\n",
       "       [ 3.49245965e-09],\n",
       "       [-5.38420863e-10],\n",
       "       [-2.54658516e-11],\n",
       "       [ 2.29920261e-09],\n",
       "       [ 2.38651410e-09],\n",
       "       [-1.74622983e-10],\n",
       "       [-4.01632860e-09],\n",
       "       [ 9.89530236e-10],\n",
       "       [-1.68802217e-09],\n",
       "       [ 6.51925802e-09],\n",
       "       [-1.23691279e-10],\n",
       "       [-5.09317033e-10],\n",
       "       [-7.42147677e-10],\n",
       "       [-2.72848411e-11],\n",
       "       [ 2.73576006e-09],\n",
       "       [-1.42026693e-08],\n",
       "       [-8.22183210e-10],\n",
       "       [ 1.16415322e-10],\n",
       "       [-9.31322575e-09],\n",
       "       [-3.05590220e-10],\n",
       "       [-4.65661287e-10],\n",
       "       [-3.27418093e-11],\n",
       "       [-4.72937245e-11],\n",
       "       [ 3.25962901e-08],\n",
       "       [ 1.04773790e-09],\n",
       "       [-1.16415322e-10],\n",
       "       [-1.11904228e-08],\n",
       "       [ 1.02445483e-07],\n",
       "       [-2.03726813e-10],\n",
       "       [-2.93366611e-08],\n",
       "       [ 5.45696821e-11],\n",
       "       [-2.09547579e-09],\n",
       "       [ 4.30736691e-09],\n",
       "       [ 1.74622983e-08],\n",
       "       [ 2.44472176e-09],\n",
       "       [ 6.83940016e-10],\n",
       "       [ 4.65661287e-10],\n",
       "       [ 0.00000000e+00],\n",
       "       [ 9.36779543e-11],\n",
       "       [ 4.58385330e-10],\n",
       "       [-1.95577741e-08],\n",
       "       [ 2.61934474e-10],\n",
       "       [-3.63797881e-11],\n",
       "       [ 3.63797881e-12],\n",
       "       [ 7.42147677e-10],\n",
       "       [-4.31100489e-10],\n",
       "       [-6.89396984e-10],\n",
       "       [-1.58615876e-09],\n",
       "       [-2.30967999e-07],\n",
       "       [ 5.82076609e-10],\n",
       "       [-2.91038305e-10],\n",
       "       [ 6.47560228e-10],\n",
       "       [-5.87897375e-09]])"
      ]
     },
     "execution_count": 73,
     "metadata": {},
     "output_type": "execute_result"
    }
   ],
   "source": [
    "row_sums[3]"
   ]
  },
  {
   "cell_type": "code",
   "execution_count": null,
   "metadata": {},
   "outputs": [],
   "source": []
  }
 ],
 "metadata": {
  "kernelspec": {
   "display_name": "Python 3",
   "language": "python",
   "name": "python3"
  },
  "language_info": {
   "codemirror_mode": {
    "name": "ipython",
    "version": 3
   },
   "file_extension": ".py",
   "mimetype": "text/x-python",
   "name": "python",
   "nbconvert_exporter": "python",
   "pygments_lexer": "ipython3",
   "version": "3.7.8"
  },
  "latex_envs": {
   "LaTeX_envs_menu_present": true,
   "autoclose": true,
   "autocomplete": true,
   "bibliofile": "biblio.bib",
   "cite_by": "apalike",
   "current_citInitial": 1,
   "eqLabelWithNumbers": true,
   "eqNumInitial": 1,
   "hotkeys": {
    "equation": "Ctrl-E",
    "itemize": "Ctrl-I"
   },
   "labels_anchors": false,
   "latex_user_defs": false,
   "report_style_numbering": false,
   "user_envs_cfg": false
  },
  "toc": {
   "base_numbering": 1,
   "nav_menu": {},
   "number_sections": true,
   "sideBar": true,
   "skip_h1_title": false,
   "title_cell": "Table of Contents",
   "title_sidebar": "Contents",
   "toc_cell": false,
   "toc_position": {},
   "toc_section_display": true,
   "toc_window_display": false
  }
 },
 "nbformat": 4,
 "nbformat_minor": 4
}
