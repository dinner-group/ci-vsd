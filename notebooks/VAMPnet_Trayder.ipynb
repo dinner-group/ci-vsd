{
 "cells": [
  {
   "cell_type": "markdown",
   "metadata": {},
   "source": [
    "# Import all the packages used"
   ]
  },
  {
   "cell_type": "code",
   "execution_count": 1,
   "metadata": {
    "ExecuteTime": {
     "end_time": "2021-12-01T23:11:23.390415Z",
     "start_time": "2021-12-01T23:11:11.059671Z"
    },
    "scrolled": false
   },
   "outputs": [],
   "source": [
    "import numpy as np\n",
    "import mdtraj as md\n",
    "import matplotlib.pyplot as plt\n",
    "\n",
    "%matplotlib inline\n",
    "import vampnet\n",
    "from vampnet import data_generator as vamp_data_loader\n",
    "from tensorflow.keras.models import Model\n",
    "from tensorflow.keras.layers import (\n",
    "    Dense,\n",
    "    Activation,\n",
    "    Flatten,\n",
    "    Input,\n",
    "    BatchNormalization,\n",
    "    concatenate,\n",
    ")\n",
    "from tensorflow.keras.optimizers import Adam\n",
    "import tensorflow as tf\n",
    "import matplotlib.gridspec as gridspec\n",
    "from tensorflow.keras.backend import clear_session\n",
    "from msmbuilder.dataset import dataset\n",
    "from sklearn.utils import check_random_state\n",
    "import random\n",
    "import os\n",
    "\n",
    "%load_ext autoreload\n",
    "%autoreload 2"
   ]
  },
  {
   "cell_type": "markdown",
   "metadata": {},
   "source": [
    "# Define Hyperparameters"
   ]
  },
  {
   "cell_type": "code",
   "execution_count": 2,
   "metadata": {
    "ExecuteTime": {
     "end_time": "2021-12-01T23:11:32.815489Z",
     "start_time": "2021-12-01T23:11:32.794555Z"
    }
   },
   "outputs": [],
   "source": [
    "# Tau, how much is the timeshift of the two datasets\n",
    "tau = 10\n",
    "\n",
    "# Batch size for Stochastic Gradient descent\n",
    "batch_size = 1000\n",
    "\n",
    "# Which trajectory points percentage is used as training\n",
    "train_ratio = 0.9\n",
    "\n",
    "# (not used) How many hidden layers the network has\n",
    "network_depth = 1\n",
    "\n",
    "# (not used) Width of every layer\n",
    "layer_width = 100\n",
    "\n",
    "# Learning rate used for the ADAM optimizer\n",
    "learning_rate = 1e-4\n",
    "\n",
    "# How many output states the network has\n",
    "output_size = 30\n",
    "\n",
    "# Iteration over the training set in the fitting process\n",
    "nb_epoch = 60\n",
    "\n",
    "epsilon = 1e-5"
   ]
  },
  {
   "cell_type": "markdown",
   "metadata": {},
   "source": [
    "# Initialized the VAMPnets wrapper class"
   ]
  },
  {
   "cell_type": "code",
   "execution_count": 3,
   "metadata": {
    "ExecuteTime": {
     "end_time": "2021-12-01T23:11:38.110174Z",
     "start_time": "2021-12-01T23:11:38.090679Z"
    }
   },
   "outputs": [],
   "source": [
    "vamp = vampnet.VampnetTools(epsilon=epsilon)"
   ]
  },
  {
   "cell_type": "markdown",
   "metadata": {},
   "source": [
    "# Load Data"
   ]
  },
  {
   "cell_type": "code",
   "execution_count": 4,
   "metadata": {
    "ExecuteTime": {
     "end_time": "2021-12-01T23:11:40.387263Z",
     "start_time": "2021-12-01T23:11:39.666405Z"
    }
   },
   "outputs": [],
   "source": [
    "ds = dataset(\"../../src_*/small_traj*/src*cat.dcd\", topology=\"../system_xy_small.pdb\")"
   ]
  },
  {
   "cell_type": "raw",
   "metadata": {
    "ExecuteTime": {
     "end_time": "2021-10-06T23:21:13.558653Z",
     "start_time": "2021-10-06T23:20:59.270921Z"
    },
    "scrolled": true
   },
   "source": [
    "total_frames = 0\n",
    "for traj in ds:\n",
    "    total_frames += traj.n_frames\n",
    "    print(traj.n_frames)\n",
    "print(total_frames)"
   ]
  },
  {
   "cell_type": "markdown",
   "metadata": {},
   "source": [
    "# Featurization"
   ]
  },
  {
   "cell_type": "code",
   "execution_count": 5,
   "metadata": {
    "ExecuteTime": {
     "end_time": "2021-12-01T23:11:42.155418Z",
     "start_time": "2021-12-01T23:11:40.704158Z"
    }
   },
   "outputs": [],
   "source": [
    "# IMAT fragments\n",
    "imat_frags = []\n",
    "imat_frags.append(ds[0].topology.select(\"resname IMAT and name C4 C5 C6 N7 C8 C9 C10\"))\n",
    "imat_frags.append(\n",
    "    ds[0].topology.select(\"resname IMAT and name N1 C2 N3 C4 C11 C12 N13\")\n",
    ")\n",
    "imat_frags.append(\n",
    "    ds[0].topology.select(\"resname IMAT and name N13 C14 C15 C16 C17 C18 C19\")\n",
    ")\n",
    "imat_frags.append(ds[0].topology.select(\"resname IMAT and name C20 N22 C24 O25 C26\"))\n",
    "imat_frags.append(\n",
    "    ds[0].topology.select(\"resname IMAT and name C26 C27 C28 C29 C30 C31 C32\")\n",
    ")\n",
    "imat_frags.append(\n",
    "    ds[0].topology.select(\"resname IMAT and name C32 N33 C34 N36 C37 C38 C39\")\n",
    ")"
   ]
  },
  {
   "cell_type": "code",
   "execution_count": 6,
   "metadata": {
    "ExecuteTime": {
     "end_time": "2021-12-01T23:11:42.178648Z",
     "start_time": "2021-12-01T23:11:42.156628Z"
    },
    "code_folding": []
   },
   "outputs": [],
   "source": [
    "def featurize_traj(traj, imat_frags=None):\n",
    "    featurized = np.zeros((traj.n_frames, 0))\n",
    "\n",
    "    for frag in imat_frags:\n",
    "        for residue in traj.topology.residues:\n",
    "            if not residue.is_protein:\n",
    "                break\n",
    "            res_indices = [\n",
    "                atom.index for atom in residue.atoms if atom.element.atomic_number > 1\n",
    "            ]\n",
    "            atom_pairs = []\n",
    "            for i in frag:\n",
    "                for j in res_indices:\n",
    "                    atom_pairs.append([i, j])\n",
    "            dist = 1 / np.amin(md.compute_distances(traj, atom_pairs), axis=1)\n",
    "            featurized = np.column_stack((featurized, dist))\n",
    "    return featurized"
   ]
  },
  {
   "cell_type": "code",
   "execution_count": 8,
   "metadata": {
    "ExecuteTime": {
     "end_time": "2021-10-08T21:15:13.626395Z",
     "start_time": "2021-10-08T20:47:53.830428Z"
    },
    "scrolled": true
   },
   "outputs": [
    {
     "name": "stdout",
     "output_type": "stream",
     "text": [
      ".............................................................................................................................................................................................................................................................................."
     ]
    }
   ],
   "source": [
    "out_dataset = ds.create_derived(\"vampnet_featurized\", fmt=\"dir-npy\")\n",
    "\n",
    "for key in ds.keys():\n",
    "    print(\".\", end=\"\")\n",
    "    trajectory = []\n",
    "    for i, chunk in enumerate(ds.iterload(key, chunk=10000)):\n",
    "        trajectory.append(featurize_traj(chunk, imat_frags))\n",
    "    out_dataset[key] = np.concatenate(trajectory)\n",
    "out_dataset.close()"
   ]
  },
  {
   "cell_type": "code",
   "execution_count": 7,
   "metadata": {
    "ExecuteTime": {
     "end_time": "2021-12-01T23:11:57.626706Z",
     "start_time": "2021-12-01T23:11:57.605234Z"
    }
   },
   "outputs": [],
   "source": [
    "full_featurization = dataset(\"vampnet_featurized/\")"
   ]
  },
  {
   "cell_type": "markdown",
   "metadata": {},
   "source": [
    "# Prepare Featurization for VAMPnet"
   ]
  },
  {
   "cell_type": "code",
   "execution_count": 10,
   "metadata": {
    "ExecuteTime": {
     "end_time": "2021-10-11T20:59:05.627512Z",
     "start_time": "2021-10-11T20:53:38.342078Z"
    },
    "scrolled": true
   },
   "outputs": [],
   "source": [
    "# First time setup, flatten data into two trajectories separated by lagtime (transitions)\n",
    "featurization_ord = np.concatenate([traj[:-tau] for traj in full_featurization])\n",
    "np.save(\"featurization_ord\", featurization_ord)\n",
    "\n",
    "featurization_ord_lag = np.concatenate([traj[tau:] for traj in full_featurization])\n",
    "np.save(\"featurization_ord_lag\", featurization_ord_lag)"
   ]
  },
  {
   "cell_type": "code",
   "execution_count": 8,
   "metadata": {
    "ExecuteTime": {
     "end_time": "2021-12-01T23:11:59.894386Z",
     "start_time": "2021-12-01T23:11:59.874191Z"
    }
   },
   "outputs": [],
   "source": [
    "featurization_ord = np.load(\"featurization_ord.npy\", mmap_mode=\"r\")\n",
    "featurization_ord_lag = np.load(\"featurization_ord_lag.npy\", mmap_mode=\"r\")"
   ]
  },
  {
   "cell_type": "code",
   "execution_count": 12,
   "metadata": {
    "ExecuteTime": {
     "end_time": "2021-10-11T21:35:47.058329Z",
     "start_time": "2021-10-11T20:59:09.221010Z"
    }
   },
   "outputs": [],
   "source": [
    "# Shuffle data keeping transitions paired\n",
    "indexes = np.arange(len(featurization_ord))\n",
    "np.random.shuffle(indexes)\n",
    "# slice that can be used to unshuffle data, and eventually reconstruct trajectories\n",
    "# shouldn't need this, can just train on unshuffled data\n",
    "# np.save(\"unshuffle\",np.argsort(indexes))\n",
    "\n",
    "featurization = featurization_ord[indexes]\n",
    "np.save(\"featurization\", featurization)\n",
    "\n",
    "featurization_lag = featurization_ord_lag[indexes]\n",
    "np.save(\"featurization_lag\", featurization_lag)"
   ]
  },
  {
   "cell_type": "code",
   "execution_count": 9,
   "metadata": {
    "ExecuteTime": {
     "end_time": "2021-12-01T23:12:03.013266Z",
     "start_time": "2021-12-01T23:12:02.993364Z"
    }
   },
   "outputs": [],
   "source": [
    "featurization = np.load(\"featurization.npy\", mmap_mode=\"r\")\n",
    "featurization_lag = np.load(\"featurization_lag.npy\", mmap_mode=\"r\")"
   ]
  },
  {
   "cell_type": "code",
   "execution_count": 10,
   "metadata": {
    "ExecuteTime": {
     "end_time": "2021-12-01T23:12:04.732796Z",
     "start_time": "2021-12-01T23:12:04.689855Z"
    }
   },
   "outputs": [],
   "source": [
    "# from Abl paper: 10% of the data (highly correlated to the training data) was selected for cross-validation.\n",
    "# Since the sampling of conformational space is so sparse, no independent data can be held out from analysis\n",
    "# for cross-validation. Even if, the held out data would be so different form the rest,that it would never\n",
    "# confirm the model that was trained on the rest. To do at least some minimal cross-validation, we split the\n",
    "# data into two highly correlated sets: a) every tenth frame, starting to count at the zeroth frame b) every\n",
    "# 10th frame, starting to count at the fifth frame. Set (a) is used for training while set (b) is used for\n",
    "# this “fig leaf” cross-validation.\n",
    "train_length = int(len(featurization) * train_ratio)\n",
    "valid_length = len(featurization) - train_length\n",
    "\n",
    "train_data = featurization[:train_length]\n",
    "valid_data = featurization[train_length:]\n",
    "\n",
    "train_data_lag = featurization_lag[:train_length]\n",
    "valid_data_lag = featurization_lag[train_length:]\n",
    "\n",
    "input_size = featurization.shape[1]"
   ]
  },
  {
   "cell_type": "markdown",
   "metadata": {},
   "source": [
    "# Run several model iterations saving the best one, to help finding sparcely populated states"
   ]
  },
  {
   "cell_type": "code",
   "execution_count": 11,
   "metadata": {
    "ExecuteTime": {
     "end_time": "2021-12-01T23:12:06.317123Z",
     "start_time": "2021-12-01T23:12:06.241750Z"
    }
   },
   "outputs": [],
   "source": [
    "output_size = 30\n",
    "Y_train = np.zeros((train_length, 2 * output_size)).astype(\"float32\")\n",
    "Y_vali = np.zeros((valid_length, 2 * output_size)).astype(\"float32\")"
   ]
  },
  {
   "cell_type": "code",
   "execution_count": 12,
   "metadata": {
    "ExecuteTime": {
     "end_time": "2021-12-01T23:24:00.987178Z",
     "start_time": "2021-12-01T23:12:07.511701Z"
    },
    "scrolled": true
   },
   "outputs": [
    {
     "name": "stdout",
     "output_type": "stream",
     "text": [
      "WARNING:tensorflow:From /home/trayder/anaconda3/envs/msmbuilder/lib/python3.6/site-packages/vampnet-0.1.4.dev16+gc88ed3f-py3.6.egg/vampnet/vampnet.py:660: to_float (from tensorflow.python.ops.math_ops) is deprecated and will be removed in a future version.\n",
      "Instructions for updating:\n",
      "Use `tf.cast` instead.\n",
      "WARNING:tensorflow:From /home/trayder/anaconda3/envs/msmbuilder/lib/python3.6/site-packages/vampnet-0.1.4.dev16+gc88ed3f-py3.6.egg/vampnet/vampnet.py:612: to_int32 (from tensorflow.python.ops.math_ops) is deprecated and will be removed in a future version.\n",
      "Instructions for updating:\n",
      "Use `tf.cast` instead.\n",
      "Attempt 1, training score: 28.87, validation score: 28.73 - Highest\n",
      "Attempt 2, training score: 28.82, validation score: 28.62\n",
      "Attempt 3, training score: 28.74, validation score: 28.64\n"
     ]
    }
   ],
   "source": [
    "max_vm = 0\n",
    "attempts_number = 10\n",
    "\n",
    "\n",
    "# IMPORTANT: the function vamp.loss_VAMP2_autograd can only be used with tensorflow 1.6 or more recent.\n",
    "# For older versions of TF, use the function vamp.loss_VAMP2\n",
    "\n",
    "losses = [\n",
    "    vamp.loss_VAMP2_autograd,\n",
    "]\n",
    "\n",
    "\n",
    "for attempt in range(attempts_number):\n",
    "\n",
    "    # Clear the previous tensorflow session to prevent memory leaks\n",
    "    clear_session()\n",
    "\n",
    "    # Build the model\n",
    "\n",
    "    # nodes = [layer_width]*network_depth\n",
    "\n",
    "    Data_X = Input(shape=(input_size,))\n",
    "    Data_Y = Input(shape=(input_size,))\n",
    "\n",
    "    # Add a softmax output layer.\n",
    "    # Should be replaced with a linear activation layer if\n",
    "    # the outputs of the network cannot be interpreted as states\n",
    "    softmax = Dense(output_size, activation=\"softmax\")\n",
    "\n",
    "    lx_branch = softmax(Data_X)\n",
    "    rx_branch = softmax(Data_Y)\n",
    "\n",
    "    # Merge both networks to train both at the same time\n",
    "    merged = concatenate([lx_branch, rx_branch])\n",
    "\n",
    "    # Initialize the model and the optimizer, and compile it with\n",
    "    # the loss and metric functions from the VAMPnets package\n",
    "    model = Model(inputs=[Data_X, Data_Y], outputs=merged)\n",
    "    adam = Adam(lr=learning_rate)\n",
    "\n",
    "    vm1 = np.zeros((len(losses), nb_epoch))\n",
    "    tm1 = np.zeros_like(vm1)\n",
    "    vm2 = np.zeros_like(vm1)\n",
    "    tm2 = np.zeros_like(vm1)\n",
    "\n",
    "    for l_index, loss_function in enumerate(losses):\n",
    "\n",
    "        model.compile(\n",
    "            optimizer=adam,\n",
    "            loss=loss_function,\n",
    "            metrics=[\n",
    "                vamp.metric_VAMP,\n",
    "                vamp.metric_VAMP2,\n",
    "            ],\n",
    "        )\n",
    "\n",
    "        # Train the model\n",
    "        hist = model.fit(\n",
    "            [train_data, train_data_lag],\n",
    "            Y_train,\n",
    "            batch_size=batch_size,\n",
    "            epochs=nb_epoch,\n",
    "            validation_data=([valid_data, valid_data_lag], Y_vali),\n",
    "            verbose=0,\n",
    "        )\n",
    "\n",
    "        vm1[l_index] = np.array(hist.history[\"val_metric_VAMP\"])\n",
    "        tm1[l_index] = np.array(hist.history[\"metric_VAMP\"])\n",
    "\n",
    "        vm2[l_index] = np.array(hist.history[\"val_metric_VAMP2\"])\n",
    "        tm2[l_index] = np.array(hist.history[\"metric_VAMP2\"])\n",
    "\n",
    "    vm1 = np.reshape(vm1, (-1))\n",
    "    tm1 = np.reshape(tm1, (-1))\n",
    "    vm2 = np.reshape(vm2, (-1))\n",
    "    tm2 = np.reshape(tm2, (-1))\n",
    "\n",
    "    # Average the score obtained in the last part of the training process\n",
    "    # in order to estabilish which model is better and thus worth saving\n",
    "\n",
    "    score = vm1[-5:].mean()\n",
    "    t_score = tm1[-5:].mean()\n",
    "    extra_msg = \"\"\n",
    "    if score > max_vm:\n",
    "        extra_msg = \" - Highest\"\n",
    "        best_weights = model.get_weights()\n",
    "        max_vm = score\n",
    "        vm1_max = vm1\n",
    "        tm1_max = tm1\n",
    "        vm2_max = vm2\n",
    "        tm2_max = tm2\n",
    "\n",
    "    print(\n",
    "        \"Attempt {0}, training score: {1:.2f}, validation score: {2:.2f}\".format(\n",
    "            attempt + 1, t_score, score\n",
    "        )\n",
    "        + extra_msg\n",
    "    )"
   ]
  },
  {
   "cell_type": "code",
   "execution_count": 15,
   "metadata": {
    "ExecuteTime": {
     "end_time": "2021-12-01T23:25:20.519247Z",
     "start_time": "2021-12-01T23:25:19.197413Z"
    }
   },
   "outputs": [
    {
     "name": "stdout",
     "output_type": "stream",
     "text": [
      "WARNING:tensorflow:From /home/trayder/anaconda3/envs/msmbuilder/lib/python3.6/site-packages/tensorflow/python/training/tracking/tracking.py:111: Model.state_updates (from tensorflow.python.keras.engine.training) is deprecated and will be removed in a future version.\n",
      "Instructions for updating:\n",
      "This property should not be used in TensorFlow 2.0, as updates are applied automatically.\n",
      "WARNING:tensorflow:From /home/trayder/anaconda3/envs/msmbuilder/lib/python3.6/site-packages/tensorflow/python/training/tracking/tracking.py:111: Layer.updates (from tensorflow.python.keras.engine.base_layer) is deprecated and will be removed in a future version.\n",
      "Instructions for updating:\n",
      "This property should not be used in TensorFlow 2.0, as updates are applied automatically.\n",
      "INFO:tensorflow:Assets written to: vampnet_model/assets\n"
     ]
    }
   ],
   "source": [
    "model.save(\"vampnet_model/\")"
   ]
  },
  {
   "cell_type": "code",
   "execution_count": null,
   "metadata": {},
   "outputs": [],
   "source": [
    "# load a saved model, need to reconnect custom object names for some reason (might differ with tensorflow version?)\n",
    "custom_objects = {\n",
    "    \"loss_VAMP2_autograd\": vamp.loss_VAMP2_autograd,\n",
    "    \"metric_VAMP\": vamp.metric_VAMP,\n",
    "    \"metric_VAMP2\": vamp.metric_VAMP2,\n",
    "}\n",
    "\n",
    "model = tf.keras.models.load_model(\n",
    "    \"VAMPnet_CA_inverse_50\", custom_objects=custom_objects\n",
    ")"
   ]
  },
  {
   "cell_type": "markdown",
   "metadata": {},
   "source": [
    "# Recover the saved model and its training history"
   ]
  },
  {
   "cell_type": "code",
   "execution_count": 13,
   "metadata": {
    "ExecuteTime": {
     "end_time": "2021-12-01T23:25:17.926329Z",
     "start_time": "2021-12-01T23:25:16.664430Z"
    }
   },
   "outputs": [],
   "source": [
    "model.set_weights(best_weights)\n",
    "\n",
    "tm1 = np.array(vm1_max)\n",
    "tm2 = np.array(tm1_max)\n",
    "vm1 = np.array(vm2_max)\n",
    "vm2 = np.array(tm2_max)"
   ]
  },
  {
   "cell_type": "markdown",
   "metadata": {},
   "source": [
    "# Training result visualization"
   ]
  },
  {
   "cell_type": "code",
   "execution_count": 14,
   "metadata": {
    "ExecuteTime": {
     "end_time": "2021-12-01T23:25:19.195887Z",
     "start_time": "2021-12-01T23:25:17.927780Z"
    },
    "scrolled": false
   },
   "outputs": [
    {
     "data": {
      "image/png": "[encoded data removed]",
      "text/plain": [
       "<Figure size 432x288 with 1 Axes>"
      ]
     },
     "metadata": {
      "needs_background": "light"
     },
     "output_type": "display_data"
    }
   ],
   "source": [
    "plt.plot(vm1, label=\"VAMP\")\n",
    "plt.plot(vm2, label=\"VAMP2\")\n",
    "plt.plot(tm1, label=\"training VAMP\")\n",
    "plt.plot(tm2, label=\"training VAMP2\")\n",
    "plt.legend()\n",
    "plt.show()"
   ]
  },
  {
   "cell_type": "raw",
   "metadata": {},
   "source": [
    "#states_prob is probability of each frame being in each state\n",
    "#coor_pred is predicted state for every frame\n",
    "#indexes is frames associated with each state\n",
    "#states_num is raw population\n",
    "#pred_ord is states_prob reordered from highest to lowest population"
   ]
  },
  {
   "cell_type": "code",
   "execution_count": 16,
   "metadata": {
    "ExecuteTime": {
     "end_time": "2021-12-01T23:28:54.716173Z",
     "start_time": "2021-12-01T23:25:20.522639Z"
    }
   },
   "outputs": [
    {
     "name": "stdout",
     "output_type": "stream",
     "text": [
      "unassigned frames = 4.0%\n"
     ]
    }
   ],
   "source": [
    "# recalculate output_size from loaded model\n",
    "output_size = model.output_shape[1] // 2\n",
    "\n",
    "# Transform the input trajectory using the network\n",
    "\n",
    "states_prob_all = model.predict([featurization_ord, featurization_ord_lag])\n",
    "states_prob_t = states_prob_all[:, :output_size]\n",
    "states_prob_lag = states_prob_all[:, output_size:]\n",
    "\n",
    "# reorganize the output of the network in order to have every data point transformed by the network in one array\n",
    "start = 0\n",
    "traj_lengths = np.asarray([len(traj) for traj in full_featurization])\n",
    "states_prob = np.zeros((states_prob_t.shape[0] + len(traj_lengths) * tau, output_size))\n",
    "# reconstructs trajectories from states_prob_t except for last tau steps which are from states_prob_lag\n",
    "for l, length_i in enumerate(traj_lengths - tau):\n",
    "    states_prob[start + l * tau : start + l * tau + length_i] = states_prob_t[\n",
    "        start : start + length_i\n",
    "    ]\n",
    "    states_prob[\n",
    "        start + l * tau + length_i : start + l * tau + length_i + tau\n",
    "    ] = states_prob_lag[start + length_i - tau : start + length_i]\n",
    "    start += length_i\n",
    "\n",
    "# Order the output states based on their population\n",
    "# coor_pred = np.argmax(states_prob, axis = 1)\n",
    "# discard low prob (< 60%) assignments, (removes fuzzy states, reduces transitions)\n",
    "coor_pred = np.where(\n",
    "    np.amax(states_prob, axis=1) > 0.6, np.argmax(states_prob, axis=1), -1\n",
    ")\n",
    "print(\n",
    "    \"unassigned frames = \"\n",
    "    + str(round(len(np.where(coor_pred == -1)[0]) / len(states_prob) * 100, 1))\n",
    "    + \"%\"\n",
    ")\n",
    "indexes = [\n",
    "    np.where(coor_pred == np.multiply(np.ones_like(coor_pred), n))\n",
    "    for n in range(output_size)\n",
    "]\n",
    "states_num = [len(i[0]) for i in indexes]\n",
    "states_order = np.argsort(states_num).astype(\"int\")[::-1]\n",
    "\n",
    "pred_ord = states_prob[:, states_order]"
   ]
  },
  {
   "cell_type": "code",
   "execution_count": 17,
   "metadata": {
    "ExecuteTime": {
     "end_time": "2021-12-01T23:29:58.531516Z",
     "start_time": "2021-12-01T23:28:54.737475Z"
    }
   },
   "outputs": [],
   "source": [
    "# reconstruct featurized trajectories\n",
    "traj_lengths = np.asarray([len(traj) for traj in full_featurization])\n",
    "traj_list = []\n",
    "start = 0\n",
    "for length_i in traj_lengths:\n",
    "    traj_list.append(pred_ord[start : start + length_i])\n",
    "    start += length_i"
   ]
  },
  {
   "cell_type": "code",
   "execution_count": null,
   "metadata": {
    "ExecuteTime": {
     "end_time": "2020-11-10T18:11:26.751905Z",
     "start_time": "2020-11-10T18:11:26.634136Z"
    }
   },
   "outputs": [],
   "source": [
    "# reconstruct labelled trajectories\n",
    "labelled = []\n",
    "start = 0\n",
    "for length_i in traj_lengths:\n",
    "    labelled.append(coor_pred[start : start + length_i])\n",
    "    start += length_i"
   ]
  },
  {
   "cell_type": "markdown",
   "metadata": {},
   "source": [
    "# Predict pull sims"
   ]
  },
  {
   "cell_type": "code",
   "execution_count": null,
   "metadata": {
    "ExecuteTime": {
     "end_time": "2020-11-10T19:10:52.856734Z",
     "start_time": "2020-11-10T19:10:51.747709Z"
    }
   },
   "outputs": [],
   "source": [
    "ds_pull = dataset(\n",
    "    \"/home/trayder/abl_data/src_400ns_pull/src*.dcd\",\n",
    "    topology=\"/home/trayder/abl_data/src_pull.pdb\",\n",
    ")"
   ]
  },
  {
   "cell_type": "code",
   "execution_count": null,
   "metadata": {
    "ExecuteTime": {
     "end_time": "2020-11-10T19:13:32.717479Z",
     "start_time": "2020-11-10T19:12:58.775505Z"
    }
   },
   "outputs": [],
   "source": [
    "out_dataset = ds.create_derived(\"pull_featurized\", fmt=\"dir-npy\")\n",
    "\n",
    "for key in ds_pull.keys():\n",
    "    trajectory = []\n",
    "    for i, chunk in enumerate(ds_pull.iterload(key, chunk=100)):\n",
    "        trajectory.append(featurize_traj(chunk, imat_frags))\n",
    "    out_dataset[key] = np.concatenate(trajectory)\n",
    "out_dataset.close()"
   ]
  },
  {
   "cell_type": "code",
   "execution_count": null,
   "metadata": {
    "ExecuteTime": {
     "end_time": "2020-11-10T19:17:59.445269Z",
     "start_time": "2020-11-10T19:17:59.420584Z"
    }
   },
   "outputs": [],
   "source": [
    "pull_featurized = dataset(\"pull_featurized/\")"
   ]
  },
  {
   "cell_type": "code",
   "execution_count": null,
   "metadata": {
    "ExecuteTime": {
     "end_time": "2020-11-10T19:35:42.035620Z",
     "start_time": "2020-11-10T19:35:41.546491Z"
    }
   },
   "outputs": [],
   "source": [
    "pull_state_traj = np.zeros((0, len(pull_featurized[0])))\n",
    "for traj in pull_featurized:\n",
    "    pull_state_traj = np.vstack(\n",
    "        (pull_state_traj, np.argmax(model.predict([traj, traj]), axis=1))\n",
    "    )"
   ]
  },
  {
   "cell_type": "code",
   "execution_count": null,
   "metadata": {
    "ExecuteTime": {
     "end_time": "2020-11-10T19:36:50.279083Z",
     "start_time": "2020-11-10T19:36:50.254180Z"
    }
   },
   "outputs": [],
   "source": [
    "pull_state_traj"
   ]
  },
  {
   "cell_type": "code",
   "execution_count": null,
   "metadata": {
    "ExecuteTime": {
     "end_time": "2020-11-10T20:01:27.278084Z",
     "start_time": "2020-11-10T20:01:27.254141Z"
    }
   },
   "outputs": [],
   "source": [
    "for i in range(len(pull_state_traj)):\n",
    "    indexes = np.unique(pull_state_traj[i], return_index=True)[1]\n",
    "    states_visited = np.asarray(\n",
    "        [pull_state_traj[i][index] for index in sorted(indexes)], dtype=int\n",
    "    )\n",
    "    print(states_visited)"
   ]
  },
  {
   "cell_type": "markdown",
   "metadata": {},
   "source": [
    "# Visualize the population of the states"
   ]
  },
  {
   "cell_type": "code",
   "execution_count": null,
   "metadata": {
    "ExecuteTime": {
     "end_time": "2020-11-10T19:30:43.164908Z",
     "start_time": "2020-11-10T19:30:42.674367Z"
    }
   },
   "outputs": [],
   "source": [
    "# Xtal structure state:\n",
    "xtal_traj = md.load(\"../system_xy_small.pdb\")\n",
    "xtal_feat = featurize_traj(\n",
    "    xtal_traj, imat_frags=src_imat_frags, cleft_residues=src_cleft_residues\n",
    ")\n",
    "xtal_state = np.argmax(model.predict([xtal_feat, xtal_feat])[0][output_size:])\n",
    "print(xtal_state)"
   ]
  },
  {
   "cell_type": "code",
   "execution_count": null,
   "metadata": {
    "ExecuteTime": {
     "end_time": "2020-09-24T23:58:03.373872Z",
     "start_time": "2020-09-24T23:58:03.351338Z"
    }
   },
   "outputs": [],
   "source": [
    "n_frames = len(coor_pred)\n",
    "state_pops = np.round(np.asarray(states_num) / n_frames * 100, 1)\n",
    "for i in np.argsort(states_num)[::-1]:\n",
    "    print(i, states_num[i], str(round(states_num[i] / n_frames * 100, 1)) + \"%\")"
   ]
  },
  {
   "cell_type": "markdown",
   "metadata": {
    "ExecuteTime": {
     "end_time": "2020-08-14T21:30:33.025234Z",
     "start_time": "2020-08-14T21:30:32.986313Z"
    }
   },
   "source": [
    "# Draw states"
   ]
  },
  {
   "cell_type": "code",
   "execution_count": null,
   "metadata": {
    "ExecuteTime": {
     "end_time": "2020-09-24T23:30:12.559110Z",
     "start_time": "2020-09-24T23:30:12.534275Z"
    }
   },
   "outputs": [],
   "source": [
    "def draw_samples(labelled, n_samples, chosen_states=\"all\", n_states=None):\n",
    "    \"\"\"Sample conformations from each state. Samples are randomly selected to be\n",
    "    closer to the cluster center than the mean of the distribution\n",
    "\n",
    "    Parameters\n",
    "    ----------\n",
    "    clustering : Object\n",
    "        should have property clustering.labels_ which corresponds\n",
    "        to the cluster assignment of every frame\n",
    "\n",
    "    n_samples : int\n",
    "        How many samples to return from each state\n",
    "\n",
    "    Returns\n",
    "    -------\n",
    "    selected_pairs_by_state : np.array, dtype=int, shape=(n_states, n_samples, 2)\n",
    "        selected_pairs_by_state[state] gives an array of randomly selected (trj, frame)\n",
    "        pairs from the specified state.\n",
    "\n",
    "    See Also\n",
    "    --------\n",
    "    utils.map_drawn_samples : Extract conformations from MD trajectories by index.\n",
    "\n",
    "    \"\"\"\n",
    "    sequences = labelled\n",
    "    random = check_random_state(None)\n",
    "\n",
    "    # n_states = max(map(lambda x: max(x), sequences)) + 1\n",
    "    # n_states_2 = len(np.unique(np.concatenate(sequences)))\n",
    "    # if any(-1 in traj for traj in sequences):\n",
    "    #    n_states_2 -= 1\n",
    "    # assert n_states == n_states_2, \"Must have non-empty, zero-indexed, consecutive states: found %d states and %d unique states.\" % (n_states, n_states_2)\n",
    "\n",
    "    if chosen_states == \"all\":\n",
    "        chosen_states = range(n_states)\n",
    "    #         chosen_states = np.unique(np.concatenate(labelled))\n",
    "    #         chosen_states = np.delete(chosen_states, np.where(chosen_states==-1))\n",
    "\n",
    "    selected_pairs_by_state = []\n",
    "    for state in chosen_states:\n",
    "        all_frames = [np.where(a == state)[0] for a in sequences]\n",
    "        if len(np.concatenate(all_frames)) < n_samples:\n",
    "            if len(concatenate(all_frames)) == 0:\n",
    "                print(\"WARNING: State \" + str(state) + \" is empty: Skipping\")\n",
    "                selected_pairs_by_state.append(np.asarray([(-1, -1)] * n_samples))\n",
    "                continue\n",
    "            print(\"WARNING: Only \" + str(len(all_frames)) + \" in state \" + str(state))\n",
    "        pairs = [\n",
    "            (trj, frame) for (trj, frames) in enumerate(all_frames) for frame in frames\n",
    "        ]\n",
    "        selected_pairs_by_state.append(\n",
    "            [pairs[random.choice(len(pairs))] for i in range(n_samples)]\n",
    "        )\n",
    "\n",
    "    return np.array(selected_pairs_by_state)"
   ]
  },
  {
   "cell_type": "code",
   "execution_count": null,
   "metadata": {
    "ExecuteTime": {
     "end_time": "2020-09-24T23:28:13.498455Z",
     "start_time": "2020-09-24T23:28:13.452123Z"
    }
   },
   "outputs": [],
   "source": [
    "def output_data(selected_pairs_by_state, file_path=None, ds=None):\n",
    "    if not os.path.exists(file_path):\n",
    "        os.makedirs(file_path)\n",
    "\n",
    "    for state, samples in enumerate(selected_pairs_by_state):\n",
    "        print(\"\\n\" + str(state), end=\" | \")\n",
    "        samples = selected_pairs_by_state[state]\n",
    "        if -1 in samples:\n",
    "            print(\"\\n\" + str(state) + \" | Empty\", end=\"\")\n",
    "            continue\n",
    "        print(\"\\n\" + str(state), end=\" | \")\n",
    "\n",
    "        traj = None\n",
    "\n",
    "        for pair_num, pair in enumerate(samples):\n",
    "            print(pair_num, end=\" \")\n",
    "            traj_num, frame = pair\n",
    "            traj_num = traj_num\n",
    "            try:\n",
    "                traj = traj.join(ds.get(traj_num)[frame])\n",
    "            except:\n",
    "                traj = ds.get(traj_num)[frame]\n",
    "        filename = str(file_path) + \"/State\" + str(state) + \".dcd\"\n",
    "        traj.save_dcd(filename)"
   ]
  },
  {
   "cell_type": "code",
   "execution_count": null,
   "metadata": {
    "ExecuteTime": {
     "end_time": "2020-09-24T23:30:17.787696Z",
     "start_time": "2020-09-24T23:30:17.390129Z"
    }
   },
   "outputs": [],
   "source": [
    "selected_pairs_by_state = draw_samples(labelled, 10, n_states=output_size)\n",
    "print(selected_pairs_by_state.shape)"
   ]
  },
  {
   "cell_type": "code",
   "execution_count": null,
   "metadata": {
    "ExecuteTime": {
     "end_time": "2020-09-24T23:32:32.549724Z",
     "start_time": "2020-09-24T23:30:24.022285Z"
    },
    "scrolled": true
   },
   "outputs": [],
   "source": [
    "output_data(selected_pairs_by_state, file_path=\"30_states\", ds=ds)"
   ]
  },
  {
   "cell_type": "markdown",
   "metadata": {},
   "source": [
    "# Markov Model Estimation"
   ]
  },
  {
   "cell_type": "markdown",
   "metadata": {},
   "source": [
    "## Prepare multiple trajectories  "
   ]
  },
  {
   "cell_type": "code",
   "execution_count": null,
   "metadata": {
    "ExecuteTime": {
     "end_time": "2020-09-24T23:58:03.725028Z",
     "start_time": "2020-09-24T23:58:03.374665Z"
    }
   },
   "outputs": [],
   "source": [
    "# raw transition counts matrix\n",
    "counts_matrix = np.zeros((output_size, output_size), dtype=int)\n",
    "for traj in labelled:\n",
    "    for i in range(len(traj[:-1])):\n",
    "        if -1 in [traj[i], traj[i + 1]]:\n",
    "            continue\n",
    "        counts_matrix[traj[i], traj[i + 1]] += 1\n",
    "\n",
    "# symmetric binary connectivity matrix\n",
    "binary_matrix = np.zeros_like(counts_matrix, dtype=int)\n",
    "for i, j in zip(np.where(counts_matrix != 0)[0], np.where(counts_matrix != 0)[1]):\n",
    "    binary_matrix[i, j] = 1\n",
    "    binary_matrix[j, i] = 1\n",
    "\n",
    "# transition probability matrix\n",
    "trans_matrix = np.zeros((0, len(counts_matrix)))\n",
    "for row in counts_matrix:\n",
    "    trans_matrix = np.vstack((trans_matrix, row / np.sum(row)))"
   ]
  },
  {
   "cell_type": "code",
   "execution_count": null,
   "metadata": {
    "ExecuteTime": {
     "end_time": "2020-09-24T23:58:03.745522Z",
     "start_time": "2020-09-24T23:58:03.726102Z"
    }
   },
   "outputs": [],
   "source": [
    "def advanced_mfpt(transmat, start_state=None, sink_states=None, n_iter=100, lag_time=1):\n",
    "    \"\"\"Simulates movement through the transition matrix and returns a list of first passage times\n",
    "    between start_state (int) and sink_states (list) for calculating mean, median and distribution\n",
    "    of first passage times\n",
    "    mfpt is calculated in time units of the transmat, it is returned multiplied by lag_time,\n",
    "    choose a number that will scale to your desired units\n",
    "    With sufficient iterations will result in same mfpt as calculated from transition path theory\n",
    "\n",
    "    Returns:\n",
    "    list of first passage times\n",
    "\n",
    "    Can easily be modded to return a list of transitions, for movie making etc.\n",
    "    \"\"\"\n",
    "\n",
    "    transprob = transmat.copy()\n",
    "    # create a copy of transmat with cumulative probabilities for the transitions out of each state\n",
    "    # to enable use of np.searchsorted to randomly select transitions\n",
    "    for i, state in enumerate(transmat):\n",
    "        for j, transition in enumerate(state):\n",
    "            transprob[i, j] = np.sum(transmat[i, : j + 1])\n",
    "    nstep_list = []\n",
    "    for i in range(n_iter):\n",
    "        state = start_state\n",
    "        nsteps = 0\n",
    "        while state not in sink_states:\n",
    "            nsteps += 1\n",
    "            random_number = random.random()\n",
    "            new_state = np.searchsorted(transprob[state], random_number)\n",
    "            #     if (new_state != state):\n",
    "            #         print(new_state)\n",
    "            state = new_state\n",
    "            if nsteps > 10000:\n",
    "                nsteps = -1\n",
    "                break\n",
    "        nstep_list.append(nsteps)\n",
    "    return np.asarray(nstep_list) * lag_time"
   ]
  },
  {
   "cell_type": "code",
   "execution_count": null,
   "metadata": {
    "ExecuteTime": {
     "end_time": "2020-09-25T00:00:29.389773Z",
     "start_time": "2020-09-24T23:58:03.746808Z"
    }
   },
   "outputs": [],
   "source": [
    "for start_state in range(len(trans_matrix)):\n",
    "    states_list = list(range(len(trans_matrix)))\n",
    "    states_list.pop(start_state)\n",
    "    nstep_list = advanced_mfpt(\n",
    "        trans_matrix,\n",
    "        start_state=start_state,\n",
    "        sink_states=states_list,\n",
    "        lag_time=tau,\n",
    "        n_iter=100,\n",
    "    )\n",
    "    print(start_state, np.mean(nstep_list), np.median(nstep_list))"
   ]
  },
  {
   "cell_type": "code",
   "execution_count": null,
   "metadata": {
    "ExecuteTime": {
     "end_time": "2020-09-25T00:00:59.512308Z",
     "start_time": "2020-09-25T00:00:29.391097Z"
    },
    "scrolled": true
   },
   "outputs": [],
   "source": [
    "start_state = 3\n",
    "states_list = list(range(len(trans_matrix)))\n",
    "states_list.pop(start_state)\n",
    "nstep_list = advanced_mfpt(\n",
    "    trans_matrix,\n",
    "    start_state=start_state,\n",
    "    sink_states=states_list,\n",
    "    lag_time=1,\n",
    "    n_iter=1000,\n",
    ")\n",
    "print(np.median(nstep_list))\n",
    "print(np.mean(nstep_list))\n",
    "plt.hist(np.asarray(nstep_list))"
   ]
  },
  {
   "cell_type": "code",
   "execution_count": null,
   "metadata": {
    "ExecuteTime": {
     "end_time": "2020-09-25T00:00:59.541434Z",
     "start_time": "2020-09-25T00:00:59.513298Z"
    },
    "scrolled": true
   },
   "outputs": [],
   "source": [
    "# states i,j forward/reverse transitions\n",
    "print(\"i\\tj\\tfwd\\trev\\n----------------------------\")\n",
    "for i, j in zip(np.where(counts_matrix != 0)[0], np.where(counts_matrix != 0)[1]):\n",
    "    if j == i:\n",
    "        continue\n",
    "    print(i, \"\\t\", j, \"\\t\", counts_matrix[i, j], \"\\t\", counts_matrix[j, i])"
   ]
  },
  {
   "cell_type": "code",
   "execution_count": null,
   "metadata": {
    "ExecuteTime": {
     "end_time": "2020-09-25T00:00:59.656816Z",
     "start_time": "2020-09-25T00:00:59.542245Z"
    },
    "scrolled": true
   },
   "outputs": [],
   "source": [
    "# number of connected state, per state\n",
    "hub_scores = np.sum(binary_matrix, axis=1) - 1\n",
    "for state, score in zip(np.argsort(hub_scores)[::-1], np.sort(hub_scores)[::-1]):\n",
    "    print(state, score)"
   ]
  },
  {
   "cell_type": "code",
   "execution_count": null,
   "metadata": {
    "ExecuteTime": {
     "end_time": "2020-09-25T00:00:59.755607Z",
     "start_time": "2020-09-25T00:00:59.657638Z"
    }
   },
   "outputs": [],
   "source": [
    "# Calculate independent networks\n",
    "state_nums = list(range(output_size))\n",
    "all_networks = []\n",
    "checked_states = []\n",
    "while state_nums:\n",
    "    this_network = []\n",
    "    state = state_nums.pop()\n",
    "    if state in checked_states:\n",
    "        continue\n",
    "    check_states = [state]\n",
    "    while check_states:\n",
    "        check_state = check_states.pop()\n",
    "        if check_state in checked_states:\n",
    "            continue\n",
    "        this_network.append(check_state)\n",
    "        checked_states.append(check_state)\n",
    "        check_states = check_states + list(np.where(binary_matrix[check_state])[0])\n",
    "\n",
    "    all_networks.append(this_network)\n",
    "for network in all_networks:\n",
    "    print(network)"
   ]
  },
  {
   "cell_type": "code",
   "execution_count": null,
   "metadata": {
    "ExecuteTime": {
     "end_time": "2020-09-25T00:00:59.945641Z",
     "start_time": "2020-09-25T00:00:59.756426Z"
    }
   },
   "outputs": [],
   "source": [
    "def calc_transmin(counts_matrix, n_results=None):\n",
    "    \"\"\"Calculates the number of transitions into and out of each state\n",
    "    returns the lower number (in vs out) for each state\n",
    "    Effectively identifies poor connectivity on an individual state basis\"\"\"\n",
    "    n_states = len(counts_matrix)\n",
    "    if not n_results:\n",
    "        n_results = n_states\n",
    "    trans_min = np.zeros(n_states)\n",
    "    for state in range(n_states):\n",
    "        trans_self = counts_matrix[state, state]\n",
    "        trans_out = np.sum(counts_matrix[state, :]) - trans_self\n",
    "        trans_in = np.sum(counts_matrix[:, state]) - trans_self\n",
    "        trans_min[state] = min(trans_out, trans_in)\n",
    "\n",
    "    return trans_min"
   ]
  },
  {
   "cell_type": "code",
   "execution_count": null,
   "metadata": {
    "ExecuteTime": {
     "end_time": "2020-09-25T00:01:00.097097Z",
     "start_time": "2020-09-25T00:00:59.946455Z"
    }
   },
   "outputs": [],
   "source": [
    "trans_min = calc_transmin(counts_matrix)\n",
    "for state in trans_min.argsort():\n",
    "    print(\n",
    "        \"State  \"\n",
    "        + str(state)\n",
    "        + \"\\tpopulation:  \"\n",
    "        + str(states_num[state])\n",
    "        + \"\\t transmin: \"\n",
    "        + str(trans_min[state])\n",
    "    )"
   ]
  },
  {
   "cell_type": "code",
   "execution_count": null,
   "metadata": {
    "ExecuteTime": {
     "end_time": "2020-09-25T00:01:00.457692Z",
     "start_time": "2020-09-25T00:01:00.097973Z"
    }
   },
   "outputs": [],
   "source": [
    "def join_clusters(counts_matrix, final_clusters=None, populations=None):\n",
    "    \"\"\"\n",
    "    Finds the highest minimum value between forward and backward transitions...\n",
    "    Merges most connected pairs of states together and reports\n",
    "    the <final_clusters> least connected states using hard to read code\n",
    "\n",
    "    Don't screw with this, you'll fuck it up for sure. Learn about the\n",
    "    difference between copying and assigning matrices and develop a test\n",
    "    case you can calculate by hand\n",
    "\n",
    "    Also note that due to discretization error, there is a bias towards joining\n",
    "    clusters into the largest blob rather than forming multiple aggregates.\n",
    "    This bias only really emerges after the largest connectivity issues are fixed\n",
    "    \"\"\"\n",
    "\n",
    "    counts_matrix = counts_matrix.copy()\n",
    "    diagonal = np.diagonal(counts_matrix).copy()\n",
    "    np.fill_diagonal(counts_matrix, 0)\n",
    "    min_matrix = counts_matrix.copy()\n",
    "\n",
    "    cluster_record = [[i] for i in range(counts_matrix.shape[0])]\n",
    "    n_clusters = counts_matrix.shape[0]\n",
    "\n",
    "    while n_clusters > final_clusters:\n",
    "\n",
    "        for i in range(len(min_matrix)):\n",
    "            for j in range(i + 1, len(min_matrix)):\n",
    "                min_matrix[i, j] = min(counts_matrix[i, j], counts_matrix[j, i])\n",
    "                min_matrix[j, i] = min_matrix[i, j]\n",
    "\n",
    "        x = np.argmax(min_matrix) // min_matrix.shape[0]\n",
    "        y = np.argmax(min_matrix) - x * min_matrix.shape[0]\n",
    "\n",
    "        # print(\"merging \"+str(y)+\" into \"+str(x))\n",
    "\n",
    "        counts_matrix[x] = counts_matrix[x] + counts_matrix[y]\n",
    "        counts_matrix[y] = counts_matrix[y] * 0\n",
    "        counts_matrix[:, x] = counts_matrix[:, x] + counts_matrix[:, y]\n",
    "        counts_matrix[:, y] = counts_matrix[:, y] * 0\n",
    "\n",
    "        diagonal = diagonal + np.diagonal(counts_matrix)\n",
    "        diagonal[x] = diagonal[x] + diagonal[y]\n",
    "        diagonal[y] = 0\n",
    "        np.fill_diagonal(counts_matrix, 0)\n",
    "\n",
    "        cluster_record[x] = cluster_record[x] + cluster_record[y]\n",
    "        cluster_record[y] = [-1]\n",
    "\n",
    "        n_clusters -= 1\n",
    "\n",
    "        print(\"*LUMP*\")\n",
    "        for i in cluster_record:\n",
    "            if (i != [-1]) & (len(i) > 1):\n",
    "                print(i)\n",
    "\n",
    "    for i in range(len(diagonal)):\n",
    "        counts_matrix[i, i] = diagonal[i]\n",
    "\n",
    "    for i in reversed(range(len(cluster_record))):\n",
    "        if cluster_record[i] == [-1]:\n",
    "            counts_matrix = np.delete(counts_matrix, i, 0)\n",
    "            counts_matrix = np.delete(counts_matrix, i, 1)\n",
    "            cluster_record = np.delete(cluster_record, i)\n",
    "\n",
    "    reduced_matrix = counts_matrix\n",
    "\n",
    "    return reduced_matrix, cluster_record"
   ]
  },
  {
   "cell_type": "code",
   "execution_count": null,
   "metadata": {
    "ExecuteTime": {
     "end_time": "2020-09-25T00:01:00.499525Z",
     "start_time": "2020-09-25T00:01:00.458771Z"
    }
   },
   "outputs": [],
   "source": [
    "def find_gateways(counts_matrix, cluster_record):\n",
    "    \"\"\"Identifies the state in each lump that is most connected to the largest cluster\"\"\"\n",
    "    # everything except the largest cluster is a bad_lump\n",
    "    bad_lumps = cluster_record[\n",
    "        np.asarray(\n",
    "            [len(cluster_record[i]) for i in range(len(cluster_record))]\n",
    "        ).argsort()\n",
    "    ][:-1]\n",
    "    chosen_states = np.asarray([], dtype=int)\n",
    "    for lump in bad_lumps:\n",
    "        transmax = 0\n",
    "        for cluster in lump:\n",
    "            transmat = counts_matrix.copy()\n",
    "            for cluster2 in lump:\n",
    "                transmat[cluster][cluster2] = 0\n",
    "            if np.amax(transmat[cluster]) >= transmax:\n",
    "                transmax = np.amax(transmat[cluster])\n",
    "                gateway = cluster\n",
    "        chosen_states = np.append(chosen_states, gateway)\n",
    "\n",
    "    return chosen_states"
   ]
  },
  {
   "cell_type": "code",
   "execution_count": null,
   "metadata": {
    "ExecuteTime": {
     "end_time": "2020-09-25T00:01:00.659407Z",
     "start_time": "2020-09-25T00:01:00.500574Z"
    },
    "scrolled": true
   },
   "outputs": [],
   "source": [
    "reduced_matrix, cluster_record = join_clusters(counts_matrix, 1)"
   ]
  },
  {
   "cell_type": "code",
   "execution_count": null,
   "metadata": {
    "ExecuteTime": {
     "end_time": "2020-09-25T00:01:00.780044Z",
     "start_time": "2020-09-25T00:01:00.660251Z"
    }
   },
   "outputs": [],
   "source": [
    "for i in cluster_record:\n",
    "    print(i)"
   ]
  },
  {
   "cell_type": "code",
   "execution_count": null,
   "metadata": {
    "ExecuteTime": {
     "end_time": "2020-09-25T00:01:00.896503Z",
     "start_time": "2020-09-25T00:01:00.780854Z"
    }
   },
   "outputs": [],
   "source": [
    "chosen_states_connect = find_gateways(counts_matrix, cluster_record)\n",
    "chosen_states_connect"
   ]
  },
  {
   "cell_type": "markdown",
   "metadata": {},
   "source": [
    "# Estimate the implied timescales"
   ]
  },
  {
   "cell_type": "code",
   "execution_count": null,
   "metadata": {
    "ExecuteTime": {
     "end_time": "2020-08-30T00:33:01.291798Z",
     "start_time": "2020-08-30T00:32:59.456527Z"
    },
    "scrolled": false
   },
   "outputs": [],
   "source": [
    "max_tau = 20\n",
    "lag = np.arange(1, max_tau, 1)\n",
    "its = vamp.get_its(traj_list, lag)\n",
    "vamp.plot_its(its, lag)"
   ]
  },
  {
   "cell_type": "code",
   "execution_count": null,
   "metadata": {},
   "outputs": [],
   "source": [
    "plt.plot(lag, its.T[:, ::-1]);"
   ]
  },
  {
   "cell_type": "markdown",
   "metadata": {},
   "source": [
    "# Chapman-Kolmogorov test for the estimated koopman operator"
   ]
  },
  {
   "cell_type": "code",
   "execution_count": null,
   "metadata": {
    "ExecuteTime": {
     "end_time": "2020-08-30T00:33:24.293260Z",
     "start_time": "2020-08-30T00:33:16.001604Z"
    },
    "scrolled": true
   },
   "outputs": [],
   "source": [
    "steps = 8\n",
    "tau_msm = 35\n",
    "predicted, estimated = vamp.get_ck_test(traj_list, steps, tau_msm)\n",
    "vamp.plot_ck_test(predicted, estimated, output_size, steps, tau_msm)"
   ]
  },
  {
   "cell_type": "code",
   "execution_count": null,
   "metadata": {
    "ExecuteTime": {
     "end_time": "2020-08-25T23:41:15.928762Z",
     "start_time": "2020-08-25T23:40:58.777326Z"
    }
   },
   "outputs": [],
   "source": [
    "n_states = output_size\n",
    "steps = 10\n",
    "tau_msm = 1\n",
    "pred, est = vamp.get_ck_test(traj_list, steps, tau_msm)"
   ]
  },
  {
   "cell_type": "code",
   "execution_count": null,
   "metadata": {
    "ExecuteTime": {
     "end_time": "2020-08-25T23:52:45.332565Z",
     "start_time": "2020-08-25T23:48:59.138622Z"
    }
   },
   "outputs": [],
   "source": [
    "plt.rcParams[\"figure.dpi\"] = 436\n",
    "ncols = 6\n",
    "nplots = n_states ** 2\n",
    "nrows = int(nplots / ncols)\n",
    "fig, ax = plt.subplots(nrows, ncols, sharex=True, sharey=True, figsize=(6, 1 * nrows))\n",
    "plotnum = 0\n",
    "for i in range(n_states):\n",
    "    for j in range(n_states):\n",
    "        index_j = plotnum % ncols\n",
    "        index_i = int(plotnum / ncols)\n",
    "        ax[index_i][index_j].plot(range(0, steps * tau, tau), pred[i, j], color=\"b\")\n",
    "\n",
    "        ax[index_i][index_j].plot(\n",
    "            range(0, steps * tau, tau), est[i, j], color=\"r\", linestyle=\"--\"\n",
    "        )\n",
    "\n",
    "        ax[index_i][index_j].set_title(str(i + 1) + \"->\" + str(j + 1), fontsize=\"small\")\n",
    "        plotnum += 1\n",
    "\n",
    "ax[0][0].set_ylim((-0.1, 1.1))\n",
    "ax[0][0].set_xlim((0, steps * tau))\n",
    "ax[0][0].axes.get_xaxis().set_ticks(np.round(np.linspace(0, steps * tau, 3)))\n",
    "plt.show()"
   ]
  },
  {
   "cell_type": "markdown",
   "metadata": {},
   "source": [
    "# Hbonds"
   ]
  },
  {
   "cell_type": "code",
   "execution_count": null,
   "metadata": {},
   "outputs": [],
   "source": [
    "# WIP, currently very memory inefficient"
   ]
  },
  {
   "cell_type": "code",
   "execution_count": null,
   "metadata": {},
   "outputs": [],
   "source": [
    "def calc_hbonds(\n",
    "    traj,\n",
    "    freq=None,\n",
    "    ligresname=\"\",\n",
    "    occupancy_type=\"binary\",\n",
    "    periodic=True,\n",
    "    distance_cutoff=0.25,\n",
    "    angle_cutoff=2.0 * np.pi / 3.0,\n",
    "):\n",
    "    \"\"\"\n",
    "    Calculates angles and distances for all donor-acceptor pairs then returns the\n",
    "    occupancy for a reduced set of hydrogen bonds depending on given criteria\n",
    "\n",
    "    Parameters\n",
    "    ----------\n",
    "    traj : mdtraj trajectory file\n",
    "    freq : only return hydrogen bonds that exist for longer than this fraction of time\n",
    "    ligresname : if provided only include hydrogen bonds that include this residue name\n",
    "        hydrogen bonds are calculated separately based on resid then output as an\n",
    "        average based on resname\n",
    "    occupancy_type : if binary, occupancy only incorporates one instance of each\n",
    "        hydrogen bond per frame, otherwise multiple instances of a hydrogen bond per\n",
    "        frame will increase the occupancy\n",
    "    periodic : periodic boundaries are used when calculating angles and distances\n",
    "    distance_cutoff : distance criteria for determining hydrogen bonds (nm)\n",
    "    angle_cutoff : angle criteria for determining hydrogen bonds (radians)\n",
    "\n",
    "    Returns\n",
    "    -------\n",
    "    hbond_matrix : 2D array (hbonds,frames), values are the number of each hydrogen bond\n",
    "        occuring in each frame.\n",
    "    unique_triplets : Array of triplets (hbonds,3), [donor, hydrogen, acceptor] atom\n",
    "        indices for the first occurence (by topology) of each unique hydrogen bond\n",
    "    occupancy : array (hbonds,1), calculated occupancy for each hydrogen bond\n",
    "    \"\"\"\n",
    "\n",
    "    if traj.topology is None:\n",
    "        raise ValueError(\"traj must contain topology information\")\n",
    "\n",
    "    def get_donors(e0, e1):\n",
    "        elems = set((e0, e1))\n",
    "        bonditer = traj.topology.bonds\n",
    "        atoms = [\n",
    "            (b[0], b[1])\n",
    "            for b in bonditer\n",
    "            if set((b[0].element.symbol, b[1].element.symbol)) == elems\n",
    "        ]\n",
    "\n",
    "        indices = []\n",
    "        for a0, a1 in atoms:\n",
    "            pair = (a0.index, a1.index)\n",
    "            # make sure to get the pair in the right order, so that the index\n",
    "            # for e0 comes before e1\n",
    "            if a0.element.symbol == e1:\n",
    "                pair = pair[::-1]\n",
    "            indices.append(pair)\n",
    "\n",
    "        return indices\n",
    "\n",
    "    nh_donors = get_donors(\"N\", \"H\")\n",
    "    oh_donors = get_donors(\"O\", \"H\")\n",
    "    xh_donors = np.asarray(list(nh_donors) + list(oh_donors))\n",
    "\n",
    "    assert len(xh_donors) > 0, \"No hydrogens found\"\n",
    "\n",
    "    acceptors = [\n",
    "        a.index\n",
    "        for a in traj.topology.atoms\n",
    "        if a.element.symbol == \"O\" or a.element.symbol == \"N\"\n",
    "    ]\n",
    "\n",
    "    angle_triplets = np.array(\n",
    "        [(e[0][0], e[0][1], e[1]) for e in product(xh_donors, acceptors)]\n",
    "    )\n",
    "\n",
    "    # filter angle triplets to only those involving the ligand (based on provided ligand resname)\n",
    "    if ligresname:\n",
    "        lig_triplets = np.zeros((0, 3), dtype=int)\n",
    "        for triplet in angle_triplets:\n",
    "            if np.in1d(\n",
    "                np.asarray([traj.topology.atom(i).residue.name for i in triplet]),\n",
    "                ligresname,\n",
    "            ).any():\n",
    "                lig_triplets = np.vstack((lig_triplets, triplet))\n",
    "        angle_triplets = lig_triplets\n",
    "    distance_pairs = angle_triplets[:, [1, 2]]  # possible H..acceptor pairs\n",
    "\n",
    "    angles = md.compute_angles(traj, angle_triplets, periodic=periodic)\n",
    "    distances = md.compute_distances(traj, distance_pairs, periodic=periodic)\n",
    "\n",
    "    mask = np.logical_and(distances < distance_cutoff, angles > angle_cutoff)\n",
    "    mask = np.where(mask, 1, 0)\n",
    "\n",
    "    # convert triplets to unique names\n",
    "    def convert_to_name(index, ligresname=ligresname):\n",
    "        resname = traj.topology.atom(int(index)).residue.name\n",
    "        resid = str(traj.topology.atom(int(index)).residue.resSeq)\n",
    "        atomname = traj.topology.atom(int(index)).name\n",
    "        # allows for multiple ligand residues of the same name (e.g. polysaccharides)\n",
    "        name = resname + resid + \"-\" + atomname + \" \"\n",
    "        return name\n",
    "\n",
    "    convert_to_name = np.vectorize(convert_to_name)\n",
    "    triplet_names = [i + j + k for i, j, k in convert_to_name(angle_triplets)]\n",
    "\n",
    "    # reduce to unique names\n",
    "    unique_triplet_names, mapping = np.unique(triplet_names, return_inverse=True)\n",
    "    n_unique_triplets = len(unique_triplet_names)\n",
    "\n",
    "    # collapse all duplicate bonds into hbond_matrix, record first instance of hbonds as unique_triplets\n",
    "    hbond_matrix = np.zeros((0, mask.shape[0]), dtype=int)\n",
    "    unique_triplets = np.zeros((0, 3), dtype=int)\n",
    "    for index in range(n_unique_triplets):\n",
    "        hbond_matrix = np.vstack(\n",
    "            (hbond_matrix, np.sum(mask[:, np.where(mapping == index)[0]], axis=1))\n",
    "        )\n",
    "        unique_triplets = np.vstack(\n",
    "            (unique_triplets, angle_triplets[np.where(mapping == index)[0][0]])\n",
    "        )\n",
    "\n",
    "    # Update names and mapping after collapse\n",
    "    triplet_names = [i + j + k for i, j, k in convert_to_name(unique_triplets)]\n",
    "    unique_triplet_names, mapping = np.unique(triplet_names, return_inverse=True)\n",
    "\n",
    "    # calculate occupancy\n",
    "    if occupancy_type == \"binary\":\n",
    "        binary_matrix = np.where(hbond_matrix, 1, 0)\n",
    "        occupancy = np.sum(binary_matrix, axis=1) / float(binary_matrix.shape[1])\n",
    "    else:\n",
    "        occupancy = np.sum(hbond_matrix, axis=1) / float(hbond_matrix.shape[1])\n",
    "\n",
    "    redundants = np.asarray([])\n",
    "    for index in range(n_unique_triplets):\n",
    "        dup_list = np.where(mapping == index)[0]\n",
    "        occupancy[dup_list[0]] = np.average(occupancy[dup_list])\n",
    "        redundants = np.concatenate((redundants, dup_list[1:]))\n",
    "\n",
    "    occupancy = np.delete(occupancy, redundants)\n",
    "    hbond_matrix = np.delete(hbond_matrix, redundants, 0)\n",
    "    unique_triplets = np.delete(unique_triplets, redundants, 0)\n",
    "\n",
    "    # Obliterate low frequency bonds\n",
    "    if freq:\n",
    "        hbond_matrix = np.delete(hbond_matrix, np.where(occupancy < freq), 0)\n",
    "        unique_triplets = np.delete(unique_triplets, np.where(occupancy < freq), 0)\n",
    "        occupancy = np.delete(occupancy, np.where(occupancy < freq), 0)\n",
    "\n",
    "    return hbond_matrix, unique_triplets, occupancy"
   ]
  },
  {
   "cell_type": "code",
   "execution_count": null,
   "metadata": {},
   "outputs": [],
   "source": [
    "hbond_matrix, unique_triplets, occupancy = calc_hbonds(\n",
    "    traj,\n",
    "    freq=0.1,\n",
    "    ligresname=\"IMAT\",\n",
    "    distance_cutoff=0.3,\n",
    "    angle_cutoff=100 / 180 * np.pi,\n",
    ")"
   ]
  },
  {
   "cell_type": "code",
   "execution_count": null,
   "metadata": {},
   "outputs": [],
   "source": [
    "\"\"\"\n",
    "format of Hbond printout\n",
    "\"\"\"\n",
    "# label = lambda hbond : '%s -- %s -- %s\\t' % (traj.topology.atom(hbond[0]), traj.topology.atom(hbond[1]), traj.topology.atom(hbond[2]))\n",
    "label = lambda hbond: \"%s_%s\\t\" % (\n",
    "    str(traj.topology.atom(hbond[0]).residue).title()\n",
    "    + \"-\"\n",
    "    + traj.topology.atom(hbond[0]).name,\n",
    "    str(traj.topology.atom(hbond[2]).residue).title()\n",
    "    + \"-\"\n",
    "    + traj.topology.atom(hbond[2]).name,\n",
    ")\n",
    "\n",
    "# OUTFILE=open(\"20_bac_hbonds.txt\", \"w\")\n",
    "\n",
    "for i, hbond in enumerate(unique_triplets):\n",
    "    if occupancy[i] > 0.01:\n",
    "        line = label(hbond) + \"\\t\" + str(round(occupancy[i], 4) * 100) + \"%\"\n",
    "        print(line)\n",
    "    # OUTFILE.write(line+\"\\n\")\n",
    "\n",
    "# OUTFILE.close()"
   ]
  }
 ],
 "metadata": {
  "anaconda-cloud": {},
  "kernelspec": {
   "display_name": "Python 3 (ipykernel)",
   "language": "python",
   "name": "python3"
  },
  "language_info": {
   "codemirror_mode": {
    "name": "ipython",
    "version": 3
   },
   "file_extension": ".py",
   "mimetype": "text/x-python",
   "name": "python",
   "nbconvert_exporter": "python",
   "pygments_lexer": "ipython3",
   "version": "3.8.12"
  },
  "varInspector": {
   "cols": {
    "lenName": 16,
    "lenType": 16,
    "lenVar": 40
   },
   "kernels_config": {
    "python": {
     "delete_cmd_postfix": "",
     "delete_cmd_prefix": "del ",
     "library": "var_list.py",
     "varRefreshCmd": "print(var_dic_list())"
    },
    "r": {
     "delete_cmd_postfix": ") ",
     "delete_cmd_prefix": "rm(",
     "library": "var_list.r",
     "varRefreshCmd": "cat(var_dic_list()) "
    }
   },
   "types_to_exclude": [
    "module",
    "function",
    "builtin_function_or_method",
    "instance",
    "_Feature"
   ],
   "window_display": false
  }
 },
 "nbformat": 4,
 "nbformat_minor": 2
}
