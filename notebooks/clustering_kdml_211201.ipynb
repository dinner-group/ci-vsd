{
 "cells": [
  {
   "cell_type": "code",
   "execution_count": 49,
   "metadata": {},
   "outputs": [],
   "source": [
    "import sys\n",
    "import importlib\n",
    "import gc\n",
    "import glob\n",
    "import random\n",
    "from itertools import combinations\n",
    "\n",
    "import numpy as np\n",
    "import sklearn\n",
    "import scipy\n",
    "from scipy.spatial.distance import pdist\n",
    "\n",
    "import matplotlib as mpl\n",
    "import matplotlib.pyplot as plt\n",
    "from matplotlib import ticker\n",
    "import seaborn as sns\n",
    "\n",
    "import mdtraj as md\n",
    "\n",
    "from pyclustering.cluster.kmedoids import kmedoids\n",
    "from pyclustering.cluster.center_initializer import kmeans_plusplus_initializer\n",
    "from pyclustering.utils.metric import distance_metric\n",
    "\n",
    "from sklearn_extra.cluster import KMedoids"
   ]
  },
  {
   "cell_type": "code",
   "execution_count": 2,
   "metadata": {},
   "outputs": [],
   "source": [
    "sys.path.insert(1, \"../python\")\n",
    "sys.path.insert(1, \"../..\")\n",
    "sys.path.insert(1, \"/project2/roux/scguo/KDML/\")\n",
    "import util\n",
    "import plotting\n",
    "import kdml"
   ]
  },
  {
   "cell_type": "code",
   "execution_count": 3,
   "metadata": {},
   "outputs": [],
   "source": [
    "plt.style.use(\"custom\")  # custom style sheet\n",
    "plt.style.use(\"muted\")  # muted color theme from SciencePlots"
   ]
  },
  {
   "cell_type": "code",
   "execution_count": 4,
   "metadata": {},
   "outputs": [],
   "source": [
    "cm_seq = sns.cubehelix_palette(\n",
    "    start=0, rot=-0.70, gamma=0.40, light=0.9, dark=0.1, as_cmap=True, reverse=True\n",
    ")\n",
    "colors = mpl.colors.to_rgba_array(\n",
    "    [\n",
    "        \"#364B9A\",\n",
    "        \"#4A7BB7\",\n",
    "        \"#6EA6CD\",\n",
    "        \"#98CAE1\",\n",
    "        \"#C2E4EF\",\n",
    "        \"#EAECCC\",\n",
    "        \"#FEDA8B\",\n",
    "        \"#FDB366\",\n",
    "        \"#F67E4B\",\n",
    "        \"#DD3D2D\",\n",
    "        \"#A50026\",\n",
    "    ]\n",
    ")\n",
    "cm_div = mpl.colors.LinearSegmentedColormap.from_list(\"\", colors)"
   ]
  },
  {
   "cell_type": "markdown",
   "metadata": {},
   "source": [
    "# Load toy data"
   ]
  },
  {
   "cell_type": "code",
   "execution_count": 5,
   "metadata": {},
   "outputs": [
    {
     "name": "stdout",
     "output_type": "stream",
     "text": [
      "(200000000, 3)\n"
     ]
    }
   ],
   "source": [
    "double_well_data = np.load(\"/project2/roux/scguo/toy_models/double_well.npy\")\n",
    "print(double_well_data.shape)"
   ]
  },
  {
   "cell_type": "code",
   "execution_count": 6,
   "metadata": {},
   "outputs": [],
   "source": [
    "data = np.split(double_well_data[::1000, 1:], 100)"
   ]
  },
  {
   "cell_type": "code",
   "execution_count": 7,
   "metadata": {},
   "outputs": [
    {
     "data": {
      "text/plain": [
       "(2000, 2)"
      ]
     },
     "execution_count": 7,
     "metadata": {},
     "output_type": "execute_result"
    }
   ],
   "source": [
    "data[0].shape"
   ]
  },
  {
   "cell_type": "markdown",
   "metadata": {},
   "source": [
    "# Convert to triplets"
   ]
  },
  {
   "cell_type": "code",
   "execution_count": 8,
   "metadata": {},
   "outputs": [],
   "source": [
    "from functools import lru_cache"
   ]
  },
  {
   "cell_type": "code",
   "execution_count": 9,
   "metadata": {},
   "outputs": [],
   "source": [
    "from logging import debug"
   ]
  },
  {
   "cell_type": "code",
   "execution_count": 10,
   "metadata": {},
   "outputs": [],
   "source": [
    "def triplets(trajs, close=1, stride=1, far=None):\n",
    "    \"\"\"Get three trajectories which represent triplets of close/far pairs\n",
    "\n",
    "    Trajectories A, B, C constructued such that frame A[i] is close to frame\n",
    "    B[i] and far from frame C[i].\n",
    "\n",
    "    Paramters\n",
    "    ---------\n",
    "    trajs : list of ndarray of float, (n_frames, n_features)\n",
    "    close : int\n",
    "        number of frames between A[i] and B[i] -- to be considered \"close\"\n",
    "    stride : int\n",
    "        Frequency to get from the dataset\n",
    "    far : {int, None}\n",
    "        If `far` is none, the point `C` is sampled randomly from the dataset.\n",
    "        If `far` is an int, the point `C` is taken to be `far` frames after\n",
    "        point A\n",
    "\n",
    "    Returns\n",
    "    -------\n",
    "    A : ndarray of float (n_total_frames, n_features)\n",
    "    B : ndarray of float (n_total_frames, n_features)\n",
    "    C : ndarray of float (n_total_frames, n_features)\n",
    "    \"\"\"\n",
    "\n",
    "    cumsum = np.cumsum([len(traj) for traj in trajs])\n",
    "\n",
    "    def split(longindex):\n",
    "        traj = np.where(longindex <= cumsum)[0][0]\n",
    "        if traj == 0:\n",
    "            frame = longindex\n",
    "        else:\n",
    "            frame = longindex - cumsum[traj - 1]\n",
    "        return traj, frame\n",
    "\n",
    "    # # load the trajs with caching of the two most recently loaded trajectories?\n",
    "    # @lru_cache(maxsize=2)\n",
    "    # def load_traj(traj_index):\n",
    "    #     return trajs[traj_index]\n",
    "\n",
    "    a_indices = np.arange(0, cumsum[-1], stride)\n",
    "    b_indices = a_indices + close\n",
    "    if far is not None:\n",
    "        c_indices = a_indices + far\n",
    "    else:\n",
    "        c_indices = np.random.permutation(len(a_indices))\n",
    "        np.sort(c_indices)\n",
    "\n",
    "    ind_to_keep = np.where(c_indices < cumsum[-1])\n",
    "    c_indices = c_indices[ind_to_keep]\n",
    "    b_indices = b_indices[ind_to_keep]\n",
    "    a_indices = a_indices[ind_to_keep]\n",
    "\n",
    "    a_frames, b_frames, c_frames = [], [], []\n",
    "    for i, a in enumerate(a_indices):\n",
    "        b, c = b_indices[i], c_indices[i]\n",
    "        itraj_a, iframe_a = split(a)\n",
    "        itraj_b, iframe_b = split(b)\n",
    "        itraj_c, iframe_c = split(c)\n",
    "\n",
    "        # print 't', itraj_a, itraj_b, itraj_c\n",
    "        debug(f\"f {iframe_a} {iframe_b} {iframe_c}\")\n",
    "\n",
    "        if a < b < c < cumsum[-1] and far is not None and itraj_a == itraj_b == itraj_c:\n",
    "            traj = trajs[split(a)[0]]\n",
    "            if iframe_a < len(traj) and iframe_b < len(traj) and iframe_c < len(traj):\n",
    "                frame_a = traj[iframe_a]\n",
    "                frame_b = traj[iframe_b]\n",
    "                frame_c = traj[iframe_c]\n",
    "\n",
    "                a_frames.append(frame_a)\n",
    "                b_frames.append(frame_b)\n",
    "                c_frames.append(frame_c)\n",
    "\n",
    "        elif a < b < c < cumsum[-1] and far is None and itraj_a == itraj_b:\n",
    "            traj_a, traj_b, traj_c = trajs[itraj_a], trajs[itraj_b], trajs[itraj_c]\n",
    "            if (\n",
    "                iframe_a < len(traj_a)\n",
    "                and iframe_b < len(traj_b)\n",
    "                and iframe_c < len(traj_c)\n",
    "            ):\n",
    "\n",
    "                a_frames.append(traj_a[iframe_a])\n",
    "                b_frames.append(traj_b[iframe_b])\n",
    "                c_frames.append(traj_c[iframe_c])\n",
    "\n",
    "    A = np.array(a_frames)\n",
    "    B = np.array(b_frames)\n",
    "    C = np.array(c_frames)\n",
    "\n",
    "    if far is None:\n",
    "        # if far is none, what we really want is to have randomly selected\n",
    "        # shuffled frames\n",
    "        np.random.shuffle(C)\n",
    "\n",
    "    return A, B, C"
   ]
  },
  {
   "cell_type": "code",
   "execution_count": 11,
   "metadata": {},
   "outputs": [],
   "source": [
    "# %prun A, B, C = triplets(data, close=1, far=10)"
   ]
  },
  {
   "cell_type": "code",
   "execution_count": 12,
   "metadata": {},
   "outputs": [],
   "source": [
    "A, B, C = triplets(data, close=1, far=10)"
   ]
  },
  {
   "cell_type": "code",
   "execution_count": 13,
   "metadata": {},
   "outputs": [],
   "source": [
    "alpha = np.arange(0.1, 1.1, 0.1)"
   ]
  },
  {
   "cell_type": "code",
   "execution_count": 14,
   "metadata": {
    "scrolled": true,
    "tags": []
   },
   "outputs": [],
   "source": [
    "# all_rho, all_weights = [], []\n",
    "# for a in alpha:\n",
    "#     rho, weights = kdml.lmmdm.optimize_diagonal(A - B, B - C, a)\n",
    "#     all_rho.append(rho)\n",
    "#     all_weights.append(weights)"
   ]
  },
  {
   "cell_type": "code",
   "execution_count": 15,
   "metadata": {},
   "outputs": [],
   "source": [
    "# np.save(\"../data/kdml_diag_doublewell\", all_weights[4])\n",
    "weights = np.load(\"../data/kdml_diag_doublewell.npy\")"
   ]
  },
  {
   "cell_type": "code",
   "execution_count": 16,
   "metadata": {},
   "outputs": [
    {
     "data": {
      "text/plain": [
       "(200000, 2)"
      ]
     },
     "execution_count": 16,
     "metadata": {},
     "output_type": "execute_result"
    }
   ],
   "source": [
    "data_arr = np.concatenate(data)\n",
    "data_arr.shape"
   ]
  },
  {
   "cell_type": "code",
   "execution_count": 17,
   "metadata": {},
   "outputs": [],
   "source": [
    "# pdists = pdist(data_arr[::100], 'seuclidean', V=weights)"
   ]
  },
  {
   "cell_type": "code",
   "execution_count": 18,
   "metadata": {},
   "outputs": [],
   "source": [
    "# pdists.shape"
   ]
  },
  {
   "cell_type": "code",
   "execution_count": 19,
   "metadata": {},
   "outputs": [],
   "source": [
    "# k = 100\n",
    "\n",
    "# # Initialize initial medoids using K-Means++ algorithm\n",
    "# initial_medoids = kmeans_plusplus_initializer(data_arr, k).initialize(return_index=True)\n",
    "\n",
    "# # Create instance of K-Medoids (PAM) algorithm.\n",
    "# kmedoids_instance = kmedoids(pdists, initial_medoids, data_type=\"distance_matrix\")\n",
    "\n",
    "# # Run cluster analysis and obtain results.\n",
    "# kmedoids_instance.process()\n",
    "# clusters = kmedoids_instance.get_clusters()\n",
    "# medoids = kmedoids_instance.get_medoids()"
   ]
  },
  {
   "cell_type": "code",
   "execution_count": 20,
   "metadata": {},
   "outputs": [],
   "source": [
    "def seuclidean_metric(V):\n",
    "    \"\"\" \"\"\"\n",
    "\n",
    "    def metric(a, b):\n",
    "        return np.dot(a, V * b)\n",
    "\n",
    "    return metric"
   ]
  },
  {
   "cell_type": "code",
   "execution_count": 21,
   "metadata": {},
   "outputs": [],
   "source": [
    "# try hierarchical clustering\n",
    "se_metric = seuclidean_metric(weights)"
   ]
  },
  {
   "cell_type": "code",
   "execution_count": 22,
   "metadata": {},
   "outputs": [
    {
     "data": {
      "text/plain": [
       "0.9300471568653714"
      ]
     },
     "execution_count": 22,
     "metadata": {},
     "output_type": "execute_result"
    }
   ],
   "source": [
    "se_metric(data_arr[0], data_arr[1])"
   ]
  },
  {
   "cell_type": "code",
   "execution_count": 35,
   "metadata": {},
   "outputs": [],
   "source": [
    "import importlib"
   ]
  },
  {
   "cell_type": "code",
   "execution_count": 39,
   "metadata": {},
   "outputs": [],
   "source": [
    "import sklearn_extra"
   ]
  },
  {
   "cell_type": "code",
   "execution_count": 44,
   "metadata": {},
   "outputs": [
    {
     "ename": "ModuleNotFoundError",
     "evalue": "spec not found for the module 'sklearn_extra'",
     "output_type": "error",
     "traceback": [
      "\u001b[0;31m---------------------------------------------------------------------------\u001b[0m",
      "\u001b[0;31mModuleNotFoundError\u001b[0m                       Traceback (most recent call last)",
      "\u001b[0;32m<ipython-input-44-f20a60c48a0b>\u001b[0m in \u001b[0;36m<module>\u001b[0;34m\u001b[0m\n\u001b[0;32m----> 1\u001b[0;31m \u001b[0mimportlib\u001b[0m\u001b[0;34m.\u001b[0m\u001b[0mreload\u001b[0m\u001b[0;34m(\u001b[0m\u001b[0msklearn_extra\u001b[0m\u001b[0;34m)\u001b[0m\u001b[0;34m\u001b[0m\u001b[0;34m\u001b[0m\u001b[0m\n\u001b[0m",
      "\u001b[0;32m/project2/roux/scguo/anaconda/envs/py37/lib/python3.7/importlib/__init__.py\u001b[0m in \u001b[0;36mreload\u001b[0;34m(module)\u001b[0m\n\u001b[1;32m    166\u001b[0m         \u001b[0mspec\u001b[0m \u001b[0;34m=\u001b[0m \u001b[0mmodule\u001b[0m\u001b[0;34m.\u001b[0m\u001b[0m__spec__\u001b[0m \u001b[0;34m=\u001b[0m \u001b[0m_bootstrap\u001b[0m\u001b[0;34m.\u001b[0m\u001b[0m_find_spec\u001b[0m\u001b[0;34m(\u001b[0m\u001b[0mname\u001b[0m\u001b[0;34m,\u001b[0m \u001b[0mpkgpath\u001b[0m\u001b[0;34m,\u001b[0m \u001b[0mtarget\u001b[0m\u001b[0;34m)\u001b[0m\u001b[0;34m\u001b[0m\u001b[0;34m\u001b[0m\u001b[0m\n\u001b[1;32m    167\u001b[0m         \u001b[0;32mif\u001b[0m \u001b[0mspec\u001b[0m \u001b[0;32mis\u001b[0m \u001b[0;32mNone\u001b[0m\u001b[0;34m:\u001b[0m\u001b[0;34m\u001b[0m\u001b[0;34m\u001b[0m\u001b[0m\n\u001b[0;32m--> 168\u001b[0;31m             \u001b[0;32mraise\u001b[0m \u001b[0mModuleNotFoundError\u001b[0m\u001b[0;34m(\u001b[0m\u001b[0;34mf\"spec not found for the module {name!r}\"\u001b[0m\u001b[0;34m,\u001b[0m \u001b[0mname\u001b[0m\u001b[0;34m=\u001b[0m\u001b[0mname\u001b[0m\u001b[0;34m)\u001b[0m\u001b[0;34m\u001b[0m\u001b[0;34m\u001b[0m\u001b[0m\n\u001b[0m\u001b[1;32m    169\u001b[0m         \u001b[0m_bootstrap\u001b[0m\u001b[0;34m.\u001b[0m\u001b[0m_exec\u001b[0m\u001b[0;34m(\u001b[0m\u001b[0mspec\u001b[0m\u001b[0;34m,\u001b[0m \u001b[0mmodule\u001b[0m\u001b[0;34m)\u001b[0m\u001b[0;34m\u001b[0m\u001b[0;34m\u001b[0m\u001b[0m\n\u001b[1;32m    170\u001b[0m         \u001b[0;31m# The module may have replaced itself in sys.modules!\u001b[0m\u001b[0;34m\u001b[0m\u001b[0;34m\u001b[0m\u001b[0;34m\u001b[0m\u001b[0m\n",
      "\u001b[0;31mModuleNotFoundError\u001b[0m: spec not found for the module 'sklearn_extra'"
     ]
    }
   ],
   "source": [
    "importlib.reload(sklearn_extra)"
   ]
  },
  {
   "cell_type": "code",
   "execution_count": 23,
   "metadata": {},
   "outputs": [
    {
     "name": "stdout",
     "output_type": "stream",
     "text": [
      "k-medoids++\n"
     ]
    }
   ],
   "source": [
    "k = 10\n",
    "km = KMedoids(\n",
    "    n_clusters=k, metric=se_metric, method=\"pam\", init=\"k-medoids++\", max_iter=0\n",
    ").fit(data_arr[::100])\n",
    "medoids = km.medoid_indices_"
   ]
  },
  {
   "cell_type": "code",
   "execution_count": 24,
   "metadata": {},
   "outputs": [
    {
     "data": {
      "text/plain": [
       "array([  75, 1787,  959, 1405, 1485, 1395, 1045,  642,  731,  724])"
      ]
     },
     "execution_count": 24,
     "metadata": {},
     "output_type": "execute_result"
    }
   ],
   "source": [
    "medoids"
   ]
  },
  {
   "cell_type": "code",
   "execution_count": 30,
   "metadata": {},
   "outputs": [],
   "source": [
    "km.medoid_indices_ = np.random.randint(len(data_arr), size=10)"
   ]
  },
  {
   "cell_type": "code",
   "execution_count": 31,
   "metadata": {},
   "outputs": [
    {
     "data": {
      "text/plain": [
       "array([ 35556,  85021,  98691,  25576, 159701, 115838,  80022,  93756,\n",
       "       104338,  28733])"
      ]
     },
     "execution_count": 31,
     "metadata": {},
     "output_type": "execute_result"
    }
   ],
   "source": [
    "km.medoid_indices_"
   ]
  },
  {
   "cell_type": "code",
   "execution_count": 25,
   "metadata": {},
   "outputs": [],
   "source": [
    "km2 = KMedoids(n_clusters=k, metric=se_metric, method=\"pam\", init=medoids, max_iter=1)"
   ]
  },
  {
   "cell_type": "code",
   "execution_count": 33,
   "metadata": {},
   "outputs": [],
   "source": [
    "km2.medoid_indices_ = np.random.randint(len(data_arr), size=10)"
   ]
  },
  {
   "cell_type": "code",
   "execution_count": 27,
   "metadata": {},
   "outputs": [
    {
     "name": "stdout",
     "output_type": "stream",
     "text": [
      "[  75 1787  959 1405 1485 1395 1045  642  731  724]\n"
     ]
    },
    {
     "name": "stderr",
     "output_type": "stream",
     "text": [
      "/project2/roux/scguo/scikit-learn-extra/sklearn_extra/cluster/_k_medoids.py:185: FutureWarning: elementwise comparison failed; returning scalar instead, but in the future will perform elementwise comparison\n",
      "  if (self.init not in init_methods) and (not hasattr(self.init, \"__array__\")):\n",
      "/project2/roux/scguo/scikit-learn-extra/sklearn_extra/cluster/_k_medoids.py:414: FutureWarning: elementwise comparison failed; returning scalar instead, but in the future will perform elementwise comparison\n",
      "  if self.init == \"random\":  # Random initialization\n",
      "/project2/roux/scguo/scikit-learn-extra/sklearn_extra/cluster/_k_medoids.py:417: FutureWarning: elementwise comparison failed; returning scalar instead, but in the future will perform elementwise comparison\n",
      "  elif self.init == \"k-medoids++\":\n",
      "/project2/roux/scguo/scikit-learn-extra/sklearn_extra/cluster/_k_medoids.py:419: FutureWarning: elementwise comparison failed; returning scalar instead, but in the future will perform elementwise comparison\n",
      "  elif self.init == \"heuristic\":  # Initialization by heuristic\n",
      "/project2/roux/scguo/scikit-learn-extra/sklearn_extra/cluster/_k_medoids.py:425: FutureWarning: elementwise comparison failed; returning scalar instead, but in the future will perform elementwise comparison\n",
      "  elif self.init == \"build\":  # Build initialization\n",
      "/project2/roux/scguo/scikit-learn-extra/sklearn_extra/cluster/_k_medoids.py:282: ConvergenceWarning: Maximum number of iteration reached before convergence. Consider increasing max_iter to improve the fit.\n",
      "  ConvergenceWarning,\n"
     ]
    },
    {
     "data": {
      "text/plain": [
       "KMedoids(init=array([  75,  332,  959, 1405, 1485, 1395, 1045,  642,  731,  724]),\n",
       "         max_iter=1, method='pam',\n",
       "         metric=<function seuclidean_metric.<locals>.metric at 0x7f5dc046c290>,\n",
       "         n_clusters=10)"
      ]
     },
     "execution_count": 27,
     "metadata": {},
     "output_type": "execute_result"
    }
   ],
   "source": [
    "km2.fit(data_arr[::100])"
   ]
  },
  {
   "cell_type": "code",
   "execution_count": 35,
   "metadata": {},
   "outputs": [
    {
     "name": "stderr",
     "output_type": "stream",
     "text": [
      "/project2/roux/scguo/anaconda/envs/py37/lib/python3.7/site-packages/sklearn_extra/cluster/_k_medoids.py:247: ConvergenceWarning: Maximum number of iteration reached before convergence. Consider increasing max_iter to improve the fit.\n",
      "  ConvergenceWarning,\n"
     ]
    },
    {
     "data": {
      "text/plain": [
       "KMedoids(init='random', max_iter=1, method='pam',\n",
       "         metric=<function seuclidean_metric.<locals>.metric at 0x7efcc696fb90>,\n",
       "         n_clusters=10)"
      ]
     },
     "execution_count": 35,
     "metadata": {},
     "output_type": "execute_result"
    }
   ],
   "source": [
    "km2.fit(data_arr[::100])"
   ]
  },
  {
   "cell_type": "code",
   "execution_count": 28,
   "metadata": {},
   "outputs": [
    {
     "data": {
      "text/plain": [
       "array([  75,  332,  959, 1405, 1485, 1395, 1045,  642,  731,  724])"
      ]
     },
     "execution_count": 28,
     "metadata": {},
     "output_type": "execute_result"
    }
   ],
   "source": [
    "km2.medoid_indices_"
   ]
  },
  {
   "cell_type": "code",
   "execution_count": 45,
   "metadata": {
    "jupyter": {
     "source_hidden": true
    },
    "tags": []
   },
   "outputs": [],
   "source": [
    "def mini_batch_kmedoids(data, k, batchsize=0.02, metric=None, n_iter=100, **kwargs):\n",
    "    N = len(data)\n",
    "\n",
    "    for i in range(n_iter + 1):\n",
    "        # randomly sample batchsize\n",
    "        n_batch = int(batchsize * len(data))\n",
    "        inds = np.random.choice(range(len(data)), n_batch, replace=True)\n",
    "        batch_data = data[inds]\n",
    "\n",
    "        if i == 0:\n",
    "            # Initialize initial medoids using k-means++ algorithm\n",
    "            print(\"Initializing medoids...\")\n",
    "            km = KMedoids(\n",
    "                n_clusters=k,\n",
    "                metric=metric,\n",
    "                method=\"pam\",\n",
    "                init=\"k-medoids++\",\n",
    "                max_iter=0,\n",
    "            ).fit(batch_data)\n",
    "            medoids = km.medoid_indices_\n",
    "            print(\"Finished initialization.\")\n",
    "\n",
    "        else:\n",
    "            print(f\"Iteration {i}...\")\n",
    "            # initialize with previous medoids\n",
    "            km = KMedoids(\n",
    "                n_clusters=k, metric=metric, method=\"pam\", init=medoids, max_iter=1\n",
    "            )\n",
    "\n",
    "            # Perform one PAM step and get updated medoids\n",
    "            km.fit(batch_data)\n",
    "            medoids = km.medoid_indices_\n",
    "\n",
    "    return km"
   ]
  },
  {
   "cell_type": "code",
   "execution_count": 30,
   "metadata": {},
   "outputs": [],
   "source": [
    "np.random.seed(123)"
   ]
  },
  {
   "cell_type": "code",
   "execution_count": 21,
   "metadata": {},
   "outputs": [],
   "source": [
    "# km = mini_batch_kmedoids(data_arr, 10, batchsize=0.0002, metric=\"seuclidean\", V=weights, n_iter=10)"
   ]
  },
  {
   "cell_type": "code",
   "execution_count": 31,
   "metadata": {},
   "outputs": [],
   "source": [
    "k = 100\n",
    "batchsize = 0.1"
   ]
  },
  {
   "cell_type": "code",
   "execution_count": 32,
   "metadata": {},
   "outputs": [],
   "source": [
    "# medoids = kmeans_plusplus_initializer(batch_data, k).initialize(return_index=True)"
   ]
  },
  {
   "cell_type": "code",
   "execution_count": 33,
   "metadata": {
    "tags": []
   },
   "outputs": [],
   "source": [
    "# medoids"
   ]
  },
  {
   "cell_type": "code",
   "execution_count": 34,
   "metadata": {},
   "outputs": [],
   "source": [
    "# # medoids = kmeans_plusplus_initializer(batch_data, k).initialize(return_index=True)\n",
    "# N = len(data)\n",
    "# medoids = np.random.choice(range(N), size=k, replace=False)"
   ]
  },
  {
   "cell_type": "code",
   "execution_count": 38,
   "metadata": {},
   "outputs": [],
   "source": [
    "from scipy.spatial.distance import squareform"
   ]
  },
  {
   "cell_type": "code",
   "execution_count": 39,
   "metadata": {},
   "outputs": [],
   "source": [
    "n_batch = int(batchsize * len(data_arr))\n",
    "inds = np.random.choice(range(len(data_arr)), n_batch, replace=False)\n",
    "batch_data = data_arr[inds]\n",
    "pdists = squareform(pdist(batch_data, metric=\"seuclidean\", V=weights))"
   ]
  },
  {
   "cell_type": "code",
   "execution_count": 40,
   "metadata": {},
   "outputs": [
    {
     "data": {
      "text/plain": [
       "99"
      ]
     },
     "execution_count": 40,
     "metadata": {},
     "output_type": "execute_result"
    }
   ],
   "source": [
    "max(medoids)"
   ]
  },
  {
   "cell_type": "code",
   "execution_count": 41,
   "metadata": {},
   "outputs": [
    {
     "data": {
      "text/plain": [
       "(20000, 20000)"
      ]
     },
     "execution_count": 41,
     "metadata": {},
     "output_type": "execute_result"
    }
   ],
   "source": [
    "pdists.shape"
   ]
  },
  {
   "cell_type": "code",
   "execution_count": 42,
   "metadata": {},
   "outputs": [],
   "source": [
    "from pyclustering.utils import metric"
   ]
  },
  {
   "cell_type": "code",
   "execution_count": 43,
   "metadata": {},
   "outputs": [],
   "source": [
    "met = metric.distance_metric(\n",
    "    metric.type_metric.USER_DEFINED, func=se_metric, numpy_usage=True\n",
    ")"
   ]
  },
  {
   "cell_type": "code",
   "execution_count": 44,
   "metadata": {},
   "outputs": [],
   "source": [
    "kmedoids_instance = kmedoids(\n",
    "    batch_data, medoids, data_type=\"points\", itermax=1, metric=met\n",
    ")"
   ]
  },
  {
   "cell_type": "code",
   "execution_count": 45,
   "metadata": {},
   "outputs": [
    {
     "ename": "KeyboardInterrupt",
     "evalue": "",
     "output_type": "error",
     "traceback": [
      "\u001b[0;31m---------------------------------------------------------------------------\u001b[0m",
      "\u001b[0;31mKeyboardInterrupt\u001b[0m                         Traceback (most recent call last)",
      "\u001b[0;32m<ipython-input-45-511876d9c7b7>\u001b[0m in \u001b[0;36m<module>\u001b[0;34m\u001b[0m\n\u001b[0;32m----> 1\u001b[0;31m \u001b[0mkmedoids_instance\u001b[0m\u001b[0;34m.\u001b[0m\u001b[0mprocess\u001b[0m\u001b[0;34m(\u001b[0m\u001b[0;34m)\u001b[0m\u001b[0;34m\u001b[0m\u001b[0;34m\u001b[0m\u001b[0m\n\u001b[0m",
      "\u001b[0;32m/project2/roux/scguo/anaconda/envs/py37/lib/python3.7/site-packages/pyclustering/cluster/kmedoids.py\u001b[0m in \u001b[0;36mprocess\u001b[0;34m(self)\u001b[0m\n\u001b[1;32m    162\u001b[0m \u001b[0;34m\u001b[0m\u001b[0m\n\u001b[1;32m    163\u001b[0m             \u001b[0;32mwhile\u001b[0m \u001b[0;34m(\u001b[0m\u001b[0mchanges\u001b[0m \u001b[0;34m>\u001b[0m \u001b[0mself\u001b[0m\u001b[0;34m.\u001b[0m\u001b[0m__tolerance\u001b[0m\u001b[0;34m)\u001b[0m \u001b[0;32mand\u001b[0m \u001b[0;34m(\u001b[0m\u001b[0miterations\u001b[0m \u001b[0;34m<\u001b[0m \u001b[0mself\u001b[0m\u001b[0;34m.\u001b[0m\u001b[0m__itermax\u001b[0m\u001b[0;34m)\u001b[0m\u001b[0;34m:\u001b[0m\u001b[0;34m\u001b[0m\u001b[0;34m\u001b[0m\u001b[0m\n\u001b[0;32m--> 164\u001b[0;31m                 \u001b[0mswap_cost\u001b[0m \u001b[0;34m=\u001b[0m \u001b[0mself\u001b[0m\u001b[0;34m.\u001b[0m\u001b[0m__swap_medoids\u001b[0m\u001b[0;34m(\u001b[0m\u001b[0;34m)\u001b[0m\u001b[0;34m\u001b[0m\u001b[0;34m\u001b[0m\u001b[0m\n\u001b[0m\u001b[1;32m    165\u001b[0m \u001b[0;34m\u001b[0m\u001b[0m\n\u001b[1;32m    166\u001b[0m                 \u001b[0;32mif\u001b[0m \u001b[0mswap_cost\u001b[0m \u001b[0;34m!=\u001b[0m \u001b[0mfloat\u001b[0m\u001b[0;34m(\u001b[0m\u001b[0;34m'inf'\u001b[0m\u001b[0;34m)\u001b[0m\u001b[0;34m:\u001b[0m\u001b[0;34m\u001b[0m\u001b[0;34m\u001b[0m\u001b[0m\n",
      "\u001b[0;32m/project2/roux/scguo/anaconda/envs/py37/lib/python3.7/site-packages/pyclustering/cluster/kmedoids.py\u001b[0m in \u001b[0;36m__swap_medoids\u001b[0;34m(self)\u001b[0m\n\u001b[1;32m    354\u001b[0m                     \u001b[0;32mcontinue\u001b[0m\u001b[0;34m\u001b[0m\u001b[0;34m\u001b[0m\u001b[0m\n\u001b[1;32m    355\u001b[0m \u001b[0;34m\u001b[0m\u001b[0m\n\u001b[0;32m--> 356\u001b[0;31m                 \u001b[0mswap_cost\u001b[0m \u001b[0;34m=\u001b[0m \u001b[0mself\u001b[0m\u001b[0;34m.\u001b[0m\u001b[0m__calculate_swap_cost\u001b[0m\u001b[0;34m(\u001b[0m\u001b[0mcandidate_medoid_index\u001b[0m\u001b[0;34m,\u001b[0m \u001b[0mindex_cluster\u001b[0m\u001b[0;34m)\u001b[0m\u001b[0;34m\u001b[0m\u001b[0;34m\u001b[0m\u001b[0m\n\u001b[0m\u001b[1;32m    357\u001b[0m                 \u001b[0;32mif\u001b[0m \u001b[0mswap_cost\u001b[0m \u001b[0;34m<\u001b[0m \u001b[0moptimal_swap_cost\u001b[0m\u001b[0;34m:\u001b[0m\u001b[0;34m\u001b[0m\u001b[0;34m\u001b[0m\u001b[0m\n\u001b[1;32m    358\u001b[0m                     \u001b[0moptimal_swap_cost\u001b[0m \u001b[0;34m=\u001b[0m \u001b[0mswap_cost\u001b[0m\u001b[0;34m\u001b[0m\u001b[0;34m\u001b[0m\u001b[0m\n",
      "\u001b[0;32m/project2/roux/scguo/anaconda/envs/py37/lib/python3.7/site-packages/pyclustering/cluster/kmedoids.py\u001b[0m in \u001b[0;36m__calculate_swap_cost\u001b[0;34m(self, index_candidate, cluster_index)\u001b[0m\n\u001b[1;32m    382\u001b[0m                 \u001b[0;32mcontinue\u001b[0m\u001b[0;34m\u001b[0m\u001b[0;34m\u001b[0m\u001b[0m\n\u001b[1;32m    383\u001b[0m \u001b[0;34m\u001b[0m\u001b[0m\n\u001b[0;32m--> 384\u001b[0;31m             \u001b[0mcandidate_distance\u001b[0m \u001b[0;34m=\u001b[0m \u001b[0mself\u001b[0m\u001b[0;34m.\u001b[0m\u001b[0m__distance_calculator\u001b[0m\u001b[0;34m(\u001b[0m\u001b[0mindex_point\u001b[0m\u001b[0;34m,\u001b[0m \u001b[0mindex_candidate\u001b[0m\u001b[0;34m)\u001b[0m\u001b[0;34m\u001b[0m\u001b[0;34m\u001b[0m\u001b[0m\n\u001b[0m\u001b[1;32m    385\u001b[0m             \u001b[0;32mif\u001b[0m \u001b[0mself\u001b[0m\u001b[0;34m.\u001b[0m\u001b[0m__labels\u001b[0m\u001b[0;34m[\u001b[0m\u001b[0mindex_point\u001b[0m\u001b[0;34m]\u001b[0m \u001b[0;34m==\u001b[0m \u001b[0mcluster_index\u001b[0m\u001b[0;34m:\u001b[0m\u001b[0;34m\u001b[0m\u001b[0;34m\u001b[0m\u001b[0m\n\u001b[1;32m    386\u001b[0m                 \u001b[0mcost\u001b[0m \u001b[0;34m+=\u001b[0m \u001b[0mmin\u001b[0m\u001b[0;34m(\u001b[0m\u001b[0mcandidate_distance\u001b[0m\u001b[0;34m,\u001b[0m \u001b[0mself\u001b[0m\u001b[0;34m.\u001b[0m\u001b[0m__distance_second_medoid\u001b[0m\u001b[0;34m[\u001b[0m\u001b[0mindex_point\u001b[0m\u001b[0;34m]\u001b[0m\u001b[0;34m)\u001b[0m \u001b[0;34m-\u001b[0m \u001b[0mself\u001b[0m\u001b[0;34m.\u001b[0m\u001b[0m__distance_first_medoid\u001b[0m\u001b[0;34m[\u001b[0m\u001b[0mindex_point\u001b[0m\u001b[0;34m]\u001b[0m\u001b[0;34m\u001b[0m\u001b[0;34m\u001b[0m\u001b[0m\n",
      "\u001b[0;32m/project2/roux/scguo/anaconda/envs/py37/lib/python3.7/site-packages/pyclustering/cluster/kmedoids.py\u001b[0m in \u001b[0;36m<lambda>\u001b[0;34m(index1, index2)\u001b[0m\n\u001b[1;32m    289\u001b[0m         \"\"\"\n\u001b[1;32m    290\u001b[0m         \u001b[0;32mif\u001b[0m \u001b[0mself\u001b[0m\u001b[0;34m.\u001b[0m\u001b[0m__data_type\u001b[0m \u001b[0;34m==\u001b[0m \u001b[0;34m'points'\u001b[0m\u001b[0;34m:\u001b[0m\u001b[0;34m\u001b[0m\u001b[0;34m\u001b[0m\u001b[0m\n\u001b[0;32m--> 291\u001b[0;31m             \u001b[0;32mreturn\u001b[0m \u001b[0;32mlambda\u001b[0m \u001b[0mindex1\u001b[0m\u001b[0;34m,\u001b[0m \u001b[0mindex2\u001b[0m\u001b[0;34m:\u001b[0m \u001b[0mself\u001b[0m\u001b[0;34m.\u001b[0m\u001b[0m__metric\u001b[0m\u001b[0;34m(\u001b[0m\u001b[0mself\u001b[0m\u001b[0;34m.\u001b[0m\u001b[0m__pointer_data\u001b[0m\u001b[0;34m[\u001b[0m\u001b[0mindex1\u001b[0m\u001b[0;34m]\u001b[0m\u001b[0;34m,\u001b[0m \u001b[0mself\u001b[0m\u001b[0;34m.\u001b[0m\u001b[0m__pointer_data\u001b[0m\u001b[0;34m[\u001b[0m\u001b[0mindex2\u001b[0m\u001b[0;34m]\u001b[0m\u001b[0;34m)\u001b[0m\u001b[0;34m\u001b[0m\u001b[0;34m\u001b[0m\u001b[0m\n\u001b[0m\u001b[1;32m    292\u001b[0m \u001b[0;34m\u001b[0m\u001b[0m\n\u001b[1;32m    293\u001b[0m         \u001b[0;32melif\u001b[0m \u001b[0mself\u001b[0m\u001b[0;34m.\u001b[0m\u001b[0m__data_type\u001b[0m \u001b[0;34m==\u001b[0m \u001b[0;34m'distance_matrix'\u001b[0m\u001b[0;34m:\u001b[0m\u001b[0;34m\u001b[0m\u001b[0;34m\u001b[0m\u001b[0m\n",
      "\u001b[0;32m/project2/roux/scguo/anaconda/envs/py37/lib/python3.7/site-packages/pyclustering/utils/metric.py\u001b[0m in \u001b[0;36m__call__\u001b[0;34m(self, point1, point2)\u001b[0m\n\u001b[1;32m    130\u001b[0m \u001b[0;34m\u001b[0m\u001b[0m\n\u001b[1;32m    131\u001b[0m         \"\"\"\n\u001b[0;32m--> 132\u001b[0;31m         \u001b[0;32mreturn\u001b[0m \u001b[0mself\u001b[0m\u001b[0;34m.\u001b[0m\u001b[0m__calculator\u001b[0m\u001b[0;34m(\u001b[0m\u001b[0mpoint1\u001b[0m\u001b[0;34m,\u001b[0m \u001b[0mpoint2\u001b[0m\u001b[0;34m)\u001b[0m\u001b[0;34m\u001b[0m\u001b[0;34m\u001b[0m\u001b[0m\n\u001b[0m\u001b[1;32m    133\u001b[0m \u001b[0;34m\u001b[0m\u001b[0m\n\u001b[1;32m    134\u001b[0m \u001b[0;34m\u001b[0m\u001b[0m\n",
      "\u001b[0;32m<ipython-input-31-47c6456812fc>\u001b[0m in \u001b[0;36mmetric\u001b[0;34m(a, b)\u001b[0m\n\u001b[1;32m      3\u001b[0m     \"\"\"\n\u001b[1;32m      4\u001b[0m     \u001b[0;32mdef\u001b[0m \u001b[0mmetric\u001b[0m\u001b[0;34m(\u001b[0m\u001b[0ma\u001b[0m\u001b[0;34m,\u001b[0m \u001b[0mb\u001b[0m\u001b[0;34m)\u001b[0m\u001b[0;34m:\u001b[0m\u001b[0;34m\u001b[0m\u001b[0;34m\u001b[0m\u001b[0m\n\u001b[0;32m----> 5\u001b[0;31m         \u001b[0;32mreturn\u001b[0m \u001b[0mnp\u001b[0m\u001b[0;34m.\u001b[0m\u001b[0mdot\u001b[0m\u001b[0;34m(\u001b[0m\u001b[0ma\u001b[0m\u001b[0;34m,\u001b[0m \u001b[0mV\u001b[0m \u001b[0;34m*\u001b[0m \u001b[0mb\u001b[0m\u001b[0;34m)\u001b[0m\u001b[0;34m\u001b[0m\u001b[0;34m\u001b[0m\u001b[0m\n\u001b[0m\u001b[1;32m      6\u001b[0m     \u001b[0;32mreturn\u001b[0m \u001b[0mmetric\u001b[0m\u001b[0;34m\u001b[0m\u001b[0;34m\u001b[0m\u001b[0m\n",
      "\u001b[0;32m<__array_function__ internals>\u001b[0m in \u001b[0;36mdot\u001b[0;34m(*args, **kwargs)\u001b[0m\n",
      "\u001b[0;31mKeyboardInterrupt\u001b[0m: "
     ]
    }
   ],
   "source": [
    "kmedoids_instance.process()"
   ]
  },
  {
   "cell_type": "code",
   "execution_count": 18,
   "metadata": {},
   "outputs": [],
   "source": [
    "from scipy.cluster import hierarchy"
   ]
  },
  {
   "cell_type": "code",
   "execution_count": 19,
   "metadata": {},
   "outputs": [],
   "source": [
    "from sklearn.cluster import AgglomerativeClustering, OPTICS"
   ]
  },
  {
   "cell_type": "code",
   "execution_count": 20,
   "metadata": {},
   "outputs": [],
   "source": [
    "from scipy.spatial import distance"
   ]
  },
  {
   "cell_type": "code",
   "execution_count": 21,
   "metadata": {},
   "outputs": [],
   "source": [
    "ac = OPTICS(metric=\"seuclidean\", metric_params={\"V\": weights}, n_jobs=-1)"
   ]
  },
  {
   "cell_type": "code",
   "execution_count": null,
   "metadata": {},
   "outputs": [],
   "source": [
    "ac.fit(data_arr)"
   ]
  },
  {
   "cell_type": "code",
   "execution_count": null,
   "metadata": {},
   "outputs": [],
   "source": [
    "import dill as pickle"
   ]
  },
  {
   "cell_type": "code",
   "execution_count": null,
   "metadata": {},
   "outputs": [],
   "source": [
    "with open(\"../../data/optics_test.dat.pkl\", mode=\"wb+\") as f:\n",
    "    pickle.dump(f, ac)"
   ]
  },
  {
   "cell_type": "code",
   "execution_count": 50,
   "metadata": {},
   "outputs": [
    {
     "name": "stdout",
     "output_type": "stream",
     "text": [
      "<function mini_batch_kmedoids at 0x7f5d9b526b90>\n"
     ]
    }
   ],
   "source": [
    "print(mini_batch_kmedoids)"
   ]
  },
  {
   "cell_type": "code",
   "execution_count": 56,
   "metadata": {},
   "outputs": [],
   "source": [
    "def mini_batch_kmedoids(data, k, batchsize=0.02, metric=None, n_iter=100, **kwargs):\n",
    "    N = len(data)\n",
    "\n",
    "    for i in range(n_iter + 1):\n",
    "        # randomly sample batchsize\n",
    "        n_batch = int(batchsize * len(data))\n",
    "        inds = np.random.choice(range(len(data)), n_batch, replace=True)\n",
    "        batch_data = data[inds]\n",
    "\n",
    "        if i == 0:\n",
    "            # Initialize initial medoids using k-means++ algorithm\n",
    "            print(\"Initializing medoids...\")\n",
    "            km = KMedoids(\n",
    "                n_clusters=k,\n",
    "                metric=metric,\n",
    "                method=\"pam\",\n",
    "                init=\"k-medoids++\",\n",
    "                max_iter=0,\n",
    "            ).fit(batch_data)\n",
    "            medoids = inds[km.medoid_indices_]\n",
    "            print(\"Finished initialization.\")\n",
    "\n",
    "        else:\n",
    "            print(f\"Iteration {i}...\")\n",
    "            # initialize with previous medoids\n",
    "            km = KMedoids(\n",
    "                n_clusters=k, metric=metric, method=\"pam\", init=medoids, max_iter=1\n",
    "            )\n",
    "\n",
    "            # Perform one PAM step and get updated medoids\n",
    "            km.fit(batch_data)\n",
    "            # indices in original data\n",
    "            medoids = inds[km.medoid_indices_]\n",
    "\n",
    "    return km"
   ]
  },
  {
   "cell_type": "code",
   "execution_count": 57,
   "metadata": {},
   "outputs": [],
   "source": [
    "labels = km.predict(data_arr)"
   ]
  },
  {
   "cell_type": "code",
   "execution_count": 58,
   "metadata": {},
   "outputs": [
    {
     "data": {
      "image/png": "[encoded data removed]",
      "text/plain": [
       "<Figure size 450x450 with 1 Axes>"
      ]
     },
     "metadata": {
      "needs_background": "light"
     },
     "output_type": "display_data"
    }
   ],
   "source": [
    "fig, ax = plt.subplots()\n",
    "for k in range(10):\n",
    "    # Find indices of data in cluster k\n",
    "    idx = np.where(labels == k)[0]\n",
    "    ax.scatter(data_arr[idx, 0], data_arr[idx, 1], marker=\".\")"
   ]
  },
  {
   "cell_type": "code",
   "execution_count": 73,
   "metadata": {
    "scrolled": true,
    "tags": []
   },
   "outputs": [
    {
     "name": "stdout",
     "output_type": "stream",
     "text": [
      "Initializing medoids...\n",
      "k-medoids++\n",
      "Finished initialization.\n",
      "Iteration 1...\n",
      "[1533 1239  657  162  698  315 1346 1946  782 1027 1974 1325 1086  208\n",
      " 1737 1145 1583  838 1586 1545]\n"
     ]
    },
    {
     "name": "stderr",
     "output_type": "stream",
     "text": [
      "/project2/roux/scguo/scikit-learn-extra/sklearn_extra/cluster/_k_medoids.py:185: FutureWarning: elementwise comparison failed; returning scalar instead, but in the future will perform elementwise comparison\n",
      "  raise ValueError(\n",
      "/project2/roux/scguo/scikit-learn-extra/sklearn_extra/cluster/_k_medoids.py:414: FutureWarning: elementwise comparison failed; returning scalar instead, but in the future will perform elementwise comparison\n",
      "  medoids = self.init\n",
      "/project2/roux/scguo/scikit-learn-extra/sklearn_extra/cluster/_k_medoids.py:417: FutureWarning: elementwise comparison failed; returning scalar instead, but in the future will perform elementwise comparison\n",
      "  medoids = random_state_.choice(len(D), n_clusters, replace=False)\n",
      "/project2/roux/scguo/scikit-learn-extra/sklearn_extra/cluster/_k_medoids.py:419: FutureWarning: elementwise comparison failed; returning scalar instead, but in the future will perform elementwise comparison\n",
      "  medoids = self._kpp_init(D, n_clusters, random_state_)\n",
      "/project2/roux/scguo/scikit-learn-extra/sklearn_extra/cluster/_k_medoids.py:425: FutureWarning: elementwise comparison failed; returning scalar instead, but in the future will perform elementwise comparison\n",
      "  ]\n",
      "/project2/roux/scguo/scikit-learn-extra/sklearn_extra/cluster/_k_medoids.py:282: ConvergenceWarning: Maximum number of iteration reached before convergence. Consider increasing max_iter to improve the fit.\n",
      "  )\n",
      "/project2/roux/scguo/scikit-learn-extra/sklearn_extra/cluster/_k_medoids.py:185: FutureWarning: elementwise comparison failed; returning scalar instead, but in the future will perform elementwise comparison\n",
      "  raise ValueError(\n"
     ]
    },
    {
     "name": "stdout",
     "output_type": "stream",
     "text": [
      "Iteration 2...\n",
      "[1533 1239  657  849  698  315 1346 1946  782 1027 1974 1325 1086  208\n",
      " 1737 1145 1583  838 1586 1545]\n"
     ]
    },
    {
     "name": "stderr",
     "output_type": "stream",
     "text": [
      "/project2/roux/scguo/scikit-learn-extra/sklearn_extra/cluster/_k_medoids.py:414: FutureWarning: elementwise comparison failed; returning scalar instead, but in the future will perform elementwise comparison\n",
      "  medoids = self.init\n",
      "/project2/roux/scguo/scikit-learn-extra/sklearn_extra/cluster/_k_medoids.py:417: FutureWarning: elementwise comparison failed; returning scalar instead, but in the future will perform elementwise comparison\n",
      "  medoids = random_state_.choice(len(D), n_clusters, replace=False)\n",
      "/project2/roux/scguo/scikit-learn-extra/sklearn_extra/cluster/_k_medoids.py:419: FutureWarning: elementwise comparison failed; returning scalar instead, but in the future will perform elementwise comparison\n",
      "  medoids = self._kpp_init(D, n_clusters, random_state_)\n",
      "/project2/roux/scguo/scikit-learn-extra/sklearn_extra/cluster/_k_medoids.py:425: FutureWarning: elementwise comparison failed; returning scalar instead, but in the future will perform elementwise comparison\n",
      "  ]\n",
      "/project2/roux/scguo/scikit-learn-extra/sklearn_extra/cluster/_k_medoids.py:282: ConvergenceWarning: Maximum number of iteration reached before convergence. Consider increasing max_iter to improve the fit.\n",
      "  )\n",
      "/project2/roux/scguo/scikit-learn-extra/sklearn_extra/cluster/_k_medoids.py:185: FutureWarning: elementwise comparison failed; returning scalar instead, but in the future will perform elementwise comparison\n",
      "  raise ValueError(\n"
     ]
    },
    {
     "name": "stdout",
     "output_type": "stream",
     "text": [
      "Iteration 3...\n",
      "[1533 1239  657  849  698  315 1346 1946  782 1027 1974 1642 1086  208\n",
      " 1737 1145 1583  838 1586 1545]\n"
     ]
    },
    {
     "name": "stderr",
     "output_type": "stream",
     "text": [
      "/project2/roux/scguo/scikit-learn-extra/sklearn_extra/cluster/_k_medoids.py:414: FutureWarning: elementwise comparison failed; returning scalar instead, but in the future will perform elementwise comparison\n",
      "  medoids = self.init\n",
      "/project2/roux/scguo/scikit-learn-extra/sklearn_extra/cluster/_k_medoids.py:417: FutureWarning: elementwise comparison failed; returning scalar instead, but in the future will perform elementwise comparison\n",
      "  medoids = random_state_.choice(len(D), n_clusters, replace=False)\n",
      "/project2/roux/scguo/scikit-learn-extra/sklearn_extra/cluster/_k_medoids.py:419: FutureWarning: elementwise comparison failed; returning scalar instead, but in the future will perform elementwise comparison\n",
      "  medoids = self._kpp_init(D, n_clusters, random_state_)\n",
      "/project2/roux/scguo/scikit-learn-extra/sklearn_extra/cluster/_k_medoids.py:425: FutureWarning: elementwise comparison failed; returning scalar instead, but in the future will perform elementwise comparison\n",
      "  ]\n",
      "/project2/roux/scguo/scikit-learn-extra/sklearn_extra/cluster/_k_medoids.py:282: ConvergenceWarning: Maximum number of iteration reached before convergence. Consider increasing max_iter to improve the fit.\n",
      "  )\n",
      "/project2/roux/scguo/scikit-learn-extra/sklearn_extra/cluster/_k_medoids.py:185: FutureWarning: elementwise comparison failed; returning scalar instead, but in the future will perform elementwise comparison\n",
      "  raise ValueError(\n"
     ]
    },
    {
     "name": "stdout",
     "output_type": "stream",
     "text": [
      "Iteration 4...\n",
      "[1533 1239  657  849  698  833 1346 1946  782 1027 1974 1642 1086  208\n",
      " 1737 1145 1583  838 1586 1545]\n"
     ]
    },
    {
     "name": "stderr",
     "output_type": "stream",
     "text": [
      "/project2/roux/scguo/scikit-learn-extra/sklearn_extra/cluster/_k_medoids.py:414: FutureWarning: elementwise comparison failed; returning scalar instead, but in the future will perform elementwise comparison\n",
      "  medoids = self.init\n",
      "/project2/roux/scguo/scikit-learn-extra/sklearn_extra/cluster/_k_medoids.py:417: FutureWarning: elementwise comparison failed; returning scalar instead, but in the future will perform elementwise comparison\n",
      "  medoids = random_state_.choice(len(D), n_clusters, replace=False)\n",
      "/project2/roux/scguo/scikit-learn-extra/sklearn_extra/cluster/_k_medoids.py:419: FutureWarning: elementwise comparison failed; returning scalar instead, but in the future will perform elementwise comparison\n",
      "  medoids = self._kpp_init(D, n_clusters, random_state_)\n",
      "/project2/roux/scguo/scikit-learn-extra/sklearn_extra/cluster/_k_medoids.py:425: FutureWarning: elementwise comparison failed; returning scalar instead, but in the future will perform elementwise comparison\n",
      "  ]\n",
      "/project2/roux/scguo/scikit-learn-extra/sklearn_extra/cluster/_k_medoids.py:282: ConvergenceWarning: Maximum number of iteration reached before convergence. Consider increasing max_iter to improve the fit.\n",
      "  )\n",
      "/project2/roux/scguo/scikit-learn-extra/sklearn_extra/cluster/_k_medoids.py:185: FutureWarning: elementwise comparison failed; returning scalar instead, but in the future will perform elementwise comparison\n",
      "  raise ValueError(\n"
     ]
    },
    {
     "name": "stdout",
     "output_type": "stream",
     "text": [
      "Iteration 5...\n",
      "[1533 1239  657  903  698  833 1346 1946  782 1027 1974 1642 1086  208\n",
      " 1737 1145 1583  838 1586 1545]\n"
     ]
    },
    {
     "name": "stderr",
     "output_type": "stream",
     "text": [
      "/project2/roux/scguo/scikit-learn-extra/sklearn_extra/cluster/_k_medoids.py:414: FutureWarning: elementwise comparison failed; returning scalar instead, but in the future will perform elementwise comparison\n",
      "  medoids = self.init\n",
      "/project2/roux/scguo/scikit-learn-extra/sklearn_extra/cluster/_k_medoids.py:417: FutureWarning: elementwise comparison failed; returning scalar instead, but in the future will perform elementwise comparison\n",
      "  medoids = random_state_.choice(len(D), n_clusters, replace=False)\n",
      "/project2/roux/scguo/scikit-learn-extra/sklearn_extra/cluster/_k_medoids.py:419: FutureWarning: elementwise comparison failed; returning scalar instead, but in the future will perform elementwise comparison\n",
      "  medoids = self._kpp_init(D, n_clusters, random_state_)\n",
      "/project2/roux/scguo/scikit-learn-extra/sklearn_extra/cluster/_k_medoids.py:425: FutureWarning: elementwise comparison failed; returning scalar instead, but in the future will perform elementwise comparison\n",
      "  ]\n",
      "/project2/roux/scguo/scikit-learn-extra/sklearn_extra/cluster/_k_medoids.py:282: ConvergenceWarning: Maximum number of iteration reached before convergence. Consider increasing max_iter to improve the fit.\n",
      "  )\n",
      "/project2/roux/scguo/scikit-learn-extra/sklearn_extra/cluster/_k_medoids.py:185: FutureWarning: elementwise comparison failed; returning scalar instead, but in the future will perform elementwise comparison\n",
      "  raise ValueError(\n"
     ]
    },
    {
     "name": "stdout",
     "output_type": "stream",
     "text": [
      "Iteration 6...\n",
      "[1533 1239  657  903  698  833 1346 1946  782 1027 1974 1642 1086  391\n",
      " 1737 1145 1583  838 1586 1545]\n"
     ]
    },
    {
     "name": "stderr",
     "output_type": "stream",
     "text": [
      "/project2/roux/scguo/scikit-learn-extra/sklearn_extra/cluster/_k_medoids.py:414: FutureWarning: elementwise comparison failed; returning scalar instead, but in the future will perform elementwise comparison\n",
      "  medoids = self.init\n",
      "/project2/roux/scguo/scikit-learn-extra/sklearn_extra/cluster/_k_medoids.py:417: FutureWarning: elementwise comparison failed; returning scalar instead, but in the future will perform elementwise comparison\n",
      "  medoids = random_state_.choice(len(D), n_clusters, replace=False)\n",
      "/project2/roux/scguo/scikit-learn-extra/sklearn_extra/cluster/_k_medoids.py:419: FutureWarning: elementwise comparison failed; returning scalar instead, but in the future will perform elementwise comparison\n",
      "  medoids = self._kpp_init(D, n_clusters, random_state_)\n",
      "/project2/roux/scguo/scikit-learn-extra/sklearn_extra/cluster/_k_medoids.py:425: FutureWarning: elementwise comparison failed; returning scalar instead, but in the future will perform elementwise comparison\n",
      "  ]\n",
      "/project2/roux/scguo/scikit-learn-extra/sklearn_extra/cluster/_k_medoids.py:282: ConvergenceWarning: Maximum number of iteration reached before convergence. Consider increasing max_iter to improve the fit.\n",
      "  )\n",
      "/project2/roux/scguo/scikit-learn-extra/sklearn_extra/cluster/_k_medoids.py:185: FutureWarning: elementwise comparison failed; returning scalar instead, but in the future will perform elementwise comparison\n",
      "  raise ValueError(\n"
     ]
    },
    {
     "name": "stdout",
     "output_type": "stream",
     "text": [
      "Iteration 7...\n",
      "[1533 1239  657  138  698  833 1346 1946  782 1027 1974 1642 1086  391\n",
      " 1737 1145 1583  838 1586 1545]\n"
     ]
    },
    {
     "name": "stderr",
     "output_type": "stream",
     "text": [
      "/project2/roux/scguo/scikit-learn-extra/sklearn_extra/cluster/_k_medoids.py:414: FutureWarning: elementwise comparison failed; returning scalar instead, but in the future will perform elementwise comparison\n",
      "  medoids = self.init\n",
      "/project2/roux/scguo/scikit-learn-extra/sklearn_extra/cluster/_k_medoids.py:417: FutureWarning: elementwise comparison failed; returning scalar instead, but in the future will perform elementwise comparison\n",
      "  medoids = random_state_.choice(len(D), n_clusters, replace=False)\n",
      "/project2/roux/scguo/scikit-learn-extra/sklearn_extra/cluster/_k_medoids.py:419: FutureWarning: elementwise comparison failed; returning scalar instead, but in the future will perform elementwise comparison\n",
      "  medoids = self._kpp_init(D, n_clusters, random_state_)\n",
      "/project2/roux/scguo/scikit-learn-extra/sklearn_extra/cluster/_k_medoids.py:425: FutureWarning: elementwise comparison failed; returning scalar instead, but in the future will perform elementwise comparison\n",
      "  ]\n",
      "/project2/roux/scguo/scikit-learn-extra/sklearn_extra/cluster/_k_medoids.py:282: ConvergenceWarning: Maximum number of iteration reached before convergence. Consider increasing max_iter to improve the fit.\n",
      "  )\n",
      "/project2/roux/scguo/scikit-learn-extra/sklearn_extra/cluster/_k_medoids.py:185: FutureWarning: elementwise comparison failed; returning scalar instead, but in the future will perform elementwise comparison\n",
      "  raise ValueError(\n"
     ]
    },
    {
     "name": "stdout",
     "output_type": "stream",
     "text": [
      "Iteration 8...\n",
      "[1533 1239  657  138  698  833 1346 1946  782 1027 1974 1642 1086  391\n",
      " 1737 1145 1645  838 1586 1545]\n"
     ]
    },
    {
     "name": "stderr",
     "output_type": "stream",
     "text": [
      "/project2/roux/scguo/scikit-learn-extra/sklearn_extra/cluster/_k_medoids.py:414: FutureWarning: elementwise comparison failed; returning scalar instead, but in the future will perform elementwise comparison\n",
      "  medoids = self.init\n",
      "/project2/roux/scguo/scikit-learn-extra/sklearn_extra/cluster/_k_medoids.py:417: FutureWarning: elementwise comparison failed; returning scalar instead, but in the future will perform elementwise comparison\n",
      "  medoids = random_state_.choice(len(D), n_clusters, replace=False)\n",
      "/project2/roux/scguo/scikit-learn-extra/sklearn_extra/cluster/_k_medoids.py:419: FutureWarning: elementwise comparison failed; returning scalar instead, but in the future will perform elementwise comparison\n",
      "  medoids = self._kpp_init(D, n_clusters, random_state_)\n",
      "/project2/roux/scguo/scikit-learn-extra/sklearn_extra/cluster/_k_medoids.py:425: FutureWarning: elementwise comparison failed; returning scalar instead, but in the future will perform elementwise comparison\n",
      "  ]\n",
      "/project2/roux/scguo/scikit-learn-extra/sklearn_extra/cluster/_k_medoids.py:282: ConvergenceWarning: Maximum number of iteration reached before convergence. Consider increasing max_iter to improve the fit.\n",
      "  )\n",
      "/project2/roux/scguo/scikit-learn-extra/sklearn_extra/cluster/_k_medoids.py:185: FutureWarning: elementwise comparison failed; returning scalar instead, but in the future will perform elementwise comparison\n",
      "  raise ValueError(\n"
     ]
    },
    {
     "name": "stdout",
     "output_type": "stream",
     "text": [
      "Iteration 9...\n",
      "[1533 1239  657  138  698  833 1346 1946  782 1027 1974 1642 1086  391\n",
      " 1737 1145 1645 1529 1586 1545]\n"
     ]
    },
    {
     "name": "stderr",
     "output_type": "stream",
     "text": [
      "/project2/roux/scguo/scikit-learn-extra/sklearn_extra/cluster/_k_medoids.py:414: FutureWarning: elementwise comparison failed; returning scalar instead, but in the future will perform elementwise comparison\n",
      "  medoids = self.init\n",
      "/project2/roux/scguo/scikit-learn-extra/sklearn_extra/cluster/_k_medoids.py:417: FutureWarning: elementwise comparison failed; returning scalar instead, but in the future will perform elementwise comparison\n",
      "  medoids = random_state_.choice(len(D), n_clusters, replace=False)\n",
      "/project2/roux/scguo/scikit-learn-extra/sklearn_extra/cluster/_k_medoids.py:419: FutureWarning: elementwise comparison failed; returning scalar instead, but in the future will perform elementwise comparison\n",
      "  medoids = self._kpp_init(D, n_clusters, random_state_)\n",
      "/project2/roux/scguo/scikit-learn-extra/sklearn_extra/cluster/_k_medoids.py:425: FutureWarning: elementwise comparison failed; returning scalar instead, but in the future will perform elementwise comparison\n",
      "  ]\n",
      "/project2/roux/scguo/scikit-learn-extra/sklearn_extra/cluster/_k_medoids.py:282: ConvergenceWarning: Maximum number of iteration reached before convergence. Consider increasing max_iter to improve the fit.\n",
      "  )\n",
      "/project2/roux/scguo/scikit-learn-extra/sklearn_extra/cluster/_k_medoids.py:185: FutureWarning: elementwise comparison failed; returning scalar instead, but in the future will perform elementwise comparison\n",
      "  raise ValueError(\n"
     ]
    },
    {
     "name": "stdout",
     "output_type": "stream",
     "text": [
      "Iteration 10...\n",
      "[1533  667  657  138  698  833 1346 1946  782 1027 1974 1642 1086  391\n",
      " 1737 1145 1645 1529 1586 1545]\n"
     ]
    },
    {
     "name": "stderr",
     "output_type": "stream",
     "text": [
      "/project2/roux/scguo/scikit-learn-extra/sklearn_extra/cluster/_k_medoids.py:414: FutureWarning: elementwise comparison failed; returning scalar instead, but in the future will perform elementwise comparison\n",
      "  medoids = self.init\n",
      "/project2/roux/scguo/scikit-learn-extra/sklearn_extra/cluster/_k_medoids.py:417: FutureWarning: elementwise comparison failed; returning scalar instead, but in the future will perform elementwise comparison\n",
      "  medoids = random_state_.choice(len(D), n_clusters, replace=False)\n",
      "/project2/roux/scguo/scikit-learn-extra/sklearn_extra/cluster/_k_medoids.py:419: FutureWarning: elementwise comparison failed; returning scalar instead, but in the future will perform elementwise comparison\n",
      "  medoids = self._kpp_init(D, n_clusters, random_state_)\n",
      "/project2/roux/scguo/scikit-learn-extra/sklearn_extra/cluster/_k_medoids.py:425: FutureWarning: elementwise comparison failed; returning scalar instead, but in the future will perform elementwise comparison\n",
      "  ]\n",
      "/project2/roux/scguo/scikit-learn-extra/sklearn_extra/cluster/_k_medoids.py:282: ConvergenceWarning: Maximum number of iteration reached before convergence. Consider increasing max_iter to improve the fit.\n",
      "  )\n",
      "/project2/roux/scguo/scikit-learn-extra/sklearn_extra/cluster/_k_medoids.py:185: FutureWarning: elementwise comparison failed; returning scalar instead, but in the future will perform elementwise comparison\n",
      "  raise ValueError(\n"
     ]
    },
    {
     "name": "stdout",
     "output_type": "stream",
     "text": [
      "Iteration 11...\n",
      "[ 239  667  657  138  698  833 1346 1946  782 1027 1974 1642 1086  391\n",
      " 1737 1145 1645 1529 1586 1545]\n"
     ]
    },
    {
     "name": "stderr",
     "output_type": "stream",
     "text": [
      "/project2/roux/scguo/scikit-learn-extra/sklearn_extra/cluster/_k_medoids.py:414: FutureWarning: elementwise comparison failed; returning scalar instead, but in the future will perform elementwise comparison\n",
      "  medoids = self.init\n",
      "/project2/roux/scguo/scikit-learn-extra/sklearn_extra/cluster/_k_medoids.py:417: FutureWarning: elementwise comparison failed; returning scalar instead, but in the future will perform elementwise comparison\n",
      "  medoids = random_state_.choice(len(D), n_clusters, replace=False)\n",
      "/project2/roux/scguo/scikit-learn-extra/sklearn_extra/cluster/_k_medoids.py:419: FutureWarning: elementwise comparison failed; returning scalar instead, but in the future will perform elementwise comparison\n",
      "  medoids = self._kpp_init(D, n_clusters, random_state_)\n",
      "/project2/roux/scguo/scikit-learn-extra/sklearn_extra/cluster/_k_medoids.py:425: FutureWarning: elementwise comparison failed; returning scalar instead, but in the future will perform elementwise comparison\n",
      "  ]\n",
      "/project2/roux/scguo/scikit-learn-extra/sklearn_extra/cluster/_k_medoids.py:282: ConvergenceWarning: Maximum number of iteration reached before convergence. Consider increasing max_iter to improve the fit.\n",
      "  )\n",
      "/project2/roux/scguo/scikit-learn-extra/sklearn_extra/cluster/_k_medoids.py:185: FutureWarning: elementwise comparison failed; returning scalar instead, but in the future will perform elementwise comparison\n",
      "  raise ValueError(\n"
     ]
    },
    {
     "name": "stdout",
     "output_type": "stream",
     "text": [
      "Iteration 12...\n",
      "[ 239  207  657  138  698  833 1346 1946  782 1027 1974 1642 1086  391\n",
      " 1737 1145 1645 1529 1586 1545]\n"
     ]
    },
    {
     "name": "stderr",
     "output_type": "stream",
     "text": [
      "/project2/roux/scguo/scikit-learn-extra/sklearn_extra/cluster/_k_medoids.py:414: FutureWarning: elementwise comparison failed; returning scalar instead, but in the future will perform elementwise comparison\n",
      "  medoids = self.init\n",
      "/project2/roux/scguo/scikit-learn-extra/sklearn_extra/cluster/_k_medoids.py:417: FutureWarning: elementwise comparison failed; returning scalar instead, but in the future will perform elementwise comparison\n",
      "  medoids = random_state_.choice(len(D), n_clusters, replace=False)\n",
      "/project2/roux/scguo/scikit-learn-extra/sklearn_extra/cluster/_k_medoids.py:419: FutureWarning: elementwise comparison failed; returning scalar instead, but in the future will perform elementwise comparison\n",
      "  medoids = self._kpp_init(D, n_clusters, random_state_)\n",
      "/project2/roux/scguo/scikit-learn-extra/sklearn_extra/cluster/_k_medoids.py:425: FutureWarning: elementwise comparison failed; returning scalar instead, but in the future will perform elementwise comparison\n",
      "  ]\n",
      "/project2/roux/scguo/scikit-learn-extra/sklearn_extra/cluster/_k_medoids.py:282: ConvergenceWarning: Maximum number of iteration reached before convergence. Consider increasing max_iter to improve the fit.\n",
      "  )\n",
      "/project2/roux/scguo/scikit-learn-extra/sklearn_extra/cluster/_k_medoids.py:185: FutureWarning: elementwise comparison failed; returning scalar instead, but in the future will perform elementwise comparison\n",
      "  raise ValueError(\n"
     ]
    },
    {
     "name": "stdout",
     "output_type": "stream",
     "text": [
      "Iteration 13...\n",
      "[ 239  207  657  138  698  833 1346 1946  782 1027 1974 1642 1086  391\n",
      " 1737 1145 1645 1529 1586 1564]\n"
     ]
    },
    {
     "name": "stderr",
     "output_type": "stream",
     "text": [
      "/project2/roux/scguo/scikit-learn-extra/sklearn_extra/cluster/_k_medoids.py:414: FutureWarning: elementwise comparison failed; returning scalar instead, but in the future will perform elementwise comparison\n",
      "  medoids = self.init\n",
      "/project2/roux/scguo/scikit-learn-extra/sklearn_extra/cluster/_k_medoids.py:417: FutureWarning: elementwise comparison failed; returning scalar instead, but in the future will perform elementwise comparison\n",
      "  medoids = random_state_.choice(len(D), n_clusters, replace=False)\n",
      "/project2/roux/scguo/scikit-learn-extra/sklearn_extra/cluster/_k_medoids.py:419: FutureWarning: elementwise comparison failed; returning scalar instead, but in the future will perform elementwise comparison\n",
      "  medoids = self._kpp_init(D, n_clusters, random_state_)\n",
      "/project2/roux/scguo/scikit-learn-extra/sklearn_extra/cluster/_k_medoids.py:425: FutureWarning: elementwise comparison failed; returning scalar instead, but in the future will perform elementwise comparison\n",
      "  ]\n",
      "/project2/roux/scguo/scikit-learn-extra/sklearn_extra/cluster/_k_medoids.py:282: ConvergenceWarning: Maximum number of iteration reached before convergence. Consider increasing max_iter to improve the fit.\n",
      "  )\n",
      "/project2/roux/scguo/scikit-learn-extra/sklearn_extra/cluster/_k_medoids.py:185: FutureWarning: elementwise comparison failed; returning scalar instead, but in the future will perform elementwise comparison\n",
      "  raise ValueError(\n"
     ]
    },
    {
     "name": "stdout",
     "output_type": "stream",
     "text": [
      "Iteration 14...\n",
      "[ 239  207  657  138  972  833 1346 1946  782 1027 1974 1642 1086  391\n",
      " 1737 1145 1645 1529 1586 1564]\n"
     ]
    },
    {
     "name": "stderr",
     "output_type": "stream",
     "text": [
      "/project2/roux/scguo/scikit-learn-extra/sklearn_extra/cluster/_k_medoids.py:414: FutureWarning: elementwise comparison failed; returning scalar instead, but in the future will perform elementwise comparison\n",
      "  medoids = self.init\n",
      "/project2/roux/scguo/scikit-learn-extra/sklearn_extra/cluster/_k_medoids.py:417: FutureWarning: elementwise comparison failed; returning scalar instead, but in the future will perform elementwise comparison\n",
      "  medoids = random_state_.choice(len(D), n_clusters, replace=False)\n",
      "/project2/roux/scguo/scikit-learn-extra/sklearn_extra/cluster/_k_medoids.py:419: FutureWarning: elementwise comparison failed; returning scalar instead, but in the future will perform elementwise comparison\n",
      "  medoids = self._kpp_init(D, n_clusters, random_state_)\n",
      "/project2/roux/scguo/scikit-learn-extra/sklearn_extra/cluster/_k_medoids.py:425: FutureWarning: elementwise comparison failed; returning scalar instead, but in the future will perform elementwise comparison\n",
      "  ]\n",
      "/project2/roux/scguo/scikit-learn-extra/sklearn_extra/cluster/_k_medoids.py:282: ConvergenceWarning: Maximum number of iteration reached before convergence. Consider increasing max_iter to improve the fit.\n",
      "  )\n",
      "/project2/roux/scguo/scikit-learn-extra/sklearn_extra/cluster/_k_medoids.py:185: FutureWarning: elementwise comparison failed; returning scalar instead, but in the future will perform elementwise comparison\n",
      "  raise ValueError(\n"
     ]
    },
    {
     "name": "stdout",
     "output_type": "stream",
     "text": [
      "Iteration 15...\n",
      "[ 239  207  657  138  660  833 1346 1946  782 1027 1974 1642 1086  391\n",
      " 1737 1145 1645 1529 1586 1564]\n"
     ]
    },
    {
     "name": "stderr",
     "output_type": "stream",
     "text": [
      "/project2/roux/scguo/scikit-learn-extra/sklearn_extra/cluster/_k_medoids.py:414: FutureWarning: elementwise comparison failed; returning scalar instead, but in the future will perform elementwise comparison\n",
      "  medoids = self.init\n",
      "/project2/roux/scguo/scikit-learn-extra/sklearn_extra/cluster/_k_medoids.py:417: FutureWarning: elementwise comparison failed; returning scalar instead, but in the future will perform elementwise comparison\n",
      "  medoids = random_state_.choice(len(D), n_clusters, replace=False)\n",
      "/project2/roux/scguo/scikit-learn-extra/sklearn_extra/cluster/_k_medoids.py:419: FutureWarning: elementwise comparison failed; returning scalar instead, but in the future will perform elementwise comparison\n",
      "  medoids = self._kpp_init(D, n_clusters, random_state_)\n",
      "/project2/roux/scguo/scikit-learn-extra/sklearn_extra/cluster/_k_medoids.py:425: FutureWarning: elementwise comparison failed; returning scalar instead, but in the future will perform elementwise comparison\n",
      "  ]\n",
      "/project2/roux/scguo/scikit-learn-extra/sklearn_extra/cluster/_k_medoids.py:282: ConvergenceWarning: Maximum number of iteration reached before convergence. Consider increasing max_iter to improve the fit.\n",
      "  )\n",
      "/project2/roux/scguo/scikit-learn-extra/sklearn_extra/cluster/_k_medoids.py:185: FutureWarning: elementwise comparison failed; returning scalar instead, but in the future will perform elementwise comparison\n",
      "  raise ValueError(\n"
     ]
    },
    {
     "name": "stdout",
     "output_type": "stream",
     "text": [
      "Iteration 16...\n",
      "[ 239  207  657  138  660  833 1346 1946  782 1027 1974 1642 1086  391\n",
      " 1737 1145 1645 1529   16 1564]\n"
     ]
    },
    {
     "name": "stderr",
     "output_type": "stream",
     "text": [
      "/project2/roux/scguo/scikit-learn-extra/sklearn_extra/cluster/_k_medoids.py:414: FutureWarning: elementwise comparison failed; returning scalar instead, but in the future will perform elementwise comparison\n",
      "  medoids = self.init\n",
      "/project2/roux/scguo/scikit-learn-extra/sklearn_extra/cluster/_k_medoids.py:417: FutureWarning: elementwise comparison failed; returning scalar instead, but in the future will perform elementwise comparison\n",
      "  medoids = random_state_.choice(len(D), n_clusters, replace=False)\n",
      "/project2/roux/scguo/scikit-learn-extra/sklearn_extra/cluster/_k_medoids.py:419: FutureWarning: elementwise comparison failed; returning scalar instead, but in the future will perform elementwise comparison\n",
      "  medoids = self._kpp_init(D, n_clusters, random_state_)\n",
      "/project2/roux/scguo/scikit-learn-extra/sklearn_extra/cluster/_k_medoids.py:425: FutureWarning: elementwise comparison failed; returning scalar instead, but in the future will perform elementwise comparison\n",
      "  ]\n",
      "/project2/roux/scguo/scikit-learn-extra/sklearn_extra/cluster/_k_medoids.py:282: ConvergenceWarning: Maximum number of iteration reached before convergence. Consider increasing max_iter to improve the fit.\n",
      "  )\n",
      "/project2/roux/scguo/scikit-learn-extra/sklearn_extra/cluster/_k_medoids.py:185: FutureWarning: elementwise comparison failed; returning scalar instead, but in the future will perform elementwise comparison\n",
      "  raise ValueError(\n"
     ]
    },
    {
     "name": "stdout",
     "output_type": "stream",
     "text": [
      "Iteration 17...\n",
      "[ 239  207  657  138  660  833 1346 1946  151 1027 1974 1642 1086  391\n",
      " 1737 1145 1645 1529   16 1564]\n"
     ]
    },
    {
     "name": "stderr",
     "output_type": "stream",
     "text": [
      "/project2/roux/scguo/scikit-learn-extra/sklearn_extra/cluster/_k_medoids.py:414: FutureWarning: elementwise comparison failed; returning scalar instead, but in the future will perform elementwise comparison\n",
      "  medoids = self.init\n",
      "/project2/roux/scguo/scikit-learn-extra/sklearn_extra/cluster/_k_medoids.py:417: FutureWarning: elementwise comparison failed; returning scalar instead, but in the future will perform elementwise comparison\n",
      "  medoids = random_state_.choice(len(D), n_clusters, replace=False)\n",
      "/project2/roux/scguo/scikit-learn-extra/sklearn_extra/cluster/_k_medoids.py:419: FutureWarning: elementwise comparison failed; returning scalar instead, but in the future will perform elementwise comparison\n",
      "  medoids = self._kpp_init(D, n_clusters, random_state_)\n",
      "/project2/roux/scguo/scikit-learn-extra/sklearn_extra/cluster/_k_medoids.py:425: FutureWarning: elementwise comparison failed; returning scalar instead, but in the future will perform elementwise comparison\n",
      "  ]\n",
      "/project2/roux/scguo/scikit-learn-extra/sklearn_extra/cluster/_k_medoids.py:282: ConvergenceWarning: Maximum number of iteration reached before convergence. Consider increasing max_iter to improve the fit.\n",
      "  )\n",
      "/project2/roux/scguo/scikit-learn-extra/sklearn_extra/cluster/_k_medoids.py:185: FutureWarning: elementwise comparison failed; returning scalar instead, but in the future will perform elementwise comparison\n",
      "  raise ValueError(\n"
     ]
    },
    {
     "name": "stdout",
     "output_type": "stream",
     "text": [
      "Iteration 18...\n",
      "[ 239  207  657  138  660  833 1346 1946  151 1027 1974 1642 1086  391\n",
      " 1737 1145 1645 1529   16  513]\n"
     ]
    },
    {
     "name": "stderr",
     "output_type": "stream",
     "text": [
      "/project2/roux/scguo/scikit-learn-extra/sklearn_extra/cluster/_k_medoids.py:414: FutureWarning: elementwise comparison failed; returning scalar instead, but in the future will perform elementwise comparison\n",
      "  medoids = self.init\n",
      "/project2/roux/scguo/scikit-learn-extra/sklearn_extra/cluster/_k_medoids.py:417: FutureWarning: elementwise comparison failed; returning scalar instead, but in the future will perform elementwise comparison\n",
      "  medoids = random_state_.choice(len(D), n_clusters, replace=False)\n",
      "/project2/roux/scguo/scikit-learn-extra/sklearn_extra/cluster/_k_medoids.py:419: FutureWarning: elementwise comparison failed; returning scalar instead, but in the future will perform elementwise comparison\n",
      "  medoids = self._kpp_init(D, n_clusters, random_state_)\n",
      "/project2/roux/scguo/scikit-learn-extra/sklearn_extra/cluster/_k_medoids.py:425: FutureWarning: elementwise comparison failed; returning scalar instead, but in the future will perform elementwise comparison\n",
      "  ]\n",
      "/project2/roux/scguo/scikit-learn-extra/sklearn_extra/cluster/_k_medoids.py:282: ConvergenceWarning: Maximum number of iteration reached before convergence. Consider increasing max_iter to improve the fit.\n",
      "  )\n",
      "/project2/roux/scguo/scikit-learn-extra/sklearn_extra/cluster/_k_medoids.py:185: FutureWarning: elementwise comparison failed; returning scalar instead, but in the future will perform elementwise comparison\n",
      "  raise ValueError(\n"
     ]
    },
    {
     "name": "stdout",
     "output_type": "stream",
     "text": [
      "Iteration 19...\n",
      "[ 239  207  657  138  660  833 1346 1946  151 1027 1974 1642 1086  391\n",
      " 1792 1145 1645 1529   16  513]\n"
     ]
    },
    {
     "name": "stderr",
     "output_type": "stream",
     "text": [
      "/project2/roux/scguo/scikit-learn-extra/sklearn_extra/cluster/_k_medoids.py:414: FutureWarning: elementwise comparison failed; returning scalar instead, but in the future will perform elementwise comparison\n",
      "  medoids = self.init\n",
      "/project2/roux/scguo/scikit-learn-extra/sklearn_extra/cluster/_k_medoids.py:417: FutureWarning: elementwise comparison failed; returning scalar instead, but in the future will perform elementwise comparison\n",
      "  medoids = random_state_.choice(len(D), n_clusters, replace=False)\n",
      "/project2/roux/scguo/scikit-learn-extra/sklearn_extra/cluster/_k_medoids.py:419: FutureWarning: elementwise comparison failed; returning scalar instead, but in the future will perform elementwise comparison\n",
      "  medoids = self._kpp_init(D, n_clusters, random_state_)\n",
      "/project2/roux/scguo/scikit-learn-extra/sklearn_extra/cluster/_k_medoids.py:425: FutureWarning: elementwise comparison failed; returning scalar instead, but in the future will perform elementwise comparison\n",
      "  ]\n",
      "/project2/roux/scguo/scikit-learn-extra/sklearn_extra/cluster/_k_medoids.py:282: ConvergenceWarning: Maximum number of iteration reached before convergence. Consider increasing max_iter to improve the fit.\n",
      "  )\n",
      "/project2/roux/scguo/scikit-learn-extra/sklearn_extra/cluster/_k_medoids.py:185: FutureWarning: elementwise comparison failed; returning scalar instead, but in the future will perform elementwise comparison\n",
      "  raise ValueError(\n"
     ]
    },
    {
     "name": "stdout",
     "output_type": "stream",
     "text": [
      "Iteration 20...\n",
      "[ 239  207  657  138  660 1372 1346 1946  151 1027 1974 1642 1086  391\n",
      " 1792 1145 1645 1529   16  513]\n"
     ]
    },
    {
     "name": "stderr",
     "output_type": "stream",
     "text": [
      "/project2/roux/scguo/scikit-learn-extra/sklearn_extra/cluster/_k_medoids.py:414: FutureWarning: elementwise comparison failed; returning scalar instead, but in the future will perform elementwise comparison\n",
      "  medoids = self.init\n",
      "/project2/roux/scguo/scikit-learn-extra/sklearn_extra/cluster/_k_medoids.py:417: FutureWarning: elementwise comparison failed; returning scalar instead, but in the future will perform elementwise comparison\n",
      "  medoids = random_state_.choice(len(D), n_clusters, replace=False)\n",
      "/project2/roux/scguo/scikit-learn-extra/sklearn_extra/cluster/_k_medoids.py:419: FutureWarning: elementwise comparison failed; returning scalar instead, but in the future will perform elementwise comparison\n",
      "  medoids = self._kpp_init(D, n_clusters, random_state_)\n",
      "/project2/roux/scguo/scikit-learn-extra/sklearn_extra/cluster/_k_medoids.py:425: FutureWarning: elementwise comparison failed; returning scalar instead, but in the future will perform elementwise comparison\n",
      "  ]\n",
      "/project2/roux/scguo/scikit-learn-extra/sklearn_extra/cluster/_k_medoids.py:282: ConvergenceWarning: Maximum number of iteration reached before convergence. Consider increasing max_iter to improve the fit.\n",
      "  )\n"
     ]
    }
   ],
   "source": [
    "k = 20\n",
    "km = mini_batch_kmedoids(data_arr, k, batchsize=0.01, metric=se_metric, n_iter=20)"
   ]
  },
  {
   "cell_type": "code",
   "execution_count": 76,
   "metadata": {},
   "outputs": [
    {
     "data": {
      "text/plain": [
       "array([13.84809195,  1.07783257])"
      ]
     },
     "execution_count": 76,
     "metadata": {},
     "output_type": "execute_result"
    }
   ],
   "source": [
    "weights ** (-1)"
   ]
  },
  {
   "cell_type": "code",
   "execution_count": 74,
   "metadata": {},
   "outputs": [
    {
     "data": {
      "image/png": "[encoded data removed]",
      "text/plain": [
       "<Figure size 450x450 with 1 Axes>"
      ]
     },
     "metadata": {
      "needs_background": "light"
     },
     "output_type": "display_data"
    }
   ],
   "source": [
    "labels = km.predict(data_arr)\n",
    "fig, ax = plt.subplots()\n",
    "for i in range(k):\n",
    "    # Find indices of data in cluster k\n",
    "    idx = np.where(labels == i)[0]\n",
    "    ax.scatter(data_arr[idx, 0], data_arr[idx, 1], marker=\".\")\n",
    "    ax.plot(*km.cluster_centers_[i], \"sk\")"
   ]
  },
  {
   "cell_type": "code",
   "execution_count": 67,
   "metadata": {},
   "outputs": [
    {
     "data": {
      "text/plain": [
       "array([857, 952,  41, 643, 722, 247, 928, 357, 455, 203, 589, 250, 794,\n",
       "       918, 724, 800, 149, 134, 242, 456])"
      ]
     },
     "execution_count": 67,
     "metadata": {},
     "output_type": "execute_result"
    }
   ],
   "source": [
    "labels"
   ]
  },
  {
   "cell_type": "code",
   "execution_count": 68,
   "metadata": {
    "scrolled": true,
    "tags": []
   },
   "outputs": [
    {
     "name": "stdout",
     "output_type": "stream",
     "text": [
      "Initializing medoids...\n",
      "k-medoids++\n",
      "Finished initialization.\n",
      "Iteration 1...\n",
      "[ 228  468  847 1403 1185  873 1477 1652  899 1867 1112 1670  397  575\n",
      " 1686 1661 1550  828 1614 1544]\n"
     ]
    },
    {
     "name": "stderr",
     "output_type": "stream",
     "text": [
      "/project2/roux/scguo/scikit-learn-extra/sklearn_extra/cluster/_k_medoids.py:185: FutureWarning: elementwise comparison failed; returning scalar instead, but in the future will perform elementwise comparison\n",
      "  raise ValueError(\n",
      "/project2/roux/scguo/scikit-learn-extra/sklearn_extra/cluster/_k_medoids.py:414: FutureWarning: elementwise comparison failed; returning scalar instead, but in the future will perform elementwise comparison\n",
      "  medoids = self.init\n",
      "/project2/roux/scguo/scikit-learn-extra/sklearn_extra/cluster/_k_medoids.py:417: FutureWarning: elementwise comparison failed; returning scalar instead, but in the future will perform elementwise comparison\n",
      "  medoids = random_state_.choice(len(D), n_clusters, replace=False)\n",
      "/project2/roux/scguo/scikit-learn-extra/sklearn_extra/cluster/_k_medoids.py:419: FutureWarning: elementwise comparison failed; returning scalar instead, but in the future will perform elementwise comparison\n",
      "  medoids = self._kpp_init(D, n_clusters, random_state_)\n",
      "/project2/roux/scguo/scikit-learn-extra/sklearn_extra/cluster/_k_medoids.py:425: FutureWarning: elementwise comparison failed; returning scalar instead, but in the future will perform elementwise comparison\n",
      "  ]\n",
      "/project2/roux/scguo/scikit-learn-extra/sklearn_extra/cluster/_k_medoids.py:282: ConvergenceWarning: Maximum number of iteration reached before convergence. Consider increasing max_iter to improve the fit.\n",
      "  )\n",
      "/project2/roux/scguo/scikit-learn-extra/sklearn_extra/cluster/_k_medoids.py:185: FutureWarning: elementwise comparison failed; returning scalar instead, but in the future will perform elementwise comparison\n",
      "  raise ValueError(\n",
      "/project2/roux/scguo/scikit-learn-extra/sklearn_extra/cluster/_k_medoids.py:414: FutureWarning: elementwise comparison failed; returning scalar instead, but in the future will perform elementwise comparison\n",
      "  medoids = self.init\n",
      "/project2/roux/scguo/scikit-learn-extra/sklearn_extra/cluster/_k_medoids.py:417: FutureWarning: elementwise comparison failed; returning scalar instead, but in the future will perform elementwise comparison\n",
      "  medoids = random_state_.choice(len(D), n_clusters, replace=False)\n",
      "/project2/roux/scguo/scikit-learn-extra/sklearn_extra/cluster/_k_medoids.py:419: FutureWarning: elementwise comparison failed; returning scalar instead, but in the future will perform elementwise comparison\n",
      "  medoids = self._kpp_init(D, n_clusters, random_state_)\n",
      "/project2/roux/scguo/scikit-learn-extra/sklearn_extra/cluster/_k_medoids.py:425: FutureWarning: elementwise comparison failed; returning scalar instead, but in the future will perform elementwise comparison\n",
      "  ]\n"
     ]
    },
    {
     "name": "stdout",
     "output_type": "stream",
     "text": [
      "Iteration 2...\n",
      "[ 228  468  847 1403 1185  873 1477 1652  899 1867 1176 1670  397  575\n",
      " 1686 1661 1550  828 1614 1544]\n"
     ]
    },
    {
     "name": "stderr",
     "output_type": "stream",
     "text": [
      "/project2/roux/scguo/scikit-learn-extra/sklearn_extra/cluster/_k_medoids.py:282: ConvergenceWarning: Maximum number of iteration reached before convergence. Consider increasing max_iter to improve the fit.\n",
      "  )\n",
      "/project2/roux/scguo/scikit-learn-extra/sklearn_extra/cluster/_k_medoids.py:185: FutureWarning: elementwise comparison failed; returning scalar instead, but in the future will perform elementwise comparison\n",
      "  raise ValueError(\n",
      "/project2/roux/scguo/scikit-learn-extra/sklearn_extra/cluster/_k_medoids.py:414: FutureWarning: elementwise comparison failed; returning scalar instead, but in the future will perform elementwise comparison\n",
      "  medoids = self.init\n",
      "/project2/roux/scguo/scikit-learn-extra/sklearn_extra/cluster/_k_medoids.py:417: FutureWarning: elementwise comparison failed; returning scalar instead, but in the future will perform elementwise comparison\n",
      "  medoids = random_state_.choice(len(D), n_clusters, replace=False)\n",
      "/project2/roux/scguo/scikit-learn-extra/sklearn_extra/cluster/_k_medoids.py:419: FutureWarning: elementwise comparison failed; returning scalar instead, but in the future will perform elementwise comparison\n",
      "  medoids = self._kpp_init(D, n_clusters, random_state_)\n",
      "/project2/roux/scguo/scikit-learn-extra/sklearn_extra/cluster/_k_medoids.py:425: FutureWarning: elementwise comparison failed; returning scalar instead, but in the future will perform elementwise comparison\n",
      "  ]\n"
     ]
    },
    {
     "name": "stdout",
     "output_type": "stream",
     "text": [
      "Iteration 3...\n",
      "[ 228  468  847 1403 1185  873 1477 1652  899 1867 1176 1660  397  575\n",
      " 1686 1661 1550  828 1614 1544]\n"
     ]
    },
    {
     "name": "stderr",
     "output_type": "stream",
     "text": [
      "/project2/roux/scguo/scikit-learn-extra/sklearn_extra/cluster/_k_medoids.py:282: ConvergenceWarning: Maximum number of iteration reached before convergence. Consider increasing max_iter to improve the fit.\n",
      "  )\n",
      "/project2/roux/scguo/scikit-learn-extra/sklearn_extra/cluster/_k_medoids.py:185: FutureWarning: elementwise comparison failed; returning scalar instead, but in the future will perform elementwise comparison\n",
      "  raise ValueError(\n",
      "/project2/roux/scguo/scikit-learn-extra/sklearn_extra/cluster/_k_medoids.py:414: FutureWarning: elementwise comparison failed; returning scalar instead, but in the future will perform elementwise comparison\n",
      "  medoids = self.init\n",
      "/project2/roux/scguo/scikit-learn-extra/sklearn_extra/cluster/_k_medoids.py:417: FutureWarning: elementwise comparison failed; returning scalar instead, but in the future will perform elementwise comparison\n",
      "  medoids = random_state_.choice(len(D), n_clusters, replace=False)\n",
      "/project2/roux/scguo/scikit-learn-extra/sklearn_extra/cluster/_k_medoids.py:419: FutureWarning: elementwise comparison failed; returning scalar instead, but in the future will perform elementwise comparison\n",
      "  medoids = self._kpp_init(D, n_clusters, random_state_)\n",
      "/project2/roux/scguo/scikit-learn-extra/sklearn_extra/cluster/_k_medoids.py:425: FutureWarning: elementwise comparison failed; returning scalar instead, but in the future will perform elementwise comparison\n",
      "  ]\n"
     ]
    },
    {
     "name": "stdout",
     "output_type": "stream",
     "text": [
      "Iteration 4...\n",
      "[ 228  468  847 1403 1185  873 1477 1652  899 1867 1176  648  397  575\n",
      " 1686 1661 1550  828 1614 1544]\n"
     ]
    },
    {
     "name": "stderr",
     "output_type": "stream",
     "text": [
      "/project2/roux/scguo/scikit-learn-extra/sklearn_extra/cluster/_k_medoids.py:282: ConvergenceWarning: Maximum number of iteration reached before convergence. Consider increasing max_iter to improve the fit.\n",
      "  )\n",
      "/project2/roux/scguo/scikit-learn-extra/sklearn_extra/cluster/_k_medoids.py:185: FutureWarning: elementwise comparison failed; returning scalar instead, but in the future will perform elementwise comparison\n",
      "  raise ValueError(\n",
      "/project2/roux/scguo/scikit-learn-extra/sklearn_extra/cluster/_k_medoids.py:414: FutureWarning: elementwise comparison failed; returning scalar instead, but in the future will perform elementwise comparison\n",
      "  medoids = self.init\n",
      "/project2/roux/scguo/scikit-learn-extra/sklearn_extra/cluster/_k_medoids.py:417: FutureWarning: elementwise comparison failed; returning scalar instead, but in the future will perform elementwise comparison\n",
      "  medoids = random_state_.choice(len(D), n_clusters, replace=False)\n",
      "/project2/roux/scguo/scikit-learn-extra/sklearn_extra/cluster/_k_medoids.py:419: FutureWarning: elementwise comparison failed; returning scalar instead, but in the future will perform elementwise comparison\n",
      "  medoids = self._kpp_init(D, n_clusters, random_state_)\n",
      "/project2/roux/scguo/scikit-learn-extra/sklearn_extra/cluster/_k_medoids.py:425: FutureWarning: elementwise comparison failed; returning scalar instead, but in the future will perform elementwise comparison\n",
      "  ]\n"
     ]
    },
    {
     "name": "stdout",
     "output_type": "stream",
     "text": [
      "Iteration 5...\n",
      "[ 228  468  847 1403 1185  873 1477 1652  495 1867 1176  648  397  575\n",
      " 1686 1661 1550  828 1614 1544]\n"
     ]
    },
    {
     "name": "stderr",
     "output_type": "stream",
     "text": [
      "/project2/roux/scguo/scikit-learn-extra/sklearn_extra/cluster/_k_medoids.py:282: ConvergenceWarning: Maximum number of iteration reached before convergence. Consider increasing max_iter to improve the fit.\n",
      "  )\n",
      "/project2/roux/scguo/scikit-learn-extra/sklearn_extra/cluster/_k_medoids.py:185: FutureWarning: elementwise comparison failed; returning scalar instead, but in the future will perform elementwise comparison\n",
      "  raise ValueError(\n",
      "/project2/roux/scguo/scikit-learn-extra/sklearn_extra/cluster/_k_medoids.py:414: FutureWarning: elementwise comparison failed; returning scalar instead, but in the future will perform elementwise comparison\n",
      "  medoids = self.init\n",
      "/project2/roux/scguo/scikit-learn-extra/sklearn_extra/cluster/_k_medoids.py:417: FutureWarning: elementwise comparison failed; returning scalar instead, but in the future will perform elementwise comparison\n",
      "  medoids = random_state_.choice(len(D), n_clusters, replace=False)\n",
      "/project2/roux/scguo/scikit-learn-extra/sklearn_extra/cluster/_k_medoids.py:419: FutureWarning: elementwise comparison failed; returning scalar instead, but in the future will perform elementwise comparison\n",
      "  medoids = self._kpp_init(D, n_clusters, random_state_)\n",
      "/project2/roux/scguo/scikit-learn-extra/sklearn_extra/cluster/_k_medoids.py:425: FutureWarning: elementwise comparison failed; returning scalar instead, but in the future will perform elementwise comparison\n",
      "  ]\n"
     ]
    },
    {
     "name": "stdout",
     "output_type": "stream",
     "text": [
      "Iteration 6...\n",
      "[ 228  468  847 1403 1185  873 1477 1652  495 1867 1678  648  397  575\n",
      " 1686 1661 1550  828 1614 1544]\n"
     ]
    },
    {
     "name": "stderr",
     "output_type": "stream",
     "text": [
      "/project2/roux/scguo/scikit-learn-extra/sklearn_extra/cluster/_k_medoids.py:282: ConvergenceWarning: Maximum number of iteration reached before convergence. Consider increasing max_iter to improve the fit.\n",
      "  )\n",
      "/project2/roux/scguo/scikit-learn-extra/sklearn_extra/cluster/_k_medoids.py:185: FutureWarning: elementwise comparison failed; returning scalar instead, but in the future will perform elementwise comparison\n",
      "  raise ValueError(\n",
      "/project2/roux/scguo/scikit-learn-extra/sklearn_extra/cluster/_k_medoids.py:414: FutureWarning: elementwise comparison failed; returning scalar instead, but in the future will perform elementwise comparison\n",
      "  medoids = self.init\n",
      "/project2/roux/scguo/scikit-learn-extra/sklearn_extra/cluster/_k_medoids.py:417: FutureWarning: elementwise comparison failed; returning scalar instead, but in the future will perform elementwise comparison\n",
      "  medoids = random_state_.choice(len(D), n_clusters, replace=False)\n",
      "/project2/roux/scguo/scikit-learn-extra/sklearn_extra/cluster/_k_medoids.py:419: FutureWarning: elementwise comparison failed; returning scalar instead, but in the future will perform elementwise comparison\n",
      "  medoids = self._kpp_init(D, n_clusters, random_state_)\n",
      "/project2/roux/scguo/scikit-learn-extra/sklearn_extra/cluster/_k_medoids.py:425: FutureWarning: elementwise comparison failed; returning scalar instead, but in the future will perform elementwise comparison\n",
      "  ]\n"
     ]
    },
    {
     "name": "stdout",
     "output_type": "stream",
     "text": [
      "Iteration 7...\n",
      "[ 228 1960  847 1403 1185  873 1477 1652  495 1867 1678  648  397  575\n",
      " 1686 1661 1550  828 1614 1544]\n"
     ]
    },
    {
     "name": "stderr",
     "output_type": "stream",
     "text": [
      "/project2/roux/scguo/scikit-learn-extra/sklearn_extra/cluster/_k_medoids.py:282: ConvergenceWarning: Maximum number of iteration reached before convergence. Consider increasing max_iter to improve the fit.\n",
      "  )\n",
      "/project2/roux/scguo/scikit-learn-extra/sklearn_extra/cluster/_k_medoids.py:185: FutureWarning: elementwise comparison failed; returning scalar instead, but in the future will perform elementwise comparison\n",
      "  raise ValueError(\n",
      "/project2/roux/scguo/scikit-learn-extra/sklearn_extra/cluster/_k_medoids.py:414: FutureWarning: elementwise comparison failed; returning scalar instead, but in the future will perform elementwise comparison\n",
      "  medoids = self.init\n",
      "/project2/roux/scguo/scikit-learn-extra/sklearn_extra/cluster/_k_medoids.py:417: FutureWarning: elementwise comparison failed; returning scalar instead, but in the future will perform elementwise comparison\n",
      "  medoids = random_state_.choice(len(D), n_clusters, replace=False)\n",
      "/project2/roux/scguo/scikit-learn-extra/sklearn_extra/cluster/_k_medoids.py:419: FutureWarning: elementwise comparison failed; returning scalar instead, but in the future will perform elementwise comparison\n",
      "  medoids = self._kpp_init(D, n_clusters, random_state_)\n",
      "/project2/roux/scguo/scikit-learn-extra/sklearn_extra/cluster/_k_medoids.py:425: FutureWarning: elementwise comparison failed; returning scalar instead, but in the future will perform elementwise comparison\n",
      "  ]\n"
     ]
    },
    {
     "name": "stdout",
     "output_type": "stream",
     "text": [
      "Iteration 8...\n",
      "[ 228 1960  847 1403 1185  873 1477 1652  495 1867 1678  648 1853  575\n",
      " 1686 1661 1550  828 1614 1544]\n"
     ]
    },
    {
     "name": "stderr",
     "output_type": "stream",
     "text": [
      "/project2/roux/scguo/scikit-learn-extra/sklearn_extra/cluster/_k_medoids.py:282: ConvergenceWarning: Maximum number of iteration reached before convergence. Consider increasing max_iter to improve the fit.\n",
      "  )\n",
      "/project2/roux/scguo/scikit-learn-extra/sklearn_extra/cluster/_k_medoids.py:185: FutureWarning: elementwise comparison failed; returning scalar instead, but in the future will perform elementwise comparison\n",
      "  raise ValueError(\n",
      "/project2/roux/scguo/scikit-learn-extra/sklearn_extra/cluster/_k_medoids.py:414: FutureWarning: elementwise comparison failed; returning scalar instead, but in the future will perform elementwise comparison\n",
      "  medoids = self.init\n",
      "/project2/roux/scguo/scikit-learn-extra/sklearn_extra/cluster/_k_medoids.py:417: FutureWarning: elementwise comparison failed; returning scalar instead, but in the future will perform elementwise comparison\n",
      "  medoids = random_state_.choice(len(D), n_clusters, replace=False)\n",
      "/project2/roux/scguo/scikit-learn-extra/sklearn_extra/cluster/_k_medoids.py:419: FutureWarning: elementwise comparison failed; returning scalar instead, but in the future will perform elementwise comparison\n",
      "  medoids = self._kpp_init(D, n_clusters, random_state_)\n",
      "/project2/roux/scguo/scikit-learn-extra/sklearn_extra/cluster/_k_medoids.py:425: FutureWarning: elementwise comparison failed; returning scalar instead, but in the future will perform elementwise comparison\n",
      "  ]\n"
     ]
    },
    {
     "name": "stdout",
     "output_type": "stream",
     "text": [
      "Iteration 9...\n",
      "[ 228 1960  847 1403 1185  873 1477  403  495 1867 1678  648 1853  575\n",
      " 1686 1661 1550  828 1614 1544]\n"
     ]
    },
    {
     "name": "stderr",
     "output_type": "stream",
     "text": [
      "/project2/roux/scguo/scikit-learn-extra/sklearn_extra/cluster/_k_medoids.py:282: ConvergenceWarning: Maximum number of iteration reached before convergence. Consider increasing max_iter to improve the fit.\n",
      "  )\n",
      "/project2/roux/scguo/scikit-learn-extra/sklearn_extra/cluster/_k_medoids.py:185: FutureWarning: elementwise comparison failed; returning scalar instead, but in the future will perform elementwise comparison\n",
      "  raise ValueError(\n",
      "/project2/roux/scguo/scikit-learn-extra/sklearn_extra/cluster/_k_medoids.py:414: FutureWarning: elementwise comparison failed; returning scalar instead, but in the future will perform elementwise comparison\n",
      "  medoids = self.init\n",
      "/project2/roux/scguo/scikit-learn-extra/sklearn_extra/cluster/_k_medoids.py:417: FutureWarning: elementwise comparison failed; returning scalar instead, but in the future will perform elementwise comparison\n",
      "  medoids = random_state_.choice(len(D), n_clusters, replace=False)\n",
      "/project2/roux/scguo/scikit-learn-extra/sklearn_extra/cluster/_k_medoids.py:419: FutureWarning: elementwise comparison failed; returning scalar instead, but in the future will perform elementwise comparison\n",
      "  medoids = self._kpp_init(D, n_clusters, random_state_)\n",
      "/project2/roux/scguo/scikit-learn-extra/sklearn_extra/cluster/_k_medoids.py:425: FutureWarning: elementwise comparison failed; returning scalar instead, but in the future will perform elementwise comparison\n",
      "  ]\n"
     ]
    },
    {
     "name": "stdout",
     "output_type": "stream",
     "text": [
      "Iteration 10...\n",
      "[ 228 1960 1596 1403 1185  873 1477  403  495 1867 1678  648 1853  575\n",
      " 1686 1661 1550  828 1614 1544]\n"
     ]
    },
    {
     "name": "stderr",
     "output_type": "stream",
     "text": [
      "/project2/roux/scguo/scikit-learn-extra/sklearn_extra/cluster/_k_medoids.py:282: ConvergenceWarning: Maximum number of iteration reached before convergence. Consider increasing max_iter to improve the fit.\n",
      "  )\n",
      "/project2/roux/scguo/scikit-learn-extra/sklearn_extra/cluster/_k_medoids.py:185: FutureWarning: elementwise comparison failed; returning scalar instead, but in the future will perform elementwise comparison\n",
      "  raise ValueError(\n",
      "/project2/roux/scguo/scikit-learn-extra/sklearn_extra/cluster/_k_medoids.py:414: FutureWarning: elementwise comparison failed; returning scalar instead, but in the future will perform elementwise comparison\n",
      "  medoids = self.init\n",
      "/project2/roux/scguo/scikit-learn-extra/sklearn_extra/cluster/_k_medoids.py:417: FutureWarning: elementwise comparison failed; returning scalar instead, but in the future will perform elementwise comparison\n",
      "  medoids = random_state_.choice(len(D), n_clusters, replace=False)\n",
      "/project2/roux/scguo/scikit-learn-extra/sklearn_extra/cluster/_k_medoids.py:419: FutureWarning: elementwise comparison failed; returning scalar instead, but in the future will perform elementwise comparison\n",
      "  medoids = self._kpp_init(D, n_clusters, random_state_)\n",
      "/project2/roux/scguo/scikit-learn-extra/sklearn_extra/cluster/_k_medoids.py:425: FutureWarning: elementwise comparison failed; returning scalar instead, but in the future will perform elementwise comparison\n",
      "  ]\n"
     ]
    },
    {
     "name": "stdout",
     "output_type": "stream",
     "text": [
      "Iteration 11...\n",
      "[ 228 1960 1596 1403 1391  873 1477  403  495 1867 1678  648 1853  575\n",
      " 1686 1661 1550  828 1614 1544]\n"
     ]
    },
    {
     "name": "stderr",
     "output_type": "stream",
     "text": [
      "/project2/roux/scguo/scikit-learn-extra/sklearn_extra/cluster/_k_medoids.py:282: ConvergenceWarning: Maximum number of iteration reached before convergence. Consider increasing max_iter to improve the fit.\n",
      "  )\n",
      "/project2/roux/scguo/scikit-learn-extra/sklearn_extra/cluster/_k_medoids.py:185: FutureWarning: elementwise comparison failed; returning scalar instead, but in the future will perform elementwise comparison\n",
      "  raise ValueError(\n",
      "/project2/roux/scguo/scikit-learn-extra/sklearn_extra/cluster/_k_medoids.py:414: FutureWarning: elementwise comparison failed; returning scalar instead, but in the future will perform elementwise comparison\n",
      "  medoids = self.init\n",
      "/project2/roux/scguo/scikit-learn-extra/sklearn_extra/cluster/_k_medoids.py:417: FutureWarning: elementwise comparison failed; returning scalar instead, but in the future will perform elementwise comparison\n",
      "  medoids = random_state_.choice(len(D), n_clusters, replace=False)\n",
      "/project2/roux/scguo/scikit-learn-extra/sklearn_extra/cluster/_k_medoids.py:419: FutureWarning: elementwise comparison failed; returning scalar instead, but in the future will perform elementwise comparison\n",
      "  medoids = self._kpp_init(D, n_clusters, random_state_)\n",
      "/project2/roux/scguo/scikit-learn-extra/sklearn_extra/cluster/_k_medoids.py:425: FutureWarning: elementwise comparison failed; returning scalar instead, but in the future will perform elementwise comparison\n",
      "  ]\n"
     ]
    },
    {
     "name": "stdout",
     "output_type": "stream",
     "text": [
      "Iteration 12...\n",
      "[ 228 1960 1596 1403 1391  873 1477  403  495 1867 1678  851 1853  575\n",
      " 1686 1661 1550  828 1614 1544]\n"
     ]
    },
    {
     "name": "stderr",
     "output_type": "stream",
     "text": [
      "/project2/roux/scguo/scikit-learn-extra/sklearn_extra/cluster/_k_medoids.py:282: ConvergenceWarning: Maximum number of iteration reached before convergence. Consider increasing max_iter to improve the fit.\n",
      "  )\n",
      "/project2/roux/scguo/scikit-learn-extra/sklearn_extra/cluster/_k_medoids.py:185: FutureWarning: elementwise comparison failed; returning scalar instead, but in the future will perform elementwise comparison\n",
      "  raise ValueError(\n",
      "/project2/roux/scguo/scikit-learn-extra/sklearn_extra/cluster/_k_medoids.py:414: FutureWarning: elementwise comparison failed; returning scalar instead, but in the future will perform elementwise comparison\n",
      "  medoids = self.init\n",
      "/project2/roux/scguo/scikit-learn-extra/sklearn_extra/cluster/_k_medoids.py:417: FutureWarning: elementwise comparison failed; returning scalar instead, but in the future will perform elementwise comparison\n",
      "  medoids = random_state_.choice(len(D), n_clusters, replace=False)\n",
      "/project2/roux/scguo/scikit-learn-extra/sklearn_extra/cluster/_k_medoids.py:419: FutureWarning: elementwise comparison failed; returning scalar instead, but in the future will perform elementwise comparison\n",
      "  medoids = self._kpp_init(D, n_clusters, random_state_)\n",
      "/project2/roux/scguo/scikit-learn-extra/sklearn_extra/cluster/_k_medoids.py:425: FutureWarning: elementwise comparison failed; returning scalar instead, but in the future will perform elementwise comparison\n",
      "  ]\n"
     ]
    },
    {
     "name": "stdout",
     "output_type": "stream",
     "text": [
      "Iteration 13...\n",
      "[ 228 1960 1596 1403 1391  873 1477  403 1771 1867 1678  851 1853  575\n",
      " 1686 1661 1550  828 1614 1544]\n"
     ]
    },
    {
     "name": "stderr",
     "output_type": "stream",
     "text": [
      "/project2/roux/scguo/scikit-learn-extra/sklearn_extra/cluster/_k_medoids.py:282: ConvergenceWarning: Maximum number of iteration reached before convergence. Consider increasing max_iter to improve the fit.\n",
      "  )\n",
      "/project2/roux/scguo/scikit-learn-extra/sklearn_extra/cluster/_k_medoids.py:185: FutureWarning: elementwise comparison failed; returning scalar instead, but in the future will perform elementwise comparison\n",
      "  raise ValueError(\n",
      "/project2/roux/scguo/scikit-learn-extra/sklearn_extra/cluster/_k_medoids.py:414: FutureWarning: elementwise comparison failed; returning scalar instead, but in the future will perform elementwise comparison\n",
      "  medoids = self.init\n",
      "/project2/roux/scguo/scikit-learn-extra/sklearn_extra/cluster/_k_medoids.py:417: FutureWarning: elementwise comparison failed; returning scalar instead, but in the future will perform elementwise comparison\n",
      "  medoids = random_state_.choice(len(D), n_clusters, replace=False)\n",
      "/project2/roux/scguo/scikit-learn-extra/sklearn_extra/cluster/_k_medoids.py:419: FutureWarning: elementwise comparison failed; returning scalar instead, but in the future will perform elementwise comparison\n",
      "  medoids = self._kpp_init(D, n_clusters, random_state_)\n",
      "/project2/roux/scguo/scikit-learn-extra/sklearn_extra/cluster/_k_medoids.py:425: FutureWarning: elementwise comparison failed; returning scalar instead, but in the future will perform elementwise comparison\n",
      "  ]\n"
     ]
    },
    {
     "name": "stdout",
     "output_type": "stream",
     "text": [
      "Iteration 14...\n",
      "[ 228 1960 1596 1319 1391  873 1477  403 1771 1867 1678  851 1853  575\n",
      " 1686 1661 1550  828 1614 1544]\n"
     ]
    },
    {
     "name": "stderr",
     "output_type": "stream",
     "text": [
      "/project2/roux/scguo/scikit-learn-extra/sklearn_extra/cluster/_k_medoids.py:282: ConvergenceWarning: Maximum number of iteration reached before convergence. Consider increasing max_iter to improve the fit.\n",
      "  )\n",
      "/project2/roux/scguo/scikit-learn-extra/sklearn_extra/cluster/_k_medoids.py:185: FutureWarning: elementwise comparison failed; returning scalar instead, but in the future will perform elementwise comparison\n",
      "  raise ValueError(\n",
      "/project2/roux/scguo/scikit-learn-extra/sklearn_extra/cluster/_k_medoids.py:414: FutureWarning: elementwise comparison failed; returning scalar instead, but in the future will perform elementwise comparison\n",
      "  medoids = self.init\n",
      "/project2/roux/scguo/scikit-learn-extra/sklearn_extra/cluster/_k_medoids.py:417: FutureWarning: elementwise comparison failed; returning scalar instead, but in the future will perform elementwise comparison\n",
      "  medoids = random_state_.choice(len(D), n_clusters, replace=False)\n",
      "/project2/roux/scguo/scikit-learn-extra/sklearn_extra/cluster/_k_medoids.py:419: FutureWarning: elementwise comparison failed; returning scalar instead, but in the future will perform elementwise comparison\n",
      "  medoids = self._kpp_init(D, n_clusters, random_state_)\n",
      "/project2/roux/scguo/scikit-learn-extra/sklearn_extra/cluster/_k_medoids.py:425: FutureWarning: elementwise comparison failed; returning scalar instead, but in the future will perform elementwise comparison\n",
      "  ]\n"
     ]
    },
    {
     "name": "stdout",
     "output_type": "stream",
     "text": [
      "Iteration 15...\n",
      "[ 228 1960 1596 1319 1391  873 1477  403 1771 1867 1678  851 1853  575\n",
      " 1686 1661 1550  828 1443 1544]\n"
     ]
    },
    {
     "name": "stderr",
     "output_type": "stream",
     "text": [
      "/project2/roux/scguo/scikit-learn-extra/sklearn_extra/cluster/_k_medoids.py:282: ConvergenceWarning: Maximum number of iteration reached before convergence. Consider increasing max_iter to improve the fit.\n",
      "  )\n",
      "/project2/roux/scguo/scikit-learn-extra/sklearn_extra/cluster/_k_medoids.py:185: FutureWarning: elementwise comparison failed; returning scalar instead, but in the future will perform elementwise comparison\n",
      "  raise ValueError(\n",
      "/project2/roux/scguo/scikit-learn-extra/sklearn_extra/cluster/_k_medoids.py:414: FutureWarning: elementwise comparison failed; returning scalar instead, but in the future will perform elementwise comparison\n",
      "  medoids = self.init\n",
      "/project2/roux/scguo/scikit-learn-extra/sklearn_extra/cluster/_k_medoids.py:417: FutureWarning: elementwise comparison failed; returning scalar instead, but in the future will perform elementwise comparison\n",
      "  medoids = random_state_.choice(len(D), n_clusters, replace=False)\n",
      "/project2/roux/scguo/scikit-learn-extra/sklearn_extra/cluster/_k_medoids.py:419: FutureWarning: elementwise comparison failed; returning scalar instead, but in the future will perform elementwise comparison\n",
      "  medoids = self._kpp_init(D, n_clusters, random_state_)\n",
      "/project2/roux/scguo/scikit-learn-extra/sklearn_extra/cluster/_k_medoids.py:425: FutureWarning: elementwise comparison failed; returning scalar instead, but in the future will perform elementwise comparison\n",
      "  ]\n"
     ]
    },
    {
     "name": "stdout",
     "output_type": "stream",
     "text": [
      "Iteration 16...\n",
      "[ 228 1960 1596 1319 1391 1263 1477  403 1771 1867 1678  851 1853  575\n",
      " 1686 1661 1550  828 1443 1544]\n"
     ]
    },
    {
     "name": "stderr",
     "output_type": "stream",
     "text": [
      "/project2/roux/scguo/scikit-learn-extra/sklearn_extra/cluster/_k_medoids.py:282: ConvergenceWarning: Maximum number of iteration reached before convergence. Consider increasing max_iter to improve the fit.\n",
      "  )\n",
      "/project2/roux/scguo/scikit-learn-extra/sklearn_extra/cluster/_k_medoids.py:185: FutureWarning: elementwise comparison failed; returning scalar instead, but in the future will perform elementwise comparison\n",
      "  raise ValueError(\n",
      "/project2/roux/scguo/scikit-learn-extra/sklearn_extra/cluster/_k_medoids.py:414: FutureWarning: elementwise comparison failed; returning scalar instead, but in the future will perform elementwise comparison\n",
      "  medoids = self.init\n",
      "/project2/roux/scguo/scikit-learn-extra/sklearn_extra/cluster/_k_medoids.py:417: FutureWarning: elementwise comparison failed; returning scalar instead, but in the future will perform elementwise comparison\n",
      "  medoids = random_state_.choice(len(D), n_clusters, replace=False)\n",
      "/project2/roux/scguo/scikit-learn-extra/sklearn_extra/cluster/_k_medoids.py:419: FutureWarning: elementwise comparison failed; returning scalar instead, but in the future will perform elementwise comparison\n",
      "  medoids = self._kpp_init(D, n_clusters, random_state_)\n",
      "/project2/roux/scguo/scikit-learn-extra/sklearn_extra/cluster/_k_medoids.py:425: FutureWarning: elementwise comparison failed; returning scalar instead, but in the future will perform elementwise comparison\n",
      "  ]\n"
     ]
    },
    {
     "name": "stdout",
     "output_type": "stream",
     "text": [
      "Iteration 17...\n",
      "[ 228 1960 1596 1319 1391 1263 1477  403 1771 1867 1678  851  449  575\n",
      " 1686 1661 1550  828 1443 1544]\n"
     ]
    },
    {
     "name": "stderr",
     "output_type": "stream",
     "text": [
      "/project2/roux/scguo/scikit-learn-extra/sklearn_extra/cluster/_k_medoids.py:282: ConvergenceWarning: Maximum number of iteration reached before convergence. Consider increasing max_iter to improve the fit.\n",
      "  )\n",
      "/project2/roux/scguo/scikit-learn-extra/sklearn_extra/cluster/_k_medoids.py:185: FutureWarning: elementwise comparison failed; returning scalar instead, but in the future will perform elementwise comparison\n",
      "  raise ValueError(\n",
      "/project2/roux/scguo/scikit-learn-extra/sklearn_extra/cluster/_k_medoids.py:414: FutureWarning: elementwise comparison failed; returning scalar instead, but in the future will perform elementwise comparison\n",
      "  medoids = self.init\n",
      "/project2/roux/scguo/scikit-learn-extra/sklearn_extra/cluster/_k_medoids.py:417: FutureWarning: elementwise comparison failed; returning scalar instead, but in the future will perform elementwise comparison\n",
      "  medoids = random_state_.choice(len(D), n_clusters, replace=False)\n",
      "/project2/roux/scguo/scikit-learn-extra/sklearn_extra/cluster/_k_medoids.py:419: FutureWarning: elementwise comparison failed; returning scalar instead, but in the future will perform elementwise comparison\n",
      "  medoids = self._kpp_init(D, n_clusters, random_state_)\n",
      "/project2/roux/scguo/scikit-learn-extra/sklearn_extra/cluster/_k_medoids.py:425: FutureWarning: elementwise comparison failed; returning scalar instead, but in the future will perform elementwise comparison\n",
      "  ]\n"
     ]
    },
    {
     "name": "stdout",
     "output_type": "stream",
     "text": [
      "Iteration 18...\n",
      "[ 228 1960 1596 1319 1391 1263 1477  403 1771 1867 1678  851  449  845\n",
      " 1686 1661 1550  828 1443 1544]\n"
     ]
    },
    {
     "name": "stderr",
     "output_type": "stream",
     "text": [
      "/project2/roux/scguo/scikit-learn-extra/sklearn_extra/cluster/_k_medoids.py:282: ConvergenceWarning: Maximum number of iteration reached before convergence. Consider increasing max_iter to improve the fit.\n",
      "  )\n",
      "/project2/roux/scguo/scikit-learn-extra/sklearn_extra/cluster/_k_medoids.py:185: FutureWarning: elementwise comparison failed; returning scalar instead, but in the future will perform elementwise comparison\n",
      "  raise ValueError(\n",
      "/project2/roux/scguo/scikit-learn-extra/sklearn_extra/cluster/_k_medoids.py:414: FutureWarning: elementwise comparison failed; returning scalar instead, but in the future will perform elementwise comparison\n",
      "  medoids = self.init\n",
      "/project2/roux/scguo/scikit-learn-extra/sklearn_extra/cluster/_k_medoids.py:417: FutureWarning: elementwise comparison failed; returning scalar instead, but in the future will perform elementwise comparison\n",
      "  medoids = random_state_.choice(len(D), n_clusters, replace=False)\n",
      "/project2/roux/scguo/scikit-learn-extra/sklearn_extra/cluster/_k_medoids.py:419: FutureWarning: elementwise comparison failed; returning scalar instead, but in the future will perform elementwise comparison\n",
      "  medoids = self._kpp_init(D, n_clusters, random_state_)\n",
      "/project2/roux/scguo/scikit-learn-extra/sklearn_extra/cluster/_k_medoids.py:425: FutureWarning: elementwise comparison failed; returning scalar instead, but in the future will perform elementwise comparison\n",
      "  ]\n"
     ]
    },
    {
     "name": "stdout",
     "output_type": "stream",
     "text": [
      "Iteration 19...\n",
      "[ 228 1960 1596 1319 1777 1263 1477  403 1771 1867 1678  851  449  845\n",
      " 1686 1661 1550  828 1443 1544]\n"
     ]
    },
    {
     "name": "stderr",
     "output_type": "stream",
     "text": [
      "/project2/roux/scguo/scikit-learn-extra/sklearn_extra/cluster/_k_medoids.py:282: ConvergenceWarning: Maximum number of iteration reached before convergence. Consider increasing max_iter to improve the fit.\n",
      "  )\n",
      "/project2/roux/scguo/scikit-learn-extra/sklearn_extra/cluster/_k_medoids.py:185: FutureWarning: elementwise comparison failed; returning scalar instead, but in the future will perform elementwise comparison\n",
      "  raise ValueError(\n",
      "/project2/roux/scguo/scikit-learn-extra/sklearn_extra/cluster/_k_medoids.py:414: FutureWarning: elementwise comparison failed; returning scalar instead, but in the future will perform elementwise comparison\n",
      "  medoids = self.init\n",
      "/project2/roux/scguo/scikit-learn-extra/sklearn_extra/cluster/_k_medoids.py:417: FutureWarning: elementwise comparison failed; returning scalar instead, but in the future will perform elementwise comparison\n",
      "  medoids = random_state_.choice(len(D), n_clusters, replace=False)\n",
      "/project2/roux/scguo/scikit-learn-extra/sklearn_extra/cluster/_k_medoids.py:419: FutureWarning: elementwise comparison failed; returning scalar instead, but in the future will perform elementwise comparison\n",
      "  medoids = self._kpp_init(D, n_clusters, random_state_)\n",
      "/project2/roux/scguo/scikit-learn-extra/sklearn_extra/cluster/_k_medoids.py:425: FutureWarning: elementwise comparison failed; returning scalar instead, but in the future will perform elementwise comparison\n",
      "  ]\n"
     ]
    },
    {
     "name": "stdout",
     "output_type": "stream",
     "text": [
      "Iteration 20...\n",
      "[ 228 1960 1596 1319 1777 1263 1477  403 1771 1867 1678  851  449  845\n",
      " 1686 1661  493  828 1443 1544]\n"
     ]
    },
    {
     "name": "stderr",
     "output_type": "stream",
     "text": [
      "/project2/roux/scguo/scikit-learn-extra/sklearn_extra/cluster/_k_medoids.py:282: ConvergenceWarning: Maximum number of iteration reached before convergence. Consider increasing max_iter to improve the fit.\n",
      "  )\n"
     ]
    }
   ],
   "source": [
    "# normal euclidean metric\n",
    "k = 20\n",
    "km = mini_batch_kmedoids(data_arr, k, batchsize=0.01, metric=\"euclidean\", n_iter=20)"
   ]
  },
  {
   "cell_type": "code",
   "execution_count": 72,
   "metadata": {},
   "outputs": [
    {
     "data": {
      "image/png": "[encoded data removed]",
      "text/plain": [
       "<Figure size 450x450 with 1 Axes>"
      ]
     },
     "metadata": {
      "needs_background": "light"
     },
     "output_type": "display_data"
    }
   ],
   "source": [
    "labels = km.predict(data_arr)\n",
    "fig, ax = plt.subplots()\n",
    "for k in range(20):\n",
    "    # Find indices of data in cluster k\n",
    "    idx = np.where(labels == k)[0]\n",
    "    ax.scatter(data_arr[idx, 0], data_arr[idx, 1], marker=\".\")\n",
    "    ax.plot(*km.cluster_centers_[k], \"sk\")"
   ]
  },
  {
   "cell_type": "code",
   "execution_count": 71,
   "metadata": {},
   "outputs": [
    {
     "name": "stdout",
     "output_type": "stream",
     "text": [
      "[19 18  0 ... 11  8 18]\n"
     ]
    }
   ],
   "source": [
    "print(labels)"
   ]
  },
  {
   "cell_type": "code",
   "execution_count": 70,
   "metadata": {},
   "outputs": [
    {
     "data": {
      "text/plain": [
       "<matplotlib.collections.PathCollection at 0x7f5d89712790>"
      ]
     },
     "execution_count": 70,
     "metadata": {},
     "output_type": "execute_result"
    },
    {
     "data": {
      "image/png": "[encoded data removed]",
      "text/plain": [
       "<Figure size 450x450 with 1 Axes>"
      ]
     },
     "metadata": {
      "needs_background": "light"
     },
     "output_type": "display_data"
    }
   ],
   "source": [
    "plt.scatter(*data_arr.T, marker=\".\")"
   ]
  },
  {
   "cell_type": "code",
   "execution_count": 80,
   "metadata": {},
   "outputs": [],
   "source": [
    "# inverse weights\n",
    "inv_weights = (1 / weights) / (np.sum(1 / weights))\n",
    "se_inv = seuclidean_metric(inv_weights)"
   ]
  },
  {
   "cell_type": "code",
   "execution_count": 81,
   "metadata": {
    "scrolled": true,
    "tags": []
   },
   "outputs": [
    {
     "name": "stdout",
     "output_type": "stream",
     "text": [
      "Initializing medoids...\n",
      "k-medoids++\n",
      "Finished initialization.\n",
      "Iteration 1...\n",
      "[ 710  208 1729 1584  673  221 1970 1092 1082 1174 1724  734    6 1574\n",
      " 1355 1926  703 1249  990 1023]\n"
     ]
    },
    {
     "name": "stderr",
     "output_type": "stream",
     "text": [
      "/project2/roux/scguo/scikit-learn-extra/sklearn_extra/cluster/_k_medoids.py:185: FutureWarning: elementwise comparison failed; returning scalar instead, but in the future will perform elementwise comparison\n",
      "  raise ValueError(\n",
      "/project2/roux/scguo/scikit-learn-extra/sklearn_extra/cluster/_k_medoids.py:414: FutureWarning: elementwise comparison failed; returning scalar instead, but in the future will perform elementwise comparison\n",
      "  medoids = self.init\n",
      "/project2/roux/scguo/scikit-learn-extra/sklearn_extra/cluster/_k_medoids.py:417: FutureWarning: elementwise comparison failed; returning scalar instead, but in the future will perform elementwise comparison\n",
      "  medoids = random_state_.choice(len(D), n_clusters, replace=False)\n",
      "/project2/roux/scguo/scikit-learn-extra/sklearn_extra/cluster/_k_medoids.py:419: FutureWarning: elementwise comparison failed; returning scalar instead, but in the future will perform elementwise comparison\n",
      "  medoids = self._kpp_init(D, n_clusters, random_state_)\n",
      "/project2/roux/scguo/scikit-learn-extra/sklearn_extra/cluster/_k_medoids.py:425: FutureWarning: elementwise comparison failed; returning scalar instead, but in the future will perform elementwise comparison\n",
      "  ]\n",
      "/project2/roux/scguo/scikit-learn-extra/sklearn_extra/cluster/_k_medoids.py:282: ConvergenceWarning: Maximum number of iteration reached before convergence. Consider increasing max_iter to improve the fit.\n",
      "  )\n",
      "/project2/roux/scguo/scikit-learn-extra/sklearn_extra/cluster/_k_medoids.py:185: FutureWarning: elementwise comparison failed; returning scalar instead, but in the future will perform elementwise comparison\n",
      "  raise ValueError(\n"
     ]
    },
    {
     "name": "stdout",
     "output_type": "stream",
     "text": [
      "Iteration 2...\n",
      "[ 710  208 1729 1584  673  221 1748 1092 1082 1174 1724  734    6 1574\n",
      " 1355 1926  703 1249  990 1023]\n"
     ]
    },
    {
     "name": "stderr",
     "output_type": "stream",
     "text": [
      "/project2/roux/scguo/scikit-learn-extra/sklearn_extra/cluster/_k_medoids.py:414: FutureWarning: elementwise comparison failed; returning scalar instead, but in the future will perform elementwise comparison\n",
      "  medoids = self.init\n",
      "/project2/roux/scguo/scikit-learn-extra/sklearn_extra/cluster/_k_medoids.py:417: FutureWarning: elementwise comparison failed; returning scalar instead, but in the future will perform elementwise comparison\n",
      "  medoids = random_state_.choice(len(D), n_clusters, replace=False)\n",
      "/project2/roux/scguo/scikit-learn-extra/sklearn_extra/cluster/_k_medoids.py:419: FutureWarning: elementwise comparison failed; returning scalar instead, but in the future will perform elementwise comparison\n",
      "  medoids = self._kpp_init(D, n_clusters, random_state_)\n",
      "/project2/roux/scguo/scikit-learn-extra/sklearn_extra/cluster/_k_medoids.py:425: FutureWarning: elementwise comparison failed; returning scalar instead, but in the future will perform elementwise comparison\n",
      "  ]\n",
      "/project2/roux/scguo/scikit-learn-extra/sklearn_extra/cluster/_k_medoids.py:282: ConvergenceWarning: Maximum number of iteration reached before convergence. Consider increasing max_iter to improve the fit.\n",
      "  )\n",
      "/project2/roux/scguo/scikit-learn-extra/sklearn_extra/cluster/_k_medoids.py:185: FutureWarning: elementwise comparison failed; returning scalar instead, but in the future will perform elementwise comparison\n",
      "  raise ValueError(\n"
     ]
    },
    {
     "name": "stdout",
     "output_type": "stream",
     "text": [
      "Iteration 3...\n",
      "[ 710  208 1729 1584  673  221 1748 1092 1082 1174 1724  734    6 1574\n",
      "  175 1926  703 1249  990 1023]\n"
     ]
    },
    {
     "name": "stderr",
     "output_type": "stream",
     "text": [
      "/project2/roux/scguo/scikit-learn-extra/sklearn_extra/cluster/_k_medoids.py:414: FutureWarning: elementwise comparison failed; returning scalar instead, but in the future will perform elementwise comparison\n",
      "  medoids = self.init\n",
      "/project2/roux/scguo/scikit-learn-extra/sklearn_extra/cluster/_k_medoids.py:417: FutureWarning: elementwise comparison failed; returning scalar instead, but in the future will perform elementwise comparison\n",
      "  medoids = random_state_.choice(len(D), n_clusters, replace=False)\n",
      "/project2/roux/scguo/scikit-learn-extra/sklearn_extra/cluster/_k_medoids.py:419: FutureWarning: elementwise comparison failed; returning scalar instead, but in the future will perform elementwise comparison\n",
      "  medoids = self._kpp_init(D, n_clusters, random_state_)\n",
      "/project2/roux/scguo/scikit-learn-extra/sklearn_extra/cluster/_k_medoids.py:425: FutureWarning: elementwise comparison failed; returning scalar instead, but in the future will perform elementwise comparison\n",
      "  ]\n",
      "/project2/roux/scguo/scikit-learn-extra/sklearn_extra/cluster/_k_medoids.py:282: ConvergenceWarning: Maximum number of iteration reached before convergence. Consider increasing max_iter to improve the fit.\n",
      "  )\n",
      "/project2/roux/scguo/scikit-learn-extra/sklearn_extra/cluster/_k_medoids.py:185: FutureWarning: elementwise comparison failed; returning scalar instead, but in the future will perform elementwise comparison\n",
      "  raise ValueError(\n"
     ]
    },
    {
     "name": "stdout",
     "output_type": "stream",
     "text": [
      "Iteration 4...\n",
      "[ 710  208 1729 1584 1523  221 1748 1092 1082 1174 1724  734    6 1574\n",
      "  175 1926  703 1249  990 1023]\n"
     ]
    },
    {
     "name": "stderr",
     "output_type": "stream",
     "text": [
      "/project2/roux/scguo/scikit-learn-extra/sklearn_extra/cluster/_k_medoids.py:414: FutureWarning: elementwise comparison failed; returning scalar instead, but in the future will perform elementwise comparison\n",
      "  medoids = self.init\n",
      "/project2/roux/scguo/scikit-learn-extra/sklearn_extra/cluster/_k_medoids.py:417: FutureWarning: elementwise comparison failed; returning scalar instead, but in the future will perform elementwise comparison\n",
      "  medoids = random_state_.choice(len(D), n_clusters, replace=False)\n",
      "/project2/roux/scguo/scikit-learn-extra/sklearn_extra/cluster/_k_medoids.py:419: FutureWarning: elementwise comparison failed; returning scalar instead, but in the future will perform elementwise comparison\n",
      "  medoids = self._kpp_init(D, n_clusters, random_state_)\n",
      "/project2/roux/scguo/scikit-learn-extra/sklearn_extra/cluster/_k_medoids.py:425: FutureWarning: elementwise comparison failed; returning scalar instead, but in the future will perform elementwise comparison\n",
      "  ]\n",
      "/project2/roux/scguo/scikit-learn-extra/sklearn_extra/cluster/_k_medoids.py:282: ConvergenceWarning: Maximum number of iteration reached before convergence. Consider increasing max_iter to improve the fit.\n",
      "  )\n",
      "/project2/roux/scguo/scikit-learn-extra/sklearn_extra/cluster/_k_medoids.py:185: FutureWarning: elementwise comparison failed; returning scalar instead, but in the future will perform elementwise comparison\n",
      "  raise ValueError(\n"
     ]
    },
    {
     "name": "stdout",
     "output_type": "stream",
     "text": [
      "Iteration 5...\n",
      "[ 710  208 1729 1584 1523  221 1748 1092 1082 1174 1724  734    6 1574\n",
      "  175 1926  649 1249  990 1023]\n"
     ]
    },
    {
     "name": "stderr",
     "output_type": "stream",
     "text": [
      "/project2/roux/scguo/scikit-learn-extra/sklearn_extra/cluster/_k_medoids.py:414: FutureWarning: elementwise comparison failed; returning scalar instead, but in the future will perform elementwise comparison\n",
      "  medoids = self.init\n",
      "/project2/roux/scguo/scikit-learn-extra/sklearn_extra/cluster/_k_medoids.py:417: FutureWarning: elementwise comparison failed; returning scalar instead, but in the future will perform elementwise comparison\n",
      "  medoids = random_state_.choice(len(D), n_clusters, replace=False)\n",
      "/project2/roux/scguo/scikit-learn-extra/sklearn_extra/cluster/_k_medoids.py:419: FutureWarning: elementwise comparison failed; returning scalar instead, but in the future will perform elementwise comparison\n",
      "  medoids = self._kpp_init(D, n_clusters, random_state_)\n",
      "/project2/roux/scguo/scikit-learn-extra/sklearn_extra/cluster/_k_medoids.py:425: FutureWarning: elementwise comparison failed; returning scalar instead, but in the future will perform elementwise comparison\n",
      "  ]\n",
      "/project2/roux/scguo/scikit-learn-extra/sklearn_extra/cluster/_k_medoids.py:282: ConvergenceWarning: Maximum number of iteration reached before convergence. Consider increasing max_iter to improve the fit.\n",
      "  )\n",
      "/project2/roux/scguo/scikit-learn-extra/sklearn_extra/cluster/_k_medoids.py:185: FutureWarning: elementwise comparison failed; returning scalar instead, but in the future will perform elementwise comparison\n",
      "  raise ValueError(\n"
     ]
    },
    {
     "name": "stdout",
     "output_type": "stream",
     "text": [
      "Iteration 6...\n",
      "[ 293  208 1729 1584 1523  221 1748 1092 1082 1174 1724  734    6 1574\n",
      "  175 1926  649 1249  990 1023]\n"
     ]
    },
    {
     "name": "stderr",
     "output_type": "stream",
     "text": [
      "/project2/roux/scguo/scikit-learn-extra/sklearn_extra/cluster/_k_medoids.py:414: FutureWarning: elementwise comparison failed; returning scalar instead, but in the future will perform elementwise comparison\n",
      "  medoids = self.init\n",
      "/project2/roux/scguo/scikit-learn-extra/sklearn_extra/cluster/_k_medoids.py:417: FutureWarning: elementwise comparison failed; returning scalar instead, but in the future will perform elementwise comparison\n",
      "  medoids = random_state_.choice(len(D), n_clusters, replace=False)\n",
      "/project2/roux/scguo/scikit-learn-extra/sklearn_extra/cluster/_k_medoids.py:419: FutureWarning: elementwise comparison failed; returning scalar instead, but in the future will perform elementwise comparison\n",
      "  medoids = self._kpp_init(D, n_clusters, random_state_)\n",
      "/project2/roux/scguo/scikit-learn-extra/sklearn_extra/cluster/_k_medoids.py:425: FutureWarning: elementwise comparison failed; returning scalar instead, but in the future will perform elementwise comparison\n",
      "  ]\n",
      "/project2/roux/scguo/scikit-learn-extra/sklearn_extra/cluster/_k_medoids.py:282: ConvergenceWarning: Maximum number of iteration reached before convergence. Consider increasing max_iter to improve the fit.\n",
      "  )\n",
      "/project2/roux/scguo/scikit-learn-extra/sklearn_extra/cluster/_k_medoids.py:185: FutureWarning: elementwise comparison failed; returning scalar instead, but in the future will perform elementwise comparison\n",
      "  raise ValueError(\n"
     ]
    },
    {
     "name": "stdout",
     "output_type": "stream",
     "text": [
      "Iteration 7...\n",
      "[ 293  208  593 1584 1523  221 1748 1092 1082 1174 1724  734    6 1574\n",
      "  175 1926  649 1249  990 1023]\n"
     ]
    },
    {
     "name": "stderr",
     "output_type": "stream",
     "text": [
      "/project2/roux/scguo/scikit-learn-extra/sklearn_extra/cluster/_k_medoids.py:414: FutureWarning: elementwise comparison failed; returning scalar instead, but in the future will perform elementwise comparison\n",
      "  medoids = self.init\n",
      "/project2/roux/scguo/scikit-learn-extra/sklearn_extra/cluster/_k_medoids.py:417: FutureWarning: elementwise comparison failed; returning scalar instead, but in the future will perform elementwise comparison\n",
      "  medoids = random_state_.choice(len(D), n_clusters, replace=False)\n",
      "/project2/roux/scguo/scikit-learn-extra/sklearn_extra/cluster/_k_medoids.py:419: FutureWarning: elementwise comparison failed; returning scalar instead, but in the future will perform elementwise comparison\n",
      "  medoids = self._kpp_init(D, n_clusters, random_state_)\n",
      "/project2/roux/scguo/scikit-learn-extra/sklearn_extra/cluster/_k_medoids.py:425: FutureWarning: elementwise comparison failed; returning scalar instead, but in the future will perform elementwise comparison\n",
      "  ]\n",
      "/project2/roux/scguo/scikit-learn-extra/sklearn_extra/cluster/_k_medoids.py:282: ConvergenceWarning: Maximum number of iteration reached before convergence. Consider increasing max_iter to improve the fit.\n",
      "  )\n",
      "/project2/roux/scguo/scikit-learn-extra/sklearn_extra/cluster/_k_medoids.py:185: FutureWarning: elementwise comparison failed; returning scalar instead, but in the future will perform elementwise comparison\n",
      "  raise ValueError(\n"
     ]
    },
    {
     "name": "stdout",
     "output_type": "stream",
     "text": [
      "Iteration 8...\n",
      "[ 293  208  593 1584 1523  221 1748 1092  571 1174 1724  734    6 1574\n",
      "  175 1926  649 1249  990 1023]\n"
     ]
    },
    {
     "name": "stderr",
     "output_type": "stream",
     "text": [
      "/project2/roux/scguo/scikit-learn-extra/sklearn_extra/cluster/_k_medoids.py:414: FutureWarning: elementwise comparison failed; returning scalar instead, but in the future will perform elementwise comparison\n",
      "  medoids = self.init\n",
      "/project2/roux/scguo/scikit-learn-extra/sklearn_extra/cluster/_k_medoids.py:417: FutureWarning: elementwise comparison failed; returning scalar instead, but in the future will perform elementwise comparison\n",
      "  medoids = random_state_.choice(len(D), n_clusters, replace=False)\n",
      "/project2/roux/scguo/scikit-learn-extra/sklearn_extra/cluster/_k_medoids.py:419: FutureWarning: elementwise comparison failed; returning scalar instead, but in the future will perform elementwise comparison\n",
      "  medoids = self._kpp_init(D, n_clusters, random_state_)\n",
      "/project2/roux/scguo/scikit-learn-extra/sklearn_extra/cluster/_k_medoids.py:425: FutureWarning: elementwise comparison failed; returning scalar instead, but in the future will perform elementwise comparison\n",
      "  ]\n",
      "/project2/roux/scguo/scikit-learn-extra/sklearn_extra/cluster/_k_medoids.py:282: ConvergenceWarning: Maximum number of iteration reached before convergence. Consider increasing max_iter to improve the fit.\n",
      "  )\n",
      "/project2/roux/scguo/scikit-learn-extra/sklearn_extra/cluster/_k_medoids.py:185: FutureWarning: elementwise comparison failed; returning scalar instead, but in the future will perform elementwise comparison\n",
      "  raise ValueError(\n"
     ]
    },
    {
     "name": "stdout",
     "output_type": "stream",
     "text": [
      "Iteration 9...\n",
      "[ 293  208  593 1584 1523  221 1748 1092  571 1174   68  734    6 1574\n",
      "  175 1926  649 1249  990 1023]\n"
     ]
    },
    {
     "name": "stderr",
     "output_type": "stream",
     "text": [
      "/project2/roux/scguo/scikit-learn-extra/sklearn_extra/cluster/_k_medoids.py:414: FutureWarning: elementwise comparison failed; returning scalar instead, but in the future will perform elementwise comparison\n",
      "  medoids = self.init\n",
      "/project2/roux/scguo/scikit-learn-extra/sklearn_extra/cluster/_k_medoids.py:417: FutureWarning: elementwise comparison failed; returning scalar instead, but in the future will perform elementwise comparison\n",
      "  medoids = random_state_.choice(len(D), n_clusters, replace=False)\n",
      "/project2/roux/scguo/scikit-learn-extra/sklearn_extra/cluster/_k_medoids.py:419: FutureWarning: elementwise comparison failed; returning scalar instead, but in the future will perform elementwise comparison\n",
      "  medoids = self._kpp_init(D, n_clusters, random_state_)\n",
      "/project2/roux/scguo/scikit-learn-extra/sklearn_extra/cluster/_k_medoids.py:425: FutureWarning: elementwise comparison failed; returning scalar instead, but in the future will perform elementwise comparison\n",
      "  ]\n",
      "/project2/roux/scguo/scikit-learn-extra/sklearn_extra/cluster/_k_medoids.py:282: ConvergenceWarning: Maximum number of iteration reached before convergence. Consider increasing max_iter to improve the fit.\n",
      "  )\n",
      "/project2/roux/scguo/scikit-learn-extra/sklearn_extra/cluster/_k_medoids.py:185: FutureWarning: elementwise comparison failed; returning scalar instead, but in the future will perform elementwise comparison\n",
      "  raise ValueError(\n"
     ]
    },
    {
     "name": "stdout",
     "output_type": "stream",
     "text": [
      "Iteration 10...\n",
      "[ 293  208  593 1584 1523  221 1748 1092  571 1174   68 1036    6 1574\n",
      "  175 1926  649 1249  990 1023]\n"
     ]
    },
    {
     "name": "stderr",
     "output_type": "stream",
     "text": [
      "/project2/roux/scguo/scikit-learn-extra/sklearn_extra/cluster/_k_medoids.py:414: FutureWarning: elementwise comparison failed; returning scalar instead, but in the future will perform elementwise comparison\n",
      "  medoids = self.init\n",
      "/project2/roux/scguo/scikit-learn-extra/sklearn_extra/cluster/_k_medoids.py:417: FutureWarning: elementwise comparison failed; returning scalar instead, but in the future will perform elementwise comparison\n",
      "  medoids = random_state_.choice(len(D), n_clusters, replace=False)\n",
      "/project2/roux/scguo/scikit-learn-extra/sklearn_extra/cluster/_k_medoids.py:419: FutureWarning: elementwise comparison failed; returning scalar instead, but in the future will perform elementwise comparison\n",
      "  medoids = self._kpp_init(D, n_clusters, random_state_)\n",
      "/project2/roux/scguo/scikit-learn-extra/sklearn_extra/cluster/_k_medoids.py:425: FutureWarning: elementwise comparison failed; returning scalar instead, but in the future will perform elementwise comparison\n",
      "  ]\n",
      "/project2/roux/scguo/scikit-learn-extra/sklearn_extra/cluster/_k_medoids.py:282: ConvergenceWarning: Maximum number of iteration reached before convergence. Consider increasing max_iter to improve the fit.\n",
      "  )\n",
      "/project2/roux/scguo/scikit-learn-extra/sklearn_extra/cluster/_k_medoids.py:185: FutureWarning: elementwise comparison failed; returning scalar instead, but in the future will perform elementwise comparison\n",
      "  raise ValueError(\n"
     ]
    },
    {
     "name": "stdout",
     "output_type": "stream",
     "text": [
      "Iteration 11...\n",
      "[ 293  208  593 1584 1636  221 1748 1092  571 1174   68 1036    6 1574\n",
      "  175 1926  649 1249  990 1023]\n"
     ]
    },
    {
     "name": "stderr",
     "output_type": "stream",
     "text": [
      "/project2/roux/scguo/scikit-learn-extra/sklearn_extra/cluster/_k_medoids.py:414: FutureWarning: elementwise comparison failed; returning scalar instead, but in the future will perform elementwise comparison\n",
      "  medoids = self.init\n",
      "/project2/roux/scguo/scikit-learn-extra/sklearn_extra/cluster/_k_medoids.py:417: FutureWarning: elementwise comparison failed; returning scalar instead, but in the future will perform elementwise comparison\n",
      "  medoids = random_state_.choice(len(D), n_clusters, replace=False)\n",
      "/project2/roux/scguo/scikit-learn-extra/sklearn_extra/cluster/_k_medoids.py:419: FutureWarning: elementwise comparison failed; returning scalar instead, but in the future will perform elementwise comparison\n",
      "  medoids = self._kpp_init(D, n_clusters, random_state_)\n",
      "/project2/roux/scguo/scikit-learn-extra/sklearn_extra/cluster/_k_medoids.py:425: FutureWarning: elementwise comparison failed; returning scalar instead, but in the future will perform elementwise comparison\n",
      "  ]\n",
      "/project2/roux/scguo/scikit-learn-extra/sklearn_extra/cluster/_k_medoids.py:282: ConvergenceWarning: Maximum number of iteration reached before convergence. Consider increasing max_iter to improve the fit.\n",
      "  )\n",
      "/project2/roux/scguo/scikit-learn-extra/sklearn_extra/cluster/_k_medoids.py:185: FutureWarning: elementwise comparison failed; returning scalar instead, but in the future will perform elementwise comparison\n",
      "  raise ValueError(\n"
     ]
    },
    {
     "name": "stdout",
     "output_type": "stream",
     "text": [
      "Iteration 12...\n",
      "[ 293  208  593 1584 1636 1132 1748 1092  571 1174   68 1036    6 1574\n",
      "  175 1926  649 1249  990 1023]\n"
     ]
    },
    {
     "name": "stderr",
     "output_type": "stream",
     "text": [
      "/project2/roux/scguo/scikit-learn-extra/sklearn_extra/cluster/_k_medoids.py:414: FutureWarning: elementwise comparison failed; returning scalar instead, but in the future will perform elementwise comparison\n",
      "  medoids = self.init\n",
      "/project2/roux/scguo/scikit-learn-extra/sklearn_extra/cluster/_k_medoids.py:417: FutureWarning: elementwise comparison failed; returning scalar instead, but in the future will perform elementwise comparison\n",
      "  medoids = random_state_.choice(len(D), n_clusters, replace=False)\n",
      "/project2/roux/scguo/scikit-learn-extra/sklearn_extra/cluster/_k_medoids.py:419: FutureWarning: elementwise comparison failed; returning scalar instead, but in the future will perform elementwise comparison\n",
      "  medoids = self._kpp_init(D, n_clusters, random_state_)\n",
      "/project2/roux/scguo/scikit-learn-extra/sklearn_extra/cluster/_k_medoids.py:425: FutureWarning: elementwise comparison failed; returning scalar instead, but in the future will perform elementwise comparison\n",
      "  ]\n",
      "/project2/roux/scguo/scikit-learn-extra/sklearn_extra/cluster/_k_medoids.py:282: ConvergenceWarning: Maximum number of iteration reached before convergence. Consider increasing max_iter to improve the fit.\n",
      "  )\n",
      "/project2/roux/scguo/scikit-learn-extra/sklearn_extra/cluster/_k_medoids.py:185: FutureWarning: elementwise comparison failed; returning scalar instead, but in the future will perform elementwise comparison\n",
      "  raise ValueError(\n"
     ]
    },
    {
     "name": "stdout",
     "output_type": "stream",
     "text": [
      "Iteration 13...\n",
      "[ 293  208  593 1584 1636 1132 1748 1092  571 1174   68 1036    6 1574\n",
      " 1367 1926  649 1249  990 1023]\n"
     ]
    },
    {
     "name": "stderr",
     "output_type": "stream",
     "text": [
      "/project2/roux/scguo/scikit-learn-extra/sklearn_extra/cluster/_k_medoids.py:414: FutureWarning: elementwise comparison failed; returning scalar instead, but in the future will perform elementwise comparison\n",
      "  medoids = self.init\n",
      "/project2/roux/scguo/scikit-learn-extra/sklearn_extra/cluster/_k_medoids.py:417: FutureWarning: elementwise comparison failed; returning scalar instead, but in the future will perform elementwise comparison\n",
      "  medoids = random_state_.choice(len(D), n_clusters, replace=False)\n",
      "/project2/roux/scguo/scikit-learn-extra/sklearn_extra/cluster/_k_medoids.py:419: FutureWarning: elementwise comparison failed; returning scalar instead, but in the future will perform elementwise comparison\n",
      "  medoids = self._kpp_init(D, n_clusters, random_state_)\n",
      "/project2/roux/scguo/scikit-learn-extra/sklearn_extra/cluster/_k_medoids.py:425: FutureWarning: elementwise comparison failed; returning scalar instead, but in the future will perform elementwise comparison\n",
      "  ]\n",
      "/project2/roux/scguo/scikit-learn-extra/sklearn_extra/cluster/_k_medoids.py:282: ConvergenceWarning: Maximum number of iteration reached before convergence. Consider increasing max_iter to improve the fit.\n",
      "  )\n",
      "/project2/roux/scguo/scikit-learn-extra/sklearn_extra/cluster/_k_medoids.py:185: FutureWarning: elementwise comparison failed; returning scalar instead, but in the future will perform elementwise comparison\n",
      "  raise ValueError(\n"
     ]
    },
    {
     "name": "stdout",
     "output_type": "stream",
     "text": [
      "Iteration 14...\n",
      "[ 293  208  593 1584 1636  550 1748 1092  571 1174   68 1036    6 1574\n",
      " 1367 1926  649 1249  990 1023]\n"
     ]
    },
    {
     "name": "stderr",
     "output_type": "stream",
     "text": [
      "/project2/roux/scguo/scikit-learn-extra/sklearn_extra/cluster/_k_medoids.py:414: FutureWarning: elementwise comparison failed; returning scalar instead, but in the future will perform elementwise comparison\n",
      "  medoids = self.init\n",
      "/project2/roux/scguo/scikit-learn-extra/sklearn_extra/cluster/_k_medoids.py:417: FutureWarning: elementwise comparison failed; returning scalar instead, but in the future will perform elementwise comparison\n",
      "  medoids = random_state_.choice(len(D), n_clusters, replace=False)\n",
      "/project2/roux/scguo/scikit-learn-extra/sklearn_extra/cluster/_k_medoids.py:419: FutureWarning: elementwise comparison failed; returning scalar instead, but in the future will perform elementwise comparison\n",
      "  medoids = self._kpp_init(D, n_clusters, random_state_)\n",
      "/project2/roux/scguo/scikit-learn-extra/sklearn_extra/cluster/_k_medoids.py:425: FutureWarning: elementwise comparison failed; returning scalar instead, but in the future will perform elementwise comparison\n",
      "  ]\n",
      "/project2/roux/scguo/scikit-learn-extra/sklearn_extra/cluster/_k_medoids.py:282: ConvergenceWarning: Maximum number of iteration reached before convergence. Consider increasing max_iter to improve the fit.\n",
      "  )\n",
      "/project2/roux/scguo/scikit-learn-extra/sklearn_extra/cluster/_k_medoids.py:185: FutureWarning: elementwise comparison failed; returning scalar instead, but in the future will perform elementwise comparison\n",
      "  raise ValueError(\n"
     ]
    },
    {
     "name": "stdout",
     "output_type": "stream",
     "text": [
      "Iteration 15...\n",
      "[ 293  208  593 1584 1636  550 1748 1092  571 1174   68 1036    6 1574\n",
      " 1367 1926  649 1249  990    8]\n"
     ]
    },
    {
     "name": "stderr",
     "output_type": "stream",
     "text": [
      "/project2/roux/scguo/scikit-learn-extra/sklearn_extra/cluster/_k_medoids.py:414: FutureWarning: elementwise comparison failed; returning scalar instead, but in the future will perform elementwise comparison\n",
      "  medoids = self.init\n",
      "/project2/roux/scguo/scikit-learn-extra/sklearn_extra/cluster/_k_medoids.py:417: FutureWarning: elementwise comparison failed; returning scalar instead, but in the future will perform elementwise comparison\n",
      "  medoids = random_state_.choice(len(D), n_clusters, replace=False)\n",
      "/project2/roux/scguo/scikit-learn-extra/sklearn_extra/cluster/_k_medoids.py:419: FutureWarning: elementwise comparison failed; returning scalar instead, but in the future will perform elementwise comparison\n",
      "  medoids = self._kpp_init(D, n_clusters, random_state_)\n",
      "/project2/roux/scguo/scikit-learn-extra/sklearn_extra/cluster/_k_medoids.py:425: FutureWarning: elementwise comparison failed; returning scalar instead, but in the future will perform elementwise comparison\n",
      "  ]\n",
      "/project2/roux/scguo/scikit-learn-extra/sklearn_extra/cluster/_k_medoids.py:282: ConvergenceWarning: Maximum number of iteration reached before convergence. Consider increasing max_iter to improve the fit.\n",
      "  )\n",
      "/project2/roux/scguo/scikit-learn-extra/sklearn_extra/cluster/_k_medoids.py:185: FutureWarning: elementwise comparison failed; returning scalar instead, but in the future will perform elementwise comparison\n",
      "  raise ValueError(\n"
     ]
    },
    {
     "name": "stdout",
     "output_type": "stream",
     "text": [
      "Iteration 16...\n",
      "[ 293  416  593 1584 1636  550 1748 1092  571 1174   68 1036    6 1574\n",
      " 1367 1926  649 1249  990    8]\n"
     ]
    },
    {
     "name": "stderr",
     "output_type": "stream",
     "text": [
      "/project2/roux/scguo/scikit-learn-extra/sklearn_extra/cluster/_k_medoids.py:414: FutureWarning: elementwise comparison failed; returning scalar instead, but in the future will perform elementwise comparison\n",
      "  medoids = self.init\n",
      "/project2/roux/scguo/scikit-learn-extra/sklearn_extra/cluster/_k_medoids.py:417: FutureWarning: elementwise comparison failed; returning scalar instead, but in the future will perform elementwise comparison\n",
      "  medoids = random_state_.choice(len(D), n_clusters, replace=False)\n",
      "/project2/roux/scguo/scikit-learn-extra/sklearn_extra/cluster/_k_medoids.py:419: FutureWarning: elementwise comparison failed; returning scalar instead, but in the future will perform elementwise comparison\n",
      "  medoids = self._kpp_init(D, n_clusters, random_state_)\n",
      "/project2/roux/scguo/scikit-learn-extra/sklearn_extra/cluster/_k_medoids.py:425: FutureWarning: elementwise comparison failed; returning scalar instead, but in the future will perform elementwise comparison\n",
      "  ]\n",
      "/project2/roux/scguo/scikit-learn-extra/sklearn_extra/cluster/_k_medoids.py:282: ConvergenceWarning: Maximum number of iteration reached before convergence. Consider increasing max_iter to improve the fit.\n",
      "  )\n",
      "/project2/roux/scguo/scikit-learn-extra/sklearn_extra/cluster/_k_medoids.py:185: FutureWarning: elementwise comparison failed; returning scalar instead, but in the future will perform elementwise comparison\n",
      "  raise ValueError(\n"
     ]
    },
    {
     "name": "stdout",
     "output_type": "stream",
     "text": [
      "Iteration 17...\n",
      "[ 293  416  593 1584 1636  550 1748 1092  571 1174   68 1196    6 1574\n",
      " 1367 1926  649 1249  990    8]\n"
     ]
    },
    {
     "name": "stderr",
     "output_type": "stream",
     "text": [
      "/project2/roux/scguo/scikit-learn-extra/sklearn_extra/cluster/_k_medoids.py:414: FutureWarning: elementwise comparison failed; returning scalar instead, but in the future will perform elementwise comparison\n",
      "  medoids = self.init\n",
      "/project2/roux/scguo/scikit-learn-extra/sklearn_extra/cluster/_k_medoids.py:417: FutureWarning: elementwise comparison failed; returning scalar instead, but in the future will perform elementwise comparison\n",
      "  medoids = random_state_.choice(len(D), n_clusters, replace=False)\n",
      "/project2/roux/scguo/scikit-learn-extra/sklearn_extra/cluster/_k_medoids.py:419: FutureWarning: elementwise comparison failed; returning scalar instead, but in the future will perform elementwise comparison\n",
      "  medoids = self._kpp_init(D, n_clusters, random_state_)\n",
      "/project2/roux/scguo/scikit-learn-extra/sklearn_extra/cluster/_k_medoids.py:425: FutureWarning: elementwise comparison failed; returning scalar instead, but in the future will perform elementwise comparison\n",
      "  ]\n",
      "/project2/roux/scguo/scikit-learn-extra/sklearn_extra/cluster/_k_medoids.py:282: ConvergenceWarning: Maximum number of iteration reached before convergence. Consider increasing max_iter to improve the fit.\n",
      "  )\n",
      "/project2/roux/scguo/scikit-learn-extra/sklearn_extra/cluster/_k_medoids.py:185: FutureWarning: elementwise comparison failed; returning scalar instead, but in the future will perform elementwise comparison\n",
      "  raise ValueError(\n"
     ]
    },
    {
     "name": "stdout",
     "output_type": "stream",
     "text": [
      "Iteration 18...\n",
      "[ 293  416  593 1584 1636  550 1748 1092  571 1174   68 1196    6 1574\n",
      " 1367 1955  649 1249  990    8]\n"
     ]
    },
    {
     "name": "stderr",
     "output_type": "stream",
     "text": [
      "/project2/roux/scguo/scikit-learn-extra/sklearn_extra/cluster/_k_medoids.py:414: FutureWarning: elementwise comparison failed; returning scalar instead, but in the future will perform elementwise comparison\n",
      "  medoids = self.init\n",
      "/project2/roux/scguo/scikit-learn-extra/sklearn_extra/cluster/_k_medoids.py:417: FutureWarning: elementwise comparison failed; returning scalar instead, but in the future will perform elementwise comparison\n",
      "  medoids = random_state_.choice(len(D), n_clusters, replace=False)\n",
      "/project2/roux/scguo/scikit-learn-extra/sklearn_extra/cluster/_k_medoids.py:419: FutureWarning: elementwise comparison failed; returning scalar instead, but in the future will perform elementwise comparison\n",
      "  medoids = self._kpp_init(D, n_clusters, random_state_)\n",
      "/project2/roux/scguo/scikit-learn-extra/sklearn_extra/cluster/_k_medoids.py:425: FutureWarning: elementwise comparison failed; returning scalar instead, but in the future will perform elementwise comparison\n",
      "  ]\n",
      "/project2/roux/scguo/scikit-learn-extra/sklearn_extra/cluster/_k_medoids.py:282: ConvergenceWarning: Maximum number of iteration reached before convergence. Consider increasing max_iter to improve the fit.\n",
      "  )\n",
      "/project2/roux/scguo/scikit-learn-extra/sklearn_extra/cluster/_k_medoids.py:185: FutureWarning: elementwise comparison failed; returning scalar instead, but in the future will perform elementwise comparison\n",
      "  raise ValueError(\n"
     ]
    },
    {
     "name": "stdout",
     "output_type": "stream",
     "text": [
      "Iteration 19...\n",
      "[ 293  416  593 1584 1636  550 1748 1092  571 1174   68  878    6 1574\n",
      " 1367 1955  649 1249  990    8]\n"
     ]
    },
    {
     "name": "stderr",
     "output_type": "stream",
     "text": [
      "/project2/roux/scguo/scikit-learn-extra/sklearn_extra/cluster/_k_medoids.py:414: FutureWarning: elementwise comparison failed; returning scalar instead, but in the future will perform elementwise comparison\n",
      "  medoids = self.init\n",
      "/project2/roux/scguo/scikit-learn-extra/sklearn_extra/cluster/_k_medoids.py:417: FutureWarning: elementwise comparison failed; returning scalar instead, but in the future will perform elementwise comparison\n",
      "  medoids = random_state_.choice(len(D), n_clusters, replace=False)\n",
      "/project2/roux/scguo/scikit-learn-extra/sklearn_extra/cluster/_k_medoids.py:419: FutureWarning: elementwise comparison failed; returning scalar instead, but in the future will perform elementwise comparison\n",
      "  medoids = self._kpp_init(D, n_clusters, random_state_)\n",
      "/project2/roux/scguo/scikit-learn-extra/sklearn_extra/cluster/_k_medoids.py:425: FutureWarning: elementwise comparison failed; returning scalar instead, but in the future will perform elementwise comparison\n",
      "  ]\n",
      "/project2/roux/scguo/scikit-learn-extra/sklearn_extra/cluster/_k_medoids.py:282: ConvergenceWarning: Maximum number of iteration reached before convergence. Consider increasing max_iter to improve the fit.\n",
      "  )\n",
      "/project2/roux/scguo/scikit-learn-extra/sklearn_extra/cluster/_k_medoids.py:185: FutureWarning: elementwise comparison failed; returning scalar instead, but in the future will perform elementwise comparison\n",
      "  raise ValueError(\n"
     ]
    },
    {
     "name": "stdout",
     "output_type": "stream",
     "text": [
      "Iteration 20...\n",
      "[ 293  416  593 1584 1636  550 1748 1092  571 1174   68  878  194 1574\n",
      " 1367 1955  649 1249  990    8]\n"
     ]
    },
    {
     "name": "stderr",
     "output_type": "stream",
     "text": [
      "/project2/roux/scguo/scikit-learn-extra/sklearn_extra/cluster/_k_medoids.py:414: FutureWarning: elementwise comparison failed; returning scalar instead, but in the future will perform elementwise comparison\n",
      "  medoids = self.init\n",
      "/project2/roux/scguo/scikit-learn-extra/sklearn_extra/cluster/_k_medoids.py:417: FutureWarning: elementwise comparison failed; returning scalar instead, but in the future will perform elementwise comparison\n",
      "  medoids = random_state_.choice(len(D), n_clusters, replace=False)\n",
      "/project2/roux/scguo/scikit-learn-extra/sklearn_extra/cluster/_k_medoids.py:419: FutureWarning: elementwise comparison failed; returning scalar instead, but in the future will perform elementwise comparison\n",
      "  medoids = self._kpp_init(D, n_clusters, random_state_)\n",
      "/project2/roux/scguo/scikit-learn-extra/sklearn_extra/cluster/_k_medoids.py:425: FutureWarning: elementwise comparison failed; returning scalar instead, but in the future will perform elementwise comparison\n",
      "  ]\n",
      "/project2/roux/scguo/scikit-learn-extra/sklearn_extra/cluster/_k_medoids.py:282: ConvergenceWarning: Maximum number of iteration reached before convergence. Consider increasing max_iter to improve the fit.\n",
      "  )\n"
     ]
    }
   ],
   "source": [
    "k = 20\n",
    "km = mini_batch_kmedoids(data_arr, k, batchsize=0.01, metric=se_inv, n_iter=20)"
   ]
  },
  {
   "cell_type": "code",
   "execution_count": 83,
   "metadata": {},
   "outputs": [
    {
     "data": {
      "text/plain": [
       "array([[  9.02105962,  -0.88889561],\n",
       "       [  6.2232412 ,  -0.78852579],\n",
       "       [-10.06027823,   0.36106786],\n",
       "       [ -7.25957234,   0.53621975],\n",
       "       [  5.84982554,  -0.12137595],\n",
       "       [ -3.82914432,   0.1724554 ],\n",
       "       [  3.58538093,  -0.53542803],\n",
       "       [ -8.1849225 ,   0.47768884],\n",
       "       [  4.94942846,  -1.08496552],\n",
       "       [  6.34722581,  -0.47980252],\n",
       "       [  7.64738178,   0.51746891],\n",
       "       [ -6.68302204,  -0.375094  ],\n",
       "       [  5.5506058 ,   0.10841967],\n",
       "       [  6.1415507 ,   0.86381487],\n",
       "       [  7.6321392 ,  -0.76899751],\n",
       "       [ -5.42269791,   0.50286457],\n",
       "       [  2.87218396,  -0.12162698],\n",
       "       [ -8.73594208,   0.7196765 ],\n",
       "       [  6.12628052,   0.57490104],\n",
       "       [ -5.7810481 ,   0.2709631 ]])"
      ]
     },
     "execution_count": 83,
     "metadata": {},
     "output_type": "execute_result"
    }
   ],
   "source": [
    "km.cluster_centers_"
   ]
  },
  {
   "cell_type": "code",
   "execution_count": 84,
   "metadata": {},
   "outputs": [
    {
     "data": {
      "text/plain": [
       "array([ 293,  416,  813, 1584, 1636,  550, 1748, 1092,  571, 1174,   68,\n",
       "        878,  194, 1574, 1367, 1955,  649, 1249,  990,    8])"
      ]
     },
     "execution_count": 84,
     "metadata": {},
     "output_type": "execute_result"
    }
   ],
   "source": [
    "km.medoid_indices_"
   ]
  },
  {
   "cell_type": "code",
   "execution_count": null,
   "metadata": {},
   "outputs": [],
   "source": [
    "labels = np.min(scipy.spatial.distance.cdist(data_arr, km.cluster_centers_))"
   ]
  },
  {
   "cell_type": "code",
   "execution_count": 82,
   "metadata": {},
   "outputs": [
    {
     "data": {
      "image/png": "[encoded data removed]",
      "text/plain": [
       "<Figure size 450x450 with 1 Axes>"
      ]
     },
     "metadata": {
      "needs_background": "light"
     },
     "output_type": "display_data"
    }
   ],
   "source": [
    "labels = \n",
    "fig, ax = plt.subplots()\n",
    "for i in range(k):\n",
    "    # Find indices of data in cluster k\n",
    "    idx = np.where(labels == i)[0]\n",
    "    ax.scatter(data_arr[idx,0], data_arr[idx,1], marker='.')\n",
    "    ax.plot(*km.cluster_centers_[i], 'sk')"
   ]
  },
  {
   "cell_type": "code",
   "execution_count": null,
   "metadata": {},
   "outputs": [],
   "source": []
  }
 ],
 "metadata": {
  "kernelspec": {
   "display_name": "Python 3",
   "language": "python",
   "name": "python3"
  },
  "language_info": {
   "codemirror_mode": {
    "name": "ipython",
    "version": 3
   },
   "file_extension": ".py",
   "mimetype": "text/x-python",
   "name": "python",
   "nbconvert_exporter": "python",
   "pygments_lexer": "ipython3",
   "version": "3.7.8"
  }
 },
 "nbformat": 4,
 "nbformat_minor": 4
}
