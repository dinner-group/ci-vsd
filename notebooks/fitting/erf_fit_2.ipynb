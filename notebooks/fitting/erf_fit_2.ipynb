{
 "cells": [
  {
   "cell_type": "code",
   "execution_count": 1,
   "id": "8afa5f23-36c5-47a2-85b0-fd2222d2aa1b",
   "metadata": {},
   "outputs": [],
   "source": [
    "import importlib\n",
    "import os\n",
    "import random\n",
    "import sys\n",
    "\n",
    "import matplotlib as mpl\n",
    "import matplotlib.pyplot as plt\n",
    "import numpy as np\n",
    "import prettypyplot as pplt\n",
    "import scipy\n",
    "import seaborn as sns\n",
    "import sklearn\n",
    "from matplotlib import ticker"
   ]
  },
  {
   "cell_type": "code",
   "execution_count": 2,
   "id": "f875d49e-a34b-483c-b140-99f94697cc0a",
   "metadata": {},
   "outputs": [],
   "source": [
    "# again, this only works on startup!\n",
    "from jax.config import config\n",
    "\n",
    "config.update(\"jax_enable_x64\", True)\n",
    "\n",
    "import jax\n",
    "import jax.numpy as jnp\n",
    "from jax import grad, jacfwd, jacrev, jit, vmap"
   ]
  },
  {
   "cell_type": "code",
   "execution_count": 3,
   "id": "af396ee6-b1de-4bf7-865a-2d2fb305cda5",
   "metadata": {},
   "outputs": [],
   "source": [
    "sys.path.insert(1, \"../../python\")\n",
    "sys.path.insert(1, \"../../..\")\n",
    "import plotting\n",
    "import util"
   ]
  },
  {
   "cell_type": "code",
   "execution_count": 4,
   "id": "aaad2928-6252-4bcf-863a-db984dbbd693",
   "metadata": {},
   "outputs": [],
   "source": [
    "pplt.load_cmaps()\n",
    "plt.style.use(\"custom\")  # custom style sheet\n",
    "plt.style.use(\"muted\")  # muted color theme from SciencePlots\n",
    "colors = mpl.colors.to_rgba_array(\n",
    "    [\n",
    "        \"#364B9A\",\n",
    "        \"#4A7BB7\",\n",
    "        \"#6EA6CD\",\n",
    "        \"#98CAE1\",\n",
    "        \"#C2E4EF\",\n",
    "        \"#EAECCC\",\n",
    "        \"#FEDA8B\",\n",
    "        \"#FDB366\",\n",
    "        \"#F67E4B\",\n",
    "        \"#DD3D2D\",\n",
    "        \"#A50026\",\n",
    "    ]\n",
    ")\n",
    "cm_div = mpl.colors.LinearSegmentedColormap.from_list(\"diverging\", colors)\n",
    "mpl.colormaps.register(cm_div, force=True)"
   ]
  },
  {
   "cell_type": "markdown",
   "id": "7666d96b-4495-44c9-9b65-45efed020c6a",
   "metadata": {},
   "source": [
    "# Load Data"
   ]
  },
  {
   "cell_type": "code",
   "execution_count": 5,
   "id": "d2015c19-54aa-4eed-9672-4a2f6727fee0",
   "metadata": {},
   "outputs": [],
   "source": [
    "cv_trajs = list(\n",
    "    np.load(\"../../data/raw_feat/cv_dist_spin_anton.npy\", allow_pickle=True)\n",
    ")\n",
    "cv_trajs.extend(np.load(\"../../data/raw_feat/cv_dist_spin_anton2.npy\"))"
   ]
  },
  {
   "cell_type": "code",
   "execution_count": 6,
   "id": "d09cc0ba-202e-41ab-a0aa-f4249864d18f",
   "metadata": {},
   "outputs": [],
   "source": [
    "sb_labels = []\n",
    "for r in (\"R217\", \"R223\", \"R226\", \"R229\", \"R232\"):\n",
    "    for n in (\"D129\", \"D136\", \"D151\", \"D164\", \"E183\", \"D186\"):\n",
    "        sb_labels.append(f\"{r} - {n}\")"
   ]
  },
  {
   "cell_type": "code",
   "execution_count": 7,
   "id": "a04a29bd-41fb-4e87-b231-3f7413565011",
   "metadata": {},
   "outputs": [],
   "source": [
    "sb_trajs = list(np.load(\"../../data/raw_feat/feat2_raw_anton.npy\", allow_pickle=True))\n",
    "sb_trajs.extend(np.load(\"../../data/raw_feat/feat2_raw_anton2.npy\"))"
   ]
  },
  {
   "cell_type": "code",
   "execution_count": 8,
   "id": "d77f2a56-d391-4f0c-be8a-b6048bb7e7eb",
   "metadata": {},
   "outputs": [
    {
     "name": "stdout",
     "output_type": "stream",
     "text": [
      "(4150115, 2) (4150115, 60)\n"
     ]
    }
   ],
   "source": [
    "cv_arr = np.concatenate(cv_trajs)\n",
    "sb_arr = np.concatenate(sb_trajs)\n",
    "print(cv_arr.shape, sb_arr.shape)"
   ]
  },
  {
   "cell_type": "code",
   "execution_count": 9,
   "id": "50b2fcd2-7bf8-4b5b-a0e2-905252f10543",
   "metadata": {},
   "outputs": [],
   "source": [
    "# load committors\n",
    "qp_du = np.load(\"../../data/feat2_dist_du_anton2/qp_downup_3.npy\", allow_pickle=True)[\n",
    "    8\n",
    "]  # 50 ns\n",
    "w = np.load(\n",
    "    \"../../data/feat2_dist_du_anton2/weights_3_feat5ivac.npy\", allow_pickle=True\n",
    ")[0]"
   ]
  },
  {
   "cell_type": "code",
   "execution_count": 10,
   "id": "3410b1b1-d94e-44da-95eb-2878253dea9d",
   "metadata": {},
   "outputs": [],
   "source": [
    "rf161 = list(np.load(\"../../data/raw_feat/rf161.npy\", allow_pickle=True))\n",
    "rf161.extend(np.load(\"../../data/raw_feat/rf161_anton2.npy\"))\n",
    "rf161_arr = np.concatenate(rf161)"
   ]
  },
  {
   "cell_type": "code",
   "execution_count": 11,
   "id": "28d7879d-846d-4521-829a-89392197c212",
   "metadata": {},
   "outputs": [],
   "source": [
    "def corr_q(e, z_traj, z0, lag=500, sigma=1):\n",
    "    C = 0\n",
    "    for z in z_traj:\n",
    "        q_0 = q(e, z[:-lag], z0, sigma=sigma)\n",
    "        q_tau = q(e, z[lag:], z0, sigma=sigma)\n",
    "        # C += jnp.mean(q_0 * q_tau)\n",
    "        # C -= jnp.mean(q_0**2)\n",
    "        C += jnp.mean((q_tau - q_0) ** 2)\n",
    "    return C * -0.5  # want to maximize, so flip sign\n",
    "\n",
    "\n",
    "def Lagrangian(x, z_traj, z0, lag=500, sigma=1):\n",
    "    e = x[:-1]\n",
    "    L = corr_q(e, z_traj, z0, lag=lag, sigma=sigma)\n",
    "    L -= x[-1] * (jnp.linalg.norm(e) - 1)\n",
    "    return L\n",
    "\n",
    "\n",
    "@jit\n",
    "def q(e, z, z0, sigma=1):\n",
    "    \"\"\"Compute the value of the committor for a trajectory z given\n",
    "    a unit vector e\n",
    "\n",
    "    z : ndarray of shape (n_frames, n_features)\n",
    "    z0 : ndarray of shape (n_features,)\n",
    "    \"\"\"\n",
    "    arg = jnp.dot((z - z0), e) / sigma\n",
    "    return 0.5 * (1 + jax.scipy.special.erf(arg))"
   ]
  },
  {
   "cell_type": "code",
   "execution_count": 12,
   "id": "8cc79187-0872-4de7-ae05-5d3ebf1ffef5",
   "metadata": {},
   "outputs": [],
   "source": [
    "offset = 0.05\n",
    "q_arr = np.concatenate(qp_du)\n",
    "ts_ids = (q_arr > (0.5 - offset)) & (q_arr < (0.5 + offset))\n",
    "traj_inds = util.split_indices(cv_trajs)"
   ]
  },
  {
   "cell_type": "markdown",
   "id": "65bef47b-d5a0-4777-ba7e-c97e7f874ee7",
   "metadata": {},
   "source": [
    "# Standardize features"
   ]
  },
  {
   "cell_type": "code",
   "execution_count": 13,
   "id": "7c4282e2-73b4-4e5a-ac53-a26014de6339",
   "metadata": {},
   "outputs": [],
   "source": [
    "from sklearn.preprocessing import StandardScaler"
   ]
  },
  {
   "cell_type": "code",
   "execution_count": 14,
   "id": "8409b139-46b8-477e-9884-da34907bd88d",
   "metadata": {},
   "outputs": [],
   "source": [
    "# z_arr = np.hstack((cv_arr, sb_arr, rf161_arr))\n",
    "# z_trajs = np.split(z_arr, traj_inds, axis=0)\n",
    "z_arr = cv_arr\n",
    "\n",
    "scaler = StandardScaler()\n",
    "z_arr = scaler.fit_transform(z_arr)\n",
    "\n",
    "z_trajs = np.split(z_arr, traj_inds)\n",
    "z0 = np.mean(z_arr[ts_ids], axis=0)"
   ]
  },
  {
   "cell_type": "markdown",
   "id": "fce059d2-69d4-45f1-83c2-5f11b1e1c2c3",
   "metadata": {},
   "source": [
    "## `scipy` optimize (large $\\sigma$)"
   ]
  },
  {
   "cell_type": "code",
   "execution_count": 15,
   "id": "892e5507-337c-4e5d-84d5-48aaaaaa3d41",
   "metadata": {},
   "outputs": [],
   "source": [
    "lag = 500\n",
    "sigma = 10\n",
    "n_feat = z_arr.shape[1]\n",
    "e0 = np.ones(n_feat) * jnp.sqrt(1 / n_feat)"
   ]
  },
  {
   "cell_type": "markdown",
   "id": "1298bc44-3ee6-433b-b2f2-cfeedf8af72b",
   "metadata": {},
   "source": [
    "## Compute gradient and Hessian of correlation function analytically using Jax `jacrev` and `jacfwd`"
   ]
  },
  {
   "cell_type": "code",
   "execution_count": 16,
   "id": "9f4672b0-c780-4a02-8cc4-bd85eef28355",
   "metadata": {},
   "outputs": [],
   "source": [
    "grad_cq = jacrev(corr_q)\n",
    "hess = jacfwd(grad_cq)"
   ]
  },
  {
   "cell_type": "code",
   "execution_count": 17,
   "id": "11a4d01e-4729-4cdc-bc1e-f6b5aa769504",
   "metadata": {},
   "outputs": [],
   "source": [
    "g = grad_cq(e0, z_trajs, z0, lag=lag, sigma=sigma)\n",
    "h = hess(e0, z_trajs, z0, lag=lag, sigma=sigma)"
   ]
  },
  {
   "cell_type": "code",
   "execution_count": 18,
   "id": "83f704c0-87b8-4770-9b52-8073b9fe0eb7",
   "metadata": {},
   "outputs": [],
   "source": [
    "# jit for efficiency\n",
    "jit_grad = jit(grad_cq, static_argnames=(\"lag\", \"sigma\"))\n",
    "jit_hess = jit(hess, static_argnames=(\"lag\", \"sigma\"))"
   ]
  },
  {
   "cell_type": "code",
   "execution_count": 19,
   "id": "394838c4-39ab-4000-befe-a43e7ab5bd33",
   "metadata": {},
   "outputs": [
    {
     "data": {
      "text/plain": [
       "DeviceArray([-0.05176695, -0.03736626], dtype=float64)"
      ]
     },
     "execution_count": 19,
     "metadata": {},
     "output_type": "execute_result"
    }
   ],
   "source": [
    "print(jit_grad(e0, z_trajs, z0, lag=lag, sigma=sigma))\n",
    "print(jit_hess(e0, z_trajs, z0, lag=lag, sigma=sigma)"
   ]
  },
  {
   "cell_type": "code",
   "execution_count": 20,
   "id": "7177c6cf-7958-4243-a0f3-5dcae94dbfa3",
   "metadata": {},
   "outputs": [
    {
     "name": "stdout",
     "output_type": "stream",
     "text": [
      "[-0.05176695 -0.03736626]\n"
     ]
    }
   ],
   "source": [
    "print(g)\n",
    "print(h)"
   ]
  },
  {
   "cell_type": "markdown",
   "id": "0ba34dfc-6c47-4191-8f66-8402a8c91560",
   "metadata": {},
   "source": [
    "## Define constraints so that unit vector is normalized"
   ]
  },
  {
   "cell_type": "code",
   "execution_count": 25,
   "id": "c43a77c4-19de-44fc-948d-bc8e803fb718",
   "metadata": {},
   "outputs": [],
   "source": [
    "def cons_f(x):\n",
    "    return jnp.sum(x * x)\n",
    "\n",
    "\n",
    "def cons_J(x):\n",
    "    return 2 * x\n",
    "\n",
    "\n",
    "def cons_H(x, v):\n",
    "    return jnp.eye(len(x)) * 2 * v\n",
    "\n",
    "\n",
    "# constraint that squared norm of x = 1 (use analytical gradient/Hessian)\n",
    "constraint = scipy.optimize.NonlinearConstraint(cons_f, 1, 1, jac=cons_J, hess=cons_H)"
   ]
  },
  {
   "cell_type": "code",
   "execution_count": 26,
   "id": "56044d58-0a76-4f1a-b6ae-e40a51b49e90",
   "metadata": {
    "tags": []
   },
   "outputs": [
    {
     "name": "stdout",
     "output_type": "stream",
     "text": [
      "| niter |f evals|CG iter|  obj func   |tr radius |   opt    |  c viol  |\n",
      "|-------|-------|-------|-------------|----------|----------|----------|\n",
      "|   1   |   1   |   0   | -1.3227e+00 | 1.00e+00 | 4.99e-01 | 2.22e-16 |\n",
      "|   2   |   2   |   1   | -2.2422e+00 | 1.00e+00 | 2.55e-01 | 8.60e-01 |\n",
      "|   3   |   3   |   2   | -1.6656e+00 | 1.00e+00 | 4.41e-03 | 1.17e-01 |\n",
      "|   4   |   4   |   3   | -1.5556e+00 | 1.00e+00 | 5.44e-04 | 3.06e-03 |\n",
      "|   5   |   5   |   4   | -1.5526e+00 | 1.00e+00 | 1.11e-06 | 2.62e-06 |\n",
      "|   6   |   6   |   5   | -1.5526e+00 | 1.00e+00 | 6.23e-13 | 2.15e-12 |\n",
      "\n",
      "`gtol` termination condition is satisfied.\n",
      "Number of iterations: 6, function evaluations: 6, CG iterations: 5, optimality: 6.23e-13, constraint violation: 2.15e-12, execution time:  1.3 s.\n"
     ]
    }
   ],
   "source": [
    "solve_ans = scipy.optimize.minimize(\n",
    "    corr_q,\n",
    "    e0,\n",
    "    args=(z_trajs, z0),\n",
    "    method=\"trust-constr\",\n",
    "    jac=jit_grad,\n",
    "    hess=jit_hess,\n",
    "    constraints=constraint,\n",
    "    options={\"verbose\": 2},\n",
    ")"
   ]
  },
  {
   "cell_type": "code",
   "execution_count": 27,
   "id": "875c933d-29dd-4ce1-9cbd-c35aa200545d",
   "metadata": {},
   "outputs": [
    {
     "name": "stdout",
     "output_type": "stream",
     "text": [
      "         cg_niter: 5\n",
      "     cg_stop_cond: 1\n",
      "           constr: [array([1.])]\n",
      "      constr_nfev: [6]\n",
      "      constr_nhev: [7]\n",
      "      constr_njev: [6]\n",
      "   constr_penalty: 1.4225626832155325\n",
      " constr_violation: 2.149391775674303e-12\n",
      "   execution_time: 1.3096985816955566\n",
      "              fun: -1.5525891054487349\n",
      "             grad: array([-1.96587292, -0.31901755])\n",
      "              jac: [array([[1.97417487, 0.32036477]])]\n",
      "  lagrangian_grad: array([-1.01474384e-13,  6.23057161e-13])\n",
      "          message: '`gtol` termination condition is satisfied.'\n",
      "           method: 'equality_constrained_sqp'\n",
      "             nfev: 6\n",
      "             nhev: 6\n",
      "              nit: 6\n",
      "            niter: 6\n",
      "             njev: 6\n",
      "       optimality: 6.230571614196379e-13\n",
      "           status: 1\n",
      "          success: True\n",
      "        tr_radius: 1.0\n",
      "                v: [array([0.99579472])]\n",
      "                x: array([0.98708743, 0.16018239])\n"
     ]
    }
   ],
   "source": [
    "print(solve_ans)"
   ]
  },
  {
   "cell_type": "code",
   "execution_count": 30,
   "id": "97680104-a26f-424d-92d8-6f7e97d84fc0",
   "metadata": {},
   "outputs": [],
   "source": [
    "def optimize_vector(e0, z_trajs, z0, jac, hess):\n",
    "    ans = scipy.optimize.minimize(\n",
    "        corr_q,\n",
    "        e0,\n",
    "        args=(z_trajs, z0),\n",
    "        method=\"trust-constr\",\n",
    "        jac=jac,\n",
    "        hess=hess,\n",
    "        constraints=constraint,\n",
    "        options={\"verbose\": 1},\n",
    "    )\n",
    "    return ans.x"
   ]
  },
  {
   "cell_type": "code",
   "execution_count": 31,
   "id": "d5d18eca-32bb-4a69-b252-10fb44155a72",
   "metadata": {
    "scrolled": true,
    "tags": []
   },
   "outputs": [
    {
     "name": "stdout",
     "output_type": "stream",
     "text": [
      "`gtol` termination condition is satisfied.\n",
      "Number of iterations: 4, function evaluations: 4, CG iterations: 3, optimality: 2.86e-10, constraint violation: 4.04e-10, execution time: 0.75 s.\n",
      "[0.9949063  0.10080399] [0.98708743 0.16018239]\n",
      "`gtol` termination condition is satisfied.\n",
      "Number of iterations: 6, function evaluations: 7, CG iterations: 5, optimality: 1.49e-09, constraint violation: 2.86e-09, execution time:  1.2 s.\n",
      "[ 0.94762219 -0.31939348] [0.98708744 0.16018239]\n",
      "`gtol` termination condition is satisfied.\n",
      "Number of iterations: 6, function evaluations: 6, CG iterations: 5, optimality: 3.21e-11, constraint violation: 1.00e-10, execution time:  1.3 s.\n",
      "[0.63647299 0.77129899] [0.98708743 0.16018239]\n",
      "`gtol` termination condition is satisfied.\n",
      "Number of iterations: 7, function evaluations: 8, CG iterations: 6, optimality: 3.27e-10, constraint violation: 1.57e-09, execution time:  1.6 s.\n",
      "[-0.03876042 -0.99924853] [0.98708743 0.16018239]\n",
      "`gtol` termination condition is satisfied.\n",
      "Number of iterations: 6, function evaluations: 6, CG iterations: 5, optimality: 2.13e-10, constraint violation: 3.36e-10, execution time:  1.3 s.\n",
      "[ 0.86631688 -0.49949482] [0.98708743 0.16018239]\n",
      "`gtol` termination condition is satisfied.\n",
      "Number of iterations: 8, function evaluations: 9, CG iterations: 7, optimality: 1.33e-15, constraint violation: 1.55e-15, execution time:  1.9 s.\n",
      "[-0.10694932  0.99426447] [-0.98708743 -0.16018239]\n",
      "`gtol` termination condition is satisfied.\n",
      "Number of iterations: 7, function evaluations: 7, CG iterations: 6, optimality: 8.88e-16, constraint violation: 6.66e-16, execution time:  1.5 s.\n",
      "[-0.20390652 -0.97899036] [-0.98708743 -0.16018239]\n",
      "`gtol` termination condition is satisfied.\n",
      "Number of iterations: 7, function evaluations: 7, CG iterations: 6, optimality: 5.66e-15, constraint violation: 7.99e-15, execution time:  1.5 s.\n",
      "[-0.09979919 -0.9950076 ] [-0.98708743 -0.16018239]\n",
      "`gtol` termination condition is satisfied.\n",
      "Number of iterations: 6, function evaluations: 6, CG iterations: 5, optimality: 1.74e-09, constraint violation: 2.30e-09, execution time:  1.3 s.\n",
      "[ 0.96587614 -0.25900442] [0.98708744 0.16018239]\n",
      "`gtol` termination condition is satisfied.\n",
      "Number of iterations: 7, function evaluations: 7, CG iterations: 6, optimality: 1.11e-15, constraint violation: 0.00e+00, execution time:  1.5 s.\n",
      "[0.46185406 0.88695593] [0.98708743 0.16018239]\n"
     ]
    }
   ],
   "source": [
    "# randomly choose starting vectors\n",
    "inits = []\n",
    "results = []\n",
    "for i in range(10):\n",
    "    vec = np.random.normal(size=2)\n",
    "    init = vec / np.linalg.norm(vec)\n",
    "    inits.append(init)\n",
    "    ans = optimize_vector(init, z_trajs, z0, jit_grad, jit_hess)\n",
    "    results.append(ans)\n",
    "    print(init, ans)"
   ]
  },
  {
   "cell_type": "markdown",
   "id": "73e5c679-764b-4382-91ee-26ee98cc57d6",
   "metadata": {},
   "source": [
    "# Vary $\\sigma$"
   ]
  },
  {
   "cell_type": "code",
   "execution_count": 32,
   "id": "8643ac21-843e-448d-aa71-a4e5d9f9166c",
   "metadata": {},
   "outputs": [],
   "source": [
    "sigma = 1"
   ]
  },
  {
   "cell_type": "code",
   "execution_count": 33,
   "id": "0e2ac685-3228-403b-ac04-6dafd232ece9",
   "metadata": {},
   "outputs": [],
   "source": [
    "grad_cq = jacrev(corr_q)\n",
    "hess = jacfwd(grad_cq)"
   ]
  },
  {
   "cell_type": "code",
   "execution_count": 34,
   "id": "02efaa97-a85d-47c1-a120-eadd39dc28cb",
   "metadata": {},
   "outputs": [],
   "source": [
    "g = grad_cq(e0, z_trajs, z0, lag=lag, sigma=sigma)\n",
    "h = hess(e0, z_trajs, z0, lag=lag, sigma=sigma)"
   ]
  },
  {
   "cell_type": "code",
   "execution_count": 35,
   "id": "650fbc10-6f78-43f8-90b4-fce5b8702d71",
   "metadata": {},
   "outputs": [
    {
     "name": "stdout",
     "output_type": "stream",
     "text": [
      "[-1.76641029 -0.76920923]\n",
      "[[-1.05343892  0.32988227]\n",
      " [ 0.32988227 -0.35204941]]\n"
     ]
    }
   ],
   "source": [
    "print(g)\n",
    "print(h)"
   ]
  },
  {
   "cell_type": "code",
   "execution_count": 36,
   "id": "b0260a22-dde4-4cb4-9be5-64a5c72a8ea3",
   "metadata": {},
   "outputs": [],
   "source": [
    "# jit for efficiency\n",
    "jit_grad = jit(grad_cq, static_argnames=(\"lag\", \"sigma\"))\n",
    "jit_hess = jit(hess, static_argnames=(\"lag\", \"sigma\"))"
   ]
  },
  {
   "cell_type": "code",
   "execution_count": 38,
   "id": "d67e09bc-2e2b-45e9-94db-065c28dc67fd",
   "metadata": {},
   "outputs": [
    {
     "name": "stdout",
     "output_type": "stream",
     "text": [
      "[-1.76641029 -0.76920923]\n",
      "[[-1.05343892  0.32988227]\n",
      " [ 0.32988227 -0.35204941]]\n"
     ]
    }
   ],
   "source": [
    "print(jit_grad(e0, z_trajs, z0, lag=lag, sigma=sigma))\n",
    "print(jit_hess(e0, z_trajs, z0, lag=lag, sigma=sigma))"
   ]
  },
  {
   "cell_type": "code",
   "execution_count": 39,
   "id": "3344472d-4ef8-4bba-ac77-eba14bc8854e",
   "metadata": {},
   "outputs": [
    {
     "name": "stdout",
     "output_type": "stream",
     "text": [
      "| niter |f evals|CG iter|  obj func   |tr radius |   opt    |  c viol  |\n",
      "|-------|-------|-------|-------------|----------|----------|----------|\n",
      "|   1   |   1   |   0   | -1.3227e+00 | 1.00e+00 | 4.99e-01 | 2.22e-16 |\n",
      "|   2   |   2   |   1   | -2.2422e+00 | 1.00e+00 | 2.55e-01 | 8.60e-01 |\n",
      "|   3   |   3   |   2   | -1.6656e+00 | 1.00e+00 | 4.41e-03 | 1.17e-01 |\n",
      "|   4   |   4   |   3   | -1.5556e+00 | 1.00e+00 | 5.44e-04 | 3.06e-03 |\n",
      "|   5   |   5   |   4   | -1.5526e+00 | 1.00e+00 | 1.11e-06 | 2.62e-06 |\n",
      "|   6   |   6   |   5   | -1.5526e+00 | 1.00e+00 | 6.23e-13 | 2.15e-12 |\n",
      "\n",
      "`gtol` termination condition is satisfied.\n",
      "Number of iterations: 6, function evaluations: 6, CG iterations: 5, optimality: 6.23e-13, constraint violation: 2.15e-12, execution time:  1.3 s.\n"
     ]
    }
   ],
   "source": [
    "solve_ans = scipy.optimize.minimize(\n",
    "    corr_q,\n",
    "    e0,\n",
    "    args=(z_trajs, z0),\n",
    "    method=\"trust-constr\",\n",
    "    jac=jit_grad,\n",
    "    hess=jit_hess,\n",
    "    constraints=constraint,\n",
    "    options={\"verbose\": 2},\n",
    ")"
   ]
  },
  {
   "cell_type": "code",
   "execution_count": 40,
   "id": "c342745d-f45c-4e05-a69c-a2d463f22826",
   "metadata": {},
   "outputs": [
    {
     "name": "stdout",
     "output_type": "stream",
     "text": [
      "[0.98708743 0.16018239]\n"
     ]
    }
   ],
   "source": [
    "print(solve_ans.x)"
   ]
  },
  {
   "cell_type": "markdown",
   "id": "8c5ad59b-bc68-410b-b5ab-ae8624ff8744",
   "metadata": {},
   "source": [
    "# Use more features"
   ]
  },
  {
   "cell_type": "code",
   "execution_count": 41,
   "id": "b6f8b5d0-d77d-47f2-8a33-0904e7b17fad",
   "metadata": {},
   "outputs": [],
   "source": [
    "sb_ids = [42, 47, 52, 53, 58, 59]\n",
    "z_arr = np.hstack((cv_arr, sb_arr[:, sb_ids], rf161_arr[:, 1:2]))\n",
    "\n",
    "scaler = StandardScaler()\n",
    "z_arr = scaler.fit_transform(z_arr)\n",
    "\n",
    "z_trajs = np.split(z_arr, traj_inds)\n",
    "z0 = np.mean(z_arr[ts_ids], axis=0)"
   ]
  },
  {
   "cell_type": "code",
   "execution_count": 42,
   "id": "44bd5860-6b68-4df0-b57f-765a90678a95",
   "metadata": {},
   "outputs": [],
   "source": [
    "lag = 500\n",
    "n_feat = z_arr.shape[1]\n",
    "e0 = np.ones(n_feat) * jnp.sqrt(1 / n_feat)"
   ]
  },
  {
   "cell_type": "code",
   "execution_count": 43,
   "id": "b75a08a1-8647-4ee1-8c92-ddb07baef6e6",
   "metadata": {},
   "outputs": [],
   "source": [
    "grad_cq = jacrev(corr_q)\n",
    "hess = jacfwd(grad_cq)"
   ]
  },
  {
   "cell_type": "code",
   "execution_count": 44,
   "id": "68472ca4-09d5-4269-b1ed-304fc9051a58",
   "metadata": {},
   "outputs": [],
   "source": [
    "g = grad_cq(e0, z_trajs, z0, lag=lag, sigma=sigma)\n",
    "h = hess(e0, z_trajs, z0, lag=lag, sigma=sigma)"
   ]
  },
  {
   "cell_type": "code",
   "execution_count": 45,
   "id": "e18ec824-d1dc-4607-8f03-cf7e6caa7745",
   "metadata": {
    "tags": []
   },
   "outputs": [
    {
     "name": "stdout",
     "output_type": "stream",
     "text": [
      "[ 0.26178433 -1.31627006  0.55476321 -1.06480957 -1.52102875 -1.68771687\n",
      "  0.75917849  0.76758526 -0.20942264]\n",
      "[[-2.39804329 -0.02034496  0.70113468 -0.4083246  -0.06563467  0.83519473\n",
      "   0.06923162  0.41697227 -0.19363848]\n",
      " [-0.02034496 -2.76425851  1.30084792 -1.33944518 -1.24033409 -1.00729681\n",
      "   2.02017047  1.66921159 -0.24024601]\n",
      " [ 0.70113468  1.30084792 -3.15307765  1.68728974  1.21975348  0.57877554\n",
      "  -0.34905351 -0.67475386 -0.24930536]\n",
      " [-0.4083246  -1.33944518  1.68728974 -2.31278319 -1.47205363 -0.4691838\n",
      "   0.99482688  1.59676214 -0.16925595]\n",
      " [-0.06563467 -1.24033409  1.21975348 -1.47205363 -2.314273   -0.29325679\n",
      "   2.39979679  2.56975711  0.29245892]\n",
      " [ 0.83519473 -1.00729681  0.57877554 -0.4691838  -0.29325679 -2.2175301\n",
      "   2.37806185  1.34929688  0.23548068]\n",
      " [ 0.06923162  2.02017047 -0.34905351  0.99482688  2.39979679  2.37806185\n",
      "  -2.3073976  -1.56866243  0.97260184]\n",
      " [ 0.41697227  1.66921159 -0.67475386  1.59676214  2.56975711  1.34929688\n",
      "  -1.56866243 -2.54034064  0.63900773]\n",
      " [-0.19363848 -0.24024601 -0.24930536 -0.16925595  0.29245892  0.23548068\n",
      "   0.97260184  0.63900773 -1.49131925]]\n"
     ]
    }
   ],
   "source": [
    "print(g)\n",
    "print(h)"
   ]
  },
  {
   "cell_type": "code",
   "execution_count": 46,
   "id": "981ff924-c3ad-442c-9958-59b82c6853be",
   "metadata": {},
   "outputs": [],
   "source": [
    "# jit for efficiency\n",
    "jit_grad = jit(grad_cq, static_argnames=(\"lag\", \"sigma\"))\n",
    "jit_hess = jit(hess, static_argnames=(\"lag\", \"sigma\"))"
   ]
  },
  {
   "cell_type": "code",
   "execution_count": 48,
   "id": "7286b8f5-4d12-47e0-9dd5-5893c20767bb",
   "metadata": {},
   "outputs": [
    {
     "name": "stdout",
     "output_type": "stream",
     "text": [
      "[ 0.26178433 -1.31627006  0.55476321 -1.06480957 -1.52102875 -1.68771687\n",
      "  0.75917849  0.76758526 -0.20942264]\n",
      "[[-2.39804329 -0.02034496  0.70113468 -0.4083246  -0.06563467  0.83519473\n",
      "   0.06923162  0.41697227 -0.19363848]\n",
      " [-0.02034496 -2.76425851  1.30084792 -1.33944518 -1.24033409 -1.00729681\n",
      "   2.02017047  1.66921159 -0.24024601]\n",
      " [ 0.70113468  1.30084792 -3.15307765  1.68728974  1.21975348  0.57877554\n",
      "  -0.34905351 -0.67475386 -0.24930536]\n",
      " [-0.4083246  -1.33944518  1.68728974 -2.31278319 -1.47205363 -0.4691838\n",
      "   0.99482688  1.59676214 -0.16925595]\n",
      " [-0.06563467 -1.24033409  1.21975348 -1.47205363 -2.314273   -0.29325679\n",
      "   2.39979679  2.56975711  0.29245892]\n",
      " [ 0.83519473 -1.00729681  0.57877554 -0.4691838  -0.29325679 -2.2175301\n",
      "   2.37806185  1.34929688  0.23548068]\n",
      " [ 0.06923162  2.02017047 -0.34905351  0.99482688  2.39979679  2.37806185\n",
      "  -2.3073976  -1.56866243  0.97260184]\n",
      " [ 0.41697227  1.66921159 -0.67475386  1.59676214  2.56975711  1.34929688\n",
      "  -1.56866243 -2.54034064  0.63900773]\n",
      " [-0.19363848 -0.24024601 -0.24930536 -0.16925595  0.29245892  0.23548068\n",
      "   0.97260184  0.63900773 -1.49131925]]\n"
     ]
    }
   ],
   "source": [
    "print(jit_grad(e0, z_trajs, z0, lag=lag, sigma=sigma))\n",
    "print(jit_hess(e0, z_trajs, z0, lag=lag, sigma=sigma))"
   ]
  },
  {
   "cell_type": "code",
   "execution_count": 49,
   "id": "fd23183c-b0b1-49cc-a8af-a7e448c4f7b0",
   "metadata": {},
   "outputs": [
    {
     "name": "stdout",
     "output_type": "stream",
     "text": [
      "| niter |f evals|CG iter|  obj func   |tr radius |   opt    |  c viol  |\n",
      "|-------|-------|-------|-------------|----------|----------|----------|\n",
      "|   1   |   1   |   0   | -1.7099e+00 | 1.00e+00 | 1.30e+00 | 2.22e-16 |\n",
      "|   2   |   2   |   1   | -4.6191e+00 | 1.00e+00 | 1.76e+00 | 1.00e+00 |\n",
      "|   3   |   3   |   2   | -5.2552e+00 | 1.00e+00 | 4.10e+00 | 1.00e+00 |\n",
      "|   4   |   4   |   3   | -5.3256e+00 | 1.00e+00 | 5.14e+00 | 1.00e+00 |\n",
      "|   5   |   5   |   4   | -7.7410e+00 | 1.00e+00 | 4.77e+00 | 1.00e+00 |\n",
      "|   6   |   6   |   6   | -7.7410e+00 | 5.00e-01 | 4.77e+00 | 1.00e+00 |\n",
      "|   7   |   7   |   7   | -7.2681e+00 | 5.00e-01 | 2.34e+00 | 2.50e-01 |\n",
      "|   8   |   8   |  10   | -8.0134e+00 | 3.50e+00 | 5.09e+00 | 2.50e-01 |\n",
      "|   9   |   9   |  14   | -9.2964e+00 | 4.82e+00 | 2.94e+00 | 4.75e-01 |\n",
      "|  10   |  10   |  18   | -8.0994e+00 | 4.82e+00 | 2.17e-01 | 1.10e-01 |\n",
      "|  11   |  11   |  21   | -7.5870e+00 | 4.82e+00 | 3.71e-02 | 3.74e-03 |\n",
      "|  12   |  12   |  24   | -7.5685e+00 | 4.82e+00 | 1.48e-02 | 3.43e-05 |\n",
      "|  13   |  13   |  28   | -7.5684e+00 | 4.82e+00 | 9.16e-05 | 3.70e-06 |\n",
      "|  14   |  14   |  30   | -7.5684e+00 | 4.82e+00 | 9.31e-06 | 5.07e-10 |\n",
      "|  15   |  15   |  33   | -7.5684e+00 | 4.82e+00 | 2.36e-06 | 2.21e-12 |\n",
      "|  16   |  16   |  36   | -7.5684e+00 | 4.82e+00 | 6.59e-07 | 6.62e-14 |\n",
      "|  17   |  17   |  40   | -7.5684e+00 | 4.82e+00 | 1.29e-08 | 1.09e-14 |\n",
      "|  18   |  18   |  41   | -7.5684e+00 | 4.82e+00 | 2.32e-09 | 0.00e+00 |\n",
      "\n",
      "`gtol` termination condition is satisfied.\n",
      "Number of iterations: 18, function evaluations: 18, CG iterations: 41, optimality: 2.32e-09, constraint violation: 0.00e+00, execution time:  4.8 s.\n",
      "[-0.03987754 -0.02096065 -0.53049233  0.08751875  0.46283053  0.44181732\n",
      "  0.24897896  0.08127903 -0.48049697]\n"
     ]
    }
   ],
   "source": [
    "solve_ans = scipy.optimize.minimize(\n",
    "    corr_q,\n",
    "    e0,\n",
    "    args=(z_trajs, z0),\n",
    "    method=\"trust-constr\",\n",
    "    jac=jit_grad,\n",
    "    hess=jit_hess,\n",
    "    constraints=constraint,\n",
    "    options={\"verbose\": 2},\n",
    ")\n",
    "print(solve_ans.x)"
   ]
  },
  {
   "cell_type": "code",
   "execution_count": 50,
   "id": "cc69ece4-9bd9-483d-a509-44d99cb2b0ab",
   "metadata": {
    "scrolled": true,
    "tags": []
   },
   "outputs": [
    {
     "name": "stdout",
     "output_type": "stream",
     "text": [
      "`xtol` termination condition is satisfied.\n",
      "Number of iterations: 30, function evaluations: 24, CG iterations: 67, optimality: 1.16e-08, constraint violation: 2.22e-16, execution time:  5.4 s.\n",
      "[ 0.16410269 -0.1822989   0.68963155 -0.54148088  0.07293063 -0.01072593\n",
      "  0.17738128  0.36582722  0.01779301] [ 0.03987754  0.02096064  0.53049233 -0.08751875 -0.46283053 -0.44181732\n",
      " -0.24897896 -0.08127903  0.48049697]\n",
      "`gtol` termination condition is satisfied.\n",
      "Number of iterations: 24, function evaluations: 26, CG iterations: 58, optimality: 9.30e-09, constraint violation: 2.22e-16, execution time:  5.8 s.\n",
      "[ 0.6424748   0.41964353 -0.06781328 -0.55563754 -0.055218   -0.11448375\n",
      "  0.17412761  0.08167724 -0.21129735] [ 0.03987754  0.02096064  0.53049233 -0.08751875 -0.46283053 -0.44181732\n",
      " -0.24897896 -0.08127903  0.48049697]\n",
      "`gtol` termination condition is satisfied.\n",
      "Number of iterations: 20, function evaluations: 20, CG iterations: 48, optimality: 5.09e-10, constraint violation: 1.11e-16, execution time:  4.6 s.\n",
      "[ 0.14459875  0.47445645 -0.18207901  0.08213689  0.69955248  0.25129851\n",
      "  0.17947494  0.30791231 -0.18584185] [-0.03987754 -0.02096065 -0.53049233  0.08751875  0.46283053  0.44181732\n",
      "  0.24897896  0.08127903 -0.48049697]\n",
      "`gtol` termination condition is satisfied.\n",
      "Number of iterations: 20, function evaluations: 20, CG iterations: 47, optimality: 2.00e-09, constraint violation: 6.66e-16, execution time:  4.8 s.\n",
      "[ 0.29565595  0.37790945  0.34672911  0.06932234 -0.28295816  0.72625421\n",
      " -0.16092893  0.09412326  0.04977485] [-0.03987754 -0.02096065 -0.53049233  0.08751875  0.46283053  0.44181732\n",
      "  0.24897896  0.08127903 -0.48049697]\n",
      "`gtol` termination condition is satisfied.\n",
      "Number of iterations: 22, function evaluations: 23, CG iterations: 42, optimality: 7.86e-09, constraint violation: 2.22e-16, execution time:  5.2 s.\n",
      "[-0.28854727  0.48476946 -0.29965619  0.34778279 -0.14500821  0.21468105\n",
      "  0.17686065 -0.36221172  0.49132473] [-0.03987754 -0.02096065 -0.53049233  0.08751875  0.46283053  0.44181732\n",
      "  0.24897896  0.08127903 -0.48049697]\n",
      "`xtol` termination condition is satisfied.\n",
      "Number of iterations: 33, function evaluations: 24, CG iterations: 92, optimality: 5.47e-08, constraint violation: 8.88e-16, execution time:  5.5 s.\n",
      "[-0.235107   -0.43353368 -0.24527617 -0.19151675 -0.13218719 -0.27898761\n",
      " -0.05344435 -0.73875895 -0.12651305] [ 0.03987754  0.02096064  0.53049233 -0.08751876 -0.46283054 -0.44181731\n",
      " -0.24897897 -0.08127903  0.48049697]\n",
      "`gtol` termination condition is satisfied.\n",
      "Number of iterations: 21, function evaluations: 22, CG iterations: 38, optimality: 2.02e-09, constraint violation: 2.22e-16, execution time:  5.1 s.\n",
      "[-0.20563091 -0.34248441 -0.6707911   0.09437416 -0.12821901  0.44966014\n",
      "  0.22233859 -0.22642683 -0.24942988] [-0.03987754 -0.02096065 -0.53049233  0.08751875  0.46283053  0.44181732\n",
      "  0.24897896  0.08127903 -0.48049697]\n",
      "`xtol` termination condition is satisfied.\n",
      "Number of iterations: 27, function evaluations: 35, CG iterations: 64, optimality: 2.13e-08, constraint violation: 2.22e-16, execution time:  6.9 s.\n",
      "[ 0.32081517 -0.69486405 -0.28041368 -0.16622758  0.0416376   0.28694905\n",
      "  0.44670321  0.01865389 -0.15496118] [-0.03987754 -0.02096064 -0.53049233  0.08751875  0.46283053  0.44181731\n",
      "  0.24897896  0.08127903 -0.48049697]\n",
      "`gtol` termination condition is satisfied.\n",
      "Number of iterations: 27, function evaluations: 30, CG iterations: 50, optimality: 8.79e-09, constraint violation: 0.00e+00, execution time:  6.6 s.\n",
      "[-0.18678026  0.56112906 -0.57327938 -0.05052847 -0.13950031  0.13584741\n",
      " -0.32498372 -0.03018761 -0.4178569 ] [-0.03987754 -0.02096064 -0.53049233  0.08751875  0.46283053  0.44181732\n",
      "  0.24897896  0.08127903 -0.48049697]\n",
      "`gtol` termination condition is satisfied.\n",
      "Number of iterations: 20, function evaluations: 21, CG iterations: 57, optimality: 1.21e-09, constraint violation: 2.22e-16, execution time:  4.9 s.\n",
      "[-0.7596635  -0.024728   -0.45554133  0.06221259 -0.15486175 -0.34520623\n",
      "  0.01549125  0.14288749  0.21703747] [ 0.03987754  0.02096064  0.53049233 -0.08751875 -0.46283053 -0.44181732\n",
      " -0.24897896 -0.08127903  0.48049697]\n",
      "`xtol` termination condition is satisfied.\n",
      "Number of iterations: 27, function evaluations: 36, CG iterations: 60, optimality: 9.00e-08, constraint violation: 2.66e-15, execution time:  6.7 s.\n",
      "[-0.29441706  0.39442582 -0.74724376  0.10100551  0.07525371 -0.08808085\n",
      " -0.18872645 -0.37397598 -0.0165664 ] [-0.03987754 -0.02096065 -0.53049233  0.08751876  0.46283053  0.44181731\n",
      "  0.24897897  0.08127903 -0.48049697]\n",
      "`gtol` termination condition is satisfied.\n",
      "Number of iterations: 20, function evaluations: 21, CG iterations: 49, optimality: 8.84e-09, constraint violation: 0.00e+00, execution time:  4.8 s.\n",
      "[-0.5716497   0.22303722  0.44216495  0.19829063  0.33881044  0.37273029\n",
      "  0.12708952 -0.33934675  0.06011366] [-0.03987754 -0.02096065 -0.53049233  0.08751875  0.46283053  0.44181732\n",
      "  0.24897896  0.08127903 -0.48049697]\n",
      "`xtol` termination condition is satisfied.\n",
      "Number of iterations: 30, function evaluations: 22, CG iterations: 66, optimality: 1.74e-08, constraint violation: 6.66e-16, execution time:  5.1 s.\n",
      "[-0.48206031  0.36034126  0.12051511  0.41341247 -0.01551287  0.08704865\n",
      "  0.14745608 -0.50772963  0.40618651] [ 0.03987754  0.02096065  0.53049233 -0.08751875 -0.46283054 -0.44181732\n",
      " -0.24897896 -0.08127903  0.48049697]\n",
      "`gtol` termination condition is satisfied.\n",
      "Number of iterations: 18, function evaluations: 18, CG iterations: 42, optimality: 1.81e-10, constraint violation: 0.00e+00, execution time:  4.4 s.\n",
      "[-0.53008337 -0.50942869 -0.22495657  0.10699377  0.21778452 -0.21479863\n",
      "  0.45183142 -0.05994026 -0.31004498] [-0.03987754 -0.02096065 -0.53049233  0.08751875  0.46283053  0.44181732\n",
      "  0.24897896  0.08127903 -0.48049697]\n",
      "`gtol` termination condition is satisfied.\n",
      "Number of iterations: 27, function evaluations: 31, CG iterations: 51, optimality: 5.47e-10, constraint violation: 1.11e-16, execution time:  6.9 s.\n",
      "[ 0.24404987  0.16123568  0.50104873  0.55267889  0.28333011 -0.37890747\n",
      "  0.05019841 -0.35845187  0.05553818] [ 0.03987754  0.02096065  0.53049233 -0.08751875 -0.46283053 -0.44181732\n",
      " -0.24897896 -0.08127903  0.48049697]\n",
      "`gtol` termination condition is satisfied.\n",
      "Number of iterations: 24, function evaluations: 26, CG iterations: 60, optimality: 3.99e-09, constraint violation: 2.22e-16, execution time:  5.9 s.\n",
      "[-0.21982764  0.1185184  -0.15044182  0.11099879  0.03534985 -0.33452069\n",
      "  0.24780951 -0.7276355  -0.44571185] [ 0.03987754  0.02096065  0.53049233 -0.08751875 -0.46283053 -0.44181732\n",
      " -0.24897896 -0.08127903  0.48049697]\n",
      "`gtol` termination condition is satisfied.\n",
      "Number of iterations: 19, function evaluations: 20, CG iterations: 45, optimality: 5.97e-09, constraint violation: 2.22e-16, execution time:  4.7 s.\n",
      "[-0.10116891  0.1856795  -0.0130904  -0.15100086  0.68781406  0.03933583\n",
      "  0.29285336  0.26628753  0.54864171] [-0.03987754 -0.02096065 -0.53049233  0.08751875  0.46283053  0.44181732\n",
      "  0.24897896  0.08127903 -0.48049697]\n",
      "`gtol` termination condition is satisfied.\n",
      "Number of iterations: 19, function evaluations: 20, CG iterations: 47, optimality: 9.78e-10, constraint violation: 0.00e+00, execution time:  4.5 s.\n",
      "[ 0.15798264 -0.17747468  0.29912368  0.3334517  -0.44845789 -0.09876006\n",
      " -0.53043715 -0.27243333  0.42003297] [ 0.03987754  0.02096064  0.53049233 -0.08751875 -0.46283053 -0.44181732\n",
      " -0.24897896 -0.08127903  0.48049697]\n",
      "`gtol` termination condition is satisfied.\n",
      "Number of iterations: 17, function evaluations: 17, CG iterations: 35, optimality: 2.49e-09, constraint violation: 4.44e-16, execution time:  4.1 s.\n",
      "[ 0.01959117  0.51215913  0.50497249 -0.01911635 -0.23527909  0.25628296\n",
      " -0.4862024   0.1220163   0.3311021 ] [ 0.03987754  0.02096064  0.53049233 -0.08751875 -0.46283053 -0.44181732\n",
      " -0.24897896 -0.08127903  0.48049697]\n",
      "`gtol` termination condition is satisfied.\n",
      "Number of iterations: 31, function evaluations: 33, CG iterations: 58, optimality: 5.35e-09, constraint violation: 4.44e-15, execution time:  7.3 s.\n",
      "[-0.09709459 -0.06937339 -0.01132314 -0.26211726  0.10250685  0.25314888\n",
      " -0.47918565 -0.52868089 -0.57724511] [-0.03987754 -0.02096064 -0.53049233  0.08751875  0.46283053  0.44181732\n",
      "  0.24897896  0.08127903 -0.48049697]\n"
     ]
    }
   ],
   "source": [
    "# randomly choose starting vectors\n",
    "inits = []\n",
    "results = []\n",
    "for i in range(20):\n",
    "    vec = np.random.normal(size=n_feat)\n",
    "    init = vec / np.linalg.norm(vec)\n",
    "    inits.append(init)\n",
    "    ans = optimize_vector(init, z_trajs, z0, jit_grad, jit_hess)\n",
    "    results.append(ans)\n",
    "    print(init, ans)"
   ]
  },
  {
   "cell_type": "code",
   "execution_count": 53,
   "id": "b92a818a-314b-4f50-9cdc-b73fa6f64f9e",
   "metadata": {},
   "outputs": [],
   "source": [
    "best = results[13]"
   ]
  },
  {
   "cell_type": "code",
   "execution_count": 55,
   "id": "5a879c71-0fa7-4555-b957-6f5e139ad822",
   "metadata": {},
   "outputs": [],
   "source": [
    "feature_names = []\n",
    "feature_names.append('Translocation')\n",
    "feature_names.append('Rotation')\n",
    "for r in (\"R217\", \"R223\", \"R226\", \"R229\", \"R232\"):\n",
    "    for n in (\"D129\", \"D136\", \"D151\", \"D164\", \"E183\", \"D186\"):\n",
    "        if n.startswith(\"D\"):\n",
    "            feature_names.append(f\"{r} C$_\\\\zeta$-{n} C$_\\\\gamma$\")\n",
    "        else:\n",
    "            feature_names.append(f\"{r} C$_\\\\zeta$-{n} C$_\\\\delta$\")\n",
    "for i in (\"R223\", \"R226\", \"R229\"):\n",
    "    feature_names.append(f\"{i}-F161\")"
   ]
  },
  {
   "cell_type": "code",
   "execution_count": 59,
   "id": "8617783e-47ae-4a34-ae0f-b757ee881680",
   "metadata": {},
   "outputs": [],
   "source": [
    "names = []\n",
    "names.append(feature_names[0])\n",
    "names.append(feature_names[1])\n",
    "for i in sb_ids:\n",
    "    names.append(feature_names[i - 30 + 2])\n",
    "names.append(feature_names[33])"
   ]
  },
  {
   "cell_type": "code",
   "execution_count": 64,
   "id": "8557a19c-c8e8-4423-92d7-cc26fa99cac3",
   "metadata": {},
   "outputs": [
    {
     "data": {
      "image/png": "[encoded data removed]",
      "text/plain": [
       "<Figure size 750x750 with 1 Axes>"
      ]
     },
     "metadata": {
      "needs_background": "light"
     },
     "output_type": "display_data"
    }
   ],
   "source": [
    "f = plt.figure(figsize=(2.5, 2.5), dpi=300)\n",
    "ax = f.gca()\n",
    "\n",
    "ax.barh(np.arange(n_feat), best, color='black', zorder=5)\n",
    "ax.axvline(color='black', zorder=0, ls='--')\n",
    "ax.set_xlim([-0.6, 0.6])\n",
    "# ax.set_xticks([], labels=[])\n",
    "ax.set_yticks(ticks=np.arange(0, 9), labels=names, ha='right')\n",
    "# sns.despine(fig=f, top=True, left=False, right=True, bottom=True)\n",
    "\n",
    "ax.invert_yaxis()"
   ]
  },
  {
   "cell_type": "markdown",
   "id": "95ecf681-179b-47f3-b49c-3730c04b42c9",
   "metadata": {},
   "source": [
    "## different sigma"
   ]
  },
  {
   "cell_type": "code",
   "execution_count": 65,
   "id": "15b70bea-b5a0-43c5-a748-eebf876aea9e",
   "metadata": {},
   "outputs": [],
   "source": [
    "def corr_q(e, z_traj, z0, lag=500, sigma=10):\n",
    "    C = 0\n",
    "    for z in z_traj:\n",
    "        q_0 = q(e, z[:-lag], z0, sigma=sigma)\n",
    "        q_tau = q(e, z[lag:], z0, sigma=sigma)\n",
    "        # C += jnp.mean(q_0 * q_tau)\n",
    "        # C -= jnp.mean(q_0**2)\n",
    "        C += jnp.mean((q_tau - q_0) ** 2)\n",
    "    return C * -0.5  # want to maximize, so flip sign"
   ]
  },
  {
   "cell_type": "code",
   "execution_count": 66,
   "id": "f5a8a3f4-5440-4967-b0fd-f9fd3d0942e3",
   "metadata": {},
   "outputs": [],
   "source": [
    "grad_cq = jacrev(corr_q)\n",
    "hess = jacfwd(grad_cq)"
   ]
  },
  {
   "cell_type": "code",
   "execution_count": 69,
   "id": "0a0382d2-8c2c-4826-8bde-b88f56a732ae",
   "metadata": {},
   "outputs": [],
   "source": [
    "sigma = 10\n",
    "g = grad_cq(e0, z_trajs, z0, lag=lag, sigma=sigma)\n",
    "h = hess(e0, z_trajs, z0, lag=lag, sigma=sigma)"
   ]
  },
  {
   "cell_type": "code",
   "execution_count": 70,
   "id": "6d7271b5-6932-41c0-b458-0ac0d0ddef69",
   "metadata": {
    "tags": []
   },
   "outputs": [
    {
     "name": "stdout",
     "output_type": "stream",
     "text": [
      "[-0.0193998  -0.00241762 -0.0531579  -0.02657173 -0.12182686 -0.11279404\n",
      " -0.10816322 -0.05277737 -0.06730925]\n",
      "[[-5.34973867e-02 -2.62986045e-03  1.74474632e-02 -3.15813661e-03\n",
      "  -1.66904818e-03  1.56816927e-02 -6.65675202e-05  9.05055464e-03\n",
      "   7.19443122e-03]\n",
      " [-2.62986045e-03 -3.72308923e-02  9.77334534e-03 -1.46092357e-03\n",
      "   6.22777445e-04  3.44681823e-03  7.88179737e-03  2.82987509e-03\n",
      "   2.52835515e-03]\n",
      " [ 1.74474632e-02  9.77334534e-03 -1.14952568e-01  3.26983490e-02\n",
      "   1.84593934e-02  1.10430875e-02  1.45459120e-02  6.90213382e-03\n",
      "  -4.24728685e-02]\n",
      " [-3.15813661e-03 -1.46092357e-03  3.26983490e-02 -6.19048927e-02\n",
      "  -1.18317932e-02 -1.95677596e-03 -4.07869419e-03  1.08696729e-02\n",
      "   4.68182421e-03]\n",
      " [-1.66904818e-03  6.22777445e-04  1.84593934e-02 -1.18317932e-02\n",
      "  -1.31933995e-01 -7.06006559e-02 -4.46304190e-02  3.04470435e-03\n",
      "   1.02700762e-02]\n",
      " [ 1.56816927e-02  3.44681823e-03  1.10430875e-02 -1.95677596e-03\n",
      "  -7.06006559e-02 -1.52603261e-01 -9.58610054e-03 -1.55708202e-02\n",
      "   9.08093357e-03]\n",
      " [-6.65675202e-05  7.88179737e-03  1.45459120e-02 -4.07869419e-03\n",
      "  -4.46304190e-02 -9.58610054e-03 -1.22472920e-01 -5.18239260e-02\n",
      "   1.14662981e-02]\n",
      " [ 9.05055464e-03  2.82987509e-03  6.90213382e-03  1.08696729e-02\n",
      "   3.04470435e-03 -1.55708202e-02 -5.18239260e-02 -6.61534575e-02\n",
      "   6.48088730e-03]\n",
      " [ 7.19443122e-03  2.52835515e-03 -4.24728685e-02  4.68182421e-03\n",
      "   1.02700762e-02  9.08093357e-03  1.14662981e-02  6.48088730e-03\n",
      "  -8.22667522e-02]]\n"
     ]
    }
   ],
   "source": [
    "print(g)\n",
    "print(h)"
   ]
  },
  {
   "cell_type": "code",
   "execution_count": 71,
   "id": "417f9818-0029-44b4-8bb4-a2a2a9b25796",
   "metadata": {},
   "outputs": [],
   "source": [
    "# jit for efficiency\n",
    "jit_grad = jit(grad_cq, static_argnames=(\"lag\", \"sigma\"))\n",
    "jit_hess = jit(hess, static_argnames=(\"lag\", \"sigma\"))"
   ]
  },
  {
   "cell_type": "code",
   "execution_count": 72,
   "id": "a10d8742-0d14-43fa-9396-b6349ac5fde4",
   "metadata": {
    "scrolled": true,
    "tags": []
   },
   "outputs": [
    {
     "name": "stdout",
     "output_type": "stream",
     "text": [
      "[-0.0193998  -0.00241762 -0.0531579  -0.02657173 -0.12182686 -0.11279404\n",
      " -0.10816322 -0.05277737 -0.06730925]\n",
      "[[-5.34973867e-02 -2.62986045e-03  1.74474632e-02 -3.15813661e-03\n",
      "  -1.66904818e-03  1.56816927e-02 -6.65675202e-05  9.05055464e-03\n",
      "   7.19443122e-03]\n",
      " [-2.62986045e-03 -3.72308923e-02  9.77334534e-03 -1.46092357e-03\n",
      "   6.22777445e-04  3.44681823e-03  7.88179737e-03  2.82987509e-03\n",
      "   2.52835515e-03]\n",
      " [ 1.74474632e-02  9.77334534e-03 -1.14952568e-01  3.26983490e-02\n",
      "   1.84593934e-02  1.10430875e-02  1.45459120e-02  6.90213382e-03\n",
      "  -4.24728685e-02]\n",
      " [-3.15813661e-03 -1.46092357e-03  3.26983490e-02 -6.19048927e-02\n",
      "  -1.18317932e-02 -1.95677596e-03 -4.07869419e-03  1.08696729e-02\n",
      "   4.68182421e-03]\n",
      " [-1.66904818e-03  6.22777445e-04  1.84593934e-02 -1.18317932e-02\n",
      "  -1.31933995e-01 -7.06006559e-02 -4.46304190e-02  3.04470435e-03\n",
      "   1.02700762e-02]\n",
      " [ 1.56816927e-02  3.44681823e-03  1.10430875e-02 -1.95677596e-03\n",
      "  -7.06006559e-02 -1.52603261e-01 -9.58610054e-03 -1.55708202e-02\n",
      "   9.08093357e-03]\n",
      " [-6.65675202e-05  7.88179737e-03  1.45459120e-02 -4.07869419e-03\n",
      "  -4.46304190e-02 -9.58610054e-03 -1.22472920e-01 -5.18239260e-02\n",
      "   1.14662981e-02]\n",
      " [ 9.05055464e-03  2.82987509e-03  6.90213382e-03  1.08696729e-02\n",
      "   3.04470435e-03 -1.55708202e-02 -5.18239260e-02 -6.61534575e-02\n",
      "   6.48088730e-03]\n",
      " [ 7.19443122e-03  2.52835515e-03 -4.24728685e-02  4.68182421e-03\n",
      "   1.02700762e-02  9.08093357e-03  1.14662981e-02  6.48088730e-03\n",
      "  -8.22667522e-02]]\n"
     ]
    }
   ],
   "source": [
    "print(jit_grad(e0, z_trajs, z0, lag=lag, sigma=sigma))\n",
    "print(jit_hess(e0, z_trajs, z0, lag=lag, sigma=sigma))"
   ]
  },
  {
   "cell_type": "code",
   "execution_count": 77,
   "id": "105e9ce5-2afb-438f-8e0c-edc74aff054b",
   "metadata": {
    "scrolled": true,
    "tags": []
   },
   "outputs": [],
   "source": [
    "# randomly choose starting vectors\n",
    "def optimize_vector(e0, z_trajs, z0, jac, hess):\n",
    "    ans = scipy.optimize.minimize(\n",
    "        corr_q,\n",
    "        e0,\n",
    "        args=(z_trajs, z0),\n",
    "        method=\"trust-constr\",\n",
    "        jac=jac,\n",
    "        hess=hess,\n",
    "        constraints=constraint,\n",
    "        options={\"verbose\": 1},\n",
    "    )\n",
    "    return ans.x, ans.optimality\n",
    "\n",
    "\n",
    "def try_multiple(n_replicas):\n",
    "    inits = []\n",
    "    results = []\n",
    "    opts = []\n",
    "    for i in range(n_replicas):\n",
    "        vec = np.random.normal(size=n_feat)\n",
    "        init = vec / np.linalg.norm(vec)\n",
    "        inits.append(init)\n",
    "        ans, opt = optimize_vector(init, z_trajs, z0, jit_grad, jit_hess)\n",
    "        results.append(ans)\n",
    "        opts.append(opt)\n",
    "        print(ans, opt)\n",
    "    return inits, results, opts"
   ]
  },
  {
   "cell_type": "code",
   "execution_count": 86,
   "id": "858215b5-d659-4b82-bb36-70a38abcac35",
   "metadata": {
    "scrolled": true,
    "tags": []
   },
   "outputs": [
    {
     "name": "stdout",
     "output_type": "stream",
     "text": [
      "`gtol` termination condition is satisfied.\n",
      "Number of iterations: 21, function evaluations: 32, CG iterations: 22, optimality: 6.74e-09, constraint violation: 4.60e-11, execution time:  6.3 s.\n",
      "[-0.00470817  0.03497334 -0.03687715 -0.08284775 -0.61317086 -0.60116396\n",
      " -0.45044417 -0.20579001 -0.08890976] 6.735184914993808e-09\n",
      "`gtol` termination condition is satisfied.\n",
      "Number of iterations: 30, function evaluations: 48, CG iterations: 31, optimality: 1.40e-09, constraint violation: 9.46e-14, execution time:  9.3 s.\n",
      "[-0.00470815  0.03497336 -0.03687716 -0.08284775 -0.61317086 -0.60116395\n",
      " -0.45044417 -0.20579    -0.08890977] 1.3991248437594805e-09\n",
      "`gtol` termination condition is satisfied.\n",
      "Number of iterations: 24, function evaluations: 37, CG iterations: 26, optimality: 6.16e-09, constraint violation: 3.18e-14, execution time:  7.3 s.\n",
      "[-0.00470814  0.03497337 -0.03687711 -0.08284777 -0.61317087 -0.60116395\n",
      " -0.45044417 -0.20578999 -0.08890973] 6.155971440935382e-09\n",
      "`gtol` termination condition is satisfied.\n",
      "Number of iterations: 28, function evaluations: 44, CG iterations: 30, optimality: 1.26e-09, constraint violation: 1.09e-14, execution time:  8.6 s.\n",
      "[-0.00470815  0.03497336 -0.03687716 -0.08284775 -0.61317086 -0.60116394\n",
      " -0.45044418 -0.20579001 -0.08890977] 1.2628050341523256e-09\n",
      "`gtol` termination condition is satisfied.\n",
      "Number of iterations: 27, function evaluations: 42, CG iterations: 31, optimality: 7.70e-09, constraint violation: 2.99e-12, execution time:  8.2 s.\n",
      "[-0.00470816  0.03497337 -0.0368771  -0.08284778 -0.61317086 -0.60116389\n",
      " -0.45044423 -0.20579005 -0.08890972] 7.696224824105258e-09\n",
      "`gtol` termination condition is satisfied.\n",
      "Number of iterations: 24, function evaluations: 37, CG iterations: 29, optimality: 3.10e-09, constraint violation: 1.22e-14, execution time:  7.3 s.\n",
      "[-0.00470815  0.03497336 -0.03687713 -0.08284776 -0.61317087 -0.60116393\n",
      " -0.45044417 -0.20579002 -0.08890975] 3.0985870813626804e-09\n",
      "`gtol` termination condition is satisfied.\n",
      "Number of iterations: 22, function evaluations: 35, CG iterations: 23, optimality: 2.94e-09, constraint violation: 7.99e-15, execution time:  6.9 s.\n",
      "[-0.00470815  0.03497336 -0.03687718 -0.08284775 -0.61317086 -0.60116393\n",
      " -0.45044419 -0.20579001 -0.08890979] 2.9363492505540822e-09\n",
      "`gtol` termination condition is satisfied.\n",
      "Number of iterations: 19, function evaluations: 35, CG iterations: 21, optimality: 4.33e-09, constraint violation: 0.00e+00, execution time:  6.6 s.\n",
      "[ 0.00470816 -0.03497337  0.03687717  0.08284777  0.61317087  0.60116392\n",
      "  0.45044419  0.20578999  0.08890979] 4.3287883000342475e-09\n",
      "`gtol` termination condition is satisfied.\n",
      "Number of iterations: 15, function evaluations: 21, CG iterations: 17, optimality: 1.67e-09, constraint violation: 9.99e-15, execution time:  4.4 s.\n",
      "[ 0.00470815 -0.03497336  0.03687717  0.08284775  0.61317086  0.60116394\n",
      "  0.45044418  0.20579     0.08890978] 1.6683437131792545e-09\n",
      "`gtol` termination condition is satisfied.\n",
      "Number of iterations: 17, function evaluations: 25, CG iterations: 19, optimality: 1.34e-09, constraint violation: 5.94e-13, execution time:  5.1 s.\n",
      "[ 0.00470815 -0.03497337  0.03687715  0.08284776  0.61317086  0.60116394\n",
      "  0.45044418  0.20579001  0.08890977] 1.3439108766805097e-09\n",
      "`gtol` termination condition is satisfied.\n",
      "Number of iterations: 18, function evaluations: 27, CG iterations: 19, optimality: 3.73e-09, constraint violation: 1.31e-14, execution time:  5.5 s.\n",
      "[ 0.00470816 -0.03497336  0.03687712  0.08284777  0.61317086  0.60116393\n",
      "  0.4504442   0.20579001  0.08890974] 3.731942232673702e-09\n",
      "`gtol` termination condition is satisfied.\n",
      "Number of iterations: 33, function evaluations: 56, CG iterations: 34, optimality: 2.63e-09, constraint violation: 2.49e-14, execution time: 1.1e+01 s.\n",
      "[ 0.00470816 -0.03497337  0.03687716  0.08284776  0.61317086  0.60116394\n",
      "  0.45044417  0.20579001  0.08890977] 2.62762197590638e-09\n",
      "`gtol` termination condition is satisfied.\n",
      "Number of iterations: 22, function evaluations: 35, CG iterations: 25, optimality: 5.21e-10, constraint violation: 1.15e-14, execution time:  7.0 s.\n",
      "[ 0.00470815 -0.03497336  0.03687715  0.08284776  0.61317086  0.60116394\n",
      "  0.45044418  0.20579001  0.08890976] 5.205729181056995e-10\n",
      "`gtol` termination condition is satisfied.\n",
      "Number of iterations: 19, function evaluations: 30, CG iterations: 21, optimality: 1.42e-09, constraint violation: 1.14e-12, execution time:  5.9 s.\n",
      "[-0.00470815  0.03497336 -0.03687715 -0.08284776 -0.61317086 -0.60116394\n",
      " -0.45044418 -0.20579002 -0.08890977] 1.4203754006292257e-09\n",
      "`gtol` termination condition is satisfied.\n",
      "Number of iterations: 25, function evaluations: 40, CG iterations: 26, optimality: 6.09e-09, constraint violation: 3.33e-14, execution time:  7.7 s.\n",
      "[ 0.00470816 -0.03497337  0.0368771   0.08284778  0.61317087  0.60116392\n",
      "  0.45044419  0.20579004  0.08890973] 6.0863046564413326e-09\n",
      "`gtol` termination condition is satisfied.\n",
      "Number of iterations: 16, function evaluations: 29, CG iterations: 18, optimality: 8.45e-09, constraint violation: 0.00e+00, execution time:  5.5 s.\n",
      "[ 0.00470817 -0.03497336  0.03687717  0.08284779  0.61317088  0.60116393\n",
      "  0.45044418  0.20578998  0.08890976] 8.447101892961051e-09\n",
      "`gtol` termination condition is satisfied.\n",
      "Number of iterations: 20, function evaluations: 37, CG iterations: 21, optimality: 2.23e-09, constraint violation: 0.00e+00, execution time:  7.0 s.\n",
      "[ 0.00470815 -0.03497336  0.03687716  0.08284776  0.61317087  0.60116394\n",
      "  0.45044417  0.20579002  0.08890977] 2.2264186883003134e-09\n",
      "`gtol` termination condition is satisfied.\n",
      "Number of iterations: 25, function evaluations: 40, CG iterations: 26, optimality: 3.40e-09, constraint violation: 1.67e-14, execution time:  7.8 s.\n",
      "[-0.00470815  0.03497335 -0.03687714 -0.08284776 -0.61317086 -0.60116396\n",
      " -0.45044417 -0.20579    -0.08890975] 3.402809979971555e-09\n",
      "`gtol` termination condition is satisfied.\n",
      "Number of iterations: 18, function evaluations: 26, CG iterations: 20, optimality: 1.06e-09, constraint violation: 4.40e-14, execution time:  5.4 s.\n",
      "[ 0.00470816 -0.03497336  0.03687715  0.08284776  0.61317086  0.60116393\n",
      "  0.45044419  0.20579002  0.08890976] 1.056258670806276e-09\n",
      "`gtol` termination condition is satisfied.\n",
      "Number of iterations: 19, function evaluations: 35, CG iterations: 21, optimality: 2.95e-09, constraint violation: 0.00e+00, execution time:  6.6 s.\n",
      "[-0.00470814  0.03497336 -0.03687716 -0.08284776 -0.61317086 -0.60116395\n",
      " -0.45044417 -0.20579    -0.08890977] 2.9547970611075447e-09\n"
     ]
    }
   ],
   "source": [
    "starting_vecs = []\n",
    "ending_vecs = []\n",
    "opts = []\n",
    "for i in range(20):\n",
    "    vec = np.random.normal(size=n_feat)\n",
    "    init = vec / np.linalg.norm(vec)\n",
    "    starting_vecs.append(init)\n",
    "    ans, opt = optimize_vector(init, z_trajs, z0, jit_grad, jit_hess)\n",
    "    ending_vecs.append(ans)\n",
    "    opts.append(opt)\n",
    "    print(ans, opt)"
   ]
  },
  {
   "cell_type": "code",
   "execution_count": 87,
   "id": "010039a3-a532-48e8-b0f3-83474783a474",
   "metadata": {},
   "outputs": [
    {
     "name": "stdout",
     "output_type": "stream",
     "text": [
      "[-0.22694946  0.6604244   0.20995478 -0.02814613  0.31428875  0.01737413\n",
      " -0.5331652   0.22611585  0.18162479]\n",
      "[ 0.00470815 -0.03497336  0.03687715  0.08284776  0.61317086  0.60116394\n",
      "  0.45044418  0.20579001  0.08890976]\n"
     ]
    },
    {
     "data": {
      "image/png": "[encoded data removed]",
      "text/plain": [
       "<Figure size 750x750 with 1 Axes>"
      ]
     },
     "metadata": {
      "needs_background": "light"
     },
     "output_type": "display_data"
    }
   ],
   "source": [
    "best_id = np.argmin(opts)\n",
    "print(starting_vecs[best_id])\n",
    "print(ending_vecs[best_id])\n",
    "\n",
    "f = plt.figure(figsize=(2.5, 2.5), dpi=300)\n",
    "ax = f.gca()\n",
    "\n",
    "ax.barh(np.arange(n_feat), ending_vecs[best_id], color='black', zorder=5)\n",
    "ax.axvline(color='black', zorder=0, ls='--')\n",
    "ax.set_xlim([-0.6, 0.6])\n",
    "ax.set_yticks(ticks=np.arange(0, 9), labels=names, ha='right')\n",
    "\n",
    "ax.invert_yaxis()"
   ]
  },
  {
   "cell_type": "code",
   "execution_count": null,
   "id": "a5eb6d7d-6952-4970-8d31-0b5a268c4693",
   "metadata": {},
   "outputs": [],
   "source": []
  }
 ],
 "metadata": {
  "kernelspec": {
   "display_name": "Python 3 (ipykernel)",
   "language": "python",
   "name": "python3"
  },
  "language_info": {
   "codemirror_mode": {
    "name": "ipython",
    "version": 3
   },
   "file_extension": ".py",
   "mimetype": "text/x-python",
   "name": "python",
   "nbconvert_exporter": "python",
   "pygments_lexer": "ipython3",
   "version": "3.9.9"
  }
 },
 "nbformat": 4,
 "nbformat_minor": 5
}
