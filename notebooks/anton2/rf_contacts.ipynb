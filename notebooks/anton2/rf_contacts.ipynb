{
 "cells": [
  {
   "cell_type": "code",
   "execution_count": 1,
   "id": "b2a35af2-928f-4e1e-939e-4fa5b329db32",
   "metadata": {},
   "outputs": [
    {
     "name": "stderr",
     "output_type": "stream",
     "text": [
      "/project/dinner/scguo/anaconda3/envs/py39/lib/python3.9/site-packages/MDAnalysis/coordinates/chemfiles.py:108: DeprecationWarning: distutils Version classes are deprecated. Use packaging.version instead.\n",
      "  MIN_CHEMFILES_VERSION = LooseVersion(\"0.9\")\n"
     ]
    }
   ],
   "source": [
    "import sys\n",
    "import os\n",
    "import glob\n",
    "import random\n",
    "from itertools import combinations\n",
    "\n",
    "import numpy as np\n",
    "import scipy\n",
    "\n",
    "import matplotlib as mpl\n",
    "import matplotlib.pyplot as plt\n",
    "from matplotlib import ticker\n",
    "import seaborn as sns\n",
    "import prettypyplot as pplt\n",
    "\n",
    "import pyemma\n",
    "import mdtraj as md\n",
    "import MDAnalysis as mda\n",
    "from MDAnalysis.analysis import contacts"
   ]
  },
  {
   "cell_type": "code",
   "execution_count": 2,
   "id": "55e0e264-8ad8-4b52-a9b5-96225f89d6eb",
   "metadata": {},
   "outputs": [],
   "source": [
    "sys.path.insert(1, \"../../python\")\n",
    "sys.path.insert(1, \"../../..\")\n",
    "import util\n",
    "import plotting"
   ]
  },
  {
   "cell_type": "code",
   "execution_count": 3,
   "id": "0b0ac6b8-870b-49e0-8a70-feef96308371",
   "metadata": {},
   "outputs": [],
   "source": [
    "pplt.load_cmaps()\n",
    "plt.style.use(\"custom\")  # custom style sheet\n",
    "plt.style.use(\"muted\")  # muted color theme from SciencePlots\n",
    "colors = mpl.colors.to_rgba_array(\n",
    "    [\n",
    "        \"#364B9A\",\n",
    "        \"#4A7BB7\",\n",
    "        \"#6EA6CD\",\n",
    "        \"#98CAE1\",\n",
    "        \"#C2E4EF\",\n",
    "        \"#EAECCC\",\n",
    "        \"#FEDA8B\",\n",
    "        \"#FDB366\",\n",
    "        \"#F67E4B\",\n",
    "        \"#DD3D2D\",\n",
    "        \"#A50026\",\n",
    "    ]\n",
    ")\n",
    "cm_div = mpl.colors.LinearSegmentedColormap.from_list(\"diverging\", colors)\n",
    "mpl.colormaps.register(cm_div, force=True)"
   ]
  },
  {
   "cell_type": "code",
   "execution_count": 4,
   "id": "8f495f9f-3f87-47d7-a791-2d5079bd97ab",
   "metadata": {},
   "outputs": [],
   "source": [
    "from joblib import Parallel, delayed\n",
    "from multiprocessing import cpu_count\n",
    "n_jobs = cpu_count()"
   ]
  },
  {
   "cell_type": "code",
   "execution_count": 5,
   "id": "2a253b49-7bc4-4ab1-a64f-56a28cd43c5c",
   "metadata": {},
   "outputs": [],
   "source": [
    "topfile = \"../../civsd-pro.psf\"\n",
    "files = []\n",
    "remove = {1282,\n",
    "    1283,\n",
    "    1284,\n",
    "    1285,\n",
    "    1286,\n",
    "    1288,\n",
    "    1289,\n",
    "    1290,\n",
    "    1187,\n",
    "    1188,\n",
    "    1189,\n",
    "    1190,\n",
    "    1191,\n",
    "    1197,\n",
    "    1198,\n",
    "    1199,\n",
    "    1203,\n",
    "    1205,\n",
    "    1206,\n",
    "    1207,\n",
    "    1211,\n",
    "    1212,\n",
    "    1213,\n",
    "    1214,\n",
    "    1215,\n",
    "    1225,\n",
    "    1226,\n",
    "    1227,\n",
    "    1228,\n",
    "    1231,\n",
    "    1232,\n",
    "    1233,\n",
    "    1236,\n",
    "    1237,\n",
    "    1238,\n",
    "    1242,\n",
    "    1245,\n",
    "    1246,\n",
    "    1252,\n",
    "    1253,\n",
    "    1260,\n",
    "    1261,\n",
    "    1262,\n",
    "    1263,\n",
    "    1266,\n",
    "    1267,\n",
    "    1268,\n",
    "    1269,\n",
    "    1270,\n",
    "    1271,\n",
    "    1272,\n",
    "    1273,\n",
    "    1274,\n",
    "    1275,\n",
    "    1276,\n",
    "    1277,\n",
    "    1278,\n",
    "    1279,\n",
    "}\n",
    "for i in range(295):\n",
    "    if (i + 1000) not in remove:\n",
    "        files.append(f\"/project/dinner/scguo/anton-old/xtc1000ns/civsd-{i}.xtc\")\n",
    "for i in range(3, 82):\n",
    "    files.append(f\"/project/dinner/scguo/ci-vsd/anton2/prot/civsd.prot.{i}.xtc\")\n",
    "for i in range(83, 119):\n",
    "    files.append(f\"/project/dinner/scguo/ci-vsd/anton2/prot/civsd.prot.{i}.xtc\")"
   ]
  },
  {
   "cell_type": "code",
   "execution_count": 6,
   "id": "095055dd-80ba-42c1-91d5-ee1f692f0781",
   "metadata": {},
   "outputs": [
    {
     "data": {
      "text/plain": [
       "352"
      ]
     },
     "execution_count": 6,
     "metadata": {},
     "output_type": "execute_result"
    }
   ],
   "source": [
    "len(files)"
   ]
  },
  {
   "cell_type": "markdown",
   "id": "4137dfc8-0175-473a-bef6-d226c1841fb8",
   "metadata": {},
   "source": [
    "# Testing"
   ]
  },
  {
   "cell_type": "code",
   "execution_count": 7,
   "id": "dd6b01c2-cb8c-4ac4-ad43-9e22d22d249c",
   "metadata": {},
   "outputs": [],
   "source": [
    "u = mda.Universe(topfile, files[0])"
   ]
  },
  {
   "cell_type": "code",
   "execution_count": 8,
   "id": "b5bfafdd-86a5-45ea-8dce-61c855be1242",
   "metadata": {},
   "outputs": [
    {
     "name": "stdout",
     "output_type": "stream",
     "text": [
      "<Atom 1946: NE of type NC2 of resname ARG, resid 226 and segid A>\n",
      "<Atom 1948: CZ of type C of resname ARG, resid 226 and segid A>\n",
      "<Atom 1949: NH1 of type NC2 of resname ARG, resid 226 and segid A>\n",
      "<Atom 1952: NH2 of type NC2 of resname ARG, resid 226 and segid A>\n",
      "<Atom 894: CG of type CA of resname PHE, resid 161 and segid A>\n",
      "<Atom 895: CD1 of type CA of resname PHE, resid 161 and segid A>\n",
      "<Atom 897: CE1 of type CA of resname PHE, resid 161 and segid A>\n",
      "<Atom 899: CZ of type CA of resname PHE, resid 161 and segid A>\n",
      "<Atom 901: CD2 of type CA of resname PHE, resid 161 and segid A>\n",
      "<Atom 903: CE2 of type CA of resname PHE, resid 161 and segid A>\n"
     ]
    }
   ],
   "source": [
    "sel_r226 = \"protein and resid 226 and (name CZ or type NC*)\" # guandinium group\n",
    "sel_f161 = \"protein and resid 161 and (not backbone) and (not name CB) and (not type H*)\"\n",
    "for a in u.select_atoms(sel_r226):\n",
    "    print(a)\n",
    "for a in u.select_atoms(sel_f161):\n",
    "    print(a)"
   ]
  },
  {
   "cell_type": "code",
   "execution_count": 9,
   "id": "c327ce7e-451f-47be-a032-3c9cc37cc68b",
   "metadata": {},
   "outputs": [
    {
     "ename": "SyntaxError",
     "evalue": "unexpected EOF while parsing (302382694.py, line 1)",
     "output_type": "error",
     "traceback": [
      "\u001b[0;36m  File \u001b[0;32m\"/scratch/local/jobs/3920253/ipykernel_2163693/302382694.py\"\u001b[0;36m, line \u001b[0;32m1\u001b[0m\n\u001b[0;31m    cont = contacts.Contacts(u, select=(sel_r226, sel_f161), method='soft_cut',\u001b[0m\n\u001b[0m                                                                                ^\u001b[0m\n\u001b[0;31mSyntaxError\u001b[0m\u001b[0;31m:\u001b[0m unexpected EOF while parsing\n"
     ]
    }
   ],
   "source": [
    "cont = contacts.Contacts(u, select=(sel_r226, sel_f161), method='soft_cut', "
   ]
  },
  {
   "cell_type": "code",
   "execution_count": 10,
   "id": "2e639716-6993-428a-b3f0-ca05955534c1",
   "metadata": {},
   "outputs": [],
   "source": [
    "from MDAnalysis.analysis import distances"
   ]
  },
  {
   "cell_type": "code",
   "execution_count": 11,
   "id": "b50f4a5a-e152-40f4-bd94-067b7b375f91",
   "metadata": {},
   "outputs": [],
   "source": [
    "dist_mat = np.empty((4, 6))\n",
    "r226_xyz = u.select_atoms(sel_r226).positions\n",
    "f161_xyz = u.select_atoms(sel_f161).positions\n",
    "dist_mat = distances.distance_array(r226_xyz, f161_xyz, box=u.dimensions, result=dist_mat)"
   ]
  },
  {
   "cell_type": "code",
   "execution_count": 12,
   "id": "c1db42d9-6afe-465d-bb37-2c9e14948c5c",
   "metadata": {},
   "outputs": [
    {
     "data": {
      "text/plain": [
       "(4, 6)"
      ]
     },
     "execution_count": 12,
     "metadata": {},
     "output_type": "execute_result"
    }
   ],
   "source": [
    "dist_mat.shape"
   ]
  },
  {
   "cell_type": "code",
   "execution_count": 13,
   "id": "d8c806de-a1c3-4189-ba5c-156954092826",
   "metadata": {},
   "outputs": [
    {
     "data": {
      "text/plain": [
       "array([[8.83539496, 8.86054752, 9.29633795, 9.72959455, 9.35787381,\n",
       "        9.73678615],\n",
       "       [8.22863859, 8.06360922, 8.44606359, 9.00136093, 8.85295945,\n",
       "        9.16779649],\n",
       "       [7.5361861 , 7.27718367, 7.4798395 , 7.95689054, 8.06142056,\n",
       "        8.20785615],\n",
       "       [8.55126237, 8.26964302, 8.73037182, 9.46178106, 9.34141812,\n",
       "        9.71895542]])"
      ]
     },
     "execution_count": 13,
     "metadata": {},
     "output_type": "execute_result"
    }
   ],
   "source": [
    "dist_mat"
   ]
  },
  {
   "cell_type": "code",
   "execution_count": 14,
   "id": "ddf21978-4842-4663-aa67-4ac6d827e596",
   "metadata": {},
   "outputs": [
    {
     "name": "stdout",
     "output_type": "stream",
     "text": [
      "(4150115, 3)\n"
     ]
    }
   ],
   "source": [
    "rf161 = list(np.load(\"../../data/raw_feat/rf161.npy\", allow_pickle=True))\n",
    "rf161.extend(np.load(\"../../data/raw_feat/rf161_anton2.npy\"))\n",
    "rf161_arr = np.concatenate(rf161)\n",
    "print(rf161_arr.shape)"
   ]
  },
  {
   "cell_type": "code",
   "execution_count": 21,
   "id": "3847aeb7-3db6-4d0a-bd2e-bfc51cacc7a8",
   "metadata": {},
   "outputs": [
    {
     "data": {
      "text/plain": [
       "(array([158581., 379857., 457510., 306609., 193184., 188496., 207651.,\n",
       "        219884., 313303., 397877., 287686., 169571., 105001.,  82656.,\n",
       "         71182.,  59955.,  54264.,  53907.,  54326.,  49581.,  44259.,\n",
       "         40433.,  36016.,  28155.,  22488.,  22245.,  25072.,  30779.,\n",
       "         31863.,  24274.,  14488.,   7267.]),\n",
       " array([0.35, 0.4 , 0.45, 0.5 , 0.55, 0.6 , 0.65, 0.7 , 0.75, 0.8 , 0.85,\n",
       "        0.9 , 0.95, 1.  , 1.05, 1.1 , 1.15, 1.2 , 1.25, 1.3 , 1.35, 1.4 ,\n",
       "        1.45, 1.5 , 1.55, 1.6 , 1.65, 1.7 , 1.75, 1.8 , 1.85, 1.9 , 1.95]),\n",
       " <BarContainer object of 32 artists>)"
      ]
     },
     "execution_count": 21,
     "metadata": {},
     "output_type": "execute_result"
    },
    {
     "data": {
      "image/png": "[encoded data removed]",
      "text/plain": [
       "<Figure size 1200x600 with 1 Axes>"
      ]
     },
     "metadata": {
      "needs_background": "light"
     },
     "output_type": "display_data"
    }
   ],
   "source": [
    "f = plt.figure(figsize=(4, 2), dpi=300)\n",
    "plt.hist(rf161_arr[:, 1], bins=np.arange(0.35, 2.0, 0.05))"
   ]
  },
  {
   "cell_type": "code",
   "execution_count": 34,
   "id": "28cb8950-dca9-409a-9f51-2ea85d62a775",
   "metadata": {},
   "outputs": [
    {
     "data": {
      "text/plain": [
       "5.999999944575302"
      ]
     },
     "execution_count": 34,
     "metadata": {},
     "output_type": "execute_result"
    }
   ],
   "source": [
    "r0 = np.ones((4, 6)) * 4.0 # choose 3.5 Ang to be reference\n",
    "dist_mat = np.ones((4, 6)) * 3.5\n",
    "contacts.soft_cut_q(dist_mat, r0)"
   ]
  },
  {
   "cell_type": "code",
   "execution_count": 36,
   "id": "6ab5a969-a1c8-43c0-bff2-33c422b747fd",
   "metadata": {},
   "outputs": [],
   "source": [
    "cont_traj = np.zeros(len(u.trajectory))\n",
    "for i, _ in enumerate(u.trajectory):\n",
    "    r226_xyz = u.select_atoms(sel_r226).positions\n",
    "    f161_xyz = u.select_atoms(sel_f161).positions\n",
    "    dist_mat = distances.distance_array(r226_xyz, f161_xyz, box=u.dimensions, result=dist_mat)\n",
    "    cont_traj[i] = contacts.soft_cut_q(dist_mat, r0, beta=10, lambda_constant=1.0)"
   ]
  },
  {
   "cell_type": "code",
   "execution_count": 26,
   "id": "8707d624-534b-4c26-9f1a-11809c71d9df",
   "metadata": {},
   "outputs": [
    {
     "data": {
      "text/plain": [
       "[<matplotlib.lines.Line2D at 0x7f4dccb951f0>]"
      ]
     },
     "execution_count": 26,
     "metadata": {},
     "output_type": "execute_result"
    },
    {
     "data": {
      "image/png": "[encoded data removed]",
      "text/plain": [
       "<Figure size 450x450 with 2 Axes>"
      ]
     },
     "metadata": {
      "needs_background": "light"
     },
     "output_type": "display_data"
    }
   ],
   "source": [
    "plt.plot(util.moving_average(cont_traj, 10))\n",
    "plt.twinx()\n",
    "plt.plot(rf161[0][:, 1] * 10, 'C1')"
   ]
  },
  {
   "cell_type": "code",
   "execution_count": 27,
   "id": "e7d47943-fa03-40e1-9964-e615f5f59410",
   "metadata": {},
   "outputs": [
    {
     "data": {
      "text/plain": [
       "<matplotlib.collections.PathCollection at 0x7f4dccfa9ca0>"
      ]
     },
     "execution_count": 27,
     "metadata": {},
     "output_type": "execute_result"
    },
    {
     "data": {
      "image/png": "[encoded data removed]",
      "text/plain": [
       "<Figure size 450x450 with 1 Axes>"
      ]
     },
     "metadata": {
      "needs_background": "light"
     },
     "output_type": "display_data"
    }
   ],
   "source": [
    "plt.scatter(rf161[0][:, 1] * 10, cont_traj)"
   ]
  },
  {
   "cell_type": "code",
   "execution_count": null,
   "id": "37cb6544-c98d-4d2b-a7cf-ca2cfa7d22ad",
   "metadata": {},
   "outputs": [],
   "source": []
  }
 ],
 "metadata": {
  "kernelspec": {
   "display_name": "Python 3 (ipykernel)",
   "language": "python",
   "name": "python3"
  },
  "language_info": {
   "codemirror_mode": {
    "name": "ipython",
    "version": 3
   },
   "file_extension": ".py",
   "mimetype": "text/x-python",
   "name": "python",
   "nbconvert_exporter": "python",
   "pygments_lexer": "ipython3",
   "version": "3.9.9"
  }
 },
 "nbformat": 4,
 "nbformat_minor": 5
}
