{
 "cells": [
  {
   "cell_type": "code",
   "execution_count": 1,
   "id": "0911e898-072e-49fa-9fdb-fa0ac96d78a5",
   "metadata": {},
   "outputs": [],
   "source": [
    "import importlib\n",
    "import os\n",
    "import sys\n",
    "\n",
    "import matplotlib as mpl\n",
    "import matplotlib.pyplot as plt\n",
    "import mdtraj as md\n",
    "import numpy as np\n",
    "import prettypyplot as pplt\n",
    "import pyemma\n",
    "import scipy\n",
    "import seaborn as sns\n",
    "from matplotlib import ticker\n",
    "from sklearn import metrics\n",
    "\n",
    "import extq"
   ]
  },
  {
   "cell_type": "code",
   "execution_count": 2,
   "id": "8ff1d6dd-2bc7-4913-aef2-8c3a1e49875f",
   "metadata": {
    "tags": []
   },
   "outputs": [],
   "source": [
    "sys.path.insert(1, \"../../python\")\n",
    "sys.path.insert(1, \"../../..\")\n",
    "import plotting\n",
    "import util"
   ]
  },
  {
   "cell_type": "code",
   "execution_count": 3,
   "id": "dc57d50d-58a1-468c-b926-18bc55f06320",
   "metadata": {},
   "outputs": [],
   "source": [
    "pplt.load_cmaps()\n",
    "plt.style.use(\"custom\")  # custom style sheet\n",
    "plt.style.use(\"muted\")  # muted color theme from SciencePlots\n",
    "colors = mpl.colors.to_rgba_array(\n",
    "    [\n",
    "        \"#364B9A\",\n",
    "        \"#4A7BB7\",\n",
    "        \"#6EA6CD\",\n",
    "        \"#98CAE1\",\n",
    "        \"#C2E4EF\",\n",
    "        \"#EAECCC\",\n",
    "        \"#FEDA8B\",\n",
    "        \"#FDB366\",\n",
    "        \"#F67E4B\",\n",
    "        \"#DD3D2D\",\n",
    "        \"#A50026\",\n",
    "    ]\n",
    ")\n",
    "cm_div = mpl.colors.LinearSegmentedColormap.from_list(\"diverging\", colors)\n",
    "mpl.colormaps.register(cm_div, force=True)"
   ]
  },
  {
   "cell_type": "code",
   "execution_count": 4,
   "id": "cee0ba39-84bb-4c2e-88d0-4fb8002c3d78",
   "metadata": {},
   "outputs": [],
   "source": [
    "%load_ext autoreload\n",
    "%autoreload 2\n",
    "%config InlineBackend.figure_format = \"retina\""
   ]
  },
  {
   "cell_type": "code",
   "execution_count": 12,
   "id": "5d305714-e00c-464a-8f67-14ee9dc61910",
   "metadata": {},
   "outputs": [],
   "source": [
    "# load previous data\n",
    "arg_tors_trajs = list(np.load(\"../../data/raw_feat/arg_torsions.npy\", allow_pickle=True))\n",
    "# arg_tors_trajs.extend(np.load(\"../../data/raw_feat/arg_torsions_anton2.npy\"))"
   ]
  },
  {
   "cell_type": "code",
   "execution_count": 13,
   "id": "a1f05256-354c-4ee9-b49e-18ca22c896f6",
   "metadata": {
    "scrolled": true,
    "tags": []
   },
   "outputs": [
    {
     "name": "stderr",
     "output_type": "stream",
     "text": [
      "/project/dinner/scguo/anaconda3/envs/py39/lib/python3.9/site-packages/pyemma/coordinates/data/featurization/angles.py:211: FutureWarning: arrays to stack must be passed as a \"sequence\" type such as list or tuple. Support for non-sequence iterables such as generators is deprecated as of NumPy 1.16 and will raise an error in the future.\n",
      "  indices = np.vstack(valid.values())\n"
     ]
    },
    {
     "data": {
      "text/plain": [
       "['CHI1 0 ARG 217',\n",
       " 'CHI2 0 ARG 217',\n",
       " 'CHI3 0 ARG 217',\n",
       " 'CHI4 0 ARG 217',\n",
       " 'CHI5 0 ARG 217',\n",
       " 'CHI1 0 ARG 223',\n",
       " 'CHI2 0 ARG 223',\n",
       " 'CHI3 0 ARG 223',\n",
       " 'CHI4 0 ARG 223',\n",
       " 'CHI5 0 ARG 223',\n",
       " 'CHI1 0 ARG 226',\n",
       " 'CHI2 0 ARG 226',\n",
       " 'CHI3 0 ARG 226',\n",
       " 'CHI4 0 ARG 226',\n",
       " 'CHI5 0 ARG 226',\n",
       " 'CHI1 0 ARG 229',\n",
       " 'CHI2 0 ARG 229',\n",
       " 'CHI3 0 ARG 229',\n",
       " 'CHI4 0 ARG 229',\n",
       " 'CHI5 0 ARG 229',\n",
       " 'CHI1 0 ARG 232',\n",
       " 'CHI2 0 ARG 232',\n",
       " 'CHI3 0 ARG 232',\n",
       " 'CHI4 0 ARG 232',\n",
       " 'CHI5 0 ARG 232']"
      ]
     },
     "execution_count": 13,
     "metadata": {},
     "output_type": "execute_result"
    }
   ],
   "source": [
    "# featurize new Anton trajectories\n",
    "arg_tors = pyemma.coordinates.featurizer(\"../../civsd-pro.pdb\")\n",
    "for r in (217, 223, 226, 229, 232):\n",
    "    arg_tors.add_sidechain_torsions(f\"residue {r}\", deg=False, which=\"all\")\n",
    "arg_tors.describe()"
   ]
  },
  {
   "cell_type": "code",
   "execution_count": 14,
   "id": "b8cb45dc-9aee-4781-a704-f97748a4d332",
   "metadata": {},
   "outputs": [
    {
     "data": {
      "application/vnd.jupyter.widget-view+json": {
       "model_id": "",
       "version_major": 2,
       "version_minor": 0
      },
      "text/plain": [
       "Obtaining file info:   0%|          | 0/116 [00:00<?, ?it/s]"
      ]
     },
     "metadata": {},
     "output_type": "display_data"
    },
    {
     "data": {
      "application/vnd.jupyter.widget-view+json": {
       "model_id": "",
       "version_major": 2,
       "version_minor": 0
      },
      "text/plain": [
       "getting output of FeatureReader:   0%|          | 0/9164 [00:00<?, ?it/s]"
      ]
     },
     "metadata": {},
     "output_type": "display_data"
    }
   ],
   "source": [
    "# collect files\n",
    "xtcs = []\n",
    "for i in range(3, 119):\n",
    "    if i == 82:\n",
    "        pass\n",
    "    xtcs.append(f\"/project/dinner/scguo/ci-vsd/anton2/prot/civsd.prot.{i}.xtc\")\n",
    "anton_arg_tors = pyemma.coordinates.load(xtcs, features=arg_tors, chunksize=128)"
   ]
  },
  {
   "cell_type": "code",
   "execution_count": 15,
   "id": "c913152f-f86b-424d-bf16-ed3f9c878c22",
   "metadata": {},
   "outputs": [],
   "source": [
    "np.save(\"../../data/raw_feat/arg_torsions_anton2.npy\", anton_arg_tors)"
   ]
  },
  {
   "cell_type": "code",
   "execution_count": 18,
   "id": "55640bf1-65e7-4b03-9f62-6cf57df99938",
   "metadata": {},
   "outputs": [],
   "source": [
    "arg_tors_trajs = list(np.load(\"../../data/raw_feat/arg_torsions.npy\", allow_pickle=True))\n",
    "arg_tors_trajs.extend(np.load(\"../../data/raw_feat/arg_torsions_anton2.npy\"))"
   ]
  },
  {
   "cell_type": "code",
   "execution_count": 19,
   "id": "f234f7a5-ef7c-47ee-8d84-c006ce6bffbd",
   "metadata": {},
   "outputs": [
    {
     "data": {
      "text/plain": [
       "353"
      ]
     },
     "execution_count": 19,
     "metadata": {},
     "output_type": "execute_result"
    }
   ],
   "source": [
    "len(arg_tors_trajs)"
   ]
  },
  {
   "cell_type": "code",
   "execution_count": null,
   "id": "88004c32-c1f3-4323-b97e-5e6c8e92f830",
   "metadata": {},
   "outputs": [],
   "source": []
  }
 ],
 "metadata": {
  "kernelspec": {
   "display_name": "Python 3 (ipykernel)",
   "language": "python",
   "name": "python3"
  },
  "language_info": {
   "codemirror_mode": {
    "name": "ipython",
    "version": 3
   },
   "file_extension": ".py",
   "mimetype": "text/x-python",
   "name": "python",
   "nbconvert_exporter": "python",
   "pygments_lexer": "ipython3",
   "version": "3.9.9"
  }
 },
 "nbformat": 4,
 "nbformat_minor": 5
}
