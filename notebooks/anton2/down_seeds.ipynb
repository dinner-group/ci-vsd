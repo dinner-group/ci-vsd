{
 "cells": [
  {
   "cell_type": "code",
   "execution_count": 1,
   "id": "eaceb584-1697-4fbc-9012-ba81b4197f86",
   "metadata": {
    "tags": []
   },
   "outputs": [],
   "source": [
    "import sys\n",
    "import os\n",
    "import importlib\n",
    "import random\n",
    "from itertools import combinations\n",
    "\n",
    "import numpy as np\n",
    "import scipy\n",
    "import sklearn\n",
    "\n",
    "import matplotlib as mpl\n",
    "import matplotlib.pyplot as plt\n",
    "from matplotlib import ticker\n",
    "import seaborn as sns\n",
    "import prettypyplot as pplt\n",
    "\n",
    "import mdtraj as md\n",
    "\n",
    "import ivac\n",
    "import extq"
   ]
  },
  {
   "cell_type": "code",
   "execution_count": 2,
   "id": "3b361a1a-7961-459d-9a93-4c44e1060285",
   "metadata": {},
   "outputs": [],
   "source": [
    "sys.path.insert(1, \"../../python\")\n",
    "sys.path.insert(1, \"../../..\")\n",
    "import util\n",
    "import plotting"
   ]
  },
  {
   "cell_type": "code",
   "execution_count": 3,
   "id": "adcc2d75-47a8-4681-b14f-9c8d4a7fcc79",
   "metadata": {},
   "outputs": [],
   "source": [
    "DATA_DIR = \"/project/dinner/scguo/ci-vsd/data\"\n",
    "# S4 translocation/rotation data\n",
    "cv_trajs = list(\n",
    "    np.load(f\"{DATA_DIR}/raw_feat/cv_dist_spin_anton.npy\", allow_pickle=True)\n",
    ")\n",
    "cv_trajs.extend(np.load(f\"{DATA_DIR}/raw_feat/cv_dist_spin_anton2.npy\"))\n",
    "cv_arr = np.concatenate(cv_trajs)\n",
    "# salt bridge distances for states\n",
    "sb_trajs = list(np.load(f\"{DATA_DIR}/raw_feat/feat2_raw_anton.npy\", allow_pickle=True))\n",
    "sb_trajs.extend(np.load(f\"{DATA_DIR}/raw_feat/feat2_raw_anton2.npy\"))\n",
    "sb_arr = np.concatenate(sb_trajs)\n",
    "sb_models = np.load(f\"{DATA_DIR}/models_centroids_feat2.npy\")"
   ]
  },
  {
   "cell_type": "code",
   "execution_count": 5,
   "id": "f204cd2f-ef51-47ce-88fd-d4b4587fb3a5",
   "metadata": {},
   "outputs": [],
   "source": [
    "dist = cv_arr[:, 0]\n",
    "rot = cv_arr[:, 1]\n",
    "\n",
    "# ellipse centered at down centroid with radii 1.1 nm and 8 deg (1 sigma in each direction)\n",
    "# take points where R2-D186 < 0.5 (lower salt bridges), R2-D129 > 0.6 (upper salt bridge)\n",
    "dist_ax_down = (dist + 4.240) / 1.1\n",
    "rot_ax_down = (rot + 56.95) / 8\n",
    "down_ids = ((dist_ax_down ** 2 + rot_ax_down ** 2) < 1).nonzero()[0]"
   ]
  },
  {
   "cell_type": "code",
   "execution_count": 21,
   "id": "33c44f2d-a532-4fbf-85ef-d49c481e1416",
   "metadata": {},
   "outputs": [],
   "source": [
    "k = 40\n",
    "down_samples = np.random.choice(down_ids, size=k, replace=False)"
   ]
  },
  {
   "cell_type": "code",
   "execution_count": 8,
   "id": "924a4bf4-93df-4b02-af81-a5da77680d55",
   "metadata": {
    "tags": []
   },
   "outputs": [],
   "source": [
    "remove = {1282,\n",
    "    1283,\n",
    "    1284,\n",
    "    1285,\n",
    "    1286,\n",
    "    1288,\n",
    "    1289,\n",
    "    1290,\n",
    "    1187,\n",
    "    1188,\n",
    "    1189,\n",
    "    1190,\n",
    "    1191,\n",
    "    1197,\n",
    "    1198,\n",
    "    1199,\n",
    "    1203,\n",
    "    1205,\n",
    "    1206,\n",
    "    1207,\n",
    "    1211,\n",
    "    1212,\n",
    "    1213,\n",
    "    1214,\n",
    "    1215,\n",
    "    1225,\n",
    "    1226,\n",
    "    1227,\n",
    "    1228,\n",
    "    1231,\n",
    "    1232,\n",
    "    1233,\n",
    "    1236,\n",
    "    1237,\n",
    "    1238,\n",
    "    1242,\n",
    "    1245,\n",
    "    1246,\n",
    "    1252,\n",
    "    1253,\n",
    "    1260,\n",
    "    1261,\n",
    "    1262,\n",
    "    1263,\n",
    "    1266,\n",
    "    1267,\n",
    "    1268,\n",
    "    1269,\n",
    "    1270,\n",
    "    1271,\n",
    "    1272,\n",
    "    1273,\n",
    "    1274,\n",
    "    1275,\n",
    "    1276,\n",
    "    1277,\n",
    "    1278,\n",
    "    1279,\n",
    "}\n",
    "files = []\n",
    "for i in range(295):\n",
    "    if (i + 1000) not in remove:\n",
    "        files.append(f\"/project/dinner/scguo/anton-old/civsd_{i}.dcd\")\n",
    "anton_files = []\n",
    "for i in range(3, 119):\n",
    "    if i == 82:\n",
    "        pass\n",
    "    anton_files.append(f\"/beagle3/dinner/scguo/anton2-backup/dcdfiles/civsd.{i}.dcd\")"
   ]
  },
  {
   "cell_type": "code",
   "execution_count": 22,
   "id": "b3ecaa65-0ed3-40f5-8ccc-1943a547ab13",
   "metadata": {},
   "outputs": [
    {
     "name": "stdout",
     "output_type": "stream",
     "text": [
      "30 1654\n",
      "53 4376\n",
      "30 1969\n",
      "108 2351\n",
      "108 4473\n",
      "27 8297\n",
      "107 5276\n",
      "89 2167\n"
     ]
    }
   ],
   "source": [
    "topfile = \"/project/dinner/scguo/ci-vsd/civsd-all.prmtop\"\n",
    "for close_id in down_samples:\n",
    "    if close_id < 3_000_000:\n",
    "        traj, frame = util.anton_frame(close_id)\n",
    "        # md_frame = md.load_frame(files[traj], frame, top=topfile)\n",
    "    else:\n",
    "        traj, frame = ((close_id - 3_000_000) // 10001, (close_id - 3_000_000) % 10001)\n",
    "        print(traj, frame)\n",
    "        # md_frame = md.load_frame(anton_files[traj], frame, top=topfile)\n",
    "    # md_frame.save_amberrst7(f\"../../anton2/seeds/down_{traj}_{frame}.rst7\")"
   ]
  },
  {
   "cell_type": "code",
   "execution_count": 25,
   "id": "0b664d83-27bf-49c4-af90-04f4169aea99",
   "metadata": {},
   "outputs": [],
   "source": [
    "cv_traj_old = list(np.load(\"../../data/raw_feat/cv_dist_spin_suppl_00.npy\"))\n",
    "cv_traj_old.extend(np.load(\"../../data/raw_feat/cv_dist_spin_suppl_01.npy\"))\n",
    "cv_traj_old.extend(np.load(\"../../data/raw_feat/cv_dist_spin_suppl_02.npy\"))"
   ]
  },
  {
   "cell_type": "code",
   "execution_count": 27,
   "id": "12241172-962f-4948-95f6-289fefd6e843",
   "metadata": {},
   "outputs": [
    {
     "data": {
      "text/plain": [
       "243"
      ]
     },
     "execution_count": 27,
     "metadata": {},
     "output_type": "execute_result"
    }
   ],
   "source": [
    "len(cv_traj_old)"
   ]
  },
  {
   "cell_type": "code",
   "execution_count": 31,
   "id": "f5d408f3-3124-407f-9ff5-c9c2570aeae6",
   "metadata": {},
   "outputs": [],
   "source": [
    "# end points of unbiased trajectories\n",
    "dist = np.array([t[-1, 0] for t in cv_traj_old])\n",
    "rot = np.array([t[-1, 1] for t in cv_traj_old])\n",
    "\n",
    "# ellipse centered at down centroid with radii 1.1 nm and 8 deg (1 sigma in each direction)\n",
    "# take points where R2-D186 < 0.5 (lower salt bridges), R2-D129 > 0.6 (upper salt bridge)\n",
    "dist_ax_down = (dist + 4.240) / 1.1\n",
    "rot_ax_down = (rot + 56.95) / 8\n",
    "down_end_ids = ((dist_ax_down ** 2 + rot_ax_down ** 2) < 1).nonzero()[0]"
   ]
  },
  {
   "cell_type": "code",
   "execution_count": 33,
   "id": "a32ee92a-d520-4ab0-9795-a1f010a789d4",
   "metadata": {},
   "outputs": [
    {
     "data": {
      "text/plain": [
       "array([118, 139, 159, 223])"
      ]
     },
     "execution_count": 33,
     "metadata": {},
     "output_type": "execute_result"
    }
   ],
   "source": [
    "down_end_ids"
   ]
  },
  {
   "cell_type": "code",
   "execution_count": 34,
   "id": "09fcbfa1-a641-4374-a93d-c2253f0d499c",
   "metadata": {},
   "outputs": [],
   "source": [
    "supp_files = np.loadtxt(\"../../data/suppl_xtc_files.txt\", dtype=str)"
   ]
  },
  {
   "cell_type": "code",
   "execution_count": 35,
   "id": "01c4e236-55e3-43d7-8a9e-7bad52ecce91",
   "metadata": {},
   "outputs": [
    {
     "data": {
      "text/plain": [
       "array(['/project2/roux/scguo/ci-vsd/unbiased/099/civsd_pro_3.xtc',\n",
       "       '/project2/roux/scguo/ci-vsd/unbiased/099/civsd_pro_4.xtc',\n",
       "       '/project2/roux/scguo/ci-vsd/unbiased/282/civsd_pro.xtc',\n",
       "       '/project2/roux/scguo/ci-vsd/unbiased/293/civsd_pro_2.xtc'],\n",
       "      dtype='<U56')"
      ]
     },
     "execution_count": 35,
     "metadata": {},
     "output_type": "execute_result"
    }
   ],
   "source": [
    "supp_files[down_end_ids]"
   ]
  },
  {
   "cell_type": "code",
   "execution_count": 11,
   "id": "cf1b71eb-3ea1-47c2-8d32-f5ac376d550a",
   "metadata": {},
   "outputs": [],
   "source": [
    "import parmed"
   ]
  },
  {
   "cell_type": "code",
   "execution_count": 14,
   "id": "de3e6b9e-0b23-4b17-92d4-002ab6241b47",
   "metadata": {},
   "outputs": [],
   "source": [
    "test_frame = parmed.load_file(\"../../anton2/seeds/down_10_419.rst7\")"
   ]
  },
  {
   "cell_type": "code",
   "execution_count": null,
   "id": "54cc0827-96b7-47d3-9e78-4a572af750a6",
   "metadata": {},
   "outputs": [],
   "source": [
    "print("
   ]
  },
  {
   "cell_type": "markdown",
   "id": "ac6c4536-4b2e-4a8c-9d51-1c35088c3dfb",
   "metadata": {},
   "source": [
    "# "
   ]
  }
 ],
 "metadata": {
  "kernelspec": {
   "display_name": "Python 3 (ipykernel)",
   "language": "python",
   "name": "python3"
  },
  "language_info": {
   "codemirror_mode": {
    "name": "ipython",
    "version": 3
   },
   "file_extension": ".py",
   "mimetype": "text/x-python",
   "name": "python",
   "nbconvert_exporter": "python",
   "pygments_lexer": "ipython3",
   "version": "3.9.9"
  }
 },
 "nbformat": 4,
 "nbformat_minor": 5
}
