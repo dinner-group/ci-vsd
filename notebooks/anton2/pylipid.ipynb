{
 "cells": [
  {
   "cell_type": "code",
   "execution_count": 5,
   "id": "66ce95c8-06cc-4384-b63e-b9c70089fd1e",
   "metadata": {},
   "outputs": [],
   "source": [
    "import sys\n",
    "import importlib\n",
    "import gc\n",
    "import glob\n",
    "import random\n",
    "from itertools import combinations\n",
    "\n",
    "import numpy as np\n",
    "import sklearn\n",
    "\n",
    "import matplotlib as mpl\n",
    "import matplotlib.pyplot as plt\n",
    "from matplotlib import ticker\n",
    "import seaborn as sns\n",
    "import prettypyplot as pplt\n",
    "\n",
    "import mdtraj as md\n",
    "import pylipid\n",
    "from pylipid.api import LipidInteraction"
   ]
  },
  {
   "cell_type": "code",
   "execution_count": 2,
   "id": "67427abe-eea4-494a-9446-4460090c6a0b",
   "metadata": {},
   "outputs": [],
   "source": [
    "sys.path.insert(1, \"../../python\")\n",
    "sys.path.insert(1, \"../../..\")\n",
    "import util\n",
    "import plotting"
   ]
  },
  {
   "cell_type": "code",
   "execution_count": 3,
   "id": "13c8b2bc-6080-4f73-af27-712f46e570fd",
   "metadata": {},
   "outputs": [],
   "source": [
    "pplt.load_cmaps()\n",
    "plt.style.use(\"custom\")  # custom style sheet\n",
    "plt.style.use(\"muted\")  # muted color theme from SciencePlots\n",
    "colors = mpl.colors.to_rgba_array(\n",
    "    [\n",
    "        \"#364B9A\",\n",
    "        \"#4A7BB7\",\n",
    "        \"#6EA6CD\",\n",
    "        \"#98CAE1\",\n",
    "        \"#C2E4EF\",\n",
    "        \"#EAECCC\",\n",
    "        \"#FEDA8B\",\n",
    "        \"#FDB366\",\n",
    "        \"#F67E4B\",\n",
    "        \"#DD3D2D\",\n",
    "        \"#A50026\",\n",
    "    ]\n",
    ")\n",
    "cm_div = mpl.colors.LinearSegmentedColormap.from_list(\"diverging\", colors)\n",
    "mpl.colormaps.register(cm_div, force=True)"
   ]
  },
  {
   "cell_type": "code",
   "execution_count": null,
   "id": "1ddc2777-fb04-4d9c-9a47-1672538e0826",
   "metadata": {},
   "outputs": [],
   "source": []
  },
  {
   "cell_type": "code",
   "execution_count": 19,
   "id": "10a0d0b8-9641-4504-9ea6-404c6c15b5dd",
   "metadata": {
    "tags": []
   },
   "outputs": [
    {
     "name": "stdout",
     "output_type": "stream",
     "text": [
      "179\n"
     ]
    }
   ],
   "source": [
    "dcds = []\n",
    "for i in range(179):\n",
    "    dcds.append(f\"/project/dinner/scguo/anton-old/civsd_{i}.dcd\")\n",
    "# for i in range(3, 119):\n",
    "#     if i == 82:\n",
    "#         continue\n",
    "#     dcds.append(f\"/project/dinner/scguo/ci-vsd/anton2/nowat/civsd.nowat.{i}.dcd\")\n",
    "print(len(dcds))"
   ]
  },
  {
   "cell_type": "code",
   "execution_count": 20,
   "id": "7a7d397d-5b38-4a38-bd55-25209108b0e8",
   "metadata": {},
   "outputs": [],
   "source": [
    "# topfile = \"../../civsd-nowat.pdb\"\n",
    "topfile = \"/project/dinner/scguo/ci-vsd/civsd-all.prmtop\"\n",
    "lipid_name = \"POPC\"\n",
    "n_prot = 1\n",
    "timeunit = \"us\"\n",
    "save_dir = \"../../data/feat2_dist_du_anton2/\""
   ]
  },
  {
   "cell_type": "code",
   "execution_count": 32,
   "id": "86bda0ea-343a-42a8-947c-ebfbefbbf4e8",
   "metadata": {},
   "outputs": [],
   "source": [
    "li = LipidInteraction(\n",
    "    dcds[0:1], topfile_list=topfile, lipid=lipid_name, nprot=n_prot, save_dir=save_dir, timeunit=timeunit, stride=100)"
   ]
  },
  {
   "cell_type": "code",
   "execution_count": 27,
   "id": "1a8fd06e-2ce1-4aa7-bbb9-1945b5c91794",
   "metadata": {},
   "outputs": [],
   "source": [
    "traj = md.load(dcds[0], top=topfile)"
   ]
  },
  {
   "cell_type": "code",
   "execution_count": 31,
   "id": "07649141-6315-4c8e-9853-faf4f1744854",
   "metadata": {},
   "outputs": [
    {
     "data": {
      "text/plain": [
       "array([ 2192,  2193,  2194, ..., 32861, 32862, 32863])"
      ]
     },
     "execution_count": 31,
     "metadata": {},
     "output_type": "execute_result"
    }
   ],
   "source": [
    "traj.topology.select(\"resname POPC\")"
   ]
  },
  {
   "cell_type": "code",
   "execution_count": 33,
   "id": "6386b349-9f6c-43cf-8b83-35d57e2d52fc",
   "metadata": {},
   "outputs": [
    {
     "name": "stderr",
     "output_type": "stream",
     "text": [
      "COLLECT INTERACTIONS FROM TRAJECTORIES: 100%|██████████| 1/1 [01:23<00:00, 83.24s/it]\n"
     ]
    }
   ],
   "source": [
    "li.collect_residue_contacts()"
   ]
  },
  {
   "cell_type": "code",
   "execution_count": 34,
   "id": "4751f046-0300-4259-993b-e67b5851ac46",
   "metadata": {},
   "outputs": [
    {
     "data": {
      "text/html": [
       "<div>\n",
       "<style scoped>\n",
       "    .dataframe tbody tr th:only-of-type {\n",
       "        vertical-align: middle;\n",
       "    }\n",
       "\n",
       "    .dataframe tbody tr th {\n",
       "        vertical-align: top;\n",
       "    }\n",
       "\n",
       "    .dataframe thead th {\n",
       "        text-align: right;\n",
       "    }\n",
       "</style>\n",
       "<table border=\"1\" class=\"dataframe\">\n",
       "  <thead>\n",
       "    <tr style=\"text-align: right;\">\n",
       "      <th></th>\n",
       "      <th>Residue</th>\n",
       "      <th>Residue ID</th>\n",
       "    </tr>\n",
       "  </thead>\n",
       "  <tbody>\n",
       "    <tr>\n",
       "      <th>0</th>\n",
       "      <td>0GLN</td>\n",
       "      <td>0</td>\n",
       "    </tr>\n",
       "    <tr>\n",
       "      <th>1</th>\n",
       "      <td>1PHE</td>\n",
       "      <td>1</td>\n",
       "    </tr>\n",
       "    <tr>\n",
       "      <th>2</th>\n",
       "      <td>2ARG</td>\n",
       "      <td>2</td>\n",
       "    </tr>\n",
       "    <tr>\n",
       "      <th>3</th>\n",
       "      <td>3VAL</td>\n",
       "      <td>3</td>\n",
       "    </tr>\n",
       "    <tr>\n",
       "      <th>4</th>\n",
       "      <td>4ARG</td>\n",
       "      <td>4</td>\n",
       "    </tr>\n",
       "    <tr>\n",
       "      <th>...</th>\n",
       "      <td>...</td>\n",
       "      <td>...</td>\n",
       "    </tr>\n",
       "    <tr>\n",
       "      <th>129</th>\n",
       "      <td>129TYR</td>\n",
       "      <td>129</td>\n",
       "    </tr>\n",
       "    <tr>\n",
       "      <th>130</th>\n",
       "      <td>130SER</td>\n",
       "      <td>130</td>\n",
       "    </tr>\n",
       "    <tr>\n",
       "      <th>131</th>\n",
       "      <td>131HIS</td>\n",
       "      <td>131</td>\n",
       "    </tr>\n",
       "    <tr>\n",
       "      <th>132</th>\n",
       "      <td>132GLN</td>\n",
       "      <td>132</td>\n",
       "    </tr>\n",
       "    <tr>\n",
       "      <th>133</th>\n",
       "      <td>133GLN</td>\n",
       "      <td>133</td>\n",
       "    </tr>\n",
       "  </tbody>\n",
       "</table>\n",
       "<p>134 rows × 2 columns</p>\n",
       "</div>"
      ],
      "text/plain": [
       "    Residue  Residue ID\n",
       "0      0GLN           0\n",
       "1      1PHE           1\n",
       "2      2ARG           2\n",
       "3      3VAL           3\n",
       "4      4ARG           4\n",
       "..      ...         ...\n",
       "129  129TYR         129\n",
       "130  130SER         130\n",
       "131  131HIS         131\n",
       "132  132GLN         132\n",
       "133  133GLN         133\n",
       "\n",
       "[134 rows x 2 columns]"
      ]
     },
     "execution_count": 34,
     "metadata": {},
     "output_type": "execute_result"
    }
   ],
   "source": [
    "li.dataset"
   ]
  },
  {
   "cell_type": "code",
   "execution_count": 35,
   "id": "5badc2cb-2458-40a9-a687-bdf0a522cba3",
   "metadata": {},
   "outputs": [
    {
     "name": "stderr",
     "output_type": "stream",
     "text": [
      "CALCULATE DURATION PER RESIDUE: 100%|██████████| 134/134 [00:00<00:00, 313.94it/s]\n"
     ]
    }
   ],
   "source": [
    "durations = li.compute_residue_duration()"
   ]
  },
  {
   "cell_type": "code",
   "execution_count": 36,
   "id": "4863a09a-493c-4eea-b142-d07f1403bd43",
   "metadata": {},
   "outputs": [
    {
     "name": "stdout",
     "output_type": "stream",
     "text": [
      "134 1\n",
      "134 1\n",
      "[[0.0, 0.0001, 0.0001, 0.0001, 0.0001, 0.0001, 0.0001, 0.0001, 0.0001, 0.0001, 0.0001, 0.0001, 0.0001, 0.0001, 0.0001, 0.0001, 0.0001, 0.0001, 0.0001, 0.0001, 0.0001, 0.0001, 0.0001, 0.0002, 0.0002, 0.0002, 0.0002, 0.0002, 0.0002, 0.0002, 0.0002, 0.00030000000000000003, 0.00030000000000000003, 0.00030000000000000003, 0.00030000000000000003, 0.00030000000000000003, 0.00030000000000000003, 0.00030000000000000003, 0.00030000000000000003, 0.00030000000000000003, 0.00030000000000000003, 0.00030000000000000003, 0.00030000000000000003, 0.0004, 0.0004, 0.0005, 0.0005, 0.0006000000000000001, 0.0006000000000000001, 0.0006000000000000001, 0.0006000000000000001, 0.0007, 0.0007, 0.0008, 0.0008, 0.001, 0.001, 0.001, 0.0011, 0.0011, 0.0012000000000000001, 0.0013000000000000002, 0.0013000000000000002, 0.0014, 0.0015, 0.0018000000000000002, 0.0022, 0.0025, 0.0026000000000000003, 0.003, 0.0036000000000000003, 0.0047]]\n"
     ]
    }
   ],
   "source": [
    "print(len(li.residue_list), len(li.trajfile_list))\n",
    "print(len(durations), len(durations[0]))\n",
    "print(durations[0])"
   ]
  },
  {
   "cell_type": "code",
   "execution_count": 38,
   "id": "4798cdca-86b0-4810-af14-72e5eee4450c",
   "metadata": {},
   "outputs": [
    {
     "data": {
      "text/html": [
       "<div>\n",
       "<style scoped>\n",
       "    .dataframe tbody tr th:only-of-type {\n",
       "        vertical-align: middle;\n",
       "    }\n",
       "\n",
       "    .dataframe tbody tr th {\n",
       "        vertical-align: top;\n",
       "    }\n",
       "\n",
       "    .dataframe thead th {\n",
       "        text-align: right;\n",
       "    }\n",
       "</style>\n",
       "<table border=\"1\" class=\"dataframe\">\n",
       "  <thead>\n",
       "    <tr style=\"text-align: right;\">\n",
       "      <th></th>\n",
       "      <th>Residue</th>\n",
       "      <th>Residue ID</th>\n",
       "      <th>Duration</th>\n",
       "      <th>Duration std</th>\n",
       "    </tr>\n",
       "  </thead>\n",
       "  <tbody>\n",
       "    <tr>\n",
       "      <th>0</th>\n",
       "      <td>0GLN</td>\n",
       "      <td>0</td>\n",
       "      <td>0.000651</td>\n",
       "      <td>0.000875</td>\n",
       "    </tr>\n",
       "    <tr>\n",
       "      <th>1</th>\n",
       "      <td>1PHE</td>\n",
       "      <td>1</td>\n",
       "      <td>0.000512</td>\n",
       "      <td>0.000517</td>\n",
       "    </tr>\n",
       "    <tr>\n",
       "      <th>2</th>\n",
       "      <td>2ARG</td>\n",
       "      <td>2</td>\n",
       "      <td>0.000779</td>\n",
       "      <td>0.000958</td>\n",
       "    </tr>\n",
       "    <tr>\n",
       "      <th>3</th>\n",
       "      <td>3VAL</td>\n",
       "      <td>3</td>\n",
       "      <td>0.000534</td>\n",
       "      <td>0.000626</td>\n",
       "    </tr>\n",
       "    <tr>\n",
       "      <th>4</th>\n",
       "      <td>4ARG</td>\n",
       "      <td>4</td>\n",
       "      <td>0.000344</td>\n",
       "      <td>0.000420</td>\n",
       "    </tr>\n",
       "    <tr>\n",
       "      <th>5</th>\n",
       "      <td>5ALA</td>\n",
       "      <td>5</td>\n",
       "      <td>0.000845</td>\n",
       "      <td>0.001846</td>\n",
       "    </tr>\n",
       "    <tr>\n",
       "      <th>6</th>\n",
       "      <td>6VAL</td>\n",
       "      <td>6</td>\n",
       "      <td>0.000503</td>\n",
       "      <td>0.000891</td>\n",
       "    </tr>\n",
       "    <tr>\n",
       "      <th>7</th>\n",
       "      <td>7ILE</td>\n",
       "      <td>7</td>\n",
       "      <td>0.000453</td>\n",
       "      <td>0.000707</td>\n",
       "    </tr>\n",
       "    <tr>\n",
       "      <th>8</th>\n",
       "      <td>8ASP</td>\n",
       "      <td>8</td>\n",
       "      <td>0.000921</td>\n",
       "      <td>0.001065</td>\n",
       "    </tr>\n",
       "    <tr>\n",
       "      <th>9</th>\n",
       "      <td>9HIS</td>\n",
       "      <td>9</td>\n",
       "      <td>0.000900</td>\n",
       "      <td>0.001674</td>\n",
       "    </tr>\n",
       "  </tbody>\n",
       "</table>\n",
       "</div>"
      ],
      "text/plain": [
       "  Residue  Residue ID  Duration  Duration std\n",
       "0    0GLN           0  0.000651      0.000875\n",
       "1    1PHE           1  0.000512      0.000517\n",
       "2    2ARG           2  0.000779      0.000958\n",
       "3    3VAL           3  0.000534      0.000626\n",
       "4    4ARG           4  0.000344      0.000420\n",
       "5    5ALA           5  0.000845      0.001846\n",
       "6    6VAL           6  0.000503      0.000891\n",
       "7    7ILE           7  0.000453      0.000707\n",
       "8    8ASP           8  0.000921      0.001065\n",
       "9    9HIS           9  0.000900      0.001674"
      ]
     },
     "execution_count": 38,
     "metadata": {},
     "output_type": "execute_result"
    }
   ],
   "source": [
    "li.dataset.head(10)"
   ]
  },
  {
   "cell_type": "code",
   "execution_count": null,
   "id": "5a8715fe-e007-4191-a121-f0e9ce634bf3",
   "metadata": {},
   "outputs": [],
   "source": []
  }
 ],
 "metadata": {
  "kernelspec": {
   "display_name": "Python 3 (ipykernel)",
   "language": "python",
   "name": "python3"
  },
  "language_info": {
   "codemirror_mode": {
    "name": "ipython",
    "version": 3
   },
   "file_extension": ".py",
   "mimetype": "text/x-python",
   "name": "python",
   "nbconvert_exporter": "python",
   "pygments_lexer": "ipython3",
   "version": "3.9.9"
  }
 },
 "nbformat": 4,
 "nbformat_minor": 5
}
