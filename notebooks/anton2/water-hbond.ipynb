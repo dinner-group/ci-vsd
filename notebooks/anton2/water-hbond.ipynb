{
 "cells": [
  {
   "cell_type": "code",
   "execution_count": 1,
   "id": "71dba9ab-4a12-41c0-8bb9-bf0688b534f1",
   "metadata": {},
   "outputs": [
    {
     "name": "stderr",
     "output_type": "stream",
     "text": [
      "/project/dinner/scguo/anaconda3/envs/py39/lib/python3.9/site-packages/MDAnalysis/coordinates/chemfiles.py:108: DeprecationWarning: distutils Version classes are deprecated. Use packaging.version instead.\n",
      "  MIN_CHEMFILES_VERSION = LooseVersion(\"0.9\")\n"
     ]
    }
   ],
   "source": [
    "import sys\n",
    "import os\n",
    "import glob\n",
    "import random\n",
    "from itertools import combinations\n",
    "\n",
    "import numpy as np\n",
    "import scipy\n",
    "\n",
    "import matplotlib as mpl\n",
    "import matplotlib.pyplot as plt\n",
    "from matplotlib import ticker\n",
    "import seaborn as sns\n",
    "import prettypyplot as pplt\n",
    "\n",
    "import pyemma\n",
    "import mdtraj as md\n",
    "import MDAnalysis as mda"
   ]
  },
  {
   "cell_type": "code",
   "execution_count": 2,
   "id": "c1916ed0-c9a7-4bfd-a4db-a417bfc39f1d",
   "metadata": {},
   "outputs": [],
   "source": [
    "sys.path.insert(1, \"../../python\")\n",
    "sys.path.insert(1, \"../../..\")\n",
    "import util\n",
    "import plotting"
   ]
  },
  {
   "cell_type": "code",
   "execution_count": 3,
   "id": "7b28cde7-5dc8-426c-baa8-e4a44b0b7bdf",
   "metadata": {},
   "outputs": [],
   "source": [
    "pplt.load_cmaps()\n",
    "plt.style.use(\"custom\")  # custom style sheet\n",
    "plt.style.use(\"muted\")  # muted color theme from SciencePlots\n",
    "colors = mpl.colors.to_rgba_array(\n",
    "    [\n",
    "        \"#364B9A\",\n",
    "        \"#4A7BB7\",\n",
    "        \"#6EA6CD\",\n",
    "        \"#98CAE1\",\n",
    "        \"#C2E4EF\",\n",
    "        \"#EAECCC\",\n",
    "        \"#FEDA8B\",\n",
    "        \"#FDB366\",\n",
    "        \"#F67E4B\",\n",
    "        \"#DD3D2D\",\n",
    "        \"#A50026\",\n",
    "    ]\n",
    ")\n",
    "cm_div = mpl.colors.LinearSegmentedColormap.from_list(\"diverging\", colors)\n",
    "mpl.colormaps.register(cm_div, force=True)"
   ]
  },
  {
   "cell_type": "code",
   "execution_count": 4,
   "id": "5f9fe0bc-062b-4310-ba66-bc510bd3874d",
   "metadata": {},
   "outputs": [],
   "source": [
    "from joblib import Parallel, delayed\n",
    "from multiprocessing import cpu_count\n",
    "n_jobs = cpu_count()"
   ]
  },
  {
   "cell_type": "code",
   "execution_count": 10,
   "id": "8834baf1-5502-4dbe-89ec-1ea9794b8cdf",
   "metadata": {},
   "outputs": [],
   "source": [
    "# topfile = \"/project/dinner/scguo/ci-vsd/unbiased/000/civsd.prmtop\"\n",
    "topfile = \"/beagle3/dinner/scguo/anton2-backup/workdir.3/civsd.final.dms\"\n",
    "files = []\n",
    "\n",
    "for i in range(3, 82):\n",
    "    files.append(glob.glob(f\"/beagle3/dinner/scguo/anton2-backup/\")[0])\n",
    "for i in range(83, 119):\n",
    "    files.append(glob.glob(f\"/beagle3/dinner/scguo/anton2-backup/workdir.{i}/jobsteps/*/run.dtr/\")[0])"
   ]
  },
  {
   "cell_type": "code",
   "execution_count": 12,
   "id": "2ff56b17-683c-4529-9a5f-5957ef33e45b",
   "metadata": {},
   "outputs": [
    {
     "ename": "TypeError",
     "evalue": "Cannot find an appropriate coordinate reader for file '/beagle3/dinner/scguo/anton2-backup/workdir.3/jobsteps/000000-00071160/run.dtr/'.\n           Unknown coordinate trajectory format '' for '/beagle3/dinner/scguo/anton2-backup/workdir.3/jobsteps/000000-00071160/run.dtr/'. The FORMATs \n           dict_keys(['CHAIN', 'CHEMFILES', 'CRD', 'DCD', 'CONFIG', 'HISTORY', 'DMS', 'GMS', 'GRO', 'INPCRD', 'RESTRT', 'LAMMPS', 'DATA', 'LAMMPSDUMP', 'MOL2', 'PDB', 'ENT', 'XPDB', 'PDBQT', 'PQR', 'TRJ', 'MDCRD', 'CRDBOX', 'NCDF', 'NC', 'TRR', 'H5MD', 'TRZ', 'XTC', 'XYZ', 'TXYZ', 'ARC', 'MEMORY', 'MMTF', 'GSD', 'COOR', 'NAMDBIN', 'IN', 'FHIAIMS', 'PARMED', 'RDKIT', 'OPENMMSIMULATION', 'OPENMMAPP'])\n           are implemented in MDAnalysis.\n           See https://docs.mdanalysis.org/documentation_pages/coordinates/init.html#id1\n           Use the format keyword to explicitly set the format: 'Universe(...,format=FORMAT)'\n           For missing formats, raise an issue at https://github.com/MDAnalysis/mdanalysis/issues",
     "output_type": "error",
     "traceback": [
      "\u001b[0;31m---------------------------------------------------------------------------\u001b[0m",
      "\u001b[0;31mValueError\u001b[0m                                Traceback (most recent call last)",
      "\u001b[0;32m/project/dinner/scguo/anaconda3/envs/py39/lib/python3.9/site-packages/MDAnalysis/core/universe.py\u001b[0m in \u001b[0;36mload_new\u001b[0;34m(self, filename, format, in_memory, in_memory_step, **kwargs)\u001b[0m\n\u001b[1;32m    537\u001b[0m         \u001b[0;32mtry\u001b[0m\u001b[0;34m:\u001b[0m\u001b[0;34m\u001b[0m\u001b[0;34m\u001b[0m\u001b[0m\n\u001b[0;32m--> 538\u001b[0;31m             \u001b[0mreader\u001b[0m \u001b[0;34m=\u001b[0m \u001b[0mget_reader_for\u001b[0m\u001b[0;34m(\u001b[0m\u001b[0mfilename\u001b[0m\u001b[0;34m,\u001b[0m \u001b[0mformat\u001b[0m\u001b[0;34m=\u001b[0m\u001b[0mformat\u001b[0m\u001b[0;34m)\u001b[0m\u001b[0;34m\u001b[0m\u001b[0;34m\u001b[0m\u001b[0m\n\u001b[0m\u001b[1;32m    539\u001b[0m         \u001b[0;32mexcept\u001b[0m \u001b[0mValueError\u001b[0m \u001b[0;32mas\u001b[0m \u001b[0merr\u001b[0m\u001b[0;34m:\u001b[0m\u001b[0;34m\u001b[0m\u001b[0;34m\u001b[0m\u001b[0m\n",
      "\u001b[0;32m/project/dinner/scguo/anaconda3/envs/py39/lib/python3.9/site-packages/MDAnalysis/core/_get_readers.py\u001b[0m in \u001b[0;36mget_reader_for\u001b[0;34m(filename, format)\u001b[0m\n\u001b[1;32m    106\u001b[0m                 format, filename, _READERS.keys()))\n\u001b[0;32m--> 107\u001b[0;31m         \u001b[0;32mraise\u001b[0m \u001b[0mValueError\u001b[0m\u001b[0;34m(\u001b[0m\u001b[0merrmsg\u001b[0m\u001b[0;34m)\u001b[0m \u001b[0;32mfrom\u001b[0m \u001b[0;32mNone\u001b[0m\u001b[0;34m\u001b[0m\u001b[0;34m\u001b[0m\u001b[0m\n\u001b[0m\u001b[1;32m    108\u001b[0m \u001b[0;34m\u001b[0m\u001b[0m\n",
      "\u001b[0;31mValueError\u001b[0m: Unknown coordinate trajectory format '' for '/beagle3/dinner/scguo/anton2-backup/workdir.3/jobsteps/000000-00071160/run.dtr/'. The FORMATs \n           dict_keys(['CHAIN', 'CHEMFILES', 'CRD', 'DCD', 'CONFIG', 'HISTORY', 'DMS', 'GMS', 'GRO', 'INPCRD', 'RESTRT', 'LAMMPS', 'DATA', 'LAMMPSDUMP', 'MOL2', 'PDB', 'ENT', 'XPDB', 'PDBQT', 'PQR', 'TRJ', 'MDCRD', 'CRDBOX', 'NCDF', 'NC', 'TRR', 'H5MD', 'TRZ', 'XTC', 'XYZ', 'TXYZ', 'ARC', 'MEMORY', 'MMTF', 'GSD', 'COOR', 'NAMDBIN', 'IN', 'FHIAIMS', 'PARMED', 'RDKIT', 'OPENMMSIMULATION', 'OPENMMAPP'])\n           are implemented in MDAnalysis.\n           See https://docs.mdanalysis.org/documentation_pages/coordinates/init.html#id1\n           Use the format keyword to explicitly set the format: 'Universe(...,format=FORMAT)'\n           For missing formats, raise an issue at https://github.com/MDAnalysis/mdanalysis/issues",
      "\nDuring handling of the above exception, another exception occurred:\n",
      "\u001b[0;31mTypeError\u001b[0m                                 Traceback (most recent call last)",
      "\u001b[0;32m/scratch/local/jobs/3920253/ipykernel_2164259/1447626516.py\u001b[0m in \u001b[0;36m<module>\u001b[0;34m\u001b[0m\n\u001b[0;32m----> 1\u001b[0;31m \u001b[0mu\u001b[0m \u001b[0;34m=\u001b[0m \u001b[0mmda\u001b[0m\u001b[0;34m.\u001b[0m\u001b[0mUniverse\u001b[0m\u001b[0;34m(\u001b[0m\u001b[0mtopfile\u001b[0m\u001b[0;34m,\u001b[0m \u001b[0mfiles\u001b[0m\u001b[0;34m[\u001b[0m\u001b[0;36m0\u001b[0m\u001b[0;34m]\u001b[0m\u001b[0;34m)\u001b[0m\u001b[0;34m\u001b[0m\u001b[0;34m\u001b[0m\u001b[0m\n\u001b[0m",
      "\u001b[0;32m/project/dinner/scguo/anaconda3/envs/py39/lib/python3.9/site-packages/MDAnalysis/core/universe.py\u001b[0m in \u001b[0;36m__init__\u001b[0;34m(self, topology, all_coordinates, format, topology_format, transformations, guess_bonds, vdwradii, in_memory, in_memory_step, *coordinates, **kwargs)\u001b[0m\n\u001b[1;32m    353\u001b[0m \u001b[0;34m\u001b[0m\u001b[0m\n\u001b[1;32m    354\u001b[0m         \u001b[0;32mif\u001b[0m \u001b[0mcoordinates\u001b[0m\u001b[0;34m:\u001b[0m\u001b[0;34m\u001b[0m\u001b[0;34m\u001b[0m\u001b[0m\n\u001b[0;32m--> 355\u001b[0;31m             self.load_new(coordinates, format=format, in_memory=in_memory,\n\u001b[0m\u001b[1;32m    356\u001b[0m                         in_memory_step=in_memory_step, **kwargs)\n\u001b[1;32m    357\u001b[0m \u001b[0;34m\u001b[0m\u001b[0m\n",
      "\u001b[0;32m/project/dinner/scguo/anaconda3/envs/py39/lib/python3.9/site-packages/MDAnalysis/core/universe.py\u001b[0m in \u001b[0;36mload_new\u001b[0;34m(self, filename, format, in_memory, in_memory_step, **kwargs)\u001b[0m\n\u001b[1;32m    538\u001b[0m             \u001b[0mreader\u001b[0m \u001b[0;34m=\u001b[0m \u001b[0mget_reader_for\u001b[0m\u001b[0;34m(\u001b[0m\u001b[0mfilename\u001b[0m\u001b[0;34m,\u001b[0m \u001b[0mformat\u001b[0m\u001b[0;34m=\u001b[0m\u001b[0mformat\u001b[0m\u001b[0;34m)\u001b[0m\u001b[0;34m\u001b[0m\u001b[0;34m\u001b[0m\u001b[0m\n\u001b[1;32m    539\u001b[0m         \u001b[0;32mexcept\u001b[0m \u001b[0mValueError\u001b[0m \u001b[0;32mas\u001b[0m \u001b[0merr\u001b[0m\u001b[0;34m:\u001b[0m\u001b[0;34m\u001b[0m\u001b[0;34m\u001b[0m\u001b[0m\n\u001b[0;32m--> 540\u001b[0;31m             raise TypeError(\n\u001b[0m\u001b[1;32m    541\u001b[0m                 \u001b[0;34m\"Cannot find an appropriate coordinate reader for file '{0}'.\\n\"\u001b[0m\u001b[0;34m\u001b[0m\u001b[0;34m\u001b[0m\u001b[0m\n\u001b[1;32m    542\u001b[0m                 \"           {1}\".format(filename, err))\n",
      "\u001b[0;31mTypeError\u001b[0m: Cannot find an appropriate coordinate reader for file '/beagle3/dinner/scguo/anton2-backup/workdir.3/jobsteps/000000-00071160/run.dtr/'.\n           Unknown coordinate trajectory format '' for '/beagle3/dinner/scguo/anton2-backup/workdir.3/jobsteps/000000-00071160/run.dtr/'. The FORMATs \n           dict_keys(['CHAIN', 'CHEMFILES', 'CRD', 'DCD', 'CONFIG', 'HISTORY', 'DMS', 'GMS', 'GRO', 'INPCRD', 'RESTRT', 'LAMMPS', 'DATA', 'LAMMPSDUMP', 'MOL2', 'PDB', 'ENT', 'XPDB', 'PDBQT', 'PQR', 'TRJ', 'MDCRD', 'CRDBOX', 'NCDF', 'NC', 'TRR', 'H5MD', 'TRZ', 'XTC', 'XYZ', 'TXYZ', 'ARC', 'MEMORY', 'MMTF', 'GSD', 'COOR', 'NAMDBIN', 'IN', 'FHIAIMS', 'PARMED', 'RDKIT', 'OPENMMSIMULATION', 'OPENMMAPP'])\n           are implemented in MDAnalysis.\n           See https://docs.mdanalysis.org/documentation_pages/coordinates/init.html#id1\n           Use the format keyword to explicitly set the format: 'Universe(...,format=FORMAT)'\n           For missing formats, raise an issue at https://github.com/MDAnalysis/mdanalysis/issues"
     ]
    }
   ],
   "source": [
    "u = mda.Universe(topfile, files[0])"
   ]
  },
  {
   "cell_type": "code",
   "execution_count": null,
   "id": "5e16dc48-9591-437b-97bf-23e8e97d9751",
   "metadata": {},
   "outputs": [],
   "source": []
  }
 ],
 "metadata": {
  "kernelspec": {
   "display_name": "Python 3 (ipykernel)",
   "language": "python",
   "name": "python3"
  },
  "language_info": {
   "codemirror_mode": {
    "name": "ipython",
    "version": 3
   },
   "file_extension": ".py",
   "mimetype": "text/x-python",
   "name": "python",
   "nbconvert_exporter": "python",
   "pygments_lexer": "ipython3",
   "version": "3.9.9"
  }
 },
 "nbformat": 4,
 "nbformat_minor": 5
}
