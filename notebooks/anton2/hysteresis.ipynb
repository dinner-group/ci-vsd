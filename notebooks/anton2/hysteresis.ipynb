{
 "cells": [
  {
   "cell_type": "code",
   "execution_count": 2,
   "id": "2ce70f8b-9008-4288-8915-7b704d3c049b",
   "metadata": {
    "tags": []
   },
   "outputs": [],
   "source": [
    "import sys\n",
    "import os\n",
    "import importlib\n",
    "import random\n",
    "from itertools import combinations\n",
    "\n",
    "import numpy as np\n",
    "import scipy\n",
    "import sklearn\n",
    "\n",
    "import matplotlib as mpl\n",
    "import matplotlib.pyplot as plt\n",
    "from matplotlib import ticker\n",
    "import seaborn as sns\n",
    "import prettypyplot as pplt\n",
    "\n",
    "import mdtraj as md\n",
    "\n",
    "import ivac\n",
    "import extq"
   ]
  },
  {
   "cell_type": "code",
   "execution_count": 3,
   "id": "3d43c57a-253e-4425-876d-11402bc70b10",
   "metadata": {},
   "outputs": [],
   "source": [
    "sys.path.insert(1, \"../../python\")\n",
    "sys.path.insert(1, \"../../..\")\n",
    "import util\n",
    "import plotting"
   ]
  },
  {
   "cell_type": "code",
   "execution_count": 4,
   "id": "963e4cbd-589b-4959-acb3-9874fa3e71a4",
   "metadata": {},
   "outputs": [],
   "source": [
    "pplt.load_cmaps()\n",
    "plt.style.use(\"custom\")  # custom style sheet\n",
    "plt.style.use(\"muted\")  # muted color theme from SciencePlots\n",
    "colors = mpl.colors.to_rgba_array(\n",
    "    [\n",
    "        \"#364B9A\",\n",
    "        \"#4A7BB7\",\n",
    "        \"#6EA6CD\",\n",
    "        \"#98CAE1\",\n",
    "        \"#C2E4EF\",\n",
    "        \"#EAECCC\",\n",
    "        \"#FEDA8B\",\n",
    "        \"#FDB366\",\n",
    "        \"#F67E4B\",\n",
    "        \"#DD3D2D\",\n",
    "        \"#A50026\",\n",
    "    ]\n",
    ")\n",
    "cm_div = mpl.colors.LinearSegmentedColormap.from_list(\"diverging\", colors)\n",
    "mpl.colormaps.register(cm_div, force=True)"
   ]
  },
  {
   "cell_type": "code",
   "execution_count": 5,
   "id": "384dee7f-403d-4610-be78-420b8a1cc712",
   "metadata": {},
   "outputs": [],
   "source": [
    "%config InlineBackend.figure_format = \"retina\""
   ]
  },
  {
   "cell_type": "code",
   "execution_count": 6,
   "id": "8d771d18-da49-4eca-b4ba-ecebd16e6622",
   "metadata": {},
   "outputs": [],
   "source": [
    "DATA_DIR = \"/project/dinner/scguo/ci-vsd/data\"\n",
    "# S4 translocation/rotation data\n",
    "cv_trajs = list(\n",
    "    np.load(f\"{DATA_DIR}/raw_feat/cv_dist_spin_anton.npy\", allow_pickle=True)\n",
    ")\n",
    "cv_trajs.extend(np.load(f\"{DATA_DIR}/raw_feat/cv_dist_spin_anton2.npy\"))\n",
    "cv_arr = np.concatenate(cv_trajs)\n",
    "# salt bridge distances for states\n",
    "sb_trajs = list(np.load(f\"{DATA_DIR}/raw_feat/feat2_raw_anton.npy\", allow_pickle=True))\n",
    "sb_trajs.extend(np.load(f\"{DATA_DIR}/raw_feat/feat2_raw_anton2.npy\"))\n",
    "sb_arr = np.concatenate(sb_trajs)\n",
    "sb_models = np.load(f\"{DATA_DIR}/models_centroids_feat2.npy\")\n",
    "# committors\n",
    "lag = 500\n",
    "qp_du = np.load(f\"{DATA_DIR}/feat2_dist_du_anton2/qp_downup_3.npy\", allow_pickle=True)[8] # 50 ns lag time\n",
    "# weights\n",
    "weights = np.load(f\"{DATA_DIR}/feat2_dist_du_anton2/weights_3_feat5ivac.npy\", allow_pickle=True)[0] # 0.1 ns lag time"
   ]
  },
  {
   "cell_type": "code",
   "execution_count": 7,
   "id": "6db31d63-e4ce-4a9b-a54e-f00b846895a2",
   "metadata": {},
   "outputs": [],
   "source": [
    "sb_names = []\n",
    "for r in (\"R217\", \"R223\", \"R226\", \"R229\", \"R232\"):\n",
    "    for n in (\"D129\", \"D136\", \"D151\", \"D164\", \"E183\", \"D186\"):\n",
    "        sb_names.append(f\"{r} C$_\\\\alpha$-{n} C$_\\\\alpha$\")\n",
    "for r in (\"R217\", \"R223\", \"R226\", \"R229\", \"R232\"):\n",
    "    for n in (\"D129\", \"D136\", \"D151\", \"D164\", \"E183\", \"D186\"):\n",
    "        if n.startswith(\"D\"):\n",
    "            sb_names.append(f\"{r} C$_\\\\zeta$-{n} C$_\\\\gamma$\")\n",
    "        else:\n",
    "            sb_names.append(f\"{r} C$_\\\\zeta$-{n} C$_\\\\delta$\")"
   ]
  },
  {
   "cell_type": "code",
   "execution_count": null,
   "id": "8ec4be8b-b891-4802-a44a-f0932628908b",
   "metadata": {},
   "outputs": [],
   "source": [
    "def classify(dist, sb):\n",
    "    # R226 - D129\n",
    "    sb1 = sb[:, 42]\n",
    "    # R226 - D186\n",
    "    sb2 = sb[:, 47]\n",
    "    # R229 - D129\n",
    "    sb3 = sb[:, 48]\n",
    "    # R229 - D186\n",
    "    sb4 = sb[:, 53]\n",
    "    \n",
    "    # R226/R229 up, S4 down\n",
    "    argup_s4down = ((dist < ) & (sb1 < 4) & (sb2 > 12) & (sb3 < 12) & (sb4 > 5))\n",
    "    # R226/R229 down, S4 up\n",
    "    argdown_s4up = ((dist < ) & (sb1 > 4) & (sb2 < 12) & (sb3 > 12) & (sb4 < 5))\n",
    "    return argup_s4down.nonzero()[0], argdown_s4up.nonzero()[0]"
   ]
  }
 ],
 "metadata": {
  "kernelspec": {
   "display_name": "Python 3 (ipykernel)",
   "language": "python",
   "name": "python3"
  },
  "language_info": {
   "codemirror_mode": {
    "name": "ipython",
    "version": 3
   },
   "file_extension": ".py",
   "mimetype": "text/x-python",
   "name": "python",
   "nbconvert_exporter": "python",
   "pygments_lexer": "ipython3",
   "version": "3.9.9"
  }
 },
 "nbformat": 4,
 "nbformat_minor": 5
}
