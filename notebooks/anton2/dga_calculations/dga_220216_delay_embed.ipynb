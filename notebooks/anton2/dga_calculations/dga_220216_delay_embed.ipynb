{
 "cells": [
  {
   "cell_type": "code",
   "execution_count": 1,
   "id": "832085e2-6b06-4755-a6b1-5e626068bf0f",
   "metadata": {},
   "outputs": [],
   "source": [
    "import sys\n",
    "import os\n",
    "import importlib\n",
    "import gc\n",
    "import glob\n",
    "import random\n",
    "from itertools import combinations\n",
    "\n",
    "import numpy as np\n",
    "import sklearn\n",
    "from sklearn import metrics\n",
    "\n",
    "import matplotlib as mpl\n",
    "import matplotlib.pyplot as plt\n",
    "from matplotlib import ticker\n",
    "import seaborn as sns\n",
    "\n",
    "import pyemma\n",
    "import msmtools\n",
    "import mdtraj as md\n",
    "\n",
    "import ivac\n",
    "import extq"
   ]
  },
  {
   "cell_type": "code",
   "execution_count": 2,
   "id": "1a72147a-6f3f-49a8-8fa7-0badfee0d3ab",
   "metadata": {},
   "outputs": [],
   "source": [
    "sys.path.insert(1, \"../../python\")\n",
    "sys.path.insert(1, \"../../..\")\n",
    "import util\n",
    "import plotting"
   ]
  },
  {
   "cell_type": "code",
   "execution_count": 3,
   "id": "c09c592a-9020-410e-a550-832654ba16ce",
   "metadata": {},
   "outputs": [],
   "source": [
    "plt.style.use(\"custom\")  # custom style sheet\n",
    "plt.style.use(\"muted\")  # muted color theme from SciencePlots\n",
    "cm_seq = sns.cubehelix_palette(\n",
    "    start=0, rot=-0.70, gamma=0.40, light=0.9, dark=0.1, as_cmap=True, reverse=True\n",
    ")\n",
    "cm_seq2 = sns.cubehelix_palette(\n",
    "    start=0, rot=-0.70, gamma=0.40, light=0.8, dark=0.1, as_cmap=True, reverse=False\n",
    ")\n",
    "colors = mpl.colors.to_rgba_array(\n",
    "    [\n",
    "        \"#364B9A\",\n",
    "        \"#4A7BB7\",\n",
    "        \"#6EA6CD\",\n",
    "        \"#98CAE1\",\n",
    "        \"#C2E4EF\",\n",
    "        \"#EAECCC\",\n",
    "        \"#FEDA8B\",\n",
    "        \"#FDB366\",\n",
    "        \"#F67E4B\",\n",
    "        \"#DD3D2D\",\n",
    "        \"#A50026\",\n",
    "    ]\n",
    ")\n",
    "cm_div = mpl.colors.LinearSegmentedColormap.from_list(\"\", colors)"
   ]
  },
  {
   "cell_type": "markdown",
   "id": "28e6630c-dbaf-4c2c-854f-f65e00ed6ca9",
   "metadata": {},
   "source": [
    "# Load data"
   ]
  },
  {
   "cell_type": "code",
   "execution_count": 4,
   "id": "311265cd-2010-4ccb-b6ba-d1e52e3ce30e",
   "metadata": {},
   "outputs": [],
   "source": [
    "cv_trajs = list(\n",
    "    np.load(\"../../data/raw_feat/cv_dist_spin_anton.npy\", allow_pickle=True)\n",
    ")\n",
    "cv_trajs.extend(np.load(\"../../data/raw_feat/cv_dist_spin_anton2.npy\"))"
   ]
  },
  {
   "cell_type": "code",
   "execution_count": 5,
   "id": "9df3b36c-213f-4204-bb5f-7e67cbe9c109",
   "metadata": {},
   "outputs": [],
   "source": [
    "sb_labels = []\n",
    "for r in (\"R217\", \"R223\", \"R226\", \"R229\", \"R232\"):\n",
    "    for n in (\"D129\", \"D136\", \"D151\", \"D164\", \"E183\", \"D186\"):\n",
    "        sb_labels.append(f\"{r} - {n}\")"
   ]
  },
  {
   "cell_type": "code",
   "execution_count": 6,
   "id": "c2cb7dd3-713b-482e-a5ca-f2656d84a546",
   "metadata": {},
   "outputs": [],
   "source": [
    "sb_trajs = list(np.load(\"../../data/raw_feat/feat2_raw_anton.npy\", allow_pickle=True))\n",
    "# sb_trajs = []\n",
    "# for i in range(6):\n",
    "#     sb_trajs.extend(np.load(f'../../data/raw_feat/feat2_suppl_{i:02d}.npy', allow_pickle=True))\n",
    "sb_trajs.extend(np.load(\"../../data/raw_feat/feat2_raw_anton2.npy\"))"
   ]
  },
  {
   "cell_type": "code",
   "execution_count": 7,
   "id": "d35bd131-ce23-4df1-9852-ac016e6c7a1f",
   "metadata": {},
   "outputs": [
    {
     "name": "stdout",
     "output_type": "stream",
     "text": [
      "(3170017, 2) (3170017, 60)\n"
     ]
    }
   ],
   "source": [
    "cv_arr = np.concatenate(cv_trajs)\n",
    "sb_arr = np.concatenate(sb_trajs)\n",
    "print(cv_arr.shape, sb_arr.shape)"
   ]
  },
  {
   "cell_type": "markdown",
   "id": "47d22136-de70-4359-974a-d4e5f89c84ea",
   "metadata": {},
   "source": [
    "# Delay embed CVs"
   ]
  },
  {
   "cell_type": "code",
   "execution_count": 8,
   "id": "df334124-e90f-4a16-b26a-6929d0ba3d17",
   "metadata": {},
   "outputs": [],
   "source": [
    "n_embed = 20  # number of embeddings snapshots\n",
    "delta = 10  # 1 ns, time between embedded snapshots"
   ]
  },
  {
   "cell_type": "code",
   "execution_count": 9,
   "id": "410d7e63-4448-4b36-8513-47242f894771",
   "metadata": {},
   "outputs": [
    {
     "name": "stdout",
     "output_type": "stream",
     "text": [
      "(10000, 6)\n",
      "254 (9800, 126)\n",
      "(3119217, 126)\n"
     ]
    }
   ],
   "source": [
    "# use smaller input feature set\n",
    "# R223-D129, R226-D129, R226-D186, R229-D129, R229-D186, R232-D186\n",
    "sb_ids = [36, 42, 47, 48, 53, 59]\n",
    "data_orig = [traj[:, sb_ids] for traj in sb_trajs]\n",
    "embed_trajs = util.delay_embed(data_orig, n_embed, delta)\n",
    "embed_arr = np.concatenate(embed_trajs)\n",
    "\n",
    "print(data_orig[0].shape)\n",
    "print(len(embed_trajs), embed_trajs[0].shape)\n",
    "print(embed_arr.shape)"
   ]
  },
  {
   "cell_type": "markdown",
   "id": "38addfaa-26e5-445e-8b6a-17cb393b6cdc",
   "metadata": {},
   "source": [
    "# Cluster then embed indicators"
   ]
  },
  {
   "cell_type": "code",
   "execution_count": null,
   "id": "1f5ae6ff-d79c-422a-9df7-8d8ec024ca0b",
   "metadata": {},
   "outputs": [],
   "source": []
  },
  {
   "cell_type": "markdown",
   "id": "50b8b2c1-84b2-4c35-9a85-a93cda1f8043",
   "metadata": {
    "tags": []
   },
   "source": [
    "# Chatipat's method (remove linear combinations before embedding)"
   ]
  },
  {
   "cell_type": "code",
   "execution_count": 184,
   "id": "4d540304-f82f-4615-9aa0-a3f8a1eaa192",
   "metadata": {},
   "outputs": [],
   "source": [
    "def delay(tlist, n, max_embed, lag):\n",
    "    embed_tlist = []\n",
    "    for traj in tlist:\n",
    "        N_i = len(traj)\n",
    "        if N_i - (lag * n) <= 0:\n",
    "            continue\n",
    "        start_ix = lag * (max_embed - n)\n",
    "        stop_ix = N_i - (lag * n)\n",
    "        embed_tlist.append(traj[start_ix:stop_ix])\n",
    "    return embed_tlist"
   ]
  },
  {
   "cell_type": "code",
   "execution_count": 221,
   "id": "f568cfe9-5218-4efc-84ed-3cd40d68646f",
   "metadata": {},
   "outputs": [],
   "source": [
    "def embed_reduce(tlist, max_embed, lag):\n",
    "    embed_tlist = []\n",
    "    g = tlist\n",
    "    g_list = []\n",
    "    for i in range(max_embed):\n",
    "        # delay\n",
    "        f_next = delay(g, i, max_embed, lag)\n",
    "\n",
    "        # remove span of g\n",
    "        f = remove_span(f_next, g_list)\n",
    "\n",
    "        # compute most important PCA eigenvector\n",
    "        pca = pyemma.coordinates.pca(data=f, dim=1)\n",
    "        g = pca.transform(f)\n",
    "        g_list.append(g)\n",
    "    return g_list\n",
    "\n",
    "\n",
    "def remove_span(tlist, vectors):\n",
    "    \"\"\"Remove span of each of the vectors from\n",
    "    a given dataset\n",
    "    \"\"\"\n",
    "    if len(vectors) == 0:\n",
    "        return tlist\n",
    "    ortho_tlist = []\n",
    "    for traj, vecs in zip(tlist, vectors):\n",
    "        ans = traj\n",
    "        for v in vecs:\n",
    "            ans -= v * np.dot(traj, v) / np.dot(v, v)\n",
    "        ortho_tlist.append(ans)\n",
    "    return ortho_tlist"
   ]
  }
 ],
 "metadata": {
  "kernelspec": {
   "display_name": "Python 3 (ipykernel)",
   "language": "python",
   "name": "python3"
  },
  "language_info": {
   "codemirror_mode": {
    "name": "ipython",
    "version": 3
   },
   "file_extension": ".py",
   "mimetype": "text/x-python",
   "name": "python",
   "nbconvert_exporter": "python",
   "pygments_lexer": "ipython3",
   "version": "3.9.9"
  }
 },
 "nbformat": 4,
 "nbformat_minor": 5
}
