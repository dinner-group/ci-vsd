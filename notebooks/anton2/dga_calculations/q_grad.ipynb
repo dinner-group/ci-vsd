{
 "cells": [
  {
   "cell_type": "code",
   "execution_count": null,
   "id": "664ae543-bc17-4397-bbbf-e05a7ff7bac5",
   "metadata": {},
   "outputs": [],
   "source": [
    "import sys\n",
    "import os\n",
    "import importlib\n",
    "import glob\n",
    "import random\n",
    "from itertools import combinations\n",
    "\n",
    "import numpy as np\n",
    "import scipy\n",
    "import sklearn\n",
    "from sklearn import metrics\n",
    "\n",
    "import matplotlib as mpl\n",
    "import matplotlib.pyplot as plt\n",
    "from matplotlib import ticker\n",
    "import seaborn as sns\n",
    "\n",
    "import pyemma\n",
    "import msmtools\n",
    "import mdtraj as md\n",
    "\n",
    "import ivac\n",
    "import extq\n",
    "\n",
    "import jax\n",
    "import jax.numpy as jnp\n",
    "from jax import vmap, jit, grad"
   ]
  },
  {
   "cell_type": "code",
   "execution_count": 2,
   "id": "844368f0-7456-4610-b76c-aaba78725b80",
   "metadata": {},
   "outputs": [
    {
     "data": {
      "text/plain": [
       "[GpuDevice(id=0, process_index=0)]"
      ]
     },
     "execution_count": 2,
     "metadata": {},
     "output_type": "execute_result"
    }
   ],
   "source": [
    "jax.devices()"
   ]
  },
  {
   "cell_type": "code",
   "execution_count": 3,
   "id": "ad2d4c35-20ef-4081-997f-76665e1d69ab",
   "metadata": {},
   "outputs": [],
   "source": [
    "sys.path.insert(1, \"../../python\")\n",
    "sys.path.insert(1, \"../../..\")\n",
    "import util\n",
    "import plotting"
   ]
  },
  {
   "cell_type": "code",
   "execution_count": 4,
   "id": "2964e5c9-292a-4b28-8f26-ae85684e759c",
   "metadata": {},
   "outputs": [],
   "source": [
    "plt.style.use(\"custom\")  # custom style sheet\n",
    "plt.style.use(\"muted\")  # muted color theme from SciencePlots\n",
    "cm_seq = sns.cubehelix_palette(\n",
    "    start=0, rot=-0.70, gamma=0.40, light=0.9, dark=0.1, as_cmap=True, reverse=True\n",
    ")\n",
    "cm_seq2 = sns.cubehelix_palette(\n",
    "    start=0, rot=-0.70, gamma=0.40, light=0.8, dark=0.1, as_cmap=True, reverse=False\n",
    ")\n",
    "colors = mpl.colors.to_rgba_array(\n",
    "    [\n",
    "        \"#364B9A\",\n",
    "        \"#4A7BB7\",\n",
    "        \"#6EA6CD\",\n",
    "        \"#98CAE1\",\n",
    "        \"#C2E4EF\",\n",
    "        \"#EAECCC\",\n",
    "        \"#FEDA8B\",\n",
    "        \"#FDB366\",\n",
    "        \"#F67E4B\",\n",
    "        \"#DD3D2D\",\n",
    "        \"#A50026\",\n",
    "    ]\n",
    ")\n",
    "cm_div = mpl.colors.LinearSegmentedColormap.from_list(\"\", colors)"
   ]
  },
  {
   "cell_type": "code",
   "execution_count": 5,
   "id": "c68a71a8-4b86-4593-a823-49973fef07df",
   "metadata": {},
   "outputs": [],
   "source": [
    "cv_trajs = list(\n",
    "    np.load(\"../../data/raw_feat/cv_dist_spin_anton.npy\", allow_pickle=True)\n",
    ")\n",
    "cv_trajs.extend(np.load(\"../../data/raw_feat/cv_dist_spin_anton2.npy\"))"
   ]
  },
  {
   "cell_type": "code",
   "execution_count": 6,
   "id": "c559bc77-03f9-450f-94c9-3b9fe9c15d80",
   "metadata": {},
   "outputs": [],
   "source": [
    "sb_labels = []\n",
    "for r in (\"R217\", \"R223\", \"R226\", \"R229\", \"R232\"):\n",
    "    for n in (\"D129\", \"D136\", \"D151\", \"D164\", \"E183\", \"D186\"):\n",
    "        sb_labels.append(f\"{r} - {n}\")\n",
    "sb_ids = [42, 48, 47, 53]"
   ]
  },
  {
   "cell_type": "code",
   "execution_count": 7,
   "id": "74f7ac1a-0ae5-4606-ba38-86e7beef9ac3",
   "metadata": {},
   "outputs": [],
   "source": [
    "sb_trajs = list(np.load(\"../../data/raw_feat/feat2_raw_anton.npy\", allow_pickle=True))\n",
    "sb_trajs.extend(np.load(\"../../data/raw_feat/feat2_raw_anton2.npy\"))"
   ]
  },
  {
   "cell_type": "code",
   "execution_count": 8,
   "id": "3ce084ec-1904-4fde-99ac-206c9ce2996e",
   "metadata": {},
   "outputs": [
    {
     "name": "stdout",
     "output_type": "stream",
     "text": [
      "(4150115, 2) (4150115, 60)\n"
     ]
    }
   ],
   "source": [
    "cv_arr = np.concatenate(cv_trajs)\n",
    "sb_arr = np.concatenate(sb_trajs)\n",
    "print(cv_arr.shape, sb_arr.shape)"
   ]
  },
  {
   "cell_type": "code",
   "execution_count": 9,
   "id": "1eb491d9-2a03-4904-bcc2-dc7ced245571",
   "metadata": {},
   "outputs": [
    {
     "name": "stdout",
     "output_type": "stream",
     "text": [
      "(4150115, 3)\n"
     ]
    }
   ],
   "source": [
    "rf161 = list(np.load(\"../../data/raw_feat/rf161.npy\", allow_pickle=True))\n",
    "rf161.extend(np.load(\"../../data/raw_feat/rf161_anton2.npy\"))\n",
    "rf161_arr = np.concatenate(rf161)\n",
    "print(rf161_arr.shape)"
   ]
  },
  {
   "cell_type": "code",
   "execution_count": 10,
   "id": "775efc05-9392-43fa-a161-f5d2447bd325",
   "metadata": {},
   "outputs": [
    {
     "name": "stdout",
     "output_type": "stream",
     "text": [
      "(4150115, 18)\n"
     ]
    }
   ],
   "source": [
    "hb_trajs = list(np.load(\"../../data/raw_feat/hbonds.npy\", allow_pickle=True))\n",
    "hb_trajs.extend(np.load(\"../../data/raw_feat/hbonds_anton2.npy\", allow_pickle=True))\n",
    "hb_arr = np.concatenate(hb_trajs)\n",
    "print(hb_arr.shape)"
   ]
  },
  {
   "cell_type": "code",
   "execution_count": 11,
   "id": "695e7393-f334-4154-a378-04486451fd0e",
   "metadata": {},
   "outputs": [],
   "source": [
    "sb_models = np.load(\"../../data/models_centroids_feat2.npy\")"
   ]
  },
  {
   "cell_type": "markdown",
   "id": "45cef271-b9bc-4823-9306-8141b5986f96",
   "metadata": {},
   "source": [
    "# States"
   ]
  },
  {
   "cell_type": "code",
   "execution_count": 12,
   "id": "bcbbe98c-f76c-4a0a-9091-4d96c446e2f3",
   "metadata": {},
   "outputs": [],
   "source": [
    "dist = cv_arr[:, 0]\n",
    "rot = cv_arr[:, 1]\n",
    "# tic1 = livac_arr[:, 1]\n",
    "# tic2 = livac_arr[:, 2]\n",
    "sb1 = sb_arr[:, 42]  # R226-D129\n",
    "sb2 = sb_arr[:, 47]  # R226-D186\n",
    "sb3 = sb_arr[:, 48]  # R229-D129\n",
    "sb4 = sb_arr[:, 53]  # R229-D186\n",
    "sb5 = sb_arr[:, 59]  # R232-D186\n",
    "\n",
    "\n",
    "# ellipse centered at down centroid with radii 1.1 nm and 8 deg (1 sigma in each direction)\n",
    "# take points where R2-D186 < 0.5 (lower salt bridges), R2-D129 > 0.6 (upper salt bridge)\n",
    "dist_ax_down = (dist + 4.240) / 1.1\n",
    "rot_ax_down = (rot + 56.95) / 8\n",
    "down_ids = ((dist_ax_down ** 2 + rot_ax_down ** 2) < 1) & (sb1 > 0.6) & (sb2 < 0.5)\n",
    "\n",
    "# ellipse centered at up centroid with radii 0.84 nm and 7.6 deg (2 sigma in each direction)\n",
    "# take points where R2-D129 (up) < 0.5, R3-D129 < 1.1, R3/R4-D186 salt bridges < 0.75/0.6 nm\n",
    "up_ids = (\n",
    "    ((((dist + 0.506) / 0.84) ** 2 + ((rot - 3.94) / 7.6) ** 2) < 1)\n",
    "    & (sb1 < 0.5)\n",
    "    & (sb3 < 1.1)\n",
    "    & (sb4 < 0.75)\n",
    "    & (sb5 < 0.6)\n",
    ")"
   ]
  },
  {
   "cell_type": "code",
   "execution_count": 13,
   "id": "5bcc9963-22d8-4100-8712-d77622d6d513",
   "metadata": {},
   "outputs": [],
   "source": [
    "mask = ~(down_ids | up_ids)\n",
    "\n",
    "# len(**_ids) is number of points in each state\n",
    "down = sb_arr[down_ids]\n",
    "up = sb_arr[up_ids]\n",
    "other = sb_arr[mask]\n",
    "\n",
    "# split CV data\n",
    "down_cvs = cv_arr[down_ids]\n",
    "up_cvs = cv_arr[up_ids]\n",
    "other_cvs = cv_arr[mask]\n",
    "down_sbs = sb_arr[down_ids]\n",
    "up_sbs = sb_arr[up_ids]\n",
    "other_sbs = cv_arr[mask]"
   ]
  },
  {
   "cell_type": "code",
   "execution_count": 14,
   "id": "4c60c8e3-e57d-4b6b-98ad-44b7062d7425",
   "metadata": {},
   "outputs": [
    {
     "name": "stdout",
     "output_type": "stream",
     "text": [
      "Number of down structures:  37852\n",
      "Number of up structures:   5400\n",
      "Number of other structures: 4106863\n"
     ]
    }
   ],
   "source": [
    "assert (\n",
    "    np.count_nonzero(down_ids) + np.count_nonzero(up_ids) + np.count_nonzero(mask)\n",
    ") == len(cv_arr)\n",
    "print(f\"Number of down structures:  {len(down)}\")\n",
    "print(f\"Number of up structures:   {len(up)}\")\n",
    "print(f\"Number of other structures: {len(other)}\")"
   ]
  },
  {
   "cell_type": "code",
   "execution_count": 15,
   "id": "7793fb06-05e7-4244-b4ed-97e6158a8061",
   "metadata": {},
   "outputs": [],
   "source": [
    "random.seed(123)"
   ]
  },
  {
   "cell_type": "code",
   "execution_count": 16,
   "id": "3020d0fc-13c0-47fd-b034-d28226f506f1",
   "metadata": {},
   "outputs": [],
   "source": [
    "s = 10\n",
    "N = len(cv_arr)\n",
    "inds = random.sample(range(N), N // s)"
   ]
  },
  {
   "cell_type": "markdown",
   "id": "4f921742-b7ca-49be-a045-5f6c4c9cf40f",
   "metadata": {},
   "source": [
    "# Coefficients"
   ]
  },
  {
   "cell_type": "code",
   "execution_count": 62,
   "id": "c5c461c9-06f0-4c6e-ab81-1d3a34f487e7",
   "metadata": {},
   "outputs": [],
   "source": [
    "from extq.stop import forward_stop"
   ]
  },
  {
   "cell_type": "code",
   "execution_count": 69,
   "id": "bcde17e1-d267-423b-8180-cd4ddadffc75",
   "metadata": {},
   "outputs": [],
   "source": [
    "def forward_committor_coeffs(basis, weights, in_domain, guess, lag, test_basis=None):\n",
    "    if test_basis is None:\n",
    "        test_basis = basis\n",
    "    a = 0.0\n",
    "    b = 0.0\n",
    "    for x, y, w, d, g in zip(test_basis, basis, weights, in_domain, guess):\n",
    "        assert np.all(w[-lag:] == 0.0)\n",
    "        iy = np.minimum(np.arange(lag, len(d)), forward_stop(d)[:-lag])\n",
    "        assert np.all(iy < len(d))\n",
    "        wx = scipy.sparse.diags(w[:-lag]) @ x[:-lag]\n",
    "        a += wx.T @ (y[iy] - y[:-lag])\n",
    "        b -= wx.T @ (g[iy] - g[:-lag])\n",
    "    coeffs = scipy.linalg.solve(a, b)\n",
    "    return coeffs"
   ]
  },
  {
   "cell_type": "code",
   "execution_count": 63,
   "id": "41146921-f06d-4dba-8a43-18c9d8243b8c",
   "metadata": {},
   "outputs": [],
   "source": [
    "d_down_arr = np.load(\"../../data/feat2_dist_du_anton2/dist_down_3.npy\")\n",
    "d_up_arr = np.load(\"../../data/feat2_dist_du_anton2/dist_up_3.npy\")"
   ]
  },
  {
   "cell_type": "code",
   "execution_count": 64,
   "id": "d9b17166-1ed3-45ed-ac02-dd4ae658c601",
   "metadata": {},
   "outputs": [],
   "source": [
    "# make smoothing function\n",
    "smooth = (d_down_arr * d_up_arr) ** 0.5 / (d_down_arr + d_up_arr)\n",
    "\n",
    "# make guess\n",
    "guess_down = (d_up_arr ** 2) / (d_down_arr ** 2 + d_up_arr ** 2)\n",
    "guess_up = (d_down_arr ** 2) / (d_down_arr ** 2 + d_up_arr ** 2)\n",
    "\n",
    "# make smoothing 0 at boundaries (down and up states)\n",
    "smooth[~mask] = 0\n",
    "# ensure homogeneous boundary conditions for guess\n",
    "guess_up[up_ids] = 1\n",
    "guess_up[down_ids] = 0\n",
    "guess_down[down_ids] = 1\n",
    "guess_down[up_ids] = 0"
   ]
  },
  {
   "cell_type": "code",
   "execution_count": 65,
   "id": "0dc3b5a9-439d-4773-aa49-ad034398c0eb",
   "metadata": {},
   "outputs": [],
   "source": [
    "weights = np.load(\"../../data/feat2_dist_du_anton2/weights_3_feat5ivac.npy\", allow_pickle=True)"
   ]
  },
  {
   "cell_type": "code",
   "execution_count": 67,
   "id": "5dc6e57b-8c86-41fb-af99-911242859aef",
   "metadata": {},
   "outputs": [],
   "source": [
    "basisF_arr = smooth * sb_arr\n",
    "basisF = []\n",
    "curr = 0\n",
    "traj_lens = [len(t) for t in cv_trajs]\n",
    "for t_len in traj_lens:\n",
    "    basisF.append(basisF_arr[curr : curr + t_len])\n",
    "    curr += t_len\n",
    "\n",
    "basis_d = util.orthogonalize(basisF, weights[0])"
   ]
  },
  {
   "cell_type": "code",
   "execution_count": 68,
   "id": "6075d8c7-2496-4258-9a51-9251a03a8b6a",
   "metadata": {},
   "outputs": [
    {
     "data": {
      "text/plain": [
       "(10000,)"
      ]
     },
     "execution_count": 68,
     "metadata": {},
     "output_type": "execute_result"
    }
   ],
   "source": [
    "traj_inds = util.split_indices(cv_trajs)\n",
    "in_domain = np.split(mask, traj_inds)\n",
    "in_domain[0].shape"
   ]
  },
  {
   "cell_type": "code",
   "execution_count": 71,
   "id": "25cbd526-5ee6-41f0-ae17-c6a21726c4b3",
   "metadata": {},
   "outputs": [],
   "source": [
    "guessU = np.split(guess_up, traj_inds)"
   ]
  },
  {
   "cell_type": "code",
   "execution_count": 72,
   "id": "c9b78bd8-6525-4362-97da-1666af5e2b1e",
   "metadata": {},
   "outputs": [],
   "source": [
    "lags = [1, 2, 5, 10, 20, 50, 100, 200, 500, 1000]\n",
    "qp_coeffs = []\n",
    "for (lag, com) in zip(lags, weights):\n",
    "    qp_coeffs.append(forward_committor_coeffs(basis_d, com, in_domain, guessU, lag))"
   ]
  },
  {
   "cell_type": "code",
   "execution_count": 73,
   "id": "39abf9ba-7bf5-4a8b-a6d8-3a7abd85945d",
   "metadata": {},
   "outputs": [
    {
     "data": {
      "text/plain": [
       "(60, 1)"
      ]
     },
     "execution_count": 73,
     "metadata": {},
     "output_type": "execute_result"
    }
   ],
   "source": [
    "qp_coeffs[0].shape"
   ]
  },
  {
   "cell_type": "code",
   "execution_count": 83,
   "id": "bf7082f0-9f27-403b-a57a-c4d3643d54ed",
   "metadata": {},
   "outputs": [],
   "source": [
    "np.save(\"../../data/feat2_dist_du_anton2/qp_downup_3_coeffs.npy\", qp_coeffs)"
   ]
  },
  {
   "cell_type": "markdown",
   "id": "01c27713-1b89-479e-baa6-d75f129bd439",
   "metadata": {},
   "source": [
    "# Basis gradients"
   ]
  },
  {
   "cell_type": "code",
   "execution_count": 126,
   "id": "ff1db359-8cb7-49bf-8d9b-c7c8afc4c9dc",
   "metadata": {},
   "outputs": [],
   "source": [
    "def orthogonal_coeffs(b, weights):\n",
    "    numer = jnp.einsum('m,mi,mj->ij', weights, b, b)\n",
    "    denom = jnp.sum(weights)\n",
    "    evals, evecs = jnp.linalg.eigh(numer / denom)\n",
    "    coeffs = evecs / jnp.sqrt(evals)[None, :]\n",
    "    return coeffs"
   ]
  },
  {
   "cell_type": "code",
   "execution_count": 164,
   "id": "d069c2a3-9bf3-493a-9d3d-0491ee9ca928",
   "metadata": {},
   "outputs": [],
   "source": [
    "smooth = (d_down_arr * d_up_arr)**0.5 / (d_down_arr + d_up_arr)\n",
    "smooth[~mask] = 0\n",
    "basis = smooth * sb_arr\n",
    "ortho_jit = jit(orthogonal_coeffs)\n",
    "coeffs = orthogonal_coeffs(basis, np.concatenate(weights[0]))"
   ]
  },
  {
   "cell_type": "code",
   "execution_count": 142,
   "id": "5e8a80e6-d02b-4ac1-9d15-f7021d2df607",
   "metadata": {},
   "outputs": [
    {
     "data": {
      "text/plain": [
       "(60, 60)"
      ]
     },
     "execution_count": 142,
     "metadata": {},
     "output_type": "execute_result"
    }
   ],
   "source": [
    "coeffs.shape"
   ]
  },
  {
   "cell_type": "code",
   "execution_count": 54,
   "id": "5bc84ed9-b6bf-4625-9a4e-f21f4a180a86",
   "metadata": {},
   "outputs": [],
   "source": [
    "# dists = jax.jit(min_dist)(sb_trajs[0], down)\n",
    "b = basis_jit(sb_trajs[0], down, up, None)\n",
    "# b = basis(sb_trajs[0][:10], down, up, None)"
   ]
  },
  {
   "cell_type": "code",
   "execution_count": 55,
   "id": "4ef4edfb-7bad-4f73-a5bb-c2c397226163",
   "metadata": {},
   "outputs": [
    {
     "data": {
      "text/plain": [
       "(10000, 60)"
      ]
     },
     "execution_count": 55,
     "metadata": {},
     "output_type": "execute_result"
    }
   ],
   "source": [
    "b.shape"
   ]
  },
  {
   "cell_type": "code",
   "execution_count": 315,
   "id": "281b6df0-878c-4759-956a-a345d09fe295",
   "metadata": {},
   "outputs": [],
   "source": [
    "def min_dist(t, S):\n",
    "    \"\"\"Compute the minimum distance from each point in a array\n",
    "    t to a set S\n",
    "    \"\"\"\n",
    "    # d_S_all = jnp.linalg.norm(t[:, None, :] - S[None, :, :], axis=2)\n",
    "    # d_S = jnp.min(d_S_all, axis=1)\n",
    "    d_S_all = jnp.linalg.norm(t[:, None, :] - S, axis=2)\n",
    "    d_S = jnp.min(d_S_all, axis=1)\n",
    "    return d_S\n",
    "\n",
    "min_dist_jit  = jit(min_dist)"
   ]
  },
  {
   "cell_type": "code",
   "execution_count": 179,
   "id": "a32ebf9e-7b8f-4035-ab00-4e77679083ae",
   "metadata": {},
   "outputs": [],
   "source": [
    "def compute_basis(arr, A=down, B=up, weights=weights, coeffs=coeff_v2):\n",
    "    \"\"\"Compute the value of the basis functions at a given point arr\n",
    "    \"\"\"\n",
    "    # compute distance to domain\n",
    "    d_A = min_dist(arr, A)\n",
    "    d_B = min_dist(arr, B)\n",
    "    # print(d_A.shape)\n",
    "    # print(d_B.shape)\n",
    "\n",
    "    # smooth\n",
    "    smooth = (d_A * d_B) ** 0.5 / (d_A + d_B)\n",
    "    # print(smooth.shape)\n",
    "    b = arr * smooth[:, None]\n",
    "    \n",
    "    # orthogonalize\n",
    "    return b @ coeffs\n",
    "\n",
    "basis_jit = jit(compute_basis)"
   ]
  },
  {
   "cell_type": "code",
   "execution_count": 87,
   "id": "7f8fa185-34c7-4a41-be6d-5849e6d89958",
   "metadata": {},
   "outputs": [],
   "source": [
    "def guess(arr, A, B):\n",
    "    d_A = min_dist(arr, A)\n",
    "    d_B = min_dist(arr, B)\n",
    "    \n",
    "    return (d_A**2) / (d_A**2 + d_B**2)\n",
    "\n",
    "guess_jit = jit(guess)"
   ]
  },
  {
   "cell_type": "code",
   "execution_count": 238,
   "id": "ee8edc6f-052b-4a13-b8f5-8ae9bbb1518e",
   "metadata": {},
   "outputs": [],
   "source": [
    "v = qp_coeffs[0].T\n",
    "x = sb_trajs[0][0:1]\n",
    "b, grad_b = jax.jvp(compute_basis, (x,), (v,))"
   ]
  },
  {
   "cell_type": "code",
   "execution_count": 160,
   "id": "7aaa195e-79d2-455e-9a2b-8ccde702c611",
   "metadata": {},
   "outputs": [],
   "source": [
    "b0 = basis_jit(sb_trajs[0])"
   ]
  },
  {
   "cell_type": "code",
   "execution_count": 161,
   "id": "eb5d5a37-188c-4c16-a4bb-033253fc62ab",
   "metadata": {},
   "outputs": [
    {
     "data": {
      "text/plain": [
       "(10000, 60)"
      ]
     },
     "execution_count": 161,
     "metadata": {},
     "output_type": "execute_result"
    }
   ],
   "source": [
    "b0.shape"
   ]
  },
  {
   "cell_type": "code",
   "execution_count": 145,
   "id": "85b0d05f-f07c-41ea-b2ea-a237f11f2e95",
   "metadata": {},
   "outputs": [
    {
     "data": {
      "text/plain": [
       "(1, 60)"
      ]
     },
     "execution_count": 145,
     "metadata": {},
     "output_type": "execute_result"
    }
   ],
   "source": [
    "b.shape"
   ]
  },
  {
   "cell_type": "code",
   "execution_count": 146,
   "id": "4d3f8c76-6ecc-447b-bf71-ce309c83f8ae",
   "metadata": {},
   "outputs": [
    {
     "data": {
      "text/plain": [
       "(1, 60)"
      ]
     },
     "execution_count": 146,
     "metadata": {},
     "output_type": "execute_result"
    }
   ],
   "source": [
    "grad_b.shape"
   ]
  },
  {
   "cell_type": "code",
   "execution_count": 181,
   "id": "a54233c4-f76b-4b75-9995-adbcb9fb7b92",
   "metadata": {},
   "outputs": [
    {
     "data": {
      "text/plain": [
       "DeviceArray([[ 1.378212  , -0.49609375,  0.812788  , -3.0998955 ,\n",
       "              -0.19584656,  0.26005173,  0.15979767, -0.8566284 ,\n",
       "               0.4294176 , -2.0637274 ,  0.19683361,  1.0099468 ,\n",
       "              -0.1892662 ,  0.48405075,  0.40651703, -0.54350567,\n",
       "               1.4276905 ,  1.3063717 ,  1.4536829 ,  0.15480232,\n",
       "               0.5621462 ,  1.5493097 ,  0.23080063, -0.24594855,\n",
       "               0.9988923 , -0.21640015, -0.45181084, -0.48373604,\n",
       "               0.8019762 , -0.252491  , -0.15877151, -0.6894202 ,\n",
       "              -1.088604  , -0.01202965,  0.8473339 ,  1.0710192 ,\n",
       "              -0.951951  , -0.58827305,  1.0303276 , -0.51822853,\n",
       "               0.643723  , -1.71943   , -1.3337193 ,  1.8875566 ,\n",
       "               0.2463584 , -1.3588821 ,  1.7473927 ,  0.52288437,\n",
       "               0.38111925,  0.00703621,  0.37672305, -0.40361595,\n",
       "               0.86130714, -0.47414494, -0.33787394,  1.5089891 ,\n",
       "              -0.4066884 , -1.4085906 ,  1.3592343 , -0.86736006]],            dtype=float32)"
      ]
     },
     "execution_count": 181,
     "metadata": {},
     "output_type": "execute_result"
    }
   ],
   "source": [
    "b"
   ]
  },
  {
   "cell_type": "code",
   "execution_count": 182,
   "id": "b8b91915-8662-452b-9825-d6590cf80ea3",
   "metadata": {},
   "outputs": [
    {
     "data": {
      "text/plain": [
       "DeviceArray([[ 0.4691059 , -0.35460585, -0.13519537, -0.19079077,\n",
       "              -0.6443812 , -0.3548476 , -0.5211461 , -0.20242909,\n",
       "               0.22672258, -0.0388618 , -0.21366069,  0.16554427,\n",
       "               0.30581284, -0.01081845, -0.27769393, -0.03908242,\n",
       "               0.19355495, -0.1263751 , -0.7493019 , -0.2476453 ,\n",
       "               0.17179763, -0.11948915, -0.0958595 , -0.16789167,\n",
       "               0.20092818,  0.0983468 , -0.10542825,  0.04677039,\n",
       "               0.392994  , -0.36902148, -0.06080228,  0.07817657,\n",
       "               0.61689806,  0.31145984,  0.04440007,  0.24766628,\n",
       "               0.34194323, -0.3789889 ,  0.15546241, -0.1071243 ,\n",
       "               0.1113968 ,  0.06219959, -0.12430082, -0.03111179,\n",
       "               0.23171267,  0.14727291,  0.03877341, -0.01705545,\n",
       "               0.24638191,  0.00795618, -0.18566239,  0.04057118,\n",
       "               0.0269397 ,  0.04773086,  0.06547268,  0.0278327 ,\n",
       "              -0.01177213, -0.04137278,  0.00684687, -0.00428703]],            dtype=float32)"
      ]
     },
     "execution_count": 182,
     "metadata": {},
     "output_type": "execute_result"
    }
   ],
   "source": [
    "grad_b"
   ]
  },
  {
   "cell_type": "markdown",
   "id": "4c1150ce-ecdb-4db7-929b-f7d1263ed6ce",
   "metadata": {},
   "source": [
    "## Check against real basis"
   ]
  },
  {
   "cell_type": "code",
   "execution_count": 183,
   "id": "2009222a-c730-42c4-a24d-7ac7d6253ec4",
   "metadata": {},
   "outputs": [
    {
     "data": {
      "text/plain": [
       "array([0.4560023 , 0.46070176, 0.51945   , 0.8075636 , 0.79830307,\n",
       "       0.61846584, 0.34165213, 0.6164688 , 0.5943088 , 0.52688843,\n",
       "       0.5007295 , 0.3256458 , 0.4871669 , 0.7847342 , 0.78218645,\n",
       "       0.56003726, 0.412786  , 0.27297568, 0.6063342 , 0.89033604,\n",
       "       0.9347085 , 0.6885905 , 0.5037282 , 0.41324767, 0.7069587 ,\n",
       "       0.98782015, 1.058924  , 0.7886124 , 0.62219805, 0.5632615 ,\n",
       "       0.4344573 , 0.24898455, 0.41706803, 0.88267994, 1.011613  ,\n",
       "       0.80445266, 0.14210428, 0.43692303, 0.42862055, 0.4967966 ,\n",
       "       0.6531093 , 0.46069333, 0.39157537, 0.78883934, 0.7804333 ,\n",
       "       0.31334093, 0.31727478, 0.14156695, 0.72562355, 1.0343187 ,\n",
       "       1.1165614 , 0.7381289 , 0.542327  , 0.4451287 , 0.8608167 ,\n",
       "       1.1406994 , 1.2585881 , 0.8938844 , 0.7391427 , 0.65815336],\n",
       "      dtype=float32)"
      ]
     },
     "execution_count": 183,
     "metadata": {},
     "output_type": "execute_result"
    }
   ],
   "source": [
    "basis[0]"
   ]
  },
  {
   "cell_type": "code",
   "execution_count": 185,
   "id": "fac97261-8e65-45e3-bd13-4eb11ff1bbbe",
   "metadata": {},
   "outputs": [
    {
     "data": {
      "text/plain": [
       "array([ 1.37821821, -0.49609239,  0.81279608, -3.09990368, -0.19587522,\n",
       "        0.26004498,  0.15979475, -0.85663883,  0.42941911, -2.06373256,\n",
       "        0.19684513,  1.00995129, -0.18927458,  0.48405071,  0.40652237,\n",
       "       -0.54351219,  1.42769509,  1.30637371,  1.45368437,  0.15480035,\n",
       "        0.56213575,  1.54930463,  0.23079227, -0.24594474,  0.99888849,\n",
       "       -0.21639872, -0.45181449, -0.48373528,  0.80197443, -0.25249172,\n",
       "       -0.15877353, -0.68942067, -1.08860814, -0.0120296 ,  0.84733152,\n",
       "        1.07101815, -0.95195011, -0.58827079,  1.03032789, -0.51822927,\n",
       "        0.64372218, -1.71942967, -1.33371903,  1.8875552 ,  0.24635891,\n",
       "       -1.35888396,  1.74739327,  0.52288373,  0.38111886,  0.00703597,\n",
       "        0.37672264, -0.40361513,  0.86130797, -0.47414541, -0.33787368,\n",
       "        1.50898937, -0.40668842, -1.40859056,  1.35923441, -0.8673601 ])"
      ]
     },
     "execution_count": 185,
     "metadata": {},
     "output_type": "execute_result"
    }
   ],
   "source": [
    "ortho_b = (basis @ coeff_v2)\n",
    "ortho_b[0]"
   ]
  },
  {
   "cell_type": "code",
   "execution_count": 166,
   "id": "6712f3d9-c1ba-4bc0-8e42-3806706bf8e3",
   "metadata": {},
   "outputs": [
    {
     "data": {
      "text/plain": [
       "<matplotlib.collections.PathCollection at 0x7fed39b3f9d0>"
      ]
     },
     "execution_count": 166,
     "metadata": {},
     "output_type": "execute_result"
    },
    {
     "data": {
      "image/png": "[encoded data removed]",
      "text/plain": [
       "<Figure size 450x450 with 1 Axes>"
      ]
     },
     "metadata": {
      "needs_background": "light"
     },
     "output_type": "display_data"
    }
   ],
   "source": [
    "plt.scatter(cv_arr[inds,0], cv_arr[inds, 1], c=smooth[inds], alpha=0.2, cmap=cm_seq)"
   ]
  },
  {
   "cell_type": "code",
   "execution_count": 167,
   "id": "ee3da2ac-1a11-4d3d-9ae6-fea3624a87d7",
   "metadata": {},
   "outputs": [],
   "source": [
    "basisF_arr = smooth * sb_arr\n",
    "basisF = []\n",
    "curr = 0\n",
    "traj_lens = [len(t) for t in cv_trajs]\n",
    "for t_len in traj_lens:\n",
    "    basisF.append(basisF_arr[curr : curr + t_len])\n",
    "    curr += t_len"
   ]
  },
  {
   "cell_type": "code",
   "execution_count": 170,
   "id": "73730e26-96cb-42dd-9a8a-54cade7ad1e0",
   "metadata": {},
   "outputs": [],
   "source": [
    "basis_d = util.orthogonalize(basisF, weights[0])\n",
    "# basis_d = ortho_jit(np.concatenate(basisF), np.concatenate(weights[0]))"
   ]
  },
  {
   "cell_type": "code",
   "execution_count": 171,
   "id": "ef157ec0-bc5e-432b-ae40-7a1f7cb0c29a",
   "metadata": {},
   "outputs": [
    {
     "data": {
      "text/plain": [
       "array([ 1.37821821, -0.49609239,  0.81279608, -3.09990368, -0.19587522,\n",
       "        0.26004498,  0.15979475, -0.85663883,  0.42941911, -2.06373256,\n",
       "        0.19684513,  1.00995129, -0.18927458,  0.48405071,  0.40652237,\n",
       "       -0.54351219,  1.42769509,  1.30637371,  1.45368437,  0.15480035,\n",
       "        0.56213575,  1.54930463,  0.23079227, -0.24594474,  0.99888849,\n",
       "       -0.21639872, -0.45181449, -0.48373528,  0.80197443, -0.25249172,\n",
       "       -0.15877353, -0.68942067, -1.08860814, -0.0120296 ,  0.84733152,\n",
       "        1.07101815, -0.95195011, -0.58827079,  1.03032789, -0.51822927,\n",
       "        0.64372218, -1.71942967, -1.33371903,  1.8875552 ,  0.24635891,\n",
       "       -1.35888396,  1.74739327,  0.52288373,  0.38111886,  0.00703597,\n",
       "        0.37672264, -0.40361513,  0.86130797, -0.47414541, -0.33787368,\n",
       "        1.50898937, -0.40668842, -1.40859056,  1.35923441, -0.8673601 ])"
      ]
     },
     "execution_count": 171,
     "metadata": {},
     "output_type": "execute_result"
    }
   ],
   "source": [
    "basis_d[0][0]"
   ]
  },
  {
   "cell_type": "code",
   "execution_count": 175,
   "id": "f471a18f-836d-4951-b3d3-3f59435a380b",
   "metadata": {},
   "outputs": [],
   "source": [
    "def orthogonalize(basis, pi):\n",
    "    numer = 0\n",
    "    denom = 0\n",
    "    for b, p in zip(basis, pi):\n",
    "        numer += np.einsum(\"m,mi,mj->ij\", p, b, b)\n",
    "        denom += np.sum(p)\n",
    "    evals, evecs = scipy.linalg.eigh(numer / denom)\n",
    "    coeffs = evecs / np.sqrt(evals)[None, :]\n",
    "    return coeffs"
   ]
  },
  {
   "cell_type": "code",
   "execution_count": 176,
   "id": "fabcd002-d6a0-43b0-97f7-64134b876f54",
   "metadata": {},
   "outputs": [],
   "source": [
    "coeff_v2 = orthogonalize(basisF, weights[0])"
   ]
  },
  {
   "cell_type": "code",
   "execution_count": 177,
   "id": "768e75e8-92c2-46ed-b698-c91152831c77",
   "metadata": {},
   "outputs": [
    {
     "data": {
      "text/plain": [
       "array([[-7.75815725e-01,  2.72481816e+01, -1.14793715e+01, ...,\n",
       "        -1.29710829e-02, -1.23050271e-01, -2.22061586e-02],\n",
       "       [-5.31095368e-01, -2.88699831e+01,  1.39164503e+00, ...,\n",
       "         2.29537552e-01, -7.70634415e-02, -1.90278767e-02],\n",
       "       [-2.82506291e+01,  1.93853133e+01, -2.20827818e+01, ...,\n",
       "         2.05706419e-03, -3.34083331e-02, -2.08484552e-02],\n",
       "       ...,\n",
       "       [-1.63434460e+00,  6.39295338e+00,  4.84930703e+00, ...,\n",
       "        -4.77709892e-01,  1.85601778e-01, -2.05028440e-02],\n",
       "       [-3.68888258e-01, -3.49870644e+00, -5.53048316e+00, ...,\n",
       "        -8.62340135e-01,  1.01509922e-01, -1.41377821e-02],\n",
       "       [ 2.41119881e+00,  2.04148477e+00,  5.00465490e+00, ...,\n",
       "        -5.54403945e-01,  1.86802337e-01, -1.18745385e-02]])"
      ]
     },
     "execution_count": 177,
     "metadata": {},
     "output_type": "execute_result"
    }
   ],
   "source": [
    "coeff_v2"
   ]
  },
  {
   "cell_type": "code",
   "execution_count": null,
   "id": "1e2b42c6-3ba2-45e0-ba37-777a3879e9bb",
   "metadata": {},
   "outputs": [],
   "source": [
    "np.save(\"../data/feat2_dist_"
   ]
  },
  {
   "cell_type": "markdown",
   "id": "40107386-1106-4ac0-a148-c8b136bcb7c0",
   "metadata": {},
   "source": [
    "## JVP"
   ]
  },
  {
   "cell_type": "code",
   "execution_count": 223,
   "id": "da19c8cc-4ef8-4d25-a8b1-76a5ce923489",
   "metadata": {},
   "outputs": [],
   "source": [
    "def jvp(xs, v):\n",
    "    return jax.jvp(compute_basis, (xs,), (v,))"
   ]
  },
  {
   "cell_type": "code",
   "execution_count": 250,
   "id": "52ebf02f-6512-4724-9cae-fa96ab78474a",
   "metadata": {},
   "outputs": [],
   "source": [
    "x = sb_arr[0]\n",
    "v = np.squeeze(qp_coeffs[0])\n",
    "b, grad_b = jvp(x, v)"
   ]
  },
  {
   "cell_type": "code",
   "execution_count": 251,
   "id": "ed7e888a-ef3e-4dfb-9b39-14eafc931458",
   "metadata": {},
   "outputs": [
    {
     "data": {
      "text/plain": [
       "DeviceArray([[ 1.378212  , -0.49609375,  0.812788  , -3.0998955 ,\n",
       "              -0.19584656,  0.26005173,  0.15979767, -0.8566284 ,\n",
       "               0.4294176 , -2.0637274 ,  0.19683361,  1.0099468 ,\n",
       "              -0.1892662 ,  0.48405075,  0.40651703, -0.54350567,\n",
       "               1.4276905 ,  1.3063717 ,  1.4536829 ,  0.15480232,\n",
       "               0.5621462 ,  1.5493097 ,  0.23080063, -0.24594855,\n",
       "               0.9988923 , -0.21640015, -0.45181084, -0.48373604,\n",
       "               0.8019762 , -0.252491  , -0.15877151, -0.6894202 ,\n",
       "              -1.088604  , -0.01202965,  0.8473339 ,  1.0710192 ,\n",
       "              -0.951951  , -0.58827305,  1.0303276 , -0.51822853,\n",
       "               0.643723  , -1.71943   , -1.3337193 ,  1.8875566 ,\n",
       "               0.2463584 , -1.3588821 ,  1.7473927 ,  0.52288437,\n",
       "               0.38111925,  0.00703621,  0.37672305, -0.40361595,\n",
       "               0.86130714, -0.47414494, -0.33787394,  1.5089891 ,\n",
       "              -0.4066884 , -1.4085906 ,  1.3592343 , -0.86736006]],            dtype=float32)"
      ]
     },
     "execution_count": 251,
     "metadata": {},
     "output_type": "execute_result"
    }
   ],
   "source": [
    "b"
   ]
  },
  {
   "cell_type": "code",
   "execution_count": 252,
   "id": "8a123534-e638-4baa-add5-5ac538c364af",
   "metadata": {},
   "outputs": [
    {
     "data": {
      "text/plain": [
       "DeviceArray([[ 0.4691059 , -0.35460585, -0.13519537, -0.19079077,\n",
       "              -0.6443812 , -0.3548476 , -0.5211461 , -0.20242909,\n",
       "               0.22672258, -0.0388618 , -0.21366069,  0.16554427,\n",
       "               0.30581284, -0.01081845, -0.27769393, -0.03908242,\n",
       "               0.19355495, -0.1263751 , -0.7493019 , -0.2476453 ,\n",
       "               0.17179763, -0.11948915, -0.0958595 , -0.16789167,\n",
       "               0.20092818,  0.0983468 , -0.10542825,  0.04677039,\n",
       "               0.392994  , -0.36902148, -0.06080228,  0.07817657,\n",
       "               0.61689806,  0.31145984,  0.04440007,  0.24766628,\n",
       "               0.34194323, -0.3789889 ,  0.15546241, -0.1071243 ,\n",
       "               0.1113968 ,  0.06219959, -0.12430082, -0.03111179,\n",
       "               0.23171267,  0.14727291,  0.03877341, -0.01705545,\n",
       "               0.24638191,  0.00795618, -0.18566239,  0.04057118,\n",
       "               0.0269397 ,  0.04773086,  0.06547268,  0.0278327 ,\n",
       "              -0.01177213, -0.04137278,  0.00684687, -0.00428703]],            dtype=float32)"
      ]
     },
     "execution_count": 252,
     "metadata": {},
     "output_type": "execute_result"
    }
   ],
   "source": [
    "grad_b"
   ]
  },
  {
   "cell_type": "code",
   "execution_count": null,
   "id": "e8228af2-25a9-460b-b6da-a3c8196c9459",
   "metadata": {},
   "outputs": [],
   "source": [
    "def jvp_vec(xs, v):\n",
    "    ans = np.zeros(N)\n",
    "    ans_grad = np.zeros(N)\n",
    "    for i, x in enumerate(xs):\n",
    "        b, grad_b = jax.jvp(compute_basis, (x,), (v,))\n",
    "        ans[i] = "
   ]
  },
  {
   "cell_type": "code",
   "execution_count": 224,
   "id": "6b75d010-8ed4-4dcd-8c41-e61193065426",
   "metadata": {},
   "outputs": [],
   "source": [
    "# vectorized over multiple points\n",
    "jvp_vmap = vmap(jvp, in_axes=(0, None))\n",
    "jvp_vmap_jit = jit(jvp_vmap, backend='cpu')"
   ]
  },
  {
   "cell_type": "code",
   "execution_count": 230,
   "id": "00a519ea-12e7-4737-a51b-da4607adf346",
   "metadata": {},
   "outputs": [],
   "source": [
    "xs = sb_arr[:5000]\n",
    "v = np.squeeze(qp_coeffs[0])\n",
    "bs, grad_bs = jvp_vmap_jit(xs, v)"
   ]
  },
  {
   "cell_type": "code",
   "execution_count": 231,
   "id": "f19c57a3-3b00-4c02-a53c-e8cbbad1dff7",
   "metadata": {},
   "outputs": [
    {
     "data": {
      "text/plain": [
       "(5000, 1, 60)"
      ]
     },
     "execution_count": 231,
     "metadata": {},
     "output_type": "execute_result"
    }
   ],
   "source": [
    "bs.shape"
   ]
  },
  {
   "cell_type": "code",
   "execution_count": 232,
   "id": "7d4ce436-53d5-4426-83e0-e02e43b1a2f6",
   "metadata": {},
   "outputs": [
    {
     "data": {
      "text/plain": [
       "(5000, 1, 60)"
      ]
     },
     "execution_count": 232,
     "metadata": {},
     "output_type": "execute_result"
    }
   ],
   "source": [
    "grad_bs.shape"
   ]
  },
  {
   "cell_type": "code",
   "execution_count": 233,
   "id": "ac5ac249-9a26-46ac-9650-1f736e8275c8",
   "metadata": {},
   "outputs": [
    {
     "data": {
      "text/plain": [
       "DeviceArray([ 1.3782014 , -0.49609587,  0.8127887 , -3.0999033 ,\n",
       "             -0.19588509,  0.26004666,  0.15979852, -0.8566379 ,\n",
       "              0.4294194 , -2.063728  ,  0.19683753,  1.0099556 ,\n",
       "             -0.1892759 ,  0.4840504 ,  0.40651965, -0.54350734,\n",
       "              1.4276904 ,  1.3063755 ,  1.4536827 ,  0.15479833,\n",
       "              0.56213635,  1.5493093 ,  0.23079307, -0.2459463 ,\n",
       "              0.9988867 , -0.21639982, -0.45181465, -0.4837359 ,\n",
       "              0.80197394, -0.252492  , -0.1587745 , -0.68941903,\n",
       "             -1.0886036 , -0.01202985,  0.84733367,  1.0710179 ,\n",
       "             -0.95195115, -0.58827007,  1.0303279 , -0.51823175,\n",
       "              0.6437239 , -1.7194295 , -1.3337195 ,  1.8875563 ,\n",
       "              0.24635896, -1.3588858 ,  1.7473947 ,  0.52288455,\n",
       "              0.38111684,  0.00703439,  0.37672135, -0.40361384,\n",
       "              0.8613079 , -0.4741453 , -0.3378738 ,  1.5089891 ,\n",
       "             -0.40668806, -1.4085907 ,  1.3592345 , -0.86736023],            dtype=float32)"
      ]
     },
     "execution_count": 233,
     "metadata": {},
     "output_type": "execute_result"
    }
   ],
   "source": [
    "np.squeeze(bs[0])"
   ]
  },
  {
   "cell_type": "code",
   "execution_count": 234,
   "id": "cb61e7f9-bd72-4f26-9615-70e5d58b78c0",
   "metadata": {},
   "outputs": [
    {
     "data": {
      "text/plain": [
       "DeviceArray([[ 0.46910593, -0.3546058 , -0.13519542, -0.19079095,\n",
       "              -0.6443812 , -0.35484767, -0.5211461 , -0.20242913,\n",
       "               0.22672264, -0.03886179, -0.21366067,  0.16554433,\n",
       "               0.3058129 , -0.01081841, -0.27769396, -0.03908243,\n",
       "               0.19355495, -0.12637505, -0.7493019 , -0.24764533,\n",
       "               0.17179763, -0.11948919, -0.0958595 , -0.16789171,\n",
       "               0.20092817,  0.09834678, -0.10542825,  0.04677038,\n",
       "               0.39299387, -0.3690215 , -0.06080226,  0.07817658,\n",
       "               0.61689806,  0.31145987,  0.0444001 ,  0.24766631,\n",
       "               0.34194326, -0.37898892,  0.15546243, -0.10712429,\n",
       "               0.1113968 ,  0.06219957, -0.12430078, -0.03111181,\n",
       "               0.23171265,  0.14727296,  0.03877344, -0.01705545,\n",
       "               0.2463819 ,  0.00795619, -0.1856624 ,  0.04057118,\n",
       "               0.02693968,  0.04773086,  0.06547269,  0.0278327 ,\n",
       "              -0.01177213, -0.04137278,  0.00684687, -0.00428703]],            dtype=float32)"
      ]
     },
     "execution_count": 234,
     "metadata": {},
     "output_type": "execute_result"
    }
   ],
   "source": [
    "grad_bs[0]"
   ]
  },
  {
   "cell_type": "code",
   "execution_count": 257,
   "id": "3324c8d2-3ebf-40bb-a55c-249dc9ac8a1f",
   "metadata": {},
   "outputs": [],
   "source": [
    "q = np.squeeze(bs[0]) @ qp_coeffs[0] + guess_up[:5000]"
   ]
  },
  {
   "cell_type": "code",
   "execution_count": 260,
   "id": "931d7f1a-8d1d-4045-b3ac-e17dbdf7fd56",
   "metadata": {},
   "outputs": [
    {
     "data": {
      "text/plain": [
       "(5000, 1)"
      ]
     },
     "execution_count": 260,
     "metadata": {},
     "output_type": "execute_result"
    }
   ],
   "source": [
    "q.shape"
   ]
  },
  {
   "cell_type": "markdown",
   "id": "ce08f436-26b0-45da-a0fb-1f9d1643bcec",
   "metadata": {},
   "source": [
    "## VJP"
   ]
  },
  {
   "cell_type": "code",
   "execution_count": 264,
   "id": "326542be-d9e7-4441-b6df-f48ceabedb5e",
   "metadata": {},
   "outputs": [
    {
     "data": {
      "text/plain": [
       "(1, 60)"
      ]
     },
     "execution_count": 264,
     "metadata": {},
     "output_type": "execute_result"
    }
   ],
   "source": [
    "b.shape"
   ]
  },
  {
   "cell_type": "code",
   "execution_count": 320,
   "id": "0e9c4179-969f-4d04-8764-aef9955f6fa0",
   "metadata": {},
   "outputs": [],
   "source": [
    "xs = sb_arr[:10]\n",
    "x = sb_arr[0]\n",
    "v = qp_coeffs[0]\n",
    "# b, vjp_fun = jax.vjp(compute_basis, x)\n",
    "b, vjp_fun = jax.vjp(compute_basis, xs)\n",
    "# grad_b = vjp_fun(v.T)\n",
    "grad_b = vjp_fun(np.tile(v, 10).T)"
   ]
  },
  {
   "cell_type": "code",
   "execution_count": 319,
   "id": "8d6310e0-6797-4c88-8642-a4d74a168bd4",
   "metadata": {},
   "outputs": [
    {
     "data": {
      "text/plain": [
       "(60, 10)"
      ]
     },
     "execution_count": 319,
     "metadata": {},
     "output_type": "execute_result"
    }
   ],
   "source": [
    "np.tile(v, 10).shape"
   ]
  },
  {
   "cell_type": "code",
   "execution_count": 317,
   "id": "62b1b740-43b9-44c0-81f2-897e64ddbd3e",
   "metadata": {},
   "outputs": [
    {
     "data": {
      "text/plain": [
       "DeviceArray([ 1.3782017 , -0.49612898,  0.812793  , -3.0999036 ,\n",
       "             -0.19587183,  0.26004362,  0.15979624, -0.8566439 ,\n",
       "              0.4294201 , -2.0637293 ,  0.19683301,  1.0099432 ,\n",
       "             -0.1892685 ,  0.4840455 ,  0.4065199 , -0.5435059 ,\n",
       "              1.42769   ,  1.3063639 ,  1.4536858 ,  0.15480018,\n",
       "              0.56214285,  1.5493097 ,  0.23079205, -0.24594223,\n",
       "              0.99888706, -0.21639633, -0.4518137 , -0.48373413,\n",
       "              0.80197585, -0.2524886 , -0.15877461, -0.6894202 ,\n",
       "             -1.088606  , -0.01202965,  0.84733224,  1.0710193 ,\n",
       "             -0.9519501 , -0.58827186,  1.0303272 , -0.5182276 ,\n",
       "              0.64372396, -1.7194304 , -1.3337188 ,  1.8875566 ,\n",
       "              0.24635923, -1.3588809 ,  1.7473927 ,  0.52288496,\n",
       "              0.38111877,  0.00703573,  0.37672275, -0.40361786,\n",
       "              0.8613081 , -0.47414422, -0.33787382,  1.5089891 ,\n",
       "             -0.40668833, -1.4085906 ,  1.3592343 , -0.86736006],            dtype=float32)"
      ]
     },
     "execution_count": 317,
     "metadata": {},
     "output_type": "execute_result"
    }
   ],
   "source": [
    "b[0]"
   ]
  },
  {
   "cell_type": "code",
   "execution_count": 324,
   "id": "f356c745-6367-4c29-90e4-4277f6c536f9",
   "metadata": {},
   "outputs": [
    {
     "data": {
      "text/plain": [
       "(10, 60)"
      ]
     },
     "execution_count": 324,
     "metadata": {},
     "output_type": "execute_result"
    }
   ],
   "source": [
    "grad_b[0].shape"
   ]
  },
  {
   "cell_type": "code",
   "execution_count": 325,
   "id": "d7e9a164-34ff-40d9-b749-1ed52ceb6a27",
   "metadata": {},
   "outputs": [
    {
     "data": {
      "text/plain": [
       "DeviceArray([-0.09353219,  0.04522399, -0.00898218,  0.00419281,\n",
       "              0.00542474,  0.01667881, -0.06684671,  0.06184518,\n",
       "              0.00113265,  0.024689  ,  0.0128451 , -0.06022443,\n",
       "              0.14965126, -0.21895395,  0.14108609, -0.17071688,\n",
       "              0.01487867, -0.00596779,  0.02385276,  0.06597949,\n",
       "             -0.11931064,  0.02965443, -0.17589791,  0.17326443,\n",
       "             -0.02789547,  0.06776278, -0.05184041,  0.06802508,\n",
       "              0.10152201, -0.13517149,  0.04724414, -0.03149018,\n",
       "              0.00514267, -0.02886754,  0.00296689,  0.00222514,\n",
       "             -0.01721734,  0.06973054,  0.01050893,  0.04883461,\n",
       "             -0.02902395,  0.0480562 ,  0.06440001, -0.05057526,\n",
       "             -0.00632777, -0.04694576,  0.04292441, -0.10102909,\n",
       "             -0.06701802,  0.00923637,  0.00539267,  0.07316626,\n",
       "             -0.06700827,  0.05953629, -0.0024897 ,  0.05991712,\n",
       "              0.03320385, -0.00112331,  0.07556533, -0.02500193],            dtype=float32)"
      ]
     },
     "execution_count": 325,
     "metadata": {},
     "output_type": "execute_result"
    }
   ],
   "source": [
    "grad_b[0][0]"
   ]
  },
  {
   "cell_type": "code",
   "execution_count": null,
   "id": "32956441-1c32-44a5-bbd2-84b9392d4c91",
   "metadata": {},
   "outputs": [],
   "source": [
    "vjp_vmap = vmap(vjp_fun, in_axes=(0"
   ]
  },
  {
   "cell_type": "code",
   "execution_count": null,
   "id": "dda6b903-ea9d-4927-842f-eaa7028c7d6d",
   "metadata": {},
   "outputs": [],
   "source": [
    "vjp_vmap = vmap(vjp_fun)\n",
    "grad_b = vjp_vmap(v[None,:])"
   ]
  },
  {
   "cell_type": "code",
   "execution_count": 288,
   "id": "9a1157aa-3189-440a-845f-b581b97b6b08",
   "metadata": {},
   "outputs": [],
   "source": [
    "def vectorize_vjp(xs, v, length=10):\n",
    "    ans = np.zeros((length, 60))\n",
    "    ans_grad = np.zeros((length, 60))\n",
    "    for i, x in enumerate(xs):\n",
    "        b, vjp_fun = jax.vjp(compute_basis, x)\n",
    "        ans[i] = b\n",
    "        ans_grad[i] = vjp_fun(v)\n",
    "\n",
    "jitted_vjp = jit(vectorize_vjp, static_argnames='length', backend='cpu')"
   ]
  },
  {
   "cell_type": "markdown",
   "id": "82aa1c25-dfdd-436a-95c9-34ea8594ff70",
   "metadata": {},
   "source": [
    "### vjp all"
   ]
  },
  {
   "cell_type": "code",
   "execution_count": 311,
   "id": "7ddcd277-caaf-4a99-8e58-09f8d90c0709",
   "metadata": {},
   "outputs": [],
   "source": [
    "# jitted_vjp(xs, v.T, 10)\n",
    "xs = sb_trajs[0]\n",
    "ans = np.zeros_like(xs)\n",
    "ans_grad = np.zeros_like(xs)\n",
    "for i, x in enumerate(xs):\n",
    "    b, vjp_fun = jax.vjp(compute_basis, x)\n",
    "    ans[i] = b\n",
    "    ans_grad[i] = np.squeeze(vjp_fun(v.T))"
   ]
  },
  {
   "cell_type": "code",
   "execution_count": 306,
   "id": "3698db86-965e-4148-9c15-dad47c3a0ee8",
   "metadata": {},
   "outputs": [
    {
     "data": {
      "text/plain": [
       "array([-0.09353219,  0.04522398, -0.00898217,  0.00419282,  0.00542473,\n",
       "        0.01667879, -0.0668467 ,  0.06184519,  0.00113265,  0.02468899,\n",
       "        0.01284509, -0.06022444,  0.14965126, -0.21895397,  0.14108607,\n",
       "       -0.17071687,  0.01487867, -0.00596777,  0.02385276,  0.0659795 ,\n",
       "       -0.11931062,  0.02965443, -0.17589794,  0.17326443, -0.02789548,\n",
       "        0.0677628 , -0.05184042,  0.06802508,  0.10152201, -0.13517147,\n",
       "        0.04724414, -0.03149018,  0.00514267, -0.02886754,  0.00296689,\n",
       "        0.00222515, -0.01721734,  0.06973055,  0.01050893,  0.0488346 ,\n",
       "       -0.02902395,  0.0480562 ,  0.06440001, -0.05057523, -0.00632778,\n",
       "       -0.04694575,  0.04292441, -0.10102909, -0.06701802,  0.00923637,\n",
       "        0.00539267,  0.07316625, -0.06700827,  0.05953629, -0.0024897 ,\n",
       "        0.05991712,  0.03320384, -0.00112332,  0.07556532, -0.02500193],\n",
       "      dtype=float32)"
      ]
     },
     "execution_count": 306,
     "metadata": {},
     "output_type": "execute_result"
    }
   ],
   "source": [
    "ans_grad[0]"
   ]
  },
  {
   "cell_type": "code",
   "execution_count": 312,
   "id": "093fa57b-f088-48eb-84c6-93b6bfcbe057",
   "metadata": {},
   "outputs": [
    {
     "data": {
      "text/plain": [
       "(10000, 60)"
      ]
     },
     "execution_count": 312,
     "metadata": {},
     "output_type": "execute_result"
    }
   ],
   "source": [
    "ans.shape"
   ]
  },
  {
   "cell_type": "code",
   "execution_count": 313,
   "id": "c5068479-7a46-4196-b48a-2c7616bc3d67",
   "metadata": {},
   "outputs": [
    {
     "data": {
      "text/plain": [
       "(10000, 60)"
      ]
     },
     "execution_count": 313,
     "metadata": {},
     "output_type": "execute_result"
    }
   ],
   "source": [
    "ans_grad.shape"
   ]
  },
  {
   "cell_type": "code",
   "execution_count": 328,
   "id": "1bc2cfc9-efdc-4fc1-bd8c-fcbdb0a33df9",
   "metadata": {},
   "outputs": [
    {
     "name": "stderr",
     "output_type": "stream",
     "text": [
      "2022-03-31 11:45:09.382010: W external/org_tensorflow/tensorflow/core/common_runtime/bfc_allocator.cc:479] Allocator (GPU_0_bfc) ran out of memory trying to allocate 16.92GiB (rounded to 18168960000)requested by op \n",
      "2022-03-31 11:45:09.382291: W external/org_tensorflow/tensorflow/core/common_runtime/bfc_allocator.cc:491] *_*******************************************************___________________________________________\n",
      "2022-03-31 11:45:09.382357: E external/org_tensorflow/tensorflow/compiler/xla/pjrt/pjrt_stream_executor_client.cc:2140] Execution of replica 0 failed: RESOURCE_EXHAUSTED: Out of memory while trying to allocate 18168960000 bytes.\n",
      "BufferAssignment OOM Debugging.\n",
      "BufferAssignment stats:\n",
      "             parameter allocation:   16.92GiB\n",
      "              constant allocation:         0B\n",
      "        maybe_live_out allocation:   17.48GiB\n",
      "     preallocated temp allocation:        16B\n",
      "                 total allocation:   34.41GiB\n",
      "              total fragmentation:        28B (0.00%)\n",
      "Peak buffers:\n",
      "\tBuffer 1:\n",
      "\t\tSize: 16.92GiB\n",
      "\t\tEntry Parameter Subshape: f32[2000,37852,60]\n",
      "\t\t==========================\n",
      "\n",
      "\tBuffer 2:\n",
      "\t\tSize: 16.92GiB\n",
      "\t\tXLA Label: copy\n",
      "\t\tShape: f32[2000,37852,60]\n",
      "\t\t==========================\n",
      "\n",
      "\tBuffer 3:\n",
      "\t\tSize: 288.79MiB\n",
      "\t\tOperator: op_name=\"jit(jvp(norm))/jit(main)/div\" source_file=\"/scratch/local/jobs/3748629/ipykernel_3900620/939008017.py\" source_line=7\n",
      "\t\tXLA Label: fusion\n",
      "\t\tShape: f32[2000,37852]\n",
      "\t\t==========================\n",
      "\n",
      "\tBuffer 4:\n",
      "\t\tSize: 288.79MiB\n",
      "\t\tOperator: op_name=\"jit(jvp(norm))/jit(main)/div\" source_file=\"/scratch/local/jobs/3748629/ipykernel_3900620/939008017.py\" source_line=7\n",
      "\t\tXLA Label: fusion\n",
      "\t\tShape: f32[2000,37852]\n",
      "\t\t==========================\n",
      "\n",
      "\tBuffer 5:\n",
      "\t\tSize: 24B\n",
      "\t\tXLA Label: tuple\n",
      "\t\tShape: (f32[2000,37852], f32[2000,37852], f32[2000,37852,60])\n",
      "\t\t==========================\n",
      "\n",
      "\tBuffer 6:\n",
      "\t\tSize: 16B\n",
      "\t\tOperator: op_name=\"jit(jvp(norm))/jit(main)/div\" source_file=\"/scratch/local/jobs/3748629/ipykernel_3900620/939008017.py\" source_line=7\n",
      "\t\tXLA Label: fusion\n",
      "\t\tShape: (f32[2000,37852], f32[2000,37852])\n",
      "\t\t==========================\n",
      "\n",
      "\tBuffer 7:\n",
      "\t\tSize: 4B\n",
      "\t\tXLA Label: parameter\n",
      "\t\tShape: f32[]\n",
      "\t\t==========================\n",
      "\n",
      "\tBuffer 8:\n",
      "\t\tSize: 4B\n",
      "\t\tXLA Label: parameter\n",
      "\t\tShape: f32[]\n",
      "\t\t==========================\n",
      "\n",
      "\tBuffer 9:\n",
      "\t\tSize: 4B\n",
      "\t\tOperator: op_name=\"jit(jvp(norm))/jit(main)/reduce_sum[axes=(2,)]\" source_file=\"/scratch/local/jobs/3748629/ipykernel_3900620/939008017.py\" source_line=7\n",
      "\t\tXLA Label: add\n",
      "\t\tShape: f32[]\n",
      "\t\t==========================\n",
      "\n",
      "\n"
     ]
    },
    {
     "ename": "RuntimeError",
     "evalue": "RESOURCE_EXHAUSTED: Out of memory while trying to allocate 18168960000 bytes.\nBufferAssignment OOM Debugging.\nBufferAssignment stats:\n             parameter allocation:   16.92GiB\n              constant allocation:         0B\n        maybe_live_out allocation:   17.48GiB\n     preallocated temp allocation:        16B\n                 total allocation:   34.41GiB\n              total fragmentation:        28B (0.00%)\nPeak buffers:\n\tBuffer 1:\n\t\tSize: 16.92GiB\n\t\tEntry Parameter Subshape: f32[2000,37852,60]\n\t\t==========================\n\n\tBuffer 2:\n\t\tSize: 16.92GiB\n\t\tXLA Label: copy\n\t\tShape: f32[2000,37852,60]\n\t\t==========================\n\n\tBuffer 3:\n\t\tSize: 288.79MiB\n\t\tOperator: op_name=\"jit(jvp(norm))/jit(main)/div\" source_file=\"/scratch/local/jobs/3748629/ipykernel_3900620/939008017.py\" source_line=7\n\t\tXLA Label: fusion\n\t\tShape: f32[2000,37852]\n\t\t==========================\n\n\tBuffer 4:\n\t\tSize: 288.79MiB\n\t\tOperator: op_name=\"jit(jvp(norm))/jit(main)/div\" source_file=\"/scratch/local/jobs/3748629/ipykernel_3900620/939008017.py\" source_line=7\n\t\tXLA Label: fusion\n\t\tShape: f32[2000,37852]\n\t\t==========================\n\n\tBuffer 5:\n\t\tSize: 24B\n\t\tXLA Label: tuple\n\t\tShape: (f32[2000,37852], f32[2000,37852], f32[2000,37852,60])\n\t\t==========================\n\n\tBuffer 6:\n\t\tSize: 16B\n\t\tOperator: op_name=\"jit(jvp(norm))/jit(main)/div\" source_file=\"/scratch/local/jobs/3748629/ipykernel_3900620/939008017.py\" source_line=7\n\t\tXLA Label: fusion\n\t\tShape: (f32[2000,37852], f32[2000,37852])\n\t\t==========================\n\n\tBuffer 7:\n\t\tSize: 4B\n\t\tXLA Label: parameter\n\t\tShape: f32[]\n\t\t==========================\n\n\tBuffer 8:\n\t\tSize: 4B\n\t\tXLA Label: parameter\n\t\tShape: f32[]\n\t\t==========================\n\n\tBuffer 9:\n\t\tSize: 4B\n\t\tOperator: op_name=\"jit(jvp(norm))/jit(main)/reduce_sum[axes=(2,)]\" source_file=\"/scratch/local/jobs/3748629/ipykernel_3900620/939008017.py\" source_line=7\n\t\tXLA Label: add\n\t\tShape: f32[]\n\t\t==========================\n\n",
     "output_type": "error",
     "traceback": [
      "\u001b[0;31m---------------------------------------------------------------------------\u001b[0m",
      "\u001b[0;31mRuntimeError\u001b[0m                              Traceback (most recent call last)",
      "\u001b[0;32m/scratch/local/jobs/3748629/ipykernel_3900620/2678098841.py\u001b[0m in \u001b[0;36m<module>\u001b[0;34m\u001b[0m\n\u001b[1;32m      1\u001b[0m \u001b[0mxs\u001b[0m \u001b[0;34m=\u001b[0m \u001b[0msb_arr\u001b[0m\u001b[0;34m[\u001b[0m\u001b[0;34m:\u001b[0m\u001b[0;36m2000\u001b[0m\u001b[0;34m]\u001b[0m\u001b[0;34m\u001b[0m\u001b[0;34m\u001b[0m\u001b[0m\n\u001b[1;32m      2\u001b[0m \u001b[0mv\u001b[0m \u001b[0;34m=\u001b[0m \u001b[0mqp_coeffs\u001b[0m\u001b[0;34m[\u001b[0m\u001b[0;36m0\u001b[0m\u001b[0;34m]\u001b[0m\u001b[0;34m\u001b[0m\u001b[0;34m\u001b[0m\u001b[0m\n\u001b[0;32m----> 3\u001b[0;31m \u001b[0mb\u001b[0m\u001b[0;34m,\u001b[0m \u001b[0mvjp_fun\u001b[0m \u001b[0;34m=\u001b[0m \u001b[0mjax\u001b[0m\u001b[0;34m.\u001b[0m\u001b[0mvjp\u001b[0m\u001b[0;34m(\u001b[0m\u001b[0mcompute_basis\u001b[0m\u001b[0;34m,\u001b[0m \u001b[0mxs\u001b[0m\u001b[0;34m)\u001b[0m\u001b[0;34m\u001b[0m\u001b[0;34m\u001b[0m\u001b[0m\n\u001b[0m\u001b[1;32m      4\u001b[0m \u001b[0;31m# jitted_vjp_fun = jit(vjp_fun, backend='cpu')\u001b[0m\u001b[0;34m\u001b[0m\u001b[0;34m\u001b[0m\u001b[0m\n\u001b[1;32m      5\u001b[0m \u001b[0mgrad_b\u001b[0m \u001b[0;34m=\u001b[0m \u001b[0mvjp_fun\u001b[0m\u001b[0;34m(\u001b[0m\u001b[0mnp\u001b[0m\u001b[0;34m.\u001b[0m\u001b[0mtile\u001b[0m\u001b[0;34m(\u001b[0m\u001b[0mv\u001b[0m\u001b[0;34m,\u001b[0m \u001b[0mlen\u001b[0m\u001b[0;34m(\u001b[0m\u001b[0mxs\u001b[0m\u001b[0;34m)\u001b[0m\u001b[0;34m)\u001b[0m\u001b[0;34m.\u001b[0m\u001b[0mT\u001b[0m\u001b[0;34m)\u001b[0m\u001b[0;34m\u001b[0m\u001b[0;34m\u001b[0m\u001b[0m\n",
      "\u001b[0;32m/project/dinner/scguo/anaconda3/envs/py39/lib/python3.9/site-packages/jax/_src/api.py\u001b[0m in \u001b[0;36mvjp\u001b[0;34m(fun, has_aux, reduce_axes, *primals)\u001b[0m\n\u001b[1;32m   2397\u001b[0m   \u001b[0m_check_callable\u001b[0m\u001b[0;34m(\u001b[0m\u001b[0mfun\u001b[0m\u001b[0;34m)\u001b[0m\u001b[0;34m\u001b[0m\u001b[0;34m\u001b[0m\u001b[0m\n\u001b[1;32m   2398\u001b[0m   \u001b[0mreduce_axes\u001b[0m \u001b[0;34m=\u001b[0m \u001b[0m_ensure_str_tuple\u001b[0m\u001b[0;34m(\u001b[0m\u001b[0mreduce_axes\u001b[0m\u001b[0;34m)\u001b[0m\u001b[0;34m\u001b[0m\u001b[0;34m\u001b[0m\u001b[0m\n\u001b[0;32m-> 2399\u001b[0;31m   return _vjp(\n\u001b[0m\u001b[1;32m   2400\u001b[0m       lu.wrap_init(fun), *primals, has_aux=has_aux, reduce_axes=reduce_axes)\n\u001b[1;32m   2401\u001b[0m \u001b[0;34m\u001b[0m\u001b[0m\n",
      "\u001b[0;32m/project/dinner/scguo/anaconda3/envs/py39/lib/python3.9/site-packages/jax/_src/api.py\u001b[0m in \u001b[0;36m_vjp\u001b[0;34m(fun, has_aux, reduce_axes, *primals)\u001b[0m\n\u001b[1;32m   2406\u001b[0m   \u001b[0;32mif\u001b[0m \u001b[0;32mnot\u001b[0m \u001b[0mhas_aux\u001b[0m\u001b[0;34m:\u001b[0m\u001b[0;34m\u001b[0m\u001b[0;34m\u001b[0m\u001b[0m\n\u001b[1;32m   2407\u001b[0m     \u001b[0mflat_fun\u001b[0m\u001b[0;34m,\u001b[0m \u001b[0mout_tree\u001b[0m \u001b[0;34m=\u001b[0m \u001b[0mflatten_fun_nokwargs\u001b[0m\u001b[0;34m(\u001b[0m\u001b[0mfun\u001b[0m\u001b[0;34m,\u001b[0m \u001b[0min_tree\u001b[0m\u001b[0;34m)\u001b[0m\u001b[0;34m\u001b[0m\u001b[0;34m\u001b[0m\u001b[0m\n\u001b[0;32m-> 2408\u001b[0;31m     out_primal, out_vjp = ad.vjp(\n\u001b[0m\u001b[1;32m   2409\u001b[0m         flat_fun, primals_flat, reduce_axes=reduce_axes)\n\u001b[1;32m   2410\u001b[0m     \u001b[0mout_tree\u001b[0m \u001b[0;34m=\u001b[0m \u001b[0mout_tree\u001b[0m\u001b[0;34m(\u001b[0m\u001b[0;34m)\u001b[0m\u001b[0;34m\u001b[0m\u001b[0;34m\u001b[0m\u001b[0m\n",
      "\u001b[0;32m/project/dinner/scguo/anaconda3/envs/py39/lib/python3.9/site-packages/jax/interpreters/ad.py\u001b[0m in \u001b[0;36mvjp\u001b[0;34m(traceable, primals, has_aux, reduce_axes)\u001b[0m\n\u001b[1;32m    117\u001b[0m \u001b[0;32mdef\u001b[0m \u001b[0mvjp\u001b[0m\u001b[0;34m(\u001b[0m\u001b[0mtraceable\u001b[0m\u001b[0;34m,\u001b[0m \u001b[0mprimals\u001b[0m\u001b[0;34m,\u001b[0m \u001b[0mhas_aux\u001b[0m\u001b[0;34m=\u001b[0m\u001b[0;32mFalse\u001b[0m\u001b[0;34m,\u001b[0m \u001b[0mreduce_axes\u001b[0m\u001b[0;34m=\u001b[0m\u001b[0;34m(\u001b[0m\u001b[0;34m)\u001b[0m\u001b[0;34m)\u001b[0m\u001b[0;34m:\u001b[0m\u001b[0;34m\u001b[0m\u001b[0;34m\u001b[0m\u001b[0m\n\u001b[1;32m    118\u001b[0m   \u001b[0;32mif\u001b[0m \u001b[0;32mnot\u001b[0m \u001b[0mhas_aux\u001b[0m\u001b[0;34m:\u001b[0m\u001b[0;34m\u001b[0m\u001b[0;34m\u001b[0m\u001b[0m\n\u001b[0;32m--> 119\u001b[0;31m     \u001b[0mout_primals\u001b[0m\u001b[0;34m,\u001b[0m \u001b[0mpvals\u001b[0m\u001b[0;34m,\u001b[0m \u001b[0mjaxpr\u001b[0m\u001b[0;34m,\u001b[0m \u001b[0mconsts\u001b[0m \u001b[0;34m=\u001b[0m \u001b[0mlinearize\u001b[0m\u001b[0;34m(\u001b[0m\u001b[0mtraceable\u001b[0m\u001b[0;34m,\u001b[0m \u001b[0;34m*\u001b[0m\u001b[0mprimals\u001b[0m\u001b[0;34m)\u001b[0m\u001b[0;34m\u001b[0m\u001b[0;34m\u001b[0m\u001b[0m\n\u001b[0m\u001b[1;32m    120\u001b[0m   \u001b[0;32melse\u001b[0m\u001b[0;34m:\u001b[0m\u001b[0;34m\u001b[0m\u001b[0;34m\u001b[0m\u001b[0m\n\u001b[1;32m    121\u001b[0m     \u001b[0mout_primals\u001b[0m\u001b[0;34m,\u001b[0m \u001b[0mpvals\u001b[0m\u001b[0;34m,\u001b[0m \u001b[0mjaxpr\u001b[0m\u001b[0;34m,\u001b[0m \u001b[0mconsts\u001b[0m\u001b[0;34m,\u001b[0m \u001b[0maux\u001b[0m \u001b[0;34m=\u001b[0m \u001b[0mlinearize\u001b[0m\u001b[0;34m(\u001b[0m\u001b[0mtraceable\u001b[0m\u001b[0;34m,\u001b[0m \u001b[0;34m*\u001b[0m\u001b[0mprimals\u001b[0m\u001b[0;34m,\u001b[0m \u001b[0mhas_aux\u001b[0m\u001b[0;34m=\u001b[0m\u001b[0;32mTrue\u001b[0m\u001b[0;34m)\u001b[0m\u001b[0;34m\u001b[0m\u001b[0;34m\u001b[0m\u001b[0m\n",
      "\u001b[0;32m/project/dinner/scguo/anaconda3/envs/py39/lib/python3.9/site-packages/jax/interpreters/ad.py\u001b[0m in \u001b[0;36mlinearize\u001b[0;34m(traceable, *primals, **kwargs)\u001b[0m\n\u001b[1;32m    104\u001b[0m   \u001b[0m_\u001b[0m\u001b[0;34m,\u001b[0m \u001b[0min_tree\u001b[0m \u001b[0;34m=\u001b[0m \u001b[0mtree_flatten\u001b[0m\u001b[0;34m(\u001b[0m\u001b[0;34m(\u001b[0m\u001b[0;34m(\u001b[0m\u001b[0mprimals\u001b[0m\u001b[0;34m,\u001b[0m \u001b[0mprimals\u001b[0m\u001b[0;34m)\u001b[0m\u001b[0;34m,\u001b[0m \u001b[0;34m{\u001b[0m\u001b[0;34m}\u001b[0m\u001b[0;34m)\u001b[0m\u001b[0;34m)\u001b[0m\u001b[0;34m\u001b[0m\u001b[0;34m\u001b[0m\u001b[0m\n\u001b[1;32m    105\u001b[0m   \u001b[0mjvpfun_flat\u001b[0m\u001b[0;34m,\u001b[0m \u001b[0mout_tree\u001b[0m \u001b[0;34m=\u001b[0m \u001b[0mflatten_fun\u001b[0m\u001b[0;34m(\u001b[0m\u001b[0mjvpfun\u001b[0m\u001b[0;34m,\u001b[0m \u001b[0min_tree\u001b[0m\u001b[0;34m)\u001b[0m\u001b[0;34m\u001b[0m\u001b[0;34m\u001b[0m\u001b[0m\n\u001b[0;32m--> 106\u001b[0;31m   \u001b[0mjaxpr\u001b[0m\u001b[0;34m,\u001b[0m \u001b[0mout_pvals\u001b[0m\u001b[0;34m,\u001b[0m \u001b[0mconsts\u001b[0m \u001b[0;34m=\u001b[0m \u001b[0mpe\u001b[0m\u001b[0;34m.\u001b[0m\u001b[0mtrace_to_jaxpr\u001b[0m\u001b[0;34m(\u001b[0m\u001b[0mjvpfun_flat\u001b[0m\u001b[0;34m,\u001b[0m \u001b[0min_pvals\u001b[0m\u001b[0;34m)\u001b[0m\u001b[0;34m\u001b[0m\u001b[0;34m\u001b[0m\u001b[0m\n\u001b[0m\u001b[1;32m    107\u001b[0m   \u001b[0mout_primals_pvals\u001b[0m\u001b[0;34m,\u001b[0m \u001b[0mout_tangents_pvals\u001b[0m \u001b[0;34m=\u001b[0m \u001b[0mtree_unflatten\u001b[0m\u001b[0;34m(\u001b[0m\u001b[0mout_tree\u001b[0m\u001b[0;34m(\u001b[0m\u001b[0;34m)\u001b[0m\u001b[0;34m,\u001b[0m \u001b[0mout_pvals\u001b[0m\u001b[0;34m)\u001b[0m\u001b[0;34m\u001b[0m\u001b[0;34m\u001b[0m\u001b[0m\n\u001b[1;32m    108\u001b[0m   \u001b[0;32massert\u001b[0m \u001b[0mall\u001b[0m\u001b[0;34m(\u001b[0m\u001b[0mout_primal_pval\u001b[0m\u001b[0;34m.\u001b[0m\u001b[0mis_known\u001b[0m\u001b[0;34m(\u001b[0m\u001b[0;34m)\u001b[0m \u001b[0;32mfor\u001b[0m \u001b[0mout_primal_pval\u001b[0m \u001b[0;32min\u001b[0m \u001b[0mout_primals_pvals\u001b[0m\u001b[0;34m)\u001b[0m\u001b[0;34m\u001b[0m\u001b[0;34m\u001b[0m\u001b[0m\n",
      "\u001b[0;32m/project/dinner/scguo/anaconda3/envs/py39/lib/python3.9/site-packages/jax/_src/profiler.py\u001b[0m in \u001b[0;36mwrapper\u001b[0;34m(*args, **kwargs)\u001b[0m\n\u001b[1;32m    204\u001b[0m   \u001b[0;32mdef\u001b[0m \u001b[0mwrapper\u001b[0m\u001b[0;34m(\u001b[0m\u001b[0;34m*\u001b[0m\u001b[0margs\u001b[0m\u001b[0;34m,\u001b[0m \u001b[0;34m**\u001b[0m\u001b[0mkwargs\u001b[0m\u001b[0;34m)\u001b[0m\u001b[0;34m:\u001b[0m\u001b[0;34m\u001b[0m\u001b[0;34m\u001b[0m\u001b[0m\n\u001b[1;32m    205\u001b[0m     \u001b[0;32mwith\u001b[0m \u001b[0mTraceAnnotation\u001b[0m\u001b[0;34m(\u001b[0m\u001b[0mname\u001b[0m\u001b[0;34m,\u001b[0m \u001b[0;34m**\u001b[0m\u001b[0mdecorator_kwargs\u001b[0m\u001b[0;34m)\u001b[0m\u001b[0;34m:\u001b[0m\u001b[0;34m\u001b[0m\u001b[0;34m\u001b[0m\u001b[0m\n\u001b[0;32m--> 206\u001b[0;31m       \u001b[0;32mreturn\u001b[0m \u001b[0mfunc\u001b[0m\u001b[0;34m(\u001b[0m\u001b[0;34m*\u001b[0m\u001b[0margs\u001b[0m\u001b[0;34m,\u001b[0m \u001b[0;34m**\u001b[0m\u001b[0mkwargs\u001b[0m\u001b[0;34m)\u001b[0m\u001b[0;34m\u001b[0m\u001b[0;34m\u001b[0m\u001b[0m\n\u001b[0m\u001b[1;32m    207\u001b[0m     \u001b[0;32mreturn\u001b[0m \u001b[0mwrapper\u001b[0m\u001b[0;34m\u001b[0m\u001b[0;34m\u001b[0m\u001b[0m\n\u001b[1;32m    208\u001b[0m   \u001b[0;32mreturn\u001b[0m \u001b[0mwrapper\u001b[0m\u001b[0;34m\u001b[0m\u001b[0;34m\u001b[0m\u001b[0m\n",
      "\u001b[0;32m/project/dinner/scguo/anaconda3/envs/py39/lib/python3.9/site-packages/jax/interpreters/partial_eval.py\u001b[0m in \u001b[0;36mtrace_to_jaxpr\u001b[0;34m(fun, pvals, instantiate)\u001b[0m\n\u001b[1;32m    590\u001b[0m   \u001b[0;32mwith\u001b[0m \u001b[0mcore\u001b[0m\u001b[0;34m.\u001b[0m\u001b[0mnew_main\u001b[0m\u001b[0;34m(\u001b[0m\u001b[0mJaxprTrace\u001b[0m\u001b[0;34m,\u001b[0m \u001b[0mname_stack\u001b[0m\u001b[0;34m=\u001b[0m\u001b[0mcurrent_name_stack\u001b[0m\u001b[0;34m)\u001b[0m \u001b[0;32mas\u001b[0m \u001b[0mmain\u001b[0m\u001b[0;34m:\u001b[0m\u001b[0;34m\u001b[0m\u001b[0;34m\u001b[0m\u001b[0m\n\u001b[1;32m    591\u001b[0m     \u001b[0mfun\u001b[0m \u001b[0;34m=\u001b[0m \u001b[0mtrace_to_subjaxpr\u001b[0m\u001b[0;34m(\u001b[0m\u001b[0mfun\u001b[0m\u001b[0;34m,\u001b[0m \u001b[0mmain\u001b[0m\u001b[0;34m,\u001b[0m \u001b[0minstantiate\u001b[0m\u001b[0;34m)\u001b[0m\u001b[0;34m\u001b[0m\u001b[0;34m\u001b[0m\u001b[0m\n\u001b[0;32m--> 592\u001b[0;31m     \u001b[0mjaxpr\u001b[0m\u001b[0;34m,\u001b[0m \u001b[0;34m(\u001b[0m\u001b[0mout_pvals\u001b[0m\u001b[0;34m,\u001b[0m \u001b[0mconsts\u001b[0m\u001b[0;34m,\u001b[0m \u001b[0menv\u001b[0m\u001b[0;34m)\u001b[0m \u001b[0;34m=\u001b[0m \u001b[0mfun\u001b[0m\u001b[0;34m.\u001b[0m\u001b[0mcall_wrapped\u001b[0m\u001b[0;34m(\u001b[0m\u001b[0mpvals\u001b[0m\u001b[0;34m)\u001b[0m\u001b[0;34m\u001b[0m\u001b[0;34m\u001b[0m\u001b[0m\n\u001b[0m\u001b[1;32m    593\u001b[0m     \u001b[0;32massert\u001b[0m \u001b[0;32mnot\u001b[0m \u001b[0menv\u001b[0m\u001b[0;34m\u001b[0m\u001b[0;34m\u001b[0m\u001b[0m\n\u001b[1;32m    594\u001b[0m     \u001b[0;32mdel\u001b[0m \u001b[0mmain\u001b[0m\u001b[0;34m,\u001b[0m \u001b[0mfun\u001b[0m\u001b[0;34m,\u001b[0m \u001b[0menv\u001b[0m\u001b[0;34m\u001b[0m\u001b[0;34m\u001b[0m\u001b[0m\n",
      "\u001b[0;32m/project/dinner/scguo/anaconda3/envs/py39/lib/python3.9/site-packages/jax/linear_util.py\u001b[0m in \u001b[0;36mcall_wrapped\u001b[0;34m(self, *args, **kwargs)\u001b[0m\n\u001b[1;32m    164\u001b[0m \u001b[0;34m\u001b[0m\u001b[0m\n\u001b[1;32m    165\u001b[0m     \u001b[0;32mtry\u001b[0m\u001b[0;34m:\u001b[0m\u001b[0;34m\u001b[0m\u001b[0;34m\u001b[0m\u001b[0m\n\u001b[0;32m--> 166\u001b[0;31m       \u001b[0mans\u001b[0m \u001b[0;34m=\u001b[0m \u001b[0mself\u001b[0m\u001b[0;34m.\u001b[0m\u001b[0mf\u001b[0m\u001b[0;34m(\u001b[0m\u001b[0;34m*\u001b[0m\u001b[0margs\u001b[0m\u001b[0;34m,\u001b[0m \u001b[0;34m**\u001b[0m\u001b[0mdict\u001b[0m\u001b[0;34m(\u001b[0m\u001b[0mself\u001b[0m\u001b[0;34m.\u001b[0m\u001b[0mparams\u001b[0m\u001b[0;34m,\u001b[0m \u001b[0;34m**\u001b[0m\u001b[0mkwargs\u001b[0m\u001b[0;34m)\u001b[0m\u001b[0;34m)\u001b[0m\u001b[0;34m\u001b[0m\u001b[0;34m\u001b[0m\u001b[0m\n\u001b[0m\u001b[1;32m    167\u001b[0m     \u001b[0;32mexcept\u001b[0m\u001b[0;34m:\u001b[0m\u001b[0;34m\u001b[0m\u001b[0;34m\u001b[0m\u001b[0m\n\u001b[1;32m    168\u001b[0m       \u001b[0;31m# Some transformations yield from inside context managers, so we have to\u001b[0m\u001b[0;34m\u001b[0m\u001b[0;34m\u001b[0m\u001b[0m\n",
      "\u001b[0;32m/scratch/local/jobs/3748629/ipykernel_3900620/1635337320.py\u001b[0m in \u001b[0;36mcompute_basis\u001b[0;34m(arr, A, B, weights, coeffs)\u001b[0m\n\u001b[1;32m      1\u001b[0m \u001b[0;32mdef\u001b[0m \u001b[0mcompute_basis\u001b[0m\u001b[0;34m(\u001b[0m\u001b[0marr\u001b[0m\u001b[0;34m,\u001b[0m \u001b[0mA\u001b[0m\u001b[0;34m=\u001b[0m\u001b[0mdown\u001b[0m\u001b[0;34m,\u001b[0m \u001b[0mB\u001b[0m\u001b[0;34m=\u001b[0m\u001b[0mup\u001b[0m\u001b[0;34m,\u001b[0m \u001b[0mweights\u001b[0m\u001b[0;34m=\u001b[0m\u001b[0mweights\u001b[0m\u001b[0;34m,\u001b[0m \u001b[0mcoeffs\u001b[0m\u001b[0;34m=\u001b[0m\u001b[0mcoeff_v2\u001b[0m\u001b[0;34m)\u001b[0m\u001b[0;34m:\u001b[0m\u001b[0;34m\u001b[0m\u001b[0;34m\u001b[0m\u001b[0m\n\u001b[1;32m      2\u001b[0m     \u001b[0;31m# compute distance to domain\u001b[0m\u001b[0;34m\u001b[0m\u001b[0;34m\u001b[0m\u001b[0m\n\u001b[0;32m----> 3\u001b[0;31m     \u001b[0md_A\u001b[0m \u001b[0;34m=\u001b[0m \u001b[0mmin_dist\u001b[0m\u001b[0;34m(\u001b[0m\u001b[0marr\u001b[0m\u001b[0;34m,\u001b[0m \u001b[0mA\u001b[0m\u001b[0;34m)\u001b[0m\u001b[0;34m\u001b[0m\u001b[0;34m\u001b[0m\u001b[0m\n\u001b[0m\u001b[1;32m      4\u001b[0m     \u001b[0md_B\u001b[0m \u001b[0;34m=\u001b[0m \u001b[0mmin_dist\u001b[0m\u001b[0;34m(\u001b[0m\u001b[0marr\u001b[0m\u001b[0;34m,\u001b[0m \u001b[0mB\u001b[0m\u001b[0;34m)\u001b[0m\u001b[0;34m\u001b[0m\u001b[0;34m\u001b[0m\u001b[0m\n\u001b[1;32m      5\u001b[0m     \u001b[0;31m# print(d_A.shape)\u001b[0m\u001b[0;34m\u001b[0m\u001b[0;34m\u001b[0m\u001b[0m\n",
      "\u001b[0;32m/scratch/local/jobs/3748629/ipykernel_3900620/939008017.py\u001b[0m in \u001b[0;36mmin_dist\u001b[0;34m(t, S)\u001b[0m\n\u001b[1;32m      5\u001b[0m     \u001b[0;31m# d_S_all = jnp.linalg.norm(t[:, None, :] - S[None, :, :], axis=2)\u001b[0m\u001b[0;34m\u001b[0m\u001b[0;34m\u001b[0m\u001b[0m\n\u001b[1;32m      6\u001b[0m     \u001b[0;31m# d_S = jnp.min(d_S_all, axis=1)\u001b[0m\u001b[0;34m\u001b[0m\u001b[0;34m\u001b[0m\u001b[0m\n\u001b[0;32m----> 7\u001b[0;31m     \u001b[0md_S_all\u001b[0m \u001b[0;34m=\u001b[0m \u001b[0mjnp\u001b[0m\u001b[0;34m.\u001b[0m\u001b[0mlinalg\u001b[0m\u001b[0;34m.\u001b[0m\u001b[0mnorm\u001b[0m\u001b[0;34m(\u001b[0m\u001b[0mt\u001b[0m\u001b[0;34m[\u001b[0m\u001b[0;34m:\u001b[0m\u001b[0;34m,\u001b[0m \u001b[0;32mNone\u001b[0m\u001b[0;34m,\u001b[0m \u001b[0;34m:\u001b[0m\u001b[0;34m]\u001b[0m \u001b[0;34m-\u001b[0m \u001b[0mS\u001b[0m\u001b[0;34m,\u001b[0m \u001b[0maxis\u001b[0m\u001b[0;34m=\u001b[0m\u001b[0;36m2\u001b[0m\u001b[0;34m)\u001b[0m\u001b[0;34m\u001b[0m\u001b[0;34m\u001b[0m\u001b[0m\n\u001b[0m\u001b[1;32m      8\u001b[0m     \u001b[0md_S\u001b[0m \u001b[0;34m=\u001b[0m \u001b[0mjnp\u001b[0m\u001b[0;34m.\u001b[0m\u001b[0mmin\u001b[0m\u001b[0;34m(\u001b[0m\u001b[0md_S_all\u001b[0m\u001b[0;34m,\u001b[0m \u001b[0maxis\u001b[0m\u001b[0;34m=\u001b[0m\u001b[0;36m1\u001b[0m\u001b[0;34m)\u001b[0m\u001b[0;34m\u001b[0m\u001b[0;34m\u001b[0m\u001b[0m\n\u001b[1;32m      9\u001b[0m     \u001b[0;32mreturn\u001b[0m \u001b[0md_S\u001b[0m\u001b[0;34m\u001b[0m\u001b[0;34m\u001b[0m\u001b[0m\n",
      "    \u001b[0;31m[... skipping hidden 12 frame]\u001b[0m\n",
      "\u001b[0;32m/project/dinner/scguo/anaconda3/envs/py39/lib/python3.9/site-packages/jax/_src/dispatch.py\u001b[0m in \u001b[0;36m_execute_compiled\u001b[0;34m(name, compiled, output_buffer_counts, result_handlers, kept_var_idx, *args)\u001b[0m\n\u001b[1;32m    442\u001b[0m   input_bufs = util.flatten(\n\u001b[1;32m    443\u001b[0m       device_put(x, device) for i, x in enumerate(args) if i in kept_var_idx)\n\u001b[0;32m--> 444\u001b[0;31m   \u001b[0mout_bufs\u001b[0m \u001b[0;34m=\u001b[0m \u001b[0mcompiled\u001b[0m\u001b[0;34m.\u001b[0m\u001b[0mexecute\u001b[0m\u001b[0;34m(\u001b[0m\u001b[0minput_bufs\u001b[0m\u001b[0;34m)\u001b[0m\u001b[0;34m\u001b[0m\u001b[0;34m\u001b[0m\u001b[0m\n\u001b[0m\u001b[1;32m    445\u001b[0m   \u001b[0mcheck_special\u001b[0m\u001b[0;34m(\u001b[0m\u001b[0mname\u001b[0m\u001b[0;34m,\u001b[0m \u001b[0mout_bufs\u001b[0m\u001b[0;34m)\u001b[0m\u001b[0;34m\u001b[0m\u001b[0;34m\u001b[0m\u001b[0m\n\u001b[1;32m    446\u001b[0m   \u001b[0;32mif\u001b[0m \u001b[0moutput_buffer_counts\u001b[0m \u001b[0;32mis\u001b[0m \u001b[0;32mNone\u001b[0m\u001b[0;34m:\u001b[0m\u001b[0;34m\u001b[0m\u001b[0;34m\u001b[0m\u001b[0m\n",
      "\u001b[0;31mRuntimeError\u001b[0m: RESOURCE_EXHAUSTED: Out of memory while trying to allocate 18168960000 bytes.\nBufferAssignment OOM Debugging.\nBufferAssignment stats:\n             parameter allocation:   16.92GiB\n              constant allocation:         0B\n        maybe_live_out allocation:   17.48GiB\n     preallocated temp allocation:        16B\n                 total allocation:   34.41GiB\n              total fragmentation:        28B (0.00%)\nPeak buffers:\n\tBuffer 1:\n\t\tSize: 16.92GiB\n\t\tEntry Parameter Subshape: f32[2000,37852,60]\n\t\t==========================\n\n\tBuffer 2:\n\t\tSize: 16.92GiB\n\t\tXLA Label: copy\n\t\tShape: f32[2000,37852,60]\n\t\t==========================\n\n\tBuffer 3:\n\t\tSize: 288.79MiB\n\t\tOperator: op_name=\"jit(jvp(norm))/jit(main)/div\" source_file=\"/scratch/local/jobs/3748629/ipykernel_3900620/939008017.py\" source_line=7\n\t\tXLA Label: fusion\n\t\tShape: f32[2000,37852]\n\t\t==========================\n\n\tBuffer 4:\n\t\tSize: 288.79MiB\n\t\tOperator: op_name=\"jit(jvp(norm))/jit(main)/div\" source_file=\"/scratch/local/jobs/3748629/ipykernel_3900620/939008017.py\" source_line=7\n\t\tXLA Label: fusion\n\t\tShape: f32[2000,37852]\n\t\t==========================\n\n\tBuffer 5:\n\t\tSize: 24B\n\t\tXLA Label: tuple\n\t\tShape: (f32[2000,37852], f32[2000,37852], f32[2000,37852,60])\n\t\t==========================\n\n\tBuffer 6:\n\t\tSize: 16B\n\t\tOperator: op_name=\"jit(jvp(norm))/jit(main)/div\" source_file=\"/scratch/local/jobs/3748629/ipykernel_3900620/939008017.py\" source_line=7\n\t\tXLA Label: fusion\n\t\tShape: (f32[2000,37852], f32[2000,37852])\n\t\t==========================\n\n\tBuffer 7:\n\t\tSize: 4B\n\t\tXLA Label: parameter\n\t\tShape: f32[]\n\t\t==========================\n\n\tBuffer 8:\n\t\tSize: 4B\n\t\tXLA Label: parameter\n\t\tShape: f32[]\n\t\t==========================\n\n\tBuffer 9:\n\t\tSize: 4B\n\t\tOperator: op_name=\"jit(jvp(norm))/jit(main)/reduce_sum[axes=(2,)]\" source_file=\"/scratch/local/jobs/3748629/ipykernel_3900620/939008017.py\" source_line=7\n\t\tXLA Label: add\n\t\tShape: f32[]\n\t\t==========================\n\n"
     ]
    }
   ],
   "source": [
    "xs = sb_arr[:2000]\n",
    "v = qp_coeffs[0]\n",
    "b, vjp_fun = jax.vjp(compute_basis, xs)\n",
    "# jitted_vjp_fun = jit(vjp_fun, backend='cpu')\n",
    "grad_b = vjp_fun(np.tile(v, len(xs)).T)\n",
    "# grad_b = jitted_vjp_fun(np.tile(v, len(xs)).T)"
   ]
  },
  {
   "cell_type": "code",
   "execution_count": null,
   "id": "d829a96d-dc04-4a18-b0c4-7ea4556d9356",
   "metadata": {},
   "outputs": [],
   "source": []
  }
 ],
 "metadata": {
  "kernelspec": {
   "display_name": "Python 3 (ipykernel)",
   "language": "python",
   "name": "python3"
  },
  "language_info": {
   "codemirror_mode": {
    "name": "ipython",
    "version": 3
   },
   "file_extension": ".py",
   "mimetype": "text/x-python",
   "name": "python",
   "nbconvert_exporter": "python",
   "pygments_lexer": "ipython3",
   "version": "3.9.9"
  }
 },
 "nbformat": 4,
 "nbformat_minor": 5
}
