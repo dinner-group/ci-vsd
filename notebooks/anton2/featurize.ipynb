{
 "cells": [
  {
   "cell_type": "code",
   "execution_count": 14,
   "metadata": {},
   "outputs": [],
   "source": [
    "import sys\n",
    "import importlib\n",
    "import gc\n",
    "import glob\n",
    "import random\n",
    "from itertools import combinations\n",
    "\n",
    "import numpy as np\n",
    "import sklearn\n",
    "from sklearn import metrics\n",
    "\n",
    "import matplotlib as mpl\n",
    "import matplotlib.pyplot as plt\n",
    "from matplotlib import ticker\n",
    "import seaborn as sns\n",
    "\n",
    "import pyemma\n",
    "import msmtools\n",
    "import mdtraj as md\n",
    "\n",
    "import ivac\n",
    "import extq"
   ]
  },
  {
   "cell_type": "code",
   "execution_count": 2,
   "metadata": {},
   "outputs": [],
   "source": [
    "sys.path.insert(1, \"../../python\")\n",
    "sys.path.insert(1, \"../../..\")\n",
    "import util\n",
    "import plotting"
   ]
  },
  {
   "cell_type": "code",
   "execution_count": 3,
   "metadata": {},
   "outputs": [],
   "source": [
    "plt.style.use(\"custom\")  # custom style sheet\n",
    "plt.style.use(\"muted\")  # muted color theme from SciencePlots"
   ]
  },
  {
   "cell_type": "code",
   "execution_count": 4,
   "metadata": {},
   "outputs": [],
   "source": [
    "cm_seq = sns.cubehelix_palette(\n",
    "    start=0, rot=-0.70, gamma=0.40, light=0.9, dark=0.1, as_cmap=True, reverse=True\n",
    ")\n",
    "colors = mpl.colors.to_rgba_array(\n",
    "    [\n",
    "        \"#364B9A\",\n",
    "        \"#4A7BB7\",\n",
    "        \"#6EA6CD\",\n",
    "        \"#98CAE1\",\n",
    "        \"#C2E4EF\",\n",
    "        \"#EAECCC\",\n",
    "        \"#FEDA8B\",\n",
    "        \"#FDB366\",\n",
    "        \"#F67E4B\",\n",
    "        \"#DD3D2D\",\n",
    "        \"#A50026\",\n",
    "    ]\n",
    ")\n",
    "cm_div = mpl.colors.LinearSegmentedColormap.from_list(\"\", colors)"
   ]
  },
  {
   "cell_type": "markdown",
   "metadata": {},
   "source": [
    "# Featurize data"
   ]
  },
  {
   "cell_type": "code",
   "execution_count": 5,
   "metadata": {},
   "outputs": [],
   "source": [
    "feat2 = pyemma.coordinates.featurizer(\"../../civsd-pro.pdb\")\n",
    "pair_indices = np.loadtxt(\"../../data/feat3_atom_indices.txt\", dtype=np.int32)\n",
    "feat2.add_distances(pair_indices)"
   ]
  },
  {
   "cell_type": "code",
   "execution_count": 6,
   "metadata": {
    "scrolled": true,
    "tags": []
   },
   "outputs": [
    {
     "data": {
      "text/plain": [
       "['DIST: ARG 217 CA 1768 - ASP 129 CA 406',\n",
       " 'DIST: ARG 217 CA 1768 - ASP 136 CA 530',\n",
       " 'DIST: ARG 217 CA 1768 - ASP 151 CA 751',\n",
       " 'DIST: ARG 217 CA 1768 - ASP 164 CA 944',\n",
       " 'DIST: ARG 217 CA 1768 - GLU 183 CA 1258',\n",
       " 'DIST: ARG 217 CA 1768 - ASP 186 CA 1299',\n",
       " 'DIST: ARG 223 CA 1872 - ASP 129 CA 406',\n",
       " 'DIST: ARG 223 CA 1872 - ASP 136 CA 530',\n",
       " 'DIST: ARG 223 CA 1872 - ASP 151 CA 751',\n",
       " 'DIST: ARG 223 CA 1872 - ASP 164 CA 944',\n",
       " 'DIST: ARG 223 CA 1872 - GLU 183 CA 1258',\n",
       " 'DIST: ARG 223 CA 1872 - ASP 186 CA 1299',\n",
       " 'DIST: ARG 226 CA 1934 - ASP 129 CA 406',\n",
       " 'DIST: ARG 226 CA 1934 - ASP 136 CA 530',\n",
       " 'DIST: ARG 226 CA 1934 - ASP 151 CA 751',\n",
       " 'DIST: ARG 226 CA 1934 - ASP 164 CA 944',\n",
       " 'DIST: ARG 226 CA 1934 - GLU 183 CA 1258',\n",
       " 'DIST: ARG 226 CA 1934 - ASP 186 CA 1299',\n",
       " 'DIST: ARG 229 CA 1990 - ASP 129 CA 406',\n",
       " 'DIST: ARG 229 CA 1990 - ASP 136 CA 530',\n",
       " 'DIST: ARG 229 CA 1990 - ASP 151 CA 751',\n",
       " 'DIST: ARG 229 CA 1990 - ASP 164 CA 944',\n",
       " 'DIST: ARG 229 CA 1990 - GLU 183 CA 1258',\n",
       " 'DIST: ARG 229 CA 1990 - ASP 186 CA 1299',\n",
       " 'DIST: ARG 232 CA 2043 - ASP 129 CA 406',\n",
       " 'DIST: ARG 232 CA 2043 - ASP 136 CA 530',\n",
       " 'DIST: ARG 232 CA 2043 - ASP 151 CA 751',\n",
       " 'DIST: ARG 232 CA 2043 - ASP 164 CA 944',\n",
       " 'DIST: ARG 232 CA 2043 - GLU 183 CA 1258',\n",
       " 'DIST: ARG 232 CA 2043 - ASP 186 CA 1299',\n",
       " 'DIST: ARG 217 CZ 1781 - ASP 129 CG 411',\n",
       " 'DIST: ARG 217 CZ 1781 - ASP 136 CG 535',\n",
       " 'DIST: ARG 217 CZ 1781 - ASP 151 CG 756',\n",
       " 'DIST: ARG 217 CZ 1781 - ASP 164 CG 949',\n",
       " 'DIST: ARG 217 CZ 1781 - GLU 183 CD 1266',\n",
       " 'DIST: ARG 217 CZ 1781 - ASP 186 CG 1304',\n",
       " 'DIST: ARG 223 CZ 1885 - ASP 129 CG 411',\n",
       " 'DIST: ARG 223 CZ 1885 - ASP 136 CG 535',\n",
       " 'DIST: ARG 223 CZ 1885 - ASP 151 CG 756',\n",
       " 'DIST: ARG 223 CZ 1885 - ASP 164 CG 949',\n",
       " 'DIST: ARG 223 CZ 1885 - GLU 183 CD 1266',\n",
       " 'DIST: ARG 223 CZ 1885 - ASP 186 CG 1304',\n",
       " 'DIST: ARG 226 CZ 1947 - ASP 129 CG 411',\n",
       " 'DIST: ARG 226 CZ 1947 - ASP 136 CG 535',\n",
       " 'DIST: ARG 226 CZ 1947 - ASP 151 CG 756',\n",
       " 'DIST: ARG 226 CZ 1947 - ASP 164 CG 949',\n",
       " 'DIST: ARG 226 CZ 1947 - GLU 183 CD 1266',\n",
       " 'DIST: ARG 226 CZ 1947 - ASP 186 CG 1304',\n",
       " 'DIST: ARG 229 CZ 2003 - ASP 129 CG 411',\n",
       " 'DIST: ARG 229 CZ 2003 - ASP 136 CG 535',\n",
       " 'DIST: ARG 229 CZ 2003 - ASP 151 CG 756',\n",
       " 'DIST: ARG 229 CZ 2003 - ASP 164 CG 949',\n",
       " 'DIST: ARG 229 CZ 2003 - GLU 183 CD 1266',\n",
       " 'DIST: ARG 229 CZ 2003 - ASP 186 CG 1304',\n",
       " 'DIST: ARG 232 CZ 2056 - ASP 129 CG 411',\n",
       " 'DIST: ARG 232 CZ 2056 - ASP 136 CG 535',\n",
       " 'DIST: ARG 232 CZ 2056 - ASP 151 CG 756',\n",
       " 'DIST: ARG 232 CZ 2056 - ASP 164 CG 949',\n",
       " 'DIST: ARG 232 CZ 2056 - GLU 183 CD 1266',\n",
       " 'DIST: ARG 232 CZ 2056 - ASP 186 CG 1304']"
      ]
     },
     "execution_count": 6,
     "metadata": {},
     "output_type": "execute_result"
    }
   ],
   "source": [
    "feat2.describe()"
   ]
  },
  {
   "cell_type": "code",
   "execution_count": 22,
   "metadata": {},
   "outputs": [],
   "source": [
    "xtc_files = []\n",
    "for i in range(3, 14):\n",
    "    xtc_files.append(f\"/project2/roux/scguo/ci-vsd/anton2/prot/civsd.prot.{i}.xtc\")"
   ]
  },
  {
   "cell_type": "code",
   "execution_count": 23,
   "metadata": {},
   "outputs": [
    {
     "data": {
      "text/plain": [
       "['/project2/roux/scguo/ci-vsd/anton2/prot/civsd.prot.3.xtc',\n",
       " '/project2/roux/scguo/ci-vsd/anton2/prot/civsd.prot.4.xtc',\n",
       " '/project2/roux/scguo/ci-vsd/anton2/prot/civsd.prot.5.xtc',\n",
       " '/project2/roux/scguo/ci-vsd/anton2/prot/civsd.prot.6.xtc',\n",
       " '/project2/roux/scguo/ci-vsd/anton2/prot/civsd.prot.7.xtc',\n",
       " '/project2/roux/scguo/ci-vsd/anton2/prot/civsd.prot.8.xtc',\n",
       " '/project2/roux/scguo/ci-vsd/anton2/prot/civsd.prot.9.xtc',\n",
       " '/project2/roux/scguo/ci-vsd/anton2/prot/civsd.prot.10.xtc',\n",
       " '/project2/roux/scguo/ci-vsd/anton2/prot/civsd.prot.11.xtc',\n",
       " '/project2/roux/scguo/ci-vsd/anton2/prot/civsd.prot.12.xtc',\n",
       " '/project2/roux/scguo/ci-vsd/anton2/prot/civsd.prot.13.xtc']"
      ]
     },
     "execution_count": 23,
     "metadata": {},
     "output_type": "execute_result"
    }
   ],
   "source": [
    "xtc_files"
   ]
  },
  {
   "cell_type": "code",
   "execution_count": 24,
   "metadata": {},
   "outputs": [
    {
     "data": {
      "application/vnd.jupyter.widget-view+json": {
       "model_id": "34769b423fec4efeac958b9392b2fde0",
       "version_major": 2,
       "version_minor": 0
      },
      "text/plain": [
       "HBox(children=(FloatProgress(value=0.0, description='Obtaining file info', layout=Layout(flex='2'), max=11.0, …"
      ]
     },
     "metadata": {},
     "output_type": "display_data"
    },
    {
     "data": {
      "application/vnd.jupyter.widget-view+json": {
       "model_id": "f4fcdb97d4b24ec9b1160bcbdc23402a",
       "version_major": 2,
       "version_minor": 0
      },
      "text/plain": [
       "HBox(children=(FloatProgress(value=0.0, description='getting output of FeatureReader', layout=Layout(flex='2')…"
      ]
     },
     "metadata": {},
     "output_type": "display_data"
    }
   ],
   "source": [
    "feat2_raw = pyemma.coordinates.load(xtc_files, features=feat2, chunksize=128)"
   ]
  },
  {
   "cell_type": "code",
   "execution_count": 25,
   "metadata": {},
   "outputs": [
    {
     "name": "stdout",
     "output_type": "stream",
     "text": [
      "11 (10001, 60)\n"
     ]
    }
   ],
   "source": [
    "print(len(feat2_raw), feat2_raw[0].shape)"
   ]
  },
  {
   "cell_type": "code",
   "execution_count": 26,
   "metadata": {},
   "outputs": [],
   "source": [
    "np.save(\"/project2/roux/scguo/ci-vsd/data/raw_feat/feat2_raw_anton2.npy\", feat2_raw)"
   ]
  },
  {
   "cell_type": "code",
   "execution_count": 7,
   "metadata": {},
   "outputs": [],
   "source": [
    "feat3_tors = pyemma.coordinates.featurizer(\"../../civsd-pro.pdb\")\n",
    "feat3_tors.add_backbone_torsions(selstr=\"protein and residue 204 to 238\")"
   ]
  },
  {
   "cell_type": "code",
   "execution_count": 8,
   "metadata": {
    "scrolled": true,
    "tags": []
   },
   "outputs": [
    {
     "data": {
      "text/plain": [
       "['PHI 0 ASP 204',\n",
       " 'PSI 0 ASP 204',\n",
       " 'PHI 0 GLU 205',\n",
       " 'PSI 0 GLU 205',\n",
       " 'PHI 0 TYR 206',\n",
       " 'PSI 0 TYR 206',\n",
       " 'PHI 0 VAL 207',\n",
       " 'PSI 0 VAL 207',\n",
       " 'PHI 0 GLN 208',\n",
       " 'PSI 0 GLN 208',\n",
       " 'PHI 0 GLU 209',\n",
       " 'PSI 0 GLU 209',\n",
       " 'PHI 0 THR 210',\n",
       " 'PSI 0 THR 210',\n",
       " 'PHI 0 GLY 211',\n",
       " 'PSI 0 GLY 211',\n",
       " 'PHI 0 ALA 212',\n",
       " 'PSI 0 ALA 212',\n",
       " 'PHI 0 ASP 213',\n",
       " 'PSI 0 ASP 213',\n",
       " 'PHI 0 GLY 214',\n",
       " 'PSI 0 GLY 214',\n",
       " 'PHI 0 LEU 215',\n",
       " 'PSI 0 LEU 215',\n",
       " 'PHI 0 GLY 216',\n",
       " 'PSI 0 GLY 216',\n",
       " 'PHI 0 ARG 217',\n",
       " 'PSI 0 ARG 217',\n",
       " 'PHI 0 LEU 218',\n",
       " 'PSI 0 LEU 218',\n",
       " 'PHI 0 VAL 219',\n",
       " 'PSI 0 VAL 219',\n",
       " 'PHI 0 VAL 220',\n",
       " 'PSI 0 VAL 220',\n",
       " 'PHI 0 LEU 221',\n",
       " 'PSI 0 LEU 221',\n",
       " 'PHI 0 ALA 222',\n",
       " 'PSI 0 ALA 222',\n",
       " 'PHI 0 ARG 223',\n",
       " 'PSI 0 ARG 223',\n",
       " 'PHI 0 LEU 224',\n",
       " 'PSI 0 LEU 224',\n",
       " 'PHI 0 LEU 225',\n",
       " 'PSI 0 LEU 225',\n",
       " 'PHI 0 ARG 226',\n",
       " 'PSI 0 ARG 226',\n",
       " 'PHI 0 VAL 227',\n",
       " 'PSI 0 VAL 227',\n",
       " 'PHI 0 VAL 228',\n",
       " 'PSI 0 VAL 228',\n",
       " 'PHI 0 ARG 229',\n",
       " 'PSI 0 ARG 229',\n",
       " 'PHI 0 LEU 230',\n",
       " 'PSI 0 LEU 230',\n",
       " 'PHI 0 ALA 231',\n",
       " 'PSI 0 ALA 231',\n",
       " 'PHI 0 ARG 232',\n",
       " 'PSI 0 ARG 232',\n",
       " 'PHI 0 ILE 233',\n",
       " 'PSI 0 ILE 233',\n",
       " 'PHI 0 PHE 234',\n",
       " 'PSI 0 PHE 234',\n",
       " 'PHI 0 TYR 235',\n",
       " 'PSI 0 TYR 235',\n",
       " 'PHI 0 SER 236',\n",
       " 'PSI 0 SER 236',\n",
       " 'PHI 0 HIS 237',\n",
       " 'PSI 0 HIS 237',\n",
       " 'PHI 0 GLN 238',\n",
       " 'PSI 0 GLN 238']"
      ]
     },
     "execution_count": 8,
     "metadata": {},
     "output_type": "execute_result"
    }
   ],
   "source": [
    "feat3_tors.describe()"
   ]
  },
  {
   "cell_type": "code",
   "execution_count": 29,
   "metadata": {},
   "outputs": [
    {
     "data": {
      "application/vnd.jupyter.widget-view+json": {
       "model_id": "a0471b9b7bbe480098ecf2054993ea90",
       "version_major": 2,
       "version_minor": 0
      },
      "text/plain": [
       "HBox(children=(FloatProgress(value=0.0, description='Obtaining file info', layout=Layout(flex='2'), max=11.0, …"
      ]
     },
     "metadata": {},
     "output_type": "display_data"
    },
    {
     "data": {
      "application/vnd.jupyter.widget-view+json": {
       "model_id": "69e3593af01340b29dc9c4bc2d05c94a",
       "version_major": 2,
       "version_minor": 0
      },
      "text/plain": [
       "HBox(children=(FloatProgress(value=0.0, description='getting output of FeatureReader', layout=Layout(flex='2')…"
      ]
     },
     "metadata": {},
     "output_type": "display_data"
    }
   ],
   "source": [
    "feat3_raw = pyemma.coordinates.load(xtc_files, features=feat3_tors, chunksize=32)"
   ]
  },
  {
   "cell_type": "code",
   "execution_count": 30,
   "metadata": {},
   "outputs": [],
   "source": [
    "np.save(\n",
    "    \"/project2/roux/scguo/ci-vsd/data/raw_feat/feat3_torsions_anton2.npy\", feat3_raw\n",
    ")"
   ]
  },
  {
   "cell_type": "code",
   "execution_count": 11,
   "metadata": {},
   "outputs": [
    {
     "name": "stdout",
     "output_type": "stream",
     "text": [
      "1924\n"
     ]
    }
   ],
   "source": [
    "feat4 = pyemma.coordinates.featurizer(\"/project/dinner/scguo/ci-vsd/civsd-pro.pdb\")\n",
    "pair_indices4 = np.loadtxt(\n",
    "    \"/project/dinner/scguo/ci-vsd/data/feat4_atom_indices.txt\",\n",
    "    dtype=np.int32,\n",
    ")\n",
    "feat4.add_residue_mindist(\n",
    "    residue_pairs=pair_indices4, scheme=\"closest-heavy\", threshold=0.45, periodic=False\n",
    ")\n",
    "print(len(feat4.describe()))"
   ]
  },
  {
   "cell_type": "code",
   "execution_count": null,
   "metadata": {},
   "outputs": [
    {
     "data": {
      "application/vnd.jupyter.widget-view+json": {
       "model_id": "aa3c9f20175a4f018d863105585ca4d1",
       "version_major": 2,
       "version_minor": 0
      },
      "text/plain": [
       "HBox(children=(FloatProgress(value=0.0, description='Obtaining file info', layout=Layout(flex='2'), max=11.0, …"
      ]
     },
     "metadata": {},
     "output_type": "display_data"
    },
    {
     "data": {
      "application/vnd.jupyter.widget-view+json": {
       "model_id": "f603dc3d81e9409ea2bf401c73cecba4",
       "version_major": 2,
       "version_minor": 0
      },
      "text/plain": [
       "HBox(children=(FloatProgress(value=0.0, description='getting output of FeatureReader', layout=Layout(flex='2')…"
      ]
     },
     "metadata": {},
     "output_type": "display_data"
    }
   ],
   "source": [
    "feat4_raw = pyemma.coordinates.load(xtc_files, features=feat4, chunksize=128)"
   ]
  },
  {
   "cell_type": "code",
   "execution_count": null,
   "metadata": {},
   "outputs": [],
   "source": [
    "feat4_raw[0].shape"
   ]
  },
  {
   "cell_type": "code",
   "execution_count": null,
   "metadata": {},
   "outputs": [],
   "source": [
    "with open(\n",
    "    \"/project2/roux/scguo/ci-vsd/data/raw_feat/feat5_raw_anton2.npz\", mode=\"wb+\"\n",
    ") as f:\n",
    "    np.savez_compressed(f, feat2_raw)"
   ]
  },
  {
   "cell_type": "markdown",
   "metadata": {},
   "source": [
    "## New 3.15.22"
   ]
  },
  {
   "cell_type": "code",
   "execution_count": 10,
   "metadata": {},
   "outputs": [],
   "source": [
    "xtc_files = []\n",
    "for i in range(55, 63):\n",
    "    xtc_files.append(f\"/project/dinner/scguo/ci-vsd/anton2/prot/civsd.prot.{i}.xtc\")"
   ]
  },
  {
   "cell_type": "code",
   "execution_count": 11,
   "metadata": {},
   "outputs": [
    {
     "data": {
      "text/plain": [
       "['/project/dinner/scguo/ci-vsd/anton2/prot/civsd.prot.55.xtc',\n",
       " '/project/dinner/scguo/ci-vsd/anton2/prot/civsd.prot.56.xtc',\n",
       " '/project/dinner/scguo/ci-vsd/anton2/prot/civsd.prot.57.xtc',\n",
       " '/project/dinner/scguo/ci-vsd/anton2/prot/civsd.prot.58.xtc',\n",
       " '/project/dinner/scguo/ci-vsd/anton2/prot/civsd.prot.59.xtc',\n",
       " '/project/dinner/scguo/ci-vsd/anton2/prot/civsd.prot.60.xtc',\n",
       " '/project/dinner/scguo/ci-vsd/anton2/prot/civsd.prot.61.xtc',\n",
       " '/project/dinner/scguo/ci-vsd/anton2/prot/civsd.prot.62.xtc']"
      ]
     },
     "execution_count": 11,
     "metadata": {},
     "output_type": "execute_result"
    }
   ],
   "source": [
    "xtc_files"
   ]
  },
  {
   "cell_type": "code",
   "execution_count": 12,
   "metadata": {},
   "outputs": [
    {
     "name": "stderr",
     "output_type": "stream",
     "text": [
      "100%|██████████| 8/8 [00:02<00:00,  3.97it/s]                     \n",
      "100%|██████████| 632/632 [00:14<00:00, 43.53it/s]                                 \n"
     ]
    }
   ],
   "source": [
    "feat2_raw = pyemma.coordinates.load(xtc_files, features=feat2, chunksize=128)"
   ]
  },
  {
   "cell_type": "code",
   "execution_count": 13,
   "metadata": {},
   "outputs": [
    {
     "name": "stdout",
     "output_type": "stream",
     "text": [
      "8 (10001, 60)\n"
     ]
    }
   ],
   "source": [
    "print(len(feat2_raw), feat2_raw[0].shape)"
   ]
  },
  {
   "cell_type": "code",
   "execution_count": 28,
   "metadata": {},
   "outputs": [],
   "source": [
    "feat2_raw_old = list(np.load(\"../../data/raw_feat/feat2_raw_anton2.npy\"))"
   ]
  },
  {
   "cell_type": "code",
   "execution_count": 29,
   "metadata": {},
   "outputs": [
    {
     "name": "stdout",
     "output_type": "stream",
     "text": [
      "60\n"
     ]
    }
   ],
   "source": [
    "feat2_raw_old.extend(feat2_raw)\n",
    "print(len(feat2_raw_old))"
   ]
  },
  {
   "cell_type": "code",
   "execution_count": 31,
   "metadata": {},
   "outputs": [],
   "source": [
    "np.save(\"/project/dinner/scguo/ci-vsd/data/raw_feat/feat2_raw_anton2.npy\", feat2_raw_old)"
   ]
  },
  {
   "cell_type": "code",
   "execution_count": 32,
   "metadata": {},
   "outputs": [],
   "source": [
    "feat3_tors = pyemma.coordinates.featurizer(\"../../civsd-pro.pdb\")\n",
    "feat3_tors.add_backbone_torsions(selstr=\"protein and residue 204 to 238\")"
   ]
  },
  {
   "cell_type": "code",
   "execution_count": 33,
   "metadata": {},
   "outputs": [
    {
     "name": "stderr",
     "output_type": "stream",
     "text": [
      "100%|██████████| 8/8 [00:00<00:00, 27.52it/s]                     \n",
      "100%|██████████| 2504/2504 [00:16<00:00, 149.70it/s]                                 \n"
     ]
    }
   ],
   "source": [
    "feat3_raw = pyemma.coordinates.load(xtc_files, features=feat3_tors, chunksize=32)"
   ]
  },
  {
   "cell_type": "code",
   "execution_count": 36,
   "metadata": {},
   "outputs": [
    {
     "name": "stdout",
     "output_type": "stream",
     "text": [
      "52\n"
     ]
    }
   ],
   "source": [
    "feat3_raw_old = list(np.load(\"../../data/raw_feat/feat3_torsions_anton2.npy\"))\n",
    "print(len(feat3_raw_old))"
   ]
  },
  {
   "cell_type": "code",
   "execution_count": 38,
   "metadata": {},
   "outputs": [
    {
     "name": "stdout",
     "output_type": "stream",
     "text": [
      "60\n"
     ]
    }
   ],
   "source": [
    "feat3_raw_old.extend(feat3_raw)\n",
    "print(len(feat2_raw_old))"
   ]
  },
  {
   "cell_type": "code",
   "execution_count": 40,
   "metadata": {},
   "outputs": [],
   "source": [
    "np.save(\n",
    "    \"/project/dinner/scguo/ci-vsd/data/raw_feat/feat3_torsions_anton2.npy\", feat3_raw_old\n",
    ")"
   ]
  },
  {
   "cell_type": "code",
   "execution_count": 43,
   "metadata": {},
   "outputs": [
    {
     "name": "stdout",
     "output_type": "stream",
     "text": [
      "1924\n"
     ]
    }
   ],
   "source": [
    "feat4 = pyemma.coordinates.featurizer(\"/project/dinner/scguo/ci-vsd/civsd-pro.pdb\")\n",
    "pair_indices4 = np.loadtxt(\n",
    "    \"/project/dinner/scguo/ci-vsd/data/feat4_atom_indices.txt\",\n",
    "    dtype=np.int32,\n",
    ")\n",
    "feat4.add_residue_mindist(\n",
    "    residue_pairs=pair_indices4, scheme=\"closest-heavy\", threshold=0.45, periodic=False\n",
    ")\n",
    "print(len(feat4.describe()))"
   ]
  },
  {
   "cell_type": "code",
   "execution_count": 44,
   "metadata": {},
   "outputs": [
    {
     "name": "stderr",
     "output_type": "stream",
     "text": [
      "100%|██████████| 8/8 [00:00<00:00, 156.03it/s]            \n",
      "100%|██████████| 632/632 [02:27<00:00,  4.27it/s]                                 \n"
     ]
    }
   ],
   "source": [
    "feat4_raw = pyemma.coordinates.load(xtc_files, features=feat4, chunksize=128)"
   ]
  },
  {
   "cell_type": "code",
   "execution_count": 45,
   "metadata": {},
   "outputs": [
    {
     "data": {
      "text/plain": [
       "(10001, 1924)"
      ]
     },
     "execution_count": 45,
     "metadata": {},
     "output_type": "execute_result"
    }
   ],
   "source": [
    "feat4_raw[0].shape"
   ]
  },
  {
   "cell_type": "code",
   "execution_count": 49,
   "metadata": {},
   "outputs": [],
   "source": [
    "with np.load(\"/project/dinner/scguo/ci-vsd/data/raw_feat/feat5_raw_anton2.npz\") as f:\n",
    "    feat4_raw_old = list(f['arr_0'])"
   ]
  },
  {
   "cell_type": "code",
   "execution_count": 50,
   "metadata": {},
   "outputs": [
    {
     "data": {
      "text/plain": [
       "52"
      ]
     },
     "execution_count": 50,
     "metadata": {},
     "output_type": "execute_result"
    }
   ],
   "source": [
    "len(feat4_raw_old)"
   ]
  },
  {
   "cell_type": "code",
   "execution_count": 51,
   "metadata": {},
   "outputs": [
    {
     "name": "stdout",
     "output_type": "stream",
     "text": [
      "60\n"
     ]
    }
   ],
   "source": [
    "feat4_raw_old.extend(feat4_raw)\n",
    "print(len(feat4_raw_old))"
   ]
  },
  {
   "cell_type": "code",
   "execution_count": 52,
   "metadata": {},
   "outputs": [],
   "source": [
    "with open(\n",
    "    \"/project/dinner/scguo/ci-vsd/data/raw_feat/feat5_raw_anton2.npz\", mode=\"wb+\"\n",
    ") as f:\n",
    "    np.savez_compressed(f, feat4_raw_old)"
   ]
  },
  {
   "cell_type": "markdown",
   "metadata": {},
   "source": [
    "## New 3.17.22"
   ]
  },
  {
   "cell_type": "code",
   "execution_count": 7,
   "metadata": {},
   "outputs": [],
   "source": [
    "xtc_files = []\n",
    "for i in range(63, 82):\n",
    "    xtc_files.append(f\"/project/dinner/scguo/ci-vsd/anton2/prot/civsd.prot.{i}.xtc\")"
   ]
  },
  {
   "cell_type": "code",
   "execution_count": 8,
   "metadata": {},
   "outputs": [
    {
     "data": {
      "text/plain": [
       "['/project/dinner/scguo/ci-vsd/anton2/prot/civsd.prot.63.xtc',\n",
       " '/project/dinner/scguo/ci-vsd/anton2/prot/civsd.prot.64.xtc',\n",
       " '/project/dinner/scguo/ci-vsd/anton2/prot/civsd.prot.65.xtc',\n",
       " '/project/dinner/scguo/ci-vsd/anton2/prot/civsd.prot.66.xtc',\n",
       " '/project/dinner/scguo/ci-vsd/anton2/prot/civsd.prot.67.xtc',\n",
       " '/project/dinner/scguo/ci-vsd/anton2/prot/civsd.prot.68.xtc',\n",
       " '/project/dinner/scguo/ci-vsd/anton2/prot/civsd.prot.69.xtc',\n",
       " '/project/dinner/scguo/ci-vsd/anton2/prot/civsd.prot.70.xtc',\n",
       " '/project/dinner/scguo/ci-vsd/anton2/prot/civsd.prot.71.xtc',\n",
       " '/project/dinner/scguo/ci-vsd/anton2/prot/civsd.prot.72.xtc',\n",
       " '/project/dinner/scguo/ci-vsd/anton2/prot/civsd.prot.73.xtc',\n",
       " '/project/dinner/scguo/ci-vsd/anton2/prot/civsd.prot.74.xtc',\n",
       " '/project/dinner/scguo/ci-vsd/anton2/prot/civsd.prot.75.xtc',\n",
       " '/project/dinner/scguo/ci-vsd/anton2/prot/civsd.prot.76.xtc',\n",
       " '/project/dinner/scguo/ci-vsd/anton2/prot/civsd.prot.77.xtc',\n",
       " '/project/dinner/scguo/ci-vsd/anton2/prot/civsd.prot.78.xtc',\n",
       " '/project/dinner/scguo/ci-vsd/anton2/prot/civsd.prot.79.xtc',\n",
       " '/project/dinner/scguo/ci-vsd/anton2/prot/civsd.prot.80.xtc',\n",
       " '/project/dinner/scguo/ci-vsd/anton2/prot/civsd.prot.81.xtc']"
      ]
     },
     "execution_count": 8,
     "metadata": {},
     "output_type": "execute_result"
    }
   ],
   "source": [
    "xtc_files"
   ]
  },
  {
   "cell_type": "code",
   "execution_count": 9,
   "metadata": {},
   "outputs": [
    {
     "name": "stderr",
     "output_type": "stream",
     "text": [
      "100%|██████████| 19/19 [00:00<00:00, 22.91it/s]                     \n",
      "100%|██████████| 1501/1501 [00:34<00:00, 43.35it/s]                                 \n"
     ]
    }
   ],
   "source": [
    "feat2_raw = pyemma.coordinates.load(xtc_files, features=feat2, chunksize=128)"
   ]
  },
  {
   "cell_type": "code",
   "execution_count": 10,
   "metadata": {},
   "outputs": [
    {
     "name": "stdout",
     "output_type": "stream",
     "text": [
      "19 (10001, 60)\n"
     ]
    }
   ],
   "source": [
    "print(len(feat2_raw), feat2_raw[0].shape)"
   ]
  },
  {
   "cell_type": "code",
   "execution_count": 11,
   "metadata": {},
   "outputs": [],
   "source": [
    "feat2_raw_old = list(np.load(\"../../data/raw_feat/feat2_raw_anton2.npy\"))"
   ]
  },
  {
   "cell_type": "code",
   "execution_count": 12,
   "metadata": {},
   "outputs": [
    {
     "name": "stdout",
     "output_type": "stream",
     "text": [
      "79\n"
     ]
    }
   ],
   "source": [
    "feat2_raw_old.extend(feat2_raw)\n",
    "print(len(feat2_raw_old))"
   ]
  },
  {
   "cell_type": "code",
   "execution_count": 13,
   "metadata": {},
   "outputs": [],
   "source": [
    "np.save(\"/project/dinner/scguo/ci-vsd/data/raw_feat/feat2_raw_anton2.npy\", feat2_raw_old)"
   ]
  },
  {
   "cell_type": "code",
   "execution_count": 14,
   "metadata": {},
   "outputs": [],
   "source": [
    "feat3_tors = pyemma.coordinates.featurizer(\"../../civsd-pro.pdb\")\n",
    "feat3_tors.add_backbone_torsions(selstr=\"protein and residue 204 to 238\")"
   ]
  },
  {
   "cell_type": "code",
   "execution_count": 15,
   "metadata": {},
   "outputs": [
    {
     "name": "stderr",
     "output_type": "stream",
     "text": [
      "100%|██████████| 19/19 [00:00<00:00, 378.22it/s]           \n",
      "100%|██████████| 5947/5947 [00:38<00:00, 155.00it/s]                                 \n"
     ]
    }
   ],
   "source": [
    "feat3_raw = pyemma.coordinates.load(xtc_files, features=feat3_tors, chunksize=32)"
   ]
  },
  {
   "cell_type": "code",
   "execution_count": 16,
   "metadata": {},
   "outputs": [
    {
     "name": "stdout",
     "output_type": "stream",
     "text": [
      "60\n"
     ]
    }
   ],
   "source": [
    "feat3_raw_old = list(np.load(\"../../data/raw_feat/feat3_torsions_anton2.npy\"))\n",
    "print(len(feat3_raw_old))"
   ]
  },
  {
   "cell_type": "code",
   "execution_count": 17,
   "metadata": {},
   "outputs": [
    {
     "name": "stdout",
     "output_type": "stream",
     "text": [
      "79\n"
     ]
    }
   ],
   "source": [
    "feat3_raw_old.extend(feat3_raw)\n",
    "print(len(feat2_raw_old))"
   ]
  },
  {
   "cell_type": "code",
   "execution_count": 18,
   "metadata": {},
   "outputs": [],
   "source": [
    "np.save(\n",
    "    \"/project/dinner/scguo/ci-vsd/data/raw_feat/feat3_torsions_anton2.npy\", feat3_raw_old\n",
    ")"
   ]
  },
  {
   "cell_type": "code",
   "execution_count": 19,
   "metadata": {},
   "outputs": [
    {
     "name": "stdout",
     "output_type": "stream",
     "text": [
      "1924\n"
     ]
    }
   ],
   "source": [
    "feat4 = pyemma.coordinates.featurizer(\"/project/dinner/scguo/ci-vsd/civsd-pro.pdb\")\n",
    "pair_indices4 = np.loadtxt(\n",
    "    \"/project/dinner/scguo/ci-vsd/data/feat4_atom_indices.txt\",\n",
    "    dtype=np.int32,\n",
    ")\n",
    "feat4.add_residue_mindist(\n",
    "    residue_pairs=pair_indices4, scheme=\"closest-heavy\", threshold=0.45, periodic=False\n",
    ")\n",
    "print(len(feat4.describe()))"
   ]
  },
  {
   "cell_type": "code",
   "execution_count": 20,
   "metadata": {},
   "outputs": [
    {
     "name": "stderr",
     "output_type": "stream",
     "text": [
      "100%|██████████| 19/19 [00:00<00:00, 436.55it/s]           \n",
      "100%|██████████| 1501/1501 [05:52<00:00,  4.26it/s]                                 \n"
     ]
    }
   ],
   "source": [
    "feat4_raw = pyemma.coordinates.load(xtc_files, features=feat4, chunksize=128)"
   ]
  },
  {
   "cell_type": "code",
   "execution_count": 21,
   "metadata": {},
   "outputs": [
    {
     "data": {
      "text/plain": [
       "(10001, 1924)"
      ]
     },
     "execution_count": 21,
     "metadata": {},
     "output_type": "execute_result"
    }
   ],
   "source": [
    "feat4_raw[0].shape"
   ]
  },
  {
   "cell_type": "code",
   "execution_count": 22,
   "metadata": {},
   "outputs": [],
   "source": [
    "with np.load(\"/project/dinner/scguo/ci-vsd/data/raw_feat/feat5_raw_anton2.npz\") as f:\n",
    "    feat4_raw_old = list(f['arr_0'])"
   ]
  },
  {
   "cell_type": "code",
   "execution_count": 23,
   "metadata": {},
   "outputs": [
    {
     "data": {
      "text/plain": [
       "60"
      ]
     },
     "execution_count": 23,
     "metadata": {},
     "output_type": "execute_result"
    }
   ],
   "source": [
    "len(feat4_raw_old)"
   ]
  },
  {
   "cell_type": "code",
   "execution_count": 24,
   "metadata": {},
   "outputs": [
    {
     "name": "stdout",
     "output_type": "stream",
     "text": [
      "79\n"
     ]
    }
   ],
   "source": [
    "feat4_raw_old.extend(feat4_raw)\n",
    "print(len(feat4_raw_old))"
   ]
  },
  {
   "cell_type": "code",
   "execution_count": 25,
   "metadata": {},
   "outputs": [],
   "source": [
    "with open(\n",
    "    \"/project/dinner/scguo/ci-vsd/data/raw_feat/feat5_raw_anton2.npz\", mode=\"wb+\"\n",
    ") as f:\n",
    "    np.savez_compressed(f, feat4_raw_old)"
   ]
  },
  {
   "cell_type": "markdown",
   "metadata": {},
   "source": [
    "## New 3.25.22"
   ]
  },
  {
   "cell_type": "code",
   "execution_count": 9,
   "metadata": {},
   "outputs": [],
   "source": [
    "xtc_files = []\n",
    "for i in range(83, 119):\n",
    "    xtc_files.append(f\"/project/dinner/scguo/ci-vsd/anton2/prot/civsd.prot.{i}.xtc\")"
   ]
  },
  {
   "cell_type": "code",
   "execution_count": 10,
   "metadata": {
    "scrolled": true,
    "tags": []
   },
   "outputs": [
    {
     "data": {
      "text/plain": [
       "['/project/dinner/scguo/ci-vsd/anton2/prot/civsd.prot.83.xtc',\n",
       " '/project/dinner/scguo/ci-vsd/anton2/prot/civsd.prot.84.xtc',\n",
       " '/project/dinner/scguo/ci-vsd/anton2/prot/civsd.prot.85.xtc',\n",
       " '/project/dinner/scguo/ci-vsd/anton2/prot/civsd.prot.86.xtc',\n",
       " '/project/dinner/scguo/ci-vsd/anton2/prot/civsd.prot.87.xtc',\n",
       " '/project/dinner/scguo/ci-vsd/anton2/prot/civsd.prot.88.xtc',\n",
       " '/project/dinner/scguo/ci-vsd/anton2/prot/civsd.prot.89.xtc',\n",
       " '/project/dinner/scguo/ci-vsd/anton2/prot/civsd.prot.90.xtc',\n",
       " '/project/dinner/scguo/ci-vsd/anton2/prot/civsd.prot.91.xtc',\n",
       " '/project/dinner/scguo/ci-vsd/anton2/prot/civsd.prot.92.xtc',\n",
       " '/project/dinner/scguo/ci-vsd/anton2/prot/civsd.prot.93.xtc',\n",
       " '/project/dinner/scguo/ci-vsd/anton2/prot/civsd.prot.94.xtc',\n",
       " '/project/dinner/scguo/ci-vsd/anton2/prot/civsd.prot.95.xtc',\n",
       " '/project/dinner/scguo/ci-vsd/anton2/prot/civsd.prot.96.xtc',\n",
       " '/project/dinner/scguo/ci-vsd/anton2/prot/civsd.prot.97.xtc',\n",
       " '/project/dinner/scguo/ci-vsd/anton2/prot/civsd.prot.98.xtc',\n",
       " '/project/dinner/scguo/ci-vsd/anton2/prot/civsd.prot.99.xtc',\n",
       " '/project/dinner/scguo/ci-vsd/anton2/prot/civsd.prot.100.xtc',\n",
       " '/project/dinner/scguo/ci-vsd/anton2/prot/civsd.prot.101.xtc',\n",
       " '/project/dinner/scguo/ci-vsd/anton2/prot/civsd.prot.102.xtc',\n",
       " '/project/dinner/scguo/ci-vsd/anton2/prot/civsd.prot.103.xtc',\n",
       " '/project/dinner/scguo/ci-vsd/anton2/prot/civsd.prot.104.xtc',\n",
       " '/project/dinner/scguo/ci-vsd/anton2/prot/civsd.prot.105.xtc',\n",
       " '/project/dinner/scguo/ci-vsd/anton2/prot/civsd.prot.106.xtc',\n",
       " '/project/dinner/scguo/ci-vsd/anton2/prot/civsd.prot.107.xtc',\n",
       " '/project/dinner/scguo/ci-vsd/anton2/prot/civsd.prot.108.xtc',\n",
       " '/project/dinner/scguo/ci-vsd/anton2/prot/civsd.prot.109.xtc',\n",
       " '/project/dinner/scguo/ci-vsd/anton2/prot/civsd.prot.110.xtc',\n",
       " '/project/dinner/scguo/ci-vsd/anton2/prot/civsd.prot.111.xtc',\n",
       " '/project/dinner/scguo/ci-vsd/anton2/prot/civsd.prot.112.xtc',\n",
       " '/project/dinner/scguo/ci-vsd/anton2/prot/civsd.prot.113.xtc',\n",
       " '/project/dinner/scguo/ci-vsd/anton2/prot/civsd.prot.114.xtc',\n",
       " '/project/dinner/scguo/ci-vsd/anton2/prot/civsd.prot.115.xtc',\n",
       " '/project/dinner/scguo/ci-vsd/anton2/prot/civsd.prot.116.xtc',\n",
       " '/project/dinner/scguo/ci-vsd/anton2/prot/civsd.prot.117.xtc',\n",
       " '/project/dinner/scguo/ci-vsd/anton2/prot/civsd.prot.118.xtc']"
      ]
     },
     "execution_count": 10,
     "metadata": {},
     "output_type": "execute_result"
    }
   ],
   "source": [
    "xtc_files"
   ]
  },
  {
   "cell_type": "code",
   "execution_count": 9,
   "metadata": {},
   "outputs": [
    {
     "name": "stderr",
     "output_type": "stream",
     "text": [
      "100%|██████████| 36/36 [00:03<00:00, 10.97it/s]                     \n",
      "100%|██████████| 2844/2844 [01:05<00:00, 43.49it/s]                                 \n"
     ]
    }
   ],
   "source": [
    "feat2_raw = pyemma.coordinates.load(xtc_files, features=feat2, chunksize=128)"
   ]
  },
  {
   "cell_type": "code",
   "execution_count": 10,
   "metadata": {},
   "outputs": [
    {
     "name": "stdout",
     "output_type": "stream",
     "text": [
      "36 (10001, 60)\n"
     ]
    }
   ],
   "source": [
    "print(len(feat2_raw), feat2_raw[0].shape)"
   ]
  },
  {
   "cell_type": "code",
   "execution_count": 11,
   "metadata": {},
   "outputs": [],
   "source": [
    "feat2_raw_old = list(np.load(\"../../data/raw_feat/feat2_raw_anton2.npy\"))"
   ]
  },
  {
   "cell_type": "code",
   "execution_count": 12,
   "metadata": {},
   "outputs": [
    {
     "name": "stdout",
     "output_type": "stream",
     "text": [
      "115\n"
     ]
    }
   ],
   "source": [
    "feat2_raw_old.extend(feat2_raw)\n",
    "print(len(feat2_raw_old))"
   ]
  },
  {
   "cell_type": "code",
   "execution_count": 13,
   "metadata": {},
   "outputs": [],
   "source": [
    "np.save(\"/project/dinner/scguo/ci-vsd/data/raw_feat/feat2_raw_anton2.npy\", feat2_raw_old)"
   ]
  },
  {
   "cell_type": "code",
   "execution_count": 14,
   "metadata": {},
   "outputs": [],
   "source": [
    "feat3_tors = pyemma.coordinates.featurizer(\"../../civsd-pro.pdb\")\n",
    "feat3_tors.add_backbone_torsions(selstr=\"protein and residue 204 to 238\")"
   ]
  },
  {
   "cell_type": "code",
   "execution_count": 15,
   "metadata": {},
   "outputs": [
    {
     "name": "stderr",
     "output_type": "stream",
     "text": [
      "100%|██████████| 36/36 [00:00<00:00, 452.83it/s]           \n",
      "100%|██████████| 11268/11268 [01:12<00:00, 154.70it/s]                                 \n"
     ]
    }
   ],
   "source": [
    "feat3_raw = pyemma.coordinates.load(xtc_files, features=feat3_tors, chunksize=32)"
   ]
  },
  {
   "cell_type": "code",
   "execution_count": 16,
   "metadata": {},
   "outputs": [
    {
     "name": "stdout",
     "output_type": "stream",
     "text": [
      "79\n"
     ]
    }
   ],
   "source": [
    "feat3_raw_old = list(np.load(\"../../data/raw_feat/feat3_torsions_anton2.npy\"))\n",
    "print(len(feat3_raw_old))"
   ]
  },
  {
   "cell_type": "code",
   "execution_count": 17,
   "metadata": {},
   "outputs": [
    {
     "name": "stdout",
     "output_type": "stream",
     "text": [
      "115\n"
     ]
    }
   ],
   "source": [
    "feat3_raw_old.extend(feat3_raw)\n",
    "print(len(feat2_raw_old))"
   ]
  },
  {
   "cell_type": "code",
   "execution_count": 18,
   "metadata": {},
   "outputs": [],
   "source": [
    "np.save(\n",
    "    \"/project/dinner/scguo/ci-vsd/data/raw_feat/feat3_torsions_anton2.npy\", feat3_raw_old\n",
    ")"
   ]
  },
  {
   "cell_type": "code",
   "execution_count": 11,
   "metadata": {},
   "outputs": [
    {
     "name": "stdout",
     "output_type": "stream",
     "text": [
      "1924\n"
     ]
    }
   ],
   "source": [
    "feat4 = pyemma.coordinates.featurizer(\"/project/dinner/scguo/ci-vsd/civsd-pro.pdb\")\n",
    "pair_indices4 = np.loadtxt(\n",
    "    \"/project/dinner/scguo/ci-vsd/data/feat4_atom_indices.txt\",\n",
    "    dtype=np.int32,\n",
    ")\n",
    "feat4.add_residue_mindist(\n",
    "    residue_pairs=pair_indices4, scheme=\"closest-heavy\", threshold=0.45, periodic=False\n",
    ")\n",
    "print(len(feat4.describe()))"
   ]
  },
  {
   "cell_type": "code",
   "execution_count": null,
   "metadata": {},
   "outputs": [
    {
     "name": "stderr",
     "output_type": "stream",
     "text": [
      "100%|██████████| 36/36 [00:05<00:00,  6.10it/s]                     \n",
      "getting output of FeatureReader:  97%|█████████▋| 2771/2844 [10:42<00:17,  4.26it/s]"
     ]
    }
   ],
   "source": [
    "feat4_raw = pyemma.coordinates.load(xtc_files, features=feat4, chunksize=128)"
   ]
  },
  {
   "cell_type": "code",
   "execution_count": null,
   "metadata": {},
   "outputs": [],
   "source": [
    "feat4_raw[0].shape"
   ]
  },
  {
   "cell_type": "code",
   "execution_count": 14,
   "metadata": {},
   "outputs": [],
   "source": [
    "with np.load(\"/project/dinner/scguo/ci-vsd/data/raw_feat/feat5_raw_anton2.npz\") as f:\n",
    "    feat4_raw_old = list(f['arr_0'])"
   ]
  },
  {
   "cell_type": "code",
   "execution_count": 15,
   "metadata": {},
   "outputs": [
    {
     "data": {
      "text/plain": [
       "79"
      ]
     },
     "execution_count": 15,
     "metadata": {},
     "output_type": "execute_result"
    }
   ],
   "source": [
    "len(feat4_raw_old)"
   ]
  },
  {
   "cell_type": "code",
   "execution_count": 16,
   "metadata": {},
   "outputs": [
    {
     "name": "stdout",
     "output_type": "stream",
     "text": [
      "115\n"
     ]
    }
   ],
   "source": [
    "feat4_raw_old.extend(feat4_raw)\n",
    "print(len(feat4_raw_old))"
   ]
  },
  {
   "cell_type": "code",
   "execution_count": 17,
   "metadata": {},
   "outputs": [],
   "source": [
    "with open(\n",
    "    \"/project/dinner/scguo/ci-vsd/data/raw_feat/feat5_raw_anton2.npz\", mode=\"wb+\"\n",
    ") as f:\n",
    "    np.savez_compressed(f, feat4_raw_old)"
   ]
  },
  {
   "cell_type": "markdown",
   "metadata": {
    "tags": []
   },
   "source": [
    "## New 10.24.22"
   ]
  },
  {
   "cell_type": "code",
   "execution_count": 12,
   "metadata": {},
   "outputs": [],
   "source": [
    "xtc_files = []\n",
    "for i in range(119, 152):\n",
    "    xtc_files.append(f\"/project/dinner/scguo/ci-vsd/anton2/prot/civsd.prot.{i}.xtc\")"
   ]
  },
  {
   "cell_type": "code",
   "execution_count": 13,
   "metadata": {
    "scrolled": true,
    "tags": []
   },
   "outputs": [
    {
     "data": {
      "text/plain": [
       "['/project/dinner/scguo/ci-vsd/anton2/prot/civsd.prot.119.xtc',\n",
       " '/project/dinner/scguo/ci-vsd/anton2/prot/civsd.prot.120.xtc',\n",
       " '/project/dinner/scguo/ci-vsd/anton2/prot/civsd.prot.121.xtc',\n",
       " '/project/dinner/scguo/ci-vsd/anton2/prot/civsd.prot.122.xtc',\n",
       " '/project/dinner/scguo/ci-vsd/anton2/prot/civsd.prot.123.xtc',\n",
       " '/project/dinner/scguo/ci-vsd/anton2/prot/civsd.prot.124.xtc',\n",
       " '/project/dinner/scguo/ci-vsd/anton2/prot/civsd.prot.125.xtc',\n",
       " '/project/dinner/scguo/ci-vsd/anton2/prot/civsd.prot.126.xtc',\n",
       " '/project/dinner/scguo/ci-vsd/anton2/prot/civsd.prot.127.xtc',\n",
       " '/project/dinner/scguo/ci-vsd/anton2/prot/civsd.prot.128.xtc',\n",
       " '/project/dinner/scguo/ci-vsd/anton2/prot/civsd.prot.129.xtc',\n",
       " '/project/dinner/scguo/ci-vsd/anton2/prot/civsd.prot.130.xtc',\n",
       " '/project/dinner/scguo/ci-vsd/anton2/prot/civsd.prot.131.xtc',\n",
       " '/project/dinner/scguo/ci-vsd/anton2/prot/civsd.prot.132.xtc',\n",
       " '/project/dinner/scguo/ci-vsd/anton2/prot/civsd.prot.133.xtc',\n",
       " '/project/dinner/scguo/ci-vsd/anton2/prot/civsd.prot.134.xtc',\n",
       " '/project/dinner/scguo/ci-vsd/anton2/prot/civsd.prot.135.xtc',\n",
       " '/project/dinner/scguo/ci-vsd/anton2/prot/civsd.prot.136.xtc',\n",
       " '/project/dinner/scguo/ci-vsd/anton2/prot/civsd.prot.137.xtc',\n",
       " '/project/dinner/scguo/ci-vsd/anton2/prot/civsd.prot.138.xtc',\n",
       " '/project/dinner/scguo/ci-vsd/anton2/prot/civsd.prot.139.xtc',\n",
       " '/project/dinner/scguo/ci-vsd/anton2/prot/civsd.prot.140.xtc',\n",
       " '/project/dinner/scguo/ci-vsd/anton2/prot/civsd.prot.141.xtc',\n",
       " '/project/dinner/scguo/ci-vsd/anton2/prot/civsd.prot.142.xtc',\n",
       " '/project/dinner/scguo/ci-vsd/anton2/prot/civsd.prot.143.xtc',\n",
       " '/project/dinner/scguo/ci-vsd/anton2/prot/civsd.prot.144.xtc',\n",
       " '/project/dinner/scguo/ci-vsd/anton2/prot/civsd.prot.145.xtc',\n",
       " '/project/dinner/scguo/ci-vsd/anton2/prot/civsd.prot.146.xtc',\n",
       " '/project/dinner/scguo/ci-vsd/anton2/prot/civsd.prot.147.xtc',\n",
       " '/project/dinner/scguo/ci-vsd/anton2/prot/civsd.prot.148.xtc',\n",
       " '/project/dinner/scguo/ci-vsd/anton2/prot/civsd.prot.149.xtc',\n",
       " '/project/dinner/scguo/ci-vsd/anton2/prot/civsd.prot.150.xtc',\n",
       " '/project/dinner/scguo/ci-vsd/anton2/prot/civsd.prot.151.xtc']"
      ]
     },
     "execution_count": 13,
     "metadata": {},
     "output_type": "execute_result"
    }
   ],
   "source": [
    "xtc_files"
   ]
  },
  {
   "cell_type": "code",
   "execution_count": 14,
   "metadata": {},
   "outputs": [
    {
     "data": {
      "application/vnd.jupyter.widget-view+json": {
       "model_id": "",
       "version_major": 2,
       "version_minor": 0
      },
      "text/plain": [
       "Obtaining file info:   0%|          | 0/33 [00:00<?, ?it/s]"
      ]
     },
     "metadata": {},
     "output_type": "display_data"
    },
    {
     "data": {
      "application/vnd.jupyter.widget-view+json": {
       "model_id": "",
       "version_major": 2,
       "version_minor": 0
      },
      "text/plain": [
       "getting output of FeatureReader:   0%|          | 0/2607 [00:00<?, ?it/s]"
      ]
     },
     "metadata": {},
     "output_type": "display_data"
    }
   ],
   "source": [
    "feat2_raw = pyemma.coordinates.load(xtc_files, features=feat2, chunksize=128)"
   ]
  },
  {
   "cell_type": "code",
   "execution_count": 15,
   "metadata": {},
   "outputs": [
    {
     "name": "stdout",
     "output_type": "stream",
     "text": [
      "33 (10001, 60)\n"
     ]
    }
   ],
   "source": [
    "print(len(feat2_raw), feat2_raw[0].shape)"
   ]
  },
  {
   "cell_type": "code",
   "execution_count": 16,
   "metadata": {},
   "outputs": [],
   "source": [
    "feat2_raw_old = list(np.load(\"../../data/raw_feat/feat2_raw_anton2.npy\"))"
   ]
  },
  {
   "cell_type": "code",
   "execution_count": 17,
   "metadata": {},
   "outputs": [
    {
     "name": "stdout",
     "output_type": "stream",
     "text": [
      "148\n"
     ]
    }
   ],
   "source": [
    "feat2_raw_old.extend(feat2_raw)\n",
    "print(len(feat2_raw_old))"
   ]
  },
  {
   "cell_type": "code",
   "execution_count": 18,
   "metadata": {},
   "outputs": [],
   "source": [
    "np.save(\"/project/dinner/scguo/ci-vsd/data/raw_feat/feat2_raw_anton2.npy\", feat2_raw_old)"
   ]
  },
  {
   "cell_type": "code",
   "execution_count": 19,
   "metadata": {},
   "outputs": [],
   "source": [
    "feat3_tors = pyemma.coordinates.featurizer(\"../../civsd-pro.pdb\")\n",
    "feat3_tors.add_backbone_torsions(selstr=\"protein and residue 204 to 238\")"
   ]
  },
  {
   "cell_type": "code",
   "execution_count": 20,
   "metadata": {},
   "outputs": [
    {
     "data": {
      "application/vnd.jupyter.widget-view+json": {
       "model_id": "",
       "version_major": 2,
       "version_minor": 0
      },
      "text/plain": [
       "Obtaining file info:   0%|          | 0/33 [00:00<?, ?it/s]"
      ]
     },
     "metadata": {},
     "output_type": "display_data"
    },
    {
     "data": {
      "application/vnd.jupyter.widget-view+json": {
       "model_id": "",
       "version_major": 2,
       "version_minor": 0
      },
      "text/plain": [
       "getting output of FeatureReader:   0%|          | 0/10329 [00:00<?, ?it/s]"
      ]
     },
     "metadata": {},
     "output_type": "display_data"
    }
   ],
   "source": [
    "feat3_raw = pyemma.coordinates.load(xtc_files, features=feat3_tors, chunksize=32)"
   ]
  },
  {
   "cell_type": "code",
   "execution_count": 22,
   "metadata": {},
   "outputs": [
    {
     "name": "stdout",
     "output_type": "stream",
     "text": [
      "115\n"
     ]
    }
   ],
   "source": [
    "feat3_raw_old = list(np.load(\"../../data/raw_feat/feat3_torsions_anton2.npy\"))\n",
    "print(len(feat3_raw_old))"
   ]
  },
  {
   "cell_type": "code",
   "execution_count": 23,
   "metadata": {},
   "outputs": [
    {
     "name": "stdout",
     "output_type": "stream",
     "text": [
      "148\n"
     ]
    }
   ],
   "source": [
    "feat3_raw_old.extend(feat3_raw)\n",
    "print(len(feat3_raw_old))"
   ]
  },
  {
   "cell_type": "code",
   "execution_count": 24,
   "metadata": {},
   "outputs": [],
   "source": [
    "np.save(\n",
    "    \"/project/dinner/scguo/ci-vsd/data/raw_feat/feat3_torsions_anton2.npy\", feat3_raw_old\n",
    ")"
   ]
  },
  {
   "cell_type": "code",
   "execution_count": 25,
   "metadata": {},
   "outputs": [
    {
     "name": "stdout",
     "output_type": "stream",
     "text": [
      "1924\n"
     ]
    }
   ],
   "source": [
    "feat4 = pyemma.coordinates.featurizer(\"/project/dinner/scguo/ci-vsd/civsd-pro.pdb\")\n",
    "pair_indices4 = np.loadtxt(\n",
    "    \"/project/dinner/scguo/ci-vsd/data/feat4_atom_indices.txt\",\n",
    "    dtype=np.int32,\n",
    ")\n",
    "feat4.add_residue_mindist(\n",
    "    residue_pairs=pair_indices4, scheme=\"closest-heavy\", threshold=0.45, periodic=False\n",
    ")\n",
    "print(len(feat4.describe()))"
   ]
  },
  {
   "cell_type": "code",
   "execution_count": 26,
   "metadata": {},
   "outputs": [
    {
     "data": {
      "application/vnd.jupyter.widget-view+json": {
       "model_id": "",
       "version_major": 2,
       "version_minor": 0
      },
      "text/plain": [
       "Obtaining file info:   0%|          | 0/33 [00:00<?, ?it/s]"
      ]
     },
     "metadata": {},
     "output_type": "display_data"
    },
    {
     "data": {
      "application/vnd.jupyter.widget-view+json": {
       "model_id": "",
       "version_major": 2,
       "version_minor": 0
      },
      "text/plain": [
       "getting output of FeatureReader:   0%|          | 0/2607 [00:00<?, ?it/s]"
      ]
     },
     "metadata": {},
     "output_type": "display_data"
    }
   ],
   "source": [
    "feat4_raw = pyemma.coordinates.load(xtc_files, features=feat4, chunksize=128)"
   ]
  },
  {
   "cell_type": "code",
   "execution_count": 27,
   "metadata": {},
   "outputs": [
    {
     "data": {
      "text/plain": [
       "(10001, 1924)"
      ]
     },
     "execution_count": 27,
     "metadata": {},
     "output_type": "execute_result"
    }
   ],
   "source": [
    "feat4_raw[0].shape"
   ]
  },
  {
   "cell_type": "code",
   "execution_count": 28,
   "metadata": {},
   "outputs": [],
   "source": [
    "with np.load(\"/project/dinner/scguo/ci-vsd/data/raw_feat/feat5_raw_anton2.npz\") as f:\n",
    "    feat4_raw_old = list(f['arr_0'])"
   ]
  },
  {
   "cell_type": "code",
   "execution_count": 29,
   "metadata": {},
   "outputs": [
    {
     "data": {
      "text/plain": [
       "115"
      ]
     },
     "execution_count": 29,
     "metadata": {},
     "output_type": "execute_result"
    }
   ],
   "source": [
    "len(feat4_raw_old)"
   ]
  },
  {
   "cell_type": "code",
   "execution_count": 30,
   "metadata": {},
   "outputs": [
    {
     "name": "stdout",
     "output_type": "stream",
     "text": [
      "148\n"
     ]
    }
   ],
   "source": [
    "feat4_raw_old.extend(feat4_raw)\n",
    "print(len(feat4_raw_old))"
   ]
  },
  {
   "cell_type": "code",
   "execution_count": 31,
   "metadata": {},
   "outputs": [],
   "source": [
    "with open(\n",
    "    \"/project/dinner/scguo/ci-vsd/data/raw_feat/feat5_raw_anton2.npz\", mode=\"wb+\"\n",
    ") as f:\n",
    "    np.savez_compressed(f, feat4_raw_old)"
   ]
  },
  {
   "cell_type": "markdown",
   "metadata": {},
   "source": [
    "## New 11.20.22"
   ]
  },
  {
   "cell_type": "code",
   "execution_count": 6,
   "metadata": {},
   "outputs": [],
   "source": [
    "xtc_files = []\n",
    "for i in range(152, 188):\n",
    "    xtc_files.append(f\"/project/dinner/scguo/ci-vsd/anton2/prot/civsd.prot.{i}.xtc\")"
   ]
  },
  {
   "cell_type": "code",
   "execution_count": 7,
   "metadata": {
    "scrolled": true,
    "tags": []
   },
   "outputs": [
    {
     "data": {
      "text/plain": [
       "['/project/dinner/scguo/ci-vsd/anton2/prot/civsd.prot.152.xtc',\n",
       " '/project/dinner/scguo/ci-vsd/anton2/prot/civsd.prot.153.xtc',\n",
       " '/project/dinner/scguo/ci-vsd/anton2/prot/civsd.prot.154.xtc',\n",
       " '/project/dinner/scguo/ci-vsd/anton2/prot/civsd.prot.155.xtc',\n",
       " '/project/dinner/scguo/ci-vsd/anton2/prot/civsd.prot.156.xtc',\n",
       " '/project/dinner/scguo/ci-vsd/anton2/prot/civsd.prot.157.xtc',\n",
       " '/project/dinner/scguo/ci-vsd/anton2/prot/civsd.prot.158.xtc',\n",
       " '/project/dinner/scguo/ci-vsd/anton2/prot/civsd.prot.159.xtc',\n",
       " '/project/dinner/scguo/ci-vsd/anton2/prot/civsd.prot.160.xtc',\n",
       " '/project/dinner/scguo/ci-vsd/anton2/prot/civsd.prot.161.xtc',\n",
       " '/project/dinner/scguo/ci-vsd/anton2/prot/civsd.prot.162.xtc',\n",
       " '/project/dinner/scguo/ci-vsd/anton2/prot/civsd.prot.163.xtc',\n",
       " '/project/dinner/scguo/ci-vsd/anton2/prot/civsd.prot.164.xtc',\n",
       " '/project/dinner/scguo/ci-vsd/anton2/prot/civsd.prot.165.xtc',\n",
       " '/project/dinner/scguo/ci-vsd/anton2/prot/civsd.prot.166.xtc',\n",
       " '/project/dinner/scguo/ci-vsd/anton2/prot/civsd.prot.167.xtc',\n",
       " '/project/dinner/scguo/ci-vsd/anton2/prot/civsd.prot.168.xtc',\n",
       " '/project/dinner/scguo/ci-vsd/anton2/prot/civsd.prot.169.xtc',\n",
       " '/project/dinner/scguo/ci-vsd/anton2/prot/civsd.prot.170.xtc',\n",
       " '/project/dinner/scguo/ci-vsd/anton2/prot/civsd.prot.171.xtc',\n",
       " '/project/dinner/scguo/ci-vsd/anton2/prot/civsd.prot.172.xtc',\n",
       " '/project/dinner/scguo/ci-vsd/anton2/prot/civsd.prot.173.xtc',\n",
       " '/project/dinner/scguo/ci-vsd/anton2/prot/civsd.prot.174.xtc',\n",
       " '/project/dinner/scguo/ci-vsd/anton2/prot/civsd.prot.175.xtc',\n",
       " '/project/dinner/scguo/ci-vsd/anton2/prot/civsd.prot.176.xtc',\n",
       " '/project/dinner/scguo/ci-vsd/anton2/prot/civsd.prot.177.xtc',\n",
       " '/project/dinner/scguo/ci-vsd/anton2/prot/civsd.prot.178.xtc',\n",
       " '/project/dinner/scguo/ci-vsd/anton2/prot/civsd.prot.179.xtc',\n",
       " '/project/dinner/scguo/ci-vsd/anton2/prot/civsd.prot.180.xtc',\n",
       " '/project/dinner/scguo/ci-vsd/anton2/prot/civsd.prot.181.xtc',\n",
       " '/project/dinner/scguo/ci-vsd/anton2/prot/civsd.prot.182.xtc',\n",
       " '/project/dinner/scguo/ci-vsd/anton2/prot/civsd.prot.183.xtc',\n",
       " '/project/dinner/scguo/ci-vsd/anton2/prot/civsd.prot.184.xtc',\n",
       " '/project/dinner/scguo/ci-vsd/anton2/prot/civsd.prot.185.xtc',\n",
       " '/project/dinner/scguo/ci-vsd/anton2/prot/civsd.prot.186.xtc',\n",
       " '/project/dinner/scguo/ci-vsd/anton2/prot/civsd.prot.187.xtc']"
      ]
     },
     "execution_count": 7,
     "metadata": {},
     "output_type": "execute_result"
    }
   ],
   "source": [
    "xtc_files"
   ]
  },
  {
   "cell_type": "code",
   "execution_count": 9,
   "metadata": {},
   "outputs": [
    {
     "data": {
      "application/vnd.jupyter.widget-view+json": {
       "model_id": "",
       "version_major": 2,
       "version_minor": 0
      },
      "text/plain": [
       "Obtaining file info:   0%|          | 0/36 [00:00<?, ?it/s]"
      ]
     },
     "metadata": {},
     "output_type": "display_data"
    },
    {
     "data": {
      "application/vnd.jupyter.widget-view+json": {
       "model_id": "",
       "version_major": 2,
       "version_minor": 0
      },
      "text/plain": [
       "getting output of FeatureReader:   0%|          | 0/2844 [00:00<?, ?it/s]"
      ]
     },
     "metadata": {},
     "output_type": "display_data"
    }
   ],
   "source": [
    "feat2_raw = pyemma.coordinates.load(xtc_files, features=feat2, chunksize=128)"
   ]
  },
  {
   "cell_type": "code",
   "execution_count": 10,
   "metadata": {},
   "outputs": [
    {
     "name": "stdout",
     "output_type": "stream",
     "text": [
      "36 (10001, 60)\n"
     ]
    }
   ],
   "source": [
    "print(len(feat2_raw), feat2_raw[0].shape)"
   ]
  },
  {
   "cell_type": "code",
   "execution_count": 11,
   "metadata": {},
   "outputs": [],
   "source": [
    "feat2_raw_old = list(np.load(\"../../data/raw_feat/feat2_raw_anton2.npy\"))"
   ]
  },
  {
   "cell_type": "code",
   "execution_count": 12,
   "metadata": {},
   "outputs": [
    {
     "name": "stdout",
     "output_type": "stream",
     "text": [
      "184\n"
     ]
    }
   ],
   "source": [
    "feat2_raw_old.extend(feat2_raw)\n",
    "print(len(feat2_raw_old))"
   ]
  },
  {
   "cell_type": "code",
   "execution_count": 13,
   "metadata": {},
   "outputs": [],
   "source": [
    "np.save(\"/project/dinner/scguo/ci-vsd/data/raw_feat/feat2_raw_anton2.npy\", feat2_raw_old)"
   ]
  },
  {
   "cell_type": "code",
   "execution_count": 14,
   "metadata": {},
   "outputs": [],
   "source": [
    "feat3_tors = pyemma.coordinates.featurizer(\"../../civsd-pro.pdb\")\n",
    "feat3_tors.add_backbone_torsions(selstr=\"protein and residue 204 to 238\")"
   ]
  },
  {
   "cell_type": "code",
   "execution_count": 15,
   "metadata": {},
   "outputs": [
    {
     "data": {
      "application/vnd.jupyter.widget-view+json": {
       "model_id": "",
       "version_major": 2,
       "version_minor": 0
      },
      "text/plain": [
       "Obtaining file info:   0%|          | 0/36 [00:00<?, ?it/s]"
      ]
     },
     "metadata": {},
     "output_type": "display_data"
    },
    {
     "data": {
      "application/vnd.jupyter.widget-view+json": {
       "model_id": "",
       "version_major": 2,
       "version_minor": 0
      },
      "text/plain": [
       "getting output of FeatureReader:   0%|          | 0/11268 [00:00<?, ?it/s]"
      ]
     },
     "metadata": {},
     "output_type": "display_data"
    }
   ],
   "source": [
    "feat3_raw = pyemma.coordinates.load(xtc_files, features=feat3_tors, chunksize=32)"
   ]
  },
  {
   "cell_type": "code",
   "execution_count": 16,
   "metadata": {},
   "outputs": [
    {
     "name": "stdout",
     "output_type": "stream",
     "text": [
      "148\n"
     ]
    }
   ],
   "source": [
    "feat3_raw_old = list(np.load(\"../../data/raw_feat/feat3_torsions_anton2.npy\"))\n",
    "print(len(feat3_raw_old))"
   ]
  },
  {
   "cell_type": "code",
   "execution_count": 17,
   "metadata": {},
   "outputs": [
    {
     "name": "stdout",
     "output_type": "stream",
     "text": [
      "184\n"
     ]
    }
   ],
   "source": [
    "feat3_raw_old.extend(feat3_raw)\n",
    "print(len(feat3_raw_old))"
   ]
  },
  {
   "cell_type": "code",
   "execution_count": 18,
   "metadata": {},
   "outputs": [],
   "source": [
    "np.save(\n",
    "    \"/project/dinner/scguo/ci-vsd/data/raw_feat/feat3_torsions_anton2.npy\", feat3_raw_old\n",
    ")"
   ]
  },
  {
   "cell_type": "code",
   "execution_count": 8,
   "metadata": {},
   "outputs": [
    {
     "name": "stdout",
     "output_type": "stream",
     "text": [
      "1924\n"
     ]
    }
   ],
   "source": [
    "feat4 = pyemma.coordinates.featurizer(\"/project/dinner/scguo/ci-vsd/civsd-pro.pdb\")\n",
    "pair_indices4 = np.loadtxt(\n",
    "    \"/project/dinner/scguo/ci-vsd/data/feat4_atom_indices.txt\",\n",
    "    dtype=np.int32,\n",
    ")\n",
    "feat4.add_residue_mindist(\n",
    "    residue_pairs=pair_indices4, scheme=\"closest-heavy\", threshold=0.45, periodic=False\n",
    ")\n",
    "print(len(feat4.describe()))"
   ]
  },
  {
   "cell_type": "code",
   "execution_count": 9,
   "metadata": {},
   "outputs": [
    {
     "data": {
      "application/vnd.jupyter.widget-view+json": {
       "model_id": "",
       "version_major": 2,
       "version_minor": 0
      },
      "text/plain": [
       "Obtaining file info:   0%|          | 0/36 [00:00<?, ?it/s]"
      ]
     },
     "metadata": {},
     "output_type": "display_data"
    },
    {
     "data": {
      "application/vnd.jupyter.widget-view+json": {
       "model_id": "",
       "version_major": 2,
       "version_minor": 0
      },
      "text/plain": [
       "getting output of FeatureReader:   0%|          | 0/2844 [00:00<?, ?it/s]"
      ]
     },
     "metadata": {},
     "output_type": "display_data"
    }
   ],
   "source": [
    "feat4_raw = pyemma.coordinates.load(xtc_files, features=feat4, chunksize=128)"
   ]
  },
  {
   "cell_type": "code",
   "execution_count": 10,
   "metadata": {},
   "outputs": [
    {
     "data": {
      "text/plain": [
       "(10001, 1924)"
      ]
     },
     "execution_count": 10,
     "metadata": {},
     "output_type": "execute_result"
    }
   ],
   "source": [
    "feat4_raw[0].shape"
   ]
  },
  {
   "cell_type": "code",
   "execution_count": 11,
   "metadata": {},
   "outputs": [],
   "source": [
    "with np.load(\"/project/dinner/scguo/ci-vsd/data/raw_feat/feat5_raw_anton2.npz\") as f:\n",
    "    feat4_raw_old = list(f['arr_0'])"
   ]
  },
  {
   "cell_type": "code",
   "execution_count": 12,
   "metadata": {},
   "outputs": [
    {
     "data": {
      "text/plain": [
       "148"
      ]
     },
     "execution_count": 12,
     "metadata": {},
     "output_type": "execute_result"
    }
   ],
   "source": [
    "len(feat4_raw_old)"
   ]
  },
  {
   "cell_type": "code",
   "execution_count": 13,
   "metadata": {},
   "outputs": [
    {
     "name": "stdout",
     "output_type": "stream",
     "text": [
      "184\n"
     ]
    }
   ],
   "source": [
    "feat4_raw_old.extend(feat4_raw)\n",
    "print(len(feat4_raw_old))"
   ]
  },
  {
   "cell_type": "code",
   "execution_count": 15,
   "metadata": {},
   "outputs": [],
   "source": [
    "with open(\n",
    "    \"/project/dinner/scguo/ci-vsd/data/raw_feat/feat5_raw_anton2.npz\", mode=\"wb+\"\n",
    ") as f:\n",
    "    np.savez_compressed(f, feat4_raw_old)"
   ]
  },
  {
   "cell_type": "markdown",
   "metadata": {},
   "source": [
    "# Load CV files"
   ]
  },
  {
   "cell_type": "code",
   "execution_count": null,
   "metadata": {},
   "outputs": [],
   "source": [
    "cvs = []\n",
    "for i in range(3, 14):\n",
    "    cvs.append(np.loadtxt(f\"/project2/roux/scguo/ci-vsd/anton2/cvfiles/ds-{i}.txt\"))"
   ]
  },
  {
   "cell_type": "code",
   "execution_count": null,
   "metadata": {},
   "outputs": [],
   "source": [
    "cvs[0].shape"
   ]
  },
  {
   "cell_type": "code",
   "execution_count": null,
   "metadata": {},
   "outputs": [],
   "source": [
    "np.save(\"/project2/roux/scguo/ci-vsd/data/raw_feat/cv_dist_spin_anton2.npy\", cvs)"
   ]
  },
  {
   "cell_type": "code",
   "execution_count": 62,
   "metadata": {},
   "outputs": [
    {
     "name": "stdout",
     "output_type": "stream",
     "text": [
      "52\n"
     ]
    }
   ],
   "source": [
    "cvs = list(np.load(\"/project/dinner/scguo/ci-vsd/data/raw_feat/cv_dist_spin_anton2.npy\"))\n",
    "print(len(cvs))"
   ]
  },
  {
   "cell_type": "code",
   "execution_count": 63,
   "metadata": {},
   "outputs": [],
   "source": [
    "for i in range(55, 63):\n",
    "    cvs.append(np.loadtxt(f\"/project/dinner/scguo/ci-vsd/anton2/cvfiles/ds-{i}.txt\"))"
   ]
  },
  {
   "cell_type": "code",
   "execution_count": 64,
   "metadata": {},
   "outputs": [
    {
     "name": "stdout",
     "output_type": "stream",
     "text": [
      "60\n"
     ]
    }
   ],
   "source": [
    "print(len(cvs))"
   ]
  },
  {
   "cell_type": "code",
   "execution_count": 65,
   "metadata": {},
   "outputs": [],
   "source": [
    "np.save(\"/project/dinner/scguo/ci-vsd/data/raw_feat/cv_dist_spin_anton2.npy\", cvs)"
   ]
  },
  {
   "cell_type": "markdown",
   "metadata": {},
   "source": [
    "3.17.22"
   ]
  },
  {
   "cell_type": "code",
   "execution_count": 26,
   "metadata": {},
   "outputs": [
    {
     "name": "stdout",
     "output_type": "stream",
     "text": [
      "60\n"
     ]
    }
   ],
   "source": [
    "cvs = list(np.load(\"/project/dinner/scguo/ci-vsd/data/raw_feat/cv_dist_spin_anton2.npy\"))\n",
    "print(len(cvs))"
   ]
  },
  {
   "cell_type": "code",
   "execution_count": 27,
   "metadata": {},
   "outputs": [],
   "source": [
    "for i in range(63, 82):\n",
    "    cvs.append(np.loadtxt(f\"/project/dinner/scguo/ci-vsd/anton2/cvfiles/ds-{i}.txt\"))"
   ]
  },
  {
   "cell_type": "code",
   "execution_count": 28,
   "metadata": {},
   "outputs": [
    {
     "name": "stdout",
     "output_type": "stream",
     "text": [
      "79\n"
     ]
    }
   ],
   "source": [
    "print(len(cvs))"
   ]
  },
  {
   "cell_type": "code",
   "execution_count": 29,
   "metadata": {},
   "outputs": [],
   "source": [
    "np.save(\"/project/dinner/scguo/ci-vsd/data/raw_feat/cv_dist_spin_anton2.npy\", cvs)"
   ]
  },
  {
   "cell_type": "markdown",
   "metadata": {},
   "source": [
    "3.25.22"
   ]
  },
  {
   "cell_type": "code",
   "execution_count": 25,
   "metadata": {},
   "outputs": [
    {
     "name": "stdout",
     "output_type": "stream",
     "text": [
      "79\n"
     ]
    }
   ],
   "source": [
    "cvs = list(np.load(\"/project/dinner/scguo/ci-vsd/data/raw_feat/cv_dist_spin_anton2.npy\"))\n",
    "print(len(cvs))"
   ]
  },
  {
   "cell_type": "code",
   "execution_count": 26,
   "metadata": {},
   "outputs": [],
   "source": [
    "for i in range(83, 119):\n",
    "    cvs.append(np.loadtxt(f\"/project/dinner/scguo/ci-vsd/anton2/cvfiles/ds-{i}.txt\"))"
   ]
  },
  {
   "cell_type": "code",
   "execution_count": 27,
   "metadata": {},
   "outputs": [
    {
     "name": "stdout",
     "output_type": "stream",
     "text": [
      "115\n"
     ]
    }
   ],
   "source": [
    "print(len(cvs))"
   ]
  },
  {
   "cell_type": "code",
   "execution_count": 28,
   "metadata": {},
   "outputs": [],
   "source": [
    "np.save(\"/project/dinner/scguo/ci-vsd/data/raw_feat/cv_dist_spin_anton2.npy\", cvs)"
   ]
  },
  {
   "cell_type": "markdown",
   "metadata": {},
   "source": [
    "10.24.22"
   ]
  },
  {
   "cell_type": "code",
   "execution_count": 32,
   "metadata": {},
   "outputs": [
    {
     "name": "stdout",
     "output_type": "stream",
     "text": [
      "115\n"
     ]
    }
   ],
   "source": [
    "cvs = list(np.load(\"/project/dinner/scguo/ci-vsd/data/raw_feat/cv_dist_spin_anton2.npy\"))\n",
    "print(len(cvs))"
   ]
  },
  {
   "cell_type": "code",
   "execution_count": 33,
   "metadata": {},
   "outputs": [
    {
     "name": "stdout",
     "output_type": "stream",
     "text": [
      "148\n"
     ]
    }
   ],
   "source": [
    "for i in range(119, 152):\n",
    "    cvs.append(np.loadtxt(f\"/project/dinner/scguo/ci-vsd/anton2/cvfiles/ds-{i}.txt\"))\n",
    "print(len(cvs))"
   ]
  },
  {
   "cell_type": "code",
   "execution_count": 34,
   "metadata": {},
   "outputs": [],
   "source": [
    "np.save(\"/project/dinner/scguo/ci-vsd/data/raw_feat/cv_dist_spin_anton2.npy\", cvs)"
   ]
  },
  {
   "cell_type": "markdown",
   "metadata": {},
   "source": [
    "11.23.22"
   ]
  },
  {
   "cell_type": "code",
   "execution_count": 16,
   "metadata": {},
   "outputs": [
    {
     "name": "stdout",
     "output_type": "stream",
     "text": [
      "148\n"
     ]
    }
   ],
   "source": [
    "cvs = list(np.load(\"/project/dinner/scguo/ci-vsd/data/raw_feat/cv_dist_spin_anton2.npy\"))\n",
    "print(len(cvs))"
   ]
  },
  {
   "cell_type": "code",
   "execution_count": 17,
   "metadata": {},
   "outputs": [
    {
     "name": "stdout",
     "output_type": "stream",
     "text": [
      "184\n"
     ]
    }
   ],
   "source": [
    "for i in range(152, 188):\n",
    "    cvs.append(np.loadtxt(f\"/project/dinner/scguo/ci-vsd/anton2/cvfiles/ds-{i}.txt\"))\n",
    "print(len(cvs))"
   ]
  },
  {
   "cell_type": "code",
   "execution_count": 18,
   "metadata": {},
   "outputs": [],
   "source": [
    "np.save(\"/project/dinner/scguo/ci-vsd/data/raw_feat/cv_dist_spin_anton2.npy\", cvs)"
   ]
  },
  {
   "cell_type": "markdown",
   "metadata": {},
   "source": [
    "# Plot new data"
   ]
  },
  {
   "cell_type": "code",
   "execution_count": 35,
   "metadata": {},
   "outputs": [],
   "source": [
    "cv_trajs = list(\n",
    "    np.load(\"../../data/raw_feat/cv_dist_spin_anton.npy\", allow_pickle=True)\n",
    ")"
   ]
  },
  {
   "cell_type": "code",
   "execution_count": 36,
   "metadata": {},
   "outputs": [],
   "source": [
    "sb_labels = []\n",
    "for r in (\"R217\", \"R223\", \"R226\", \"R229\", \"R232\"):\n",
    "    for n in (\"D129\", \"D136\", \"D151\", \"D164\", \"E183\", \"D186\"):\n",
    "        sb_labels.append(f\"{r} - {n}\")"
   ]
  },
  {
   "cell_type": "code",
   "execution_count": 37,
   "metadata": {},
   "outputs": [],
   "source": [
    "sb_trajs = list(np.load(\"../../data/raw_feat/feat2_raw_anton.npy\", allow_pickle=True))"
   ]
  },
  {
   "cell_type": "code",
   "execution_count": 38,
   "metadata": {},
   "outputs": [
    {
     "name": "stdout",
     "output_type": "stream",
     "text": [
      "(4480148, 2) (4480148, 60)\n"
     ]
    }
   ],
   "source": [
    "# add new sampling\n",
    "cv_trajs.extend(cvs)\n",
    "sb_trajs.extend(feat2_raw_old)\n",
    "\n",
    "cv_arr = np.concatenate(cv_trajs)\n",
    "sb_arr = np.concatenate(sb_trajs)\n",
    "print(cv_arr.shape, sb_arr.shape)"
   ]
  },
  {
   "cell_type": "code",
   "execution_count": 39,
   "metadata": {},
   "outputs": [
    {
     "name": "stdout",
     "output_type": "stream",
     "text": [
      "385\n"
     ]
    }
   ],
   "source": [
    "print(len(cv_trajs))"
   ]
  },
  {
   "cell_type": "code",
   "execution_count": 40,
   "metadata": {},
   "outputs": [],
   "source": [
    "random.seed(123)\n",
    "s = 10\n",
    "N = len(cv_arr)\n",
    "inds = random.sample(range(N), N // s)"
   ]
  },
  {
   "cell_type": "code",
   "execution_count": 41,
   "metadata": {},
   "outputs": [
    {
     "data": {
      "text/plain": [
       "<matplotlib.colorbar.Colorbar at 0x7f5e11017970>"
      ]
     },
     "execution_count": 41,
     "metadata": {},
     "output_type": "execute_result"
    },
    {
     "data": {
      "image/png": "[encoded data removed]",
      "text/plain": [
       "<Figure size 432x288 with 2 Axes>"
      ]
     },
     "metadata": {
      "needs_background": "light"
     },
     "output_type": "display_data"
    }
   ],
   "source": [
    "h, xe, ye, _ = plt.hist2d(cv_arr[:, 0], cv_arr[:, 1], bins=100, density=True, cmap=cm_seq, vmax=0.008)\n",
    "plt.colorbar()"
   ]
  },
  {
   "cell_type": "code",
   "execution_count": 42,
   "metadata": {},
   "outputs": [
    {
     "data": {
      "text/plain": [
       "<matplotlib.colorbar.Colorbar at 0x7f5aee7bf550>"
      ]
     },
     "execution_count": 42,
     "metadata": {},
     "output_type": "execute_result"
    },
    {
     "data": {
      "image/png": "[encoded data removed]",
      "text/plain": [
       "<Figure size 432x288 with 2 Axes>"
      ]
     },
     "metadata": {
      "needs_background": "light"
     },
     "output_type": "display_data"
    }
   ],
   "source": [
    "e = 3_000_000\n",
    "h, xe, ye, _ = plt.hist2d(cv_arr[e:, 0], cv_arr[e:, 1], bins=100, density=True, cmap=cm_seq, vmax=0.008)\n",
    "plt.colorbar()"
   ]
  },
  {
   "cell_type": "code",
   "execution_count": 44,
   "metadata": {},
   "outputs": [
    {
     "data": {
      "image/png": "[encoded data removed]",
      "text/plain": [
       "<Figure size 432x288 with 1 Axes>"
      ]
     },
     "metadata": {
      "needs_background": "light"
     },
     "output_type": "display_data"
    }
   ],
   "source": [
    "plt.scatter(*np.concatenate(cvs[-33:]).T)\n",
    "plotting.format_cvs(plt.gca(), ms=6)"
   ]
  },
  {
   "cell_type": "markdown",
   "metadata": {},
   "source": [
    "# New features"
   ]
  },
  {
   "cell_type": "code",
   "execution_count": 27,
   "metadata": {},
   "outputs": [
    {
     "name": "stdout",
     "output_type": "stream",
     "text": [
      "28-03-22 20:32:27 pyemma.coordinates.data.featurization.featurizer.MDFeaturizer[9] WARNING  The 1D arrays input for add_distances() have been sorted, and index duplicates have been eliminated.\n",
      "Check the output of describe() to see the actual order of the features\n"
     ]
    }
   ],
   "source": [
    "feat6 = pyemma.coordinates.featurizer(\"../../civsd-pro.pdb\")\n",
    "# pair_indices = np.loadtxt(\"../../data/feat3_atom_indices.txt\", dtype=np.int32)\n",
    "# feat6.add_distances(pair_indices)\n",
    "arg = feat6.select(\"residue 217 223 226 229 232 and name CA CZ\")\n",
    "plug = feat6.select(\"residue 126 161 190 and name CA\")\n",
    "\n",
    "feat6.add_distances(arg, indices2=plug)"
   ]
  },
  {
   "cell_type": "code",
   "execution_count": 28,
   "metadata": {
    "scrolled": true,
    "tags": []
   },
   "outputs": [
    {
     "data": {
      "text/plain": [
       "['DIST: ARG 217 CA 1768 - ILE 126 CA 348',\n",
       " 'DIST: ARG 217 CA 1768 - PHE 161 CA 888',\n",
       " 'DIST: ARG 217 CA 1768 - ILE 190 CA 1356',\n",
       " 'DIST: ARG 217 CZ 1781 - ILE 126 CA 348',\n",
       " 'DIST: ARG 217 CZ 1781 - PHE 161 CA 888',\n",
       " 'DIST: ARG 217 CZ 1781 - ILE 190 CA 1356',\n",
       " 'DIST: ARG 223 CA 1872 - ILE 126 CA 348',\n",
       " 'DIST: ARG 223 CA 1872 - PHE 161 CA 888',\n",
       " 'DIST: ARG 223 CA 1872 - ILE 190 CA 1356',\n",
       " 'DIST: ARG 223 CZ 1885 - ILE 126 CA 348',\n",
       " 'DIST: ARG 223 CZ 1885 - PHE 161 CA 888',\n",
       " 'DIST: ARG 223 CZ 1885 - ILE 190 CA 1356',\n",
       " 'DIST: ARG 226 CA 1934 - ILE 126 CA 348',\n",
       " 'DIST: ARG 226 CA 1934 - PHE 161 CA 888',\n",
       " 'DIST: ARG 226 CA 1934 - ILE 190 CA 1356',\n",
       " 'DIST: ARG 226 CZ 1947 - ILE 126 CA 348',\n",
       " 'DIST: ARG 226 CZ 1947 - PHE 161 CA 888',\n",
       " 'DIST: ARG 226 CZ 1947 - ILE 190 CA 1356',\n",
       " 'DIST: ARG 229 CA 1990 - ILE 126 CA 348',\n",
       " 'DIST: ARG 229 CA 1990 - PHE 161 CA 888',\n",
       " 'DIST: ARG 229 CA 1990 - ILE 190 CA 1356',\n",
       " 'DIST: ARG 229 CZ 2003 - ILE 126 CA 348',\n",
       " 'DIST: ARG 229 CZ 2003 - PHE 161 CA 888',\n",
       " 'DIST: ARG 229 CZ 2003 - ILE 190 CA 1356',\n",
       " 'DIST: ARG 232 CA 2043 - ILE 126 CA 348',\n",
       " 'DIST: ARG 232 CA 2043 - PHE 161 CA 888',\n",
       " 'DIST: ARG 232 CA 2043 - ILE 190 CA 1356',\n",
       " 'DIST: ARG 232 CZ 2056 - ILE 126 CA 348',\n",
       " 'DIST: ARG 232 CZ 2056 - PHE 161 CA 888',\n",
       " 'DIST: ARG 232 CZ 2056 - ILE 190 CA 1356']"
      ]
     },
     "execution_count": 28,
     "metadata": {},
     "output_type": "execute_result"
    }
   ],
   "source": [
    "feat6.describe()"
   ]
  },
  {
   "cell_type": "code",
   "execution_count": 29,
   "metadata": {},
   "outputs": [
    {
     "data": {
      "text/plain": [
       "30"
      ]
     },
     "execution_count": 29,
     "metadata": {},
     "output_type": "execute_result"
    }
   ],
   "source": [
    "len(feat6.describe())"
   ]
  },
  {
   "cell_type": "code",
   "execution_count": 32,
   "metadata": {
    "tags": []
   },
   "outputs": [],
   "source": [
    "files = []\n",
    "remove = {1282,\n",
    "    1283,\n",
    "    1284,\n",
    "    1285,\n",
    "    1286,\n",
    "    1288,\n",
    "    1289,\n",
    "    1290,\n",
    "    1187,\n",
    "    1188,\n",
    "    1189,\n",
    "    1190,\n",
    "    1191,\n",
    "    1197,\n",
    "    1198,\n",
    "    1199,\n",
    "    1203,\n",
    "    1205,\n",
    "    1206,\n",
    "    1207,\n",
    "    1211,\n",
    "    1212,\n",
    "    1213,\n",
    "    1214,\n",
    "    1215,\n",
    "    1225,\n",
    "    1226,\n",
    "    1227,\n",
    "    1228,\n",
    "    1231,\n",
    "    1232,\n",
    "    1233,\n",
    "    1236,\n",
    "    1237,\n",
    "    1238,\n",
    "    1242,\n",
    "    1245,\n",
    "    1246,\n",
    "    1252,\n",
    "    1253,\n",
    "    1260,\n",
    "    1261,\n",
    "    1262,\n",
    "    1263,\n",
    "    1266,\n",
    "    1267,\n",
    "    1268,\n",
    "    1269,\n",
    "    1270,\n",
    "    1271,\n",
    "    1272,\n",
    "    1273,\n",
    "    1274,\n",
    "    1275,\n",
    "    1276,\n",
    "    1277,\n",
    "    1278,\n",
    "    1279,\n",
    "}\n",
    "for i in range(295):\n",
    "    if (i + 1000) not in remove:\n",
    "        files.append(f\"/project/dinner/scguo/anton-old/xtc1000ns/civsd-{i}.xtc\")\n",
    "for i in range(3, 82):\n",
    "    files.append(f\"/project/dinner/scguo/ci-vsd/anton2/prot/civsd.prot.{i}.xtc\")\n",
    "for i in range(83, 119):\n",
    "    files.append(f\"/project/dinner/scguo/ci-vsd/anton2/prot/civsd.prot.{i}.xtc\")"
   ]
  },
  {
   "cell_type": "code",
   "execution_count": 33,
   "metadata": {},
   "outputs": [
    {
     "name": "stderr",
     "output_type": "stream",
     "text": [
      "100%|██████████| 352/352 [01:42<00:00,  3.44it/s]                     \n",
      "100%|██████████| 32729/32729 [09:36<00:00, 56.81it/s]                                 \n"
     ]
    }
   ],
   "source": [
    "feat6_raw = pyemma.coordinates.load(files, features=feat6, chunksize=128)"
   ]
  },
  {
   "cell_type": "code",
   "execution_count": 34,
   "metadata": {},
   "outputs": [
    {
     "data": {
      "text/plain": [
       "352"
      ]
     },
     "execution_count": 34,
     "metadata": {},
     "output_type": "execute_result"
    }
   ],
   "source": [
    "len(feat6_raw)"
   ]
  },
  {
   "cell_type": "code",
   "execution_count": 35,
   "metadata": {},
   "outputs": [
    {
     "name": "stderr",
     "output_type": "stream",
     "text": [
      "/project/dinner/scguo/anaconda3/envs/py39/lib/python3.9/site-packages/numpy/lib/npyio.py:528: VisibleDeprecationWarning: Creating an ndarray from ragged nested sequences (which is a list-or-tuple of lists-or-tuples-or ndarrays with different lengths or shapes) is deprecated. If you meant to do this, you must specify 'dtype=object' when creating the ndarray.\n",
      "  arr = np.asanyarray(arr)\n"
     ]
    }
   ],
   "source": [
    "np.save(\"../../data/raw_feat/feat6_old.npy\", feat6_raw[:237])\n",
    "np.save(\"../../data/raw_feat/feat6_anton2.npy\", feat6_raw[237:])"
   ]
  },
  {
   "cell_type": "code",
   "execution_count": null,
   "metadata": {},
   "outputs": [],
   "source": []
  }
 ],
 "metadata": {
  "kernelspec": {
   "display_name": "Python 3 (ipykernel)",
   "language": "python",
   "name": "python3"
  },
  "language_info": {
   "codemirror_mode": {
    "name": "ipython",
    "version": 3
   },
   "file_extension": ".py",
   "mimetype": "text/x-python",
   "name": "python",
   "nbconvert_exporter": "python",
   "pygments_lexer": "ipython3",
   "version": "3.9.9"
  }
 },
 "nbformat": 4,
 "nbformat_minor": 4
}
